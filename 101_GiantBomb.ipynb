{
 "cells": [
  {
   "cell_type": "markdown",
   "metadata": {},
   "source": [
    "# Getting Game Franchises from Giantbomb"
   ]
  },
  {
   "cell_type": "markdown",
   "metadata": {},
   "source": [
    "We can get the data for game franchises from Giantbomb. My api key is f2577eac7f52b72170fc1e8c5f0cebb778f38155"
   ]
  },
  {
   "cell_type": "markdown",
   "metadata": {},
   "source": [
    "*Note that throughout the notebook we save backups of the data to csv, to avoid redownloading it. The code to reload the dataframe is commented out after the line where we save the backup. It's possible to simply skip to these parts and load the relevant dataframe from the csv, rather than doing the API download.*"
   ]
  },
  {
   "cell_type": "code",
   "execution_count": 1,
   "metadata": {},
   "outputs": [],
   "source": [
    "import requests\n",
    "import json\n",
    "import pandas as pd\n",
    "from pathlib import Path\n",
    "import time\n",
    "import os"
   ]
  },
  {
   "cell_type": "markdown",
   "metadata": {},
   "source": [
    "## Scraping franchise IDs"
   ]
  },
  {
   "cell_type": "markdown",
   "metadata": {},
   "source": [
    "Create the directory to store the raw info"
   ]
  },
  {
   "cell_type": "code",
   "execution_count": 2,
   "metadata": {},
   "outputs": [],
   "source": [
    "franchises_dir = Path('raw_data\\\\raw_json\\\\game_franchises\\\\franchises')\n",
    "franchises_dir.mkdir(parents=True, exist_ok=True)"
   ]
  },
  {
   "cell_type": "markdown",
   "metadata": {},
   "source": [
    "Get all the data from the franchise ids and save as json files"
   ]
  },
  {
   "cell_type": "code",
   "execution_count": null,
   "metadata": {},
   "outputs": [],
   "source": [
    "user_agent = \"Joshdharris\"\n",
    "headers = {'User-Agent': user_agent}\n",
    "\n",
    "for x in range(0, 5550, 100):\n",
    "    filename = \"page{}-{}.json\".format(x, x+99)\n",
    "    if not Path(franchises_dir, filename).is_file():\n",
    "        url = \"https://www.giantbomb.com/api/franchises/?api_key=f2577eac7f52b72170fc1e8c5f0cebb778f38155&format=json&field_list=guid,name,description&offset={}\".format(x)\n",
    "        response = json.loads((requests.get(url, headers=headers)).content)\n",
    "        with open(Path(franchises_dir, filename), \"w\") as fileOut:\n",
    "            json.dump(response, fileOut)"
   ]
  },
  {
   "cell_type": "markdown",
   "metadata": {},
   "source": [
    "This function will be used multiple times for the raw json files. Here we create an empty dataframe, then open all the json files in a specified directory and add them to the dataframe, before returning the dataframe"
   ]
  },
  {
   "cell_type": "code",
   "execution_count": 3,
   "metadata": {},
   "outputs": [],
   "source": [
    "def create_dataframe(desired_name, raw_directory, add_path):\n",
    "    #Create empty dataframe\n",
    "    desired_name = pd.DataFrame(data=[], columns=None)\n",
    "\n",
    "    #This line creates a list of all the json files in the directory\n",
    "    files = list(Path(raw_directory).glob('*.json'))\n",
    "    \n",
    "    #Iterate through all json files in directory and add to dataframe\n",
    "    for file in files:\n",
    "        with open(file) as filein:\n",
    "            tempDF = pd.read_json(filein)\n",
    "            # For some of the dataframes, we need the path info. \n",
    "            if add_path == True:\n",
    "                tempDF[\"path\"] = str(file)\n",
    "            desired_name = pd.concat([desired_name, tempDF])  \n",
    "    return desired_name"
   ]
  },
  {
   "cell_type": "markdown",
   "metadata": {},
   "source": [
    "Collate all the downloaded files into a single dataframe"
   ]
  },
  {
   "cell_type": "code",
   "execution_count": 4,
   "metadata": {
    "scrolled": false
   },
   "outputs": [
    {
     "data": {
      "text/html": [
       "<div>\n",
       "<style scoped>\n",
       "    .dataframe tbody tr th:only-of-type {\n",
       "        vertical-align: middle;\n",
       "    }\n",
       "\n",
       "    .dataframe tbody tr th {\n",
       "        vertical-align: top;\n",
       "    }\n",
       "\n",
       "    .dataframe thead th {\n",
       "        text-align: right;\n",
       "    }\n",
       "</style>\n",
       "<table border=\"1\" class=\"dataframe\">\n",
       "  <thead>\n",
       "    <tr style=\"text-align: right;\">\n",
       "      <th></th>\n",
       "      <th>error</th>\n",
       "      <th>limit</th>\n",
       "      <th>offset</th>\n",
       "      <th>number_of_page_results</th>\n",
       "      <th>number_of_total_results</th>\n",
       "      <th>status_code</th>\n",
       "      <th>results</th>\n",
       "      <th>version</th>\n",
       "    </tr>\n",
       "  </thead>\n",
       "  <tbody>\n",
       "    <tr>\n",
       "      <th>54</th>\n",
       "      <td>OK</td>\n",
       "      <td>100</td>\n",
       "      <td>2900</td>\n",
       "      <td>100</td>\n",
       "      <td>5524</td>\n",
       "      <td>1</td>\n",
       "      <td>{'description': None, 'guid': '3025-3090', 'na...</td>\n",
       "      <td>1</td>\n",
       "    </tr>\n",
       "  </tbody>\n",
       "</table>\n",
       "</div>"
      ],
      "text/plain": [
       "   error  limit  offset  number_of_page_results  number_of_total_results  \\\n",
       "54    OK    100    2900                     100                     5524   \n",
       "\n",
       "    status_code                                            results  version  \n",
       "54            1  {'description': None, 'guid': '3025-3090', 'na...        1  "
      ]
     },
     "execution_count": 4,
     "metadata": {},
     "output_type": "execute_result"
    }
   ],
   "source": [
    "franchise_ids = create_dataframe(\"franchise_ids\", franchises_dir, False)\n",
    "franchise_ids.sample()"
   ]
  },
  {
   "cell_type": "code",
   "execution_count": 5,
   "metadata": {},
   "outputs": [
    {
     "data": {
      "text/plain": [
       "(5524, 8)"
      ]
     },
     "execution_count": 5,
     "metadata": {},
     "output_type": "execute_result"
    }
   ],
   "source": [
    "franchise_ids.shape"
   ]
  },
  {
   "cell_type": "markdown",
   "metadata": {},
   "source": [
    "Remove unnecessary rows. Again, create a function as it's used multiple times"
   ]
  },
  {
   "cell_type": "code",
   "execution_count": 6,
   "metadata": {
    "scrolled": true
   },
   "outputs": [],
   "source": [
    "def drop_unnecessary_columns(dataframe):\n",
    "    dataframe = dataframe.drop([\"error\",\"limit\", \"offset\", \"number_of_page_results\", \"number_of_total_results\", \"status_code\", \"version\"], axis = 1)\n",
    "    return dataframe"
   ]
  },
  {
   "cell_type": "code",
   "execution_count": 7,
   "metadata": {},
   "outputs": [
    {
     "data": {
      "text/plain": [
       "(5524, 1)"
      ]
     },
     "execution_count": 7,
     "metadata": {},
     "output_type": "execute_result"
    }
   ],
   "source": [
    "franchise_ids = drop_unnecessary_columns(franchise_ids)\n",
    "franchise_ids.shape"
   ]
  },
  {
   "cell_type": "markdown",
   "metadata": {},
   "source": [
    "Extract information from results"
   ]
  },
  {
   "cell_type": "code",
   "execution_count": 8,
   "metadata": {},
   "outputs": [],
   "source": [
    "franchise_ids[\"guid\"] = [d.get('guid') for d in franchise_ids.results]\n",
    "franchise_ids[\"name\"] = [d.get('name') for d in franchise_ids.results]\n",
    "franchise_ids[\"description\"] = [d.get('description') for d in franchise_ids.results]"
   ]
  },
  {
   "cell_type": "markdown",
   "metadata": {},
   "source": [
    "Get list of all franchise ids."
   ]
  },
  {
   "cell_type": "code",
   "execution_count": 9,
   "metadata": {},
   "outputs": [
    {
     "name": "stdout",
     "output_type": "stream",
     "text": [
      "5524\n"
     ]
    }
   ],
   "source": [
    "franchise_id_list = franchise_ids[\"guid\"].tolist()\n",
    "print(len(franchise_id_list))"
   ]
  },
  {
   "cell_type": "markdown",
   "metadata": {},
   "source": [
    "Make sure we have no duplicates of the ids"
   ]
  },
  {
   "cell_type": "code",
   "execution_count": 10,
   "metadata": {},
   "outputs": [
    {
     "data": {
      "text/plain": [
       "0"
      ]
     },
     "execution_count": 10,
     "metadata": {},
     "output_type": "execute_result"
    }
   ],
   "source": [
    "franchise_ids.guid.duplicated().sum()"
   ]
  },
  {
   "cell_type": "markdown",
   "metadata": {},
   "source": [
    "Check out the resultant dataframe"
   ]
  },
  {
   "cell_type": "code",
   "execution_count": 11,
   "metadata": {
    "scrolled": true
   },
   "outputs": [
    {
     "data": {
      "text/html": [
       "<div>\n",
       "<style scoped>\n",
       "    .dataframe tbody tr th:only-of-type {\n",
       "        vertical-align: middle;\n",
       "    }\n",
       "\n",
       "    .dataframe tbody tr th {\n",
       "        vertical-align: top;\n",
       "    }\n",
       "\n",
       "    .dataframe thead th {\n",
       "        text-align: right;\n",
       "    }\n",
       "</style>\n",
       "<table border=\"1\" class=\"dataframe\">\n",
       "  <thead>\n",
       "    <tr style=\"text-align: right;\">\n",
       "      <th></th>\n",
       "      <th>results</th>\n",
       "      <th>guid</th>\n",
       "      <th>name</th>\n",
       "      <th>description</th>\n",
       "    </tr>\n",
       "  </thead>\n",
       "  <tbody>\n",
       "    <tr>\n",
       "      <th>34</th>\n",
       "      <td>{'description': None, 'guid': '3025-1177', 'na...</td>\n",
       "      <td>3025-1177</td>\n",
       "      <td>UMS</td>\n",
       "      <td>None</td>\n",
       "    </tr>\n",
       "  </tbody>\n",
       "</table>\n",
       "</div>"
      ],
      "text/plain": [
       "                                              results       guid name  \\\n",
       "34  {'description': None, 'guid': '3025-1177', 'na...  3025-1177  UMS   \n",
       "\n",
       "   description  \n",
       "34        None  "
      ]
     },
     "execution_count": 11,
     "metadata": {},
     "output_type": "execute_result"
    }
   ],
   "source": [
    "franchise_ids.sample()"
   ]
  },
  {
   "cell_type": "markdown",
   "metadata": {},
   "source": [
    "Now that we've extracted all the information from the results column, we can drop it."
   ]
  },
  {
   "cell_type": "code",
   "execution_count": 12,
   "metadata": {},
   "outputs": [
    {
     "data": {
      "text/html": [
       "<div>\n",
       "<style scoped>\n",
       "    .dataframe tbody tr th:only-of-type {\n",
       "        vertical-align: middle;\n",
       "    }\n",
       "\n",
       "    .dataframe tbody tr th {\n",
       "        vertical-align: top;\n",
       "    }\n",
       "\n",
       "    .dataframe thead th {\n",
       "        text-align: right;\n",
       "    }\n",
       "</style>\n",
       "<table border=\"1\" class=\"dataframe\">\n",
       "  <thead>\n",
       "    <tr style=\"text-align: right;\">\n",
       "      <th></th>\n",
       "      <th>guid</th>\n",
       "      <th>name</th>\n",
       "      <th>description</th>\n",
       "    </tr>\n",
       "  </thead>\n",
       "  <tbody>\n",
       "    <tr>\n",
       "      <th>22</th>\n",
       "      <td>3025-2020</td>\n",
       "      <td>Robot Unicorn Attack</td>\n",
       "      <td>&lt;p&gt;The Robot Unicorn Attacks are &lt;a data-ref-i...</td>\n",
       "    </tr>\n",
       "  </tbody>\n",
       "</table>\n",
       "</div>"
      ],
      "text/plain": [
       "         guid                  name  \\\n",
       "22  3025-2020  Robot Unicorn Attack   \n",
       "\n",
       "                                          description  \n",
       "22  <p>The Robot Unicorn Attacks are <a data-ref-i...  "
      ]
     },
     "execution_count": 12,
     "metadata": {},
     "output_type": "execute_result"
    }
   ],
   "source": [
    "franchise_ids = franchise_ids.drop(\"results\", axis = 1)\n",
    "franchise_ids.sample()"
   ]
  },
  {
   "cell_type": "markdown",
   "metadata": {},
   "source": [
    "Finally, we can save the data to a csv file. This way we can reload it if we encounter any issues later on rather than redownloading the data"
   ]
  },
  {
   "cell_type": "code",
   "execution_count": 14,
   "metadata": {},
   "outputs": [],
   "source": [
    "giantbomb_dir = Path(\"raw_data\\\\giantbomb_data\")\n",
    "giantbomb_dir.mkdir(parents = True, exist_ok=True)"
   ]
  },
  {
   "cell_type": "code",
   "execution_count": 15,
   "metadata": {},
   "outputs": [],
   "source": [
    "franchise_ids.to_csv(\"raw_data\\\\giantbomb_data\\\\franchise_ids.csv\")"
   ]
  },
  {
   "cell_type": "code",
   "execution_count": 17,
   "metadata": {},
   "outputs": [],
   "source": [
    "#If necessary, uncomment out the following line of code to load the dataframe from the csv file\n",
    "#franchise_ids = pd.read_csv(\"raw_data\\\\giantbomb_data\\\\franchise_ids.csv\", index_col = 0)"
   ]
  },
  {
   "cell_type": "markdown",
   "metadata": {},
   "source": [
    "## Scraping game IDs"
   ]
  },
  {
   "cell_type": "markdown",
   "metadata": {},
   "source": [
    "Create directory for game franchises"
   ]
  },
  {
   "cell_type": "code",
   "execution_count": 60,
   "metadata": {},
   "outputs": [],
   "source": [
    "games_dir = Path('raw_data\\\\raw_json\\\\game_franchises\\\\games')\n",
    "games_dir.mkdir(parents=True, exist_ok=True)"
   ]
  },
  {
   "cell_type": "markdown",
   "metadata": {},
   "source": [
    "Download json files for each franchise. We have a cap of 200 requests an hour, hence we're using a time restriction within the loop to prevent the api from blocking us."
   ]
  },
  {
   "cell_type": "code",
   "execution_count": null,
   "metadata": {},
   "outputs": [],
   "source": [
    "for id in franchise_id_list:\n",
    "    filename = \"{}.json\".format(id)\n",
    "    if not Path(games_dir, filename).is_file():\n",
    "        url = \"https://www.giantbomb.com/api/franchise/{}/?api_key=f2577eac7f52b72170fc1e8c5f0cebb778f38155&format=json&field_list=games\".format(id)\n",
    "        response = json.loads((requests.get(url, headers=headers)).content)\n",
    "        with open(Path(games_dir, filename), \"w\") as fileOut:\n",
    "            json.dump(response, fileOut)\n",
    "        time.sleep(18)"
   ]
  },
  {
   "cell_type": "markdown",
   "metadata": {},
   "source": [
    "Create a games dataframe from all the games in the directory"
   ]
  },
  {
   "cell_type": "code",
   "execution_count": 61,
   "metadata": {
    "scrolled": true
   },
   "outputs": [
    {
     "data": {
      "text/html": [
       "<div>\n",
       "<style scoped>\n",
       "    .dataframe tbody tr th:only-of-type {\n",
       "        vertical-align: middle;\n",
       "    }\n",
       "\n",
       "    .dataframe tbody tr th {\n",
       "        vertical-align: top;\n",
       "    }\n",
       "\n",
       "    .dataframe thead th {\n",
       "        text-align: right;\n",
       "    }\n",
       "</style>\n",
       "<table border=\"1\" class=\"dataframe\">\n",
       "  <thead>\n",
       "    <tr style=\"text-align: right;\">\n",
       "      <th></th>\n",
       "      <th>error</th>\n",
       "      <th>limit</th>\n",
       "      <th>offset</th>\n",
       "      <th>number_of_page_results</th>\n",
       "      <th>number_of_total_results</th>\n",
       "      <th>status_code</th>\n",
       "      <th>results</th>\n",
       "      <th>version</th>\n",
       "      <th>path</th>\n",
       "    </tr>\n",
       "  </thead>\n",
       "  <tbody>\n",
       "    <tr>\n",
       "      <th>games</th>\n",
       "      <td>OK</td>\n",
       "      <td>1</td>\n",
       "      <td>0</td>\n",
       "      <td>1</td>\n",
       "      <td>1</td>\n",
       "      <td>1</td>\n",
       "      <td>[{'api_detail_url': 'https://www.giantbomb.com...</td>\n",
       "      <td>1</td>\n",
       "      <td>raw_data\\raw_json\\game_franchises\\games\\3025-4...</td>\n",
       "    </tr>\n",
       "  </tbody>\n",
       "</table>\n",
       "</div>"
      ],
      "text/plain": [
       "      error  limit  offset  number_of_page_results  number_of_total_results  \\\n",
       "games    OK      1       0                       1                        1   \n",
       "\n",
       "       status_code                                            results  \\\n",
       "games            1  [{'api_detail_url': 'https://www.giantbomb.com...   \n",
       "\n",
       "       version                                               path  \n",
       "games        1  raw_data\\raw_json\\game_franchises\\games\\3025-4...  "
      ]
     },
     "execution_count": 61,
     "metadata": {},
     "output_type": "execute_result"
    }
   ],
   "source": [
    "games_ids = create_dataframe(\"games_ids\", games_dir, True)\n",
    "games_ids.sample()"
   ]
  },
  {
   "cell_type": "markdown",
   "metadata": {},
   "source": [
    "Edit the path column. This will be called franchise_id and we want to extract just the franchise id from the relevant path"
   ]
  },
  {
   "cell_type": "code",
   "execution_count": 62,
   "metadata": {
    "scrolled": true
   },
   "outputs": [
    {
     "data": {
      "text/html": [
       "<div>\n",
       "<style scoped>\n",
       "    .dataframe tbody tr th:only-of-type {\n",
       "        vertical-align: middle;\n",
       "    }\n",
       "\n",
       "    .dataframe tbody tr th {\n",
       "        vertical-align: top;\n",
       "    }\n",
       "\n",
       "    .dataframe thead th {\n",
       "        text-align: right;\n",
       "    }\n",
       "</style>\n",
       "<table border=\"1\" class=\"dataframe\">\n",
       "  <thead>\n",
       "    <tr style=\"text-align: right;\">\n",
       "      <th></th>\n",
       "      <th>error</th>\n",
       "      <th>limit</th>\n",
       "      <th>offset</th>\n",
       "      <th>number_of_page_results</th>\n",
       "      <th>number_of_total_results</th>\n",
       "      <th>status_code</th>\n",
       "      <th>results</th>\n",
       "      <th>version</th>\n",
       "      <th>franchise_id</th>\n",
       "    </tr>\n",
       "  </thead>\n",
       "  <tbody>\n",
       "    <tr>\n",
       "      <th>games</th>\n",
       "      <td>OK</td>\n",
       "      <td>1</td>\n",
       "      <td>0</td>\n",
       "      <td>1</td>\n",
       "      <td>1</td>\n",
       "      <td>1</td>\n",
       "      <td>[{'api_detail_url': 'https://www.giantbomb.com...</td>\n",
       "      <td>1</td>\n",
       "      <td>3025-1</td>\n",
       "    </tr>\n",
       "    <tr>\n",
       "      <th>games</th>\n",
       "      <td>OK</td>\n",
       "      <td>1</td>\n",
       "      <td>0</td>\n",
       "      <td>1</td>\n",
       "      <td>1</td>\n",
       "      <td>1</td>\n",
       "      <td>[{'api_detail_url': 'https://www.giantbomb.com...</td>\n",
       "      <td>1</td>\n",
       "      <td>3025-10</td>\n",
       "    </tr>\n",
       "    <tr>\n",
       "      <th>games</th>\n",
       "      <td>OK</td>\n",
       "      <td>1</td>\n",
       "      <td>0</td>\n",
       "      <td>1</td>\n",
       "      <td>1</td>\n",
       "      <td>1</td>\n",
       "      <td>[{'api_detail_url': 'https://www.giantbomb.com...</td>\n",
       "      <td>1</td>\n",
       "      <td>3025-100</td>\n",
       "    </tr>\n",
       "    <tr>\n",
       "      <th>games</th>\n",
       "      <td>OK</td>\n",
       "      <td>1</td>\n",
       "      <td>0</td>\n",
       "      <td>1</td>\n",
       "      <td>1</td>\n",
       "      <td>1</td>\n",
       "      <td>[{'api_detail_url': 'https://www.giantbomb.com...</td>\n",
       "      <td>1</td>\n",
       "      <td>3025-101</td>\n",
       "    </tr>\n",
       "    <tr>\n",
       "      <th>games</th>\n",
       "      <td>OK</td>\n",
       "      <td>1</td>\n",
       "      <td>0</td>\n",
       "      <td>1</td>\n",
       "      <td>1</td>\n",
       "      <td>1</td>\n",
       "      <td>[{'api_detail_url': 'https://www.giantbomb.com...</td>\n",
       "      <td>1</td>\n",
       "      <td>3025-102</td>\n",
       "    </tr>\n",
       "    <tr>\n",
       "      <th>...</th>\n",
       "      <td>...</td>\n",
       "      <td>...</td>\n",
       "      <td>...</td>\n",
       "      <td>...</td>\n",
       "      <td>...</td>\n",
       "      <td>...</td>\n",
       "      <td>...</td>\n",
       "      <td>...</td>\n",
       "      <td>...</td>\n",
       "    </tr>\n",
       "    <tr>\n",
       "      <th>games</th>\n",
       "      <td>OK</td>\n",
       "      <td>1</td>\n",
       "      <td>0</td>\n",
       "      <td>1</td>\n",
       "      <td>1</td>\n",
       "      <td>1</td>\n",
       "      <td>[{'api_detail_url': 'https://www.giantbomb.com...</td>\n",
       "      <td>1</td>\n",
       "      <td>3025-94</td>\n",
       "    </tr>\n",
       "    <tr>\n",
       "      <th>games</th>\n",
       "      <td>OK</td>\n",
       "      <td>1</td>\n",
       "      <td>0</td>\n",
       "      <td>1</td>\n",
       "      <td>1</td>\n",
       "      <td>1</td>\n",
       "      <td>[{'api_detail_url': 'https://www.giantbomb.com...</td>\n",
       "      <td>1</td>\n",
       "      <td>3025-95</td>\n",
       "    </tr>\n",
       "    <tr>\n",
       "      <th>games</th>\n",
       "      <td>OK</td>\n",
       "      <td>1</td>\n",
       "      <td>0</td>\n",
       "      <td>1</td>\n",
       "      <td>1</td>\n",
       "      <td>1</td>\n",
       "      <td>[{'api_detail_url': 'https://www.giantbomb.com...</td>\n",
       "      <td>1</td>\n",
       "      <td>3025-97</td>\n",
       "    </tr>\n",
       "    <tr>\n",
       "      <th>games</th>\n",
       "      <td>OK</td>\n",
       "      <td>1</td>\n",
       "      <td>0</td>\n",
       "      <td>1</td>\n",
       "      <td>1</td>\n",
       "      <td>1</td>\n",
       "      <td>[{'api_detail_url': 'https://www.giantbomb.com...</td>\n",
       "      <td>1</td>\n",
       "      <td>3025-98</td>\n",
       "    </tr>\n",
       "    <tr>\n",
       "      <th>games</th>\n",
       "      <td>OK</td>\n",
       "      <td>1</td>\n",
       "      <td>0</td>\n",
       "      <td>1</td>\n",
       "      <td>1</td>\n",
       "      <td>1</td>\n",
       "      <td>[{'api_detail_url': 'https://www.giantbomb.com...</td>\n",
       "      <td>1</td>\n",
       "      <td>3025-99</td>\n",
       "    </tr>\n",
       "  </tbody>\n",
       "</table>\n",
       "<p>5341 rows × 9 columns</p>\n",
       "</div>"
      ],
      "text/plain": [
       "      error  limit  offset  number_of_page_results  number_of_total_results  \\\n",
       "games    OK      1       0                       1                        1   \n",
       "games    OK      1       0                       1                        1   \n",
       "games    OK      1       0                       1                        1   \n",
       "games    OK      1       0                       1                        1   \n",
       "games    OK      1       0                       1                        1   \n",
       "...     ...    ...     ...                     ...                      ...   \n",
       "games    OK      1       0                       1                        1   \n",
       "games    OK      1       0                       1                        1   \n",
       "games    OK      1       0                       1                        1   \n",
       "games    OK      1       0                       1                        1   \n",
       "games    OK      1       0                       1                        1   \n",
       "\n",
       "       status_code                                            results  \\\n",
       "games            1  [{'api_detail_url': 'https://www.giantbomb.com...   \n",
       "games            1  [{'api_detail_url': 'https://www.giantbomb.com...   \n",
       "games            1  [{'api_detail_url': 'https://www.giantbomb.com...   \n",
       "games            1  [{'api_detail_url': 'https://www.giantbomb.com...   \n",
       "games            1  [{'api_detail_url': 'https://www.giantbomb.com...   \n",
       "...            ...                                                ...   \n",
       "games            1  [{'api_detail_url': 'https://www.giantbomb.com...   \n",
       "games            1  [{'api_detail_url': 'https://www.giantbomb.com...   \n",
       "games            1  [{'api_detail_url': 'https://www.giantbomb.com...   \n",
       "games            1  [{'api_detail_url': 'https://www.giantbomb.com...   \n",
       "games            1  [{'api_detail_url': 'https://www.giantbomb.com...   \n",
       "\n",
       "       version franchise_id  \n",
       "games        1       3025-1  \n",
       "games        1      3025-10  \n",
       "games        1     3025-100  \n",
       "games        1     3025-101  \n",
       "games        1     3025-102  \n",
       "...        ...          ...  \n",
       "games        1      3025-94  \n",
       "games        1      3025-95  \n",
       "games        1      3025-97  \n",
       "games        1      3025-98  \n",
       "games        1      3025-99  \n",
       "\n",
       "[5341 rows x 9 columns]"
      ]
     },
     "execution_count": 62,
     "metadata": {},
     "output_type": "execute_result"
    }
   ],
   "source": [
    "# Note there that the lambda function is dependant on the path name. We're removing the first 40 characters which have the \n",
    "# directory information, and the last 5 (which have .json).\n",
    "games_ids[\"path\"] = games_ids[\"path\"].apply(lambda x : x[40:-5])\n",
    "games_ids = games_ids.rename(columns = {\"path\":\"franchise_id\"})\n",
    "games_ids"
   ]
  },
  {
   "cell_type": "markdown",
   "metadata": {},
   "source": [
    "### Retrieving missing values"
   ]
  },
  {
   "cell_type": "markdown",
   "metadata": {},
   "source": [
    "For some reason we have only 5346 results, but 5524 franchise ids. This is, we discovered, because the api is a little buggy. For some reason, having the field-list restriction on returns an empty result for the missing apis, so the workaround is to download all the information and extract the game information from that. We'll first get a list of all the game franchises that are missing"
   ]
  },
  {
   "cell_type": "code",
   "execution_count": 63,
   "metadata": {},
   "outputs": [
    {
     "name": "stdout",
     "output_type": "stream",
     "text": [
      "183\n"
     ]
    }
   ],
   "source": [
    "# Lists all json files in directory\n",
    "games_in_dir = os.listdir(games_dir)\n",
    "# Removes .json extension from names\n",
    "for i in range(len(games_in_dir)):\n",
    "    games_in_dir[i] = games_in_dir[i][:-5]\n",
    "# Creates a new list of all the games in the franchise list, but not in the directory\n",
    "missing_apis = [x for x in franchise_id_list if x not in games_in_dir]\n",
    "# Check number of missing files\n",
    "print(len(missing_apis))"
   ]
  },
  {
   "cell_type": "markdown",
   "metadata": {},
   "source": [
    "We'll put the missing files into a separate directory and make a separate dataframe so we don't mess up anything with the current dataframe"
   ]
  },
  {
   "cell_type": "code",
   "execution_count": 64,
   "metadata": {},
   "outputs": [],
   "source": [
    "missing_games_dir = Path('raw_data\\\\raw_json\\\\game_franchises\\\\games\\\\missing')\n",
    "missing_games_dir.mkdir(parents=True, exist_ok=True)"
   ]
  },
  {
   "cell_type": "code",
   "execution_count": 28,
   "metadata": {},
   "outputs": [],
   "source": [
    "for id in missing_apis:\n",
    "    filename = \"{}.json\".format(id)\n",
    "    if not Path(missing_games_dir, filename).is_file():\n",
    "        url = \"https://www.giantbomb.com/api/franchise/{}/?api_key=f2577eac7f52b72170fc1e8c5f0cebb778f38155&format=json\".format(id)\n",
    "        response = json.loads((requests.get(url, headers=headers)).content)\n",
    "        with open(Path(missing_games_dir, filename), \"w\") as fileOut:\n",
    "            json.dump(response, fileOut)"
   ]
  },
  {
   "cell_type": "code",
   "execution_count": 65,
   "metadata": {},
   "outputs": [
    {
     "data": {
      "text/html": [
       "<div>\n",
       "<style scoped>\n",
       "    .dataframe tbody tr th:only-of-type {\n",
       "        vertical-align: middle;\n",
       "    }\n",
       "\n",
       "    .dataframe tbody tr th {\n",
       "        vertical-align: top;\n",
       "    }\n",
       "\n",
       "    .dataframe thead th {\n",
       "        text-align: right;\n",
       "    }\n",
       "</style>\n",
       "<table border=\"1\" class=\"dataframe\">\n",
       "  <thead>\n",
       "    <tr style=\"text-align: right;\">\n",
       "      <th></th>\n",
       "      <th>error</th>\n",
       "      <th>limit</th>\n",
       "      <th>offset</th>\n",
       "      <th>number_of_page_results</th>\n",
       "      <th>number_of_total_results</th>\n",
       "      <th>status_code</th>\n",
       "      <th>results</th>\n",
       "      <th>version</th>\n",
       "      <th>path</th>\n",
       "    </tr>\n",
       "  </thead>\n",
       "  <tbody>\n",
       "    <tr>\n",
       "      <th>aliases</th>\n",
       "      <td>OK</td>\n",
       "      <td>1</td>\n",
       "      <td>0</td>\n",
       "      <td>1</td>\n",
       "      <td>1</td>\n",
       "      <td>1</td>\n",
       "      <td>None</td>\n",
       "      <td>1</td>\n",
       "      <td>raw_data\\raw_json\\game_franchises\\games\\missin...</td>\n",
       "    </tr>\n",
       "    <tr>\n",
       "      <th>api_detail_url</th>\n",
       "      <td>OK</td>\n",
       "      <td>1</td>\n",
       "      <td>0</td>\n",
       "      <td>1</td>\n",
       "      <td>1</td>\n",
       "      <td>1</td>\n",
       "      <td>https://www.giantbomb.com/api/franchise/3025-1...</td>\n",
       "      <td>1</td>\n",
       "      <td>raw_data\\raw_json\\game_franchises\\games\\missin...</td>\n",
       "    </tr>\n",
       "    <tr>\n",
       "      <th>characters</th>\n",
       "      <td>OK</td>\n",
       "      <td>1</td>\n",
       "      <td>0</td>\n",
       "      <td>1</td>\n",
       "      <td>1</td>\n",
       "      <td>1</td>\n",
       "      <td>[{'api_detail_url': 'https://www.giantbomb.com...</td>\n",
       "      <td>1</td>\n",
       "      <td>raw_data\\raw_json\\game_franchises\\games\\missin...</td>\n",
       "    </tr>\n",
       "    <tr>\n",
       "      <th>concepts</th>\n",
       "      <td>OK</td>\n",
       "      <td>1</td>\n",
       "      <td>0</td>\n",
       "      <td>1</td>\n",
       "      <td>1</td>\n",
       "      <td>1</td>\n",
       "      <td>[{'api_detail_url': 'https://www.giantbomb.com...</td>\n",
       "      <td>1</td>\n",
       "      <td>raw_data\\raw_json\\game_franchises\\games\\missin...</td>\n",
       "    </tr>\n",
       "    <tr>\n",
       "      <th>date_added</th>\n",
       "      <td>OK</td>\n",
       "      <td>1</td>\n",
       "      <td>0</td>\n",
       "      <td>1</td>\n",
       "      <td>1</td>\n",
       "      <td>1</td>\n",
       "      <td>2008-08-25 13:52:36</td>\n",
       "      <td>1</td>\n",
       "      <td>raw_data\\raw_json\\game_franchises\\games\\missin...</td>\n",
       "    </tr>\n",
       "    <tr>\n",
       "      <th>...</th>\n",
       "      <td>...</td>\n",
       "      <td>...</td>\n",
       "      <td>...</td>\n",
       "      <td>...</td>\n",
       "      <td>...</td>\n",
       "      <td>...</td>\n",
       "      <td>...</td>\n",
       "      <td>...</td>\n",
       "      <td>...</td>\n",
       "    </tr>\n",
       "    <tr>\n",
       "      <th>locations</th>\n",
       "      <td>OK</td>\n",
       "      <td>1</td>\n",
       "      <td>0</td>\n",
       "      <td>1</td>\n",
       "      <td>1</td>\n",
       "      <td>1</td>\n",
       "      <td>[{'api_detail_url': 'https://www.giantbomb.com...</td>\n",
       "      <td>1</td>\n",
       "      <td>raw_data\\raw_json\\game_franchises\\games\\missin...</td>\n",
       "    </tr>\n",
       "    <tr>\n",
       "      <th>name</th>\n",
       "      <td>OK</td>\n",
       "      <td>1</td>\n",
       "      <td>0</td>\n",
       "      <td>1</td>\n",
       "      <td>1</td>\n",
       "      <td>1</td>\n",
       "      <td>Shaman King</td>\n",
       "      <td>1</td>\n",
       "      <td>raw_data\\raw_json\\game_franchises\\games\\missin...</td>\n",
       "    </tr>\n",
       "    <tr>\n",
       "      <th>objects</th>\n",
       "      <td>OK</td>\n",
       "      <td>1</td>\n",
       "      <td>0</td>\n",
       "      <td>1</td>\n",
       "      <td>1</td>\n",
       "      <td>1</td>\n",
       "      <td>[{'api_detail_url': 'https://www.giantbomb.com...</td>\n",
       "      <td>1</td>\n",
       "      <td>raw_data\\raw_json\\game_franchises\\games\\missin...</td>\n",
       "    </tr>\n",
       "    <tr>\n",
       "      <th>people</th>\n",
       "      <td>OK</td>\n",
       "      <td>1</td>\n",
       "      <td>0</td>\n",
       "      <td>1</td>\n",
       "      <td>1</td>\n",
       "      <td>1</td>\n",
       "      <td>[{'api_detail_url': 'https://www.giantbomb.com...</td>\n",
       "      <td>1</td>\n",
       "      <td>raw_data\\raw_json\\game_franchises\\games\\missin...</td>\n",
       "    </tr>\n",
       "    <tr>\n",
       "      <th>site_detail_url</th>\n",
       "      <td>OK</td>\n",
       "      <td>1</td>\n",
       "      <td>0</td>\n",
       "      <td>1</td>\n",
       "      <td>1</td>\n",
       "      <td>1</td>\n",
       "      <td>https://www.giantbomb.com/shaman-king/3025-999/</td>\n",
       "      <td>1</td>\n",
       "      <td>raw_data\\raw_json\\game_franchises\\games\\missin...</td>\n",
       "    </tr>\n",
       "  </tbody>\n",
       "</table>\n",
       "<p>3294 rows × 9 columns</p>\n",
       "</div>"
      ],
      "text/plain": [
       "                error  limit  offset  number_of_page_results  \\\n",
       "aliases            OK      1       0                       1   \n",
       "api_detail_url     OK      1       0                       1   \n",
       "characters         OK      1       0                       1   \n",
       "concepts           OK      1       0                       1   \n",
       "date_added         OK      1       0                       1   \n",
       "...               ...    ...     ...                     ...   \n",
       "locations          OK      1       0                       1   \n",
       "name               OK      1       0                       1   \n",
       "objects            OK      1       0                       1   \n",
       "people             OK      1       0                       1   \n",
       "site_detail_url    OK      1       0                       1   \n",
       "\n",
       "                 number_of_total_results  status_code  \\\n",
       "aliases                                1            1   \n",
       "api_detail_url                         1            1   \n",
       "characters                             1            1   \n",
       "concepts                               1            1   \n",
       "date_added                             1            1   \n",
       "...                                  ...          ...   \n",
       "locations                              1            1   \n",
       "name                                   1            1   \n",
       "objects                                1            1   \n",
       "people                                 1            1   \n",
       "site_detail_url                        1            1   \n",
       "\n",
       "                                                           results  version  \\\n",
       "aliases                                                       None        1   \n",
       "api_detail_url   https://www.giantbomb.com/api/franchise/3025-1...        1   \n",
       "characters       [{'api_detail_url': 'https://www.giantbomb.com...        1   \n",
       "concepts         [{'api_detail_url': 'https://www.giantbomb.com...        1   \n",
       "date_added                                     2008-08-25 13:52:36        1   \n",
       "...                                                            ...      ...   \n",
       "locations        [{'api_detail_url': 'https://www.giantbomb.com...        1   \n",
       "name                                                   Shaman King        1   \n",
       "objects          [{'api_detail_url': 'https://www.giantbomb.com...        1   \n",
       "people           [{'api_detail_url': 'https://www.giantbomb.com...        1   \n",
       "site_detail_url    https://www.giantbomb.com/shaman-king/3025-999/        1   \n",
       "\n",
       "                                                              path  \n",
       "aliases          raw_data\\raw_json\\game_franchises\\games\\missin...  \n",
       "api_detail_url   raw_data\\raw_json\\game_franchises\\games\\missin...  \n",
       "characters       raw_data\\raw_json\\game_franchises\\games\\missin...  \n",
       "concepts         raw_data\\raw_json\\game_franchises\\games\\missin...  \n",
       "date_added       raw_data\\raw_json\\game_franchises\\games\\missin...  \n",
       "...                                                            ...  \n",
       "locations        raw_data\\raw_json\\game_franchises\\games\\missin...  \n",
       "name             raw_data\\raw_json\\game_franchises\\games\\missin...  \n",
       "objects          raw_data\\raw_json\\game_franchises\\games\\missin...  \n",
       "people           raw_data\\raw_json\\game_franchises\\games\\missin...  \n",
       "site_detail_url  raw_data\\raw_json\\game_franchises\\games\\missin...  \n",
       "\n",
       "[3294 rows x 9 columns]"
      ]
     },
     "execution_count": 65,
     "metadata": {},
     "output_type": "execute_result"
    }
   ],
   "source": [
    "missing_games_ids = create_dataframe(\"missing_games_ids\", missing_games_dir, True)\n",
    "missing_games_ids"
   ]
  },
  {
   "cell_type": "markdown",
   "metadata": {},
   "source": [
    "We'll remove any rows that don't contain the game listings, rename the path column and extract the games ids"
   ]
  },
  {
   "cell_type": "code",
   "execution_count": 66,
   "metadata": {},
   "outputs": [],
   "source": [
    "# Again, if the directory is changed, the relevant number in the lambda function must be changed as well\n",
    "missing_games_ids = missing_games_ids.loc[missing_games_ids.index.isin(['games'])].copy()\n",
    "missing_games_ids.loc[:, \"franchise_id\"] = missing_games_ids[\"path\"].apply(lambda x: x[48:-5])\n",
    "missing_games_ids = missing_games_ids.drop(\"path\", axis = 1)"
   ]
  },
  {
   "cell_type": "code",
   "execution_count": 67,
   "metadata": {},
   "outputs": [
    {
     "data": {
      "text/plain": [
       "(183, 9)"
      ]
     },
     "execution_count": 67,
     "metadata": {},
     "output_type": "execute_result"
    }
   ],
   "source": [
    "missing_games_ids.shape"
   ]
  },
  {
   "cell_type": "code",
   "execution_count": 68,
   "metadata": {},
   "outputs": [
    {
     "data": {
      "text/html": [
       "<div>\n",
       "<style scoped>\n",
       "    .dataframe tbody tr th:only-of-type {\n",
       "        vertical-align: middle;\n",
       "    }\n",
       "\n",
       "    .dataframe tbody tr th {\n",
       "        vertical-align: top;\n",
       "    }\n",
       "\n",
       "    .dataframe thead th {\n",
       "        text-align: right;\n",
       "    }\n",
       "</style>\n",
       "<table border=\"1\" class=\"dataframe\">\n",
       "  <thead>\n",
       "    <tr style=\"text-align: right;\">\n",
       "      <th></th>\n",
       "      <th>error</th>\n",
       "      <th>limit</th>\n",
       "      <th>offset</th>\n",
       "      <th>number_of_page_results</th>\n",
       "      <th>number_of_total_results</th>\n",
       "      <th>status_code</th>\n",
       "      <th>results</th>\n",
       "      <th>version</th>\n",
       "      <th>franchise_id</th>\n",
       "    </tr>\n",
       "  </thead>\n",
       "  <tbody>\n",
       "    <tr>\n",
       "      <th>games</th>\n",
       "      <td>OK</td>\n",
       "      <td>1</td>\n",
       "      <td>0</td>\n",
       "      <td>1</td>\n",
       "      <td>1</td>\n",
       "      <td>1</td>\n",
       "      <td>[{'api_detail_url': 'https://www.giantbomb.com...</td>\n",
       "      <td>1</td>\n",
       "      <td>3025-874</td>\n",
       "    </tr>\n",
       "  </tbody>\n",
       "</table>\n",
       "</div>"
      ],
      "text/plain": [
       "      error  limit  offset  number_of_page_results  number_of_total_results  \\\n",
       "games    OK      1       0                       1                        1   \n",
       "\n",
       "       status_code                                            results  \\\n",
       "games            1  [{'api_detail_url': 'https://www.giantbomb.com...   \n",
       "\n",
       "       version franchise_id  \n",
       "games        1     3025-874  "
      ]
     },
     "execution_count": 68,
     "metadata": {},
     "output_type": "execute_result"
    }
   ],
   "source": [
    "missing_games_ids.sample()"
   ]
  },
  {
   "cell_type": "markdown",
   "metadata": {},
   "source": [
    "Finally, we'll combine our two dataframes to reintegrate the missing values into our original dataframe"
   ]
  },
  {
   "cell_type": "code",
   "execution_count": 69,
   "metadata": {},
   "outputs": [
    {
     "data": {
      "text/plain": [
       "5524"
      ]
     },
     "execution_count": 69,
     "metadata": {},
     "output_type": "execute_result"
    }
   ],
   "source": [
    "games_ids = pd.concat([games_ids, missing_games_ids])\n",
    "games_ids.franchise_id.count()"
   ]
  },
  {
   "cell_type": "markdown",
   "metadata": {},
   "source": [
    "And we can now see we have all the values we expected. We'll delete the missing_games_ids dataframe to save on memory"
   ]
  },
  {
   "cell_type": "code",
   "execution_count": 70,
   "metadata": {},
   "outputs": [],
   "source": [
    "del missing_games_ids"
   ]
  },
  {
   "cell_type": "markdown",
   "metadata": {},
   "source": [
    "### Working with the combined dataframe"
   ]
  },
  {
   "cell_type": "markdown",
   "metadata": {},
   "source": [
    "Remove the unnecessary columns, so we're jsut left with results and franchise ids."
   ]
  },
  {
   "cell_type": "code",
   "execution_count": 71,
   "metadata": {
    "scrolled": false
   },
   "outputs": [
    {
     "data": {
      "text/html": [
       "<div>\n",
       "<style scoped>\n",
       "    .dataframe tbody tr th:only-of-type {\n",
       "        vertical-align: middle;\n",
       "    }\n",
       "\n",
       "    .dataframe tbody tr th {\n",
       "        vertical-align: top;\n",
       "    }\n",
       "\n",
       "    .dataframe thead th {\n",
       "        text-align: right;\n",
       "    }\n",
       "</style>\n",
       "<table border=\"1\" class=\"dataframe\">\n",
       "  <thead>\n",
       "    <tr style=\"text-align: right;\">\n",
       "      <th></th>\n",
       "      <th>results</th>\n",
       "      <th>franchise_id</th>\n",
       "    </tr>\n",
       "  </thead>\n",
       "  <tbody>\n",
       "    <tr>\n",
       "      <th>games</th>\n",
       "      <td>[{'api_detail_url': 'https://www.giantbomb.com...</td>\n",
       "      <td>3025-5446</td>\n",
       "    </tr>\n",
       "  </tbody>\n",
       "</table>\n",
       "</div>"
      ],
      "text/plain": [
       "                                                 results franchise_id\n",
       "games  [{'api_detail_url': 'https://www.giantbomb.com...    3025-5446"
      ]
     },
     "execution_count": 71,
     "metadata": {},
     "output_type": "execute_result"
    }
   ],
   "source": [
    "games_ids = drop_unnecessary_columns(games_ids)\n",
    "games_ids.sample()"
   ]
  },
  {
   "cell_type": "markdown",
   "metadata": {},
   "source": [
    "Explode the results so every game has its own row"
   ]
  },
  {
   "cell_type": "code",
   "execution_count": 72,
   "metadata": {
    "scrolled": true
   },
   "outputs": [
    {
     "data": {
      "text/plain": [
       "results         35117\n",
       "franchise_id    35139\n",
       "dtype: int64"
      ]
     },
     "execution_count": 72,
     "metadata": {},
     "output_type": "execute_result"
    }
   ],
   "source": [
    "games_ids = games_ids.explode(\"results\")\n",
    "games_ids.count()"
   ]
  },
  {
   "cell_type": "markdown",
   "metadata": {},
   "source": [
    "We have some empty results so we'll drop those before moving on"
   ]
  },
  {
   "cell_type": "code",
   "execution_count": 73,
   "metadata": {},
   "outputs": [
    {
     "data": {
      "text/plain": [
       "results         35117\n",
       "franchise_id    35117\n",
       "dtype: int64"
      ]
     },
     "execution_count": 73,
     "metadata": {},
     "output_type": "execute_result"
    }
   ],
   "source": [
    "games_ids = games_ids.dropna()\n",
    "games_ids.count()"
   ]
  },
  {
   "cell_type": "markdown",
   "metadata": {},
   "source": [
    "We extract individual game names and ids. We can also extract the individual game ids so we can do further analysis on other games"
   ]
  },
  {
   "cell_type": "code",
   "execution_count": 74,
   "metadata": {
    "scrolled": false
   },
   "outputs": [],
   "source": [
    "games_ids[[\"game_id\", \"name\", \"api_url\"]] = games_ids[\"results\"].apply(lambda x: pd.Series([x[\"id\"], x[\"name\"], x[\"api_detail_url\"]]))"
   ]
  },
  {
   "cell_type": "code",
   "execution_count": 75,
   "metadata": {
    "scrolled": true
   },
   "outputs": [
    {
     "data": {
      "text/plain": [
       "29208"
      ]
     },
     "execution_count": 75,
     "metadata": {},
     "output_type": "execute_result"
    }
   ],
   "source": [
    "games_ids[\"game_id\"].nunique()"
   ]
  },
  {
   "cell_type": "markdown",
   "metadata": {},
   "source": [
    "There's 29208 unique game ids which implies that around 6000 of our games are in multiple franchises. we can look at the ids of the games in the most franchises"
   ]
  },
  {
   "cell_type": "code",
   "execution_count": 76,
   "metadata": {},
   "outputs": [
    {
     "data": {
      "text/plain": [
       "6949     7\n",
       "569      6\n",
       "33847    6\n",
       "73766    6\n",
       "39509    5\n",
       "Name: game_id, dtype: int64"
      ]
     },
     "execution_count": 76,
     "metadata": {},
     "output_type": "execute_result"
    }
   ],
   "source": [
    "games_ids[\"game_id\"].value_counts().head()"
   ]
  },
  {
   "cell_type": "code",
   "execution_count": 77,
   "metadata": {},
   "outputs": [
    {
     "data": {
      "text/html": [
       "<div>\n",
       "<style scoped>\n",
       "    .dataframe tbody tr th:only-of-type {\n",
       "        vertical-align: middle;\n",
       "    }\n",
       "\n",
       "    .dataframe tbody tr th {\n",
       "        vertical-align: top;\n",
       "    }\n",
       "\n",
       "    .dataframe thead th {\n",
       "        text-align: right;\n",
       "    }\n",
       "</style>\n",
       "<table border=\"1\" class=\"dataframe\">\n",
       "  <thead>\n",
       "    <tr style=\"text-align: right;\">\n",
       "      <th></th>\n",
       "      <th>franchise_id</th>\n",
       "      <th>game_id</th>\n",
       "      <th>name</th>\n",
       "      <th>api_url</th>\n",
       "    </tr>\n",
       "  </thead>\n",
       "  <tbody>\n",
       "    <tr>\n",
       "      <th>games</th>\n",
       "      <td>3025-630</td>\n",
       "      <td>8724</td>\n",
       "      <td>Shining Force: The Sword of Hajya</td>\n",
       "      <td>https://www.giantbomb.com/api/game/3030-8724/</td>\n",
       "    </tr>\n",
       "  </tbody>\n",
       "</table>\n",
       "</div>"
      ],
      "text/plain": [
       "      franchise_id  game_id                               name  \\\n",
       "games     3025-630     8724  Shining Force: The Sword of Hajya   \n",
       "\n",
       "                                             api_url  \n",
       "games  https://www.giantbomb.com/api/game/3030-8724/  "
      ]
     },
     "execution_count": 77,
     "metadata": {},
     "output_type": "execute_result"
    }
   ],
   "source": [
    "games_ids = games_ids.drop(\"results\", axis = 1)\n",
    "games_ids.sample()"
   ]
  },
  {
   "cell_type": "markdown",
   "metadata": {},
   "source": [
    "## Scraping additional game metadata"
   ]
  },
  {
   "cell_type": "markdown",
   "metadata": {},
   "source": [
    "We can also get additional metadata for the game which will allow us to do further analysis on the different games in the franchises if we desire to."
   ]
  },
  {
   "cell_type": "code",
   "execution_count": 79,
   "metadata": {},
   "outputs": [],
   "source": [
    "game_dir = Path('raw_data\\\\raw_json\\\\game_franchises\\\\game')\n",
    "game_dir.mkdir(parents=True, exist_ok=True)"
   ]
  },
  {
   "cell_type": "markdown",
   "metadata": {},
   "source": [
    "Get all the unique game ids and place in a dictionary, with their relevant api url"
   ]
  },
  {
   "cell_type": "code",
   "execution_count": 80,
   "metadata": {},
   "outputs": [
    {
     "name": "stdout",
     "output_type": "stream",
     "text": [
      "29208\n"
     ]
    }
   ],
   "source": [
    "game_api_dict = dict(zip(games_ids[\"game_id\"].unique(), games_ids[\"api_url\"].unique()))\n",
    "print(len(game_api_dict))"
   ]
  },
  {
   "cell_type": "markdown",
   "metadata": {},
   "source": [
    "Download the metadata. Again, the 200 items an hour restriction means we ned to put in the time restriction"
   ]
  },
  {
   "cell_type": "code",
   "execution_count": null,
   "metadata": {},
   "outputs": [],
   "source": [
    "for game_id, api_url in game_api_dict.items():\n",
    "    filename = \"{}.json\".format(game_id)\n",
    "    if not Path(game_dir, filename).is_file():\n",
    "        url = \"{}?api_key=f2577eac7f52b72170fc1e8c5f0cebb778f38155&format=json\".format(api_url)\n",
    "        response = json.loads((requests.get(url, headers=headers)).content)\n",
    "        with open(Path(game_dir, filename), \"w\") as fileOut:\n",
    "            json.dump(response, fileOut)\n",
    "        time.sleep(18)"
   ]
  },
  {
   "cell_type": "markdown",
   "metadata": {},
   "source": [
    "### Combining the game metadata"
   ]
  },
  {
   "cell_type": "markdown",
   "metadata": {},
   "source": [
    "Due to the nature of the metadata files, it actualy takes an insane amount of time and memory to create a new dataframe the way we created all the others. A much quicker way to do it will be to open the files, extract the relevant information and append them to lists, which we can then convert to a dataframe."
   ]
  },
  {
   "cell_type": "code",
   "execution_count": 86,
   "metadata": {},
   "outputs": [],
   "source": [
    "#Create empty lists to store the information for each column\n",
    "ids = []\n",
    "release_years = []\n",
    "aliases = []\n",
    "developers =[]\n",
    "genres =[]\n",
    "platforms =[]\n",
    "publishers =[]\n",
    "rating = []\n",
    "\n",
    "#Iterate through the folder and retrieve the required inforamtion, appending to the relevant list\n",
    "files = list(Path(\"raw_data/raw_json/game_franchises/game/\").glob('*.json'))\n",
    "for file in files:\n",
    "    with open(file) as filein:\n",
    "        tempDF = pd.read_json(filein)\n",
    "        ids.append(tempDF[\"results\"].get(\"id\"))\n",
    "        release_years.append(tempDF[\"results\"].get(\"expected_release_year\"))\n",
    "        aliases.append(tempDF[\"results\"].get(\"aliases\"))\n",
    "        developers.append(tempDF[\"results\"].get(\"developers\"))\n",
    "        genres.append(tempDF[\"results\"].get(\"genres\")) \n",
    "        platforms.append(tempDF[\"results\"].get(\"platforms\"))\n",
    "        publishers.append(tempDF[\"results\"].get(\"publishers\")) \n",
    "        rating.append(tempDF[\"results\"].get(\"original_game_rating\")) "
   ]
  },
  {
   "cell_type": "code",
   "execution_count": 93,
   "metadata": {},
   "outputs": [
    {
     "data": {
      "text/html": [
       "<div>\n",
       "<style scoped>\n",
       "    .dataframe tbody tr th:only-of-type {\n",
       "        vertical-align: middle;\n",
       "    }\n",
       "\n",
       "    .dataframe tbody tr th {\n",
       "        vertical-align: top;\n",
       "    }\n",
       "\n",
       "    .dataframe thead th {\n",
       "        text-align: right;\n",
       "    }\n",
       "</style>\n",
       "<table border=\"1\" class=\"dataframe\">\n",
       "  <thead>\n",
       "    <tr style=\"text-align: right;\">\n",
       "      <th></th>\n",
       "      <th>id</th>\n",
       "      <th>release_year</th>\n",
       "      <th>aliases</th>\n",
       "      <th>developers</th>\n",
       "      <th>genres</th>\n",
       "      <th>platforms</th>\n",
       "      <th>publishers</th>\n",
       "      <th>rating</th>\n",
       "    </tr>\n",
       "  </thead>\n",
       "  <tbody>\n",
       "    <tr>\n",
       "      <th>0</th>\n",
       "      <td>1</td>\n",
       "      <td>1992.0</td>\n",
       "      <td>Desert Strike Advance</td>\n",
       "      <td>[{'api_detail_url': 'https://www.giantbomb.com...</td>\n",
       "      <td>[{'api_detail_url': 'https://www.giantbomb.com...</td>\n",
       "      <td>[{'api_detail_url': 'https://www.giantbomb.com...</td>\n",
       "      <td>[{'api_detail_url': 'https://www.giantbomb.com...</td>\n",
       "      <td>[{'api_detail_url': 'https://www.giantbomb.com...</td>\n",
       "    </tr>\n",
       "    <tr>\n",
       "      <th>9677</th>\n",
       "      <td>3</td>\n",
       "      <td>NaN</td>\n",
       "      <td>None</td>\n",
       "      <td>[{'api_detail_url': 'https://www.giantbomb.com...</td>\n",
       "      <td>[{'api_detail_url': 'https://www.giantbomb.com...</td>\n",
       "      <td>[{'api_detail_url': 'https://www.giantbomb.com...</td>\n",
       "      <td>[{'api_detail_url': 'https://www.giantbomb.com...</td>\n",
       "      <td>None</td>\n",
       "    </tr>\n",
       "    <tr>\n",
       "      <th>14192</th>\n",
       "      <td>4</td>\n",
       "      <td>1986.0</td>\n",
       "      <td>None</td>\n",
       "      <td>[{'api_detail_url': 'https://www.giantbomb.com...</td>\n",
       "      <td>[{'api_detail_url': 'https://www.giantbomb.com...</td>\n",
       "      <td>[{'api_detail_url': 'https://www.giantbomb.com...</td>\n",
       "      <td>[{'api_detail_url': 'https://www.giantbomb.com...</td>\n",
       "      <td>None</td>\n",
       "    </tr>\n",
       "    <tr>\n",
       "      <th>21240</th>\n",
       "      <td>6</td>\n",
       "      <td>NaN</td>\n",
       "      <td>SVR 2007</td>\n",
       "      <td>[{'api_detail_url': 'https://www.giantbomb.com...</td>\n",
       "      <td>[{'api_detail_url': 'https://www.giantbomb.com...</td>\n",
       "      <td>[{'api_detail_url': 'https://www.giantbomb.com...</td>\n",
       "      <td>[{'api_detail_url': 'https://www.giantbomb.com...</td>\n",
       "      <td>[{'api_detail_url': 'https://www.giantbomb.com...</td>\n",
       "    </tr>\n",
       "    <tr>\n",
       "      <th>26238</th>\n",
       "      <td>8</td>\n",
       "      <td>NaN</td>\n",
       "      <td>Battle Formula</td>\n",
       "      <td>[{'api_detail_url': 'https://www.giantbomb.com...</td>\n",
       "      <td>[{'api_detail_url': 'https://www.giantbomb.com...</td>\n",
       "      <td>[{'api_detail_url': 'https://www.giantbomb.com...</td>\n",
       "      <td>[{'api_detail_url': 'https://www.giantbomb.com...</td>\n",
       "      <td>None</td>\n",
       "    </tr>\n",
       "    <tr>\n",
       "      <th>...</th>\n",
       "      <td>...</td>\n",
       "      <td>...</td>\n",
       "      <td>...</td>\n",
       "      <td>...</td>\n",
       "      <td>...</td>\n",
       "      <td>...</td>\n",
       "      <td>...</td>\n",
       "      <td>...</td>\n",
       "    </tr>\n",
       "    <tr>\n",
       "      <th>28707</th>\n",
       "      <td>88822</td>\n",
       "      <td>NaN</td>\n",
       "      <td>None</td>\n",
       "      <td>None</td>\n",
       "      <td>[{'api_detail_url': 'https://www.giantbomb.com...</td>\n",
       "      <td>[{'api_detail_url': 'https://www.giantbomb.com...</td>\n",
       "      <td>[{'api_detail_url': 'https://www.giantbomb.com...</td>\n",
       "      <td>[{'api_detail_url': 'https://www.giantbomb.com...</td>\n",
       "    </tr>\n",
       "    <tr>\n",
       "      <th>28708</th>\n",
       "      <td>88824</td>\n",
       "      <td>NaN</td>\n",
       "      <td>None</td>\n",
       "      <td>None</td>\n",
       "      <td>[{'api_detail_url': 'https://www.giantbomb.com...</td>\n",
       "      <td>[{'api_detail_url': 'https://www.giantbomb.com...</td>\n",
       "      <td>[{'api_detail_url': 'https://www.giantbomb.com...</td>\n",
       "      <td>[{'api_detail_url': 'https://www.giantbomb.com...</td>\n",
       "    </tr>\n",
       "    <tr>\n",
       "      <th>28709</th>\n",
       "      <td>88831</td>\n",
       "      <td>NaN</td>\n",
       "      <td>None</td>\n",
       "      <td>[{'api_detail_url': 'https://www.giantbomb.com...</td>\n",
       "      <td>[{'api_detail_url': 'https://www.giantbomb.com...</td>\n",
       "      <td>[{'api_detail_url': 'https://www.giantbomb.com...</td>\n",
       "      <td>[{'api_detail_url': 'https://www.giantbomb.com...</td>\n",
       "      <td>None</td>\n",
       "    </tr>\n",
       "    <tr>\n",
       "      <th>28710</th>\n",
       "      <td>88834</td>\n",
       "      <td>NaN</td>\n",
       "      <td>None</td>\n",
       "      <td>[{'api_detail_url': 'https://www.giantbomb.com...</td>\n",
       "      <td>[{'api_detail_url': 'https://www.giantbomb.com...</td>\n",
       "      <td>[{'api_detail_url': 'https://www.giantbomb.com...</td>\n",
       "      <td>[{'api_detail_url': 'https://www.giantbomb.com...</td>\n",
       "      <td>None</td>\n",
       "    </tr>\n",
       "    <tr>\n",
       "      <th>28711</th>\n",
       "      <td>88837</td>\n",
       "      <td>NaN</td>\n",
       "      <td>None</td>\n",
       "      <td>None</td>\n",
       "      <td>[{'api_detail_url': 'https://www.giantbomb.com...</td>\n",
       "      <td>[{'api_detail_url': 'https://www.giantbomb.com...</td>\n",
       "      <td>[{'api_detail_url': 'https://www.giantbomb.com...</td>\n",
       "      <td>None</td>\n",
       "    </tr>\n",
       "  </tbody>\n",
       "</table>\n",
       "<p>29208 rows × 8 columns</p>\n",
       "</div>"
      ],
      "text/plain": [
       "          id  release_year                aliases  \\\n",
       "0          1        1992.0  Desert Strike Advance   \n",
       "9677       3           NaN                   None   \n",
       "14192      4        1986.0                   None   \n",
       "21240      6           NaN               SVR 2007   \n",
       "26238      8           NaN         Battle Formula   \n",
       "...      ...           ...                    ...   \n",
       "28707  88822           NaN                   None   \n",
       "28708  88824           NaN                   None   \n",
       "28709  88831           NaN                   None   \n",
       "28710  88834           NaN                   None   \n",
       "28711  88837           NaN                   None   \n",
       "\n",
       "                                              developers  \\\n",
       "0      [{'api_detail_url': 'https://www.giantbomb.com...   \n",
       "9677   [{'api_detail_url': 'https://www.giantbomb.com...   \n",
       "14192  [{'api_detail_url': 'https://www.giantbomb.com...   \n",
       "21240  [{'api_detail_url': 'https://www.giantbomb.com...   \n",
       "26238  [{'api_detail_url': 'https://www.giantbomb.com...   \n",
       "...                                                  ...   \n",
       "28707                                               None   \n",
       "28708                                               None   \n",
       "28709  [{'api_detail_url': 'https://www.giantbomb.com...   \n",
       "28710  [{'api_detail_url': 'https://www.giantbomb.com...   \n",
       "28711                                               None   \n",
       "\n",
       "                                                  genres  \\\n",
       "0      [{'api_detail_url': 'https://www.giantbomb.com...   \n",
       "9677   [{'api_detail_url': 'https://www.giantbomb.com...   \n",
       "14192  [{'api_detail_url': 'https://www.giantbomb.com...   \n",
       "21240  [{'api_detail_url': 'https://www.giantbomb.com...   \n",
       "26238  [{'api_detail_url': 'https://www.giantbomb.com...   \n",
       "...                                                  ...   \n",
       "28707  [{'api_detail_url': 'https://www.giantbomb.com...   \n",
       "28708  [{'api_detail_url': 'https://www.giantbomb.com...   \n",
       "28709  [{'api_detail_url': 'https://www.giantbomb.com...   \n",
       "28710  [{'api_detail_url': 'https://www.giantbomb.com...   \n",
       "28711  [{'api_detail_url': 'https://www.giantbomb.com...   \n",
       "\n",
       "                                               platforms  \\\n",
       "0      [{'api_detail_url': 'https://www.giantbomb.com...   \n",
       "9677   [{'api_detail_url': 'https://www.giantbomb.com...   \n",
       "14192  [{'api_detail_url': 'https://www.giantbomb.com...   \n",
       "21240  [{'api_detail_url': 'https://www.giantbomb.com...   \n",
       "26238  [{'api_detail_url': 'https://www.giantbomb.com...   \n",
       "...                                                  ...   \n",
       "28707  [{'api_detail_url': 'https://www.giantbomb.com...   \n",
       "28708  [{'api_detail_url': 'https://www.giantbomb.com...   \n",
       "28709  [{'api_detail_url': 'https://www.giantbomb.com...   \n",
       "28710  [{'api_detail_url': 'https://www.giantbomb.com...   \n",
       "28711  [{'api_detail_url': 'https://www.giantbomb.com...   \n",
       "\n",
       "                                              publishers  \\\n",
       "0      [{'api_detail_url': 'https://www.giantbomb.com...   \n",
       "9677   [{'api_detail_url': 'https://www.giantbomb.com...   \n",
       "14192  [{'api_detail_url': 'https://www.giantbomb.com...   \n",
       "21240  [{'api_detail_url': 'https://www.giantbomb.com...   \n",
       "26238  [{'api_detail_url': 'https://www.giantbomb.com...   \n",
       "...                                                  ...   \n",
       "28707  [{'api_detail_url': 'https://www.giantbomb.com...   \n",
       "28708  [{'api_detail_url': 'https://www.giantbomb.com...   \n",
       "28709  [{'api_detail_url': 'https://www.giantbomb.com...   \n",
       "28710  [{'api_detail_url': 'https://www.giantbomb.com...   \n",
       "28711  [{'api_detail_url': 'https://www.giantbomb.com...   \n",
       "\n",
       "                                                  rating  \n",
       "0      [{'api_detail_url': 'https://www.giantbomb.com...  \n",
       "9677                                                None  \n",
       "14192                                               None  \n",
       "21240  [{'api_detail_url': 'https://www.giantbomb.com...  \n",
       "26238                                               None  \n",
       "...                                                  ...  \n",
       "28707  [{'api_detail_url': 'https://www.giantbomb.com...  \n",
       "28708  [{'api_detail_url': 'https://www.giantbomb.com...  \n",
       "28709                                               None  \n",
       "28710                                               None  \n",
       "28711                                               None  \n",
       "\n",
       "[29208 rows x 8 columns]"
      ]
     },
     "execution_count": 93,
     "metadata": {},
     "output_type": "execute_result"
    }
   ],
   "source": [
    "#Combine all the lists into a dictionary, then create a dataframe from the dictionary\n",
    "metadataframe_dict = list(zip(ids, release_years, aliases, developers, genres, platforms, publishers, rating))\n",
    "metadataframe = pd.DataFrame.from_dict(metadataframe_dict)\n",
    "\n",
    "#Rename the columns in the dataframe\n",
    "metadataframe = metadataframe.rename(columns = {0:\"id\", 1:\"release_year\", 2:\"aliases\", 3: \"developers\", 4:\"genres\", 5: \"platforms\", 6: \"publishers\", 7: \"rating\"})\n",
    "metadataframe = metadataframe.sort_values(\"id\")\n",
    "metadataframe"
   ]
  },
  {
   "cell_type": "markdown",
   "metadata": {},
   "source": [
    "Convert all the dictionaries in the columns into lists"
   ]
  },
  {
   "cell_type": "code",
   "execution_count": 94,
   "metadata": {
    "scrolled": true
   },
   "outputs": [
    {
     "data": {
      "text/html": [
       "<div>\n",
       "<style scoped>\n",
       "    .dataframe tbody tr th:only-of-type {\n",
       "        vertical-align: middle;\n",
       "    }\n",
       "\n",
       "    .dataframe tbody tr th {\n",
       "        vertical-align: top;\n",
       "    }\n",
       "\n",
       "    .dataframe thead th {\n",
       "        text-align: right;\n",
       "    }\n",
       "</style>\n",
       "<table border=\"1\" class=\"dataframe\">\n",
       "  <thead>\n",
       "    <tr style=\"text-align: right;\">\n",
       "      <th></th>\n",
       "      <th>id</th>\n",
       "      <th>release_year</th>\n",
       "      <th>aliases</th>\n",
       "      <th>developers</th>\n",
       "      <th>genres</th>\n",
       "      <th>platforms</th>\n",
       "      <th>publishers</th>\n",
       "      <th>rating</th>\n",
       "    </tr>\n",
       "  </thead>\n",
       "  <tbody>\n",
       "    <tr>\n",
       "      <th>11077</th>\n",
       "      <td>33113</td>\n",
       "      <td>1987.0</td>\n",
       "      <td>None</td>\n",
       "      <td>[NCS Corporation]</td>\n",
       "      <td>[Strategy]</td>\n",
       "      <td>[MSX, Sharp X68000, NEC PC-8801, NEC PC-9801, ...</td>\n",
       "      <td>[NCS Corporation]</td>\n",
       "      <td>None</td>\n",
       "    </tr>\n",
       "  </tbody>\n",
       "</table>\n",
       "</div>"
      ],
      "text/plain": [
       "          id  release_year aliases         developers      genres  \\\n",
       "11077  33113        1987.0    None  [NCS Corporation]  [Strategy]   \n",
       "\n",
       "                                               platforms         publishers  \\\n",
       "11077  [MSX, Sharp X68000, NEC PC-8801, NEC PC-9801, ...  [NCS Corporation]   \n",
       "\n",
       "      rating  \n",
       "11077   None  "
      ]
     },
     "execution_count": 94,
     "metadata": {},
     "output_type": "execute_result"
    }
   ],
   "source": [
    "metadataframe[\"developers\"] = metadataframe[\"developers\"].apply(lambda x: [d[\"name\"] for d in x] if x is not None else None)\n",
    "metadataframe[\"genres\"] = metadataframe[\"genres\"].apply(lambda x: [d[\"name\"] for d in x] if x is not None else None)\n",
    "metadataframe[\"platforms\"] = metadataframe[\"platforms\"].apply(lambda x: [d[\"name\"] for d in x] if x is not None else None)\n",
    "metadataframe[\"publishers\"] = metadataframe[\"publishers\"].apply(lambda x: [d[\"name\"] for d in x] if x is not None else None)\n",
    "metadataframe[\"rating\"] = metadataframe[\"rating\"].apply(lambda x: [d[\"name\"] for d in x] if x is not None else None)\n",
    "metadataframe.sample()"
   ]
  },
  {
   "cell_type": "markdown",
   "metadata": {},
   "source": [
    "Combine the dataframes and remove the redundant columns"
   ]
  },
  {
   "cell_type": "code",
   "execution_count": 96,
   "metadata": {
    "scrolled": true
   },
   "outputs": [
    {
     "data": {
      "text/html": [
       "<div>\n",
       "<style scoped>\n",
       "    .dataframe tbody tr th:only-of-type {\n",
       "        vertical-align: middle;\n",
       "    }\n",
       "\n",
       "    .dataframe tbody tr th {\n",
       "        vertical-align: top;\n",
       "    }\n",
       "\n",
       "    .dataframe thead th {\n",
       "        text-align: right;\n",
       "    }\n",
       "</style>\n",
       "<table border=\"1\" class=\"dataframe\">\n",
       "  <thead>\n",
       "    <tr style=\"text-align: right;\">\n",
       "      <th></th>\n",
       "      <th>franchise_id</th>\n",
       "      <th>game_id</th>\n",
       "      <th>name</th>\n",
       "      <th>release_year</th>\n",
       "      <th>aliases</th>\n",
       "      <th>developers</th>\n",
       "      <th>genres</th>\n",
       "      <th>platforms</th>\n",
       "      <th>publishers</th>\n",
       "      <th>rating</th>\n",
       "    </tr>\n",
       "  </thead>\n",
       "  <tbody>\n",
       "    <tr>\n",
       "      <th>0</th>\n",
       "      <td>3025-1</td>\n",
       "      <td>544</td>\n",
       "      <td>Super Mario All-Stars &amp; Super Mario World</td>\n",
       "      <td>1994.0</td>\n",
       "      <td>Super Mario All-Stars and Super Mario World</td>\n",
       "      <td>[Nintendo EAD, SRD Co. Ltd.]</td>\n",
       "      <td>[Compilation, Platformer]</td>\n",
       "      <td>[Super Nintendo Entertainment System]</td>\n",
       "      <td>[Nintendo]</td>\n",
       "      <td>[ESRB: K-A]</td>\n",
       "    </tr>\n",
       "    <tr>\n",
       "      <th>1</th>\n",
       "      <td>3025-1</td>\n",
       "      <td>6649</td>\n",
       "      <td>Super Mario Sunshine</td>\n",
       "      <td>NaN</td>\n",
       "      <td>None</td>\n",
       "      <td>[Nintendo EAD]</td>\n",
       "      <td>[Platformer, Action-Adventure]</td>\n",
       "      <td>[GameCube, Nintendo Switch]</td>\n",
       "      <td>[Nintendo]</td>\n",
       "      <td>[ESRB: E, OFLC: G, PEGI: 3+]</td>\n",
       "    </tr>\n",
       "    <tr>\n",
       "      <th>2</th>\n",
       "      <td>3025-1</td>\n",
       "      <td>7314</td>\n",
       "      <td>Super Mario Bros. Deluxe</td>\n",
       "      <td>NaN</td>\n",
       "      <td>Super Mario Bros. DX</td>\n",
       "      <td>[Nintendo R&amp;D2]</td>\n",
       "      <td>[Action, Adventure, Compilation, Puzzle, Platf...</td>\n",
       "      <td>[Game Boy Color, Nintendo 3DS eShop]</td>\n",
       "      <td>[Nintendo]</td>\n",
       "      <td>[ESRB: E]</td>\n",
       "    </tr>\n",
       "    <tr>\n",
       "      <th>3</th>\n",
       "      <td>3025-1</td>\n",
       "      <td>7358</td>\n",
       "      <td>Super Mario RPG: Legend of the Seven Stars</td>\n",
       "      <td>NaN</td>\n",
       "      <td>Mario RPG\\r\\nSMRPG</td>\n",
       "      <td>[Squaresoft, Square Enix]</td>\n",
       "      <td>[Adventure, Role-Playing]</td>\n",
       "      <td>[Super Nintendo Entertainment System, Wii Shop...</td>\n",
       "      <td>[Nintendo]</td>\n",
       "      <td>[ESRB: K-A, PEGI: 3+, ESRB: E, OFLC: G, CERO: A]</td>\n",
       "    </tr>\n",
       "    <tr>\n",
       "      <th>4</th>\n",
       "      <td>3025-1</td>\n",
       "      <td>7406</td>\n",
       "      <td>Super Mario Bros. 2</td>\n",
       "      <td>NaN</td>\n",
       "      <td>Super Mario USA\\nSuper Mario Bros. USA\\nSMB2</td>\n",
       "      <td>[Nintendo EAD, SRD Co. Ltd.]</td>\n",
       "      <td>[Platformer]</td>\n",
       "      <td>[Nintendo Entertainment System, Wii Shop, Nint...</td>\n",
       "      <td>[Nintendo]</td>\n",
       "      <td>[ESRB: E, CERO: All Ages]</td>\n",
       "    </tr>\n",
       "    <tr>\n",
       "      <th>...</th>\n",
       "      <td>...</td>\n",
       "      <td>...</td>\n",
       "      <td>...</td>\n",
       "      <td>...</td>\n",
       "      <td>...</td>\n",
       "      <td>...</td>\n",
       "      <td>...</td>\n",
       "      <td>...</td>\n",
       "      <td>...</td>\n",
       "      <td>...</td>\n",
       "    </tr>\n",
       "    <tr>\n",
       "      <th>35112</th>\n",
       "      <td>3025-999</td>\n",
       "      <td>26577</td>\n",
       "      <td>Shaman King: Funbari Spirits</td>\n",
       "      <td>NaN</td>\n",
       "      <td>None</td>\n",
       "      <td>[Dimps Corporation]</td>\n",
       "      <td>[Fighting]</td>\n",
       "      <td>[PlayStation 2]</td>\n",
       "      <td>[Bandai Co., Ltd.]</td>\n",
       "      <td>None</td>\n",
       "    </tr>\n",
       "    <tr>\n",
       "      <th>35113</th>\n",
       "      <td>3025-999</td>\n",
       "      <td>26575</td>\n",
       "      <td>Shaman King: Legacy of the Spirits, Soaring Hawk</td>\n",
       "      <td>NaN</td>\n",
       "      <td>None</td>\n",
       "      <td>None</td>\n",
       "      <td>[Role-Playing]</td>\n",
       "      <td>[Game Boy Advance]</td>\n",
       "      <td>[Konami]</td>\n",
       "      <td>None</td>\n",
       "    </tr>\n",
       "    <tr>\n",
       "      <th>35114</th>\n",
       "      <td>3025-999</td>\n",
       "      <td>26581</td>\n",
       "      <td>Shaman King Chou Senjiryokketsu: Meramera/Funb...</td>\n",
       "      <td>NaN</td>\n",
       "      <td>None</td>\n",
       "      <td>[Studio Saizensen]</td>\n",
       "      <td>[Action]</td>\n",
       "      <td>[Game Boy Color]</td>\n",
       "      <td>[King Records]</td>\n",
       "      <td>None</td>\n",
       "    </tr>\n",
       "    <tr>\n",
       "      <th>35115</th>\n",
       "      <td>3025-999</td>\n",
       "      <td>26580</td>\n",
       "      <td>Shaman King: Soul Fight!</td>\n",
       "      <td>NaN</td>\n",
       "      <td>None</td>\n",
       "      <td>[Bandai Co., Ltd.]</td>\n",
       "      <td>[Fighting]</td>\n",
       "      <td>[GameCube]</td>\n",
       "      <td>[Bandai Co., Ltd.]</td>\n",
       "      <td>None</td>\n",
       "    </tr>\n",
       "    <tr>\n",
       "      <th>35116</th>\n",
       "      <td>3025-999</td>\n",
       "      <td>26606</td>\n",
       "      <td>Shaman King: Mirai no Ishi</td>\n",
       "      <td>NaN</td>\n",
       "      <td>None</td>\n",
       "      <td>[Graphic Research Co., Ltd.]</td>\n",
       "      <td>None</td>\n",
       "      <td>[WonderSwan Color]</td>\n",
       "      <td>[Bandai Co., Ltd.]</td>\n",
       "      <td>None</td>\n",
       "    </tr>\n",
       "  </tbody>\n",
       "</table>\n",
       "<p>35117 rows × 10 columns</p>\n",
       "</div>"
      ],
      "text/plain": [
       "      franchise_id  game_id  \\\n",
       "0           3025-1      544   \n",
       "1           3025-1     6649   \n",
       "2           3025-1     7314   \n",
       "3           3025-1     7358   \n",
       "4           3025-1     7406   \n",
       "...            ...      ...   \n",
       "35112     3025-999    26577   \n",
       "35113     3025-999    26575   \n",
       "35114     3025-999    26581   \n",
       "35115     3025-999    26580   \n",
       "35116     3025-999    26606   \n",
       "\n",
       "                                                    name  release_year  \\\n",
       "0              Super Mario All-Stars & Super Mario World        1994.0   \n",
       "1                                   Super Mario Sunshine           NaN   \n",
       "2                               Super Mario Bros. Deluxe           NaN   \n",
       "3             Super Mario RPG: Legend of the Seven Stars           NaN   \n",
       "4                                    Super Mario Bros. 2           NaN   \n",
       "...                                                  ...           ...   \n",
       "35112                       Shaman King: Funbari Spirits           NaN   \n",
       "35113   Shaman King: Legacy of the Spirits, Soaring Hawk           NaN   \n",
       "35114  Shaman King Chou Senjiryokketsu: Meramera/Funb...           NaN   \n",
       "35115                           Shaman King: Soul Fight!           NaN   \n",
       "35116                         Shaman King: Mirai no Ishi           NaN   \n",
       "\n",
       "                                            aliases  \\\n",
       "0       Super Mario All-Stars and Super Mario World   \n",
       "1                                              None   \n",
       "2                              Super Mario Bros. DX   \n",
       "3                                Mario RPG\\r\\nSMRPG   \n",
       "4      Super Mario USA\\nSuper Mario Bros. USA\\nSMB2   \n",
       "...                                             ...   \n",
       "35112                                          None   \n",
       "35113                                          None   \n",
       "35114                                          None   \n",
       "35115                                          None   \n",
       "35116                                          None   \n",
       "\n",
       "                         developers  \\\n",
       "0      [Nintendo EAD, SRD Co. Ltd.]   \n",
       "1                    [Nintendo EAD]   \n",
       "2                   [Nintendo R&D2]   \n",
       "3         [Squaresoft, Square Enix]   \n",
       "4      [Nintendo EAD, SRD Co. Ltd.]   \n",
       "...                             ...   \n",
       "35112           [Dimps Corporation]   \n",
       "35113                          None   \n",
       "35114            [Studio Saizensen]   \n",
       "35115            [Bandai Co., Ltd.]   \n",
       "35116  [Graphic Research Co., Ltd.]   \n",
       "\n",
       "                                                  genres  \\\n",
       "0                              [Compilation, Platformer]   \n",
       "1                         [Platformer, Action-Adventure]   \n",
       "2      [Action, Adventure, Compilation, Puzzle, Platf...   \n",
       "3                              [Adventure, Role-Playing]   \n",
       "4                                           [Platformer]   \n",
       "...                                                  ...   \n",
       "35112                                         [Fighting]   \n",
       "35113                                     [Role-Playing]   \n",
       "35114                                           [Action]   \n",
       "35115                                         [Fighting]   \n",
       "35116                                               None   \n",
       "\n",
       "                                               platforms          publishers  \\\n",
       "0                  [Super Nintendo Entertainment System]          [Nintendo]   \n",
       "1                            [GameCube, Nintendo Switch]          [Nintendo]   \n",
       "2                   [Game Boy Color, Nintendo 3DS eShop]          [Nintendo]   \n",
       "3      [Super Nintendo Entertainment System, Wii Shop...          [Nintendo]   \n",
       "4      [Nintendo Entertainment System, Wii Shop, Nint...          [Nintendo]   \n",
       "...                                                  ...                 ...   \n",
       "35112                                    [PlayStation 2]  [Bandai Co., Ltd.]   \n",
       "35113                                 [Game Boy Advance]            [Konami]   \n",
       "35114                                   [Game Boy Color]      [King Records]   \n",
       "35115                                         [GameCube]  [Bandai Co., Ltd.]   \n",
       "35116                                 [WonderSwan Color]  [Bandai Co., Ltd.]   \n",
       "\n",
       "                                                 rating  \n",
       "0                                           [ESRB: K-A]  \n",
       "1                          [ESRB: E, OFLC: G, PEGI: 3+]  \n",
       "2                                             [ESRB: E]  \n",
       "3      [ESRB: K-A, PEGI: 3+, ESRB: E, OFLC: G, CERO: A]  \n",
       "4                             [ESRB: E, CERO: All Ages]  \n",
       "...                                                 ...  \n",
       "35112                                              None  \n",
       "35113                                              None  \n",
       "35114                                              None  \n",
       "35115                                              None  \n",
       "35116                                              None  \n",
       "\n",
       "[35117 rows x 10 columns]"
      ]
     },
     "execution_count": 96,
     "metadata": {},
     "output_type": "execute_result"
    }
   ],
   "source": [
    "games_ids = pd.merge(games_ids, metadataframe, how='left', left_on='game_id', right_on='id')\n",
    "games_ids = games_ids.drop([\"id\",\"api_url\"], axis = 1)\n",
    "games_ids"
   ]
  },
  {
   "cell_type": "markdown",
   "metadata": {},
   "source": [
    "Finally we'll export all the collected data to a csv file. "
   ]
  },
  {
   "cell_type": "code",
   "execution_count": 97,
   "metadata": {},
   "outputs": [],
   "source": [
    "clean_data_dir = Path('clean_data')\n",
    "clean_data_dir.mkdir(exist_ok=True)"
   ]
  },
  {
   "cell_type": "code",
   "execution_count": 98,
   "metadata": {},
   "outputs": [],
   "source": [
    "games_ids.to_csv(\"clean_data\\\\clean_giantbomb_games_db.csv\")"
   ]
  },
  {
   "cell_type": "markdown",
   "metadata": {},
   "source": [
    "*Note, at this stage that the data could be cleaned further. We could do a little more on organising things like developers and publishers if we want to use this data later.*"
   ]
  }
 ],
 "metadata": {
  "kernelspec": {
   "display_name": "Python 3",
   "language": "python",
   "name": "python3"
  },
  "language_info": {
   "codemirror_mode": {
    "name": "ipython",
    "version": 3
   },
   "file_extension": ".py",
   "mimetype": "text/x-python",
   "name": "python",
   "nbconvert_exporter": "python",
   "pygments_lexer": "ipython3",
   "version": "3.8.5"
  }
 },
 "nbformat": 4,
 "nbformat_minor": 4
}
