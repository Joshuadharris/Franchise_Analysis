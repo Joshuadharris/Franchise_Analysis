{
 "cells": [
  {
   "cell_type": "markdown",
   "metadata": {},
   "source": [
    "Import the necessary libraries"
   ]
  },
  {
   "cell_type": "code",
   "execution_count": 1,
   "metadata": {},
   "outputs": [],
   "source": [
    "import pandas as pd\n",
    "import ast # used to convert strings to lists"
   ]
  },
  {
   "cell_type": "markdown",
   "metadata": {},
   "source": [
    "First, read in the imdb data and the giantbomb data as dataframes and get a count"
   ]
  },
  {
   "cell_type": "code",
   "execution_count": 2,
   "metadata": {},
   "outputs": [],
   "source": [
    "imdb_games = pd.read_csv(\"imdb_games_db.csv\", index_col = 0)\n",
    "giantbomb_games = pd.read_csv(\"clean_giantbomb_games_db.csv\", index_col = 0)"
   ]
  },
  {
   "cell_type": "code",
   "execution_count": 4,
   "metadata": {},
   "outputs": [
    {
     "name": "stdout",
     "output_type": "stream",
     "text": [
      "Total imdb_games: 14435 \n",
      "Total giantbomb_games: 35117\n"
     ]
    }
   ],
   "source": [
    "print(\"Total imdb_games: {} \\nTotal giantbomb_games: {}\".format(imdb_games.shape[0], giantbomb_games.shape[0]))"
   ]
  },
  {
   "cell_type": "markdown",
   "metadata": {},
   "source": [
    "We'll remove any exact duplicates from both dataframes"
   ]
  },
  {
   "cell_type": "code",
   "execution_count": 5,
   "metadata": {
    "scrolled": false
   },
   "outputs": [
    {
     "name": "stdout",
     "output_type": "stream",
     "text": [
      "Total imdb_games: 14435 \n",
      "Total giantbomb_games: 35116\n"
     ]
    }
   ],
   "source": [
    "imdb_games = imdb_games.drop_duplicates()\n",
    "giantbomb_games = giantbomb_games.drop_duplicates()\n",
    "print(\"Total imdb_games: {} \\nTotal giantbomb_games: {}\".format(imdb_games.shape[0], giantbomb_games.shape[0]))"
   ]
  },
  {
   "cell_type": "markdown",
   "metadata": {},
   "source": [
    "Have a look at what our dataframes contain:"
   ]
  },
  {
   "cell_type": "code",
   "execution_count": 7,
   "metadata": {
    "scrolled": true
   },
   "outputs": [
    {
     "data": {
      "text/html": [
       "<div>\n",
       "<style scoped>\n",
       "    .dataframe tbody tr th:only-of-type {\n",
       "        vertical-align: middle;\n",
       "    }\n",
       "\n",
       "    .dataframe tbody tr th {\n",
       "        vertical-align: top;\n",
       "    }\n",
       "\n",
       "    .dataframe thead th {\n",
       "        text-align: right;\n",
       "    }\n",
       "</style>\n",
       "<table border=\"1\" class=\"dataframe\">\n",
       "  <thead>\n",
       "    <tr style=\"text-align: right;\">\n",
       "      <th></th>\n",
       "      <th>tconst</th>\n",
       "      <th>titleType</th>\n",
       "      <th>primaryTitle</th>\n",
       "      <th>originalTitle</th>\n",
       "      <th>isAdult</th>\n",
       "      <th>startYear</th>\n",
       "      <th>endYear</th>\n",
       "      <th>runtimeMinutes</th>\n",
       "      <th>genres</th>\n",
       "      <th>averageRating</th>\n",
       "      <th>numVotes</th>\n",
       "      <th>akas</th>\n",
       "    </tr>\n",
       "  </thead>\n",
       "  <tbody>\n",
       "    <tr>\n",
       "      <th>2991931</th>\n",
       "      <td>tt1369557</td>\n",
       "      <td>videoGame</td>\n",
       "      <td>Race</td>\n",
       "      <td>Race</td>\n",
       "      <td>0</td>\n",
       "      <td>2006</td>\n",
       "      <td>\\N</td>\n",
       "      <td>\\N</td>\n",
       "      <td>Sport</td>\n",
       "      <td>7.0</td>\n",
       "      <td>5.0</td>\n",
       "      <td>['Race: Official WTCC Game', 'Race']</td>\n",
       "    </tr>\n",
       "  </tbody>\n",
       "</table>\n",
       "</div>"
      ],
      "text/plain": [
       "            tconst  titleType primaryTitle originalTitle  isAdult startYear  \\\n",
       "2991931  tt1369557  videoGame         Race          Race        0      2006   \n",
       "\n",
       "        endYear runtimeMinutes genres  averageRating  numVotes  \\\n",
       "2991931      \\N             \\N  Sport            7.0       5.0   \n",
       "\n",
       "                                         akas  \n",
       "2991931  ['Race: Official WTCC Game', 'Race']  "
      ]
     },
     "execution_count": 7,
     "metadata": {},
     "output_type": "execute_result"
    }
   ],
   "source": [
    "imdb_games.sample()"
   ]
  },
  {
   "cell_type": "code",
   "execution_count": 8,
   "metadata": {},
   "outputs": [
    {
     "data": {
      "text/html": [
       "<div>\n",
       "<style scoped>\n",
       "    .dataframe tbody tr th:only-of-type {\n",
       "        vertical-align: middle;\n",
       "    }\n",
       "\n",
       "    .dataframe tbody tr th {\n",
       "        vertical-align: top;\n",
       "    }\n",
       "\n",
       "    .dataframe thead th {\n",
       "        text-align: right;\n",
       "    }\n",
       "</style>\n",
       "<table border=\"1\" class=\"dataframe\">\n",
       "  <thead>\n",
       "    <tr style=\"text-align: right;\">\n",
       "      <th></th>\n",
       "      <th>franchise_id</th>\n",
       "      <th>game_id</th>\n",
       "      <th>name</th>\n",
       "      <th>release_year</th>\n",
       "      <th>aliases</th>\n",
       "      <th>developers</th>\n",
       "      <th>genres</th>\n",
       "      <th>platforms</th>\n",
       "      <th>publishers</th>\n",
       "      <th>rating</th>\n",
       "    </tr>\n",
       "  </thead>\n",
       "  <tbody>\n",
       "    <tr>\n",
       "      <th>32511</th>\n",
       "      <td>3025-783</td>\n",
       "      <td>15342</td>\n",
       "      <td>Xanadu: Dragon Slayer II</td>\n",
       "      <td>NaN</td>\n",
       "      <td>Xanadu: Dragon Slayer 2</td>\n",
       "      <td>['Nihon Falcom Corp.']</td>\n",
       "      <td>['Role-Playing', 'Platformer', 'Action-Adventu...</td>\n",
       "      <td>['MSX', 'PC', 'NEC PC-8801', 'NEC PC-9801', 'S...</td>\n",
       "      <td>['Nihon Falcom Corp.']</td>\n",
       "      <td>NaN</td>\n",
       "    </tr>\n",
       "  </tbody>\n",
       "</table>\n",
       "</div>"
      ],
      "text/plain": [
       "      franchise_id  game_id                      name  release_year  \\\n",
       "32511     3025-783    15342  Xanadu: Dragon Slayer II           NaN   \n",
       "\n",
       "                       aliases              developers  \\\n",
       "32511  Xanadu: Dragon Slayer 2  ['Nihon Falcom Corp.']   \n",
       "\n",
       "                                                  genres  \\\n",
       "32511  ['Role-Playing', 'Platformer', 'Action-Adventu...   \n",
       "\n",
       "                                               platforms  \\\n",
       "32511  ['MSX', 'PC', 'NEC PC-8801', 'NEC PC-9801', 'S...   \n",
       "\n",
       "                   publishers rating  \n",
       "32511  ['Nihon Falcom Corp.']    NaN  "
      ]
     },
     "execution_count": 8,
     "metadata": {},
     "output_type": "execute_result"
    }
   ],
   "source": [
    "giantbomb_games.sample()"
   ]
  },
  {
   "cell_type": "markdown",
   "metadata": {},
   "source": [
    "### Remove imdb duplicates"
   ]
  },
  {
   "cell_type": "markdown",
   "metadata": {},
   "source": [
    "We want to remove any duplicates from our imdb data that contain the same name and year. We save the one with the highest number of votes"
   ]
  },
  {
   "cell_type": "code",
   "execution_count": 11,
   "metadata": {},
   "outputs": [
    {
     "data": {
      "text/plain": [
       "14384"
      ]
     },
     "execution_count": 11,
     "metadata": {},
     "output_type": "execute_result"
    }
   ],
   "source": [
    "imdb_games = imdb_games.sort_values(by=[\"primaryTitle\", \"startYear\", \"numVotes\"])\n",
    "imdb_games = imdb_games.drop_duplicates(subset=[\"primaryTitle\", \"startYear\"], keep=\"last\")\n",
    "imdb_games.tconst.count()"
   ]
  },
  {
   "cell_type": "code",
   "execution_count": 12,
   "metadata": {
    "scrolled": true
   },
   "outputs": [
    {
     "data": {
      "text/plain": [
       "0"
      ]
     },
     "execution_count": 12,
     "metadata": {},
     "output_type": "execute_result"
    }
   ],
   "source": [
    "imdb_games.primaryTitle[imdb_games.duplicated([\"primaryTitle\", \"startYear\"], keep=False)].count()"
   ]
  },
  {
   "cell_type": "markdown",
   "metadata": {},
   "source": [
    "### Remove giantbomb duplicates"
   ]
  },
  {
   "cell_type": "markdown",
   "metadata": {},
   "source": [
    "As each game_id is unique, we want to group all the franchises for each game into a single result for each game_id. First though we check whether any of the the rows have the same game_id but a different name or release_year"
   ]
  },
  {
   "cell_type": "code",
   "execution_count": 13,
   "metadata": {},
   "outputs": [
    {
     "data": {
      "text/plain": [
       "franchise_id    35116\n",
       "game_id         35116\n",
       "name            35116\n",
       "release_year     5435\n",
       "aliases          8088\n",
       "developers      32746\n",
       "genres          33660\n",
       "platforms       34802\n",
       "publishers      33604\n",
       "rating          14184\n",
       "dtype: int64"
      ]
     },
     "execution_count": 13,
     "metadata": {},
     "output_type": "execute_result"
    }
   ],
   "source": [
    "giantbomb_games.count()"
   ]
  },
  {
   "cell_type": "code",
   "execution_count": 14,
   "metadata": {
    "scrolled": false
   },
   "outputs": [
    {
     "name": "stdout",
     "output_type": "stream",
     "text": [
      "0\n"
     ]
    }
   ],
   "source": [
    "print(giantbomb_games.groupby(\"game_id\").filter(lambda x: x[\"name\"].nunique() > 1 or x[\"release_year\"].nunique() > 1)[\"game_id\"].count())"
   ]
  },
  {
   "cell_type": "markdown",
   "metadata": {},
   "source": [
    "The next thing will be to remove any franchises which only contain 1 or 2 entries. Though they may technically count as a franchise, they do nothing to help us with analysis on the basis of longevity so we'll treat them as if they don't belong in a franchise"
   ]
  },
  {
   "cell_type": "code",
   "execution_count": 15,
   "metadata": {},
   "outputs": [
    {
     "data": {
      "text/plain": [
       "35116"
      ]
     },
     "execution_count": 15,
     "metadata": {},
     "output_type": "execute_result"
    }
   ],
   "source": [
    "giantbomb_games.game_id.count()"
   ]
  },
  {
   "cell_type": "code",
   "execution_count": 16,
   "metadata": {},
   "outputs": [],
   "source": [
    "franchise_counts = giantbomb_games.groupby('franchise_id').size()\n",
    "franchise_dict = {k:v for k,v in franchise_counts.items() if v < 3}\n",
    "franchise_ids_to_drop = list(franchise_dict.keys())\n",
    "\n",
    "mask = giantbomb_games['franchise_id'].isin(franchise_ids_to_drop)\n",
    "giantbomb_games = giantbomb_games.drop(index=giantbomb_games[mask].index)"
   ]
  },
  {
   "cell_type": "code",
   "execution_count": 17,
   "metadata": {},
   "outputs": [
    {
     "data": {
      "text/plain": [
       "franchise_id    31529\n",
       "game_id         31529\n",
       "name            31529\n",
       "release_year     4668\n",
       "aliases          7423\n",
       "developers      29402\n",
       "genres          30205\n",
       "platforms       31251\n",
       "publishers      30282\n",
       "rating          13149\n",
       "dtype: int64"
      ]
     },
     "execution_count": 17,
     "metadata": {},
     "output_type": "execute_result"
    }
   ],
   "source": [
    "giantbomb_games.count()"
   ]
  },
  {
   "cell_type": "markdown",
   "metadata": {},
   "source": [
    "The first thing to do is to combine all the games that have an identical franchise_id, release_year and name. With this criteria we will assume they are all the same game released on different platforms for example. We want to consider the release_year even when it is a nan value, so we convert all nan values to 0 accommodate this. Once we've done this, we group by game_id to combine the franchises for each individual game"
   ]
  },
  {
   "cell_type": "code",
   "execution_count": 18,
   "metadata": {},
   "outputs": [],
   "source": [
    "giantbomb_games = giantbomb_games.groupby([\"name\", \"franchise_id\", giantbomb_games[\"release_year\"].fillna(0)]).agg({\n",
    "    \"aliases\": lambda x: list(set(x)),\n",
    "    \"developers\": lambda x: list(set(x)),\n",
    "    \"genres\": lambda x: list(set(x)),\n",
    "    \"platforms\": lambda x: list(set(x)),\n",
    "    \"publishers\": lambda x: list(set(x)),\n",
    "    \"rating\": lambda x: list(set(x)),\n",
    "    \"game_id\": \"first\"\n",
    "}).reset_index().drop_duplicates([\"game_id\", \"name\", \"franchise_id\", \"release_year\"], keep=\"first\")\n",
    "\n",
    "giantbomb_games = giantbomb_games.groupby('game_id').agg({\n",
    "    'franchise_id': lambda x: list(x),\n",
    "    'name': 'first',\n",
    "    'release_year': 'first',\n",
    "    'aliases': 'first',\n",
    "    'developers': 'first',\n",
    "    'genres': 'first',\n",
    "    \"platforms\": \"first\",\n",
    "    \"publishers\" : \"first\",\n",
    "    \"rating\": \"first\"\n",
    "})\n",
    "\n",
    "# Change year to string to match imdb database\n",
    "giantbomb_games[\"release_year\"] = giantbomb_games[\"release_year\"].apply(lambda x : str(x).split('.')[0])"
   ]
  },
  {
   "cell_type": "code",
   "execution_count": 19,
   "metadata": {
    "scrolled": true
   },
   "outputs": [
    {
     "data": {
      "text/html": [
       "<div>\n",
       "<style scoped>\n",
       "    .dataframe tbody tr th:only-of-type {\n",
       "        vertical-align: middle;\n",
       "    }\n",
       "\n",
       "    .dataframe tbody tr th {\n",
       "        vertical-align: top;\n",
       "    }\n",
       "\n",
       "    .dataframe thead th {\n",
       "        text-align: right;\n",
       "    }\n",
       "</style>\n",
       "<table border=\"1\" class=\"dataframe\">\n",
       "  <thead>\n",
       "    <tr style=\"text-align: right;\">\n",
       "      <th></th>\n",
       "      <th>franchise_id</th>\n",
       "      <th>name</th>\n",
       "      <th>release_year</th>\n",
       "      <th>aliases</th>\n",
       "      <th>developers</th>\n",
       "      <th>genres</th>\n",
       "      <th>platforms</th>\n",
       "      <th>publishers</th>\n",
       "      <th>rating</th>\n",
       "    </tr>\n",
       "    <tr>\n",
       "      <th>game_id</th>\n",
       "      <th></th>\n",
       "      <th></th>\n",
       "      <th></th>\n",
       "      <th></th>\n",
       "      <th></th>\n",
       "      <th></th>\n",
       "      <th></th>\n",
       "      <th></th>\n",
       "      <th></th>\n",
       "    </tr>\n",
       "  </thead>\n",
       "  <tbody>\n",
       "    <tr>\n",
       "      <th>1</th>\n",
       "      <td>[3025-143, 3025-2573]</td>\n",
       "      <td>Desert Strike: Return to the Gulf</td>\n",
       "      <td>1992</td>\n",
       "      <td>[Desert Strike Advance]</td>\n",
       "      <td>[['Electronic Arts', 'Visual Concepts', 'Budca...</td>\n",
       "      <td>[['Action', \"Shoot 'Em Up\"]]</td>\n",
       "      <td>[['Amiga', 'Game Boy', 'Game Boy Advance', 'Ga...</td>\n",
       "      <td>[['Electronic Arts', 'Domark Software', 'Malib...</td>\n",
       "      <td>[['ESRB: K-A', 'ESRB: E']]</td>\n",
       "    </tr>\n",
       "    <tr>\n",
       "      <th>3</th>\n",
       "      <td>[3025-2060]</td>\n",
       "      <td>Hyperballoid Deluxe: Survival Pack</td>\n",
       "      <td>0</td>\n",
       "      <td>[nan]</td>\n",
       "      <td>[['Kernel Kaput']]</td>\n",
       "      <td>[['Action', 'Block-Breaking']]</td>\n",
       "      <td>[['PC']]</td>\n",
       "      <td>[['Alawar Entertainment, Inc.']]</td>\n",
       "      <td>[nan]</td>\n",
       "    </tr>\n",
       "    <tr>\n",
       "      <th>4</th>\n",
       "      <td>[3025-1110]</td>\n",
       "      <td>The Chessmaster 2000</td>\n",
       "      <td>1986</td>\n",
       "      <td>[nan]</td>\n",
       "      <td>[['The Software Toolworks', 'Software Country'...</td>\n",
       "      <td>[['Strategy', 'Trivia/Board Game']]</td>\n",
       "      <td>[['Amiga', 'Amstrad CPC', 'Apple II', 'Atari S...</td>\n",
       "      <td>[['The Software Toolworks', 'Software Country'...</td>\n",
       "      <td>[nan]</td>\n",
       "    </tr>\n",
       "    <tr>\n",
       "      <th>6</th>\n",
       "      <td>[3025-128, 3025-130, 3025-1372]</td>\n",
       "      <td>WWE SmackDown! vs. RAW 2007</td>\n",
       "      <td>0</td>\n",
       "      <td>[SVR 2007]</td>\n",
       "      <td>[[\"Yuke's Co. Ltd.\", 'Digital Hearts Co., Ltd....</td>\n",
       "      <td>[['Action', 'Sports', 'Wrestling']]</td>\n",
       "      <td>[['PlayStation Portable', 'PlayStation 2', 'Xb...</td>\n",
       "      <td>[['THQ']]</td>\n",
       "      <td>[['ESRB: T', 'PEGI: 16+', 'CERO: C']]</td>\n",
       "    </tr>\n",
       "    <tr>\n",
       "      <th>8</th>\n",
       "      <td>[3025-335]</td>\n",
       "      <td>Super Spy Hunter</td>\n",
       "      <td>0</td>\n",
       "      <td>[Battle Formula]</td>\n",
       "      <td>[['Tokai Engineering']]</td>\n",
       "      <td>[['Vehicular Combat']]</td>\n",
       "      <td>[['Nintendo Entertainment System']]</td>\n",
       "      <td>[['Sunsoft']]</td>\n",
       "      <td>[nan]</td>\n",
       "    </tr>\n",
       "    <tr>\n",
       "      <th>...</th>\n",
       "      <td>...</td>\n",
       "      <td>...</td>\n",
       "      <td>...</td>\n",
       "      <td>...</td>\n",
       "      <td>...</td>\n",
       "      <td>...</td>\n",
       "      <td>...</td>\n",
       "      <td>...</td>\n",
       "      <td>...</td>\n",
       "    </tr>\n",
       "    <tr>\n",
       "      <th>88822</th>\n",
       "      <td>[3025-2291]</td>\n",
       "      <td>Winning Post 10</td>\n",
       "      <td>0</td>\n",
       "      <td>[nan]</td>\n",
       "      <td>[nan]</td>\n",
       "      <td>[['Driving/Racing']]</td>\n",
       "      <td>[['PC', 'PlayStation 4', 'Nintendo Switch', 'P...</td>\n",
       "      <td>[['Koei Tecmo']]</td>\n",
       "      <td>[['CERO: A']]</td>\n",
       "    </tr>\n",
       "    <tr>\n",
       "      <th>88824</th>\n",
       "      <td>[3025-5696]</td>\n",
       "      <td>Wan Nyan Dōbutsu Byōin</td>\n",
       "      <td>0</td>\n",
       "      <td>[nan]</td>\n",
       "      <td>[nan]</td>\n",
       "      <td>[['Simulation']]</td>\n",
       "      <td>[['Game Boy Advance']]</td>\n",
       "      <td>[['TDK Core']]</td>\n",
       "      <td>[['CERO: All Ages']]</td>\n",
       "    </tr>\n",
       "    <tr>\n",
       "      <th>88831</th>\n",
       "      <td>[3025-5699]</td>\n",
       "      <td>Shogi Saikyou: Pro ni Manabu</td>\n",
       "      <td>0</td>\n",
       "      <td>[nan]</td>\n",
       "      <td>[['Magical Company']]</td>\n",
       "      <td>[['Trivia/Board Game']]</td>\n",
       "      <td>[['PlayStation']]</td>\n",
       "      <td>[['Magical Company']]</td>\n",
       "      <td>[nan]</td>\n",
       "    </tr>\n",
       "    <tr>\n",
       "      <th>88834</th>\n",
       "      <td>[3025-383]</td>\n",
       "      <td>The Murder of Sonic the Hedgehog</td>\n",
       "      <td>0</td>\n",
       "      <td>[nan]</td>\n",
       "      <td>[['Sega']]</td>\n",
       "      <td>[['Adventure']]</td>\n",
       "      <td>[['Mac', 'PC']]</td>\n",
       "      <td>[['Sega']]</td>\n",
       "      <td>[nan]</td>\n",
       "    </tr>\n",
       "    <tr>\n",
       "      <th>88837</th>\n",
       "      <td>[3025-4309]</td>\n",
       "      <td>Morita Shogi Advance</td>\n",
       "      <td>0</td>\n",
       "      <td>[nan]</td>\n",
       "      <td>[nan]</td>\n",
       "      <td>[['Trivia/Board Game']]</td>\n",
       "      <td>[['Game Boy Advance']]</td>\n",
       "      <td>[['Hudson Entertainment, Inc.']]</td>\n",
       "      <td>[nan]</td>\n",
       "    </tr>\n",
       "  </tbody>\n",
       "</table>\n",
       "<p>25623 rows × 9 columns</p>\n",
       "</div>"
      ],
      "text/plain": [
       "                            franchise_id                                name  \\\n",
       "game_id                                                                        \n",
       "1                  [3025-143, 3025-2573]   Desert Strike: Return to the Gulf   \n",
       "3                            [3025-2060]  Hyperballoid Deluxe: Survival Pack   \n",
       "4                            [3025-1110]                The Chessmaster 2000   \n",
       "6        [3025-128, 3025-130, 3025-1372]         WWE SmackDown! vs. RAW 2007   \n",
       "8                             [3025-335]                    Super Spy Hunter   \n",
       "...                                  ...                                 ...   \n",
       "88822                        [3025-2291]                     Winning Post 10   \n",
       "88824                        [3025-5696]              Wan Nyan Dōbutsu Byōin   \n",
       "88831                        [3025-5699]        Shogi Saikyou: Pro ni Manabu   \n",
       "88834                         [3025-383]    The Murder of Sonic the Hedgehog   \n",
       "88837                        [3025-4309]                Morita Shogi Advance   \n",
       "\n",
       "        release_year                  aliases  \\\n",
       "game_id                                         \n",
       "1               1992  [Desert Strike Advance]   \n",
       "3                  0                    [nan]   \n",
       "4               1986                    [nan]   \n",
       "6                  0               [SVR 2007]   \n",
       "8                  0         [Battle Formula]   \n",
       "...              ...                      ...   \n",
       "88822              0                    [nan]   \n",
       "88824              0                    [nan]   \n",
       "88831              0                    [nan]   \n",
       "88834              0                    [nan]   \n",
       "88837              0                    [nan]   \n",
       "\n",
       "                                                developers  \\\n",
       "game_id                                                      \n",
       "1        [['Electronic Arts', 'Visual Concepts', 'Budca...   \n",
       "3                                       [['Kernel Kaput']]   \n",
       "4        [['The Software Toolworks', 'Software Country'...   \n",
       "6        [[\"Yuke's Co. Ltd.\", 'Digital Hearts Co., Ltd....   \n",
       "8                                  [['Tokai Engineering']]   \n",
       "...                                                    ...   \n",
       "88822                                                [nan]   \n",
       "88824                                                [nan]   \n",
       "88831                                [['Magical Company']]   \n",
       "88834                                           [['Sega']]   \n",
       "88837                                                [nan]   \n",
       "\n",
       "                                      genres  \\\n",
       "game_id                                        \n",
       "1               [['Action', \"Shoot 'Em Up\"]]   \n",
       "3             [['Action', 'Block-Breaking']]   \n",
       "4        [['Strategy', 'Trivia/Board Game']]   \n",
       "6        [['Action', 'Sports', 'Wrestling']]   \n",
       "8                     [['Vehicular Combat']]   \n",
       "...                                      ...   \n",
       "88822                   [['Driving/Racing']]   \n",
       "88824                       [['Simulation']]   \n",
       "88831                [['Trivia/Board Game']]   \n",
       "88834                        [['Adventure']]   \n",
       "88837                [['Trivia/Board Game']]   \n",
       "\n",
       "                                                 platforms  \\\n",
       "game_id                                                      \n",
       "1        [['Amiga', 'Game Boy', 'Game Boy Advance', 'Ga...   \n",
       "3                                                 [['PC']]   \n",
       "4        [['Amiga', 'Amstrad CPC', 'Apple II', 'Atari S...   \n",
       "6        [['PlayStation Portable', 'PlayStation 2', 'Xb...   \n",
       "8                      [['Nintendo Entertainment System']]   \n",
       "...                                                    ...   \n",
       "88822    [['PC', 'PlayStation 4', 'Nintendo Switch', 'P...   \n",
       "88824                               [['Game Boy Advance']]   \n",
       "88831                                    [['PlayStation']]   \n",
       "88834                                      [['Mac', 'PC']]   \n",
       "88837                               [['Game Boy Advance']]   \n",
       "\n",
       "                                                publishers  \\\n",
       "game_id                                                      \n",
       "1        [['Electronic Arts', 'Domark Software', 'Malib...   \n",
       "3                         [['Alawar Entertainment, Inc.']]   \n",
       "4        [['The Software Toolworks', 'Software Country'...   \n",
       "6                                                [['THQ']]   \n",
       "8                                            [['Sunsoft']]   \n",
       "...                                                    ...   \n",
       "88822                                     [['Koei Tecmo']]   \n",
       "88824                                       [['TDK Core']]   \n",
       "88831                                [['Magical Company']]   \n",
       "88834                                           [['Sega']]   \n",
       "88837                     [['Hudson Entertainment, Inc.']]   \n",
       "\n",
       "                                        rating  \n",
       "game_id                                         \n",
       "1                   [['ESRB: K-A', 'ESRB: E']]  \n",
       "3                                        [nan]  \n",
       "4                                        [nan]  \n",
       "6        [['ESRB: T', 'PEGI: 16+', 'CERO: C']]  \n",
       "8                                        [nan]  \n",
       "...                                        ...  \n",
       "88822                            [['CERO: A']]  \n",
       "88824                     [['CERO: All Ages']]  \n",
       "88831                                    [nan]  \n",
       "88834                                    [nan]  \n",
       "88837                                    [nan]  \n",
       "\n",
       "[25623 rows x 9 columns]"
      ]
     },
     "execution_count": 19,
     "metadata": {},
     "output_type": "execute_result"
    }
   ],
   "source": [
    "giantbomb_games.sort_values(\"game_id\")"
   ]
  },
  {
   "cell_type": "markdown",
   "metadata": {},
   "source": [
    "We can now get a record of the number of duplicate names in the data"
   ]
  },
  {
   "cell_type": "code",
   "execution_count": 20,
   "metadata": {},
   "outputs": [
    {
     "data": {
      "text/plain": [
       "560"
      ]
     },
     "execution_count": 20,
     "metadata": {},
     "output_type": "execute_result"
    }
   ],
   "source": [
    "giantbomb_games.name[giantbomb_games.duplicated([\"name\"], keep=False)].count()"
   ]
  },
  {
   "cell_type": "markdown",
   "metadata": {},
   "source": [
    "We can add the criteria to distinguish by both name and release year, which returns the following:"
   ]
  },
  {
   "cell_type": "code",
   "execution_count": 21,
   "metadata": {
    "scrolled": true
   },
   "outputs": [
    {
     "data": {
      "text/plain": [
       "72"
      ]
     },
     "execution_count": 21,
     "metadata": {},
     "output_type": "execute_result"
    }
   ],
   "source": [
    "giantbomb_games.name[giantbomb_games.duplicated([\"name\", \"release_year\"], keep=False)].count()"
   ]
  },
  {
   "cell_type": "markdown",
   "metadata": {},
   "source": [
    "We'll combine any duplicates in giantbomb which have the same name and release year"
   ]
  },
  {
   "cell_type": "code",
   "execution_count": 41,
   "metadata": {},
   "outputs": [],
   "source": [
    "# group by name and release year, aggregate the franchise_id lists\n",
    "giantbomb_games = giantbomb_games.groupby(['name', 'release_year'], as_index=False).agg({\n",
    "    'franchise_id': lambda x: list(set([i for l in x for i in l])),\n",
    "    'name': 'first',\n",
    "    'release_year': 'first',\n",
    "    \"aliases\": 'first',\n",
    "    \"developers\": lambda x: list(set([i for l in x for i in l])),\n",
    "    \"genres\": lambda x: list(set([i for l in x for i in l])),\n",
    "    \"platforms\": lambda x: list(set([i for l in x for i in l])),\n",
    "    \"publishers\" : lambda x: list(set([i for l in x for i in l])),\n",
    "    \"rating\": lambda x: list(set([i for l in x for i in l]))\n",
    "})"
   ]
  },
  {
   "cell_type": "markdown",
   "metadata": {},
   "source": [
    "The release year needs to be converted to a string so we can compare it to the imdb database. We also need to tmove trailing decimal points."
   ]
  },
  {
   "cell_type": "code",
   "execution_count": 43,
   "metadata": {},
   "outputs": [],
   "source": [
    "giantbomb_games[\"release_year\"] = giantbomb_games[\"release_year\"].apply(lambda x : str(x).split('.')[0])"
   ]
  },
  {
   "cell_type": "markdown",
   "metadata": {},
   "source": [
    "Reset the index so we have access to the game_ids"
   ]
  },
  {
   "cell_type": "code",
   "execution_count": 44,
   "metadata": {},
   "outputs": [],
   "source": [
    "giantbomb_games = giantbomb_games.reset_index()"
   ]
  },
  {
   "cell_type": "markdown",
   "metadata": {},
   "source": [
    "Unfortunately, at this stage, this is the furthest we can go for dealing with duplicates. The imdb datasets do not provide any additional information that can be corroborated across the two dataframes. As such there is no way to distinguish between a duplicate in the imdb dataset if the name and year are not unique in the giantbomb dataset. From this point, we now need to remove any duplicates in the imdb dataset, where there is not a clear distinction within the giantbomb dataset. The first thing I will do is isolate the duplicates. Then drop from the duplicates dataframe anywhere we can clearly identify which version of a game that duplicate is. Once we've finished we'll be left with a small dataframe of duplicates which we have tried all methods to identify the original game and failed. Every record left in the small dataframe will be dropped from our full imdb dataframe"
   ]
  },
  {
   "cell_type": "code",
   "execution_count": 45,
   "metadata": {},
   "outputs": [
    {
     "data": {
      "text/html": [
       "<div>\n",
       "<style scoped>\n",
       "    .dataframe tbody tr th:only-of-type {\n",
       "        vertical-align: middle;\n",
       "    }\n",
       "\n",
       "    .dataframe tbody tr th {\n",
       "        vertical-align: top;\n",
       "    }\n",
       "\n",
       "    .dataframe thead th {\n",
       "        text-align: right;\n",
       "    }\n",
       "</style>\n",
       "<table border=\"1\" class=\"dataframe\">\n",
       "  <thead>\n",
       "    <tr style=\"text-align: right;\">\n",
       "      <th></th>\n",
       "      <th>tconst</th>\n",
       "      <th>titleType</th>\n",
       "      <th>primaryTitle</th>\n",
       "      <th>originalTitle</th>\n",
       "      <th>isAdult</th>\n",
       "      <th>startYear</th>\n",
       "      <th>endYear</th>\n",
       "      <th>runtimeMinutes</th>\n",
       "      <th>genres</th>\n",
       "      <th>averageRating</th>\n",
       "      <th>numVotes</th>\n",
       "      <th>akas</th>\n",
       "    </tr>\n",
       "  </thead>\n",
       "  <tbody>\n",
       "    <tr>\n",
       "      <th>7212109</th>\n",
       "      <td>tt4354918</td>\n",
       "      <td>videoGame</td>\n",
       "      <td>#IDARB (It Draws a Red Box)</td>\n",
       "      <td>#IDARB (It Draws a Red Box)</td>\n",
       "      <td>0</td>\n",
       "      <td>2015</td>\n",
       "      <td>\\N</td>\n",
       "      <td>\\N</td>\n",
       "      <td>Action</td>\n",
       "      <td>5.8</td>\n",
       "      <td>25.0</td>\n",
       "      <td>['#IDARB (It Draws a Red Box)']</td>\n",
       "    </tr>\n",
       "    <tr>\n",
       "      <th>5075818</th>\n",
       "      <td>tt1968978</td>\n",
       "      <td>videoGame</td>\n",
       "      <td>'88 Games</td>\n",
       "      <td>Hyper Sports Special</td>\n",
       "      <td>0</td>\n",
       "      <td>1988</td>\n",
       "      <td>\\N</td>\n",
       "      <td>\\N</td>\n",
       "      <td>Sport</td>\n",
       "      <td>6.0</td>\n",
       "      <td>14.0</td>\n",
       "      <td>[\"Track &amp; Field '88\", 'Hyper Sports Special', ...</td>\n",
       "    </tr>\n",
       "    <tr>\n",
       "      <th>367403</th>\n",
       "      <td>tt0383279</td>\n",
       "      <td>videoGame</td>\n",
       "      <td>'Goodbye, Galaxy!' Episode IV: Secret of the O...</td>\n",
       "      <td>'Goodbye, Galaxy!' Episode IV: Secret of the O...</td>\n",
       "      <td>0</td>\n",
       "      <td>1991</td>\n",
       "      <td>\\N</td>\n",
       "      <td>\\N</td>\n",
       "      <td>Action,Adventure,Sci-Fi</td>\n",
       "      <td>7.7</td>\n",
       "      <td>102.0</td>\n",
       "      <td>[\"'Goodbye, Galaxy!' Episode IV: Secret of the...</td>\n",
       "    </tr>\n",
       "    <tr>\n",
       "      <th>367404</th>\n",
       "      <td>tt0383280</td>\n",
       "      <td>videoGame</td>\n",
       "      <td>'Goodbye, Galaxy!' Episode V: The Armageddon M...</td>\n",
       "      <td>'Goodbye, Galaxy!' Episode V: The Armageddon M...</td>\n",
       "      <td>0</td>\n",
       "      <td>1991</td>\n",
       "      <td>\\N</td>\n",
       "      <td>\\N</td>\n",
       "      <td>Action,Adventure,Sci-Fi</td>\n",
       "      <td>7.4</td>\n",
       "      <td>82.0</td>\n",
       "      <td>[\"'Goodbye, Galaxy!' Episode V: The Armageddon...</td>\n",
       "    </tr>\n",
       "    <tr>\n",
       "      <th>4983813</th>\n",
       "      <td>tt1918633</td>\n",
       "      <td>videoGame</td>\n",
       "      <td>.detuned</td>\n",
       "      <td>.detuned</td>\n",
       "      <td>0</td>\n",
       "      <td>2009</td>\n",
       "      <td>\\N</td>\n",
       "      <td>\\N</td>\n",
       "      <td>Music</td>\n",
       "      <td>2.3</td>\n",
       "      <td>28.0</td>\n",
       "      <td>['.detuned', 'detuned: Gumi senpai no fushigi ...</td>\n",
       "    </tr>\n",
       "    <tr>\n",
       "      <th>...</th>\n",
       "      <td>...</td>\n",
       "      <td>...</td>\n",
       "      <td>...</td>\n",
       "      <td>...</td>\n",
       "      <td>...</td>\n",
       "      <td>...</td>\n",
       "      <td>...</td>\n",
       "      <td>...</td>\n",
       "      <td>...</td>\n",
       "      <td>...</td>\n",
       "      <td>...</td>\n",
       "      <td>...</td>\n",
       "    </tr>\n",
       "    <tr>\n",
       "      <th>8014707</th>\n",
       "      <td>tt6169512</td>\n",
       "      <td>videoGame</td>\n",
       "      <td>osu!</td>\n",
       "      <td>osu!</td>\n",
       "      <td>0</td>\n",
       "      <td>2007</td>\n",
       "      <td>\\N</td>\n",
       "      <td>\\N</td>\n",
       "      <td>Music,Musical</td>\n",
       "      <td>7.4</td>\n",
       "      <td>107.0</td>\n",
       "      <td>['osu!']</td>\n",
       "    </tr>\n",
       "    <tr>\n",
       "      <th>295707</th>\n",
       "      <td>tt0308989</td>\n",
       "      <td>videoGame</td>\n",
       "      <td>ssn</td>\n",
       "      <td>ssn</td>\n",
       "      <td>0</td>\n",
       "      <td>1996</td>\n",
       "      <td>\\N</td>\n",
       "      <td>\\N</td>\n",
       "      <td>\\N</td>\n",
       "      <td>7.9</td>\n",
       "      <td>13.0</td>\n",
       "      <td>['ssn']</td>\n",
       "    </tr>\n",
       "    <tr>\n",
       "      <th>770432</th>\n",
       "      <td>tt0795512</td>\n",
       "      <td>videoGame</td>\n",
       "      <td>Æon Flux</td>\n",
       "      <td>Æon Flux</td>\n",
       "      <td>0</td>\n",
       "      <td>2005</td>\n",
       "      <td>\\N</td>\n",
       "      <td>\\N</td>\n",
       "      <td>Action,Adventure,Sci-Fi</td>\n",
       "      <td>5.6</td>\n",
       "      <td>265.0</td>\n",
       "      <td>['Æon Flux']</td>\n",
       "    </tr>\n",
       "    <tr>\n",
       "      <th>2185219</th>\n",
       "      <td>tt1219283</td>\n",
       "      <td>videoGame</td>\n",
       "      <td>Îhatôvo monogatari</td>\n",
       "      <td>Îhatôvo monogatari</td>\n",
       "      <td>0</td>\n",
       "      <td>1993</td>\n",
       "      <td>\\N</td>\n",
       "      <td>\\N</td>\n",
       "      <td>Adventure</td>\n",
       "      <td>7.0</td>\n",
       "      <td>6.0</td>\n",
       "      <td>['Ihatovo Story', 'Îhatôvo monogatari']</td>\n",
       "    </tr>\n",
       "    <tr>\n",
       "      <th>3830097</th>\n",
       "      <td>tt15235564</td>\n",
       "      <td>videoGame</td>\n",
       "      <td>ÜberSoldier</td>\n",
       "      <td>ÜberSoldier</td>\n",
       "      <td>0</td>\n",
       "      <td>2006</td>\n",
       "      <td>\\N</td>\n",
       "      <td>\\N</td>\n",
       "      <td>Action,Adventure,Sci-Fi</td>\n",
       "      <td>7.2</td>\n",
       "      <td>7.0</td>\n",
       "      <td>['ÜberSoldier']</td>\n",
       "    </tr>\n",
       "  </tbody>\n",
       "</table>\n",
       "<p>14384 rows × 12 columns</p>\n",
       "</div>"
      ],
      "text/plain": [
       "             tconst  titleType  \\\n",
       "7212109   tt4354918  videoGame   \n",
       "5075818   tt1968978  videoGame   \n",
       "367403    tt0383279  videoGame   \n",
       "367404    tt0383280  videoGame   \n",
       "4983813   tt1918633  videoGame   \n",
       "...             ...        ...   \n",
       "8014707   tt6169512  videoGame   \n",
       "295707    tt0308989  videoGame   \n",
       "770432    tt0795512  videoGame   \n",
       "2185219   tt1219283  videoGame   \n",
       "3830097  tt15235564  videoGame   \n",
       "\n",
       "                                              primaryTitle  \\\n",
       "7212109                        #IDARB (It Draws a Red Box)   \n",
       "5075818                                          '88 Games   \n",
       "367403   'Goodbye, Galaxy!' Episode IV: Secret of the O...   \n",
       "367404   'Goodbye, Galaxy!' Episode V: The Armageddon M...   \n",
       "4983813                                           .detuned   \n",
       "...                                                    ...   \n",
       "8014707                                               osu!   \n",
       "295707                                                 ssn   \n",
       "770432                                            Æon Flux   \n",
       "2185219                                 Îhatôvo monogatari   \n",
       "3830097                                        ÜberSoldier   \n",
       "\n",
       "                                             originalTitle  isAdult startYear  \\\n",
       "7212109                        #IDARB (It Draws a Red Box)        0      2015   \n",
       "5075818                               Hyper Sports Special        0      1988   \n",
       "367403   'Goodbye, Galaxy!' Episode IV: Secret of the O...        0      1991   \n",
       "367404   'Goodbye, Galaxy!' Episode V: The Armageddon M...        0      1991   \n",
       "4983813                                           .detuned        0      2009   \n",
       "...                                                    ...      ...       ...   \n",
       "8014707                                               osu!        0      2007   \n",
       "295707                                                 ssn        0      1996   \n",
       "770432                                            Æon Flux        0      2005   \n",
       "2185219                                 Îhatôvo monogatari        0      1993   \n",
       "3830097                                        ÜberSoldier        0      2006   \n",
       "\n",
       "        endYear runtimeMinutes                   genres  averageRating  \\\n",
       "7212109      \\N             \\N                   Action            5.8   \n",
       "5075818      \\N             \\N                    Sport            6.0   \n",
       "367403       \\N             \\N  Action,Adventure,Sci-Fi            7.7   \n",
       "367404       \\N             \\N  Action,Adventure,Sci-Fi            7.4   \n",
       "4983813      \\N             \\N                    Music            2.3   \n",
       "...         ...            ...                      ...            ...   \n",
       "8014707      \\N             \\N            Music,Musical            7.4   \n",
       "295707       \\N             \\N                       \\N            7.9   \n",
       "770432       \\N             \\N  Action,Adventure,Sci-Fi            5.6   \n",
       "2185219      \\N             \\N                Adventure            7.0   \n",
       "3830097      \\N             \\N  Action,Adventure,Sci-Fi            7.2   \n",
       "\n",
       "         numVotes                                               akas  \n",
       "7212109      25.0                    ['#IDARB (It Draws a Red Box)']  \n",
       "5075818      14.0  [\"Track & Field '88\", 'Hyper Sports Special', ...  \n",
       "367403      102.0  [\"'Goodbye, Galaxy!' Episode IV: Secret of the...  \n",
       "367404       82.0  [\"'Goodbye, Galaxy!' Episode V: The Armageddon...  \n",
       "4983813      28.0  ['.detuned', 'detuned: Gumi senpai no fushigi ...  \n",
       "...           ...                                                ...  \n",
       "8014707     107.0                                           ['osu!']  \n",
       "295707       13.0                                            ['ssn']  \n",
       "770432      265.0                                       ['Æon Flux']  \n",
       "2185219       6.0            ['Ihatovo Story', 'Îhatôvo monogatari']  \n",
       "3830097       7.0                                    ['ÜberSoldier']  \n",
       "\n",
       "[14384 rows x 12 columns]"
      ]
     },
     "execution_count": 45,
     "metadata": {},
     "output_type": "execute_result"
    }
   ],
   "source": [
    "imdb_games"
   ]
  },
  {
   "cell_type": "code",
   "execution_count": null,
   "metadata": {},
   "outputs": [],
   "source": []
  },
  {
   "cell_type": "code",
   "execution_count": 49,
   "metadata": {},
   "outputs": [],
   "source": [
    "imdb_duplicates = imdb_games[imdb_games.duplicated([\"primaryTitle\"], keep=False)]"
   ]
  },
  {
   "cell_type": "code",
   "execution_count": 51,
   "metadata": {},
   "outputs": [
    {
     "data": {
      "text/html": [
       "<div>\n",
       "<style scoped>\n",
       "    .dataframe tbody tr th:only-of-type {\n",
       "        vertical-align: middle;\n",
       "    }\n",
       "\n",
       "    .dataframe tbody tr th {\n",
       "        vertical-align: top;\n",
       "    }\n",
       "\n",
       "    .dataframe thead th {\n",
       "        text-align: right;\n",
       "    }\n",
       "</style>\n",
       "<table border=\"1\" class=\"dataframe\">\n",
       "  <thead>\n",
       "    <tr style=\"text-align: right;\">\n",
       "      <th></th>\n",
       "      <th>tconst</th>\n",
       "      <th>titleType</th>\n",
       "      <th>primaryTitle</th>\n",
       "      <th>originalTitle</th>\n",
       "      <th>isAdult</th>\n",
       "      <th>startYear</th>\n",
       "      <th>endYear</th>\n",
       "      <th>runtimeMinutes</th>\n",
       "      <th>genres</th>\n",
       "      <th>averageRating</th>\n",
       "      <th>numVotes</th>\n",
       "      <th>akas</th>\n",
       "    </tr>\n",
       "  </thead>\n",
       "  <tbody>\n",
       "    <tr>\n",
       "      <th>5813970</th>\n",
       "      <td>tt2273075</td>\n",
       "      <td>videoGame</td>\n",
       "      <td>Action 52</td>\n",
       "      <td>Action 52</td>\n",
       "      <td>0</td>\n",
       "      <td>1991</td>\n",
       "      <td>\\N</td>\n",
       "      <td>\\N</td>\n",
       "      <td>Action,Family,Fantasy</td>\n",
       "      <td>1.3</td>\n",
       "      <td>141.0</td>\n",
       "      <td>['Action 52']</td>\n",
       "    </tr>\n",
       "    <tr>\n",
       "      <th>7523132</th>\n",
       "      <td>tt5058272</td>\n",
       "      <td>videoGame</td>\n",
       "      <td>Action 52</td>\n",
       "      <td>Action 52</td>\n",
       "      <td>0</td>\n",
       "      <td>1993</td>\n",
       "      <td>\\N</td>\n",
       "      <td>\\N</td>\n",
       "      <td>\\N</td>\n",
       "      <td>3.1</td>\n",
       "      <td>28.0</td>\n",
       "      <td>['Action 52']</td>\n",
       "    </tr>\n",
       "    <tr>\n",
       "      <th>8286665</th>\n",
       "      <td>tt6777472</td>\n",
       "      <td>videoGame</td>\n",
       "      <td>Adam's Venture: Origins</td>\n",
       "      <td>Adam's Venture: Episode 1, The Search for the ...</td>\n",
       "      <td>0</td>\n",
       "      <td>2009</td>\n",
       "      <td>\\N</td>\n",
       "      <td>\\N</td>\n",
       "      <td>\\N</td>\n",
       "      <td>5.8</td>\n",
       "      <td>15.0</td>\n",
       "      <td>[\"Adam's Venture: Episode 1, The Search for th...</td>\n",
       "    </tr>\n",
       "    <tr>\n",
       "      <th>8302190</th>\n",
       "      <td>tt6813690</td>\n",
       "      <td>videoGame</td>\n",
       "      <td>Adam's Venture: Origins</td>\n",
       "      <td>Adam's Venture: Episode 2, Solomon's Secret</td>\n",
       "      <td>0</td>\n",
       "      <td>2011</td>\n",
       "      <td>\\N</td>\n",
       "      <td>\\N</td>\n",
       "      <td>\\N</td>\n",
       "      <td>7.5</td>\n",
       "      <td>9.0</td>\n",
       "      <td>[\"Adam's Venture: Episode 2, Solomon's Secret\"...</td>\n",
       "    </tr>\n",
       "    <tr>\n",
       "      <th>8302192</th>\n",
       "      <td>tt6813694</td>\n",
       "      <td>videoGame</td>\n",
       "      <td>Adam's Venture: Origins</td>\n",
       "      <td>Adam's Venture: Episode 3, Revelations</td>\n",
       "      <td>0</td>\n",
       "      <td>2012</td>\n",
       "      <td>\\N</td>\n",
       "      <td>\\N</td>\n",
       "      <td>\\N</td>\n",
       "      <td>5.6</td>\n",
       "      <td>9.0</td>\n",
       "      <td>[\"Adam's Venture: Origins\", \"Adam's Venture: E...</td>\n",
       "    </tr>\n",
       "    <tr>\n",
       "      <th>...</th>\n",
       "      <td>...</td>\n",
       "      <td>...</td>\n",
       "      <td>...</td>\n",
       "      <td>...</td>\n",
       "      <td>...</td>\n",
       "      <td>...</td>\n",
       "      <td>...</td>\n",
       "      <td>...</td>\n",
       "      <td>...</td>\n",
       "      <td>...</td>\n",
       "      <td>...</td>\n",
       "      <td>...</td>\n",
       "    </tr>\n",
       "    <tr>\n",
       "      <th>5475671</th>\n",
       "      <td>tt2132358</td>\n",
       "      <td>videoGame</td>\n",
       "      <td>Zombi</td>\n",
       "      <td>ZombiU</td>\n",
       "      <td>0</td>\n",
       "      <td>2012</td>\n",
       "      <td>\\N</td>\n",
       "      <td>\\N</td>\n",
       "      <td>Action,Adventure,Horror</td>\n",
       "      <td>6.3</td>\n",
       "      <td>259.0</td>\n",
       "      <td>['ZombiU', 'Zombi', 'Killer Freaks from Outer ...</td>\n",
       "    </tr>\n",
       "    <tr>\n",
       "      <th>249553</th>\n",
       "      <td>tt0260590</td>\n",
       "      <td>videoGame</td>\n",
       "      <td>Zoo Keeper</td>\n",
       "      <td>Zoo Keeper</td>\n",
       "      <td>0</td>\n",
       "      <td>1983</td>\n",
       "      <td>\\N</td>\n",
       "      <td>\\N</td>\n",
       "      <td>Family</td>\n",
       "      <td>7.0</td>\n",
       "      <td>21.0</td>\n",
       "      <td>['Zoo Keeper', 'King Crab']</td>\n",
       "    </tr>\n",
       "    <tr>\n",
       "      <th>436868</th>\n",
       "      <td>tt0454991</td>\n",
       "      <td>videoGame</td>\n",
       "      <td>Zoo Keeper</td>\n",
       "      <td>Zoo Keeper</td>\n",
       "      <td>0</td>\n",
       "      <td>2004</td>\n",
       "      <td>\\N</td>\n",
       "      <td>\\N</td>\n",
       "      <td>Action</td>\n",
       "      <td>6.1</td>\n",
       "      <td>22.0</td>\n",
       "      <td>['Zoo Keeper']</td>\n",
       "    </tr>\n",
       "    <tr>\n",
       "      <th>301459</th>\n",
       "      <td>tt0314957</td>\n",
       "      <td>videoGame</td>\n",
       "      <td>Zoo Tycoon</td>\n",
       "      <td>Zoo Tycoon</td>\n",
       "      <td>0</td>\n",
       "      <td>2001</td>\n",
       "      <td>\\N</td>\n",
       "      <td>\\N</td>\n",
       "      <td>Action</td>\n",
       "      <td>7.4</td>\n",
       "      <td>279.0</td>\n",
       "      <td>['Zoo Tycoon']</td>\n",
       "    </tr>\n",
       "    <tr>\n",
       "      <th>7917082</th>\n",
       "      <td>tt5949676</td>\n",
       "      <td>videoGame</td>\n",
       "      <td>Zoo Tycoon</td>\n",
       "      <td>Zoo Tycoon</td>\n",
       "      <td>0</td>\n",
       "      <td>2013</td>\n",
       "      <td>\\N</td>\n",
       "      <td>\\N</td>\n",
       "      <td>Family</td>\n",
       "      <td>6.0</td>\n",
       "      <td>65.0</td>\n",
       "      <td>['Zoo Tycoon']</td>\n",
       "    </tr>\n",
       "  </tbody>\n",
       "</table>\n",
       "<p>599 rows × 12 columns</p>\n",
       "</div>"
      ],
      "text/plain": [
       "            tconst  titleType             primaryTitle  \\\n",
       "5813970  tt2273075  videoGame                Action 52   \n",
       "7523132  tt5058272  videoGame                Action 52   \n",
       "8286665  tt6777472  videoGame  Adam's Venture: Origins   \n",
       "8302190  tt6813690  videoGame  Adam's Venture: Origins   \n",
       "8302192  tt6813694  videoGame  Adam's Venture: Origins   \n",
       "...            ...        ...                      ...   \n",
       "5475671  tt2132358  videoGame                    Zombi   \n",
       "249553   tt0260590  videoGame               Zoo Keeper   \n",
       "436868   tt0454991  videoGame               Zoo Keeper   \n",
       "301459   tt0314957  videoGame               Zoo Tycoon   \n",
       "7917082  tt5949676  videoGame               Zoo Tycoon   \n",
       "\n",
       "                                             originalTitle  isAdult startYear  \\\n",
       "5813970                                          Action 52        0      1991   \n",
       "7523132                                          Action 52        0      1993   \n",
       "8286665  Adam's Venture: Episode 1, The Search for the ...        0      2009   \n",
       "8302190        Adam's Venture: Episode 2, Solomon's Secret        0      2011   \n",
       "8302192             Adam's Venture: Episode 3, Revelations        0      2012   \n",
       "...                                                    ...      ...       ...   \n",
       "5475671                                             ZombiU        0      2012   \n",
       "249553                                          Zoo Keeper        0      1983   \n",
       "436868                                          Zoo Keeper        0      2004   \n",
       "301459                                          Zoo Tycoon        0      2001   \n",
       "7917082                                         Zoo Tycoon        0      2013   \n",
       "\n",
       "        endYear runtimeMinutes                   genres  averageRating  \\\n",
       "5813970      \\N             \\N    Action,Family,Fantasy            1.3   \n",
       "7523132      \\N             \\N                       \\N            3.1   \n",
       "8286665      \\N             \\N                       \\N            5.8   \n",
       "8302190      \\N             \\N                       \\N            7.5   \n",
       "8302192      \\N             \\N                       \\N            5.6   \n",
       "...         ...            ...                      ...            ...   \n",
       "5475671      \\N             \\N  Action,Adventure,Horror            6.3   \n",
       "249553       \\N             \\N                   Family            7.0   \n",
       "436868       \\N             \\N                   Action            6.1   \n",
       "301459       \\N             \\N                   Action            7.4   \n",
       "7917082      \\N             \\N                   Family            6.0   \n",
       "\n",
       "         numVotes                                               akas  \n",
       "5813970     141.0                                      ['Action 52']  \n",
       "7523132      28.0                                      ['Action 52']  \n",
       "8286665      15.0  [\"Adam's Venture: Episode 1, The Search for th...  \n",
       "8302190       9.0  [\"Adam's Venture: Episode 2, Solomon's Secret\"...  \n",
       "8302192       9.0  [\"Adam's Venture: Origins\", \"Adam's Venture: E...  \n",
       "...           ...                                                ...  \n",
       "5475671     259.0  ['ZombiU', 'Zombi', 'Killer Freaks from Outer ...  \n",
       "249553       21.0                        ['Zoo Keeper', 'King Crab']  \n",
       "436868       22.0                                     ['Zoo Keeper']  \n",
       "301459      279.0                                     ['Zoo Tycoon']  \n",
       "7917082      65.0                                     ['Zoo Tycoon']  \n",
       "\n",
       "[599 rows x 12 columns]"
      ]
     },
     "execution_count": 51,
     "metadata": {},
     "output_type": "execute_result"
    }
   ],
   "source": [
    "imdb_duplicates"
   ]
  },
  {
   "cell_type": "markdown",
   "metadata": {},
   "source": [
    "Remove any duplicate names we have a direct match for name and year."
   ]
  },
  {
   "cell_type": "code",
   "execution_count": 48,
   "metadata": {
    "scrolled": true
   },
   "outputs": [
    {
     "data": {
      "text/html": [
       "<div>\n",
       "<style scoped>\n",
       "    .dataframe tbody tr th:only-of-type {\n",
       "        vertical-align: middle;\n",
       "    }\n",
       "\n",
       "    .dataframe tbody tr th {\n",
       "        vertical-align: top;\n",
       "    }\n",
       "\n",
       "    .dataframe thead th {\n",
       "        text-align: right;\n",
       "    }\n",
       "</style>\n",
       "<table border=\"1\" class=\"dataframe\">\n",
       "  <thead>\n",
       "    <tr style=\"text-align: right;\">\n",
       "      <th></th>\n",
       "      <th>tconst</th>\n",
       "      <th>titleType</th>\n",
       "      <th>primaryTitle</th>\n",
       "      <th>originalTitle</th>\n",
       "      <th>isAdult</th>\n",
       "      <th>startYear</th>\n",
       "      <th>endYear</th>\n",
       "      <th>runtimeMinutes</th>\n",
       "      <th>genres_x</th>\n",
       "      <th>averageRating</th>\n",
       "      <th>...</th>\n",
       "      <th>index</th>\n",
       "      <th>franchise_id</th>\n",
       "      <th>name</th>\n",
       "      <th>release_year</th>\n",
       "      <th>aliases</th>\n",
       "      <th>developers</th>\n",
       "      <th>genres_y</th>\n",
       "      <th>platforms</th>\n",
       "      <th>publishers</th>\n",
       "      <th>rating</th>\n",
       "    </tr>\n",
       "  </thead>\n",
       "  <tbody>\n",
       "    <tr>\n",
       "      <th>0</th>\n",
       "      <td>tt4354918</td>\n",
       "      <td>videoGame</td>\n",
       "      <td>#IDARB (It Draws a Red Box)</td>\n",
       "      <td>#IDARB (It Draws a Red Box)</td>\n",
       "      <td>0</td>\n",
       "      <td>2015</td>\n",
       "      <td>\\N</td>\n",
       "      <td>\\N</td>\n",
       "      <td>Action</td>\n",
       "      <td>5.8</td>\n",
       "      <td>...</td>\n",
       "      <td>NaN</td>\n",
       "      <td>NaN</td>\n",
       "      <td>NaN</td>\n",
       "      <td>NaN</td>\n",
       "      <td>NaN</td>\n",
       "      <td>NaN</td>\n",
       "      <td>NaN</td>\n",
       "      <td>NaN</td>\n",
       "      <td>NaN</td>\n",
       "      <td>NaN</td>\n",
       "    </tr>\n",
       "    <tr>\n",
       "      <th>1</th>\n",
       "      <td>tt1968978</td>\n",
       "      <td>videoGame</td>\n",
       "      <td>'88 Games</td>\n",
       "      <td>Hyper Sports Special</td>\n",
       "      <td>0</td>\n",
       "      <td>1988</td>\n",
       "      <td>\\N</td>\n",
       "      <td>\\N</td>\n",
       "      <td>Sport</td>\n",
       "      <td>6.0</td>\n",
       "      <td>...</td>\n",
       "      <td>26.0</td>\n",
       "      <td>[3025-1053]</td>\n",
       "      <td>'88 Games</td>\n",
       "      <td>1988</td>\n",
       "      <td>[Konami '88\\r\\nHyper Sports Special]</td>\n",
       "      <td>[['Konami']]</td>\n",
       "      <td>[['Track &amp; Field']]</td>\n",
       "      <td>[['Arcade']]</td>\n",
       "      <td>[['Konami']]</td>\n",
       "      <td>[nan]</td>\n",
       "    </tr>\n",
       "    <tr>\n",
       "      <th>2</th>\n",
       "      <td>tt0383279</td>\n",
       "      <td>videoGame</td>\n",
       "      <td>'Goodbye, Galaxy!' Episode IV: Secret of the O...</td>\n",
       "      <td>'Goodbye, Galaxy!' Episode IV: Secret of the O...</td>\n",
       "      <td>0</td>\n",
       "      <td>1991</td>\n",
       "      <td>\\N</td>\n",
       "      <td>\\N</td>\n",
       "      <td>Action,Adventure,Sci-Fi</td>\n",
       "      <td>7.7</td>\n",
       "      <td>...</td>\n",
       "      <td>NaN</td>\n",
       "      <td>NaN</td>\n",
       "      <td>NaN</td>\n",
       "      <td>NaN</td>\n",
       "      <td>NaN</td>\n",
       "      <td>NaN</td>\n",
       "      <td>NaN</td>\n",
       "      <td>NaN</td>\n",
       "      <td>NaN</td>\n",
       "      <td>NaN</td>\n",
       "    </tr>\n",
       "    <tr>\n",
       "      <th>3</th>\n",
       "      <td>tt0383280</td>\n",
       "      <td>videoGame</td>\n",
       "      <td>'Goodbye, Galaxy!' Episode V: The Armageddon M...</td>\n",
       "      <td>'Goodbye, Galaxy!' Episode V: The Armageddon M...</td>\n",
       "      <td>0</td>\n",
       "      <td>1991</td>\n",
       "      <td>\\N</td>\n",
       "      <td>\\N</td>\n",
       "      <td>Action,Adventure,Sci-Fi</td>\n",
       "      <td>7.4</td>\n",
       "      <td>...</td>\n",
       "      <td>NaN</td>\n",
       "      <td>NaN</td>\n",
       "      <td>NaN</td>\n",
       "      <td>NaN</td>\n",
       "      <td>NaN</td>\n",
       "      <td>NaN</td>\n",
       "      <td>NaN</td>\n",
       "      <td>NaN</td>\n",
       "      <td>NaN</td>\n",
       "      <td>NaN</td>\n",
       "    </tr>\n",
       "    <tr>\n",
       "      <th>4</th>\n",
       "      <td>tt1918633</td>\n",
       "      <td>videoGame</td>\n",
       "      <td>.detuned</td>\n",
       "      <td>.detuned</td>\n",
       "      <td>0</td>\n",
       "      <td>2009</td>\n",
       "      <td>\\N</td>\n",
       "      <td>\\N</td>\n",
       "      <td>Music</td>\n",
       "      <td>2.3</td>\n",
       "      <td>...</td>\n",
       "      <td>NaN</td>\n",
       "      <td>NaN</td>\n",
       "      <td>NaN</td>\n",
       "      <td>NaN</td>\n",
       "      <td>NaN</td>\n",
       "      <td>NaN</td>\n",
       "      <td>NaN</td>\n",
       "      <td>NaN</td>\n",
       "      <td>NaN</td>\n",
       "      <td>NaN</td>\n",
       "    </tr>\n",
       "    <tr>\n",
       "      <th>...</th>\n",
       "      <td>...</td>\n",
       "      <td>...</td>\n",
       "      <td>...</td>\n",
       "      <td>...</td>\n",
       "      <td>...</td>\n",
       "      <td>...</td>\n",
       "      <td>...</td>\n",
       "      <td>...</td>\n",
       "      <td>...</td>\n",
       "      <td>...</td>\n",
       "      <td>...</td>\n",
       "      <td>...</td>\n",
       "      <td>...</td>\n",
       "      <td>...</td>\n",
       "      <td>...</td>\n",
       "      <td>...</td>\n",
       "      <td>...</td>\n",
       "      <td>...</td>\n",
       "      <td>...</td>\n",
       "      <td>...</td>\n",
       "      <td>...</td>\n",
       "    </tr>\n",
       "    <tr>\n",
       "      <th>14379</th>\n",
       "      <td>tt6169512</td>\n",
       "      <td>videoGame</td>\n",
       "      <td>osu!</td>\n",
       "      <td>osu!</td>\n",
       "      <td>0</td>\n",
       "      <td>2007</td>\n",
       "      <td>\\N</td>\n",
       "      <td>\\N</td>\n",
       "      <td>Music,Musical</td>\n",
       "      <td>7.4</td>\n",
       "      <td>...</td>\n",
       "      <td>NaN</td>\n",
       "      <td>NaN</td>\n",
       "      <td>NaN</td>\n",
       "      <td>NaN</td>\n",
       "      <td>NaN</td>\n",
       "      <td>NaN</td>\n",
       "      <td>NaN</td>\n",
       "      <td>NaN</td>\n",
       "      <td>NaN</td>\n",
       "      <td>NaN</td>\n",
       "    </tr>\n",
       "    <tr>\n",
       "      <th>14380</th>\n",
       "      <td>tt0308989</td>\n",
       "      <td>videoGame</td>\n",
       "      <td>ssn</td>\n",
       "      <td>ssn</td>\n",
       "      <td>0</td>\n",
       "      <td>1996</td>\n",
       "      <td>\\N</td>\n",
       "      <td>\\N</td>\n",
       "      <td>\\N</td>\n",
       "      <td>7.9</td>\n",
       "      <td>...</td>\n",
       "      <td>NaN</td>\n",
       "      <td>NaN</td>\n",
       "      <td>NaN</td>\n",
       "      <td>NaN</td>\n",
       "      <td>NaN</td>\n",
       "      <td>NaN</td>\n",
       "      <td>NaN</td>\n",
       "      <td>NaN</td>\n",
       "      <td>NaN</td>\n",
       "      <td>NaN</td>\n",
       "    </tr>\n",
       "    <tr>\n",
       "      <th>14381</th>\n",
       "      <td>tt0795512</td>\n",
       "      <td>videoGame</td>\n",
       "      <td>Æon Flux</td>\n",
       "      <td>Æon Flux</td>\n",
       "      <td>0</td>\n",
       "      <td>2005</td>\n",
       "      <td>\\N</td>\n",
       "      <td>\\N</td>\n",
       "      <td>Action,Adventure,Sci-Fi</td>\n",
       "      <td>5.6</td>\n",
       "      <td>...</td>\n",
       "      <td>NaN</td>\n",
       "      <td>NaN</td>\n",
       "      <td>NaN</td>\n",
       "      <td>NaN</td>\n",
       "      <td>NaN</td>\n",
       "      <td>NaN</td>\n",
       "      <td>NaN</td>\n",
       "      <td>NaN</td>\n",
       "      <td>NaN</td>\n",
       "      <td>NaN</td>\n",
       "    </tr>\n",
       "    <tr>\n",
       "      <th>14382</th>\n",
       "      <td>tt1219283</td>\n",
       "      <td>videoGame</td>\n",
       "      <td>Îhatôvo monogatari</td>\n",
       "      <td>Îhatôvo monogatari</td>\n",
       "      <td>0</td>\n",
       "      <td>1993</td>\n",
       "      <td>\\N</td>\n",
       "      <td>\\N</td>\n",
       "      <td>Adventure</td>\n",
       "      <td>7.0</td>\n",
       "      <td>...</td>\n",
       "      <td>NaN</td>\n",
       "      <td>NaN</td>\n",
       "      <td>NaN</td>\n",
       "      <td>NaN</td>\n",
       "      <td>NaN</td>\n",
       "      <td>NaN</td>\n",
       "      <td>NaN</td>\n",
       "      <td>NaN</td>\n",
       "      <td>NaN</td>\n",
       "      <td>NaN</td>\n",
       "    </tr>\n",
       "    <tr>\n",
       "      <th>14383</th>\n",
       "      <td>tt15235564</td>\n",
       "      <td>videoGame</td>\n",
       "      <td>ÜberSoldier</td>\n",
       "      <td>ÜberSoldier</td>\n",
       "      <td>0</td>\n",
       "      <td>2006</td>\n",
       "      <td>\\N</td>\n",
       "      <td>\\N</td>\n",
       "      <td>Action,Adventure,Sci-Fi</td>\n",
       "      <td>7.2</td>\n",
       "      <td>...</td>\n",
       "      <td>NaN</td>\n",
       "      <td>NaN</td>\n",
       "      <td>NaN</td>\n",
       "      <td>NaN</td>\n",
       "      <td>NaN</td>\n",
       "      <td>NaN</td>\n",
       "      <td>NaN</td>\n",
       "      <td>NaN</td>\n",
       "      <td>NaN</td>\n",
       "      <td>NaN</td>\n",
       "    </tr>\n",
       "  </tbody>\n",
       "</table>\n",
       "<p>14384 rows × 22 columns</p>\n",
       "</div>"
      ],
      "text/plain": [
       "           tconst  titleType  \\\n",
       "0       tt4354918  videoGame   \n",
       "1       tt1968978  videoGame   \n",
       "2       tt0383279  videoGame   \n",
       "3       tt0383280  videoGame   \n",
       "4       tt1918633  videoGame   \n",
       "...           ...        ...   \n",
       "14379   tt6169512  videoGame   \n",
       "14380   tt0308989  videoGame   \n",
       "14381   tt0795512  videoGame   \n",
       "14382   tt1219283  videoGame   \n",
       "14383  tt15235564  videoGame   \n",
       "\n",
       "                                            primaryTitle  \\\n",
       "0                            #IDARB (It Draws a Red Box)   \n",
       "1                                              '88 Games   \n",
       "2      'Goodbye, Galaxy!' Episode IV: Secret of the O...   \n",
       "3      'Goodbye, Galaxy!' Episode V: The Armageddon M...   \n",
       "4                                               .detuned   \n",
       "...                                                  ...   \n",
       "14379                                               osu!   \n",
       "14380                                                ssn   \n",
       "14381                                           Æon Flux   \n",
       "14382                                 Îhatôvo monogatari   \n",
       "14383                                        ÜberSoldier   \n",
       "\n",
       "                                           originalTitle  isAdult startYear  \\\n",
       "0                            #IDARB (It Draws a Red Box)        0      2015   \n",
       "1                                   Hyper Sports Special        0      1988   \n",
       "2      'Goodbye, Galaxy!' Episode IV: Secret of the O...        0      1991   \n",
       "3      'Goodbye, Galaxy!' Episode V: The Armageddon M...        0      1991   \n",
       "4                                               .detuned        0      2009   \n",
       "...                                                  ...      ...       ...   \n",
       "14379                                               osu!        0      2007   \n",
       "14380                                                ssn        0      1996   \n",
       "14381                                           Æon Flux        0      2005   \n",
       "14382                                 Îhatôvo monogatari        0      1993   \n",
       "14383                                        ÜberSoldier        0      2006   \n",
       "\n",
       "      endYear runtimeMinutes                 genres_x  averageRating  ...  \\\n",
       "0          \\N             \\N                   Action            5.8  ...   \n",
       "1          \\N             \\N                    Sport            6.0  ...   \n",
       "2          \\N             \\N  Action,Adventure,Sci-Fi            7.7  ...   \n",
       "3          \\N             \\N  Action,Adventure,Sci-Fi            7.4  ...   \n",
       "4          \\N             \\N                    Music            2.3  ...   \n",
       "...       ...            ...                      ...            ...  ...   \n",
       "14379      \\N             \\N            Music,Musical            7.4  ...   \n",
       "14380      \\N             \\N                       \\N            7.9  ...   \n",
       "14381      \\N             \\N  Action,Adventure,Sci-Fi            5.6  ...   \n",
       "14382      \\N             \\N                Adventure            7.0  ...   \n",
       "14383      \\N             \\N  Action,Adventure,Sci-Fi            7.2  ...   \n",
       "\n",
       "       index franchise_id       name release_year  \\\n",
       "0        NaN          NaN        NaN          NaN   \n",
       "1       26.0  [3025-1053]  '88 Games         1988   \n",
       "2        NaN          NaN        NaN          NaN   \n",
       "3        NaN          NaN        NaN          NaN   \n",
       "4        NaN          NaN        NaN          NaN   \n",
       "...      ...          ...        ...          ...   \n",
       "14379    NaN          NaN        NaN          NaN   \n",
       "14380    NaN          NaN        NaN          NaN   \n",
       "14381    NaN          NaN        NaN          NaN   \n",
       "14382    NaN          NaN        NaN          NaN   \n",
       "14383    NaN          NaN        NaN          NaN   \n",
       "\n",
       "                                    aliases    developers  \\\n",
       "0                                       NaN           NaN   \n",
       "1      [Konami '88\\r\\nHyper Sports Special]  [['Konami']]   \n",
       "2                                       NaN           NaN   \n",
       "3                                       NaN           NaN   \n",
       "4                                       NaN           NaN   \n",
       "...                                     ...           ...   \n",
       "14379                                   NaN           NaN   \n",
       "14380                                   NaN           NaN   \n",
       "14381                                   NaN           NaN   \n",
       "14382                                   NaN           NaN   \n",
       "14383                                   NaN           NaN   \n",
       "\n",
       "                  genres_y     platforms    publishers rating  \n",
       "0                      NaN           NaN           NaN    NaN  \n",
       "1      [['Track & Field']]  [['Arcade']]  [['Konami']]  [nan]  \n",
       "2                      NaN           NaN           NaN    NaN  \n",
       "3                      NaN           NaN           NaN    NaN  \n",
       "4                      NaN           NaN           NaN    NaN  \n",
       "...                    ...           ...           ...    ...  \n",
       "14379                  NaN           NaN           NaN    NaN  \n",
       "14380                  NaN           NaN           NaN    NaN  \n",
       "14381                  NaN           NaN           NaN    NaN  \n",
       "14382                  NaN           NaN           NaN    NaN  \n",
       "14383                  NaN           NaN           NaN    NaN  \n",
       "\n",
       "[14384 rows x 22 columns]"
      ]
     },
     "execution_count": 48,
     "metadata": {},
     "output_type": "execute_result"
    }
   ],
   "source": [
    "matching_imdb_dups = pd.merge(imdb_games, giantbomb_games, left_on=['primaryTitle', 'startYear'], right_on=['name', 'release_year'], how='left')\n",
    "matching_imdb_dups"
   ]
  },
  {
   "cell_type": "code",
   "execution_count": null,
   "metadata": {},
   "outputs": [],
   "source": [
    "tempMask = ~imdb_duplicates['tconst'].isin(matching_imdb_dups['tconst'])\n",
    "imdb_duplicates = imdb_duplicates[tempMask]\n",
    "imdb_duplicates.tconst.count()"
   ]
  },
  {
   "cell_type": "markdown",
   "metadata": {},
   "source": [
    "Remove any duplicates from our giantbomb database where we have no record of the year of release"
   ]
  },
  {
   "cell_type": "code",
   "execution_count": null,
   "metadata": {},
   "outputs": [],
   "source": [
    "gb_duplicate_names = giantbomb_games.duplicated(subset='name', keep=False)\n",
    "release_year_int = giantbomb_games['release_year'].astype(int).eq(0)\n",
    "gb_duplicates = giantbomb_games.loc[gb_duplicate_names & release_year_int]\n",
    "#Having got all the duplicates with no release year, we'll drop them from the dataframe\n",
    "giantbomb_games = giantbomb_games[~giantbomb_games.index.isin(gb_duplicates.index)]"
   ]
  },
  {
   "cell_type": "code",
   "execution_count": null,
   "metadata": {},
   "outputs": [],
   "source": [
    "imdb_games = imdb_games[~imdb_games['tconst'].isin(imdb_duplicates['tconst'])]\n",
    "imdb_games.tconst.count()"
   ]
  },
  {
   "cell_type": "markdown",
   "metadata": {},
   "source": [
    "This leaves me with 13866 games in the imdb dataset to play with. The next step is to combine the imdb dataset with the giantbomb"
   ]
  },
  {
   "cell_type": "code",
   "execution_count": null,
   "metadata": {},
   "outputs": [],
   "source": [
    "giantbomb_games.name.count()"
   ]
  },
  {
   "cell_type": "code",
   "execution_count": null,
   "metadata": {
    "scrolled": true
   },
   "outputs": [],
   "source": [
    "giantbomb_games.name.nunique()"
   ]
  },
  {
   "cell_type": "markdown",
   "metadata": {},
   "source": [
    "The way I am going to do this is to first combine the rows where the year and name matches. Then combine any remaining rows where the name matches but the year doesn't match."
   ]
  },
  {
   "cell_type": "code",
   "execution_count": 6,
   "metadata": {
    "scrolled": true
   },
   "outputs": [
    {
     "data": {
      "text/html": [
       "<div>\n",
       "<style scoped>\n",
       "    .dataframe tbody tr th:only-of-type {\n",
       "        vertical-align: middle;\n",
       "    }\n",
       "\n",
       "    .dataframe tbody tr th {\n",
       "        vertical-align: top;\n",
       "    }\n",
       "\n",
       "    .dataframe thead th {\n",
       "        text-align: right;\n",
       "    }\n",
       "</style>\n",
       "<table border=\"1\" class=\"dataframe\">\n",
       "  <thead>\n",
       "    <tr style=\"text-align: right;\">\n",
       "      <th></th>\n",
       "      <th>franchise_id</th>\n",
       "      <th>game_id</th>\n",
       "      <th>name</th>\n",
       "      <th>release_year</th>\n",
       "      <th>aliases</th>\n",
       "      <th>developers</th>\n",
       "      <th>genres</th>\n",
       "      <th>platforms</th>\n",
       "      <th>publishers</th>\n",
       "      <th>rating</th>\n",
       "    </tr>\n",
       "  </thead>\n",
       "  <tbody>\n",
       "    <tr>\n",
       "      <th>17033</th>\n",
       "      <td>3025-331</td>\n",
       "      <td>48320</td>\n",
       "      <td>Street Fighter V</td>\n",
       "      <td>NaN</td>\n",
       "      <td>Street Fighter 5\\r\\nSFV\\r\\nSF5</td>\n",
       "      <td>['Capcom', 'Dimps Corporation']</td>\n",
       "      <td>['Fighting']</td>\n",
       "      <td>['Arcade', 'PC', 'PlayStation 4']</td>\n",
       "      <td>['Capcom', 'Sony Interactive Entertainment Ame...</td>\n",
       "      <td>['ESRB: T', 'PEGI: 12+']</td>\n",
       "    </tr>\n",
       "  </tbody>\n",
       "</table>\n",
       "</div>"
      ],
      "text/plain": [
       "      franchise_id  game_id              name  release_year  \\\n",
       "17033     3025-331    48320  Street Fighter V           NaN   \n",
       "\n",
       "                              aliases                       developers  \\\n",
       "17033  Street Fighter 5\\r\\nSFV\\r\\nSF5  ['Capcom', 'Dimps Corporation']   \n",
       "\n",
       "             genres                          platforms  \\\n",
       "17033  ['Fighting']  ['Arcade', 'PC', 'PlayStation 4']   \n",
       "\n",
       "                                              publishers  \\\n",
       "17033  ['Capcom', 'Sony Interactive Entertainment Ame...   \n",
       "\n",
       "                         rating  \n",
       "17033  ['ESRB: T', 'PEGI: 12+']  "
      ]
     },
     "execution_count": 6,
     "metadata": {},
     "output_type": "execute_result"
    }
   ],
   "source": [
    "giantbomb_games[giantbomb_games[\"game_id\"] == 48320]"
   ]
  },
  {
   "cell_type": "code",
   "execution_count": null,
   "metadata": {},
   "outputs": [],
   "source": [
    "copy_of_imdb_games = imdb_games\n",
    "copy_of_giantbomb_games = giantbomb_games\n",
    "print(\"Total imdb:{}, Total giantbomb:{}\".format(copy_of_imdb_games.tconst.count(), copy_of_giantbomb_games.name.count()))"
   ]
  },
  {
   "cell_type": "markdown",
   "metadata": {},
   "source": [
    "First get all the games that have a matching title and year. Merge them and remove from the original databases so they can't be used again."
   ]
  },
  {
   "cell_type": "code",
   "execution_count": null,
   "metadata": {},
   "outputs": [],
   "source": [
    "mergedDF = pd.DataFrame()"
   ]
  },
  {
   "cell_type": "code",
   "execution_count": null,
   "metadata": {},
   "outputs": [],
   "source": [
    "mergedDF = pd.merge(copy_of_imdb_games, copy_of_giantbomb_games, left_on=[\"primaryTitle\", \"startYear\"], right_on=[\"name\", \"release_year\"], how=\"inner\")\n",
    "print(\"Total imdb: {}, Total giantbomb: {}, Total in df: {}\".format(copy_of_imdb_games.tconst.count(), copy_of_giantbomb_games.name.count(), mergedDF.tconst.count()))"
   ]
  },
  {
   "cell_type": "markdown",
   "metadata": {},
   "source": [
    "Now that we've matched the title and years, we'll drop any duplicates which contain years from the giantbomb data."
   ]
  },
  {
   "cell_type": "code",
   "execution_count": null,
   "metadata": {},
   "outputs": [],
   "source": [
    "copy_of_giantbomb_games = copy_of_giantbomb_games.drop_duplicates(\"name\", keep=False)"
   ]
  },
  {
   "cell_type": "code",
   "execution_count": null,
   "metadata": {},
   "outputs": [],
   "source": [
    "copied_imdb_mask = copy_of_imdb_games['tconst'].isin(mergedDF['tconst'])\n",
    "copied_giantbomb_mask = copy_of_giantbomb_games['game_id'].isin(mergedDF['game_id'])"
   ]
  },
  {
   "cell_type": "code",
   "execution_count": null,
   "metadata": {},
   "outputs": [],
   "source": [
    "copied_imdb_mask.value_counts()"
   ]
  },
  {
   "cell_type": "markdown",
   "metadata": {},
   "source": [
    "Now we have no duplicate names, we can attempt to match on just name, first with primaryTitle, then originalTitle"
   ]
  },
  {
   "cell_type": "code",
   "execution_count": null,
   "metadata": {},
   "outputs": [],
   "source": [
    "mergedDF2 = pd.merge(copy_of_imdb_games[~copied_imdb_mask], copy_of_giantbomb_games[~copied_giantbomb_mask], left_on=[\"primaryTitle\"], right_on=[\"name\"], how=\"inner\")\n",
    "mergedDF = pd.concat([mergedDF, mergedDF2], axis=0)"
   ]
  },
  {
   "cell_type": "code",
   "execution_count": null,
   "metadata": {},
   "outputs": [],
   "source": [
    "copied_imdb_mask = copy_of_imdb_games['tconst'].isin(mergedDF['tconst'])\n",
    "copied_giantbomb_mask = copy_of_giantbomb_games['game_id'].isin(mergedDF['game_id'])"
   ]
  },
  {
   "cell_type": "code",
   "execution_count": null,
   "metadata": {},
   "outputs": [],
   "source": [
    "copied_imdb_mask.value_counts()"
   ]
  },
  {
   "cell_type": "code",
   "execution_count": null,
   "metadata": {},
   "outputs": [],
   "source": [
    "mergedDF2 = pd.merge(copy_of_imdb_games[~copied_imdb_mask], copy_of_giantbomb_games[~copied_giantbomb_mask], left_on=[\"originalTitle\"], right_on=[\"name\"], how=\"inner\")\n",
    "mergedDF = pd.concat([mergedDF, mergedDF2], axis=0)"
   ]
  },
  {
   "cell_type": "code",
   "execution_count": null,
   "metadata": {},
   "outputs": [],
   "source": [
    "copied_imdb_mask = copy_of_imdb_games['tconst'].isin(mergedDF['tconst'])\n",
    "copied_giantbomb_mask = copy_of_giantbomb_games['game_id'].isin(mergedDF['game_id'])"
   ]
  },
  {
   "cell_type": "code",
   "execution_count": null,
   "metadata": {},
   "outputs": [],
   "source": [
    "copied_imdb_mask.value_counts()"
   ]
  },
  {
   "cell_type": "code",
   "execution_count": null,
   "metadata": {},
   "outputs": [],
   "source": [
    "copied_giantbomb_mask.value_counts()"
   ]
  },
  {
   "cell_type": "markdown",
   "metadata": {},
   "source": [
    "Now, check every possible alias in the giantbomb dataframe for a direct match."
   ]
  },
  {
   "cell_type": "code",
   "execution_count": null,
   "metadata": {},
   "outputs": [],
   "source": [
    "#Explode the aliases\n",
    "copy_of_giantbomb_games = copy_of_giantbomb_games.explode(\"aliases\")"
   ]
  },
  {
   "cell_type": "code",
   "execution_count": null,
   "metadata": {},
   "outputs": [],
   "source": [
    "mergedDF2 = pd.merge(copy_of_imdb_games[~copied_imdb_mask], copy_of_giantbomb_games[~copied_giantbomb_mask], left_on=[\"primaryTitle\"], right_on=[\"aliases\"], how=\"inner\")\n",
    "mergedDF = pd.concat([mergedDF, mergedDF2], axis=0)"
   ]
  },
  {
   "cell_type": "code",
   "execution_count": null,
   "metadata": {},
   "outputs": [],
   "source": [
    "copied_imdb_mask = copy_of_imdb_games['tconst'].isin(mergedDF['tconst'])\n",
    "copied_giantbomb_mask = copy_of_giantbomb_games['game_id'].isin(mergedDF['game_id'])"
   ]
  },
  {
   "cell_type": "code",
   "execution_count": null,
   "metadata": {},
   "outputs": [],
   "source": [
    "copied_imdb_mask.value_counts()"
   ]
  },
  {
   "cell_type": "code",
   "execution_count": null,
   "metadata": {
    "scrolled": true
   },
   "outputs": [],
   "source": [
    "copied_giantbomb_mask.value_counts()"
   ]
  },
  {
   "cell_type": "code",
   "execution_count": null,
   "metadata": {},
   "outputs": [],
   "source": [
    "mergedDF2 = pd.merge(copy_of_imdb_games[~copied_imdb_mask], copy_of_giantbomb_games[~copied_giantbomb_mask], left_on=[\"originalTitle\"], right_on=[\"aliases\"], how=\"inner\")\n",
    "mergedDF = pd.concat([mergedDF, mergedDF2], axis=0)"
   ]
  },
  {
   "cell_type": "code",
   "execution_count": null,
   "metadata": {},
   "outputs": [],
   "source": [
    "copied_imdb_mask = copy_of_imdb_games['tconst'].isin(mergedDF['tconst'])\n",
    "copied_giantbomb_mask = copy_of_giantbomb_games['game_id'].isin(mergedDF['game_id'])"
   ]
  },
  {
   "cell_type": "code",
   "execution_count": null,
   "metadata": {},
   "outputs": [],
   "source": [
    "copied_imdb_mask.value_counts()"
   ]
  },
  {
   "cell_type": "code",
   "execution_count": null,
   "metadata": {},
   "outputs": [],
   "source": [
    "copied_giantbomb_mask.value_counts()"
   ]
  },
  {
   "cell_type": "code",
   "execution_count": null,
   "metadata": {},
   "outputs": [],
   "source": [
    "\n",
    "copy_of_imdb_games['primaryTitle'] = copy_of_imdb_games['primaryTitle'].str.lower()\n",
    "copy_of_imdb_games['originalTitle'] = copy_of_imdb_games['originalTitle'].str.lower()\n",
    "\n",
    "copy_of_giantbomb_games['name'] = copy_of_giantbomb_games['name'].str.lower()\n",
    "copy_of_giantbomb_games['aliases'] = copy_of_giantbomb_games['aliases'].str.lower()"
   ]
  },
  {
   "cell_type": "code",
   "execution_count": null,
   "metadata": {},
   "outputs": [],
   "source": []
  },
  {
   "cell_type": "code",
   "execution_count": null,
   "metadata": {},
   "outputs": [],
   "source": [
    "mergedDF2 = pd.merge(copy_of_imdb_games[~copied_imdb_mask], copy_of_giantbomb_games[~copied_giantbomb_mask], left_on=[\"primaryTitle\"], right_on=[\"name\"], how=\"inner\")\n",
    "mergedDF = pd.concat([mergedDF, mergedDF2], axis=0)\n",
    "copied_imdb_mask = copy_of_imdb_games['tconst'].isin(mergedDF['tconst'])\n",
    "copied_giantbomb_mask = copy_of_giantbomb_games['game_id'].isin(mergedDF['game_id'])"
   ]
  },
  {
   "cell_type": "code",
   "execution_count": null,
   "metadata": {},
   "outputs": [],
   "source": [
    "mergedDF2 = pd.merge(copy_of_imdb_games[~copied_imdb_mask], copy_of_giantbomb_games[~copied_giantbomb_mask], left_on=[\"originalTitle\"], right_on=[\"name\"], how=\"inner\")\n",
    "mergedDF = pd.concat([mergedDF, mergedDF2], axis=0)\n",
    "copied_imdb_mask = copy_of_imdb_games['tconst'].isin(mergedDF['tconst'])\n",
    "copied_giantbomb_mask = copy_of_giantbomb_games['game_id'].isin(mergedDF['game_id'])\n",
    "print(copied_imdb_mask.value_counts())"
   ]
  },
  {
   "cell_type": "code",
   "execution_count": null,
   "metadata": {},
   "outputs": [],
   "source": [
    "mergedDF2 = pd.merge(copy_of_imdb_games[~copied_imdb_mask], copy_of_giantbomb_games[~copied_giantbomb_mask], left_on=[\"primaryTitle\"], right_on=[\"aliases\"], how=\"inner\")\n",
    "mergedDF = pd.concat([mergedDF, mergedDF2], axis=0)\n",
    "copied_imdb_mask = copy_of_imdb_games['tconst'].isin(mergedDF['tconst'])\n",
    "copied_giantbomb_mask = copy_of_giantbomb_games['game_id'].isin(mergedDF['game_id'])\n",
    "print(copied_imdb_mask.value_counts())"
   ]
  },
  {
   "cell_type": "code",
   "execution_count": null,
   "metadata": {},
   "outputs": [],
   "source": [
    "mergedDF2 = pd.merge(copy_of_imdb_games[~copied_imdb_mask], copy_of_giantbomb_games[~copied_giantbomb_mask], left_on=[\"originalTitle\"], right_on=[\"aliases\"], how=\"inner\")\n",
    "mergedDF = pd.concat([mergedDF, mergedDF2], axis=0)\n",
    "copied_imdb_mask = copy_of_imdb_games['tconst'].isin(mergedDF['tconst'])\n",
    "copied_giantbomb_mask = copy_of_giantbomb_games['game_id'].isin(mergedDF['game_id'])\n",
    "print(copied_imdb_mask.value_counts())"
   ]
  },
  {
   "cell_type": "code",
   "execution_count": null,
   "metadata": {},
   "outputs": [],
   "source": [
    "import re\n",
    "temp = mergedDF[mergedDF[\"name\"].str.contains(\"Sherlock\", na=False, flags=re.IGNORECASE, regex=True)]\n",
    "temp"
   ]
  },
  {
   "cell_type": "code",
   "execution_count": null,
   "metadata": {},
   "outputs": [],
   "source": [
    "#Explode the akas\n",
    "\n",
    "copy_of_imdb_games = copy_of_imdb_games.explode(\"akas\")"
   ]
  },
  {
   "cell_type": "code",
   "execution_count": null,
   "metadata": {},
   "outputs": [],
   "source": [
    "copy_of_imdb_games['akas'] = copy_of_imdb_games['akas'].str.lower()"
   ]
  },
  {
   "cell_type": "code",
   "execution_count": null,
   "metadata": {},
   "outputs": [],
   "source": [
    "mergedDF2 = pd.merge(copy_of_imdb_games[~copied_imdb_mask], copy_of_giantbomb_games[~copied_giantbomb_mask], left_on=[\"akas\"], right_on=[\"name\"], how=\"inner\")\n",
    "mergedDF = pd.concat([mergedDF, mergedDF2], axis=0)\n",
    "copied_imdb_mask = copy_of_imdb_games['tconst'].isin(mergedDF['tconst'])\n",
    "copied_giantbomb_mask = copy_of_giantbomb_games['game_id'].isin(mergedDF['game_id'])\n",
    "print(copied_imdb_mask.value_counts())"
   ]
  },
  {
   "cell_type": "code",
   "execution_count": null,
   "metadata": {},
   "outputs": [],
   "source": [
    "mergedDF2 = pd.merge(copy_of_imdb_games[~copied_imdb_mask], copy_of_giantbomb_games[~copied_giantbomb_mask], left_on=[\"akas\"], right_on=[\"aliases\"], how=\"inner\")\n",
    "mergedDF = pd.concat([mergedDF, mergedDF2], axis=0)\n",
    "copied_imdb_mask = copy_of_imdb_games['tconst'].isin(mergedDF['tconst'])\n",
    "copied_giantbomb_mask = copy_of_giantbomb_games['game_id'].isin(mergedDF['game_id'])\n",
    "print(copied_imdb_mask.value_counts())"
   ]
  },
  {
   "cell_type": "markdown",
   "metadata": {},
   "source": [
    "Create a function that combines all the possible names including akas, into a list foe each imdb entry"
   ]
  },
  {
   "cell_type": "code",
   "execution_count": null,
   "metadata": {},
   "outputs": [],
   "source": [
    "nonmatched_imdb = copy_of_imdb_games[~copied_imdb_mask]\n",
    "nonmatched_gb = copy_of_giantbomb_games[~copied_giantbomb_mask]"
   ]
  },
  {
   "cell_type": "code",
   "execution_count": null,
   "metadata": {},
   "outputs": [],
   "source": [
    "def imdb_all_names(imdb_row):\n",
    "    imdb_row_list = [imdb_row.primaryTitle, imdb_row.originalTitle]\n",
    "    if type(imdb_row.akas) ==str:\n",
    "        akas_list = ast.literal_eval(imdb_row.akas)\n",
    "        for x in akas_list:\n",
    "            imdb_row_list.append(x)\n",
    "    return imdb_row_list"
   ]
  },
  {
   "cell_type": "code",
   "execution_count": null,
   "metadata": {},
   "outputs": [],
   "source": [
    "nonmatched_imdb['all_names'] = nonmatched_imdb.apply(lambda row: imdb_all_names(row), axis=1)\n",
    "nonmatched_imdb"
   ]
  },
  {
   "cell_type": "code",
   "execution_count": null,
   "metadata": {},
   "outputs": [],
   "source": [
    "nonmatched_gb['all_names'] = nonmatched_gb.apply(lambda row: gb_all_names(row), axis=1)\n",
    "nonmatched_gb"
   ]
  },
  {
   "cell_type": "code",
   "execution_count": null,
   "metadata": {},
   "outputs": [],
   "source": [
    "def gb_all_names(gb_row):\n",
    "    gb_row_list = [gb_row[\"name\"]]\n",
    "    for alias in gb_row.aliases:\n",
    "        if type(alias) == str:\n",
    "            gb_row_list.append(alias) \n",
    "    return gb_row_list\n"
   ]
  },
  {
   "cell_type": "code",
   "execution_count": null,
   "metadata": {},
   "outputs": [],
   "source": [
    "nonmatched_imdb['all_names'] = nonmatched_imdb['all_names'].apply(lambda x: list(set(x)))\n",
    "nonmatched_gb['all_names'] = nonmatched_gb['all_names'].apply(lambda x: list(set(x)))"
   ]
  },
  {
   "cell_type": "code",
   "execution_count": null,
   "metadata": {},
   "outputs": [],
   "source": [
    "nonmatched_imdb = nonmatched_imdb.explode(\"all_names\")\n",
    "nonmatched_gb = nonmatched_gb.explode(\"all_names\")"
   ]
  },
  {
   "cell_type": "code",
   "execution_count": null,
   "metadata": {},
   "outputs": [],
   "source": [
    "nonmatch_gb_list = nonmatched_gb.all_names.to_list()"
   ]
  },
  {
   "cell_type": "code",
   "execution_count": null,
   "metadata": {},
   "outputs": [],
   "source": [
    "def get_top_unmatches(imdb_row):\n",
    "    return process.extract(imdb_row.all_names, nonmatch_gb_list, limit = 3)"
   ]
  },
  {
   "cell_type": "code",
   "execution_count": null,
   "metadata": {},
   "outputs": [],
   "source": [
    "time_at_start = time.perf_counter()\n",
    "nonmatched_imdb['best_matches'] = nonmatched_imdb.apply(lambda row: get_top_unmatches(row), axis = 1)\n",
    "time_at_end = time.perf_counter()\n",
    "print(time_at_end - time_at_start)"
   ]
  },
  {
   "cell_type": "code",
   "execution_count": null,
   "metadata": {},
   "outputs": [],
   "source": [
    "nonmatched_imdb"
   ]
  },
  {
   "cell_type": "code",
   "execution_count": null,
   "metadata": {},
   "outputs": [],
   "source": [
    "time_at_start = time.perf_counter()\n",
    "nonmatched_imdb['best_fit'] = nonmatched_imdb.apply(lambda row: best_fit(row), axis = 1)\n",
    "time_at_end = time.perf_counter()\n",
    "print(time_at_end - time_at_start)"
   ]
  },
  {
   "cell_type": "code",
   "execution_count": null,
   "metadata": {},
   "outputs": [],
   "source": [
    "time_at_start = time.perf_counter()\n",
    "nonmatched_imdb[['best_fit_title', 'best_fit_ratio', 'best_fit_game_id']] = nonmatched_imdb['best_fit'].apply(lambda x: pd.Series([i for i in x]))\n",
    "time_at_end = time.perf_counter()\n",
    "print(time_at_end - time_at_start)"
   ]
  },
  {
   "cell_type": "code",
   "execution_count": null,
   "metadata": {
    "scrolled": true
   },
   "outputs": [],
   "source": [
    "nonmatched_imdb = nonmatched_imdb.sort_values([\"best_fit_ratio\"])\n",
    "nonmatched_imdb"
   ]
  },
  {
   "cell_type": "code",
   "execution_count": null,
   "metadata": {
    "scrolled": true
   },
   "outputs": [],
   "source": [
    "nonmatched_imdb[\"best_fit_ratio\"].value_counts()"
   ]
  },
  {
   "cell_type": "code",
   "execution_count": null,
   "metadata": {},
   "outputs": [],
   "source": [
    "nonmatched_imdb = nonmatched_imdb[nonmatched_imdb['best_fit_ratio'] >= 80]\n",
    "nonmatched_imdb"
   ]
  },
  {
   "cell_type": "code",
   "execution_count": null,
   "metadata": {
    "scrolled": true
   },
   "outputs": [],
   "source": [
    "copy_of_imdb_games['all_names'] = copy_of_imdb_games.apply(lambda row: imdb_all_names(row), axis=1)\n",
    "copy_of_imdb_games"
   ]
  },
  {
   "cell_type": "markdown",
   "metadata": {},
   "source": [
    "Combine all giantbomb possible names including aliases."
   ]
  },
  {
   "cell_type": "code",
   "execution_count": null,
   "metadata": {},
   "outputs": [],
   "source": [
    "def gb_all_names(gb_row):\n",
    "    gb_row_list = [gb_row[\"name\"]]\n",
    "    for alias in gb_row.aliases:\n",
    "        if type(alias) == str:\n",
    "            gb_row_list.append(alias) \n",
    "    return gb_row_list\n"
   ]
  },
  {
   "cell_type": "code",
   "execution_count": null,
   "metadata": {
    "scrolled": false
   },
   "outputs": [],
   "source": [
    "copy_of_giantbomb_games['all_names'] = copy_of_giantbomb_games.apply(lambda row: gb_all_names(row), axis=1)\n",
    "copy_of_giantbomb_games"
   ]
  },
  {
   "cell_type": "markdown",
   "metadata": {},
   "source": [
    "Remove any duplicates in all the name lists"
   ]
  },
  {
   "cell_type": "code",
   "execution_count": null,
   "metadata": {},
   "outputs": [],
   "source": [
    "copy_of_imdb_games['all_names'] = copy_of_imdb_games['all_names'].apply(lambda x: list(set(x)))\n",
    "copy_of_giantbomb_games['all_names'] = copy_of_giantbomb_games['all_names'].apply(lambda x: list(set(x)))"
   ]
  },
  {
   "cell_type": "code",
   "execution_count": null,
   "metadata": {
    "scrolled": true
   },
   "outputs": [],
   "source": [
    "copy_of_giantbomb_games.sample()"
   ]
  },
  {
   "cell_type": "code",
   "execution_count": null,
   "metadata": {},
   "outputs": [],
   "source": [
    "copy_of_imdb_games.drop([\"best_matches\", \"best_fit\", \"best_fit_title\", \"best_fit_ratio\", \"best_fit_game_id\"])"
   ]
  },
  {
   "cell_type": "markdown",
   "metadata": {},
   "source": [
    "## Attempt to use rapidFuzz"
   ]
  },
  {
   "cell_type": "markdown",
   "metadata": {},
   "source": [
    "This seems to be the fastest way we can fuzzymatch across the entire dataframe (that I have found). We first explode all the giantbomb names, and the imdb names. Then convert the giantbomb names to a list. We can then run rapidfuzz for all the names in our imdb dataset against the giantbomb list and append the results to a best_matches column in our imdb dataframe. Once we have this we can "
   ]
  },
  {
   "cell_type": "code",
   "execution_count": null,
   "metadata": {},
   "outputs": [],
   "source": [
    "copy_of_imdb_games = copy_of_imdb_games[~copied_imdb_mask].explode(\"all_names\")\n",
    "copy_of_giantbomb_games = copy_of_giantbomb_games[~copied_giantbomb_mask].explode(\"all_names\")"
   ]
  },
  {
   "cell_type": "code",
   "execution_count": null,
   "metadata": {},
   "outputs": [],
   "source": [
    "giantbomb_remaining_list = copy_of_giantbomb_games.all_names.to_list()"
   ]
  },
  {
   "cell_type": "code",
   "execution_count": null,
   "metadata": {},
   "outputs": [],
   "source": []
  },
  {
   "cell_type": "code",
   "execution_count": null,
   "metadata": {},
   "outputs": [],
   "source": [
    "from rapidfuzz import process, fuzz"
   ]
  },
  {
   "cell_type": "code",
   "execution_count": null,
   "metadata": {},
   "outputs": [],
   "source": [
    "def get_top_matches(imdb_row):\n",
    "    return process.extract(imdb_row.all_names, giantbomb_remaining_list, limit = 3)"
   ]
  },
  {
   "cell_type": "code",
   "execution_count": null,
   "metadata": {},
   "outputs": [],
   "source": [
    "import time"
   ]
  },
  {
   "cell_type": "code",
   "execution_count": null,
   "metadata": {},
   "outputs": [],
   "source": [
    "time_at_start = time.perf_counter()\n",
    "copy_of_imdb_games['best_matches'] = copy_of_imdb_games.apply(lambda row: get_top_matches(row), axis = 1)\n",
    "time_at_end = time.perf_counter()\n",
    "print(time_at_end - time_at_start)"
   ]
  },
  {
   "cell_type": "code",
   "execution_count": null,
   "metadata": {},
   "outputs": [],
   "source": [
    "copy_of_imdb_games[copy_of_imdb_games[\"tconst\"]==\"tt0383279\"]"
   ]
  },
  {
   "cell_type": "code",
   "execution_count": null,
   "metadata": {},
   "outputs": [],
   "source": [
    "print(copy_of_imdb_games[copy_of_imdb_games[\"tconst\"]==\"tt0383279\"][\"best_matches\"].iloc[0])\n",
    "print(copy_of_imdb_games[copy_of_imdb_games[\"tconst\"]==\"tt0383279\"][\"best_matches\"].iloc[1])\n",
    "print(copy_of_imdb_games[copy_of_imdb_games[\"tconst\"]==\"tt0383279\"][\"best_matches\"].iloc[2])"
   ]
  },
  {
   "cell_type": "code",
   "execution_count": null,
   "metadata": {},
   "outputs": [],
   "source": [
    "type(copy_of_imdb_games[copy_of_imdb_games[\"tconst\"]==\"tt0383279\"][\"best_matches\"].iloc[0][0][0])"
   ]
  },
  {
   "cell_type": "code",
   "execution_count": null,
   "metadata": {},
   "outputs": [],
   "source": [
    "def best_fit(row):\n",
    "    highest = 0\n",
    "    best_match = ()\n",
    "    for match in row[\"best_matches\"]:\n",
    "        if match[1] > highest:\n",
    "            highest = match[1]\n",
    "            best_match = match\n",
    "    return best_match"
   ]
  },
  {
   "cell_type": "code",
   "execution_count": null,
   "metadata": {},
   "outputs": [],
   "source": [
    "time_at_start = time.perf_counter()\n",
    "copy_of_imdb_games['best_fit'] = copy_of_imdb_games.apply(lambda row: best_fit(row), axis = 1)\n",
    "time_at_end = time.perf_counter()\n",
    "print(time_at_end - time_at_start)"
   ]
  },
  {
   "cell_type": "code",
   "execution_count": null,
   "metadata": {},
   "outputs": [],
   "source": [
    "copy_of_imdb_games[['best_fit_title', 'best_fit_ratio', 'best_fit_game_id']] = copy_of_imdb_games['best_fit'].apply(lambda x: pd.Series([i for i in x]))\n"
   ]
  },
  {
   "cell_type": "code",
   "execution_count": null,
   "metadata": {},
   "outputs": [],
   "source": [
    "copy_of_imdb_games = copy_of_imdb_games[copy_of_imdb_games['best_fit_ratio'] >= 90.5]"
   ]
  },
  {
   "cell_type": "code",
   "execution_count": null,
   "metadata": {
    "scrolled": false
   },
   "outputs": [],
   "source": [
    "copy_of_imdb_games =copy_of_imdb_games.sort_values([\"tconst\", \"best_fit_ratio\"])\n",
    "copy_of_imdb_games.head(50)"
   ]
  },
  {
   "cell_type": "code",
   "execution_count": null,
   "metadata": {},
   "outputs": [],
   "source": []
  },
  {
   "cell_type": "code",
   "execution_count": null,
   "metadata": {},
   "outputs": [],
   "source": [
    "small_imdb_exploded['best_fit'] = small_imdb_exploded.apply(lambda row: best_fit(row), axis = 1)\n"
   ]
  },
  {
   "cell_type": "code",
   "execution_count": null,
   "metadata": {},
   "outputs": [],
   "source": [
    "small_imdb_exploded[['best_fit_title', 'best_fit_ratio', 'best_fit_game_id']] = small_imdb_exploded['best_fit'].apply(lambda x: pd.Series([i for i in x]))\n",
    "\n",
    "    "
   ]
  },
  {
   "cell_type": "code",
   "execution_count": null,
   "metadata": {},
   "outputs": [],
   "source": [
    "frame = copy_of_imdb_games[copy_of_imdb_games[\"tconst\"]==\"tt7025920\"]\n",
    "frame"
   ]
  },
  {
   "cell_type": "code",
   "execution_count": null,
   "metadata": {},
   "outputs": [],
   "source": [
    "copy_of_giantbomb_games.game_id.count()"
   ]
  },
  {
   "cell_type": "code",
   "execution_count": null,
   "metadata": {},
   "outputs": [],
   "source": [
    "copy_of_imdb_games.to_csv(\"copy_of_imdb_games.csv\")"
   ]
  },
  {
   "cell_type": "code",
   "execution_count": null,
   "metadata": {},
   "outputs": [],
   "source": [
    "copy_of_imdb_games = pd.read_csv(\"copy_of_imdb_games.csv\")"
   ]
  },
  {
   "cell_type": "code",
   "execution_count": null,
   "metadata": {},
   "outputs": [],
   "source": [
    "copy_of_imdb_games['best_matches'] = copy_of_imdb_games[\"best_matches\"].apply(lambda row: ast.literal_eval(row))\n",
    "type(copy_of_imdb_games[\"best_matches\"].iloc[0])"
   ]
  },
  {
   "cell_type": "code",
   "execution_count": null,
   "metadata": {
    "scrolled": true
   },
   "outputs": [],
   "source": [
    "copy_of_imdb_games"
   ]
  },
  {
   "cell_type": "code",
   "execution_count": null,
   "metadata": {},
   "outputs": [],
   "source": [
    "copy_of_imdb_games['best_fit'] = copy_of_imdb_games.apply(lambda row: best_fit(row), axis = 1)\n",
    "copy_of_imdb_games[['best_fit_title', 'best_fit_ratio', 'best_fit_game_id']] = copy_of_imdb_games['best_fit'].apply(lambda x: pd.Series([i for i in x]))\n",
    "copy_of_imdb_games = copy_of_imdb_games.sort_values(\"best_fit_ratio\")\n",
    "copy_of_imdb_games"
   ]
  },
  {
   "cell_type": "code",
   "execution_count": null,
   "metadata": {},
   "outputs": [],
   "source": [
    "copy_of_imdb_games = copy_of_imdb_games.sort_values(\"best_fit_ratio\")"
   ]
  },
  {
   "cell_type": "code",
   "execution_count": null,
   "metadata": {},
   "outputs": [],
   "source": [
    "copy_of_imdb_games[copy_of_imdb_games[\"tconst\"] == \"tt11696274\"].iloc[1][\"best_matches\"]"
   ]
  },
  {
   "cell_type": "code",
   "execution_count": null,
   "metadata": {},
   "outputs": [],
   "source": [
    "copy_of_giantbomb_games[copy_of_giantbomb_games.index == 18179]"
   ]
  },
  {
   "cell_type": "code",
   "execution_count": null,
   "metadata": {},
   "outputs": [],
   "source": [
    "copy_of_imdb_games[copy_of_imdb_games[\"tconst\"] == \"tt11696274\"]"
   ]
  },
  {
   "cell_type": "code",
   "execution_count": null,
   "metadata": {},
   "outputs": [],
   "source": [
    "copy_of_giantbomb_games"
   ]
  },
  {
   "cell_type": "code",
   "execution_count": null,
   "metadata": {},
   "outputs": [],
   "source": [
    "mergedDF[mergedDF[\"game_id\"] == 48320]"
   ]
  },
  {
   "cell_type": "code",
   "execution_count": null,
   "metadata": {},
   "outputs": [],
   "source": [
    "copy_of_giantbomb_games[copy_of_giantbomb_games[\"game_id\"] == \"48320\"]"
   ]
  },
  {
   "cell_type": "code",
   "execution_count": null,
   "metadata": {
    "scrolled": false
   },
   "outputs": [],
   "source": [
    "copy_of_imdb_games[(copy_of_imdb_games[\"best_fit_ratio\"] >97) &  (copy_of_imdb_games[\"best_fit_ratio\"] <98)].head(50)"
   ]
  },
  {
   "cell_type": "code",
   "execution_count": null,
   "metadata": {},
   "outputs": [],
   "source": [
    "import numpy as np"
   ]
  },
  {
   "cell_type": "code",
   "execution_count": null,
   "metadata": {},
   "outputs": [],
   "source": [
    "small_imdb_exploded['best_matches'] = small_imdb_exploded.apply(lambda row: get_top_matches(row), axis = 1)\n"
   ]
  },
  {
   "cell_type": "code",
   "execution_count": null,
   "metadata": {
    "scrolled": true
   },
   "outputs": [],
   "source": [
    "small_imdb_exploded"
   ]
  },
  {
   "cell_type": "code",
   "execution_count": null,
   "metadata": {},
   "outputs": [],
   "source": [
    "small_imdb_exploded[\"best_matches\"].iloc[0]"
   ]
  },
  {
   "cell_type": "code",
   "execution_count": null,
   "metadata": {},
   "outputs": [],
   "source": [
    "def withlist(imdb_row):\n",
    "    results_list = process.extract(imdb_row.all_names, giantbomb_list, limit = 3)\n",
    "    return results_list"
   ]
  },
  {
   "cell_type": "code",
   "execution_count": null,
   "metadata": {},
   "outputs": [],
   "source": [
    "import time\n",
    "time_at_start = time.perf_counter()\n",
    "small_imdb_exploded['best_matches'] = small_imdb_exploded.apply(lambda row: withlist(row), axis=1)\n",
    "time_at_end = time.perf_counter()\n",
    "print(time_at_end - time_at_start)"
   ]
  },
  {
   "cell_type": "code",
   "execution_count": null,
   "metadata": {},
   "outputs": [],
   "source": [
    "small_imdb_exploded"
   ]
  },
  {
   "cell_type": "code",
   "execution_count": null,
   "metadata": {},
   "outputs": [],
   "source": [
    "giantbomb_exploded.iloc[22642]"
   ]
  },
  {
   "cell_type": "code",
   "execution_count": null,
   "metadata": {},
   "outputs": [],
   "source": [
    "small_imdb_exploded.best_matches.iloc[0]"
   ]
  },
  {
   "cell_type": "code",
   "execution_count": null,
   "metadata": {},
   "outputs": [],
   "source": [
    "def rapidfuzzymatch(imdb_row):\n",
    "    results_list = []\n",
    "    for index, row in giantbomb_games.iterrows():\n",
    "        distances  = process.cdist(row[\"all_names\"], imdb_row.all_names, score_cutoff = 87)\n",
    "        top_indices = np.argsort(distances, axis=1)\n",
    "        top_values = imdb_row[top_indices]\n",
    "        print(top_values)\n",
    "            \n",
    "            #for result in results:\n",
    "                #Get tuple value if above 95\n",
    "            #    if result[1]>87:\n",
    "            #        results_list.append(set([row[\"game_id\"], row[\"name\"], result[1]]))\n",
    "    return results_list"
   ]
  },
  {
   "cell_type": "code",
   "execution_count": null,
   "metadata": {},
   "outputs": [],
   "source": [
    "import time\n",
    "time_at_start = time.perf_counter()\n",
    "small_imdb['best_matches'] = small_imdb.apply(lambda row: rapidfuzzymatch(row), axis=1)\n",
    "time_at_end = time.perf_counter()\n",
    "print(time_at_end - time_at_start)"
   ]
  },
  {
   "cell_type": "code",
   "execution_count": null,
   "metadata": {
    "scrolled": true
   },
   "outputs": [],
   "source": [
    "small_imdb.best_matches.iloc[0]"
   ]
  },
  {
   "cell_type": "code",
   "execution_count": null,
   "metadata": {},
   "outputs": [],
   "source": []
  },
  {
   "cell_type": "markdown",
   "metadata": {},
   "source": [
    "## Attempting to use fuzzy matching"
   ]
  },
  {
   "cell_type": "markdown",
   "metadata": {},
   "source": [
    "The next step is to attempt to fuzzy match the titles and the original titles from the imdb dataset against the giantbomb database"
   ]
  },
  {
   "cell_type": "code",
   "execution_count": null,
   "metadata": {},
   "outputs": [],
   "source": [
    "from fuzzywuzzy import fuzz\n",
    "from fuzzywuzzy import process"
   ]
  },
  {
   "cell_type": "code",
   "execution_count": null,
   "metadata": {},
   "outputs": [],
   "source": []
  },
  {
   "cell_type": "markdown",
   "metadata": {},
   "source": [
    "Fuzzy match attempt"
   ]
  },
  {
   "cell_type": "code",
   "execution_count": null,
   "metadata": {},
   "outputs": [],
   "source": [
    "def fuzzymatch(imdb_row):\n",
    "    results_list = []\n",
    "    for index, row in giantbomb_games.iterrows():\n",
    "        for item in row[\"all_names\"]:\n",
    "            results = process.extract(item, imdb_row.all_names, limit = 3)\n",
    "            for result in results:\n",
    "                #Get tuple value if above 95\n",
    "                if result[1]>87:\n",
    "                    results_list.append(set([row[\"game_id\"], row[\"name\"], result[1]]))\n",
    "    return results_list\n"
   ]
  },
  {
   "cell_type": "markdown",
   "metadata": {},
   "source": [
    "Testing on single entry"
   ]
  },
  {
   "cell_type": "code",
   "execution_count": null,
   "metadata": {},
   "outputs": [],
   "source": [
    "small_imdb = imdb_games[imdb_games[\"tconst\"]== \"tt7990520\"]\n",
    "small_imdb"
   ]
  },
  {
   "cell_type": "code",
   "execution_count": null,
   "metadata": {},
   "outputs": [],
   "source": [
    "import time\n",
    "time_at_start = time.perf_counter()\n",
    "small_imdb['best_matches'] = small_imdb.apply(lambda row: fuzzymatch(row), axis=1)\n",
    "time_at_end = time.perf_counter()\n",
    "print(time_at_end - time_at_start)"
   ]
  },
  {
   "cell_type": "code",
   "execution_count": null,
   "metadata": {},
   "outputs": [],
   "source": [
    "small_imdb.best_matches.iloc[0]"
   ]
  },
  {
   "cell_type": "code",
   "execution_count": null,
   "metadata": {},
   "outputs": [],
   "source": [
    "small_imdb"
   ]
  },
  {
   "cell_type": "markdown",
   "metadata": {},
   "source": [
    "### Next attempt, explode the dataframes, then do fuzzymatch"
   ]
  },
  {
   "cell_type": "code",
   "execution_count": null,
   "metadata": {},
   "outputs": [],
   "source": [
    "small_imdb_exploded = small_imdb.explode(\"all_names\")"
   ]
  },
  {
   "cell_type": "code",
   "execution_count": null,
   "metadata": {
    "scrolled": true
   },
   "outputs": [],
   "source": [
    "small_imdb_exploded"
   ]
  },
  {
   "cell_type": "code",
   "execution_count": null,
   "metadata": {},
   "outputs": [],
   "source": [
    "def fuzzymatch_exploded(imdb_row):\n",
    "    results_list = []\n",
    "    for index, row in giantbomb_exploded.iterrows():\n",
    "        results = process.extract(row[\"all_names\"], imdb_row.all_names, limit = 3)\n",
    "        for result in results:\n",
    "            #Get tuple value if above 95\n",
    "            if result[1]>87:\n",
    "                results_list.append(set([row[\"game_id\"], row[\"name\"], result[1]]))\n",
    "    return results_list"
   ]
  },
  {
   "cell_type": "code",
   "execution_count": null,
   "metadata": {},
   "outputs": [],
   "source": [
    "imdb_exploded = imdb_games.explode(\"all_names\")\n",
    "imdb_exploded.count()"
   ]
  },
  {
   "cell_type": "code",
   "execution_count": null,
   "metadata": {},
   "outputs": [],
   "source": [
    "giantbomb_exploded = giantbomb_games.explode(\"all_names\")\n",
    "giantbomb_exploded.count()"
   ]
  },
  {
   "cell_type": "code",
   "execution_count": null,
   "metadata": {},
   "outputs": [],
   "source": [
    "import time\n",
    "time_at_start = time.perf_counter()\n",
    "small_imdb['exploded_best_matches'] = small_imdb.apply(lambda row: fuzzymatch_exploded(row), axis=1)\n",
    "time_at_end = time.perf_counter()\n",
    "print(time_at_end - time_at_start)"
   ]
  },
  {
   "cell_type": "markdown",
   "metadata": {},
   "source": [
    "## Attempting to use difflib"
   ]
  },
  {
   "cell_type": "code",
   "execution_count": null,
   "metadata": {},
   "outputs": [],
   "source": [
    "string =small_imdb_exploded.all_names.iloc[0]\n",
    "close_matches = difflib.get_close_matches(string, possibilities=giantbomb_exploded['all_names'].tolist(), n=10)\n"
   ]
  },
  {
   "cell_type": "code",
   "execution_count": null,
   "metadata": {},
   "outputs": [],
   "source": [
    "close_matches"
   ]
  },
  {
   "cell_type": "code",
   "execution_count": null,
   "metadata": {},
   "outputs": [],
   "source": [
    "# https://stackoverflow.com/questions/56521625/quicker-way-to-perform-fuzzy-string-match-in-pandas\n",
    "\n",
    "import difflib\n",
    "from functools import partial\n",
    "\n",
    "f = partial(difflib.get_close_matches, possibilities=giantbomb_exploded['all_names'].tolist(), n=1)\n",
    "\n",
    "matches = small_imdb_exploded['all_names'].map(f).str[0].fillna('')\n",
    "scores = [difflib.SequenceMatcher(None, x, y).ratio() \n",
    "    for x, y in zip(matches, small_imdb['all_names'])\n",
    "]\n",
    "\n",
    "small_imdb.assign(best=matches, score=scores)"
   ]
  },
  {
   "cell_type": "markdown",
   "metadata": {},
   "source": [
    "# Consider exploding the all_names, then combining back but keeping the one with the best ratio?"
   ]
  },
  {
   "cell_type": "markdown",
   "metadata": {},
   "source": [
    "## First attempt to merge, purely using dataframes"
   ]
  },
  {
   "cell_type": "code",
   "execution_count": null,
   "metadata": {},
   "outputs": [],
   "source": [
    "mergedDF = pd.merge(copy_of_imdb_games, copy_of_giantbomb_games, left_on=[\"primaryTitle\", \"startYear\"], right_on=[\"name\", \"release_year\"], how=\"inner\")\n",
    "#copy_of_imdb_games = copy_of_imdb_games[~copy_of_imdb_games['tconst'].isin(mergedDF['tconst'])]\n",
    "#copy_of_giantbomb_games = copy_of_giantbomb_games[~copy_of_giantbomb_games['game_id'].isin(mergedDF['game_id'])]\n",
    "print(\"Total imdb: {}, Total giantbomb: {}, Total in df: {}\".format(copy_of_imdb_games.tconst.count(), copy_of_giantbomb_games.name.count(), mergedDF.tconst.count()))"
   ]
  },
  {
   "cell_type": "code",
   "execution_count": null,
   "metadata": {},
   "outputs": [],
   "source": [
    "Now match any where the names directly match, and the release_year is 0"
   ]
  },
  {
   "cell_type": "code",
   "execution_count": null,
   "metadata": {
    "scrolled": true
   },
   "outputs": [],
   "source": [
    "mergedDF2 = pd.merge(copy_of_imdb_games, copy_of_giantbomb_games[copy_of_giantbomb_games['release_year'] == \"0\"], left_on=\"primaryTitle\", right_on=\"name\", how=\"inner\")\n",
    "copy_of_imdb_games = copy_of_imdb_games[~copy_of_imdb_games['tconst'].isin(mergedDF2['tconst'])]\n",
    "copy_of_giantbomb_games = copy_of_giantbomb_games[~copy_of_giantbomb_games['game_id'].isin(mergedDF2['game_id'])]\n",
    "print(\"Total imdb: {}, Total giantbomb: {}, Total in df2: {}\".format(copy_of_imdb_games.tconst.count(), copy_of_giantbomb_games.name.count(), mergedDF2.tconst.count()))"
   ]
  },
  {
   "cell_type": "code",
   "execution_count": null,
   "metadata": {},
   "outputs": [],
   "source": [
    "mergedDF2[mergedDF2[\"primaryTitle\"]==\"Alice in Wonderland\"]"
   ]
  },
  {
   "cell_type": "code",
   "execution_count": null,
   "metadata": {},
   "outputs": [],
   "source": [
    "mergedDF3 = pd.merge(copy_of_imdb_games, copy_of_giantbomb_games, left_on=\"originalTitle\", right_on=\"name\", how=\"inner\")\n",
    "copy_of_imdb_games = copy_of_imdb_games[~copy_of_imdb_games['tconst'].isin(mergedDF3['tconst'])]\n",
    "copy_of_giantbomb_games = copy_of_giantbomb_games[~copy_of_giantbomb_games['game_id'].isin(mergedDF3['game_id'])]\n",
    "print(\"Total imdb: {}, Total giantbomb: {}, Total in df3: {}\".format(copy_of_imdb_games.tconst.count(), copy_of_giantbomb_games.name.count(), mergedDF3.tconst.count()))"
   ]
  },
  {
   "cell_type": "code",
   "execution_count": null,
   "metadata": {},
   "outputs": [],
   "source": [
    "mergedDF4 = pd.concat([mergedDF, mergedDF2, mergedDF3], axis=0)\n",
    "mergedDF4"
   ]
  },
  {
   "cell_type": "code",
   "execution_count": null,
   "metadata": {},
   "outputs": [],
   "source": []
  },
  {
   "cell_type": "code",
   "execution_count": null,
   "metadata": {},
   "outputs": [],
   "source": [
    "temp = imdb_duplicates[~(imdb_duplicates[\"primaryTitle\"]== imdb_duplicates[\"originalTitle\"])]"
   ]
  },
  {
   "cell_type": "code",
   "execution_count": null,
   "metadata": {},
   "outputs": [],
   "source": [
    "temp = pd.merge(imdb_duplicates, giantbomb_games, left_on=['primaryTitle'], right_on=['name'], how='inner')\n",
    "temp"
   ]
  },
  {
   "cell_type": "code",
   "execution_count": null,
   "metadata": {},
   "outputs": [],
   "source": [
    "giantbomb_games.sort_values(\"game_id\").head()"
   ]
  },
  {
   "cell_type": "code",
   "execution_count": null,
   "metadata": {
    "scrolled": true
   },
   "outputs": [],
   "source": [
    "tempdb = pd.merge(imdb_duplicates, giantbomb_games, left_on=['primaryTitle'], right_on=['name'], how='inner')\n",
    "tempdb"
   ]
  },
  {
   "cell_type": "code",
   "execution_count": null,
   "metadata": {},
   "outputs": [],
   "source": [
    "for index1 in imdb_duplicates.primaryTitle:\n",
    "    #rint(index1)\n",
    "    value = fuzz.token_sort_ratio(\"bction 2\", index1)\n",
    "    if value > 80:\n",
    "        print(index1)\n",
    "        print(value)"
   ]
  },
  {
   "cell_type": "code",
   "execution_count": null,
   "metadata": {},
   "outputs": [],
   "source": [
    "imdb_duplicates.head(500)"
   ]
  },
  {
   "cell_type": "code",
   "execution_count": null,
   "metadata": {},
   "outputs": [],
   "source": [
    "for index1 in imdb_duplicates.primaryTitle:\n",
    "    #rint(index1)\n",
    "    value = fuzz.token_sort_ratio(\"bction 2\", index1)\n",
    "    if value > 80:\n",
    "        print(index1)\n",
    "        print(value)"
   ]
  },
  {
   "cell_type": "code",
   "execution_count": null,
   "metadata": {},
   "outputs": [],
   "source": [
    "imdb_duplicates"
   ]
  },
  {
   "cell_type": "code",
   "execution_count": null,
   "metadata": {
    "scrolled": true
   },
   "outputs": [],
   "source": [
    "imdb_duplicates = imdb_duplicates[imdb_duplicates['primaryTitle'].isin(giantbomb_games['name'])]\n",
    "imdb_duplicates"
   ]
  },
  {
   "cell_type": "markdown",
   "metadata": {},
   "source": [
    "Create dictionary with count for each duplicate"
   ]
  },
  {
   "cell_type": "code",
   "execution_count": null,
   "metadata": {},
   "outputs": [],
   "source": [
    "imdb_duplicate_counts"
   ]
  },
  {
   "cell_type": "code",
   "execution_count": null,
   "metadata": {},
   "outputs": [],
   "source": [
    "imdb_duplicate_counts = imdb_duplicates.groupby('primaryTitle').size()\n",
    "imdb_duplicate_dict = {k:v for k,v in imdb_duplicate_counts.items() if v > 1}\n",
    "imdb_duplicate_dict"
   ]
  },
  {
   "cell_type": "code",
   "execution_count": null,
   "metadata": {},
   "outputs": [],
   "source": [
    "giantbomb_games[giantbomb_games[\"name\"] == \"Worms\"]\n"
   ]
  },
  {
   "cell_type": "markdown",
   "metadata": {},
   "source": [
    "Note here, we are only going to consider direct matches of a name for brevity's sake. If giantbomb contains no records that match the name of an imdb duplicate, we will assume the duplicates are not part of a franchise."
   ]
  },
  {
   "cell_type": "code",
   "execution_count": null,
   "metadata": {},
   "outputs": [],
   "source": [
    "for key, value in imdb_duplicate_dict.items():\n",
    "    if giantbomb_games.name[giantbomb_games[\"name\"] == key].count() == 0:\n",
    "        # Game is not a franchise game, and can be kept in original imdb dataframe\n",
    "        print(key)\n",
    "        #imdb_duplicates = imdb_duplicates.drop(index=imdb_duplicates.index[imdb_duplicates['primaryTitle'] == key])\n",
    "imdb_duplicates.count()"
   ]
  },
  {
   "cell_type": "code",
   "execution_count": null,
   "metadata": {
    "scrolled": true
   },
   "outputs": [],
   "source": [
    "imdb_duplicates.count()"
   ]
  },
  {
   "cell_type": "code",
   "execution_count": null,
   "metadata": {},
   "outputs": [],
   "source": [
    "Action 52 is not in giantbomb games so we can keep in our original database as it's a unique game. Therefore we need to drop it from our dups dataframe"
   ]
  },
  {
   "cell_type": "markdown",
   "metadata": {},
   "source": [
    "This leaves us with 411 duplicates, which exist in the imdb database but we may not be able to accurately match them with the "
   ]
  },
  {
   "cell_type": "markdown",
   "metadata": {},
   "source": [
    "WE ARE CREATING A DUPS DATAFRAME WHICH WILL BE ALL THE DUPLICATES WE CAN'T DISTINGUISH BETWENN. IF WE CAN DISTINGUISH, WE DROP FROM THE DUPS DATABASE. IF IMDB GAMES NAME DOES NOT APPEAR IN GIANTBOMB GAMES NAME, DROP FROM DUPLICATES LIST"
   ]
  },
  {
   "cell_type": "markdown",
   "metadata": {},
   "source": [
    "sO FAR WE HAVE DONE ENOUGH. wE JUST NEED TO DO FUZZY MATCHING ON THE NAMES TO COMPARE.EG. ADAM'S VENTURE EXISTS IN BOTH BUT NEEDS FUZZY MATCHING AGAINST ORIGINAL TITLE"
   ]
  },
  {
   "cell_type": "code",
   "execution_count": null,
   "metadata": {},
   "outputs": [],
   "source": [
    "imdb_duplicates = imdb_duplicates[~imdb_duplicates['tconst'].isin(matching_imdb_dups['tconst'])]\n"
   ]
  },
  {
   "cell_type": "code",
   "execution_count": null,
   "metadata": {},
   "outputs": [],
   "source": [
    "for key, value in imdb_duplicate_dict.items():\n",
    "    if giantbomb_games.name[giantbomb_games[\"name\"] == key].count() == 0:\n",
    "        # Game is not a franchise game, and can be kept in original imdb dataframe\n",
    "        imdb_duplicates = imdb_duplicates.drop(index=imdb_duplicates.index[imdb_duplicates['primaryTitle'] == key])\n",
    "    elif giantbomb_games.name[giantbomb_games[\"name\"] == key].count() != value:\n",
    "        #matching_ids holds index values of duplicates\n",
    "        matching_imdb_ids=imdb_duplicates.index[imdb_duplicates['primaryTitle'] == key]\n",
    "        matching_gb_ids = giantbomb_games.index[giantbomb_games['name'] == key]\n",
    "        if \n",
    "        #for id in matching_imdb_ids:\n",
    "            #This extracts the year\n",
    "         #   year =imdb_duplicates.startYear[imdb_duplicates.index[imdb_duplicates.index == id]].item()\n",
    "          #  if giantbomb_games.name[giantbomb_games[\"name\"] == key] and giantbomb_games.release_year[giantbomb_games[\"release_year\"] == year]:\n",
    "           #     for \n",
    "            #    print(\"Great success!\", year)\n",
    "           # else:\n",
    "            #    print(\"poo\")\n",
    "        \n",
    "        print(key, value, giantbomb_games.name[giantbomb_games[\"name\"] == key].count())"
   ]
  },
  {
   "cell_type": "code",
   "execution_count": null,
   "metadata": {},
   "outputs": [],
   "source": [
    "giantbomb_games[giantbomb_games.duplicated([\"name\"], keep=False)].count()"
   ]
  },
  {
   "cell_type": "code",
   "execution_count": null,
   "metadata": {},
   "outputs": [],
   "source": [
    "import re\n",
    "temp = imdb_games[imdb_games[\"primaryTitle\"].str.contains(\"Batman\", na=False, flags=re.IGNORECASE, regex=True)]\n",
    "temp"
   ]
  },
  {
   "cell_type": "code",
   "execution_count": null,
   "metadata": {},
   "outputs": [],
   "source": [
    "import re\n",
    "temp2 = giantbomb_games[giantbomb_games[\"name\"].str.contains(\"Adam's\", na=False, flags=re.IGNORECASE, regex=True)]\n",
    "temp2"
   ]
  },
  {
   "cell_type": "code",
   "execution_count": null,
   "metadata": {},
   "outputs": [],
   "source": [
    "duplicate_giantbomb_names = giantbomb_games[giantbomb_games.duplicated([\"name\", \"release_year\"], keep=False)]\n",
    "duplicate_giantbomb_names = duplicate_giantbomb_names.sort_values(\"name\")\n",
    "duplicate_giantbomb_names"
   ]
  },
  {
   "cell_type": "markdown",
   "metadata": {},
   "source": [
    "Get list of all game_ids"
   ]
  },
  {
   "cell_type": "code",
   "execution_count": null,
   "metadata": {},
   "outputs": [],
   "source": [
    "game_id_list = duplicate_giantbomb_names.index.to_list()"
   ]
  },
  {
   "cell_type": "markdown",
   "metadata": {},
   "source": [
    "for each item in the list, get the corresponding json file. Clean to extract necessary data (esp. year)"
   ]
  },
  {
   "cell_type": "code",
   "execution_count": null,
   "metadata": {},
   "outputs": [],
   "source": [
    "for game_id, api_url in game_api_dict.items():\n",
    "    filename = \"{}.json\".format(game_id)\n",
    "    if not Path(game_dir, filename).is_file():\n",
    "\n",
    "        "
   ]
  },
  {
   "cell_type": "code",
   "execution_count": null,
   "metadata": {},
   "outputs": [],
   "source": [
    "print(len(release_years))"
   ]
  },
  {
   "cell_type": "code",
   "execution_count": null,
   "metadata": {},
   "outputs": [],
   "source": [
    "num_nans = id_year_df.isna().sum().sum()\n",
    "print(num_nans)"
   ]
  },
  {
   "cell_type": "code",
   "execution_count": null,
   "metadata": {},
   "outputs": [],
   "source": [
    "# group the data by name and count the number of occurrences\n",
    "grouped = giantbomb_games.groupby(['name']).size().reset_index(name='count')\n",
    "\n",
    "# select the rows where count > 1, indicating a duplicate name\n",
    "duplicates = grouped[grouped['count'] > 1]\n",
    "\n",
    "# select the rows with duplicate name and different game_id\n",
    "duplicates = giantbomb_games[giantbomb_games['name'].isin(duplicates['name'])].groupby('name').filter(lambda x: x['game_id'].nunique() > 1)\n",
    "\n",
    "# print the duplicate rows, sorted by name\n",
    "if len(duplicates) > 0:\n",
    "    print(\"Found {} rows with same name but different game_id:\".format(len(duplicates)))\n",
    "    print(duplicates.sort_values(by=['name', 'game_id']))\n",
    "else:\n",
    "    print(\"No rows with same name but different game_id found.\")\n"
   ]
  },
  {
   "cell_type": "code",
   "execution_count": null,
   "metadata": {},
   "outputs": [],
   "source": [
    "temp2 = temp[temp.duplicated([\"name\", \"index\"], keep=False)]\n",
    "temp2 = temp2.sort_values(\"name\")\n",
    "temp2"
   ]
  },
  {
   "cell_type": "code",
   "execution_count": null,
   "metadata": {},
   "outputs": [],
   "source": [
    "a = giantbomb_games[giantbomb_games[\"name\"].str.contains('Sqrxz', na=False, flags=re.IGNORECASE, regex=True)]\n",
    "a"
   ]
  },
  {
   "cell_type": "markdown",
   "metadata": {},
   "source": [
    "The first thing I am going to do is check for any titles that appear only once in both dataframes and that have matching titles. With this criteria, we can assume that the games are the same. "
   ]
  },
  {
   "cell_type": "code",
   "execution_count": null,
   "metadata": {},
   "outputs": [],
   "source": [
    "unmatching_rows = imdb_games[~imdb_games['primaryTitle'].isin(giantbomb_games['name'])]"
   ]
  },
  {
   "cell_type": "code",
   "execution_count": null,
   "metadata": {
    "scrolled": true
   },
   "outputs": [],
   "source": [
    "try_this = unmatching_rows[unmatching_rows['originalTitle'].isin(giantbomb_games['name'])]\n",
    "try_this.count()"
   ]
  },
  {
   "cell_type": "code",
   "execution_count": null,
   "metadata": {
    "scrolled": true
   },
   "outputs": [],
   "source": [
    "import re\n",
    "temp = giantbomb_games[giantbomb_games[\"name\"].str.contains('Infernal', na=False, flags=re.IGNORECASE, regex=True)]\n",
    "temp.head(50)"
   ]
  },
  {
   "cell_type": "markdown",
   "metadata": {},
   "source": [
    "My current plan for the most accurate way to approach this:"
   ]
  },
  {
   "cell_type": "markdown",
   "metadata": {},
   "source": [
    "First check for duplicate names in both datasets. If there is a duplicate name in either dataset, we need to check whether this is because there are 2 games with the same name. If this is the case, we need a way to distinguish between the 2. I would anticipate year of release could work."
   ]
  },
  {
   "cell_type": "markdown",
   "metadata": {},
   "source": [
    "The next step would be comparing names against alternate titles. After this, any that still have no matches, would be subject to fuzzy matching.I'd anticipate at least 75% of the games in the imdb dataset should be contained in giantbomb's database."
   ]
  },
  {
   "cell_type": "code",
   "execution_count": null,
   "metadata": {},
   "outputs": [],
   "source": [
    "imdb_dups = imdb_games[imdb_games.duplicated(['primaryTitle', 'startYear'], keep=False)]\n",
    "imdb_dups = imdb_dups.sort_values(\"primaryTitle\")\n",
    "print(imdb_dups)"
   ]
  }
 ],
 "metadata": {
  "kernelspec": {
   "display_name": "Python 3",
   "language": "python",
   "name": "python3"
  },
  "language_info": {
   "codemirror_mode": {
    "name": "ipython",
    "version": 3
   },
   "file_extension": ".py",
   "mimetype": "text/x-python",
   "name": "python",
   "nbconvert_exporter": "python",
   "pygments_lexer": "ipython3",
   "version": "3.8.5"
  }
 },
 "nbformat": 4,
 "nbformat_minor": 4
}
