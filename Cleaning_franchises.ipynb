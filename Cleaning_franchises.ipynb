{
 "cells": [
  {
   "cell_type": "markdown",
   "metadata": {},
   "source": [
    "Import the necessary libraries"
   ]
  },
  {
   "cell_type": "code",
   "execution_count": 1,
   "metadata": {},
   "outputs": [],
   "source": [
    "import pandas as pd\n",
    "import numpy as np\n",
    "import ast # used to convert strings to lists\n",
    "import time\n",
    "from rapidfuzz import process, fuzz"
   ]
  },
  {
   "cell_type": "markdown",
   "metadata": {},
   "source": [
    "We can pick what we consider to be a franchise. At the moment, any franchise that is smaller than the number below will be excluded. We'll also set the value for our best_fit_ratio. At this stage, you won't know what it is, but having it here, allows us to easily change it later if necessary"
   ]
  },
  {
   "cell_type": "code",
   "execution_count": 431,
   "metadata": {},
   "outputs": [],
   "source": [
    "minimum_franchise_value = 3\n",
    "considered_best_fit_ratio = 92.5"
   ]
  },
  {
   "cell_type": "markdown",
   "metadata": {},
   "source": [
    "First, read in the imdb data and the giantbomb data as dataframes and get a count"
   ]
  },
  {
   "cell_type": "code",
   "execution_count": 2,
   "metadata": {},
   "outputs": [],
   "source": [
    "imdb_games = pd.read_csv(\"imdb_games_db.csv\", index_col = 0)\n",
    "giantbomb_games = pd.read_csv(\"clean_giantbomb_games_db.csv\", index_col = 0)"
   ]
  },
  {
   "cell_type": "code",
   "execution_count": 3,
   "metadata": {},
   "outputs": [
    {
     "name": "stdout",
     "output_type": "stream",
     "text": [
      "Total imdb_games: 14435 \n",
      "Total giantbomb_games: 35117\n"
     ]
    }
   ],
   "source": [
    "print(\"Total imdb_games: {} \\nTotal giantbomb_games: {}\".format(imdb_games.shape[0], giantbomb_games.shape[0]))"
   ]
  },
  {
   "cell_type": "markdown",
   "metadata": {},
   "source": [
    "We'll remove any exact duplicates from both dataframes"
   ]
  },
  {
   "cell_type": "code",
   "execution_count": 4,
   "metadata": {
    "scrolled": false
   },
   "outputs": [
    {
     "name": "stdout",
     "output_type": "stream",
     "text": [
      "Total imdb_games: 14435 \n",
      "Total giantbomb_games: 35116\n"
     ]
    }
   ],
   "source": [
    "imdb_games = imdb_games.drop_duplicates()\n",
    "giantbomb_games = giantbomb_games.drop_duplicates()\n",
    "print(\"Total imdb_games: {} \\nTotal giantbomb_games: {}\".format(imdb_games.shape[0], giantbomb_games.shape[0]))"
   ]
  },
  {
   "cell_type": "markdown",
   "metadata": {},
   "source": [
    "Have a look at what our dataframes contain:"
   ]
  },
  {
   "cell_type": "code",
   "execution_count": 5,
   "metadata": {
    "scrolled": true
   },
   "outputs": [
    {
     "data": {
      "text/html": [
       "<div>\n",
       "<style scoped>\n",
       "    .dataframe tbody tr th:only-of-type {\n",
       "        vertical-align: middle;\n",
       "    }\n",
       "\n",
       "    .dataframe tbody tr th {\n",
       "        vertical-align: top;\n",
       "    }\n",
       "\n",
       "    .dataframe thead th {\n",
       "        text-align: right;\n",
       "    }\n",
       "</style>\n",
       "<table border=\"1\" class=\"dataframe\">\n",
       "  <thead>\n",
       "    <tr style=\"text-align: right;\">\n",
       "      <th></th>\n",
       "      <th>tconst</th>\n",
       "      <th>titleType</th>\n",
       "      <th>primaryTitle</th>\n",
       "      <th>originalTitle</th>\n",
       "      <th>isAdult</th>\n",
       "      <th>startYear</th>\n",
       "      <th>endYear</th>\n",
       "      <th>runtimeMinutes</th>\n",
       "      <th>genres</th>\n",
       "      <th>averageRating</th>\n",
       "      <th>numVotes</th>\n",
       "      <th>akas</th>\n",
       "    </tr>\n",
       "  </thead>\n",
       "  <tbody>\n",
       "    <tr>\n",
       "      <th>303923</th>\n",
       "      <td>tt0317518</td>\n",
       "      <td>videoGame</td>\n",
       "      <td>Football</td>\n",
       "      <td>Football</td>\n",
       "      <td>0</td>\n",
       "      <td>1978</td>\n",
       "      <td>\\N</td>\n",
       "      <td>\\N</td>\n",
       "      <td>Family,Sport</td>\n",
       "      <td>3.9</td>\n",
       "      <td>24.0</td>\n",
       "      <td>['Football']</td>\n",
       "    </tr>\n",
       "  </tbody>\n",
       "</table>\n",
       "</div>"
      ],
      "text/plain": [
       "           tconst  titleType primaryTitle originalTitle  isAdult startYear  \\\n",
       "303923  tt0317518  videoGame     Football      Football        0      1978   \n",
       "\n",
       "       endYear runtimeMinutes        genres  averageRating  numVotes  \\\n",
       "303923      \\N             \\N  Family,Sport            3.9      24.0   \n",
       "\n",
       "                akas  \n",
       "303923  ['Football']  "
      ]
     },
     "execution_count": 5,
     "metadata": {},
     "output_type": "execute_result"
    }
   ],
   "source": [
    "imdb_games.sample()"
   ]
  },
  {
   "cell_type": "code",
   "execution_count": 6,
   "metadata": {},
   "outputs": [
    {
     "data": {
      "text/html": [
       "<div>\n",
       "<style scoped>\n",
       "    .dataframe tbody tr th:only-of-type {\n",
       "        vertical-align: middle;\n",
       "    }\n",
       "\n",
       "    .dataframe tbody tr th {\n",
       "        vertical-align: top;\n",
       "    }\n",
       "\n",
       "    .dataframe thead th {\n",
       "        text-align: right;\n",
       "    }\n",
       "</style>\n",
       "<table border=\"1\" class=\"dataframe\">\n",
       "  <thead>\n",
       "    <tr style=\"text-align: right;\">\n",
       "      <th></th>\n",
       "      <th>franchise_id</th>\n",
       "      <th>game_id</th>\n",
       "      <th>name</th>\n",
       "      <th>release_year</th>\n",
       "      <th>aliases</th>\n",
       "      <th>developers</th>\n",
       "      <th>genres</th>\n",
       "      <th>platforms</th>\n",
       "      <th>publishers</th>\n",
       "      <th>rating</th>\n",
       "    </tr>\n",
       "  </thead>\n",
       "  <tbody>\n",
       "    <tr>\n",
       "      <th>6502</th>\n",
       "      <td>3025-173</td>\n",
       "      <td>458</td>\n",
       "      <td>X-Men: Wolverine's Rage</td>\n",
       "      <td>NaN</td>\n",
       "      <td>NaN</td>\n",
       "      <td>['Digital Eclipse Software, Inc.']</td>\n",
       "      <td>['Action', 'Platformer']</td>\n",
       "      <td>['Game Boy Color']</td>\n",
       "      <td>['Activision']</td>\n",
       "      <td>['ESRB: E']</td>\n",
       "    </tr>\n",
       "  </tbody>\n",
       "</table>\n",
       "</div>"
      ],
      "text/plain": [
       "     franchise_id  game_id                     name  release_year aliases  \\\n",
       "6502     3025-173      458  X-Men: Wolverine's Rage           NaN     NaN   \n",
       "\n",
       "                              developers                    genres  \\\n",
       "6502  ['Digital Eclipse Software, Inc.']  ['Action', 'Platformer']   \n",
       "\n",
       "               platforms      publishers       rating  \n",
       "6502  ['Game Boy Color']  ['Activision']  ['ESRB: E']  "
      ]
     },
     "execution_count": 6,
     "metadata": {},
     "output_type": "execute_result"
    }
   ],
   "source": [
    "giantbomb_games.sample()"
   ]
  },
  {
   "cell_type": "markdown",
   "metadata": {},
   "source": [
    "### Remove imdb duplicates"
   ]
  },
  {
   "cell_type": "markdown",
   "metadata": {},
   "source": [
    "We want to remove any duplicates from our imdb data that contain the same name and year. We save the one with the highest number of votes"
   ]
  },
  {
   "cell_type": "code",
   "execution_count": 7,
   "metadata": {},
   "outputs": [
    {
     "data": {
      "text/plain": [
       "14384"
      ]
     },
     "execution_count": 7,
     "metadata": {},
     "output_type": "execute_result"
    }
   ],
   "source": [
    "imdb_games = imdb_games.sort_values(by=[\"primaryTitle\", \"startYear\", \"numVotes\"])\n",
    "imdb_games = imdb_games.drop_duplicates(subset=[\"primaryTitle\", \"startYear\"], keep=\"last\")\n",
    "imdb_games.tconst.count()"
   ]
  },
  {
   "cell_type": "code",
   "execution_count": 8,
   "metadata": {
    "scrolled": true
   },
   "outputs": [
    {
     "data": {
      "text/plain": [
       "0"
      ]
     },
     "execution_count": 8,
     "metadata": {},
     "output_type": "execute_result"
    }
   ],
   "source": [
    "imdb_games.primaryTitle[imdb_games.duplicated([\"primaryTitle\", \"startYear\"], keep=False)].count()"
   ]
  },
  {
   "cell_type": "markdown",
   "metadata": {},
   "source": [
    "### Remove giantbomb duplicates"
   ]
  },
  {
   "cell_type": "markdown",
   "metadata": {},
   "source": [
    "As each game_id is unique, we want to group all the franchises for each game into a single result for each game_id. First though we check whether any of the the rows have the same game_id but a different name or release_year"
   ]
  },
  {
   "cell_type": "code",
   "execution_count": 9,
   "metadata": {},
   "outputs": [
    {
     "data": {
      "text/plain": [
       "franchise_id    35116\n",
       "game_id         35116\n",
       "name            35116\n",
       "release_year     5435\n",
       "aliases          8088\n",
       "developers      32746\n",
       "genres          33660\n",
       "platforms       34802\n",
       "publishers      33604\n",
       "rating          14184\n",
       "dtype: int64"
      ]
     },
     "execution_count": 9,
     "metadata": {},
     "output_type": "execute_result"
    }
   ],
   "source": [
    "giantbomb_games.count()"
   ]
  },
  {
   "cell_type": "code",
   "execution_count": 10,
   "metadata": {
    "scrolled": false
   },
   "outputs": [
    {
     "name": "stdout",
     "output_type": "stream",
     "text": [
      "0\n"
     ]
    }
   ],
   "source": [
    "print(giantbomb_games.groupby(\"game_id\").filter(lambda x: x[\"name\"].nunique() > 1 or x[\"release_year\"].nunique() > 1)[\"game_id\"].count())"
   ]
  },
  {
   "cell_type": "markdown",
   "metadata": {},
   "source": [
    "The next thing will be to remove any franchises which only contain 1 or 2 entries. Though they may technically count as a franchise, they do nothing to help us with analysis on the basis of longevity so we'll treat them as if they don't belong in a franchise"
   ]
  },
  {
   "cell_type": "code",
   "execution_count": 11,
   "metadata": {},
   "outputs": [
    {
     "data": {
      "text/plain": [
       "35116"
      ]
     },
     "execution_count": 11,
     "metadata": {},
     "output_type": "execute_result"
    }
   ],
   "source": [
    "giantbomb_games.game_id.count()"
   ]
  },
  {
   "cell_type": "code",
   "execution_count": 12,
   "metadata": {},
   "outputs": [],
   "source": [
    "# Note: minimum_franchise_value is set at the top of the notebook\n",
    "franchise_counts = giantbomb_games.groupby('franchise_id').size()\n",
    "franchise_dict = {k:v for k,v in franchise_counts.items() if v < minimum_franchise_value}\n",
    "franchise_ids_to_drop = list(franchise_dict.keys())\n",
    "\n",
    "mask = giantbomb_games['franchise_id'].isin(franchise_ids_to_drop)\n",
    "giantbomb_games = giantbomb_games.drop(index=giantbomb_games[mask].index)"
   ]
  },
  {
   "cell_type": "code",
   "execution_count": 13,
   "metadata": {},
   "outputs": [
    {
     "data": {
      "text/plain": [
       "franchise_id    31529\n",
       "game_id         31529\n",
       "name            31529\n",
       "release_year     4668\n",
       "aliases          7423\n",
       "developers      29402\n",
       "genres          30205\n",
       "platforms       31251\n",
       "publishers      30282\n",
       "rating          13149\n",
       "dtype: int64"
      ]
     },
     "execution_count": 13,
     "metadata": {},
     "output_type": "execute_result"
    }
   ],
   "source": [
    "giantbomb_games.count()"
   ]
  },
  {
   "cell_type": "markdown",
   "metadata": {},
   "source": [
    "The first thing to do is to combine all the games that have an identical franchise_id, release_year and name. With this criteria we will assume they are all the same game released on different platforms for example. We want to consider the release_year even when it is a nan value, so we convert all nan values to 0 accommodate this. Once we've done this, we group by game_id to combine the franchises for each individual game"
   ]
  },
  {
   "cell_type": "code",
   "execution_count": 14,
   "metadata": {},
   "outputs": [],
   "source": [
    "giantbomb_games = giantbomb_games.groupby([\"name\", \"franchise_id\", giantbomb_games[\"release_year\"].fillna(0)]).agg({\n",
    "    \"aliases\": lambda x: list(set(x)),\n",
    "    \"developers\": lambda x: list(set(x)),\n",
    "    \"genres\": lambda x: list(set(x)),\n",
    "    \"platforms\": lambda x: list(set(x)),\n",
    "    \"publishers\": lambda x: list(set(x)),\n",
    "    \"rating\": lambda x: list(set(x)),\n",
    "    \"game_id\": \"first\"\n",
    "}).reset_index().drop_duplicates([\"game_id\", \"name\", \"franchise_id\", \"release_year\"], keep=\"first\")\n",
    "\n",
    "giantbomb_games = giantbomb_games.groupby('game_id').agg({\n",
    "    'franchise_id': lambda x: list(x),\n",
    "    'name': 'first',\n",
    "    'release_year': 'first',\n",
    "    'aliases': 'first',\n",
    "    'developers': 'first',\n",
    "    'genres': 'first',\n",
    "    \"platforms\": \"first\",\n",
    "    \"publishers\" : \"first\",\n",
    "    \"rating\": \"first\"\n",
    "})\n",
    "\n",
    "# Change year to string to match imdb database\n",
    "giantbomb_games[\"release_year\"] = giantbomb_games[\"release_year\"].apply(lambda x : str(x).split('.')[0])"
   ]
  },
  {
   "cell_type": "code",
   "execution_count": 15,
   "metadata": {
    "scrolled": true
   },
   "outputs": [
    {
     "data": {
      "text/html": [
       "<div>\n",
       "<style scoped>\n",
       "    .dataframe tbody tr th:only-of-type {\n",
       "        vertical-align: middle;\n",
       "    }\n",
       "\n",
       "    .dataframe tbody tr th {\n",
       "        vertical-align: top;\n",
       "    }\n",
       "\n",
       "    .dataframe thead th {\n",
       "        text-align: right;\n",
       "    }\n",
       "</style>\n",
       "<table border=\"1\" class=\"dataframe\">\n",
       "  <thead>\n",
       "    <tr style=\"text-align: right;\">\n",
       "      <th></th>\n",
       "      <th>franchise_id</th>\n",
       "      <th>name</th>\n",
       "      <th>release_year</th>\n",
       "      <th>aliases</th>\n",
       "      <th>developers</th>\n",
       "      <th>genres</th>\n",
       "      <th>platforms</th>\n",
       "      <th>publishers</th>\n",
       "      <th>rating</th>\n",
       "    </tr>\n",
       "    <tr>\n",
       "      <th>game_id</th>\n",
       "      <th></th>\n",
       "      <th></th>\n",
       "      <th></th>\n",
       "      <th></th>\n",
       "      <th></th>\n",
       "      <th></th>\n",
       "      <th></th>\n",
       "      <th></th>\n",
       "      <th></th>\n",
       "    </tr>\n",
       "  </thead>\n",
       "  <tbody>\n",
       "    <tr>\n",
       "      <th>1</th>\n",
       "      <td>[3025-143, 3025-2573]</td>\n",
       "      <td>Desert Strike: Return to the Gulf</td>\n",
       "      <td>1992</td>\n",
       "      <td>[Desert Strike Advance]</td>\n",
       "      <td>[['Electronic Arts', 'Visual Concepts', 'Budca...</td>\n",
       "      <td>[['Action', \"Shoot 'Em Up\"]]</td>\n",
       "      <td>[['Amiga', 'Game Boy', 'Game Boy Advance', 'Ga...</td>\n",
       "      <td>[['Electronic Arts', 'Domark Software', 'Malib...</td>\n",
       "      <td>[['ESRB: K-A', 'ESRB: E']]</td>\n",
       "    </tr>\n",
       "    <tr>\n",
       "      <th>3</th>\n",
       "      <td>[3025-2060]</td>\n",
       "      <td>Hyperballoid Deluxe: Survival Pack</td>\n",
       "      <td>0</td>\n",
       "      <td>[nan]</td>\n",
       "      <td>[['Kernel Kaput']]</td>\n",
       "      <td>[['Action', 'Block-Breaking']]</td>\n",
       "      <td>[['PC']]</td>\n",
       "      <td>[['Alawar Entertainment, Inc.']]</td>\n",
       "      <td>[nan]</td>\n",
       "    </tr>\n",
       "    <tr>\n",
       "      <th>4</th>\n",
       "      <td>[3025-1110]</td>\n",
       "      <td>The Chessmaster 2000</td>\n",
       "      <td>1986</td>\n",
       "      <td>[nan]</td>\n",
       "      <td>[['The Software Toolworks', 'Software Country'...</td>\n",
       "      <td>[['Strategy', 'Trivia/Board Game']]</td>\n",
       "      <td>[['Amiga', 'Amstrad CPC', 'Apple II', 'Atari S...</td>\n",
       "      <td>[['The Software Toolworks', 'Software Country'...</td>\n",
       "      <td>[nan]</td>\n",
       "    </tr>\n",
       "    <tr>\n",
       "      <th>6</th>\n",
       "      <td>[3025-128, 3025-130, 3025-1372]</td>\n",
       "      <td>WWE SmackDown! vs. RAW 2007</td>\n",
       "      <td>0</td>\n",
       "      <td>[SVR 2007]</td>\n",
       "      <td>[[\"Yuke's Co. Ltd.\", 'Digital Hearts Co., Ltd....</td>\n",
       "      <td>[['Action', 'Sports', 'Wrestling']]</td>\n",
       "      <td>[['PlayStation Portable', 'PlayStation 2', 'Xb...</td>\n",
       "      <td>[['THQ']]</td>\n",
       "      <td>[['ESRB: T', 'PEGI: 16+', 'CERO: C']]</td>\n",
       "    </tr>\n",
       "    <tr>\n",
       "      <th>8</th>\n",
       "      <td>[3025-335]</td>\n",
       "      <td>Super Spy Hunter</td>\n",
       "      <td>0</td>\n",
       "      <td>[Battle Formula]</td>\n",
       "      <td>[['Tokai Engineering']]</td>\n",
       "      <td>[['Vehicular Combat']]</td>\n",
       "      <td>[['Nintendo Entertainment System']]</td>\n",
       "      <td>[['Sunsoft']]</td>\n",
       "      <td>[nan]</td>\n",
       "    </tr>\n",
       "    <tr>\n",
       "      <th>...</th>\n",
       "      <td>...</td>\n",
       "      <td>...</td>\n",
       "      <td>...</td>\n",
       "      <td>...</td>\n",
       "      <td>...</td>\n",
       "      <td>...</td>\n",
       "      <td>...</td>\n",
       "      <td>...</td>\n",
       "      <td>...</td>\n",
       "    </tr>\n",
       "    <tr>\n",
       "      <th>88822</th>\n",
       "      <td>[3025-2291]</td>\n",
       "      <td>Winning Post 10</td>\n",
       "      <td>0</td>\n",
       "      <td>[nan]</td>\n",
       "      <td>[nan]</td>\n",
       "      <td>[['Driving/Racing']]</td>\n",
       "      <td>[['PC', 'PlayStation 4', 'Nintendo Switch', 'P...</td>\n",
       "      <td>[['Koei Tecmo']]</td>\n",
       "      <td>[['CERO: A']]</td>\n",
       "    </tr>\n",
       "    <tr>\n",
       "      <th>88824</th>\n",
       "      <td>[3025-5696]</td>\n",
       "      <td>Wan Nyan Dōbutsu Byōin</td>\n",
       "      <td>0</td>\n",
       "      <td>[nan]</td>\n",
       "      <td>[nan]</td>\n",
       "      <td>[['Simulation']]</td>\n",
       "      <td>[['Game Boy Advance']]</td>\n",
       "      <td>[['TDK Core']]</td>\n",
       "      <td>[['CERO: All Ages']]</td>\n",
       "    </tr>\n",
       "    <tr>\n",
       "      <th>88831</th>\n",
       "      <td>[3025-5699]</td>\n",
       "      <td>Shogi Saikyou: Pro ni Manabu</td>\n",
       "      <td>0</td>\n",
       "      <td>[nan]</td>\n",
       "      <td>[['Magical Company']]</td>\n",
       "      <td>[['Trivia/Board Game']]</td>\n",
       "      <td>[['PlayStation']]</td>\n",
       "      <td>[['Magical Company']]</td>\n",
       "      <td>[nan]</td>\n",
       "    </tr>\n",
       "    <tr>\n",
       "      <th>88834</th>\n",
       "      <td>[3025-383]</td>\n",
       "      <td>The Murder of Sonic the Hedgehog</td>\n",
       "      <td>0</td>\n",
       "      <td>[nan]</td>\n",
       "      <td>[['Sega']]</td>\n",
       "      <td>[['Adventure']]</td>\n",
       "      <td>[['Mac', 'PC']]</td>\n",
       "      <td>[['Sega']]</td>\n",
       "      <td>[nan]</td>\n",
       "    </tr>\n",
       "    <tr>\n",
       "      <th>88837</th>\n",
       "      <td>[3025-4309]</td>\n",
       "      <td>Morita Shogi Advance</td>\n",
       "      <td>0</td>\n",
       "      <td>[nan]</td>\n",
       "      <td>[nan]</td>\n",
       "      <td>[['Trivia/Board Game']]</td>\n",
       "      <td>[['Game Boy Advance']]</td>\n",
       "      <td>[['Hudson Entertainment, Inc.']]</td>\n",
       "      <td>[nan]</td>\n",
       "    </tr>\n",
       "  </tbody>\n",
       "</table>\n",
       "<p>25623 rows × 9 columns</p>\n",
       "</div>"
      ],
      "text/plain": [
       "                            franchise_id                                name  \\\n",
       "game_id                                                                        \n",
       "1                  [3025-143, 3025-2573]   Desert Strike: Return to the Gulf   \n",
       "3                            [3025-2060]  Hyperballoid Deluxe: Survival Pack   \n",
       "4                            [3025-1110]                The Chessmaster 2000   \n",
       "6        [3025-128, 3025-130, 3025-1372]         WWE SmackDown! vs. RAW 2007   \n",
       "8                             [3025-335]                    Super Spy Hunter   \n",
       "...                                  ...                                 ...   \n",
       "88822                        [3025-2291]                     Winning Post 10   \n",
       "88824                        [3025-5696]              Wan Nyan Dōbutsu Byōin   \n",
       "88831                        [3025-5699]        Shogi Saikyou: Pro ni Manabu   \n",
       "88834                         [3025-383]    The Murder of Sonic the Hedgehog   \n",
       "88837                        [3025-4309]                Morita Shogi Advance   \n",
       "\n",
       "        release_year                  aliases  \\\n",
       "game_id                                         \n",
       "1               1992  [Desert Strike Advance]   \n",
       "3                  0                    [nan]   \n",
       "4               1986                    [nan]   \n",
       "6                  0               [SVR 2007]   \n",
       "8                  0         [Battle Formula]   \n",
       "...              ...                      ...   \n",
       "88822              0                    [nan]   \n",
       "88824              0                    [nan]   \n",
       "88831              0                    [nan]   \n",
       "88834              0                    [nan]   \n",
       "88837              0                    [nan]   \n",
       "\n",
       "                                                developers  \\\n",
       "game_id                                                      \n",
       "1        [['Electronic Arts', 'Visual Concepts', 'Budca...   \n",
       "3                                       [['Kernel Kaput']]   \n",
       "4        [['The Software Toolworks', 'Software Country'...   \n",
       "6        [[\"Yuke's Co. Ltd.\", 'Digital Hearts Co., Ltd....   \n",
       "8                                  [['Tokai Engineering']]   \n",
       "...                                                    ...   \n",
       "88822                                                [nan]   \n",
       "88824                                                [nan]   \n",
       "88831                                [['Magical Company']]   \n",
       "88834                                           [['Sega']]   \n",
       "88837                                                [nan]   \n",
       "\n",
       "                                      genres  \\\n",
       "game_id                                        \n",
       "1               [['Action', \"Shoot 'Em Up\"]]   \n",
       "3             [['Action', 'Block-Breaking']]   \n",
       "4        [['Strategy', 'Trivia/Board Game']]   \n",
       "6        [['Action', 'Sports', 'Wrestling']]   \n",
       "8                     [['Vehicular Combat']]   \n",
       "...                                      ...   \n",
       "88822                   [['Driving/Racing']]   \n",
       "88824                       [['Simulation']]   \n",
       "88831                [['Trivia/Board Game']]   \n",
       "88834                        [['Adventure']]   \n",
       "88837                [['Trivia/Board Game']]   \n",
       "\n",
       "                                                 platforms  \\\n",
       "game_id                                                      \n",
       "1        [['Amiga', 'Game Boy', 'Game Boy Advance', 'Ga...   \n",
       "3                                                 [['PC']]   \n",
       "4        [['Amiga', 'Amstrad CPC', 'Apple II', 'Atari S...   \n",
       "6        [['PlayStation Portable', 'PlayStation 2', 'Xb...   \n",
       "8                      [['Nintendo Entertainment System']]   \n",
       "...                                                    ...   \n",
       "88822    [['PC', 'PlayStation 4', 'Nintendo Switch', 'P...   \n",
       "88824                               [['Game Boy Advance']]   \n",
       "88831                                    [['PlayStation']]   \n",
       "88834                                      [['Mac', 'PC']]   \n",
       "88837                               [['Game Boy Advance']]   \n",
       "\n",
       "                                                publishers  \\\n",
       "game_id                                                      \n",
       "1        [['Electronic Arts', 'Domark Software', 'Malib...   \n",
       "3                         [['Alawar Entertainment, Inc.']]   \n",
       "4        [['The Software Toolworks', 'Software Country'...   \n",
       "6                                                [['THQ']]   \n",
       "8                                            [['Sunsoft']]   \n",
       "...                                                    ...   \n",
       "88822                                     [['Koei Tecmo']]   \n",
       "88824                                       [['TDK Core']]   \n",
       "88831                                [['Magical Company']]   \n",
       "88834                                           [['Sega']]   \n",
       "88837                     [['Hudson Entertainment, Inc.']]   \n",
       "\n",
       "                                        rating  \n",
       "game_id                                         \n",
       "1                   [['ESRB: K-A', 'ESRB: E']]  \n",
       "3                                        [nan]  \n",
       "4                                        [nan]  \n",
       "6        [['ESRB: T', 'PEGI: 16+', 'CERO: C']]  \n",
       "8                                        [nan]  \n",
       "...                                        ...  \n",
       "88822                            [['CERO: A']]  \n",
       "88824                     [['CERO: All Ages']]  \n",
       "88831                                    [nan]  \n",
       "88834                                    [nan]  \n",
       "88837                                    [nan]  \n",
       "\n",
       "[25623 rows x 9 columns]"
      ]
     },
     "execution_count": 15,
     "metadata": {},
     "output_type": "execute_result"
    }
   ],
   "source": [
    "giantbomb_games.sort_values(\"game_id\")"
   ]
  },
  {
   "cell_type": "markdown",
   "metadata": {},
   "source": [
    "We can now get a record of the number of duplicate names in the data"
   ]
  },
  {
   "cell_type": "code",
   "execution_count": 16,
   "metadata": {},
   "outputs": [
    {
     "data": {
      "text/plain": [
       "560"
      ]
     },
     "execution_count": 16,
     "metadata": {},
     "output_type": "execute_result"
    }
   ],
   "source": [
    "giantbomb_games.name[giantbomb_games.duplicated([\"name\"], keep=False)].count()"
   ]
  },
  {
   "cell_type": "markdown",
   "metadata": {},
   "source": [
    "We can add the criteria to distinguish by both name and release year, which returns the following:"
   ]
  },
  {
   "cell_type": "code",
   "execution_count": 17,
   "metadata": {
    "scrolled": true
   },
   "outputs": [
    {
     "data": {
      "text/plain": [
       "72"
      ]
     },
     "execution_count": 17,
     "metadata": {},
     "output_type": "execute_result"
    }
   ],
   "source": [
    "giantbomb_games.name[giantbomb_games.duplicated([\"name\", \"release_year\"], keep=False)].count()"
   ]
  },
  {
   "cell_type": "markdown",
   "metadata": {},
   "source": [
    "We'll combine any duplicates in giantbomb which have the same name and release year"
   ]
  },
  {
   "cell_type": "code",
   "execution_count": 18,
   "metadata": {},
   "outputs": [],
   "source": [
    "# group by name and release year, aggregate the franchise_id lists\n",
    "giantbomb_games = giantbomb_games.groupby(['name', 'release_year'], as_index=False).agg({\n",
    "    'franchise_id': lambda x: list(set([i for l in x for i in l])),\n",
    "    'name': 'first',\n",
    "    'release_year': 'first',\n",
    "    \"aliases\": 'first',\n",
    "    \"developers\": lambda x: list(set([i for l in x for i in l])),\n",
    "    \"genres\": lambda x: list(set([i for l in x for i in l])),\n",
    "    \"platforms\": lambda x: list(set([i for l in x for i in l])),\n",
    "    \"publishers\" : lambda x: list(set([i for l in x for i in l])),\n",
    "    \"rating\": lambda x: list(set([i for l in x for i in l]))\n",
    "})"
   ]
  },
  {
   "cell_type": "markdown",
   "metadata": {},
   "source": [
    "The release year needs to be converted to a string so we can compare it to the imdb database. We also need to tmove trailing decimal points."
   ]
  },
  {
   "cell_type": "code",
   "execution_count": 19,
   "metadata": {},
   "outputs": [],
   "source": [
    "giantbomb_games[\"release_year\"] = giantbomb_games[\"release_year\"].apply(lambda x : str(x).split('.')[0])"
   ]
  },
  {
   "cell_type": "markdown",
   "metadata": {},
   "source": [
    "Reset the index so we have access to the game_ids"
   ]
  },
  {
   "cell_type": "code",
   "execution_count": 20,
   "metadata": {},
   "outputs": [],
   "source": [
    "giantbomb_games = giantbomb_games.reset_index()\n",
    "giantbomb_games = giantbomb_games.rename(columns={'index': 'game_id'})"
   ]
  },
  {
   "cell_type": "code",
   "execution_count": 21,
   "metadata": {},
   "outputs": [
    {
     "data": {
      "text/html": [
       "<div>\n",
       "<style scoped>\n",
       "    .dataframe tbody tr th:only-of-type {\n",
       "        vertical-align: middle;\n",
       "    }\n",
       "\n",
       "    .dataframe tbody tr th {\n",
       "        vertical-align: top;\n",
       "    }\n",
       "\n",
       "    .dataframe thead th {\n",
       "        text-align: right;\n",
       "    }\n",
       "</style>\n",
       "<table border=\"1\" class=\"dataframe\">\n",
       "  <thead>\n",
       "    <tr style=\"text-align: right;\">\n",
       "      <th></th>\n",
       "      <th>game_id</th>\n",
       "      <th>franchise_id</th>\n",
       "      <th>name</th>\n",
       "      <th>release_year</th>\n",
       "      <th>aliases</th>\n",
       "      <th>developers</th>\n",
       "      <th>genres</th>\n",
       "      <th>platforms</th>\n",
       "      <th>publishers</th>\n",
       "      <th>rating</th>\n",
       "    </tr>\n",
       "  </thead>\n",
       "  <tbody>\n",
       "    <tr>\n",
       "      <th>14967</th>\n",
       "      <td>14967</td>\n",
       "      <td>[3025-3081]</td>\n",
       "      <td>Ordyne</td>\n",
       "      <td>0</td>\n",
       "      <td>[nan]</td>\n",
       "      <td>[['Namco']]</td>\n",
       "      <td>[[\"Shoot 'Em Up\"]]</td>\n",
       "      <td>[['PlayStation', 'TurboGrafx-16', 'Arcade', 'W...</td>\n",
       "      <td>[['Bandai Namco Entertainment', 'Namco', 'NEC ...</td>\n",
       "      <td>[['ESRB: E', 'CERO: A']]</td>\n",
       "    </tr>\n",
       "  </tbody>\n",
       "</table>\n",
       "</div>"
      ],
      "text/plain": [
       "       game_id franchise_id    name release_year aliases   developers  \\\n",
       "14967    14967  [3025-3081]  Ordyne            0   [nan]  [['Namco']]   \n",
       "\n",
       "                   genres                                          platforms  \\\n",
       "14967  [[\"Shoot 'Em Up\"]]  [['PlayStation', 'TurboGrafx-16', 'Arcade', 'W...   \n",
       "\n",
       "                                              publishers  \\\n",
       "14967  [['Bandai Namco Entertainment', 'Namco', 'NEC ...   \n",
       "\n",
       "                         rating  \n",
       "14967  [['ESRB: E', 'CERO: A']]  "
      ]
     },
     "execution_count": 21,
     "metadata": {},
     "output_type": "execute_result"
    }
   ],
   "source": [
    "giantbomb_games.sample()"
   ]
  },
  {
   "cell_type": "markdown",
   "metadata": {},
   "source": [
    "## Beginning to combine dataframes"
   ]
  },
  {
   "cell_type": "code",
   "execution_count": 24,
   "metadata": {},
   "outputs": [],
   "source": [
    "def imdb_all_names(imdb_row):\n",
    "    imdb_row_list = [imdb_row.primaryTitle, imdb_row.originalTitle]\n",
    "    if type(imdb_row.akas) ==str:\n",
    "        akas_list = ast.literal_eval(imdb_row.akas)\n",
    "        for x in akas_list:\n",
    "            imdb_row_list.append(x)\n",
    "    return imdb_row_list"
   ]
  },
  {
   "cell_type": "markdown",
   "metadata": {},
   "source": [
    "Create a row with all the possible names"
   ]
  },
  {
   "cell_type": "code",
   "execution_count": 25,
   "metadata": {},
   "outputs": [],
   "source": [
    "imdb_games['all_names'] = imdb_games.apply(lambda row: imdb_all_names(row), axis=1)\n"
   ]
  },
  {
   "cell_type": "markdown",
   "metadata": {},
   "source": [
    "Remove duplicates from all names and explode"
   ]
  },
  {
   "cell_type": "code",
   "execution_count": 26,
   "metadata": {},
   "outputs": [],
   "source": [
    "imdb_games['all_names'] = imdb_games['all_names'].apply(lambda x: list(set(x)))"
   ]
  },
  {
   "cell_type": "code",
   "execution_count": 27,
   "metadata": {},
   "outputs": [],
   "source": [
    "imdb_games = imdb_games.explode('all_names')"
   ]
  },
  {
   "cell_type": "markdown",
   "metadata": {},
   "source": [
    "Do the same for giantbomb"
   ]
  },
  {
   "cell_type": "code",
   "execution_count": 28,
   "metadata": {},
   "outputs": [],
   "source": [
    "def gb_all_names(gb_row):\n",
    "    gb_row_list = [gb_row[\"name\"]]\n",
    "    for alias in gb_row.aliases:\n",
    "        if type(alias) == str:\n",
    "            gb_row_list.append(alias) \n",
    "    return gb_row_list"
   ]
  },
  {
   "cell_type": "code",
   "execution_count": 29,
   "metadata": {},
   "outputs": [],
   "source": [
    "giantbomb_games['all_names'] = giantbomb_games.apply(lambda row: gb_all_names(row), axis=1)\n",
    "giantbomb_games['all_names'] = giantbomb_games['all_names'].apply(lambda x: list(set(x)))"
   ]
  },
  {
   "cell_type": "code",
   "execution_count": 30,
   "metadata": {},
   "outputs": [],
   "source": [
    "giantbomb_games = giantbomb_games.explode(\"all_names\")\n",
    "giantbomb_games_list = giantbomb_games.all_names.to_list()"
   ]
  },
  {
   "cell_type": "code",
   "execution_count": 31,
   "metadata": {},
   "outputs": [],
   "source": [
    "def get_top_matches(imdb_row):\n",
    "    return process.extract(imdb_row.all_names, giantbomb_games_list, limit = 3)"
   ]
  },
  {
   "cell_type": "code",
   "execution_count": 35,
   "metadata": {},
   "outputs": [
    {
     "name": "stdout",
     "output_type": "stream",
     "text": [
      "4590.877031399999\n"
     ]
    }
   ],
   "source": [
    "time_at_start = time.perf_counter()\n",
    "imdb_games['best_matches'] = imdb_games.apply(lambda row: get_top_matches(row), axis = 1)\n",
    "time_at_end = time.perf_counter()\n",
    "print(time_at_end - time_at_start)"
   ]
  },
  {
   "cell_type": "code",
   "execution_count": 37,
   "metadata": {},
   "outputs": [],
   "source": [
    "def best_fit(row):\n",
    "    highest = 0\n",
    "    best_match = ()\n",
    "    for match in row[\"best_matches\"]:\n",
    "        if match[1] > highest:\n",
    "            highest = match[1]\n",
    "            best_match = match\n",
    "    return best_match\n",
    "imdb_games['best_fit'] = imdb_games.apply(lambda row: best_fit(row), axis = 1)"
   ]
  },
  {
   "cell_type": "code",
   "execution_count": 38,
   "metadata": {},
   "outputs": [
    {
     "name": "stderr",
     "output_type": "stream",
     "text": [
      "<ipython-input-38-f913b9cef470>:1: DeprecationWarning: The default dtype for empty Series will be 'object' instead of 'float64' in a future version. Specify a dtype explicitly to silence this warning.\n",
      "  imdb_games[['best_fit_title', 'best_fit_ratio', 'best_fit_game_id']] = imdb_games['best_fit'].apply(lambda x: pd.Series([i for i in x]))\n"
     ]
    },
    {
     "data": {
      "text/html": [
       "<div>\n",
       "<style scoped>\n",
       "    .dataframe tbody tr th:only-of-type {\n",
       "        vertical-align: middle;\n",
       "    }\n",
       "\n",
       "    .dataframe tbody tr th {\n",
       "        vertical-align: top;\n",
       "    }\n",
       "\n",
       "    .dataframe thead th {\n",
       "        text-align: right;\n",
       "    }\n",
       "</style>\n",
       "<table border=\"1\" class=\"dataframe\">\n",
       "  <thead>\n",
       "    <tr style=\"text-align: right;\">\n",
       "      <th></th>\n",
       "      <th>tconst</th>\n",
       "      <th>titleType</th>\n",
       "      <th>primaryTitle</th>\n",
       "      <th>originalTitle</th>\n",
       "      <th>isAdult</th>\n",
       "      <th>startYear</th>\n",
       "      <th>endYear</th>\n",
       "      <th>runtimeMinutes</th>\n",
       "      <th>genres</th>\n",
       "      <th>averageRating</th>\n",
       "      <th>numVotes</th>\n",
       "      <th>akas</th>\n",
       "      <th>all_names</th>\n",
       "      <th>best_matches</th>\n",
       "      <th>best_fit</th>\n",
       "      <th>best_fit_title</th>\n",
       "      <th>best_fit_ratio</th>\n",
       "      <th>best_fit_game_id</th>\n",
       "    </tr>\n",
       "  </thead>\n",
       "  <tbody>\n",
       "    <tr>\n",
       "      <th>7212109</th>\n",
       "      <td>tt4354918</td>\n",
       "      <td>videoGame</td>\n",
       "      <td>#IDARB (It Draws a Red Box)</td>\n",
       "      <td>#IDARB (It Draws a Red Box)</td>\n",
       "      <td>0</td>\n",
       "      <td>2015</td>\n",
       "      <td>\\N</td>\n",
       "      <td>\\N</td>\n",
       "      <td>Action</td>\n",
       "      <td>5.8</td>\n",
       "      <td>25.0</td>\n",
       "      <td>['#IDARB (It Draws a Red Box)']</td>\n",
       "      <td>#IDARB (It Draws a Red Box)</td>\n",
       "      <td>[(12 Labours of Hercules IX: A Hero's Moonwalk...</td>\n",
       "      <td>(12 Labours of Hercules IX: A Hero's Moonwalk,...</td>\n",
       "      <td>12 Labours of Hercules IX: A Hero's Moonwalk</td>\n",
       "      <td>85.5</td>\n",
       "      <td>94.0</td>\n",
       "    </tr>\n",
       "    <tr>\n",
       "      <th>5075818</th>\n",
       "      <td>tt1968978</td>\n",
       "      <td>videoGame</td>\n",
       "      <td>'88 Games</td>\n",
       "      <td>Hyper Sports Special</td>\n",
       "      <td>0</td>\n",
       "      <td>1988</td>\n",
       "      <td>\\N</td>\n",
       "      <td>\\N</td>\n",
       "      <td>Sport</td>\n",
       "      <td>6.0</td>\n",
       "      <td>14.0</td>\n",
       "      <td>[\"Track &amp; Field '88\", 'Hyper Sports Special', ...</td>\n",
       "      <td>Hyper Sports Special</td>\n",
       "      <td>[(Konami '88\\r\\nHyper Sports Special, 90.0, 28...</td>\n",
       "      <td>(Konami '88\\r\\nHyper Sports Special, 90.0, 28)</td>\n",
       "      <td>Konami '88\\r\\nHyper Sports Special</td>\n",
       "      <td>90.0</td>\n",
       "      <td>28.0</td>\n",
       "    </tr>\n",
       "    <tr>\n",
       "      <th>5075818</th>\n",
       "      <td>tt1968978</td>\n",
       "      <td>videoGame</td>\n",
       "      <td>'88 Games</td>\n",
       "      <td>Hyper Sports Special</td>\n",
       "      <td>0</td>\n",
       "      <td>1988</td>\n",
       "      <td>\\N</td>\n",
       "      <td>\\N</td>\n",
       "      <td>Sport</td>\n",
       "      <td>6.0</td>\n",
       "      <td>14.0</td>\n",
       "      <td>[\"Track &amp; Field '88\", 'Hyper Sports Special', ...</td>\n",
       "      <td>Track &amp; Field '88</td>\n",
       "      <td>[(Track &amp; Field, 95.0, 28467), ('88 Games, 85....</td>\n",
       "      <td>(Track &amp; Field, 95.0, 28467)</td>\n",
       "      <td>Track &amp; Field</td>\n",
       "      <td>95.0</td>\n",
       "      <td>28467.0</td>\n",
       "    </tr>\n",
       "    <tr>\n",
       "      <th>5075818</th>\n",
       "      <td>tt1968978</td>\n",
       "      <td>videoGame</td>\n",
       "      <td>'88 Games</td>\n",
       "      <td>Hyper Sports Special</td>\n",
       "      <td>0</td>\n",
       "      <td>1988</td>\n",
       "      <td>\\N</td>\n",
       "      <td>\\N</td>\n",
       "      <td>Sport</td>\n",
       "      <td>6.0</td>\n",
       "      <td>14.0</td>\n",
       "      <td>[\"Track &amp; Field '88\", 'Hyper Sports Special', ...</td>\n",
       "      <td>'88 Games</td>\n",
       "      <td>[('88 Games, 100.0, 27), (ME, 90.0, 15253), ( ...</td>\n",
       "      <td>('88 Games, 100.0, 27)</td>\n",
       "      <td>'88 Games</td>\n",
       "      <td>100.0</td>\n",
       "      <td>27.0</td>\n",
       "    </tr>\n",
       "    <tr>\n",
       "      <th>5075818</th>\n",
       "      <td>tt1968978</td>\n",
       "      <td>videoGame</td>\n",
       "      <td>'88 Games</td>\n",
       "      <td>Hyper Sports Special</td>\n",
       "      <td>0</td>\n",
       "      <td>1988</td>\n",
       "      <td>\\N</td>\n",
       "      <td>\\N</td>\n",
       "      <td>Sport</td>\n",
       "      <td>6.0</td>\n",
       "      <td>14.0</td>\n",
       "      <td>[\"Track &amp; Field '88\", 'Hyper Sports Special', ...</td>\n",
       "      <td>Konami '88</td>\n",
       "      <td>[(Konami '88\\r\\nHyper Sports Special, 90.0, 28...</td>\n",
       "      <td>(Konami '88\\r\\nHyper Sports Special, 90.0, 28)</td>\n",
       "      <td>Konami '88\\r\\nHyper Sports Special</td>\n",
       "      <td>90.0</td>\n",
       "      <td>28.0</td>\n",
       "    </tr>\n",
       "    <tr>\n",
       "      <th>...</th>\n",
       "      <td>...</td>\n",
       "      <td>...</td>\n",
       "      <td>...</td>\n",
       "      <td>...</td>\n",
       "      <td>...</td>\n",
       "      <td>...</td>\n",
       "      <td>...</td>\n",
       "      <td>...</td>\n",
       "      <td>...</td>\n",
       "      <td>...</td>\n",
       "      <td>...</td>\n",
       "      <td>...</td>\n",
       "      <td>...</td>\n",
       "      <td>...</td>\n",
       "      <td>...</td>\n",
       "      <td>...</td>\n",
       "      <td>...</td>\n",
       "      <td>...</td>\n",
       "    </tr>\n",
       "    <tr>\n",
       "      <th>295707</th>\n",
       "      <td>tt0308989</td>\n",
       "      <td>videoGame</td>\n",
       "      <td>ssn</td>\n",
       "      <td>ssn</td>\n",
       "      <td>0</td>\n",
       "      <td>1996</td>\n",
       "      <td>\\N</td>\n",
       "      <td>\\N</td>\n",
       "      <td>\\N</td>\n",
       "      <td>7.9</td>\n",
       "      <td>13.0</td>\n",
       "      <td>['ssn']</td>\n",
       "      <td>ssn</td>\n",
       "      <td>[(N, 90.0, 16876), (N+, 90.0, 16880), (N++, 90...</td>\n",
       "      <td>(N, 90.0, 16876)</td>\n",
       "      <td>N</td>\n",
       "      <td>90.0</td>\n",
       "      <td>16876.0</td>\n",
       "    </tr>\n",
       "    <tr>\n",
       "      <th>770432</th>\n",
       "      <td>tt0795512</td>\n",
       "      <td>videoGame</td>\n",
       "      <td>Æon Flux</td>\n",
       "      <td>Æon Flux</td>\n",
       "      <td>0</td>\n",
       "      <td>2005</td>\n",
       "      <td>\\N</td>\n",
       "      <td>\\N</td>\n",
       "      <td>Action,Adventure,Sci-Fi</td>\n",
       "      <td>5.6</td>\n",
       "      <td>265.0</td>\n",
       "      <td>['Æon Flux']</td>\n",
       "      <td>Æon Flux</td>\n",
       "      <td>[(Bit.Trip Flux, 85.5, 2747), (Pool Nation FX,...</td>\n",
       "      <td>(Bit.Trip Flux, 85.5, 2747)</td>\n",
       "      <td>Bit.Trip Flux</td>\n",
       "      <td>85.5</td>\n",
       "      <td>2747.0</td>\n",
       "    </tr>\n",
       "    <tr>\n",
       "      <th>2185219</th>\n",
       "      <td>tt1219283</td>\n",
       "      <td>videoGame</td>\n",
       "      <td>Îhatôvo monogatari</td>\n",
       "      <td>Îhatôvo monogatari</td>\n",
       "      <td>0</td>\n",
       "      <td>1993</td>\n",
       "      <td>\\N</td>\n",
       "      <td>\\N</td>\n",
       "      <td>Adventure</td>\n",
       "      <td>7.0</td>\n",
       "      <td>6.0</td>\n",
       "      <td>['Ihatovo Story', 'Îhatôvo monogatari']</td>\n",
       "      <td>Ihatovo Story</td>\n",
       "      <td>[(ST, 90.0, 22747), (STO, 90.0, 24242), (TOR, ...</td>\n",
       "      <td>(ST, 90.0, 22747)</td>\n",
       "      <td>ST</td>\n",
       "      <td>90.0</td>\n",
       "      <td>22747.0</td>\n",
       "    </tr>\n",
       "    <tr>\n",
       "      <th>2185219</th>\n",
       "      <td>tt1219283</td>\n",
       "      <td>videoGame</td>\n",
       "      <td>Îhatôvo monogatari</td>\n",
       "      <td>Îhatôvo monogatari</td>\n",
       "      <td>0</td>\n",
       "      <td>1993</td>\n",
       "      <td>\\N</td>\n",
       "      <td>\\N</td>\n",
       "      <td>Adventure</td>\n",
       "      <td>7.0</td>\n",
       "      <td>6.0</td>\n",
       "      <td>['Ihatovo Story', 'Îhatôvo monogatari']</td>\n",
       "      <td>Îhatôvo monogatari</td>\n",
       "      <td>[(Shin Rorona no Atelier: Hajimari no Monogata...</td>\n",
       "      <td>(Shin Rorona no Atelier: Hajimari no Monogatar...</td>\n",
       "      <td>Shin Rorona no Atelier: Hajimari no Monogatari...</td>\n",
       "      <td>85.5</td>\n",
       "      <td>1764.0</td>\n",
       "    </tr>\n",
       "    <tr>\n",
       "      <th>3830097</th>\n",
       "      <td>tt15235564</td>\n",
       "      <td>videoGame</td>\n",
       "      <td>ÜberSoldier</td>\n",
       "      <td>ÜberSoldier</td>\n",
       "      <td>0</td>\n",
       "      <td>2006</td>\n",
       "      <td>\\N</td>\n",
       "      <td>\\N</td>\n",
       "      <td>Action,Adventure,Sci-Fi</td>\n",
       "      <td>7.2</td>\n",
       "      <td>7.0</td>\n",
       "      <td>['ÜberSoldier']</td>\n",
       "      <td>ÜberSoldier</td>\n",
       "      <td>[(Diner, 80.0, 6179), (Captain America: Super ...</td>\n",
       "      <td>(Diner, 80.0, 6179)</td>\n",
       "      <td>Diner</td>\n",
       "      <td>80.0</td>\n",
       "      <td>6179.0</td>\n",
       "    </tr>\n",
       "  </tbody>\n",
       "</table>\n",
       "<p>24538 rows × 18 columns</p>\n",
       "</div>"
      ],
      "text/plain": [
       "             tconst  titleType                 primaryTitle  \\\n",
       "7212109   tt4354918  videoGame  #IDARB (It Draws a Red Box)   \n",
       "5075818   tt1968978  videoGame                    '88 Games   \n",
       "5075818   tt1968978  videoGame                    '88 Games   \n",
       "5075818   tt1968978  videoGame                    '88 Games   \n",
       "5075818   tt1968978  videoGame                    '88 Games   \n",
       "...             ...        ...                          ...   \n",
       "295707    tt0308989  videoGame                          ssn   \n",
       "770432    tt0795512  videoGame                     Æon Flux   \n",
       "2185219   tt1219283  videoGame           Îhatôvo monogatari   \n",
       "2185219   tt1219283  videoGame           Îhatôvo monogatari   \n",
       "3830097  tt15235564  videoGame                  ÜberSoldier   \n",
       "\n",
       "                       originalTitle  isAdult startYear endYear  \\\n",
       "7212109  #IDARB (It Draws a Red Box)        0      2015      \\N   \n",
       "5075818         Hyper Sports Special        0      1988      \\N   \n",
       "5075818         Hyper Sports Special        0      1988      \\N   \n",
       "5075818         Hyper Sports Special        0      1988      \\N   \n",
       "5075818         Hyper Sports Special        0      1988      \\N   \n",
       "...                              ...      ...       ...     ...   \n",
       "295707                           ssn        0      1996      \\N   \n",
       "770432                      Æon Flux        0      2005      \\N   \n",
       "2185219           Îhatôvo monogatari        0      1993      \\N   \n",
       "2185219           Îhatôvo monogatari        0      1993      \\N   \n",
       "3830097                  ÜberSoldier        0      2006      \\N   \n",
       "\n",
       "        runtimeMinutes                   genres  averageRating  numVotes  \\\n",
       "7212109             \\N                   Action            5.8      25.0   \n",
       "5075818             \\N                    Sport            6.0      14.0   \n",
       "5075818             \\N                    Sport            6.0      14.0   \n",
       "5075818             \\N                    Sport            6.0      14.0   \n",
       "5075818             \\N                    Sport            6.0      14.0   \n",
       "...                ...                      ...            ...       ...   \n",
       "295707              \\N                       \\N            7.9      13.0   \n",
       "770432              \\N  Action,Adventure,Sci-Fi            5.6     265.0   \n",
       "2185219             \\N                Adventure            7.0       6.0   \n",
       "2185219             \\N                Adventure            7.0       6.0   \n",
       "3830097             \\N  Action,Adventure,Sci-Fi            7.2       7.0   \n",
       "\n",
       "                                                      akas  \\\n",
       "7212109                    ['#IDARB (It Draws a Red Box)']   \n",
       "5075818  [\"Track & Field '88\", 'Hyper Sports Special', ...   \n",
       "5075818  [\"Track & Field '88\", 'Hyper Sports Special', ...   \n",
       "5075818  [\"Track & Field '88\", 'Hyper Sports Special', ...   \n",
       "5075818  [\"Track & Field '88\", 'Hyper Sports Special', ...   \n",
       "...                                                    ...   \n",
       "295707                                             ['ssn']   \n",
       "770432                                        ['Æon Flux']   \n",
       "2185219            ['Ihatovo Story', 'Îhatôvo monogatari']   \n",
       "2185219            ['Ihatovo Story', 'Îhatôvo monogatari']   \n",
       "3830097                                    ['ÜberSoldier']   \n",
       "\n",
       "                           all_names  \\\n",
       "7212109  #IDARB (It Draws a Red Box)   \n",
       "5075818         Hyper Sports Special   \n",
       "5075818            Track & Field '88   \n",
       "5075818                    '88 Games   \n",
       "5075818                   Konami '88   \n",
       "...                              ...   \n",
       "295707                           ssn   \n",
       "770432                      Æon Flux   \n",
       "2185219                Ihatovo Story   \n",
       "2185219           Îhatôvo monogatari   \n",
       "3830097                  ÜberSoldier   \n",
       "\n",
       "                                              best_matches  \\\n",
       "7212109  [(12 Labours of Hercules IX: A Hero's Moonwalk...   \n",
       "5075818  [(Konami '88\\r\\nHyper Sports Special, 90.0, 28...   \n",
       "5075818  [(Track & Field, 95.0, 28467), ('88 Games, 85....   \n",
       "5075818  [('88 Games, 100.0, 27), (ME, 90.0, 15253), ( ...   \n",
       "5075818  [(Konami '88\\r\\nHyper Sports Special, 90.0, 28...   \n",
       "...                                                    ...   \n",
       "295707   [(N, 90.0, 16876), (N+, 90.0, 16880), (N++, 90...   \n",
       "770432   [(Bit.Trip Flux, 85.5, 2747), (Pool Nation FX,...   \n",
       "2185219  [(ST, 90.0, 22747), (STO, 90.0, 24242), (TOR, ...   \n",
       "2185219  [(Shin Rorona no Atelier: Hajimari no Monogata...   \n",
       "3830097  [(Diner, 80.0, 6179), (Captain America: Super ...   \n",
       "\n",
       "                                                  best_fit  \\\n",
       "7212109  (12 Labours of Hercules IX: A Hero's Moonwalk,...   \n",
       "5075818     (Konami '88\\r\\nHyper Sports Special, 90.0, 28)   \n",
       "5075818                       (Track & Field, 95.0, 28467)   \n",
       "5075818                             ('88 Games, 100.0, 27)   \n",
       "5075818     (Konami '88\\r\\nHyper Sports Special, 90.0, 28)   \n",
       "...                                                    ...   \n",
       "295707                                    (N, 90.0, 16876)   \n",
       "770432                         (Bit.Trip Flux, 85.5, 2747)   \n",
       "2185219                                  (ST, 90.0, 22747)   \n",
       "2185219  (Shin Rorona no Atelier: Hajimari no Monogatar...   \n",
       "3830097                                (Diner, 80.0, 6179)   \n",
       "\n",
       "                                            best_fit_title  best_fit_ratio  \\\n",
       "7212109       12 Labours of Hercules IX: A Hero's Moonwalk            85.5   \n",
       "5075818                 Konami '88\\r\\nHyper Sports Special            90.0   \n",
       "5075818                                      Track & Field            95.0   \n",
       "5075818                                          '88 Games           100.0   \n",
       "5075818                 Konami '88\\r\\nHyper Sports Special            90.0   \n",
       "...                                                    ...             ...   \n",
       "295707                                                   N            90.0   \n",
       "770432                                       Bit.Trip Flux            85.5   \n",
       "2185219                                                 ST            90.0   \n",
       "2185219  Shin Rorona no Atelier: Hajimari no Monogatari...            85.5   \n",
       "3830097                                              Diner            80.0   \n",
       "\n",
       "         best_fit_game_id  \n",
       "7212109              94.0  \n",
       "5075818              28.0  \n",
       "5075818           28467.0  \n",
       "5075818              27.0  \n",
       "5075818              28.0  \n",
       "...                   ...  \n",
       "295707            16876.0  \n",
       "770432             2747.0  \n",
       "2185219           22747.0  \n",
       "2185219            1764.0  \n",
       "3830097            6179.0  \n",
       "\n",
       "[24538 rows x 18 columns]"
      ]
     },
     "execution_count": 38,
     "metadata": {},
     "output_type": "execute_result"
    }
   ],
   "source": [
    "imdb_games[['best_fit_title', 'best_fit_ratio', 'best_fit_game_id']] = imdb_games['best_fit'].apply(lambda x: pd.Series([i for i in x]))\n",
    "imdb_games"
   ]
  },
  {
   "cell_type": "markdown",
   "metadata": {},
   "source": [
    "Save the unmerged data to csv"
   ]
  },
  {
   "cell_type": "code",
   "execution_count": 405,
   "metadata": {},
   "outputs": [],
   "source": [
    "imdb_games.to_csv(\"raw_imdb_games_matches.csv\")"
   ]
  },
  {
   "cell_type": "code",
   "execution_count": 558,
   "metadata": {},
   "outputs": [],
   "source": [
    "#DELETE THIS LINE\n",
    "imdb_games = pd.read_csv(\"raw_imdb_games_matches.csv\", index_col = 0)"
   ]
  },
  {
   "cell_type": "markdown",
   "metadata": {},
   "source": [
    "Drop any nan values for best_fit_ratio as these are problem entries where the titles are messed up"
   ]
  },
  {
   "cell_type": "code",
   "execution_count": 559,
   "metadata": {},
   "outputs": [],
   "source": [
    "imdb_games = imdb_games[imdb_games['best_fit_ratio'].notna()]"
   ]
  },
  {
   "cell_type": "markdown",
   "metadata": {},
   "source": [
    "Convert the game ids to ints"
   ]
  },
  {
   "cell_type": "code",
   "execution_count": 560,
   "metadata": {
    "scrolled": true
   },
   "outputs": [],
   "source": [
    "imdb_games[\"best_fit_game_id\"] = imdb_games[\"best_fit_game_id\"].apply(lambda x: int(x))"
   ]
  },
  {
   "cell_type": "code",
   "execution_count": 459,
   "metadata": {},
   "outputs": [
    {
     "data": {
      "text/html": [
       "<div>\n",
       "<style scoped>\n",
       "    .dataframe tbody tr th:only-of-type {\n",
       "        vertical-align: middle;\n",
       "    }\n",
       "\n",
       "    .dataframe tbody tr th {\n",
       "        vertical-align: top;\n",
       "    }\n",
       "\n",
       "    .dataframe thead th {\n",
       "        text-align: right;\n",
       "    }\n",
       "</style>\n",
       "<table border=\"1\" class=\"dataframe\">\n",
       "  <thead>\n",
       "    <tr style=\"text-align: right;\">\n",
       "      <th></th>\n",
       "      <th>tconst</th>\n",
       "      <th>titleType</th>\n",
       "      <th>primaryTitle</th>\n",
       "      <th>originalTitle</th>\n",
       "      <th>isAdult</th>\n",
       "      <th>startYear</th>\n",
       "      <th>endYear</th>\n",
       "      <th>runtimeMinutes</th>\n",
       "      <th>genres</th>\n",
       "      <th>averageRating</th>\n",
       "      <th>numVotes</th>\n",
       "      <th>akas</th>\n",
       "      <th>all_names</th>\n",
       "      <th>best_matches</th>\n",
       "      <th>best_fit</th>\n",
       "      <th>best_fit_title</th>\n",
       "      <th>best_fit_ratio</th>\n",
       "      <th>best_fit_game_id</th>\n",
       "    </tr>\n",
       "  </thead>\n",
       "  <tbody>\n",
       "    <tr>\n",
       "      <th>7212109</th>\n",
       "      <td>tt4354918</td>\n",
       "      <td>videoGame</td>\n",
       "      <td>#IDARB (It Draws a Red Box)</td>\n",
       "      <td>#IDARB (It Draws a Red Box)</td>\n",
       "      <td>0</td>\n",
       "      <td>2015</td>\n",
       "      <td>\\N</td>\n",
       "      <td>\\N</td>\n",
       "      <td>Action</td>\n",
       "      <td>5.8</td>\n",
       "      <td>25.0</td>\n",
       "      <td>['#IDARB (It Draws a Red Box)']</td>\n",
       "      <td>#IDARB (It Draws a Red Box)</td>\n",
       "      <td>[(\"12 Labours of Hercules IX: A Hero's Moonwalk\", 85.5, 94), ('1503 A.D.: Treasures, Monsters and Pirates', 85.5, 124), ('1701 A.D.', 85.5, 133)]</td>\n",
       "      <td>(\"12 Labours of Hercules IX: A Hero's Moonwalk\", 85.5, 94)</td>\n",
       "      <td>12 Labours of Hercules IX: A Hero's Moonwalk</td>\n",
       "      <td>85.5</td>\n",
       "      <td>94</td>\n",
       "    </tr>\n",
       "    <tr>\n",
       "      <th>5075818</th>\n",
       "      <td>tt1968978</td>\n",
       "      <td>videoGame</td>\n",
       "      <td>'88 Games</td>\n",
       "      <td>Hyper Sports Special</td>\n",
       "      <td>0</td>\n",
       "      <td>1988</td>\n",
       "      <td>\\N</td>\n",
       "      <td>\\N</td>\n",
       "      <td>Sport</td>\n",
       "      <td>6.0</td>\n",
       "      <td>14.0</td>\n",
       "      <td>[\"Track &amp; Field '88\", 'Hyper Sports Special', \"'88 Games\", \"Konami '88\"]</td>\n",
       "      <td>Hyper Sports Special</td>\n",
       "      <td>[(\"Konami '88\\r\\nHyper Sports Special\", 90.0, 28), ('Hyper Sports', 90.0, 11732), ('Hyper Sports 2', 87.6923076923077, 11734)]</td>\n",
       "      <td>(\"Konami '88\\r\\nHyper Sports Special\", 90.0, 28)</td>\n",
       "      <td>Konami '88\\r\\nHyper Sports Special</td>\n",
       "      <td>90.0</td>\n",
       "      <td>28</td>\n",
       "    </tr>\n",
       "    <tr>\n",
       "      <th>5075818</th>\n",
       "      <td>tt1968978</td>\n",
       "      <td>videoGame</td>\n",
       "      <td>'88 Games</td>\n",
       "      <td>Hyper Sports Special</td>\n",
       "      <td>0</td>\n",
       "      <td>1988</td>\n",
       "      <td>\\N</td>\n",
       "      <td>\\N</td>\n",
       "      <td>Sport</td>\n",
       "      <td>6.0</td>\n",
       "      <td>14.0</td>\n",
       "      <td>[\"Track &amp; Field '88\", 'Hyper Sports Special', \"'88 Games\", \"Konami '88\"]</td>\n",
       "      <td>Track &amp; Field '88</td>\n",
       "      <td>[('Track &amp; Field', 95.0, 28467), (\"'88 Games\", 85.5, 27), (\"Konami '88\\r\\nHyper Sports Special\", 85.5, 28)]</td>\n",
       "      <td>('Track &amp; Field', 95.0, 28467)</td>\n",
       "      <td>Track &amp; Field</td>\n",
       "      <td>95.0</td>\n",
       "      <td>28467</td>\n",
       "    </tr>\n",
       "    <tr>\n",
       "      <th>5075818</th>\n",
       "      <td>tt1968978</td>\n",
       "      <td>videoGame</td>\n",
       "      <td>'88 Games</td>\n",
       "      <td>Hyper Sports Special</td>\n",
       "      <td>0</td>\n",
       "      <td>1988</td>\n",
       "      <td>\\N</td>\n",
       "      <td>\\N</td>\n",
       "      <td>Sport</td>\n",
       "      <td>6.0</td>\n",
       "      <td>14.0</td>\n",
       "      <td>[\"Track &amp; Field '88\", 'Hyper Sports Special', \"'88 Games\", \"Konami '88\"]</td>\n",
       "      <td>'88 Games</td>\n",
       "      <td>[(\"'88 Games\", 100.0, 27), ('ME', 90.0, 15253), (\" 2 Games In 1: LEGO Knights' Kingdom + LEGO Bionicle\", 85.5, 0)]</td>\n",
       "      <td>(\"'88 Games\", 100.0, 27)</td>\n",
       "      <td>'88 Games</td>\n",
       "      <td>100.0</td>\n",
       "      <td>27</td>\n",
       "    </tr>\n",
       "    <tr>\n",
       "      <th>5075818</th>\n",
       "      <td>tt1968978</td>\n",
       "      <td>videoGame</td>\n",
       "      <td>'88 Games</td>\n",
       "      <td>Hyper Sports Special</td>\n",
       "      <td>0</td>\n",
       "      <td>1988</td>\n",
       "      <td>\\N</td>\n",
       "      <td>\\N</td>\n",
       "      <td>Sport</td>\n",
       "      <td>6.0</td>\n",
       "      <td>14.0</td>\n",
       "      <td>[\"Track &amp; Field '88\", 'Hyper Sports Special', \"'88 Games\", \"Konami '88\"]</td>\n",
       "      <td>Konami '88</td>\n",
       "      <td>[(\"Konami '88\\r\\nHyper Sports Special\", 90.0, 28), ('Area 88 ~Etranger 1995~', 85.5, 1379), ('Area 88:  Ikkakujuu no Kiseki', 85.5, 1380)]</td>\n",
       "      <td>(\"Konami '88\\r\\nHyper Sports Special\", 90.0, 28)</td>\n",
       "      <td>Konami '88\\r\\nHyper Sports Special</td>\n",
       "      <td>90.0</td>\n",
       "      <td>28</td>\n",
       "    </tr>\n",
       "  </tbody>\n",
       "</table>\n",
       "</div>"
      ],
      "text/plain": [
       "            tconst  titleType                 primaryTitle  \\\n",
       "7212109  tt4354918  videoGame  #IDARB (It Draws a Red Box)   \n",
       "5075818  tt1968978  videoGame                    '88 Games   \n",
       "5075818  tt1968978  videoGame                    '88 Games   \n",
       "5075818  tt1968978  videoGame                    '88 Games   \n",
       "5075818  tt1968978  videoGame                    '88 Games   \n",
       "\n",
       "                       originalTitle  isAdult startYear endYear  \\\n",
       "7212109  #IDARB (It Draws a Red Box)        0      2015      \\N   \n",
       "5075818         Hyper Sports Special        0      1988      \\N   \n",
       "5075818         Hyper Sports Special        0      1988      \\N   \n",
       "5075818         Hyper Sports Special        0      1988      \\N   \n",
       "5075818         Hyper Sports Special        0      1988      \\N   \n",
       "\n",
       "        runtimeMinutes  genres  averageRating  numVotes  \\\n",
       "7212109             \\N  Action            5.8      25.0   \n",
       "5075818             \\N   Sport            6.0      14.0   \n",
       "5075818             \\N   Sport            6.0      14.0   \n",
       "5075818             \\N   Sport            6.0      14.0   \n",
       "5075818             \\N   Sport            6.0      14.0   \n",
       "\n",
       "                                                                             akas  \\\n",
       "7212109                                           ['#IDARB (It Draws a Red Box)']   \n",
       "5075818  [\"Track & Field '88\", 'Hyper Sports Special', \"'88 Games\", \"Konami '88\"]   \n",
       "5075818  [\"Track & Field '88\", 'Hyper Sports Special', \"'88 Games\", \"Konami '88\"]   \n",
       "5075818  [\"Track & Field '88\", 'Hyper Sports Special', \"'88 Games\", \"Konami '88\"]   \n",
       "5075818  [\"Track & Field '88\", 'Hyper Sports Special', \"'88 Games\", \"Konami '88\"]   \n",
       "\n",
       "                           all_names  \\\n",
       "7212109  #IDARB (It Draws a Red Box)   \n",
       "5075818         Hyper Sports Special   \n",
       "5075818            Track & Field '88   \n",
       "5075818                    '88 Games   \n",
       "5075818                   Konami '88   \n",
       "\n",
       "                                                                                                                                              best_matches  \\\n",
       "7212109  [(\"12 Labours of Hercules IX: A Hero's Moonwalk\", 85.5, 94), ('1503 A.D.: Treasures, Monsters and Pirates', 85.5, 124), ('1701 A.D.', 85.5, 133)]   \n",
       "5075818                     [(\"Konami '88\\r\\nHyper Sports Special\", 90.0, 28), ('Hyper Sports', 90.0, 11732), ('Hyper Sports 2', 87.6923076923077, 11734)]   \n",
       "5075818                                        [('Track & Field', 95.0, 28467), (\"'88 Games\", 85.5, 27), (\"Konami '88\\r\\nHyper Sports Special\", 85.5, 28)]   \n",
       "5075818                                 [(\"'88 Games\", 100.0, 27), ('ME', 90.0, 15253), (\" 2 Games In 1: LEGO Knights' Kingdom + LEGO Bionicle\", 85.5, 0)]   \n",
       "5075818         [(\"Konami '88\\r\\nHyper Sports Special\", 90.0, 28), ('Area 88 ~Etranger 1995~', 85.5, 1379), ('Area 88:  Ikkakujuu no Kiseki', 85.5, 1380)]   \n",
       "\n",
       "                                                           best_fit  \\\n",
       "7212109  (\"12 Labours of Hercules IX: A Hero's Moonwalk\", 85.5, 94)   \n",
       "5075818            (\"Konami '88\\r\\nHyper Sports Special\", 90.0, 28)   \n",
       "5075818                              ('Track & Field', 95.0, 28467)   \n",
       "5075818                                    (\"'88 Games\", 100.0, 27)   \n",
       "5075818            (\"Konami '88\\r\\nHyper Sports Special\", 90.0, 28)   \n",
       "\n",
       "                                       best_fit_title  best_fit_ratio  \\\n",
       "7212109  12 Labours of Hercules IX: A Hero's Moonwalk            85.5   \n",
       "5075818            Konami '88\\r\\nHyper Sports Special            90.0   \n",
       "5075818                                 Track & Field            95.0   \n",
       "5075818                                     '88 Games           100.0   \n",
       "5075818            Konami '88\\r\\nHyper Sports Special            90.0   \n",
       "\n",
       "         best_fit_game_id  \n",
       "7212109                94  \n",
       "5075818                28  \n",
       "5075818             28467  \n",
       "5075818                27  \n",
       "5075818                28  "
      ]
     },
     "execution_count": 459,
     "metadata": {},
     "output_type": "execute_result"
    }
   ],
   "source": [
    "imdb_games.head(5)"
   ]
  },
  {
   "cell_type": "code",
   "execution_count": 460,
   "metadata": {},
   "outputs": [
    {
     "data": {
      "text/html": [
       "<div>\n",
       "<style scoped>\n",
       "    .dataframe tbody tr th:only-of-type {\n",
       "        vertical-align: middle;\n",
       "    }\n",
       "\n",
       "    .dataframe tbody tr th {\n",
       "        vertical-align: top;\n",
       "    }\n",
       "\n",
       "    .dataframe thead th {\n",
       "        text-align: right;\n",
       "    }\n",
       "</style>\n",
       "<table border=\"1\" class=\"dataframe\">\n",
       "  <thead>\n",
       "    <tr style=\"text-align: right;\">\n",
       "      <th></th>\n",
       "      <th>game_id</th>\n",
       "      <th>franchise_id</th>\n",
       "      <th>name</th>\n",
       "      <th>release_year</th>\n",
       "      <th>aliases</th>\n",
       "      <th>developers</th>\n",
       "      <th>genres</th>\n",
       "      <th>platforms</th>\n",
       "      <th>publishers</th>\n",
       "      <th>rating</th>\n",
       "      <th>all_names</th>\n",
       "    </tr>\n",
       "  </thead>\n",
       "  <tbody>\n",
       "    <tr>\n",
       "      <th>0</th>\n",
       "      <td>0</td>\n",
       "      <td>[3025-725, 3025-448]</td>\n",
       "      <td>2 Games In 1: LEGO Knights' Kingdom + LEGO Bionicle</td>\n",
       "      <td>0</td>\n",
       "      <td>[nan]</td>\n",
       "      <td>['Razorback Developments Ltd', 'Rockstar Leeds']</td>\n",
       "      <td>['Action']</td>\n",
       "      <td>['Game Boy Advance']</td>\n",
       "      <td>['THQ']</td>\n",
       "      <td>NaN</td>\n",
       "      <td>2 Games In 1: LEGO Knights' Kingdom + LEGO Bionicle</td>\n",
       "    </tr>\n",
       "    <tr>\n",
       "      <th>1</th>\n",
       "      <td>1</td>\n",
       "      <td>[3025-647]</td>\n",
       "      <td>Atelier Ryza 2: Lost Legends &amp; the Secret Fairy</td>\n",
       "      <td>0</td>\n",
       "      <td>[nan]</td>\n",
       "      <td>['GUST Co., Ltd.']</td>\n",
       "      <td>['Role-Playing']</td>\n",
       "      <td>['PC', 'PlayStation 4', 'Nintendo Switch', 'PlayStation 5']</td>\n",
       "      <td>['Koei Tecmo']</td>\n",
       "      <td>['CERO: C', 'ESRB: T']</td>\n",
       "      <td>Atelier Ryza 2: Lost Legends &amp; the Secret Fairy</td>\n",
       "    </tr>\n",
       "    <tr>\n",
       "      <th>2</th>\n",
       "      <td>2</td>\n",
       "      <td>[3025-1691, 3025-1819]</td>\n",
       "      <td>Electric Crayon 3.0: Inspector Gadget: Safety Patrol</td>\n",
       "      <td>0</td>\n",
       "      <td>[nan]</td>\n",
       "      <td>['Brian A. Rice, Inc.']</td>\n",
       "      <td>['Educational']</td>\n",
       "      <td>['PC']</td>\n",
       "      <td>['Merit Software']</td>\n",
       "      <td>NaN</td>\n",
       "      <td>Electric Crayon 3.0: Inspector Gadget: Safety Patrol</td>\n",
       "    </tr>\n",
       "    <tr>\n",
       "      <th>3</th>\n",
       "      <td>3</td>\n",
       "      <td>[3025-3748]</td>\n",
       "      <td>Empire Deluxe Combined Edition</td>\n",
       "      <td>0</td>\n",
       "      <td>[Empire Deluxe Masters Edition\\nEmpire Deluxe Internet Edition]</td>\n",
       "      <td>['White Wolf Productions', 'Killer Bee Software']</td>\n",
       "      <td>['Strategy']</td>\n",
       "      <td>['PC']</td>\n",
       "      <td>['New World Computing, Inc.', 'Killer Bee Software']</td>\n",
       "      <td>NaN</td>\n",
       "      <td>Empire Deluxe Masters Edition\\nEmpire Deluxe Internet Edition</td>\n",
       "    </tr>\n",
       "    <tr>\n",
       "      <th>4</th>\n",
       "      <td>3</td>\n",
       "      <td>[3025-3748]</td>\n",
       "      <td>Empire Deluxe Combined Edition</td>\n",
       "      <td>0</td>\n",
       "      <td>[Empire Deluxe Masters Edition\\nEmpire Deluxe Internet Edition]</td>\n",
       "      <td>['White Wolf Productions', 'Killer Bee Software']</td>\n",
       "      <td>['Strategy']</td>\n",
       "      <td>['PC']</td>\n",
       "      <td>['New World Computing, Inc.', 'Killer Bee Software']</td>\n",
       "      <td>NaN</td>\n",
       "      <td>Empire Deluxe Combined Edition</td>\n",
       "    </tr>\n",
       "  </tbody>\n",
       "</table>\n",
       "</div>"
      ],
      "text/plain": [
       "   game_id            franchise_id  \\\n",
       "0        0    [3025-725, 3025-448]   \n",
       "1        1              [3025-647]   \n",
       "2        2  [3025-1691, 3025-1819]   \n",
       "3        3             [3025-3748]   \n",
       "4        3             [3025-3748]   \n",
       "\n",
       "                                                    name release_year  \\\n",
       "0    2 Games In 1: LEGO Knights' Kingdom + LEGO Bionicle            0   \n",
       "1        Atelier Ryza 2: Lost Legends & the Secret Fairy            0   \n",
       "2   Electric Crayon 3.0: Inspector Gadget: Safety Patrol            0   \n",
       "3                         Empire Deluxe Combined Edition            0   \n",
       "4                         Empire Deluxe Combined Edition            0   \n",
       "\n",
       "                                                           aliases  \\\n",
       "0                                                            [nan]   \n",
       "1                                                            [nan]   \n",
       "2                                                            [nan]   \n",
       "3  [Empire Deluxe Masters Edition\\nEmpire Deluxe Internet Edition]   \n",
       "4  [Empire Deluxe Masters Edition\\nEmpire Deluxe Internet Edition]   \n",
       "\n",
       "                                          developers            genres  \\\n",
       "0   ['Razorback Developments Ltd', 'Rockstar Leeds']        ['Action']   \n",
       "1                                 ['GUST Co., Ltd.']  ['Role-Playing']   \n",
       "2                            ['Brian A. Rice, Inc.']   ['Educational']   \n",
       "3  ['White Wolf Productions', 'Killer Bee Software']      ['Strategy']   \n",
       "4  ['White Wolf Productions', 'Killer Bee Software']      ['Strategy']   \n",
       "\n",
       "                                                     platforms  \\\n",
       "0                                         ['Game Boy Advance']   \n",
       "1  ['PC', 'PlayStation 4', 'Nintendo Switch', 'PlayStation 5']   \n",
       "2                                                       ['PC']   \n",
       "3                                                       ['PC']   \n",
       "4                                                       ['PC']   \n",
       "\n",
       "                                             publishers  \\\n",
       "0                                               ['THQ']   \n",
       "1                                        ['Koei Tecmo']   \n",
       "2                                    ['Merit Software']   \n",
       "3  ['New World Computing, Inc.', 'Killer Bee Software']   \n",
       "4  ['New World Computing, Inc.', 'Killer Bee Software']   \n",
       "\n",
       "                   rating  \\\n",
       "0                     NaN   \n",
       "1  ['CERO: C', 'ESRB: T']   \n",
       "2                     NaN   \n",
       "3                     NaN   \n",
       "4                     NaN   \n",
       "\n",
       "                                                       all_names  \n",
       "0            2 Games In 1: LEGO Knights' Kingdom + LEGO Bionicle  \n",
       "1                Atelier Ryza 2: Lost Legends & the Secret Fairy  \n",
       "2           Electric Crayon 3.0: Inspector Gadget: Safety Patrol  \n",
       "3  Empire Deluxe Masters Edition\\nEmpire Deluxe Internet Edition  \n",
       "4                                 Empire Deluxe Combined Edition  "
      ]
     },
     "execution_count": 460,
     "metadata": {},
     "output_type": "execute_result"
    }
   ],
   "source": [
    "giantbomb_games.head(5)"
   ]
  },
  {
   "cell_type": "markdown",
   "metadata": {},
   "source": [
    "Remove the extra lists from the developers, genres, platforms, publishers and rating columns"
   ]
  },
  {
   "cell_type": "code",
   "execution_count": null,
   "metadata": {
    "scrolled": true
   },
   "outputs": [],
   "source": [
    "giantbomb_games[\"developers\"] = giantbomb_games[\"developers\"].apply(lambda x: x[0])\n",
    "giantbomb_games[\"genres\"] = giantbomb_games[\"genres\"].apply(lambda x: x[0])\n",
    "giantbomb_games[\"platforms\"] = giantbomb_games[\"platforms\"].apply(lambda x: x[0])\n",
    "giantbomb_games[\"publishers\"] = giantbomb_games[\"publishers\"].apply(lambda x: x[0])\n",
    "giantbomb_games[\"rating\"] = giantbomb_games[\"rating\"].apply(lambda x: x[0])"
   ]
  },
  {
   "cell_type": "markdown",
   "metadata": {},
   "source": [
    "Drop the index, so we can use the index from the exploded giantbomb dataframe (which will directly line up with the position in the list where the matches are made)"
   ]
  },
  {
   "cell_type": "code",
   "execution_count": 561,
   "metadata": {
    "scrolled": true
   },
   "outputs": [],
   "source": [
    "giantbomb_games = giantbomb_games.reset_index(drop = True)"
   ]
  },
  {
   "cell_type": "markdown",
   "metadata": {},
   "source": [
    "Merge all the titles, taking the best fit for each game and applying to the imdb dataset"
   ]
  },
  {
   "cell_type": "code",
   "execution_count": 562,
   "metadata": {
    "scrolled": true
   },
   "outputs": [
    {
     "data": {
      "text/html": [
       "<div>\n",
       "<style scoped>\n",
       "    .dataframe tbody tr th:only-of-type {\n",
       "        vertical-align: middle;\n",
       "    }\n",
       "\n",
       "    .dataframe tbody tr th {\n",
       "        vertical-align: top;\n",
       "    }\n",
       "\n",
       "    .dataframe thead th {\n",
       "        text-align: right;\n",
       "    }\n",
       "</style>\n",
       "<table border=\"1\" class=\"dataframe\">\n",
       "  <thead>\n",
       "    <tr style=\"text-align: right;\">\n",
       "      <th></th>\n",
       "      <th>tconst</th>\n",
       "      <th>titleType</th>\n",
       "      <th>primaryTitle</th>\n",
       "      <th>originalTitle</th>\n",
       "      <th>isAdult</th>\n",
       "      <th>startYear</th>\n",
       "      <th>endYear</th>\n",
       "      <th>runtimeMinutes</th>\n",
       "      <th>genres_x</th>\n",
       "      <th>averageRating</th>\n",
       "      <th>numVotes</th>\n",
       "      <th>akas</th>\n",
       "      <th>all_names_x</th>\n",
       "      <th>best_matches</th>\n",
       "      <th>best_fit</th>\n",
       "      <th>best_fit_title</th>\n",
       "      <th>best_fit_ratio</th>\n",
       "      <th>best_fit_game_id</th>\n",
       "      <th>game_id</th>\n",
       "      <th>franchise_id</th>\n",
       "      <th>name</th>\n",
       "      <th>release_year</th>\n",
       "      <th>aliases</th>\n",
       "      <th>developers</th>\n",
       "      <th>genres_y</th>\n",
       "      <th>platforms</th>\n",
       "      <th>publishers</th>\n",
       "      <th>rating</th>\n",
       "      <th>all_names_y</th>\n",
       "    </tr>\n",
       "  </thead>\n",
       "  <tbody>\n",
       "    <tr>\n",
       "      <th>7212109</th>\n",
       "      <td>tt4354918</td>\n",
       "      <td>videoGame</td>\n",
       "      <td>#IDARB (It Draws a Red Box)</td>\n",
       "      <td>#IDARB (It Draws a Red Box)</td>\n",
       "      <td>0</td>\n",
       "      <td>2015</td>\n",
       "      <td>\\N</td>\n",
       "      <td>\\N</td>\n",
       "      <td>Action</td>\n",
       "      <td>5.8</td>\n",
       "      <td>25.0</td>\n",
       "      <td>['#IDARB (It Draws a Red Box)']</td>\n",
       "      <td>#IDARB (It Draws a Red Box)</td>\n",
       "      <td>[(\"12 Labours of Hercules IX: A Hero's Moonwalk\", 85.5, 94), ('1503 A.D.: Treasures, Monsters and Pirates', 85.5, 124), ('1701 A.D.', 85.5, 133)]</td>\n",
       "      <td>(\"12 Labours of Hercules IX: A Hero's Moonwalk\", 85.5, 94)</td>\n",
       "      <td>12 Labours of Hercules IX: A Hero's Moonwalk</td>\n",
       "      <td>85.5</td>\n",
       "      <td>94</td>\n",
       "      <td>79</td>\n",
       "      <td>[3025-4692]</td>\n",
       "      <td>12 Labours of Hercules IX: A Hero's Moonwalk</td>\n",
       "      <td>0</td>\n",
       "      <td>[nan]</td>\n",
       "      <td>['Jetdogs Studios', 'Zoom Out Games']</td>\n",
       "      <td>['Strategy', 'Puzzle']</td>\n",
       "      <td>['PC']</td>\n",
       "      <td>['Jetdogs Studios']</td>\n",
       "      <td>NaN</td>\n",
       "      <td>12 Labours of Hercules IX: A Hero's Moonwalk</td>\n",
       "    </tr>\n",
       "    <tr>\n",
       "      <th>5075818</th>\n",
       "      <td>tt1968978</td>\n",
       "      <td>videoGame</td>\n",
       "      <td>'88 Games</td>\n",
       "      <td>Hyper Sports Special</td>\n",
       "      <td>0</td>\n",
       "      <td>1988</td>\n",
       "      <td>\\N</td>\n",
       "      <td>\\N</td>\n",
       "      <td>Sport</td>\n",
       "      <td>6.0</td>\n",
       "      <td>14.0</td>\n",
       "      <td>[\"Track &amp; Field '88\", 'Hyper Sports Special', \"'88 Games\", \"Konami '88\"]</td>\n",
       "      <td>Hyper Sports Special</td>\n",
       "      <td>[(\"Konami '88\\r\\nHyper Sports Special\", 90.0, 28), ('Hyper Sports', 90.0, 11732), ('Hyper Sports 2', 87.6923076923077, 11734)]</td>\n",
       "      <td>(\"Konami '88\\r\\nHyper Sports Special\", 90.0, 28)</td>\n",
       "      <td>Konami '88\\r\\nHyper Sports Special</td>\n",
       "      <td>90.0</td>\n",
       "      <td>28</td>\n",
       "      <td>26</td>\n",
       "      <td>[3025-1053]</td>\n",
       "      <td>'88 Games</td>\n",
       "      <td>1988</td>\n",
       "      <td>[Konami '88\\r\\nHyper Sports Special]</td>\n",
       "      <td>['Konami']</td>\n",
       "      <td>['Track &amp; Field']</td>\n",
       "      <td>['Arcade']</td>\n",
       "      <td>['Konami']</td>\n",
       "      <td>NaN</td>\n",
       "      <td>Konami '88\\r\\nHyper Sports Special</td>\n",
       "    </tr>\n",
       "    <tr>\n",
       "      <th>5075818</th>\n",
       "      <td>tt1968978</td>\n",
       "      <td>videoGame</td>\n",
       "      <td>'88 Games</td>\n",
       "      <td>Hyper Sports Special</td>\n",
       "      <td>0</td>\n",
       "      <td>1988</td>\n",
       "      <td>\\N</td>\n",
       "      <td>\\N</td>\n",
       "      <td>Sport</td>\n",
       "      <td>6.0</td>\n",
       "      <td>14.0</td>\n",
       "      <td>[\"Track &amp; Field '88\", 'Hyper Sports Special', \"'88 Games\", \"Konami '88\"]</td>\n",
       "      <td>Track &amp; Field '88</td>\n",
       "      <td>[('Track &amp; Field', 95.0, 28467), (\"'88 Games\", 85.5, 27), (\"Konami '88\\r\\nHyper Sports Special\", 85.5, 28)]</td>\n",
       "      <td>('Track &amp; Field', 95.0, 28467)</td>\n",
       "      <td>Track &amp; Field</td>\n",
       "      <td>95.0</td>\n",
       "      <td>28467</td>\n",
       "      <td>23252</td>\n",
       "      <td>[3025-3709, 3025-1053]</td>\n",
       "      <td>Track &amp; Field</td>\n",
       "      <td>1983</td>\n",
       "      <td>[Hyper Olympic\\r\\nTrack and Field\\r\\nKonamic Sports in Barcelona\\r\\nTrack &amp; Field 1\\r\\nHyper Olympic 1\\r\\nOlimpíadas I\\r\\nHyper Olympic: Gentai Ban!\\r\\nTrack &amp; Field in Barcelona]</td>\n",
       "      <td>['Konami', 'Atari', 'K-Byte']</td>\n",
       "      <td>['Sports', 'Track &amp; Field']</td>\n",
       "      <td>['Game Boy', 'Apple II', 'Commodore 64', 'Nintendo Entertainment System', 'Atari 8-bit', 'Atari 2600', 'Arcade', 'Xbox 360 Games Store']</td>\n",
       "      <td>['Konami', 'Atari', 'Centuri, Inc.', 'Gradiente']</td>\n",
       "      <td>['ESRB: E']</td>\n",
       "      <td>Track &amp; Field</td>\n",
       "    </tr>\n",
       "    <tr>\n",
       "      <th>5075818</th>\n",
       "      <td>tt1968978</td>\n",
       "      <td>videoGame</td>\n",
       "      <td>'88 Games</td>\n",
       "      <td>Hyper Sports Special</td>\n",
       "      <td>0</td>\n",
       "      <td>1988</td>\n",
       "      <td>\\N</td>\n",
       "      <td>\\N</td>\n",
       "      <td>Sport</td>\n",
       "      <td>6.0</td>\n",
       "      <td>14.0</td>\n",
       "      <td>[\"Track &amp; Field '88\", 'Hyper Sports Special', \"'88 Games\", \"Konami '88\"]</td>\n",
       "      <td>'88 Games</td>\n",
       "      <td>[(\"'88 Games\", 100.0, 27), ('ME', 90.0, 15253), (\" 2 Games In 1: LEGO Knights' Kingdom + LEGO Bionicle\", 85.5, 0)]</td>\n",
       "      <td>(\"'88 Games\", 100.0, 27)</td>\n",
       "      <td>'88 Games</td>\n",
       "      <td>100.0</td>\n",
       "      <td>27</td>\n",
       "      <td>26</td>\n",
       "      <td>[3025-1053]</td>\n",
       "      <td>'88 Games</td>\n",
       "      <td>1988</td>\n",
       "      <td>[Konami '88\\r\\nHyper Sports Special]</td>\n",
       "      <td>['Konami']</td>\n",
       "      <td>['Track &amp; Field']</td>\n",
       "      <td>['Arcade']</td>\n",
       "      <td>['Konami']</td>\n",
       "      <td>NaN</td>\n",
       "      <td>'88 Games</td>\n",
       "    </tr>\n",
       "    <tr>\n",
       "      <th>5075818</th>\n",
       "      <td>tt1968978</td>\n",
       "      <td>videoGame</td>\n",
       "      <td>'88 Games</td>\n",
       "      <td>Hyper Sports Special</td>\n",
       "      <td>0</td>\n",
       "      <td>1988</td>\n",
       "      <td>\\N</td>\n",
       "      <td>\\N</td>\n",
       "      <td>Sport</td>\n",
       "      <td>6.0</td>\n",
       "      <td>14.0</td>\n",
       "      <td>[\"Track &amp; Field '88\", 'Hyper Sports Special', \"'88 Games\", \"Konami '88\"]</td>\n",
       "      <td>Konami '88</td>\n",
       "      <td>[(\"Konami '88\\r\\nHyper Sports Special\", 90.0, 28), ('Area 88 ~Etranger 1995~', 85.5, 1379), ('Area 88:  Ikkakujuu no Kiseki', 85.5, 1380)]</td>\n",
       "      <td>(\"Konami '88\\r\\nHyper Sports Special\", 90.0, 28)</td>\n",
       "      <td>Konami '88\\r\\nHyper Sports Special</td>\n",
       "      <td>90.0</td>\n",
       "      <td>28</td>\n",
       "      <td>26</td>\n",
       "      <td>[3025-1053]</td>\n",
       "      <td>'88 Games</td>\n",
       "      <td>1988</td>\n",
       "      <td>[Konami '88\\r\\nHyper Sports Special]</td>\n",
       "      <td>['Konami']</td>\n",
       "      <td>['Track &amp; Field']</td>\n",
       "      <td>['Arcade']</td>\n",
       "      <td>['Konami']</td>\n",
       "      <td>NaN</td>\n",
       "      <td>Konami '88\\r\\nHyper Sports Special</td>\n",
       "    </tr>\n",
       "    <tr>\n",
       "      <th>...</th>\n",
       "      <td>...</td>\n",
       "      <td>...</td>\n",
       "      <td>...</td>\n",
       "      <td>...</td>\n",
       "      <td>...</td>\n",
       "      <td>...</td>\n",
       "      <td>...</td>\n",
       "      <td>...</td>\n",
       "      <td>...</td>\n",
       "      <td>...</td>\n",
       "      <td>...</td>\n",
       "      <td>...</td>\n",
       "      <td>...</td>\n",
       "      <td>...</td>\n",
       "      <td>...</td>\n",
       "      <td>...</td>\n",
       "      <td>...</td>\n",
       "      <td>...</td>\n",
       "      <td>...</td>\n",
       "      <td>...</td>\n",
       "      <td>...</td>\n",
       "      <td>...</td>\n",
       "      <td>...</td>\n",
       "      <td>...</td>\n",
       "      <td>...</td>\n",
       "      <td>...</td>\n",
       "      <td>...</td>\n",
       "      <td>...</td>\n",
       "      <td>...</td>\n",
       "    </tr>\n",
       "    <tr>\n",
       "      <th>295707</th>\n",
       "      <td>tt0308989</td>\n",
       "      <td>videoGame</td>\n",
       "      <td>ssn</td>\n",
       "      <td>ssn</td>\n",
       "      <td>0</td>\n",
       "      <td>1996</td>\n",
       "      <td>\\N</td>\n",
       "      <td>\\N</td>\n",
       "      <td>\\N</td>\n",
       "      <td>7.9</td>\n",
       "      <td>13.0</td>\n",
       "      <td>['ssn']</td>\n",
       "      <td>ssn</td>\n",
       "      <td>[('N', 90.0, 16876), ('N+', 90.0, 16880), ('N++', 90.0, 16882)]</td>\n",
       "      <td>('N', 90.0, 16876)</td>\n",
       "      <td>N</td>\n",
       "      <td>90.0</td>\n",
       "      <td>16876</td>\n",
       "      <td>13855</td>\n",
       "      <td>[3025-870]</td>\n",
       "      <td>N</td>\n",
       "      <td>0</td>\n",
       "      <td>[N-Game\\r\\nNNNNNNNNNNNNN]</td>\n",
       "      <td>['Metanet Software']</td>\n",
       "      <td>['Platformer']</td>\n",
       "      <td>['PC', 'Browser']</td>\n",
       "      <td>['Metanet Software']</td>\n",
       "      <td>NaN</td>\n",
       "      <td>N</td>\n",
       "    </tr>\n",
       "    <tr>\n",
       "      <th>770432</th>\n",
       "      <td>tt0795512</td>\n",
       "      <td>videoGame</td>\n",
       "      <td>Æon Flux</td>\n",
       "      <td>Æon Flux</td>\n",
       "      <td>0</td>\n",
       "      <td>2005</td>\n",
       "      <td>\\N</td>\n",
       "      <td>\\N</td>\n",
       "      <td>Action,Adventure,Sci-Fi</td>\n",
       "      <td>5.6</td>\n",
       "      <td>265.0</td>\n",
       "      <td>['Æon Flux']</td>\n",
       "      <td>Æon Flux</td>\n",
       "      <td>[('Bit.Trip Flux', 85.5, 2747), ('Pool Nation FX', 69.23076923076923, 19534), ('HoN', 68.4, 11218)]</td>\n",
       "      <td>('Bit.Trip Flux', 85.5, 2747)</td>\n",
       "      <td>Bit.Trip Flux</td>\n",
       "      <td>85.5</td>\n",
       "      <td>2747</td>\n",
       "      <td>2292</td>\n",
       "      <td>[3025-1298]</td>\n",
       "      <td>Bit.Trip Flux</td>\n",
       "      <td>0</td>\n",
       "      <td>[nan]</td>\n",
       "      <td>['Choice Provisions']</td>\n",
       "      <td>['Music/Rhythm']</td>\n",
       "      <td>['Wii Shop', 'PC']</td>\n",
       "      <td>['Aksys Games']</td>\n",
       "      <td>NaN</td>\n",
       "      <td>Bit.Trip Flux</td>\n",
       "    </tr>\n",
       "    <tr>\n",
       "      <th>2185219</th>\n",
       "      <td>tt1219283</td>\n",
       "      <td>videoGame</td>\n",
       "      <td>Îhatôvo monogatari</td>\n",
       "      <td>Îhatôvo monogatari</td>\n",
       "      <td>0</td>\n",
       "      <td>1993</td>\n",
       "      <td>\\N</td>\n",
       "      <td>\\N</td>\n",
       "      <td>Adventure</td>\n",
       "      <td>7.0</td>\n",
       "      <td>6.0</td>\n",
       "      <td>['Ihatovo Story', 'Îhatôvo monogatari']</td>\n",
       "      <td>Ihatovo Story</td>\n",
       "      <td>[('ST', 90.0, 22747), ('STO', 90.0, 24242), ('TOR', 90.0, 25874)]</td>\n",
       "      <td>('ST', 90.0, 22747)</td>\n",
       "      <td>ST</td>\n",
       "      <td>90.0</td>\n",
       "      <td>22747</td>\n",
       "      <td>18630</td>\n",
       "      <td>[3025-3153]</td>\n",
       "      <td>Shining Tears</td>\n",
       "      <td>0</td>\n",
       "      <td>[ST]</td>\n",
       "      <td>['Nex Entertainment']</td>\n",
       "      <td>['Action', 'Role-Playing']</td>\n",
       "      <td>['PlayStation 2']</td>\n",
       "      <td>['Sega']</td>\n",
       "      <td>['ESRB: T']</td>\n",
       "      <td>ST</td>\n",
       "    </tr>\n",
       "    <tr>\n",
       "      <th>2185219</th>\n",
       "      <td>tt1219283</td>\n",
       "      <td>videoGame</td>\n",
       "      <td>Îhatôvo monogatari</td>\n",
       "      <td>Îhatôvo monogatari</td>\n",
       "      <td>0</td>\n",
       "      <td>1993</td>\n",
       "      <td>\\N</td>\n",
       "      <td>\\N</td>\n",
       "      <td>Adventure</td>\n",
       "      <td>7.0</td>\n",
       "      <td>6.0</td>\n",
       "      <td>['Ihatovo Story', 'Îhatôvo monogatari']</td>\n",
       "      <td>Îhatôvo monogatari</td>\n",
       "      <td>[('Shin Rorona no Atelier: Hajimari no Monogatari: Arland no Renkinjutsushi\\nAtelier Rorona DX', 85.5, 1764), ('Bokujō Monogatari: Futago no Mura+', 85.5, 3055), ('Doukutsu Monogatari\\r\\nCave Story+\\r\\nCave Story Plus', 85.5, 3981)]</td>\n",
       "      <td>('Shin Rorona no Atelier: Hajimari no Monogatari: Arland no Renkinjutsushi\\nAtelier Rorona DX', 85.5, 1764)</td>\n",
       "      <td>Shin Rorona no Atelier: Hajimari no Monogatari: Arland no Renkinjutsushi\\nAtelier Rorona DX</td>\n",
       "      <td>85.5</td>\n",
       "      <td>1764</td>\n",
       "      <td>1470</td>\n",
       "      <td>[3025-647]</td>\n",
       "      <td>Atelier Rorona Plus: The Alchemist of Arland</td>\n",
       "      <td>0</td>\n",
       "      <td>[Shin Rorona no Atelier: Hajimari no Monogatari: Arland no Renkinjutsushi\\nAtelier Rorona DX]</td>\n",
       "      <td>['GUST Co., Ltd.', 'Digital Hearts Co., Ltd. ', 'FlightUNIT']</td>\n",
       "      <td>['Role-Playing']</td>\n",
       "      <td>['PlayStation 3', 'PlayStation Network (PS3)', 'PC', 'PlayStation Vita', 'PlayStation Network (Vita)', 'Nintendo Switch']</td>\n",
       "      <td>['Koei Tecmo']</td>\n",
       "      <td>['CERO: B', 'ESRB: T', 'OFLC: R18+']</td>\n",
       "      <td>Shin Rorona no Atelier: Hajimari no Monogatari: Arland no Renkinjutsushi\\nAtelier Rorona DX</td>\n",
       "    </tr>\n",
       "    <tr>\n",
       "      <th>3830097</th>\n",
       "      <td>tt15235564</td>\n",
       "      <td>videoGame</td>\n",
       "      <td>ÜberSoldier</td>\n",
       "      <td>ÜberSoldier</td>\n",
       "      <td>0</td>\n",
       "      <td>2006</td>\n",
       "      <td>\\N</td>\n",
       "      <td>\\N</td>\n",
       "      <td>Action,Adventure,Sci-Fi</td>\n",
       "      <td>7.2</td>\n",
       "      <td>7.0</td>\n",
       "      <td>['ÜberSoldier']</td>\n",
       "      <td>ÜberSoldier</td>\n",
       "      <td>[('Diner', 80.0, 6179), ('Captain America: Super Soldier', 77.14285714285715, 3739), ('Nier', 77.14285714285715, 17781)]</td>\n",
       "      <td>('Diner', 80.0, 6179)</td>\n",
       "      <td>Diner</td>\n",
       "      <td>80.0</td>\n",
       "      <td>6179</td>\n",
       "      <td>5066</td>\n",
       "      <td>[3025-569]</td>\n",
       "      <td>Diner</td>\n",
       "      <td>1987</td>\n",
       "      <td>[nan]</td>\n",
       "      <td>['Realtime Associates, Inc.']</td>\n",
       "      <td>['Action']</td>\n",
       "      <td>['Intellivision']</td>\n",
       "      <td>['INTV']</td>\n",
       "      <td>NaN</td>\n",
       "      <td>Diner</td>\n",
       "    </tr>\n",
       "  </tbody>\n",
       "</table>\n",
       "<p>24531 rows × 29 columns</p>\n",
       "</div>"
      ],
      "text/plain": [
       "             tconst  titleType                 primaryTitle  \\\n",
       "7212109   tt4354918  videoGame  #IDARB (It Draws a Red Box)   \n",
       "5075818   tt1968978  videoGame                    '88 Games   \n",
       "5075818   tt1968978  videoGame                    '88 Games   \n",
       "5075818   tt1968978  videoGame                    '88 Games   \n",
       "5075818   tt1968978  videoGame                    '88 Games   \n",
       "...             ...        ...                          ...   \n",
       "295707    tt0308989  videoGame                          ssn   \n",
       "770432    tt0795512  videoGame                     Æon Flux   \n",
       "2185219   tt1219283  videoGame           Îhatôvo monogatari   \n",
       "2185219   tt1219283  videoGame           Îhatôvo monogatari   \n",
       "3830097  tt15235564  videoGame                  ÜberSoldier   \n",
       "\n",
       "                       originalTitle  isAdult startYear endYear  \\\n",
       "7212109  #IDARB (It Draws a Red Box)        0      2015      \\N   \n",
       "5075818         Hyper Sports Special        0      1988      \\N   \n",
       "5075818         Hyper Sports Special        0      1988      \\N   \n",
       "5075818         Hyper Sports Special        0      1988      \\N   \n",
       "5075818         Hyper Sports Special        0      1988      \\N   \n",
       "...                              ...      ...       ...     ...   \n",
       "295707                           ssn        0      1996      \\N   \n",
       "770432                      Æon Flux        0      2005      \\N   \n",
       "2185219           Îhatôvo monogatari        0      1993      \\N   \n",
       "2185219           Îhatôvo monogatari        0      1993      \\N   \n",
       "3830097                  ÜberSoldier        0      2006      \\N   \n",
       "\n",
       "        runtimeMinutes                 genres_x  averageRating  numVotes  \\\n",
       "7212109             \\N                   Action            5.8      25.0   \n",
       "5075818             \\N                    Sport            6.0      14.0   \n",
       "5075818             \\N                    Sport            6.0      14.0   \n",
       "5075818             \\N                    Sport            6.0      14.0   \n",
       "5075818             \\N                    Sport            6.0      14.0   \n",
       "...                ...                      ...            ...       ...   \n",
       "295707              \\N                       \\N            7.9      13.0   \n",
       "770432              \\N  Action,Adventure,Sci-Fi            5.6     265.0   \n",
       "2185219             \\N                Adventure            7.0       6.0   \n",
       "2185219             \\N                Adventure            7.0       6.0   \n",
       "3830097             \\N  Action,Adventure,Sci-Fi            7.2       7.0   \n",
       "\n",
       "                                                                             akas  \\\n",
       "7212109                                           ['#IDARB (It Draws a Red Box)']   \n",
       "5075818  [\"Track & Field '88\", 'Hyper Sports Special', \"'88 Games\", \"Konami '88\"]   \n",
       "5075818  [\"Track & Field '88\", 'Hyper Sports Special', \"'88 Games\", \"Konami '88\"]   \n",
       "5075818  [\"Track & Field '88\", 'Hyper Sports Special', \"'88 Games\", \"Konami '88\"]   \n",
       "5075818  [\"Track & Field '88\", 'Hyper Sports Special', \"'88 Games\", \"Konami '88\"]   \n",
       "...                                                                           ...   \n",
       "295707                                                                    ['ssn']   \n",
       "770432                                                               ['Æon Flux']   \n",
       "2185219                                   ['Ihatovo Story', 'Îhatôvo monogatari']   \n",
       "2185219                                   ['Ihatovo Story', 'Îhatôvo monogatari']   \n",
       "3830097                                                           ['ÜberSoldier']   \n",
       "\n",
       "                         all_names_x  \\\n",
       "7212109  #IDARB (It Draws a Red Box)   \n",
       "5075818         Hyper Sports Special   \n",
       "5075818            Track & Field '88   \n",
       "5075818                    '88 Games   \n",
       "5075818                   Konami '88   \n",
       "...                              ...   \n",
       "295707                           ssn   \n",
       "770432                      Æon Flux   \n",
       "2185219                Ihatovo Story   \n",
       "2185219           Îhatôvo monogatari   \n",
       "3830097                  ÜberSoldier   \n",
       "\n",
       "                                                                                                                                                                                                                                     best_matches  \\\n",
       "7212109                                                                                         [(\"12 Labours of Hercules IX: A Hero's Moonwalk\", 85.5, 94), ('1503 A.D.: Treasures, Monsters and Pirates', 85.5, 124), ('1701 A.D.', 85.5, 133)]   \n",
       "5075818                                                                                                            [(\"Konami '88\\r\\nHyper Sports Special\", 90.0, 28), ('Hyper Sports', 90.0, 11732), ('Hyper Sports 2', 87.6923076923077, 11734)]   \n",
       "5075818                                                                                                                               [('Track & Field', 95.0, 28467), (\"'88 Games\", 85.5, 27), (\"Konami '88\\r\\nHyper Sports Special\", 85.5, 28)]   \n",
       "5075818                                                                                                                        [(\"'88 Games\", 100.0, 27), ('ME', 90.0, 15253), (\" 2 Games In 1: LEGO Knights' Kingdom + LEGO Bionicle\", 85.5, 0)]   \n",
       "5075818                                                                                                [(\"Konami '88\\r\\nHyper Sports Special\", 90.0, 28), ('Area 88 ~Etranger 1995~', 85.5, 1379), ('Area 88:  Ikkakujuu no Kiseki', 85.5, 1380)]   \n",
       "...                                                                                                                                                                                                                                           ...   \n",
       "295707                                                                                                                                                                            [('N', 90.0, 16876), ('N+', 90.0, 16880), ('N++', 90.0, 16882)]   \n",
       "770432                                                                                                                                        [('Bit.Trip Flux', 85.5, 2747), ('Pool Nation FX', 69.23076923076923, 19534), ('HoN', 68.4, 11218)]   \n",
       "2185219                                                                                                                                                                         [('ST', 90.0, 22747), ('STO', 90.0, 24242), ('TOR', 90.0, 25874)]   \n",
       "2185219  [('Shin Rorona no Atelier: Hajimari no Monogatari: Arland no Renkinjutsushi\\nAtelier Rorona DX', 85.5, 1764), ('Bokujō Monogatari: Futago no Mura+', 85.5, 3055), ('Doukutsu Monogatari\\r\\nCave Story+\\r\\nCave Story Plus', 85.5, 3981)]   \n",
       "3830097                                                                                                                  [('Diner', 80.0, 6179), ('Captain America: Super Soldier', 77.14285714285715, 3739), ('Nier', 77.14285714285715, 17781)]   \n",
       "\n",
       "                                                                                                            best_fit  \\\n",
       "7212109                                                   (\"12 Labours of Hercules IX: A Hero's Moonwalk\", 85.5, 94)   \n",
       "5075818                                                             (\"Konami '88\\r\\nHyper Sports Special\", 90.0, 28)   \n",
       "5075818                                                                               ('Track & Field', 95.0, 28467)   \n",
       "5075818                                                                                     (\"'88 Games\", 100.0, 27)   \n",
       "5075818                                                             (\"Konami '88\\r\\nHyper Sports Special\", 90.0, 28)   \n",
       "...                                                                                                              ...   \n",
       "295707                                                                                            ('N', 90.0, 16876)   \n",
       "770432                                                                                 ('Bit.Trip Flux', 85.5, 2747)   \n",
       "2185219                                                                                          ('ST', 90.0, 22747)   \n",
       "2185219  ('Shin Rorona no Atelier: Hajimari no Monogatari: Arland no Renkinjutsushi\\nAtelier Rorona DX', 85.5, 1764)   \n",
       "3830097                                                                                        ('Diner', 80.0, 6179)   \n",
       "\n",
       "                                                                                      best_fit_title  \\\n",
       "7212109                                                 12 Labours of Hercules IX: A Hero's Moonwalk   \n",
       "5075818                                                           Konami '88\\r\\nHyper Sports Special   \n",
       "5075818                                                                                Track & Field   \n",
       "5075818                                                                                    '88 Games   \n",
       "5075818                                                           Konami '88\\r\\nHyper Sports Special   \n",
       "...                                                                                              ...   \n",
       "295707                                                                                             N   \n",
       "770432                                                                                 Bit.Trip Flux   \n",
       "2185219                                                                                           ST   \n",
       "2185219  Shin Rorona no Atelier: Hajimari no Monogatari: Arland no Renkinjutsushi\\nAtelier Rorona DX   \n",
       "3830097                                                                                        Diner   \n",
       "\n",
       "         best_fit_ratio  best_fit_game_id  game_id            franchise_id  \\\n",
       "7212109            85.5                94       79             [3025-4692]   \n",
       "5075818            90.0                28       26             [3025-1053]   \n",
       "5075818            95.0             28467    23252  [3025-3709, 3025-1053]   \n",
       "5075818           100.0                27       26             [3025-1053]   \n",
       "5075818            90.0                28       26             [3025-1053]   \n",
       "...                 ...               ...      ...                     ...   \n",
       "295707             90.0             16876    13855              [3025-870]   \n",
       "770432             85.5              2747     2292             [3025-1298]   \n",
       "2185219            90.0             22747    18630             [3025-3153]   \n",
       "2185219            85.5              1764     1470              [3025-647]   \n",
       "3830097            80.0              6179     5066              [3025-569]   \n",
       "\n",
       "                                                 name release_year  \\\n",
       "7212109  12 Labours of Hercules IX: A Hero's Moonwalk            0   \n",
       "5075818                                     '88 Games         1988   \n",
       "5075818                                 Track & Field         1983   \n",
       "5075818                                     '88 Games         1988   \n",
       "5075818                                     '88 Games         1988   \n",
       "...                                               ...          ...   \n",
       "295707                                              N            0   \n",
       "770432                                  Bit.Trip Flux            0   \n",
       "2185219                                 Shining Tears            0   \n",
       "2185219  Atelier Rorona Plus: The Alchemist of Arland            0   \n",
       "3830097                                         Diner         1987   \n",
       "\n",
       "                                                                                                                                                                                     aliases  \\\n",
       "7212109                                                                                                                                                                                [nan]   \n",
       "5075818                                                                                                                                                 [Konami '88\\r\\nHyper Sports Special]   \n",
       "5075818  [Hyper Olympic\\r\\nTrack and Field\\r\\nKonamic Sports in Barcelona\\r\\nTrack & Field 1\\r\\nHyper Olympic 1\\r\\nOlimpíadas I\\r\\nHyper Olympic: Gentai Ban!\\r\\nTrack & Field in Barcelona]   \n",
       "5075818                                                                                                                                                 [Konami '88\\r\\nHyper Sports Special]   \n",
       "5075818                                                                                                                                                 [Konami '88\\r\\nHyper Sports Special]   \n",
       "...                                                                                                                                                                                      ...   \n",
       "295707                                                                                                                                                             [N-Game\\r\\nNNNNNNNNNNNNN]   \n",
       "770432                                                                                                                                                                                 [nan]   \n",
       "2185219                                                                                                                                                                                 [ST]   \n",
       "2185219                                                                                        [Shin Rorona no Atelier: Hajimari no Monogatari: Arland no Renkinjutsushi\\nAtelier Rorona DX]   \n",
       "3830097                                                                                                                                                                                [nan]   \n",
       "\n",
       "                                                            developers  \\\n",
       "7212109                          ['Jetdogs Studios', 'Zoom Out Games']   \n",
       "5075818                                                     ['Konami']   \n",
       "5075818                                  ['Konami', 'Atari', 'K-Byte']   \n",
       "5075818                                                     ['Konami']   \n",
       "5075818                                                     ['Konami']   \n",
       "...                                                                ...   \n",
       "295707                                            ['Metanet Software']   \n",
       "770432                                           ['Choice Provisions']   \n",
       "2185219                                          ['Nex Entertainment']   \n",
       "2185219  ['GUST Co., Ltd.', 'Digital Hearts Co., Ltd. ', 'FlightUNIT']   \n",
       "3830097                                  ['Realtime Associates, Inc.']   \n",
       "\n",
       "                            genres_y  \\\n",
       "7212109       ['Strategy', 'Puzzle']   \n",
       "5075818            ['Track & Field']   \n",
       "5075818  ['Sports', 'Track & Field']   \n",
       "5075818            ['Track & Field']   \n",
       "5075818            ['Track & Field']   \n",
       "...                              ...   \n",
       "295707                ['Platformer']   \n",
       "770432              ['Music/Rhythm']   \n",
       "2185219   ['Action', 'Role-Playing']   \n",
       "2185219             ['Role-Playing']   \n",
       "3830097                   ['Action']   \n",
       "\n",
       "                                                                                                                                        platforms  \\\n",
       "7212109                                                                                                                                    ['PC']   \n",
       "5075818                                                                                                                                ['Arcade']   \n",
       "5075818  ['Game Boy', 'Apple II', 'Commodore 64', 'Nintendo Entertainment System', 'Atari 8-bit', 'Atari 2600', 'Arcade', 'Xbox 360 Games Store']   \n",
       "5075818                                                                                                                                ['Arcade']   \n",
       "5075818                                                                                                                                ['Arcade']   \n",
       "...                                                                                                                                           ...   \n",
       "295707                                                                                                                          ['PC', 'Browser']   \n",
       "770432                                                                                                                         ['Wii Shop', 'PC']   \n",
       "2185219                                                                                                                         ['PlayStation 2']   \n",
       "2185219                 ['PlayStation 3', 'PlayStation Network (PS3)', 'PC', 'PlayStation Vita', 'PlayStation Network (Vita)', 'Nintendo Switch']   \n",
       "3830097                                                                                                                         ['Intellivision']   \n",
       "\n",
       "                                                publishers  \\\n",
       "7212109                                ['Jetdogs Studios']   \n",
       "5075818                                         ['Konami']   \n",
       "5075818  ['Konami', 'Atari', 'Centuri, Inc.', 'Gradiente']   \n",
       "5075818                                         ['Konami']   \n",
       "5075818                                         ['Konami']   \n",
       "...                                                    ...   \n",
       "295707                                ['Metanet Software']   \n",
       "770432                                     ['Aksys Games']   \n",
       "2185219                                           ['Sega']   \n",
       "2185219                                     ['Koei Tecmo']   \n",
       "3830097                                           ['INTV']   \n",
       "\n",
       "                                       rating  \\\n",
       "7212109                                   NaN   \n",
       "5075818                                   NaN   \n",
       "5075818                           ['ESRB: E']   \n",
       "5075818                                   NaN   \n",
       "5075818                                   NaN   \n",
       "...                                       ...   \n",
       "295707                                    NaN   \n",
       "770432                                    NaN   \n",
       "2185219                           ['ESRB: T']   \n",
       "2185219  ['CERO: B', 'ESRB: T', 'OFLC: R18+']   \n",
       "3830097                                   NaN   \n",
       "\n",
       "                                                                                         all_names_y  \n",
       "7212109                                                 12 Labours of Hercules IX: A Hero's Moonwalk  \n",
       "5075818                                                           Konami '88\\r\\nHyper Sports Special  \n",
       "5075818                                                                                Track & Field  \n",
       "5075818                                                                                    '88 Games  \n",
       "5075818                                                           Konami '88\\r\\nHyper Sports Special  \n",
       "...                                                                                              ...  \n",
       "295707                                                                                             N  \n",
       "770432                                                                                 Bit.Trip Flux  \n",
       "2185219                                                                                           ST  \n",
       "2185219  Shin Rorona no Atelier: Hajimari no Monogatari: Arland no Renkinjutsushi\\nAtelier Rorona DX  \n",
       "3830097                                                                                        Diner  \n",
       "\n",
       "[24531 rows x 29 columns]"
      ]
     },
     "execution_count": 562,
     "metadata": {},
     "output_type": "execute_result"
    }
   ],
   "source": [
    "imdb_games = pd.merge(imdb_games, giantbomb_games,  left_on=[\"best_fit_game_id\"], right_index=True, how=\"left\")\n",
    "imdb_games"
   ]
  },
  {
   "cell_type": "markdown",
   "metadata": {},
   "source": [
    "Remove unneccessary columns"
   ]
  },
  {
   "cell_type": "code",
   "execution_count": 563,
   "metadata": {},
   "outputs": [],
   "source": [
    "imdb_games = imdb_games.drop(columns = [\"endYear\", \"best_matches\", \"best_fit\", \"runtimeMinutes\", \"all_names_y\", \"aliases\", \"akas\"])"
   ]
  },
  {
   "cell_type": "markdown",
   "metadata": {},
   "source": [
    "Sort the values by tconst and best_fit_ratio. We then want to keep the highest best_fit for each tconst game"
   ]
  },
  {
   "cell_type": "code",
   "execution_count": 564,
   "metadata": {
    "scrolled": true
   },
   "outputs": [],
   "source": [
    "imdb_games = imdb_games.sort_values([\"tconst\", \"best_fit_ratio\"])\n",
    "imdb_games = imdb_games.drop_duplicates([\"tconst\"], keep=\"last\")"
   ]
  },
  {
   "cell_type": "code",
   "execution_count": 565,
   "metadata": {},
   "outputs": [
    {
     "data": {
      "text/html": [
       "<div>\n",
       "<style scoped>\n",
       "    .dataframe tbody tr th:only-of-type {\n",
       "        vertical-align: middle;\n",
       "    }\n",
       "\n",
       "    .dataframe tbody tr th {\n",
       "        vertical-align: top;\n",
       "    }\n",
       "\n",
       "    .dataframe thead th {\n",
       "        text-align: right;\n",
       "    }\n",
       "</style>\n",
       "<table border=\"1\" class=\"dataframe\">\n",
       "  <thead>\n",
       "    <tr style=\"text-align: right;\">\n",
       "      <th></th>\n",
       "      <th>tconst</th>\n",
       "      <th>titleType</th>\n",
       "      <th>primaryTitle</th>\n",
       "      <th>originalTitle</th>\n",
       "      <th>isAdult</th>\n",
       "      <th>startYear</th>\n",
       "      <th>genres_x</th>\n",
       "      <th>averageRating</th>\n",
       "      <th>numVotes</th>\n",
       "      <th>all_names_x</th>\n",
       "      <th>best_fit_title</th>\n",
       "      <th>best_fit_ratio</th>\n",
       "      <th>best_fit_game_id</th>\n",
       "      <th>game_id</th>\n",
       "      <th>franchise_id</th>\n",
       "      <th>name</th>\n",
       "      <th>release_year</th>\n",
       "      <th>developers</th>\n",
       "      <th>genres_y</th>\n",
       "      <th>platforms</th>\n",
       "      <th>publishers</th>\n",
       "      <th>rating</th>\n",
       "    </tr>\n",
       "  </thead>\n",
       "  <tbody>\n",
       "    <tr>\n",
       "      <th>5016790</th>\n",
       "      <td>tt19369536</td>\n",
       "      <td>videoGame</td>\n",
       "      <td>Escape Academy</td>\n",
       "      <td>Escape Academy</td>\n",
       "      <td>0</td>\n",
       "      <td>2022</td>\n",
       "      <td>Adventure,Animation,Comedy</td>\n",
       "      <td>7.3</td>\n",
       "      <td>24.0</td>\n",
       "      <td>Escape Academy</td>\n",
       "      <td>Ape Escape Academy</td>\n",
       "      <td>95.0</td>\n",
       "      <td>1251</td>\n",
       "      <td>1063</td>\n",
       "      <td>[3025-33]</td>\n",
       "      <td>Ape Escape Academy</td>\n",
       "      <td>0</td>\n",
       "      <td>['Alvion Co., Ltd', 'SIE Japan Studio', 'Shift']</td>\n",
       "      <td>['Action', 'Sports']</td>\n",
       "      <td>['PlayStation Portable', 'PlayStation Network (PSP)']</td>\n",
       "      <td>['Sony Interactive Entertainment', 'Sony Interactive Entertainment America', 'Sony Interactive Entertainment Europe']</td>\n",
       "      <td>['ESRB: E10+', 'CERO: All Ages', 'PEGI: 3+']</td>\n",
       "    </tr>\n",
       "  </tbody>\n",
       "</table>\n",
       "</div>"
      ],
      "text/plain": [
       "             tconst  titleType    primaryTitle   originalTitle  isAdult  \\\n",
       "5016790  tt19369536  videoGame  Escape Academy  Escape Academy        0   \n",
       "\n",
       "        startYear                    genres_x  averageRating  numVotes  \\\n",
       "5016790      2022  Adventure,Animation,Comedy            7.3      24.0   \n",
       "\n",
       "            all_names_x      best_fit_title  best_fit_ratio  best_fit_game_id  \\\n",
       "5016790  Escape Academy  Ape Escape Academy            95.0              1251   \n",
       "\n",
       "         game_id franchise_id                name release_year  \\\n",
       "5016790     1063    [3025-33]  Ape Escape Academy            0   \n",
       "\n",
       "                                               developers  \\\n",
       "5016790  ['Alvion Co., Ltd', 'SIE Japan Studio', 'Shift']   \n",
       "\n",
       "                     genres_y  \\\n",
       "5016790  ['Action', 'Sports']   \n",
       "\n",
       "                                                     platforms  \\\n",
       "5016790  ['PlayStation Portable', 'PlayStation Network (PSP)']   \n",
       "\n",
       "                                                                                                                    publishers  \\\n",
       "5016790  ['Sony Interactive Entertainment', 'Sony Interactive Entertainment America', 'Sony Interactive Entertainment Europe']   \n",
       "\n",
       "                                               rating  \n",
       "5016790  ['ESRB: E10+', 'CERO: All Ages', 'PEGI: 3+']  "
      ]
     },
     "execution_count": 565,
     "metadata": {},
     "output_type": "execute_result"
    }
   ],
   "source": [
    "imdb_games.sample()"
   ]
  },
  {
   "cell_type": "markdown",
   "metadata": {},
   "source": [
    "## Finding the most accurate match ratio"
   ]
  },
  {
   "cell_type": "markdown",
   "metadata": {},
   "source": [
    "Now I need to remove any records where the best_fit_ratio is too low. I can examine some of the criteria. When looking at these, we compare all_names_x and best_fit_title as these are the 2 titles that the ratio is calculated on."
   ]
  },
  {
   "cell_type": "code",
   "execution_count": 467,
   "metadata": {
    "scrolled": false
   },
   "outputs": [
    {
     "data": {
      "text/html": [
       "<div>\n",
       "<style scoped>\n",
       "    .dataframe tbody tr th:only-of-type {\n",
       "        vertical-align: middle;\n",
       "    }\n",
       "\n",
       "    .dataframe tbody tr th {\n",
       "        vertical-align: top;\n",
       "    }\n",
       "\n",
       "    .dataframe thead th {\n",
       "        text-align: right;\n",
       "    }\n",
       "</style>\n",
       "<table border=\"1\" class=\"dataframe\">\n",
       "  <thead>\n",
       "    <tr style=\"text-align: right;\">\n",
       "      <th></th>\n",
       "      <th>all_names_x</th>\n",
       "      <th>best_fit_title</th>\n",
       "      <th>best_fit_ratio</th>\n",
       "    </tr>\n",
       "  </thead>\n",
       "  <tbody>\n",
       "    <tr>\n",
       "      <th>1911092</th>\n",
       "      <td>Boneworks</td>\n",
       "      <td>Bonkers</td>\n",
       "      <td>75.0</td>\n",
       "    </tr>\n",
       "    <tr>\n",
       "      <th>439140</th>\n",
       "      <td>Deadhunt</td>\n",
       "      <td>DreadOut</td>\n",
       "      <td>75.0</td>\n",
       "    </tr>\n",
       "    <tr>\n",
       "      <th>3478047</th>\n",
       "      <td>Deadbolt</td>\n",
       "      <td>Deadpool</td>\n",
       "      <td>75.0</td>\n",
       "    </tr>\n",
       "    <tr>\n",
       "      <th>5979410</th>\n",
       "      <td>Foreclosed</td>\n",
       "      <td>Forced</td>\n",
       "      <td>75.0</td>\n",
       "    </tr>\n",
       "    <tr>\n",
       "      <th>2354052</th>\n",
       "      <td>Suzerain</td>\n",
       "      <td>Superman</td>\n",
       "      <td>75.0</td>\n",
       "    </tr>\n",
       "    <tr>\n",
       "      <th>1280421</th>\n",
       "      <td>Misao</td>\n",
       "      <td>MSA</td>\n",
       "      <td>75.0</td>\n",
       "    </tr>\n",
       "    <tr>\n",
       "      <th>3325510</th>\n",
       "      <td>ALTF4</td>\n",
       "      <td>ALF</td>\n",
       "      <td>75.0</td>\n",
       "    </tr>\n",
       "    <tr>\n",
       "      <th>3424965</th>\n",
       "      <td>Unturned</td>\n",
       "      <td>Nocturne</td>\n",
       "      <td>75.0</td>\n",
       "    </tr>\n",
       "    <tr>\n",
       "      <th>2961693</th>\n",
       "      <td>Helltaker</td>\n",
       "      <td>Shelter</td>\n",
       "      <td>75.0</td>\n",
       "    </tr>\n",
       "    <tr>\n",
       "      <th>2918540</th>\n",
       "      <td>Sneaky Sasquatch</td>\n",
       "      <td>Quarth</td>\n",
       "      <td>75.0</td>\n",
       "    </tr>\n",
       "    <tr>\n",
       "      <th>8767112</th>\n",
       "      <td>VRChat</td>\n",
       "      <td>Port Royale 3: Pirates &amp; Merchants</td>\n",
       "      <td>75.0</td>\n",
       "    </tr>\n",
       "    <tr>\n",
       "      <th>6677172</th>\n",
       "      <td>Helldivers</td>\n",
       "      <td>Driver</td>\n",
       "      <td>75.0</td>\n",
       "    </tr>\n",
       "    <tr>\n",
       "      <th>8968183</th>\n",
       "      <td>Chuchel</td>\n",
       "      <td>ChuChu Rocket!</td>\n",
       "      <td>75.0</td>\n",
       "    </tr>\n",
       "    <tr>\n",
       "      <th>179754</th>\n",
       "      <td>Slalom</td>\n",
       "      <td>Diabolik 02: La Gemma di Salomone</td>\n",
       "      <td>75.0</td>\n",
       "    </tr>\n",
       "    <tr>\n",
       "      <th>1062630</th>\n",
       "      <td>Bitlife</td>\n",
       "      <td>The Sims 2: Nightlife</td>\n",
       "      <td>75.0</td>\n",
       "    </tr>\n",
       "    <tr>\n",
       "      <th>283070</th>\n",
       "      <td>Willow</td>\n",
       "      <td>Batman v Superman: Who Will Win</td>\n",
       "      <td>75.0</td>\n",
       "    </tr>\n",
       "    <tr>\n",
       "      <th>4282799</th>\n",
       "      <td>Unpacking</td>\n",
       "      <td>Racing</td>\n",
       "      <td>75.0</td>\n",
       "    </tr>\n",
       "    <tr>\n",
       "      <th>447831</th>\n",
       "      <td>Pariah</td>\n",
       "      <td>My English Coach: Para Hispanoparlantes</td>\n",
       "      <td>75.0</td>\n",
       "    </tr>\n",
       "    <tr>\n",
       "      <th>7600179</th>\n",
       "      <td>Recoil</td>\n",
       "      <td>Assassin's Creed Recollection</td>\n",
       "      <td>75.0</td>\n",
       "    </tr>\n",
       "    <tr>\n",
       "      <th>9587109</th>\n",
       "      <td>Tsioque</td>\n",
       "      <td>Barbie Beauty Boutique</td>\n",
       "      <td>75.0</td>\n",
       "    </tr>\n",
       "  </tbody>\n",
       "</table>\n",
       "</div>"
      ],
      "text/plain": [
       "              all_names_x                           best_fit_title  \\\n",
       "1911092         Boneworks                                  Bonkers   \n",
       "439140           Deadhunt                                 DreadOut   \n",
       "3478047          Deadbolt                                 Deadpool   \n",
       "5979410        Foreclosed                                   Forced   \n",
       "2354052          Suzerain                                 Superman   \n",
       "1280421             Misao                                      MSA   \n",
       "3325510             ALTF4                                      ALF   \n",
       "3424965          Unturned                                 Nocturne   \n",
       "2961693         Helltaker                                  Shelter   \n",
       "2918540  Sneaky Sasquatch                                   Quarth   \n",
       "8767112            VRChat       Port Royale 3: Pirates & Merchants   \n",
       "6677172        Helldivers                                   Driver   \n",
       "8968183           Chuchel                           ChuChu Rocket!   \n",
       "179754             Slalom        Diabolik 02: La Gemma di Salomone   \n",
       "1062630           Bitlife                    The Sims 2: Nightlife   \n",
       "283070             Willow          Batman v Superman: Who Will Win   \n",
       "4282799         Unpacking                                   Racing   \n",
       "447831             Pariah  My English Coach: Para Hispanoparlantes   \n",
       "7600179            Recoil            Assassin's Creed Recollection   \n",
       "9587109           Tsioque                   Barbie Beauty Boutique   \n",
       "\n",
       "         best_fit_ratio  \n",
       "1911092            75.0  \n",
       "439140             75.0  \n",
       "3478047            75.0  \n",
       "5979410            75.0  \n",
       "2354052            75.0  \n",
       "1280421            75.0  \n",
       "3325510            75.0  \n",
       "3424965            75.0  \n",
       "2961693            75.0  \n",
       "2918540            75.0  \n",
       "8767112            75.0  \n",
       "6677172            75.0  \n",
       "8968183            75.0  \n",
       "179754             75.0  \n",
       "1062630            75.0  \n",
       "283070             75.0  \n",
       "4282799            75.0  \n",
       "447831             75.0  \n",
       "7600179            75.0  \n",
       "9587109            75.0  "
      ]
     },
     "execution_count": 467,
     "metadata": {},
     "output_type": "execute_result"
    }
   ],
   "source": [
    "imdb_games.loc[imdb_games[\"best_fit_ratio\"] >= 75, [\"all_names_x\", \"best_fit_title\", \"best_fit_ratio\"]].sort_values(\"best_fit_ratio\").head(20)"
   ]
  },
  {
   "cell_type": "markdown",
   "metadata": {},
   "source": [
    "At 75%, not one of our entries seems like a sensible match. We'll try with 85%"
   ]
  },
  {
   "cell_type": "code",
   "execution_count": 468,
   "metadata": {},
   "outputs": [
    {
     "data": {
      "text/html": [
       "<div>\n",
       "<style scoped>\n",
       "    .dataframe tbody tr th:only-of-type {\n",
       "        vertical-align: middle;\n",
       "    }\n",
       "\n",
       "    .dataframe tbody tr th {\n",
       "        vertical-align: top;\n",
       "    }\n",
       "\n",
       "    .dataframe thead th {\n",
       "        text-align: right;\n",
       "    }\n",
       "</style>\n",
       "<table border=\"1\" class=\"dataframe\">\n",
       "  <thead>\n",
       "    <tr style=\"text-align: right;\">\n",
       "      <th></th>\n",
       "      <th>all_names_x</th>\n",
       "      <th>best_fit_title</th>\n",
       "      <th>best_fit_ratio</th>\n",
       "    </tr>\n",
       "  </thead>\n",
       "  <tbody>\n",
       "    <tr>\n",
       "      <th>3613808</th>\n",
       "      <td>Two Point Campus</td>\n",
       "      <td>Amazing Adventures: Riddle of the Two Knights</td>\n",
       "      <td>85.5</td>\n",
       "    </tr>\n",
       "    <tr>\n",
       "      <th>398662</th>\n",
       "      <td>Demons to Diamonds</td>\n",
       "      <td>0-Ji No Kane To Cinderella: Halloween Wedding</td>\n",
       "      <td>85.5</td>\n",
       "    </tr>\n",
       "    <tr>\n",
       "      <th>5218960</th>\n",
       "      <td>Michaelsoft Binbows '97</td>\n",
       "      <td>Adidas Power Soccer International 97</td>\n",
       "      <td>85.5</td>\n",
       "    </tr>\n",
       "    <tr>\n",
       "      <th>5204402</th>\n",
       "      <td>BMW M3 Challenge</td>\n",
       "      <td>Family Trainer: Extreme Challenge</td>\n",
       "      <td>85.5</td>\n",
       "    </tr>\n",
       "    <tr>\n",
       "      <th>5195512</th>\n",
       "      <td>Off Road Challenge</td>\n",
       "      <td>Family Trainer: Extreme Challenge</td>\n",
       "      <td>85.5</td>\n",
       "    </tr>\n",
       "    <tr>\n",
       "      <th>5192297</th>\n",
       "      <td>Warped Kart Racers</td>\n",
       "      <td>BC Racers</td>\n",
       "      <td>85.5</td>\n",
       "    </tr>\n",
       "    <tr>\n",
       "      <th>5182430</th>\n",
       "      <td>Oh... Sir!: The Insult Simulator</td>\n",
       "      <td>Simple 2000 Series Vol.067: The Suiri - Soshite Daremo Inakunatta</td>\n",
       "      <td>85.5</td>\n",
       "    </tr>\n",
       "    <tr>\n",
       "      <th>5175078</th>\n",
       "      <td>The Maw</td>\n",
       "      <td>Atelier Ryza 2: Lost Legends &amp; the Secret Fairy</td>\n",
       "      <td>85.5</td>\n",
       "    </tr>\n",
       "    <tr>\n",
       "      <th>5173856</th>\n",
       "      <td>Purble Place</td>\n",
       "      <td>Physical Contact: Picture Place</td>\n",
       "      <td>85.5</td>\n",
       "    </tr>\n",
       "    <tr>\n",
       "      <th>5161602</th>\n",
       "      <td>Heroes Over Europe</td>\n",
       "      <td>Action Force II: International Heroes</td>\n",
       "      <td>85.5</td>\n",
       "    </tr>\n",
       "    <tr>\n",
       "      <th>5159032</th>\n",
       "      <td>Sky Diver</td>\n",
       "      <td>Atelier Escha &amp; Logy: Alchemists of the Dusk Sky</td>\n",
       "      <td>85.5</td>\n",
       "    </tr>\n",
       "    <tr>\n",
       "      <th>5158869</th>\n",
       "      <td>Dog Patch</td>\n",
       "      <td>A.V.A: Dog Tag</td>\n",
       "      <td>85.5</td>\n",
       "    </tr>\n",
       "    <tr>\n",
       "      <th>5157183</th>\n",
       "      <td>Catherine: Full Body</td>\n",
       "      <td>7 Wonders: Ancient Alien Makeover HD\\r\\n7 Wonders: Ancient Alien Makeover (Full)</td>\n",
       "      <td>85.5</td>\n",
       "    </tr>\n",
       "    <tr>\n",
       "      <th>399982</th>\n",
       "      <td>Rogue Trip: Vacation 2012</td>\n",
       "      <td>Akiba's Trip 2</td>\n",
       "      <td>85.5</td>\n",
       "    </tr>\n",
       "    <tr>\n",
       "      <th>5155766</th>\n",
       "      <td>Joseph: Collapse</td>\n",
       "      <td>Rance VI: The Collapse of Zeth</td>\n",
       "      <td>85.5</td>\n",
       "    </tr>\n",
       "    <tr>\n",
       "      <th>400027</th>\n",
       "      <td>Simon Says</td>\n",
       "      <td>Castlevania II: Simon's Quest</td>\n",
       "      <td>85.5</td>\n",
       "    </tr>\n",
       "    <tr>\n",
       "      <th>400029</th>\n",
       "      <td>Singles: Flirt Up Your Life</td>\n",
       "      <td>38 Man Kilo no Kokuu File 1: A Day in the Life of 2049</td>\n",
       "      <td>85.5</td>\n",
       "    </tr>\n",
       "    <tr>\n",
       "      <th>5152960</th>\n",
       "      <td>Sub Hunter</td>\n",
       "      <td>Bakuretsu Hunter</td>\n",
       "      <td>85.5</td>\n",
       "    </tr>\n",
       "    <tr>\n",
       "      <th>5152936</th>\n",
       "      <td>Canyon Bomber</td>\n",
       "      <td>Blaster Master Jr.\\r\\nBomber King: Scenario 2</td>\n",
       "      <td>85.5</td>\n",
       "    </tr>\n",
       "    <tr>\n",
       "      <th>5152032</th>\n",
       "      <td>Campfire Legends: The Babysitter</td>\n",
       "      <td>Simple 2000 Series Vol.067: The Suiri - Soshite Daremo Inakunatta</td>\n",
       "      <td>85.5</td>\n",
       "    </tr>\n",
       "  </tbody>\n",
       "</table>\n",
       "</div>"
      ],
      "text/plain": [
       "                              all_names_x  \\\n",
       "3613808                  Two Point Campus   \n",
       "398662                 Demons to Diamonds   \n",
       "5218960           Michaelsoft Binbows '97   \n",
       "5204402                  BMW M3 Challenge   \n",
       "5195512                Off Road Challenge   \n",
       "5192297                Warped Kart Racers   \n",
       "5182430  Oh... Sir!: The Insult Simulator   \n",
       "5175078                           The Maw   \n",
       "5173856                      Purble Place   \n",
       "5161602                Heroes Over Europe   \n",
       "5159032                         Sky Diver   \n",
       "5158869                         Dog Patch   \n",
       "5157183              Catherine: Full Body   \n",
       "399982          Rogue Trip: Vacation 2012   \n",
       "5155766                  Joseph: Collapse   \n",
       "400027                         Simon Says   \n",
       "400029        Singles: Flirt Up Your Life   \n",
       "5152960                        Sub Hunter   \n",
       "5152936                     Canyon Bomber   \n",
       "5152032  Campfire Legends: The Babysitter   \n",
       "\n",
       "                                                                           best_fit_title  \\\n",
       "3613808                                     Amazing Adventures: Riddle of the Two Knights   \n",
       "398662                                      0-Ji No Kane To Cinderella: Halloween Wedding   \n",
       "5218960                                              Adidas Power Soccer International 97   \n",
       "5204402                                                 Family Trainer: Extreme Challenge   \n",
       "5195512                                                 Family Trainer: Extreme Challenge   \n",
       "5192297                                                                         BC Racers   \n",
       "5182430                 Simple 2000 Series Vol.067: The Suiri - Soshite Daremo Inakunatta   \n",
       "5175078                                   Atelier Ryza 2: Lost Legends & the Secret Fairy   \n",
       "5173856                                                   Physical Contact: Picture Place   \n",
       "5161602                                             Action Force II: International Heroes   \n",
       "5159032                                  Atelier Escha & Logy: Alchemists of the Dusk Sky   \n",
       "5158869                                                                    A.V.A: Dog Tag   \n",
       "5157183  7 Wonders: Ancient Alien Makeover HD\\r\\n7 Wonders: Ancient Alien Makeover (Full)   \n",
       "399982                                                                     Akiba's Trip 2   \n",
       "5155766                                                    Rance VI: The Collapse of Zeth   \n",
       "400027                                                      Castlevania II: Simon's Quest   \n",
       "400029                             38 Man Kilo no Kokuu File 1: A Day in the Life of 2049   \n",
       "5152960                                                                  Bakuretsu Hunter   \n",
       "5152936                                     Blaster Master Jr.\\r\\nBomber King: Scenario 2   \n",
       "5152032                 Simple 2000 Series Vol.067: The Suiri - Soshite Daremo Inakunatta   \n",
       "\n",
       "         best_fit_ratio  \n",
       "3613808            85.5  \n",
       "398662             85.5  \n",
       "5218960            85.5  \n",
       "5204402            85.5  \n",
       "5195512            85.5  \n",
       "5192297            85.5  \n",
       "5182430            85.5  \n",
       "5175078            85.5  \n",
       "5173856            85.5  \n",
       "5161602            85.5  \n",
       "5159032            85.5  \n",
       "5158869            85.5  \n",
       "5157183            85.5  \n",
       "399982             85.5  \n",
       "5155766            85.5  \n",
       "400027             85.5  \n",
       "400029             85.5  \n",
       "5152960            85.5  \n",
       "5152936            85.5  \n",
       "5152032            85.5  "
      ]
     },
     "execution_count": 468,
     "metadata": {},
     "output_type": "execute_result"
    }
   ],
   "source": [
    "imdb_games.loc[imdb_games[\"best_fit_ratio\"] >= 85, [\"all_names_x\", \"best_fit_title\", \"best_fit_ratio\"]].sort_values(\"best_fit_ratio\").head(20)"
   ]
  },
  {
   "cell_type": "markdown",
   "metadata": {},
   "source": [
    "Again, 85% seems to be too obscure. We'll up it to 90%"
   ]
  },
  {
   "cell_type": "code",
   "execution_count": 469,
   "metadata": {},
   "outputs": [
    {
     "data": {
      "text/html": [
       "<div>\n",
       "<style scoped>\n",
       "    .dataframe tbody tr th:only-of-type {\n",
       "        vertical-align: middle;\n",
       "    }\n",
       "\n",
       "    .dataframe tbody tr th {\n",
       "        vertical-align: top;\n",
       "    }\n",
       "\n",
       "    .dataframe thead th {\n",
       "        text-align: right;\n",
       "    }\n",
       "</style>\n",
       "<table border=\"1\" class=\"dataframe\">\n",
       "  <thead>\n",
       "    <tr style=\"text-align: right;\">\n",
       "      <th></th>\n",
       "      <th>all_names_x</th>\n",
       "      <th>best_fit_title</th>\n",
       "      <th>best_fit_ratio</th>\n",
       "    </tr>\n",
       "  </thead>\n",
       "  <tbody>\n",
       "    <tr>\n",
       "      <th>82552</th>\n",
       "      <td>MysteryDisc: Murder, Anyone?</td>\n",
       "      <td>Myst</td>\n",
       "      <td>90.0</td>\n",
       "    </tr>\n",
       "    <tr>\n",
       "      <th>3552094</th>\n",
       "      <td>ESWAT: City Under Siege</td>\n",
       "      <td>Siege</td>\n",
       "      <td>90.0</td>\n",
       "    </tr>\n",
       "    <tr>\n",
       "      <th>3548688</th>\n",
       "      <td>The Godfather II: Crime Rings</td>\n",
       "      <td>The Godfather II</td>\n",
       "      <td>90.0</td>\n",
       "    </tr>\n",
       "    <tr>\n",
       "      <th>3548402</th>\n",
       "      <td>iD3</td>\n",
       "      <td>D</td>\n",
       "      <td>90.0</td>\n",
       "    </tr>\n",
       "    <tr>\n",
       "      <th>3548269</th>\n",
       "      <td>Solstice II</td>\n",
       "      <td>ST</td>\n",
       "      <td>90.0</td>\n",
       "    </tr>\n",
       "    <tr>\n",
       "      <th>3547949</th>\n",
       "      <td>The Battle of Olympus</td>\n",
       "      <td>Olympus</td>\n",
       "      <td>90.0</td>\n",
       "    </tr>\n",
       "    <tr>\n",
       "      <th>3545145</th>\n",
       "      <td>Toobin'</td>\n",
       "      <td>N</td>\n",
       "      <td>90.0</td>\n",
       "    </tr>\n",
       "    <tr>\n",
       "      <th>3531725</th>\n",
       "      <td>4 Elements II</td>\n",
       "      <td>ME</td>\n",
       "      <td>90.0</td>\n",
       "    </tr>\n",
       "    <tr>\n",
       "      <th>3556634</th>\n",
       "      <td>Dangerous Golf</td>\n",
       "      <td>Golf</td>\n",
       "      <td>90.0</td>\n",
       "    </tr>\n",
       "    <tr>\n",
       "      <th>3523888</th>\n",
       "      <td>Mafia III: Sign of the Times</td>\n",
       "      <td>Mafia</td>\n",
       "      <td>90.0</td>\n",
       "    </tr>\n",
       "    <tr>\n",
       "      <th>3523871</th>\n",
       "      <td>Mafia III: Faster, Baby!</td>\n",
       "      <td>Mafia</td>\n",
       "      <td>90.0</td>\n",
       "    </tr>\n",
       "    <tr>\n",
       "      <th>3520333</th>\n",
       "      <td>Chicken Invaders Universe</td>\n",
       "      <td>Chicken Invaders</td>\n",
       "      <td>90.0</td>\n",
       "    </tr>\n",
       "    <tr>\n",
       "      <th>3517268</th>\n",
       "      <td>Crash 'n Burn</td>\n",
       "      <td>SH</td>\n",
       "      <td>90.0</td>\n",
       "    </tr>\n",
       "    <tr>\n",
       "      <th>3510411</th>\n",
       "      <td>Hrot</td>\n",
       "      <td>Kenka Bancho 2: Full Throttle</td>\n",
       "      <td>90.0</td>\n",
       "    </tr>\n",
       "    <tr>\n",
       "      <th>3509868</th>\n",
       "      <td>Project Warlock</td>\n",
       "      <td>CT</td>\n",
       "      <td>90.0</td>\n",
       "    </tr>\n",
       "    <tr>\n",
       "      <th>3507576</th>\n",
       "      <td>Automobilista 2</td>\n",
       "      <td>ST</td>\n",
       "      <td>90.0</td>\n",
       "    </tr>\n",
       "    <tr>\n",
       "      <th>3507514</th>\n",
       "      <td>Prodeus</td>\n",
       "      <td>D</td>\n",
       "      <td>90.0</td>\n",
       "    </tr>\n",
       "    <tr>\n",
       "      <th>3523881</th>\n",
       "      <td>Mafia III: Stones Unturned</td>\n",
       "      <td>Mafia</td>\n",
       "      <td>90.0</td>\n",
       "    </tr>\n",
       "    <tr>\n",
       "      <th>3507486</th>\n",
       "      <td>Blood and Bacon</td>\n",
       "      <td>ACO</td>\n",
       "      <td>90.0</td>\n",
       "    </tr>\n",
       "    <tr>\n",
       "      <th>3574457</th>\n",
       "      <td>Steven Universe: Soundtrack Attack</td>\n",
       "      <td>Soundtrack Attack</td>\n",
       "      <td>90.0</td>\n",
       "    </tr>\n",
       "  </tbody>\n",
       "</table>\n",
       "</div>"
      ],
      "text/plain": [
       "                                all_names_x                 best_fit_title  \\\n",
       "82552          MysteryDisc: Murder, Anyone?                           Myst   \n",
       "3552094             ESWAT: City Under Siege                          Siege   \n",
       "3548688       The Godfather II: Crime Rings               The Godfather II   \n",
       "3548402                                 iD3                              D   \n",
       "3548269                         Solstice II                             ST   \n",
       "3547949               The Battle of Olympus                        Olympus   \n",
       "3545145                             Toobin'                              N   \n",
       "3531725                       4 Elements II                             ME   \n",
       "3556634                      Dangerous Golf                           Golf   \n",
       "3523888        Mafia III: Sign of the Times                          Mafia   \n",
       "3523871            Mafia III: Faster, Baby!                          Mafia   \n",
       "3520333           Chicken Invaders Universe               Chicken Invaders   \n",
       "3517268                       Crash 'n Burn                             SH   \n",
       "3510411                                Hrot  Kenka Bancho 2: Full Throttle   \n",
       "3509868                     Project Warlock                             CT   \n",
       "3507576                     Automobilista 2                             ST   \n",
       "3507514                             Prodeus                              D   \n",
       "3523881          Mafia III: Stones Unturned                          Mafia   \n",
       "3507486                     Blood and Bacon                            ACO   \n",
       "3574457  Steven Universe: Soundtrack Attack              Soundtrack Attack   \n",
       "\n",
       "         best_fit_ratio  \n",
       "82552              90.0  \n",
       "3552094            90.0  \n",
       "3548688            90.0  \n",
       "3548402            90.0  \n",
       "3548269            90.0  \n",
       "3547949            90.0  \n",
       "3545145            90.0  \n",
       "3531725            90.0  \n",
       "3556634            90.0  \n",
       "3523888            90.0  \n",
       "3523871            90.0  \n",
       "3520333            90.0  \n",
       "3517268            90.0  \n",
       "3510411            90.0  \n",
       "3509868            90.0  \n",
       "3507576            90.0  \n",
       "3507514            90.0  \n",
       "3523881            90.0  \n",
       "3507486            90.0  \n",
       "3574457            90.0  "
      ]
     },
     "execution_count": 469,
     "metadata": {},
     "output_type": "execute_result"
    }
   ],
   "source": [
    "imdb_games.loc[imdb_games[\"best_fit_ratio\"] >= 90, [\"all_names_x\", \"best_fit_title\", \"best_fit_ratio\"]].sort_values(\"best_fit_ratio\").head(20)"
   ]
  },
  {
   "cell_type": "markdown",
   "metadata": {},
   "source": [
    "Approximately 6 of those 20 look like they could be a good match for the franchise, even if the game name is not the same (Notably the mafia ones for example). However this equates to a 30% accuracy, which I would not be happy with. "
   ]
  },
  {
   "cell_type": "code",
   "execution_count": 470,
   "metadata": {
    "scrolled": false
   },
   "outputs": [
    {
     "data": {
      "text/html": [
       "<div>\n",
       "<style scoped>\n",
       "    .dataframe tbody tr th:only-of-type {\n",
       "        vertical-align: middle;\n",
       "    }\n",
       "\n",
       "    .dataframe tbody tr th {\n",
       "        vertical-align: top;\n",
       "    }\n",
       "\n",
       "    .dataframe thead th {\n",
       "        text-align: right;\n",
       "    }\n",
       "</style>\n",
       "<table border=\"1\" class=\"dataframe\">\n",
       "  <thead>\n",
       "    <tr style=\"text-align: right;\">\n",
       "      <th></th>\n",
       "      <th>all_names_x</th>\n",
       "      <th>best_fit_title</th>\n",
       "      <th>best_fit_ratio</th>\n",
       "    </tr>\n",
       "  </thead>\n",
       "  <tbody>\n",
       "    <tr>\n",
       "      <th>3165105</th>\n",
       "      <td>SpongeBob's Atlantis SquarePantis</td>\n",
       "      <td>SpongeBob SquarePants: Atlantis Squarepantis</td>\n",
       "      <td>92.031250</td>\n",
       "    </tr>\n",
       "    <tr>\n",
       "      <th>5262903</th>\n",
       "      <td>Sword of the Stars 2: Lords of Winter</td>\n",
       "      <td>Sword of the Stars II: The Lords of Winter</td>\n",
       "      <td>92.031250</td>\n",
       "    </tr>\n",
       "    <tr>\n",
       "      <th>265597</th>\n",
       "      <td>Who Wants to Beat Up a Millionaire</td>\n",
       "      <td>Who Wants To Be A Millionaire</td>\n",
       "      <td>92.063492</td>\n",
       "    </tr>\n",
       "    <tr>\n",
       "      <th>259473</th>\n",
       "      <td>Hokuto no Ken: Seikimatsu kyûseishu densetsu</td>\n",
       "      <td>Hokuto no Ken: Seiki Matsukyu Seishi Densetsu</td>\n",
       "      <td>92.134831</td>\n",
       "    </tr>\n",
       "    <tr>\n",
       "      <th>8596801</th>\n",
       "      <td>Atelier Lydie &amp; Suelle: Alchemists of the Mysterious Painting</td>\n",
       "      <td>Atelier Lydie &amp; Suelle: The Alchemists and the Mysterious Paintings</td>\n",
       "      <td>92.187500</td>\n",
       "    </tr>\n",
       "    <tr>\n",
       "      <th>4006860</th>\n",
       "      <td>Mythic Heroes</td>\n",
       "      <td>Mystic Heroes</td>\n",
       "      <td>92.307692</td>\n",
       "    </tr>\n",
       "    <tr>\n",
       "      <th>5544883</th>\n",
       "      <td>Toypop</td>\n",
       "      <td>Toy Pop</td>\n",
       "      <td>92.307692</td>\n",
       "    </tr>\n",
       "    <tr>\n",
       "      <th>3058720</th>\n",
       "      <td>Bum Simulator</td>\n",
       "      <td>BMX Simulator</td>\n",
       "      <td>92.307692</td>\n",
       "    </tr>\n",
       "    <tr>\n",
       "      <th>1769121</th>\n",
       "      <td>iRacing</td>\n",
       "      <td>Racing</td>\n",
       "      <td>92.307692</td>\n",
       "    </tr>\n",
       "    <tr>\n",
       "      <th>6968622</th>\n",
       "      <td>Tengami</td>\n",
       "      <td>Tengai</td>\n",
       "      <td>92.307692</td>\n",
       "    </tr>\n",
       "    <tr>\n",
       "      <th>4859971</th>\n",
       "      <td>Flower</td>\n",
       "      <td>Flowers</td>\n",
       "      <td>92.307692</td>\n",
       "    </tr>\n",
       "    <tr>\n",
       "      <th>8211818</th>\n",
       "      <td>Mario Kart 8DX</td>\n",
       "      <td>Mario Kart 8</td>\n",
       "      <td>92.307692</td>\n",
       "    </tr>\n",
       "    <tr>\n",
       "      <th>291507</th>\n",
       "      <td>Puzzle</td>\n",
       "      <td>Puzzled</td>\n",
       "      <td>92.307692</td>\n",
       "    </tr>\n",
       "    <tr>\n",
       "      <th>2485239</th>\n",
       "      <td>Ryû ga gotoku: Kenzan!</td>\n",
       "      <td>Ryu ga Gotoku Kenzan!</td>\n",
       "      <td>92.682927</td>\n",
       "    </tr>\n",
       "    <tr>\n",
       "      <th>4682374</th>\n",
       "      <td>Emergency 2012</td>\n",
       "      <td>Emergency 2013</td>\n",
       "      <td>92.857143</td>\n",
       "    </tr>\n",
       "    <tr>\n",
       "      <th>277052</th>\n",
       "      <td>Police Quest III: The Kindred</td>\n",
       "      <td>Police Quest 3: The Kindred</td>\n",
       "      <td>92.857143</td>\n",
       "    </tr>\n",
       "    <tr>\n",
       "      <th>5551001</th>\n",
       "      <td>Super Xevious: Ganpu no Nazo</td>\n",
       "      <td>Super Xevious: GAMP no Nazou</td>\n",
       "      <td>92.857143</td>\n",
       "    </tr>\n",
       "  </tbody>\n",
       "</table>\n",
       "</div>"
      ],
      "text/plain": [
       "                                                           all_names_x  \\\n",
       "3165105                              SpongeBob's Atlantis SquarePantis   \n",
       "5262903                          Sword of the Stars 2: Lords of Winter   \n",
       "265597                              Who Wants to Beat Up a Millionaire   \n",
       "259473                    Hokuto no Ken: Seikimatsu kyûseishu densetsu   \n",
       "8596801  Atelier Lydie & Suelle: Alchemists of the Mysterious Painting   \n",
       "4006860                                                  Mythic Heroes   \n",
       "5544883                                                         Toypop   \n",
       "3058720                                                  Bum Simulator   \n",
       "1769121                                                        iRacing   \n",
       "6968622                                                        Tengami   \n",
       "4859971                                                         Flower   \n",
       "8211818                                                 Mario Kart 8DX   \n",
       "291507                                                          Puzzle   \n",
       "2485239                                         Ryû ga gotoku: Kenzan!   \n",
       "4682374                                                 Emergency 2012   \n",
       "277052                                   Police Quest III: The Kindred   \n",
       "5551001                                   Super Xevious: Ganpu no Nazo   \n",
       "\n",
       "                                                              best_fit_title  \\\n",
       "3165105                         SpongeBob SquarePants: Atlantis Squarepantis   \n",
       "5262903                           Sword of the Stars II: The Lords of Winter   \n",
       "265597                                         Who Wants To Be A Millionaire   \n",
       "259473                         Hokuto no Ken: Seiki Matsukyu Seishi Densetsu   \n",
       "8596801  Atelier Lydie & Suelle: The Alchemists and the Mysterious Paintings   \n",
       "4006860                                                        Mystic Heroes   \n",
       "5544883                                                              Toy Pop   \n",
       "3058720                                                        BMX Simulator   \n",
       "1769121                                                               Racing   \n",
       "6968622                                                               Tengai   \n",
       "4859971                                                              Flowers   \n",
       "8211818                                                         Mario Kart 8   \n",
       "291507                                                               Puzzled   \n",
       "2485239                                                Ryu ga Gotoku Kenzan!   \n",
       "4682374                                                       Emergency 2013   \n",
       "277052                                           Police Quest 3: The Kindred   \n",
       "5551001                                         Super Xevious: GAMP no Nazou   \n",
       "\n",
       "         best_fit_ratio  \n",
       "3165105       92.031250  \n",
       "5262903       92.031250  \n",
       "265597        92.063492  \n",
       "259473        92.134831  \n",
       "8596801       92.187500  \n",
       "4006860       92.307692  \n",
       "5544883       92.307692  \n",
       "3058720       92.307692  \n",
       "1769121       92.307692  \n",
       "6968622       92.307692  \n",
       "4859971       92.307692  \n",
       "8211818       92.307692  \n",
       "291507        92.307692  \n",
       "2485239       92.682927  \n",
       "4682374       92.857143  \n",
       "277052        92.857143  \n",
       "5551001       92.857143  "
      ]
     },
     "execution_count": 470,
     "metadata": {},
     "output_type": "execute_result"
    }
   ],
   "source": [
    "imdb_games.loc[imdb_games[\"best_fit_ratio\"] >= 92, [\"all_names_x\", \"best_fit_title\", \"best_fit_ratio\"]].sort_values(\"best_fit_ratio\").head(17)"
   ]
  },
  {
   "cell_type": "markdown",
   "metadata": {},
   "source": [
    "At 92% ratio, around half of the games appear to be matching. By the time we up the ratio to 95% we are running with less than 10% mismatches (See below)."
   ]
  },
  {
   "cell_type": "code",
   "execution_count": 471,
   "metadata": {},
   "outputs": [
    {
     "data": {
      "text/html": [
       "<div>\n",
       "<style scoped>\n",
       "    .dataframe tbody tr th:only-of-type {\n",
       "        vertical-align: middle;\n",
       "    }\n",
       "\n",
       "    .dataframe tbody tr th {\n",
       "        vertical-align: top;\n",
       "    }\n",
       "\n",
       "    .dataframe thead th {\n",
       "        text-align: right;\n",
       "    }\n",
       "</style>\n",
       "<table border=\"1\" class=\"dataframe\">\n",
       "  <thead>\n",
       "    <tr style=\"text-align: right;\">\n",
       "      <th></th>\n",
       "      <th>all_names_x</th>\n",
       "      <th>best_fit_title</th>\n",
       "      <th>best_fit_ratio</th>\n",
       "    </tr>\n",
       "  </thead>\n",
       "  <tbody>\n",
       "    <tr>\n",
       "      <th>2991931</th>\n",
       "      <td>Race: Official WTCC Game</td>\n",
       "      <td>Race 07: The Official WTCC Game</td>\n",
       "      <td>95.0</td>\n",
       "    </tr>\n",
       "    <tr>\n",
       "      <th>1660294</th>\n",
       "      <td>Dracula 4: The Shadow of the Dragon</td>\n",
       "      <td>Dracula 4: Shadow of the Dragon</td>\n",
       "      <td>95.0</td>\n",
       "    </tr>\n",
       "    <tr>\n",
       "      <th>1657809</th>\n",
       "      <td>PewDiePie: Legend of the Brofist</td>\n",
       "      <td>PewDiePie: Legend of Brofist</td>\n",
       "      <td>95.0</td>\n",
       "    </tr>\n",
       "    <tr>\n",
       "      <th>5157346</th>\n",
       "      <td>Space Wars</td>\n",
       "      <td>3D Space Wars</td>\n",
       "      <td>95.0</td>\n",
       "    </tr>\n",
       "    <tr>\n",
       "      <th>4068233</th>\n",
       "      <td>Mortal Kombat 11: Ultimate</td>\n",
       "      <td>Ultimate Mortal Kombat</td>\n",
       "      <td>95.0</td>\n",
       "    </tr>\n",
       "    <tr>\n",
       "      <th>7822311</th>\n",
       "      <td>Deluxe Ski Jump 2</td>\n",
       "      <td>Deluxe Ski Jump</td>\n",
       "      <td>95.0</td>\n",
       "    </tr>\n",
       "    <tr>\n",
       "      <th>5164418</th>\n",
       "      <td>Pokémon Diamond</td>\n",
       "      <td>Pokémon Diamond/Pearl</td>\n",
       "      <td>95.0</td>\n",
       "    </tr>\n",
       "    <tr>\n",
       "      <th>9053475</th>\n",
       "      <td>Tennis World Tour</td>\n",
       "      <td>Virtua Tennis: World Tour</td>\n",
       "      <td>95.0</td>\n",
       "    </tr>\n",
       "    <tr>\n",
       "      <th>329523</th>\n",
       "      <td>Pokémon Sapphire</td>\n",
       "      <td>Pokémon Ruby/Sapphire</td>\n",
       "      <td>95.0</td>\n",
       "    </tr>\n",
       "    <tr>\n",
       "      <th>331726</th>\n",
       "      <td>The Adventures of Pinocchio</td>\n",
       "      <td>Adventures of Pinocchio</td>\n",
       "      <td>95.0</td>\n",
       "    </tr>\n",
       "    <tr>\n",
       "      <th>9068202</th>\n",
       "      <td>Pokémon: Let's Go, Pikachu!</td>\n",
       "      <td>Pokémon: Let's Go, Pikachu!/Eevee!</td>\n",
       "      <td>95.0</td>\n",
       "    </tr>\n",
       "    <tr>\n",
       "      <th>9068205</th>\n",
       "      <td>Pokémon: Let's Go, Eevee!</td>\n",
       "      <td>Pokémon: Let's Go, Pikachu!/Eevee!</td>\n",
       "      <td>95.0</td>\n",
       "    </tr>\n",
       "    <tr>\n",
       "      <th>1634864</th>\n",
       "      <td>Star Wars: The Old Republic - Onslaught</td>\n",
       "      <td>Star Wars: The Old Republic</td>\n",
       "      <td>95.0</td>\n",
       "    </tr>\n",
       "    <tr>\n",
       "      <th>2848741</th>\n",
       "      <td>Sam &amp; Max Save the World Remastered</td>\n",
       "      <td>Sam &amp; Max Save the World</td>\n",
       "      <td>95.0</td>\n",
       "    </tr>\n",
       "    <tr>\n",
       "      <th>7792277</th>\n",
       "      <td>Valkyria Chronicles 3: Unrecorded Chronicles</td>\n",
       "      <td>Senjo no Valkyria 3: Unrecorded Chronicles</td>\n",
       "      <td>95.0</td>\n",
       "    </tr>\n",
       "    <tr>\n",
       "      <th>338973</th>\n",
       "      <td>Pride Fighting Championships</td>\n",
       "      <td>Pride FC: Fighting Championships</td>\n",
       "      <td>95.0</td>\n",
       "    </tr>\n",
       "    <tr>\n",
       "      <th>2860864</th>\n",
       "      <td>Asterix &amp; Obelix XXL 2</td>\n",
       "      <td>Asterix &amp; Obelix</td>\n",
       "      <td>95.0</td>\n",
       "    </tr>\n",
       "    <tr>\n",
       "      <th>340801</th>\n",
       "      <td>NBA Basketball</td>\n",
       "      <td>Tecmo NBA Basketball</td>\n",
       "      <td>95.0</td>\n",
       "    </tr>\n",
       "    <tr>\n",
       "      <th>341142</th>\n",
       "      <td>Treasure Planet: Battle at Procyon</td>\n",
       "      <td>Disney's Treasure Planet: Battle at Procyon</td>\n",
       "      <td>95.0</td>\n",
       "    </tr>\n",
       "    <tr>\n",
       "      <th>341326</th>\n",
       "      <td>Adventure</td>\n",
       "      <td>QIX Adventure</td>\n",
       "      <td>95.0</td>\n",
       "    </tr>\n",
       "  </tbody>\n",
       "</table>\n",
       "</div>"
      ],
      "text/plain": [
       "                                          all_names_x  \\\n",
       "2991931                      Race: Official WTCC Game   \n",
       "1660294           Dracula 4: The Shadow of the Dragon   \n",
       "1657809              PewDiePie: Legend of the Brofist   \n",
       "5157346                                    Space Wars   \n",
       "4068233                    Mortal Kombat 11: Ultimate   \n",
       "7822311                             Deluxe Ski Jump 2   \n",
       "5164418                               Pokémon Diamond   \n",
       "9053475                             Tennis World Tour   \n",
       "329523                               Pokémon Sapphire   \n",
       "331726                    The Adventures of Pinocchio   \n",
       "9068202                   Pokémon: Let's Go, Pikachu!   \n",
       "9068205                     Pokémon: Let's Go, Eevee!   \n",
       "1634864       Star Wars: The Old Republic - Onslaught   \n",
       "2848741           Sam & Max Save the World Remastered   \n",
       "7792277  Valkyria Chronicles 3: Unrecorded Chronicles   \n",
       "338973                   Pride Fighting Championships   \n",
       "2860864                        Asterix & Obelix XXL 2   \n",
       "340801                                 NBA Basketball   \n",
       "341142             Treasure Planet: Battle at Procyon   \n",
       "341326                                      Adventure   \n",
       "\n",
       "                                      best_fit_title  best_fit_ratio  \n",
       "2991931              Race 07: The Official WTCC Game            95.0  \n",
       "1660294              Dracula 4: Shadow of the Dragon            95.0  \n",
       "1657809                 PewDiePie: Legend of Brofist            95.0  \n",
       "5157346                                3D Space Wars            95.0  \n",
       "4068233                       Ultimate Mortal Kombat            95.0  \n",
       "7822311                              Deluxe Ski Jump            95.0  \n",
       "5164418                        Pokémon Diamond/Pearl            95.0  \n",
       "9053475                    Virtua Tennis: World Tour            95.0  \n",
       "329523                         Pokémon Ruby/Sapphire            95.0  \n",
       "331726                       Adventures of Pinocchio            95.0  \n",
       "9068202           Pokémon: Let's Go, Pikachu!/Eevee!            95.0  \n",
       "9068205           Pokémon: Let's Go, Pikachu!/Eevee!            95.0  \n",
       "1634864                  Star Wars: The Old Republic            95.0  \n",
       "2848741                     Sam & Max Save the World            95.0  \n",
       "7792277   Senjo no Valkyria 3: Unrecorded Chronicles            95.0  \n",
       "338973              Pride FC: Fighting Championships            95.0  \n",
       "2860864                             Asterix & Obelix            95.0  \n",
       "340801                          Tecmo NBA Basketball            95.0  \n",
       "341142   Disney's Treasure Planet: Battle at Procyon            95.0  \n",
       "341326                                 QIX Adventure            95.0  "
      ]
     },
     "execution_count": 471,
     "metadata": {},
     "output_type": "execute_result"
    }
   ],
   "source": [
    "imdb_games.loc[imdb_games[\"best_fit_ratio\"] >= 95, [\"all_names_x\", \"best_fit_title\", \"best_fit_ratio\"]].sort_values(\"best_fit_ratio\").head(20)"
   ]
  },
  {
   "cell_type": "markdown",
   "metadata": {},
   "source": [
    "At 93%, I'd estimate 17/20 in the correct classification, which is 85% accuracy."
   ]
  },
  {
   "cell_type": "code",
   "execution_count": 472,
   "metadata": {
    "scrolled": false
   },
   "outputs": [
    {
     "data": {
      "text/html": [
       "<div>\n",
       "<style scoped>\n",
       "    .dataframe tbody tr th:only-of-type {\n",
       "        vertical-align: middle;\n",
       "    }\n",
       "\n",
       "    .dataframe tbody tr th {\n",
       "        vertical-align: top;\n",
       "    }\n",
       "\n",
       "    .dataframe thead th {\n",
       "        text-align: right;\n",
       "    }\n",
       "</style>\n",
       "<table border=\"1\" class=\"dataframe\">\n",
       "  <thead>\n",
       "    <tr style=\"text-align: right;\">\n",
       "      <th></th>\n",
       "      <th>all_names_x</th>\n",
       "      <th>best_fit_title</th>\n",
       "      <th>best_fit_ratio</th>\n",
       "    </tr>\n",
       "  </thead>\n",
       "  <tbody>\n",
       "    <tr>\n",
       "      <th>1057122</th>\n",
       "      <td>Sam and Max Episode 104: Abe Lincoln Must Die!</td>\n",
       "      <td>Sam &amp; Max Episode 4: Abe Lincoln Must Die!</td>\n",
       "      <td>93.023256</td>\n",
       "    </tr>\n",
       "    <tr>\n",
       "      <th>292629</th>\n",
       "      <td>Final Fantasy Legend 3</td>\n",
       "      <td>Final Fantasy Legend II</td>\n",
       "      <td>93.333333</td>\n",
       "    </tr>\n",
       "    <tr>\n",
       "      <th>2996095</th>\n",
       "      <td>Badlands</td>\n",
       "      <td>Badland</td>\n",
       "      <td>93.333333</td>\n",
       "    </tr>\n",
       "    <tr>\n",
       "      <th>3350481</th>\n",
       "      <td>Doctor Who: The Lonely Assassins</td>\n",
       "      <td>Dr Who: The Lonely Assassins</td>\n",
       "      <td>93.333333</td>\n",
       "    </tr>\n",
       "    <tr>\n",
       "      <th>5800398</th>\n",
       "      <td>Platoon</td>\n",
       "      <td>Splatoon</td>\n",
       "      <td>93.333333</td>\n",
       "    </tr>\n",
       "    <tr>\n",
       "      <th>5797644</th>\n",
       "      <td>Badlands</td>\n",
       "      <td>Badland</td>\n",
       "      <td>93.333333</td>\n",
       "    </tr>\n",
       "    <tr>\n",
       "      <th>8725634</th>\n",
       "      <td>Paladins</td>\n",
       "      <td>Paladin</td>\n",
       "      <td>93.333333</td>\n",
       "    </tr>\n",
       "    <tr>\n",
       "      <th>5124516</th>\n",
       "      <td>Dungeon</td>\n",
       "      <td>Dungeons</td>\n",
       "      <td>93.333333</td>\n",
       "    </tr>\n",
       "    <tr>\n",
       "      <th>2323320</th>\n",
       "      <td>F1 Race</td>\n",
       "      <td>F-1 Race</td>\n",
       "      <td>93.333333</td>\n",
       "    </tr>\n",
       "    <tr>\n",
       "      <th>1643198</th>\n",
       "      <td>Outlive</td>\n",
       "      <td>Out Live</td>\n",
       "      <td>93.333333</td>\n",
       "    </tr>\n",
       "    <tr>\n",
       "      <th>425868</th>\n",
       "      <td>Soko-Ban</td>\n",
       "      <td>Sokoban</td>\n",
       "      <td>93.333333</td>\n",
       "    </tr>\n",
       "    <tr>\n",
       "      <th>2187632</th>\n",
       "      <td>Sam and Max Episode 106: Bright Side of the Moon</td>\n",
       "      <td>Sam &amp; Max Episode 6: Bright Side of the Moon</td>\n",
       "      <td>93.478261</td>\n",
       "    </tr>\n",
       "    <tr>\n",
       "      <th>7848103</th>\n",
       "      <td>Deja Vu: A Nightmare Comes True!!</td>\n",
       "      <td>Déjà Vu: A Nightmare Comes True</td>\n",
       "      <td>93.548387</td>\n",
       "    </tr>\n",
       "    <tr>\n",
       "      <th>8129110</th>\n",
       "      <td>Kurohyo: Ryû ga Gotoku Shinsho</td>\n",
       "      <td>Kurohyou: Ryu ga Gotoku Shinshou</td>\n",
       "      <td>93.548387</td>\n",
       "    </tr>\n",
       "    <tr>\n",
       "      <th>1327607</th>\n",
       "      <td>Formula One 2004</td>\n",
       "      <td>Formula One 2001</td>\n",
       "      <td>93.750000</td>\n",
       "    </tr>\n",
       "    <tr>\n",
       "      <th>278967</th>\n",
       "      <td>Power Rangers Zeo vs. the Machine Empire</td>\n",
       "      <td>Power Rangers Zeo Versus The Machine Empire</td>\n",
       "      <td>93.975904</td>\n",
       "    </tr>\n",
       "    <tr>\n",
       "      <th>7751800</th>\n",
       "      <td>Naruto Powerful Shippûden</td>\n",
       "      <td>Naruto: Powerful Shippuden</td>\n",
       "      <td>94.117647</td>\n",
       "    </tr>\n",
       "    <tr>\n",
       "      <th>2809177</th>\n",
       "      <td>Blaseball</td>\n",
       "      <td>Baseball</td>\n",
       "      <td>94.117647</td>\n",
       "    </tr>\n",
       "    <tr>\n",
       "      <th>2926153</th>\n",
       "      <td>Fantasian</td>\n",
       "      <td>Fantasia</td>\n",
       "      <td>94.117647</td>\n",
       "    </tr>\n",
       "    <tr>\n",
       "      <th>900151</th>\n",
       "      <td>Death Jr. 2: Root of Evil</td>\n",
       "      <td>Death Jr. II: Root of Evil</td>\n",
       "      <td>94.117647</td>\n",
       "    </tr>\n",
       "  </tbody>\n",
       "</table>\n",
       "</div>"
      ],
      "text/plain": [
       "                                              all_names_x  \\\n",
       "1057122    Sam and Max Episode 104: Abe Lincoln Must Die!   \n",
       "292629                             Final Fantasy Legend 3   \n",
       "2996095                                          Badlands   \n",
       "3350481                  Doctor Who: The Lonely Assassins   \n",
       "5800398                                           Platoon   \n",
       "5797644                                          Badlands   \n",
       "8725634                                          Paladins   \n",
       "5124516                                           Dungeon   \n",
       "2323320                                           F1 Race   \n",
       "1643198                                           Outlive   \n",
       "425868                                           Soko-Ban   \n",
       "2187632  Sam and Max Episode 106: Bright Side of the Moon   \n",
       "7848103                 Deja Vu: A Nightmare Comes True!!   \n",
       "8129110                    Kurohyo: Ryû ga Gotoku Shinsho   \n",
       "1327607                                  Formula One 2004   \n",
       "278967           Power Rangers Zeo vs. the Machine Empire   \n",
       "7751800                         Naruto Powerful Shippûden   \n",
       "2809177                                         Blaseball   \n",
       "2926153                                         Fantasian   \n",
       "900151                          Death Jr. 2: Root of Evil   \n",
       "\n",
       "                                       best_fit_title  best_fit_ratio  \n",
       "1057122    Sam & Max Episode 4: Abe Lincoln Must Die!       93.023256  \n",
       "292629                        Final Fantasy Legend II       93.333333  \n",
       "2996095                                       Badland       93.333333  \n",
       "3350481                  Dr Who: The Lonely Assassins       93.333333  \n",
       "5800398                                      Splatoon       93.333333  \n",
       "5797644                                       Badland       93.333333  \n",
       "8725634                                       Paladin       93.333333  \n",
       "5124516                                      Dungeons       93.333333  \n",
       "2323320                                      F-1 Race       93.333333  \n",
       "1643198                                      Out Live       93.333333  \n",
       "425868                                        Sokoban       93.333333  \n",
       "2187632  Sam & Max Episode 6: Bright Side of the Moon       93.478261  \n",
       "7848103               Déjà Vu: A Nightmare Comes True       93.548387  \n",
       "8129110              Kurohyou: Ryu ga Gotoku Shinshou       93.548387  \n",
       "1327607                              Formula One 2001       93.750000  \n",
       "278967    Power Rangers Zeo Versus The Machine Empire       93.975904  \n",
       "7751800                    Naruto: Powerful Shippuden       94.117647  \n",
       "2809177                                      Baseball       94.117647  \n",
       "2926153                                      Fantasia       94.117647  \n",
       "900151                     Death Jr. II: Root of Evil       94.117647  "
      ]
     },
     "execution_count": 472,
     "metadata": {},
     "output_type": "execute_result"
    }
   ],
   "source": [
    "imdb_games.loc[imdb_games[\"best_fit_ratio\"] >= 93, [\"all_names_x\", \"best_fit_title\", \"best_fit_ratio\"]].sort_values(\"best_fit_ratio\").head(20)"
   ]
  },
  {
   "cell_type": "markdown",
   "metadata": {},
   "source": [
    "So at a 95% ratio I'm satisfied that the inaccuracies are completely minimal. If I was to assume a 92.5% ratio as a cutoff with an 85-90% accuracy, I can check how many of the results fall between 92.5% and 95% ratio:"
   ]
  },
  {
   "cell_type": "code",
   "execution_count": 566,
   "metadata": {},
   "outputs": [
    {
     "data": {
      "text/plain": [
       "41"
      ]
     },
     "execution_count": 566,
     "metadata": {},
     "output_type": "execute_result"
    }
   ],
   "source": [
    "imdb_games.tconst[(imdb_games[\"best_fit_ratio\"] >= 92.5) & (imdb_games[\"best_fit_ratio\"] < 95)].count()"
   ]
  },
  {
   "cell_type": "markdown",
   "metadata": {},
   "source": [
    "There's only 41 results that fall in the 93-95% ratio mark. Assuming an 85 - 90% accuracy, this would indicate only about 5 or 6 of the records would be inaccurate. I think it is therefore safe to include them in the dataset and will set the ratio for matching at 92.5%. With this in mind we can see how many of the games will be part of a franchise and which will be considered independent games. "
   ]
  },
  {
   "cell_type": "code",
   "execution_count": 479,
   "metadata": {
    "scrolled": true
   },
   "outputs": [
    {
     "data": {
      "text/plain": [
       "14384"
      ]
     },
     "execution_count": 479,
     "metadata": {},
     "output_type": "execute_result"
    }
   ],
   "source": [
    "imdb_games.tconst.count()"
   ]
  },
  {
   "cell_type": "code",
   "execution_count": 480,
   "metadata": {},
   "outputs": [
    {
     "data": {
      "text/plain": [
       "8603"
      ]
     },
     "execution_count": 480,
     "metadata": {},
     "output_type": "execute_result"
    }
   ],
   "source": [
    "imdb_games.tconst[imdb_games[\"best_fit_ratio\"] >= 92.5].count()"
   ]
  },
  {
   "cell_type": "code",
   "execution_count": 481,
   "metadata": {
    "scrolled": true
   },
   "outputs": [
    {
     "data": {
      "text/plain": [
       "5781"
      ]
     },
     "execution_count": 481,
     "metadata": {},
     "output_type": "execute_result"
    }
   ],
   "source": [
    "imdb_games.tconst[imdb_games[\"best_fit_ratio\"] < 92.5].count()"
   ]
  },
  {
   "cell_type": "markdown",
   "metadata": {},
   "source": [
    "We can create a histogram that will show the distribution of the matching ratios."
   ]
  },
  {
   "cell_type": "code",
   "execution_count": 477,
   "metadata": {},
   "outputs": [
    {
     "data": {
      "text/plain": [
       "<AxesSubplot:>"
      ]
     },
     "execution_count": 477,
     "metadata": {},
     "output_type": "execute_result"
    },
    {
     "data": {
      "image/png": "[encoded data removed]",
      "text/plain": [
       "<Figure size 432x288 with 1 Axes>"
      ]
     },
     "metadata": {
      "needs_background": "light"
     },
     "output_type": "display_data"
    }
   ],
   "source": [
    "imdb_games[\"best_fit_ratio\"].hist(bins=100)"
   ]
  },
  {
   "cell_type": "markdown",
   "metadata": {},
   "source": [
    "We can see that we have a lot of values for 85, 90 and 100% matches. We've already ascertained that 90% does not seem to give accurate enough results. We are going to set the ratio at 92.5% (note, that this is done in the cell at the start of the notebook), which should be the best balance for accuracy. Now we remove any data from the merged columns where the ratio was below 92.5%"
   ]
  },
  {
   "cell_type": "code",
   "execution_count": 567,
   "metadata": {},
   "outputs": [],
   "source": [
    "def remove_nonmatches(row):\n",
    "    if row.best_fit_ratio < considered_best_fit_ratio:\n",
    "        row.best_fit_game_id = np.nan\n",
    "        row.game_id = np.nan\n",
    "        row.franchise_id = np.nan\n",
    "        row.developers = np.nan\n",
    "        row.genres_y = np.nan\n",
    "        row.platforms = np.nan\n",
    "        row.publishers = np.nan\n",
    "        row.rating = np.nan\n",
    "    return row"
   ]
  },
  {
   "cell_type": "code",
   "execution_count": 568,
   "metadata": {},
   "outputs": [],
   "source": [
    "imdb_games = imdb_games.apply(remove_nonmatches, axis = 1)"
   ]
  },
  {
   "cell_type": "markdown",
   "metadata": {},
   "source": [
    "### AT THIS STAGE:\n",
    "\n",
    "All the games with a very similar match ratio (92.5%) have the relevant franchise_ids applied to their data. The next thing to do will be to extract the franchise_ids match each franchise_id with the franchise name. To do this we need to import the franchise_dataframe"
   ]
  },
  {
   "cell_type": "code",
   "execution_count": 484,
   "metadata": {},
   "outputs": [
    {
     "data": {
      "text/html": [
       "<div>\n",
       "<style scoped>\n",
       "    .dataframe tbody tr th:only-of-type {\n",
       "        vertical-align: middle;\n",
       "    }\n",
       "\n",
       "    .dataframe tbody tr th {\n",
       "        vertical-align: top;\n",
       "    }\n",
       "\n",
       "    .dataframe thead th {\n",
       "        text-align: right;\n",
       "    }\n",
       "</style>\n",
       "<table border=\"1\" class=\"dataframe\">\n",
       "  <thead>\n",
       "    <tr style=\"text-align: right;\">\n",
       "      <th></th>\n",
       "      <th>guid</th>\n",
       "      <th>name</th>\n",
       "      <th>description</th>\n",
       "    </tr>\n",
       "  </thead>\n",
       "  <tbody>\n",
       "    <tr>\n",
       "      <th>45</th>\n",
       "      <td>3025-4306</td>\n",
       "      <td>Bloodstained</td>\n",
       "      <td>NaN</td>\n",
       "    </tr>\n",
       "  </tbody>\n",
       "</table>\n",
       "</div>"
      ],
      "text/plain": [
       "         guid          name description\n",
       "45  3025-4306  Bloodstained         NaN"
      ]
     },
     "execution_count": 484,
     "metadata": {},
     "output_type": "execute_result"
    }
   ],
   "source": [
    "franchise_df = pd.read_csv(\"clean_franchise_ids.csv\", index_col = 0)\n",
    "franchise_df.sample()"
   ]
  },
  {
   "cell_type": "code",
   "execution_count": 485,
   "metadata": {},
   "outputs": [
    {
     "data": {
      "text/html": [
       "<div>\n",
       "<style scoped>\n",
       "    .dataframe tbody tr th:only-of-type {\n",
       "        vertical-align: middle;\n",
       "    }\n",
       "\n",
       "    .dataframe tbody tr th {\n",
       "        vertical-align: top;\n",
       "    }\n",
       "\n",
       "    .dataframe thead th {\n",
       "        text-align: right;\n",
       "    }\n",
       "</style>\n",
       "<table border=\"1\" class=\"dataframe\">\n",
       "  <thead>\n",
       "    <tr style=\"text-align: right;\">\n",
       "      <th></th>\n",
       "      <th>guid</th>\n",
       "      <th>name</th>\n",
       "      <th>description</th>\n",
       "    </tr>\n",
       "  </thead>\n",
       "  <tbody>\n",
       "    <tr>\n",
       "      <th>42</th>\n",
       "      <td>3025-5317</td>\n",
       "      <td>Among Us</td>\n",
       "      <td>NaN</td>\n",
       "    </tr>\n",
       "  </tbody>\n",
       "</table>\n",
       "</div>"
      ],
      "text/plain": [
       "         guid      name description\n",
       "42  3025-5317  Among Us         NaN"
      ]
     },
     "execution_count": 485,
     "metadata": {},
     "output_type": "execute_result"
    }
   ],
   "source": [
    "franchise_df.sample()"
   ]
  },
  {
   "cell_type": "code",
   "execution_count": 486,
   "metadata": {},
   "outputs": [
    {
     "data": {
      "text/html": [
       "<div>\n",
       "<style scoped>\n",
       "    .dataframe tbody tr th:only-of-type {\n",
       "        vertical-align: middle;\n",
       "    }\n",
       "\n",
       "    .dataframe tbody tr th {\n",
       "        vertical-align: top;\n",
       "    }\n",
       "\n",
       "    .dataframe thead th {\n",
       "        text-align: right;\n",
       "    }\n",
       "</style>\n",
       "<table border=\"1\" class=\"dataframe\">\n",
       "  <thead>\n",
       "    <tr style=\"text-align: right;\">\n",
       "      <th></th>\n",
       "      <th>tconst</th>\n",
       "      <th>titleType</th>\n",
       "      <th>primaryTitle</th>\n",
       "      <th>originalTitle</th>\n",
       "      <th>isAdult</th>\n",
       "      <th>startYear</th>\n",
       "      <th>genres_x</th>\n",
       "      <th>averageRating</th>\n",
       "      <th>numVotes</th>\n",
       "      <th>all_names_x</th>\n",
       "      <th>best_fit_title</th>\n",
       "      <th>best_fit_ratio</th>\n",
       "      <th>best_fit_game_id</th>\n",
       "      <th>game_id</th>\n",
       "      <th>franchise_id</th>\n",
       "      <th>name</th>\n",
       "      <th>release_year</th>\n",
       "      <th>developers</th>\n",
       "      <th>genres_y</th>\n",
       "      <th>platforms</th>\n",
       "      <th>publishers</th>\n",
       "      <th>rating</th>\n",
       "    </tr>\n",
       "  </thead>\n",
       "  <tbody>\n",
       "    <tr>\n",
       "      <th>368340</th>\n",
       "      <td>tt0384475</td>\n",
       "      <td>videoGame</td>\n",
       "      <td>Mega Man X7</td>\n",
       "      <td>Rockman X7</td>\n",
       "      <td>0</td>\n",
       "      <td>2003</td>\n",
       "      <td>Action,Drama,Mystery</td>\n",
       "      <td>4.4</td>\n",
       "      <td>221.0</td>\n",
       "      <td>Rockman X7</td>\n",
       "      <td>Rockman X7</td>\n",
       "      <td>100.0</td>\n",
       "      <td>15563.0</td>\n",
       "      <td>12781.0</td>\n",
       "      <td>[3025-524, 3025-523]</td>\n",
       "      <td>Mega Man X7</td>\n",
       "      <td>0</td>\n",
       "      <td>['Capcom Production Studio 3']</td>\n",
       "      <td>['Action', 'Platformer']</td>\n",
       "      <td>['PlayStation 2', 'PC']</td>\n",
       "      <td>['Capcom']</td>\n",
       "      <td>['ESRB: E', 'PEGI: 3+']</td>\n",
       "    </tr>\n",
       "  </tbody>\n",
       "</table>\n",
       "</div>"
      ],
      "text/plain": [
       "           tconst  titleType primaryTitle originalTitle  isAdult startYear  \\\n",
       "368340  tt0384475  videoGame  Mega Man X7    Rockman X7        0      2003   \n",
       "\n",
       "                    genres_x  averageRating  numVotes all_names_x  \\\n",
       "368340  Action,Drama,Mystery            4.4     221.0  Rockman X7   \n",
       "\n",
       "       best_fit_title  best_fit_ratio  best_fit_game_id  game_id  \\\n",
       "368340     Rockman X7           100.0           15563.0  12781.0   \n",
       "\n",
       "                franchise_id         name release_year  \\\n",
       "368340  [3025-524, 3025-523]  Mega Man X7            0   \n",
       "\n",
       "                            developers                  genres_y  \\\n",
       "368340  ['Capcom Production Studio 3']  ['Action', 'Platformer']   \n",
       "\n",
       "                      platforms  publishers                   rating  \n",
       "368340  ['PlayStation 2', 'PC']  ['Capcom']  ['ESRB: E', 'PEGI: 3+']  "
      ]
     },
     "execution_count": 486,
     "metadata": {},
     "output_type": "execute_result"
    }
   ],
   "source": [
    "imdb_games.sample()"
   ]
  },
  {
   "cell_type": "code",
   "execution_count": 569,
   "metadata": {},
   "outputs": [
    {
     "data": {
      "text/html": [
       "<div>\n",
       "<style scoped>\n",
       "    .dataframe tbody tr th:only-of-type {\n",
       "        vertical-align: middle;\n",
       "    }\n",
       "\n",
       "    .dataframe tbody tr th {\n",
       "        vertical-align: top;\n",
       "    }\n",
       "\n",
       "    .dataframe thead th {\n",
       "        text-align: right;\n",
       "    }\n",
       "</style>\n",
       "<table border=\"1\" class=\"dataframe\">\n",
       "  <thead>\n",
       "    <tr style=\"text-align: right;\">\n",
       "      <th></th>\n",
       "      <th>tconst</th>\n",
       "      <th>titleType</th>\n",
       "      <th>primaryTitle</th>\n",
       "      <th>originalTitle</th>\n",
       "      <th>isAdult</th>\n",
       "      <th>startYear</th>\n",
       "      <th>genres_x</th>\n",
       "      <th>averageRating</th>\n",
       "      <th>numVotes</th>\n",
       "      <th>all_names_x</th>\n",
       "      <th>best_fit_title</th>\n",
       "      <th>best_fit_ratio</th>\n",
       "      <th>best_fit_game_id</th>\n",
       "      <th>game_id</th>\n",
       "      <th>franchise_id</th>\n",
       "      <th>name_x</th>\n",
       "      <th>release_year</th>\n",
       "      <th>developers</th>\n",
       "      <th>genres_y</th>\n",
       "      <th>platforms</th>\n",
       "      <th>publishers</th>\n",
       "      <th>rating</th>\n",
       "      <th>guid</th>\n",
       "      <th>name_y</th>\n",
       "      <th>description</th>\n",
       "    </tr>\n",
       "  </thead>\n",
       "  <tbody>\n",
       "    <tr>\n",
       "      <th>11891</th>\n",
       "      <td>tt2531922</td>\n",
       "      <td>videoGame</td>\n",
       "      <td>Mickey Mouse</td>\n",
       "      <td>Mickey Mouse</td>\n",
       "      <td>0</td>\n",
       "      <td>1981</td>\n",
       "      <td>\\N</td>\n",
       "      <td>7.7</td>\n",
       "      <td>10.0</td>\n",
       "      <td>Mickey Mouse</td>\n",
       "      <td>Mickey Mouse</td>\n",
       "      <td>100.0</td>\n",
       "      <td>15876.0</td>\n",
       "      <td>13023.0</td>\n",
       "      <td>3025-535</td>\n",
       "      <td>Mickey Mouse</td>\n",
       "      <td>0</td>\n",
       "      <td>['Kemco']</td>\n",
       "      <td>['Action', 'Platformer']</td>\n",
       "      <td>['Game Boy']</td>\n",
       "      <td>['Kemco']</td>\n",
       "      <td>NaN</td>\n",
       "      <td>3025-535</td>\n",
       "      <td>Mickey Mouse</td>\n",
       "      <td>&lt;h2&gt;Overview&lt;/h2&gt;Mickey Mouse is a cartoon character created by world-famous animator Walt Disney, in collaboration with his friend and business partner Ub Iwerks. Mickey was created to replace the earlier character of Oswald the Lucky Rabbit, who Disney's team did not control the rights to. With Mickey, Disney held onto the copyright and the intellectual property rights, so was able to spin the character out into a successful franchise.&lt;br/&gt;&lt;br/&gt;In fact, Mickey Mouse is one of the &lt;em&gt;most&lt;/em&gt; successful franchises of the 20th century. Aside from appearing in the first commercial successful \"animated talkie\", Mickey has been seen in dozens of other cartoons, numerous books, appeared in all of Disney's Resort locations and has been merchandised extensively. Mickey has appeared as everything from a cuddly toy to a wristwatch.&lt;br/&gt;&lt;br/&gt;As part of the line of Mickey Mouse merchandise, DIsney have released a number of different Mickey-themed games, ranging from role-playing games to classic side-scrolling platformers.</td>\n",
       "    </tr>\n",
       "  </tbody>\n",
       "</table>\n",
       "</div>"
      ],
      "text/plain": [
       "          tconst  titleType  primaryTitle originalTitle  isAdult startYear  \\\n",
       "11891  tt2531922  videoGame  Mickey Mouse  Mickey Mouse        0      1981   \n",
       "\n",
       "      genres_x  averageRating  numVotes   all_names_x best_fit_title  \\\n",
       "11891       \\N            7.7      10.0  Mickey Mouse   Mickey Mouse   \n",
       "\n",
       "       best_fit_ratio  best_fit_game_id  game_id franchise_id        name_x  \\\n",
       "11891           100.0           15876.0  13023.0     3025-535  Mickey Mouse   \n",
       "\n",
       "      release_year developers                  genres_y     platforms  \\\n",
       "11891            0  ['Kemco']  ['Action', 'Platformer']  ['Game Boy']   \n",
       "\n",
       "      publishers rating      guid        name_y  \\\n",
       "11891  ['Kemco']    NaN  3025-535  Mickey Mouse   \n",
       "\n",
       "                                                                                                                                                                                                                                                                                                                                                                                                                                                                                                                                                                                                                                                                                                                                                                                                                                                                                                                                                                                                                                                                  description  \n",
       "11891  <h2>Overview</h2>Mickey Mouse is a cartoon character created by world-famous animator Walt Disney, in collaboration with his friend and business partner Ub Iwerks. Mickey was created to replace the earlier character of Oswald the Lucky Rabbit, who Disney's team did not control the rights to. With Mickey, Disney held onto the copyright and the intellectual property rights, so was able to spin the character out into a successful franchise.<br/><br/>In fact, Mickey Mouse is one of the <em>most</em> successful franchises of the 20th century. Aside from appearing in the first commercial successful \"animated talkie\", Mickey has been seen in dozens of other cartoons, numerous books, appeared in all of Disney's Resort locations and has been merchandised extensively. Mickey has appeared as everything from a cuddly toy to a wristwatch.<br/><br/>As part of the line of Mickey Mouse merchandise, DIsney have released a number of different Mickey-themed games, ranging from role-playing games to classic side-scrolling platformers.  "
      ]
     },
     "execution_count": 569,
     "metadata": {},
     "output_type": "execute_result"
    }
   ],
   "source": [
    "imdb_games = imdb_games.explode(\"franchise_id\")\n",
    "imdb_games = pd.merge(imdb_games, franchise_df, left_on=\"franchise_id\", right_on=\"guid\", how=\"left\")\n",
    "imdb_games.sample()"
   ]
  },
  {
   "cell_type": "markdown",
   "metadata": {},
   "source": [
    "Convert the genres_x to a list"
   ]
  },
  {
   "cell_type": "code",
   "execution_count": 571,
   "metadata": {},
   "outputs": [],
   "source": [
    "imdb_games[\"genres_x\"] = imdb_games[\"genres_x\"].apply(lambda x: x.split(\",\"))"
   ]
  },
  {
   "cell_type": "code",
   "execution_count": 615,
   "metadata": {},
   "outputs": [
    {
     "data": {
      "text/plain": [
       "list"
      ]
     },
     "execution_count": 615,
     "metadata": {},
     "output_type": "execute_result"
    }
   ],
   "source": [
    "type(imdb_games.genres_y.iloc[2])"
   ]
  },
  {
   "cell_type": "code",
   "execution_count": 614,
   "metadata": {},
   "outputs": [],
   "source": [
    "#This line may or may not be needed depending on whether the type listed above is str or list (which will depend on how the dataframe was loaded)\n",
    "imdb_games['genres_y'] = imdb_games[\"genres_y\"].apply(lambda row: ast.literal_eval(row) if pd.notna(row) else np.nan)"
   ]
  },
  {
   "cell_type": "markdown",
   "metadata": {},
   "source": [
    "Combine the genres columns and drop the extra one. Remove duplicates from each cell"
   ]
  },
  {
   "cell_type": "code",
   "execution_count": 616,
   "metadata": {},
   "outputs": [],
   "source": [
    "imdb_games[\"genres_x\"] = imdb_games[\"genres_x\"] + imdb_games[\"genres_y\"].fillna(\"\").apply(list)\n",
    "imdb_games = imdb_games.drop(\"genres_y\", axis = 1)\n",
    "imdb_games = imdb_games.rename(columns = {\"genres_x\": \"genres\"})"
   ]
  },
  {
   "cell_type": "code",
   "execution_count": 631,
   "metadata": {},
   "outputs": [],
   "source": [
    "imdb_games['genres'] = imdb_games['genres'].apply(lambda x: list(set(x)))"
   ]
  },
  {
   "cell_type": "code",
   "execution_count": 623,
   "metadata": {},
   "outputs": [],
   "source": [
    "cp = imdb_games.copy(deep=True)"
   ]
  },
  {
   "cell_type": "code",
   "execution_count": 632,
   "metadata": {},
   "outputs": [
    {
     "data": {
      "text/html": [
       "<div>\n",
       "<style scoped>\n",
       "    .dataframe tbody tr th:only-of-type {\n",
       "        vertical-align: middle;\n",
       "    }\n",
       "\n",
       "    .dataframe tbody tr th {\n",
       "        vertical-align: top;\n",
       "    }\n",
       "\n",
       "    .dataframe thead th {\n",
       "        text-align: right;\n",
       "    }\n",
       "</style>\n",
       "<table border=\"1\" class=\"dataframe\">\n",
       "  <thead>\n",
       "    <tr style=\"text-align: right;\">\n",
       "      <th></th>\n",
       "      <th>tconst</th>\n",
       "      <th>titleType</th>\n",
       "      <th>primaryTitle</th>\n",
       "      <th>isAdult</th>\n",
       "      <th>startYear</th>\n",
       "      <th>genres</th>\n",
       "      <th>averageRating</th>\n",
       "      <th>numVotes</th>\n",
       "      <th>best_fit_ratio</th>\n",
       "      <th>game_id</th>\n",
       "      <th>franchise_id</th>\n",
       "      <th>developers</th>\n",
       "      <th>platforms</th>\n",
       "      <th>publishers</th>\n",
       "      <th>rating</th>\n",
       "      <th>name_y</th>\n",
       "    </tr>\n",
       "  </thead>\n",
       "  <tbody>\n",
       "    <tr>\n",
       "      <th>6697</th>\n",
       "      <td>tt11902930</td>\n",
       "      <td>videoGame</td>\n",
       "      <td>Overland</td>\n",
       "      <td>0</td>\n",
       "      <td>2019</td>\n",
       "      <td>[Adventure, Action, Sci-Fi]</td>\n",
       "      <td>6.6</td>\n",
       "      <td>8.0</td>\n",
       "      <td>84.0</td>\n",
       "      <td>NaN</td>\n",
       "      <td>NaN</td>\n",
       "      <td>NaN</td>\n",
       "      <td>NaN</td>\n",
       "      <td>NaN</td>\n",
       "      <td>NaN</td>\n",
       "      <td>NaN</td>\n",
       "    </tr>\n",
       "  </tbody>\n",
       "</table>\n",
       "</div>"
      ],
      "text/plain": [
       "          tconst  titleType primaryTitle  isAdult startYear  \\\n",
       "6697  tt11902930  videoGame     Overland        0      2019   \n",
       "\n",
       "                           genres  averageRating  numVotes  best_fit_ratio  \\\n",
       "6697  [Adventure, Action, Sci-Fi]            6.6       8.0            84.0   \n",
       "\n",
       "      game_id franchise_id developers platforms publishers rating name_y  \n",
       "6697      NaN          NaN        NaN       NaN        NaN    NaN    NaN  "
      ]
     },
     "execution_count": 632,
     "metadata": {},
     "output_type": "execute_result"
    }
   ],
   "source": [
    "imdb_games.sample()"
   ]
  },
  {
   "cell_type": "code",
   "execution_count": 629,
   "metadata": {},
   "outputs": [],
   "source": [
    "#Drop unnecessary columns\n",
    "imdb_games =imdb_games.drop([\"originalTitle\", \"all_names_x\", \"best_fit_title\", \"best_fit_game_id\", \"name_x\", \"release_year\", \"description\", \"guid\"],  axis = 1)"
   ]
  },
  {
   "cell_type": "code",
   "execution_count": 633,
   "metadata": {},
   "outputs": [],
   "source": [
    "#Rename franchise_name column\n",
    "imdb_games = imdb_games.rename(columns = {\"name_y\": \"franchise_name\"})"
   ]
  },
  {
   "cell_type": "code",
   "execution_count": 634,
   "metadata": {},
   "outputs": [
    {
     "data": {
      "text/html": [
       "<div>\n",
       "<style scoped>\n",
       "    .dataframe tbody tr th:only-of-type {\n",
       "        vertical-align: middle;\n",
       "    }\n",
       "\n",
       "    .dataframe tbody tr th {\n",
       "        vertical-align: top;\n",
       "    }\n",
       "\n",
       "    .dataframe thead th {\n",
       "        text-align: right;\n",
       "    }\n",
       "</style>\n",
       "<table border=\"1\" class=\"dataframe\">\n",
       "  <thead>\n",
       "    <tr style=\"text-align: right;\">\n",
       "      <th></th>\n",
       "      <th>franchise_name</th>\n",
       "      <th>franchise_id</th>\n",
       "      <th>tconst</th>\n",
       "      <th>titleType</th>\n",
       "      <th>primaryTitle</th>\n",
       "      <th>startYear</th>\n",
       "      <th>isAdult</th>\n",
       "      <th>averageRating</th>\n",
       "      <th>numVotes</th>\n",
       "      <th>game_id</th>\n",
       "      <th>best_fit_ratio</th>\n",
       "      <th>genres</th>\n",
       "      <th>developers</th>\n",
       "      <th>platforms</th>\n",
       "      <th>publishers</th>\n",
       "      <th>rating</th>\n",
       "    </tr>\n",
       "  </thead>\n",
       "  <tbody>\n",
       "    <tr>\n",
       "      <th>15600</th>\n",
       "      <td>Pathfinder</td>\n",
       "      <td>3025-3911</td>\n",
       "      <td>tt7060582</td>\n",
       "      <td>videoGame</td>\n",
       "      <td>Pathfinder: Kingmaker</td>\n",
       "      <td>2018</td>\n",
       "      <td>0</td>\n",
       "      <td>7.2</td>\n",
       "      <td>127.0</td>\n",
       "      <td>15380.0</td>\n",
       "      <td>100.0</td>\n",
       "      <td>[Adventure, Action, Role-Playing, Fantasy]</td>\n",
       "      <td>['Owlcat Games']</td>\n",
       "      <td>['Mac', 'PC', 'Xbox One', 'PlayStation 4', 'Linux']</td>\n",
       "      <td>['Deep Silver']</td>\n",
       "      <td>NaN</td>\n",
       "    </tr>\n",
       "  </tbody>\n",
       "</table>\n",
       "</div>"
      ],
      "text/plain": [
       "      franchise_name franchise_id     tconst  titleType  \\\n",
       "15600     Pathfinder    3025-3911  tt7060582  videoGame   \n",
       "\n",
       "                primaryTitle startYear  isAdult  averageRating  numVotes  \\\n",
       "15600  Pathfinder: Kingmaker      2018        0            7.2     127.0   \n",
       "\n",
       "       game_id  best_fit_ratio                                      genres  \\\n",
       "15600  15380.0           100.0  [Adventure, Action, Role-Playing, Fantasy]   \n",
       "\n",
       "             developers                                            platforms  \\\n",
       "15600  ['Owlcat Games']  ['Mac', 'PC', 'Xbox One', 'PlayStation 4', 'Linux']   \n",
       "\n",
       "            publishers rating  \n",
       "15600  ['Deep Silver']    NaN  "
      ]
     },
     "execution_count": 634,
     "metadata": {},
     "output_type": "execute_result"
    }
   ],
   "source": [
    "# Rearrange the titles of the columns so the columns are in a better order:\n",
    "imdb_games = imdb_games[[\"franchise_name\", \"franchise_id\", \"tconst\", \"titleType\", \"primaryTitle\", \"startYear\", \"isAdult\", \"averageRating\", \"numVotes\", \"game_id\", \"best_fit_ratio\", \"genres\", \"developers\", \"platforms\", \"publishers\", \"rating\"]]\n",
    "imdb_games.sample()"
   ]
  },
  {
   "cell_type": "markdown",
   "metadata": {},
   "source": [
    "Export the clean dataset to csv"
   ]
  },
  {
   "cell_type": "code",
   "execution_count": 635,
   "metadata": {},
   "outputs": [],
   "source": [
    "imdb_games.to_csv(\"clean_games_with_franchises.csv\")"
   ]
  },
  {
   "cell_type": "markdown",
   "metadata": {},
   "source": [
    "# DONE TO HERE"
   ]
  },
  {
   "cell_type": "code",
   "execution_count": 337,
   "metadata": {},
   "outputs": [
    {
     "data": {
      "text/plain": [
       "2073"
      ]
     },
     "execution_count": 337,
     "metadata": {},
     "output_type": "execute_result"
    }
   ],
   "source": [
    "copy_of_imdb_games2.guid.nunique()"
   ]
  },
  {
   "cell_type": "code",
   "execution_count": 319,
   "metadata": {
    "scrolled": true
   },
   "outputs": [
    {
     "data": {
      "text/plain": [
       "list"
      ]
     },
     "execution_count": 319,
     "metadata": {},
     "output_type": "execute_result"
    }
   ],
   "source": [
    "type(copy_of_imdb_games.genres_y.iloc[])"
   ]
  },
  {
   "cell_type": "code",
   "execution_count": null,
   "metadata": {},
   "outputs": [],
   "source": []
  },
  {
   "cell_type": "code",
   "execution_count": null,
   "metadata": {},
   "outputs": [],
   "source": [
    "#UNUSED  TO DELETE ##\n",
    "copy_of_imdb_games2[((copy_of_imdb_games2['release_year'] != copy_of_imdb_games2['startYear']) & (copy_of_imdb_games2['release_year'] != \"0\"))].sort_values(\"tconst\")"
   ]
  },
  {
   "cell_type": "markdown",
   "metadata": {},
   "source": [
    "Merge any that have the same title and year"
   ]
  },
  {
   "cell_type": "code",
   "execution_count": 22,
   "metadata": {
    "scrolled": true
   },
   "outputs": [
    {
     "data": {
      "text/plain": [
       "664"
      ]
     },
     "execution_count": 22,
     "metadata": {},
     "output_type": "execute_result"
    }
   ],
   "source": [
    "merged_games = pd.merge(imdb_games, giantbomb_games, left_on=['primaryTitle', 'startYear'], right_on=['name', 'release_year'], how='left')\n",
    "merged_games.game_id.count()"
   ]
  },
  {
   "cell_type": "code",
   "execution_count": 23,
   "metadata": {},
   "outputs": [
    {
     "data": {
      "text/plain": [
       "683"
      ]
     },
     "execution_count": 23,
     "metadata": {},
     "output_type": "execute_result"
    }
   ],
   "source": [
    "additional_merged = pd.merge(imdb_games, giantbomb_games[~giantbomb_games.game_id.isin(merged_games.game_id)], left_on=['originalTitle', 'startYear'], right_on=['name', 'release_year'], how='inner')\n",
    "merged_games = pd.concat([merged_games, additional_merged], axis=0)\n",
    "merged_games.game_id.count()"
   ]
  },
  {
   "cell_type": "code",
   "execution_count": 393,
   "metadata": {
    "scrolled": true
   },
   "outputs": [
    {
     "data": {
      "text/html": [
       "<div>\n",
       "<style scoped>\n",
       "    .dataframe tbody tr th:only-of-type {\n",
       "        vertical-align: middle;\n",
       "    }\n",
       "\n",
       "    .dataframe tbody tr th {\n",
       "        vertical-align: top;\n",
       "    }\n",
       "\n",
       "    .dataframe thead th {\n",
       "        text-align: right;\n",
       "    }\n",
       "</style>\n",
       "<table border=\"1\" class=\"dataframe\">\n",
       "  <thead>\n",
       "    <tr style=\"text-align: right;\">\n",
       "      <th></th>\n",
       "      <th>tconst</th>\n",
       "      <th>titleType</th>\n",
       "      <th>primaryTitle</th>\n",
       "      <th>originalTitle</th>\n",
       "      <th>isAdult</th>\n",
       "      <th>startYear</th>\n",
       "      <th>endYear</th>\n",
       "      <th>runtimeMinutes</th>\n",
       "      <th>genres_x</th>\n",
       "      <th>averageRating</th>\n",
       "      <th>numVotes</th>\n",
       "      <th>akas</th>\n",
       "      <th>game_id</th>\n",
       "      <th>franchise_id</th>\n",
       "      <th>name</th>\n",
       "      <th>release_year</th>\n",
       "      <th>aliases</th>\n",
       "      <th>developers</th>\n",
       "      <th>genres_y</th>\n",
       "      <th>platforms</th>\n",
       "      <th>publishers</th>\n",
       "      <th>rating</th>\n",
       "    </tr>\n",
       "  </thead>\n",
       "  <tbody>\n",
       "    <tr>\n",
       "      <th>2604</th>\n",
       "      <td>tt10187046</td>\n",
       "      <td>videoGame</td>\n",
       "      <td>Cut the Rope: Experiments</td>\n",
       "      <td>Cut the Rope: Experiments</td>\n",
       "      <td>0</td>\n",
       "      <td>2011</td>\n",
       "      <td>\\N</td>\n",
       "      <td>\\N</td>\n",
       "      <td>Adventure,Animation</td>\n",
       "      <td>6.1</td>\n",
       "      <td>22.0</td>\n",
       "      <td>['Cut the Rope: Experiments']</td>\n",
       "      <td>NaN</td>\n",
       "      <td>NaN</td>\n",
       "      <td>NaN</td>\n",
       "      <td>NaN</td>\n",
       "      <td>NaN</td>\n",
       "      <td>NaN</td>\n",
       "      <td>NaN</td>\n",
       "      <td>NaN</td>\n",
       "      <td>NaN</td>\n",
       "      <td>NaN</td>\n",
       "    </tr>\n",
       "  </tbody>\n",
       "</table>\n",
       "</div>"
      ],
      "text/plain": [
       "          tconst  titleType               primaryTitle  \\\n",
       "2604  tt10187046  videoGame  Cut the Rope: Experiments   \n",
       "\n",
       "                  originalTitle  isAdult startYear endYear runtimeMinutes  \\\n",
       "2604  Cut the Rope: Experiments        0      2011      \\N             \\N   \n",
       "\n",
       "                 genres_x  averageRating  numVotes  \\\n",
       "2604  Adventure,Animation            6.1      22.0   \n",
       "\n",
       "                               akas  game_id franchise_id name release_year  \\\n",
       "2604  ['Cut the Rope: Experiments']      NaN          NaN  NaN          NaN   \n",
       "\n",
       "     aliases developers genres_y platforms publishers rating  \n",
       "2604     NaN        NaN      NaN       NaN        NaN    NaN  "
      ]
     },
     "execution_count": 393,
     "metadata": {},
     "output_type": "execute_result"
    }
   ],
   "source": [
    "merged_games.sample()"
   ]
  },
  {
   "cell_type": "markdown",
   "metadata": {},
   "source": [
    "Cleaning the genres: - Convert to list."
   ]
  },
  {
   "cell_type": "code",
   "execution_count": 279,
   "metadata": {},
   "outputs": [
    {
     "data": {
      "text/plain": [
       "list"
      ]
     },
     "execution_count": 279,
     "metadata": {},
     "output_type": "execute_result"
    }
   ],
   "source": [
    "### UNUSED - TO REMOVE\n",
    "def remove_nested_lists(entry):\n",
    "    if pd.isna(entry):\n",
    "        return entry\n",
    "    else:\n",
    "        return ast.literal_eval(entry)\n",
    "\n",
    "copy_of_imdb_games[\"genres_y\"] = copy_of_imdb_games[\"genres_y\"].apply(lambda x: remove_nested_lists(x))\n",
    "\n",
    "type(copy_of_imdb_games.genres_y.iloc[0])\n"
   ]
  },
  {
   "cell_type": "code",
   "execution_count": null,
   "metadata": {
    "scrolled": true
   },
   "outputs": [],
   "source": [
    "giantbomb_games"
   ]
  },
  {
   "cell_type": "markdown",
   "metadata": {},
   "source": [
    "Having done this, we know that with any duplicates in our giantbomb, we'll have no way of distinguishing between them when it comes to combining them into our imdb dataset. If we try to combine by name, we'll be matching 2+ giantbomb games to a single imdb result. So we need to find a way to combine the giantbomb duplicates into a single entry. The other issue would be that we don't know from an imdb entry whether "
   ]
  },
  {
   "cell_type": "code",
   "execution_count": 387,
   "metadata": {},
   "outputs": [
    {
     "data": {
      "text/html": [
       "<div>\n",
       "<style scoped>\n",
       "    .dataframe tbody tr th:only-of-type {\n",
       "        vertical-align: middle;\n",
       "    }\n",
       "\n",
       "    .dataframe tbody tr th {\n",
       "        vertical-align: top;\n",
       "    }\n",
       "\n",
       "    .dataframe thead th {\n",
       "        text-align: right;\n",
       "    }\n",
       "</style>\n",
       "<table border=\"1\" class=\"dataframe\">\n",
       "  <thead>\n",
       "    <tr style=\"text-align: right;\">\n",
       "      <th></th>\n",
       "      <th>tconst</th>\n",
       "      <th>titleType</th>\n",
       "      <th>primaryTitle</th>\n",
       "      <th>originalTitle</th>\n",
       "      <th>isAdult</th>\n",
       "      <th>startYear</th>\n",
       "      <th>endYear</th>\n",
       "      <th>runtimeMinutes</th>\n",
       "      <th>genres</th>\n",
       "      <th>averageRating</th>\n",
       "      <th>numVotes</th>\n",
       "      <th>akas</th>\n",
       "      <th>all_names</th>\n",
       "      <th>best_matches</th>\n",
       "      <th>best_fit</th>\n",
       "      <th>best_fit_title</th>\n",
       "      <th>best_fit_ratio</th>\n",
       "      <th>best_fit_game_id</th>\n",
       "    </tr>\n",
       "  </thead>\n",
       "  <tbody>\n",
       "    <tr>\n",
       "      <th>5857686</th>\n",
       "      <td>tt2290547</td>\n",
       "      <td>videoGame</td>\n",
       "      <td>Ninja-kun: Majô no Bôken</td>\n",
       "      <td>Ninja-kun: Majô no Bôken</td>\n",
       "      <td>0</td>\n",
       "      <td>1984</td>\n",
       "      <td>\\N</td>\n",
       "      <td>\\N</td>\n",
       "      <td>Action,Fantasy</td>\n",
       "      <td>5.4</td>\n",
       "      <td>10.0</td>\n",
       "      <td>['忍者くん魔城の冒険', 'Ninja-kun: Adventure of Devil C...</td>\n",
       "      <td>忍者くん魔城の冒険</td>\n",
       "      <td>[(Zelda II\\nZelda 2: The Adventure of Link\\nTh...</td>\n",
       "      <td>(Zelda II\\nZelda 2: The Adventure of Link\\nThe...</td>\n",
       "      <td>Zelda II\\nZelda 2: The Adventure of Link\\nThe ...</td>\n",
       "      <td>30.0</td>\n",
       "      <td>30997</td>\n",
       "    </tr>\n",
       "  </tbody>\n",
       "</table>\n",
       "</div>"
      ],
      "text/plain": [
       "            tconst  titleType              primaryTitle  \\\n",
       "5857686  tt2290547  videoGame  Ninja-kun: Majô no Bôken   \n",
       "\n",
       "                    originalTitle  isAdult startYear endYear runtimeMinutes  \\\n",
       "5857686  Ninja-kun: Majô no Bôken        0      1984      \\N             \\N   \n",
       "\n",
       "                 genres  averageRating  numVotes  \\\n",
       "5857686  Action,Fantasy            5.4      10.0   \n",
       "\n",
       "                                                      akas  all_names  \\\n",
       "5857686  ['忍者くん魔城の冒険', 'Ninja-kun: Adventure of Devil C...  忍者くん魔城の冒険   \n",
       "\n",
       "                                              best_matches  \\\n",
       "5857686  [(Zelda II\\nZelda 2: The Adventure of Link\\nTh...   \n",
       "\n",
       "                                                  best_fit  \\\n",
       "5857686  (Zelda II\\nZelda 2: The Adventure of Link\\nThe...   \n",
       "\n",
       "                                            best_fit_title  best_fit_ratio  \\\n",
       "5857686  Zelda II\\nZelda 2: The Adventure of Link\\nThe ...            30.0   \n",
       "\n",
       "         best_fit_game_id  \n",
       "5857686             30997  "
      ]
     },
     "execution_count": 387,
     "metadata": {},
     "output_type": "execute_result"
    }
   ],
   "source": [
    "imdb_games.sample()"
   ]
  },
  {
   "cell_type": "code",
   "execution_count": 388,
   "metadata": {},
   "outputs": [
    {
     "data": {
      "text/html": [
       "<div>\n",
       "<style scoped>\n",
       "    .dataframe tbody tr th:only-of-type {\n",
       "        vertical-align: middle;\n",
       "    }\n",
       "\n",
       "    .dataframe tbody tr th {\n",
       "        vertical-align: top;\n",
       "    }\n",
       "\n",
       "    .dataframe thead th {\n",
       "        text-align: right;\n",
       "    }\n",
       "</style>\n",
       "<table border=\"1\" class=\"dataframe\">\n",
       "  <thead>\n",
       "    <tr style=\"text-align: right;\">\n",
       "      <th></th>\n",
       "      <th>game_id</th>\n",
       "      <th>franchise_id</th>\n",
       "      <th>name</th>\n",
       "      <th>release_year</th>\n",
       "      <th>aliases</th>\n",
       "      <th>developers</th>\n",
       "      <th>genres</th>\n",
       "      <th>platforms</th>\n",
       "      <th>publishers</th>\n",
       "      <th>rating</th>\n",
       "      <th>all_names</th>\n",
       "    </tr>\n",
       "  </thead>\n",
       "  <tbody>\n",
       "    <tr>\n",
       "      <th>22656</th>\n",
       "      <td>22656</td>\n",
       "      <td>[3025-1981]</td>\n",
       "      <td>Thinkin' Things Collection 2</td>\n",
       "      <td>1994</td>\n",
       "      <td>[nan]</td>\n",
       "      <td>['Edmark Corporation']</td>\n",
       "      <td>['Educational', 'Puzzle']</td>\n",
       "      <td>['Mac', 'PC']</td>\n",
       "      <td>['Edmark Corporation']</td>\n",
       "      <td>NaN</td>\n",
       "      <td>Thinkin' Things Collection 2</td>\n",
       "    </tr>\n",
       "  </tbody>\n",
       "</table>\n",
       "</div>"
      ],
      "text/plain": [
       "       game_id franchise_id                          name release_year  \\\n",
       "22656    22656  [3025-1981]  Thinkin' Things Collection 2         1994   \n",
       "\n",
       "      aliases              developers                     genres  \\\n",
       "22656   [nan]  ['Edmark Corporation']  ['Educational', 'Puzzle']   \n",
       "\n",
       "           platforms              publishers rating  \\\n",
       "22656  ['Mac', 'PC']  ['Edmark Corporation']    NaN   \n",
       "\n",
       "                          all_names  \n",
       "22656  Thinkin' Things Collection 2  "
      ]
     },
     "execution_count": 388,
     "metadata": {},
     "output_type": "execute_result"
    }
   ],
   "source": [
    "giantbomb_games.sample()"
   ]
  },
  {
   "cell_type": "code",
   "execution_count": null,
   "metadata": {},
   "outputs": [],
   "source": [
    "imdb_games[imdb_games.duplicated(subset = \"primaryTitle\", keep=False)]"
   ]
  },
  {
   "cell_type": "code",
   "execution_count": null,
   "metadata": {},
   "outputs": [],
   "source": [
    "#dups = giantbomb_games[giantbomb_games.duplicated(subset='name', keep=False)]\n",
    "#gb_duplicate_names = giantbomb_games[giantbomb_games.duplicated(subset='name', keep=False)] # all duplicate names\n",
    "helpme = giantbomb_games[~giantbomb_games.game_id.isin(imdb_games.game_id)]"
   ]
  },
  {
   "cell_type": "code",
   "execution_count": null,
   "metadata": {},
   "outputs": [],
   "source": [
    "helpme[helpme.duplicated(subset = \"name\", keep=False)]"
   ]
  },
  {
   "cell_type": "code",
   "execution_count": null,
   "metadata": {},
   "outputs": [],
   "source": [
    "gb_duplicate_names = giantbomb_games.duplicated(subset='name', keep=False)\n",
    "release_year_int = giantbomb_games['release_year'].astype(int).eq(0)\n",
    "giantbomb_games = giantbomb_games.loc[~(gb_duplicate_names & release_year_int)]"
   ]
  },
  {
   "cell_type": "code",
   "execution_count": null,
   "metadata": {},
   "outputs": [],
   "source": [
    "giantbomb_games.count()"
   ]
  },
  {
   "cell_type": "code",
   "execution_count": null,
   "metadata": {},
   "outputs": [],
   "source": [
    "type(gb_duplicates)"
   ]
  },
  {
   "cell_type": "markdown",
   "metadata": {},
   "source": [
    "Remove any duplicates from our giantbomb database where we have no record of the year of release"
   ]
  },
  {
   "cell_type": "code",
   "execution_count": null,
   "metadata": {},
   "outputs": [],
   "source": [
    "gb_duplicate_names = giantbomb_games.duplicated(subset='name', keep=False)\n",
    "release_year_int = giantbomb_games['release_year'].astype(int).eq(0)\n",
    "gb_duplicates = giantbomb_games.loc[gb_duplicate_names & release_year_int]\n",
    "#Having got all the duplicates with no release year, we'll drop them from the dataframe\n",
    "giantbomb_games = giantbomb_games[~giantbomb_games.index.isin(gb_duplicates.index)]"
   ]
  },
  {
   "cell_type": "code",
   "execution_count": null,
   "metadata": {},
   "outputs": [],
   "source": [
    "imdb_games = imdb_games[~imdb_games['tconst'].isin(imdb_duplicates['tconst'])]\n",
    "imdb_games.tconst.count()"
   ]
  },
  {
   "cell_type": "markdown",
   "metadata": {},
   "source": [
    "This leaves me with 13866 games in the imdb dataset to play with. The next step is to combine the imdb dataset with the giantbomb"
   ]
  },
  {
   "cell_type": "code",
   "execution_count": null,
   "metadata": {},
   "outputs": [],
   "source": [
    "giantbomb_games.name.count()"
   ]
  },
  {
   "cell_type": "code",
   "execution_count": null,
   "metadata": {
    "scrolled": true
   },
   "outputs": [],
   "source": [
    "giantbomb_games.name.nunique()"
   ]
  },
  {
   "cell_type": "markdown",
   "metadata": {},
   "source": [
    "The way I am going to do this is to first combine the rows where the year and name matches. Then combine any remaining rows where the name matches but the year doesn't match."
   ]
  },
  {
   "cell_type": "code",
   "execution_count": null,
   "metadata": {
    "scrolled": true
   },
   "outputs": [],
   "source": [
    "giantbomb_games[giantbomb_games[\"game_id\"] == 48320]"
   ]
  },
  {
   "cell_type": "code",
   "execution_count": null,
   "metadata": {},
   "outputs": [],
   "source": [
    "copy_of_imdb_games = imdb_games\n",
    "copy_of_giantbomb_games = giantbomb_games\n",
    "print(\"Total imdb:{}, Total giantbomb:{}\".format(copy_of_imdb_games.tconst.count(), copy_of_giantbomb_games.name.count()))"
   ]
  },
  {
   "cell_type": "markdown",
   "metadata": {},
   "source": [
    "First get all the games that have a matching title and year. Merge them and remove from the original databases so they can't be used again."
   ]
  },
  {
   "cell_type": "code",
   "execution_count": null,
   "metadata": {},
   "outputs": [],
   "source": [
    "mergedDF = pd.DataFrame()"
   ]
  },
  {
   "cell_type": "code",
   "execution_count": null,
   "metadata": {},
   "outputs": [],
   "source": [
    "mergedDF = pd.merge(copy_of_imdb_games, copy_of_giantbomb_games, left_on=[\"primaryTitle\", \"startYear\"], right_on=[\"name\", \"release_year\"], how=\"inner\")\n",
    "print(\"Total imdb: {}, Total giantbomb: {}, Total in df: {}\".format(copy_of_imdb_games.tconst.count(), copy_of_giantbomb_games.name.count(), mergedDF.tconst.count()))"
   ]
  },
  {
   "cell_type": "markdown",
   "metadata": {},
   "source": [
    "Now that we've matched the title and years, we'll drop any duplicates which contain years from the giantbomb data."
   ]
  },
  {
   "cell_type": "code",
   "execution_count": null,
   "metadata": {},
   "outputs": [],
   "source": [
    "copy_of_giantbomb_games = copy_of_giantbomb_games.drop_duplicates(\"name\", keep=False)"
   ]
  },
  {
   "cell_type": "code",
   "execution_count": null,
   "metadata": {},
   "outputs": [],
   "source": [
    "copied_imdb_mask = copy_of_imdb_games['tconst'].isin(mergedDF['tconst'])\n",
    "copied_giantbomb_mask = copy_of_giantbomb_games['game_id'].isin(mergedDF['game_id'])"
   ]
  },
  {
   "cell_type": "code",
   "execution_count": null,
   "metadata": {},
   "outputs": [],
   "source": [
    "copied_imdb_mask.value_counts()"
   ]
  },
  {
   "cell_type": "markdown",
   "metadata": {},
   "source": [
    "Now we have no duplicate names, we can attempt to match on just name, first with primaryTitle, then originalTitle"
   ]
  },
  {
   "cell_type": "code",
   "execution_count": null,
   "metadata": {},
   "outputs": [],
   "source": [
    "mergedDF2 = pd.merge(copy_of_imdb_games[~copied_imdb_mask], copy_of_giantbomb_games[~copied_giantbomb_mask], left_on=[\"primaryTitle\"], right_on=[\"name\"], how=\"inner\")\n",
    "mergedDF = pd.concat([mergedDF, mergedDF2], axis=0)"
   ]
  },
  {
   "cell_type": "code",
   "execution_count": null,
   "metadata": {},
   "outputs": [],
   "source": [
    "copied_imdb_mask = copy_of_imdb_games['tconst'].isin(mergedDF['tconst'])\n",
    "copied_giantbomb_mask = copy_of_giantbomb_games['game_id'].isin(mergedDF['game_id'])"
   ]
  },
  {
   "cell_type": "code",
   "execution_count": null,
   "metadata": {},
   "outputs": [],
   "source": [
    "copied_imdb_mask.value_counts()"
   ]
  },
  {
   "cell_type": "code",
   "execution_count": null,
   "metadata": {},
   "outputs": [],
   "source": [
    "mergedDF2 = pd.merge(copy_of_imdb_games[~copied_imdb_mask], copy_of_giantbomb_games[~copied_giantbomb_mask], left_on=[\"originalTitle\"], right_on=[\"name\"], how=\"inner\")\n",
    "mergedDF = pd.concat([mergedDF, mergedDF2], axis=0)"
   ]
  },
  {
   "cell_type": "code",
   "execution_count": null,
   "metadata": {},
   "outputs": [],
   "source": [
    "copied_imdb_mask = copy_of_imdb_games['tconst'].isin(mergedDF['tconst'])\n",
    "copied_giantbomb_mask = copy_of_giantbomb_games['game_id'].isin(mergedDF['game_id'])"
   ]
  },
  {
   "cell_type": "code",
   "execution_count": null,
   "metadata": {},
   "outputs": [],
   "source": [
    "copied_imdb_mask.value_counts()"
   ]
  },
  {
   "cell_type": "code",
   "execution_count": null,
   "metadata": {},
   "outputs": [],
   "source": [
    "copied_giantbomb_mask.value_counts()"
   ]
  },
  {
   "cell_type": "markdown",
   "metadata": {},
   "source": [
    "Now, check every possible alias in the giantbomb dataframe for a direct match."
   ]
  },
  {
   "cell_type": "code",
   "execution_count": null,
   "metadata": {},
   "outputs": [],
   "source": [
    "#Explode the aliases\n",
    "copy_of_giantbomb_games = copy_of_giantbomb_games.explode(\"aliases\")"
   ]
  },
  {
   "cell_type": "code",
   "execution_count": null,
   "metadata": {},
   "outputs": [],
   "source": [
    "mergedDF2 = pd.merge(copy_of_imdb_games[~copied_imdb_mask], copy_of_giantbomb_games[~copied_giantbomb_mask], left_on=[\"primaryTitle\"], right_on=[\"aliases\"], how=\"inner\")\n",
    "mergedDF = pd.concat([mergedDF, mergedDF2], axis=0)"
   ]
  },
  {
   "cell_type": "code",
   "execution_count": null,
   "metadata": {},
   "outputs": [],
   "source": [
    "copied_imdb_mask = copy_of_imdb_games['tconst'].isin(mergedDF['tconst'])\n",
    "copied_giantbomb_mask = copy_of_giantbomb_games['game_id'].isin(mergedDF['game_id'])"
   ]
  },
  {
   "cell_type": "code",
   "execution_count": null,
   "metadata": {},
   "outputs": [],
   "source": [
    "copied_imdb_mask.value_counts()"
   ]
  },
  {
   "cell_type": "code",
   "execution_count": null,
   "metadata": {
    "scrolled": true
   },
   "outputs": [],
   "source": [
    "copied_giantbomb_mask.value_counts()"
   ]
  },
  {
   "cell_type": "code",
   "execution_count": null,
   "metadata": {},
   "outputs": [],
   "source": [
    "mergedDF2 = pd.merge(copy_of_imdb_games[~copied_imdb_mask], copy_of_giantbomb_games[~copied_giantbomb_mask], left_on=[\"originalTitle\"], right_on=[\"aliases\"], how=\"inner\")\n",
    "mergedDF = pd.concat([mergedDF, mergedDF2], axis=0)"
   ]
  },
  {
   "cell_type": "code",
   "execution_count": null,
   "metadata": {},
   "outputs": [],
   "source": [
    "copied_imdb_mask = copy_of_imdb_games['tconst'].isin(mergedDF['tconst'])\n",
    "copied_giantbomb_mask = copy_of_giantbomb_games['game_id'].isin(mergedDF['game_id'])"
   ]
  },
  {
   "cell_type": "code",
   "execution_count": null,
   "metadata": {},
   "outputs": [],
   "source": [
    "copied_imdb_mask.value_counts()"
   ]
  },
  {
   "cell_type": "code",
   "execution_count": null,
   "metadata": {},
   "outputs": [],
   "source": [
    "copied_giantbomb_mask.value_counts()"
   ]
  },
  {
   "cell_type": "code",
   "execution_count": null,
   "metadata": {},
   "outputs": [],
   "source": [
    "\n",
    "copy_of_imdb_games['primaryTitle'] = copy_of_imdb_games['primaryTitle'].str.lower()\n",
    "copy_of_imdb_games['originalTitle'] = copy_of_imdb_games['originalTitle'].str.lower()\n",
    "\n",
    "copy_of_giantbomb_games['name'] = copy_of_giantbomb_games['name'].str.lower()\n",
    "copy_of_giantbomb_games['aliases'] = copy_of_giantbomb_games['aliases'].str.lower()"
   ]
  },
  {
   "cell_type": "code",
   "execution_count": null,
   "metadata": {},
   "outputs": [],
   "source": []
  },
  {
   "cell_type": "code",
   "execution_count": null,
   "metadata": {},
   "outputs": [],
   "source": [
    "mergedDF2 = pd.merge(copy_of_imdb_games[~copied_imdb_mask], copy_of_giantbomb_games[~copied_giantbomb_mask], left_on=[\"primaryTitle\"], right_on=[\"name\"], how=\"inner\")\n",
    "mergedDF = pd.concat([mergedDF, mergedDF2], axis=0)\n",
    "copied_imdb_mask = copy_of_imdb_games['tconst'].isin(mergedDF['tconst'])\n",
    "copied_giantbomb_mask = copy_of_giantbomb_games['game_id'].isin(mergedDF['game_id'])"
   ]
  },
  {
   "cell_type": "code",
   "execution_count": null,
   "metadata": {},
   "outputs": [],
   "source": [
    "mergedDF2 = pd.merge(copy_of_imdb_games[~copied_imdb_mask], copy_of_giantbomb_games[~copied_giantbomb_mask], left_on=[\"originalTitle\"], right_on=[\"name\"], how=\"inner\")\n",
    "mergedDF = pd.concat([mergedDF, mergedDF2], axis=0)\n",
    "copied_imdb_mask = copy_of_imdb_games['tconst'].isin(mergedDF['tconst'])\n",
    "copied_giantbomb_mask = copy_of_giantbomb_games['game_id'].isin(mergedDF['game_id'])\n",
    "print(copied_imdb_mask.value_counts())"
   ]
  },
  {
   "cell_type": "code",
   "execution_count": null,
   "metadata": {},
   "outputs": [],
   "source": [
    "mergedDF2 = pd.merge(copy_of_imdb_games[~copied_imdb_mask], copy_of_giantbomb_games[~copied_giantbomb_mask], left_on=[\"primaryTitle\"], right_on=[\"aliases\"], how=\"inner\")\n",
    "mergedDF = pd.concat([mergedDF, mergedDF2], axis=0)\n",
    "copied_imdb_mask = copy_of_imdb_games['tconst'].isin(mergedDF['tconst'])\n",
    "copied_giantbomb_mask = copy_of_giantbomb_games['game_id'].isin(mergedDF['game_id'])\n",
    "print(copied_imdb_mask.value_counts())"
   ]
  },
  {
   "cell_type": "code",
   "execution_count": null,
   "metadata": {},
   "outputs": [],
   "source": [
    "mergedDF2 = pd.merge(copy_of_imdb_games[~copied_imdb_mask], copy_of_giantbomb_games[~copied_giantbomb_mask], left_on=[\"originalTitle\"], right_on=[\"aliases\"], how=\"inner\")\n",
    "mergedDF = pd.concat([mergedDF, mergedDF2], axis=0)\n",
    "copied_imdb_mask = copy_of_imdb_games['tconst'].isin(mergedDF['tconst'])\n",
    "copied_giantbomb_mask = copy_of_giantbomb_games['game_id'].isin(mergedDF['game_id'])\n",
    "print(copied_imdb_mask.value_counts())"
   ]
  },
  {
   "cell_type": "code",
   "execution_count": null,
   "metadata": {},
   "outputs": [],
   "source": [
    "import re\n",
    "temp = mergedDF[mergedDF[\"name\"].str.contains(\"Sherlock\", na=False, flags=re.IGNORECASE, regex=True)]\n",
    "temp"
   ]
  },
  {
   "cell_type": "code",
   "execution_count": null,
   "metadata": {},
   "outputs": [],
   "source": [
    "#Explode the akas\n",
    "\n",
    "copy_of_imdb_games = copy_of_imdb_games.explode(\"akas\")"
   ]
  },
  {
   "cell_type": "code",
   "execution_count": null,
   "metadata": {},
   "outputs": [],
   "source": [
    "copy_of_imdb_games['akas'] = copy_of_imdb_games['akas'].str.lower()"
   ]
  },
  {
   "cell_type": "code",
   "execution_count": null,
   "metadata": {},
   "outputs": [],
   "source": [
    "mergedDF2 = pd.merge(copy_of_imdb_games[~copied_imdb_mask], copy_of_giantbomb_games[~copied_giantbomb_mask], left_on=[\"akas\"], right_on=[\"name\"], how=\"inner\")\n",
    "mergedDF = pd.concat([mergedDF, mergedDF2], axis=0)\n",
    "copied_imdb_mask = copy_of_imdb_games['tconst'].isin(mergedDF['tconst'])\n",
    "copied_giantbomb_mask = copy_of_giantbomb_games['game_id'].isin(mergedDF['game_id'])\n",
    "print(copied_imdb_mask.value_counts())"
   ]
  },
  {
   "cell_type": "code",
   "execution_count": null,
   "metadata": {},
   "outputs": [],
   "source": [
    "mergedDF2 = pd.merge(copy_of_imdb_games[~copied_imdb_mask], copy_of_giantbomb_games[~copied_giantbomb_mask], left_on=[\"akas\"], right_on=[\"aliases\"], how=\"inner\")\n",
    "mergedDF = pd.concat([mergedDF, mergedDF2], axis=0)\n",
    "copied_imdb_mask = copy_of_imdb_games['tconst'].isin(mergedDF['tconst'])\n",
    "copied_giantbomb_mask = copy_of_giantbomb_games['game_id'].isin(mergedDF['game_id'])\n",
    "print(copied_imdb_mask.value_counts())"
   ]
  },
  {
   "cell_type": "markdown",
   "metadata": {},
   "source": [
    "Create a function that combines all the possible names including akas, into a list foe each imdb entry"
   ]
  },
  {
   "cell_type": "code",
   "execution_count": null,
   "metadata": {},
   "outputs": [],
   "source": [
    "nonmatched_imdb = copy_of_imdb_games[~copied_imdb_mask]\n",
    "nonmatched_gb = copy_of_giantbomb_games[~copied_giantbomb_mask]"
   ]
  },
  {
   "cell_type": "code",
   "execution_count": null,
   "metadata": {},
   "outputs": [],
   "source": [
    "def imdb_all_names(imdb_row):\n",
    "    imdb_row_list = [imdb_row.primaryTitle, imdb_row.originalTitle]\n",
    "    if type(imdb_row.akas) ==str:\n",
    "        akas_list = ast.literal_eval(imdb_row.akas)\n",
    "        for x in akas_list:\n",
    "            imdb_row_list.append(x)\n",
    "    return imdb_row_list"
   ]
  },
  {
   "cell_type": "code",
   "execution_count": null,
   "metadata": {},
   "outputs": [],
   "source": [
    "nonmatched_imdb['all_names'] = nonmatched_imdb.apply(lambda row: imdb_all_names(row), axis=1)\n",
    "nonmatched_imdb"
   ]
  },
  {
   "cell_type": "code",
   "execution_count": null,
   "metadata": {},
   "outputs": [],
   "source": [
    "nonmatched_gb['all_names'] = nonmatched_gb.apply(lambda row: gb_all_names(row), axis=1)\n",
    "nonmatched_gb"
   ]
  },
  {
   "cell_type": "code",
   "execution_count": null,
   "metadata": {},
   "outputs": [],
   "source": [
    "def gb_all_names(gb_row):\n",
    "    gb_row_list = [gb_row[\"name\"]]\n",
    "    for alias in gb_row.aliases:\n",
    "        if type(alias) == str:\n",
    "            gb_row_list.append(alias) \n",
    "    return gb_row_list"
   ]
  },
  {
   "cell_type": "code",
   "execution_count": null,
   "metadata": {},
   "outputs": [],
   "source": [
    "nonmatched_imdb['all_names'] = nonmatched_imdb['all_names'].apply(lambda x: list(set(x)))\n",
    "nonmatched_gb['all_names'] = nonmatched_gb['all_names'].apply(lambda x: list(set(x)))"
   ]
  },
  {
   "cell_type": "code",
   "execution_count": null,
   "metadata": {},
   "outputs": [],
   "source": [
    "nonmatched_imdb = nonmatched_imdb.explode(\"all_names\")\n",
    "nonmatched_gb = nonmatched_gb.explode(\"all_names\")"
   ]
  },
  {
   "cell_type": "code",
   "execution_count": null,
   "metadata": {},
   "outputs": [],
   "source": [
    "\n",
    "nonmatched_gb = nonmatched_gb.explode(\"all_names\")\n",
    "nonmatch_gb_list = nonmatched_gb.all_names.to_list()"
   ]
  },
  {
   "cell_type": "code",
   "execution_count": null,
   "metadata": {},
   "outputs": [],
   "source": [
    "def get_top_unmatches(imdb_row):\n",
    "    return process.extract(imdb_row.all_names, nonmatch_gb_list, limit = 3)"
   ]
  },
  {
   "cell_type": "code",
   "execution_count": null,
   "metadata": {},
   "outputs": [],
   "source": [
    "time_at_start = time.perf_counter()\n",
    "nonmatched_imdb['best_matches'] = nonmatched_imdb.apply(lambda row: get_top_unmatches(row), axis = 1)\n",
    "time_at_end = time.perf_counter()\n",
    "print(time_at_end - time_at_start)"
   ]
  },
  {
   "cell_type": "code",
   "execution_count": null,
   "metadata": {},
   "outputs": [],
   "source": [
    "nonmatched_imdb"
   ]
  },
  {
   "cell_type": "code",
   "execution_count": null,
   "metadata": {},
   "outputs": [],
   "source": [
    "time_at_start = time.perf_counter()\n",
    "nonmatched_imdb['best_fit'] = nonmatched_imdb.apply(lambda row: best_fit(row), axis = 1)\n",
    "time_at_end = time.perf_counter()\n",
    "print(time_at_end - time_at_start)"
   ]
  },
  {
   "cell_type": "code",
   "execution_count": null,
   "metadata": {},
   "outputs": [],
   "source": [
    "time_at_start = time.perf_counter()\n",
    "nonmatched_imdb[['best_fit_title', 'best_fit_ratio', 'best_fit_game_id']] = nonmatched_imdb['best_fit'].apply(lambda x: pd.Series([i for i in x]))\n",
    "time_at_end = time.perf_counter()\n",
    "print(time_at_end - time_at_start)"
   ]
  },
  {
   "cell_type": "code",
   "execution_count": null,
   "metadata": {
    "scrolled": true
   },
   "outputs": [],
   "source": [
    "nonmatched_imdb = nonmatched_imdb.sort_values([\"best_fit_ratio\"])\n",
    "nonmatched_imdb"
   ]
  },
  {
   "cell_type": "code",
   "execution_count": null,
   "metadata": {
    "scrolled": true
   },
   "outputs": [],
   "source": [
    "nonmatched_imdb[\"best_fit_ratio\"].value_counts()"
   ]
  },
  {
   "cell_type": "code",
   "execution_count": null,
   "metadata": {},
   "outputs": [],
   "source": [
    "nonmatched_imdb = nonmatched_imdb[nonmatched_imdb['best_fit_ratio'] >= 80]\n",
    "nonmatched_imdb"
   ]
  },
  {
   "cell_type": "code",
   "execution_count": null,
   "metadata": {
    "scrolled": true
   },
   "outputs": [],
   "source": [
    "copy_of_imdb_games['all_names'] = copy_of_imdb_games.apply(lambda row: imdb_all_names(row), axis=1)\n",
    "copy_of_imdb_games"
   ]
  },
  {
   "cell_type": "markdown",
   "metadata": {},
   "source": [
    "Combine all giantbomb possible names including aliases."
   ]
  },
  {
   "cell_type": "code",
   "execution_count": null,
   "metadata": {},
   "outputs": [],
   "source": [
    "def gb_all_names(gb_row):\n",
    "    gb_row_list = [gb_row[\"name\"]]\n",
    "    for alias in gb_row.aliases:\n",
    "        if type(alias) == str:\n",
    "            gb_row_list.append(alias) \n",
    "    return gb_row_list\n"
   ]
  },
  {
   "cell_type": "code",
   "execution_count": null,
   "metadata": {
    "scrolled": false
   },
   "outputs": [],
   "source": [
    "copy_of_giantbomb_games['all_names'] = copy_of_giantbomb_games.apply(lambda row: gb_all_names(row), axis=1)\n",
    "copy_of_giantbomb_games"
   ]
  },
  {
   "cell_type": "markdown",
   "metadata": {},
   "source": [
    "Remove any duplicates in all the name lists"
   ]
  },
  {
   "cell_type": "code",
   "execution_count": null,
   "metadata": {},
   "outputs": [],
   "source": [
    "copy_of_imdb_games['all_names'] = copy_of_imdb_games['all_names'].apply(lambda x: list(set(x)))\n",
    "copy_of_giantbomb_games['all_names'] = copy_of_giantbomb_games['all_names'].apply(lambda x: list(set(x)))"
   ]
  },
  {
   "cell_type": "code",
   "execution_count": null,
   "metadata": {
    "scrolled": true
   },
   "outputs": [],
   "source": [
    "copy_of_giantbomb_games.sample()"
   ]
  },
  {
   "cell_type": "code",
   "execution_count": null,
   "metadata": {},
   "outputs": [],
   "source": [
    "copy_of_imdb_games.drop([\"best_matches\", \"best_fit\", \"best_fit_title\", \"best_fit_ratio\", \"best_fit_game_id\"])"
   ]
  },
  {
   "cell_type": "markdown",
   "metadata": {},
   "source": [
    "## Attempt to use rapidFuzz"
   ]
  },
  {
   "cell_type": "markdown",
   "metadata": {},
   "source": [
    "This seems to be the fastest way we can fuzzymatch across the entire dataframe (that I have found). We first explode all the giantbomb names, and the imdb names. Then convert the giantbomb names to a list. We can then run rapidfuzz for all the names in our imdb dataset against the giantbomb list and append the results to a best_matches column in our imdb dataframe. Once we have this we can "
   ]
  },
  {
   "cell_type": "code",
   "execution_count": null,
   "metadata": {},
   "outputs": [],
   "source": [
    "copy_of_imdb_games = copy_of_imdb_games[~copied_imdb_mask].explode(\"all_names\")\n",
    "copy_of_giantbomb_games = copy_of_giantbomb_games[~copied_giantbomb_mask].explode(\"all_names\")"
   ]
  },
  {
   "cell_type": "code",
   "execution_count": null,
   "metadata": {},
   "outputs": [],
   "source": [
    "giantbomb_remaining_list = copy_of_giantbomb_games.all_names.to_list()"
   ]
  },
  {
   "cell_type": "code",
   "execution_count": null,
   "metadata": {},
   "outputs": [],
   "source": []
  },
  {
   "cell_type": "code",
   "execution_count": null,
   "metadata": {},
   "outputs": [],
   "source": [
    "from rapidfuzz import process, fuzz"
   ]
  },
  {
   "cell_type": "code",
   "execution_count": null,
   "metadata": {},
   "outputs": [],
   "source": [
    "def get_top_matches(imdb_row):\n",
    "    return process.extract(imdb_row.all_names, giantbomb_remaining_list, limit = 3)"
   ]
  },
  {
   "cell_type": "code",
   "execution_count": null,
   "metadata": {},
   "outputs": [],
   "source": [
    "import time"
   ]
  },
  {
   "cell_type": "code",
   "execution_count": null,
   "metadata": {},
   "outputs": [],
   "source": [
    "time_at_start = time.perf_counter()\n",
    "copy_of_imdb_games['best_matches'] = copy_of_imdb_games.apply(lambda row: get_top_matches(row), axis = 1)\n",
    "time_at_end = time.perf_counter()\n",
    "print(time_at_end - time_at_start)"
   ]
  },
  {
   "cell_type": "code",
   "execution_count": null,
   "metadata": {},
   "outputs": [],
   "source": [
    "copy_of_imdb_games[copy_of_imdb_games[\"tconst\"]==\"tt0383279\"]"
   ]
  },
  {
   "cell_type": "code",
   "execution_count": null,
   "metadata": {},
   "outputs": [],
   "source": [
    "print(copy_of_imdb_games[copy_of_imdb_games[\"tconst\"]==\"tt0383279\"][\"best_matches\"].iloc[0])\n",
    "print(copy_of_imdb_games[copy_of_imdb_games[\"tconst\"]==\"tt0383279\"][\"best_matches\"].iloc[1])\n",
    "print(copy_of_imdb_games[copy_of_imdb_games[\"tconst\"]==\"tt0383279\"][\"best_matches\"].iloc[2])"
   ]
  },
  {
   "cell_type": "code",
   "execution_count": null,
   "metadata": {},
   "outputs": [],
   "source": [
    "type(copy_of_imdb_games[copy_of_imdb_games[\"tconst\"]==\"tt0383279\"][\"best_matches\"].iloc[0][0][0])"
   ]
  },
  {
   "cell_type": "code",
   "execution_count": null,
   "metadata": {},
   "outputs": [],
   "source": [
    "def best_fit(row):\n",
    "    highest = 0\n",
    "    best_match = ()\n",
    "    for match in row[\"best_matches\"]:\n",
    "        if match[1] > highest:\n",
    "            highest = match[1]\n",
    "            best_match = match\n",
    "    return best_match"
   ]
  },
  {
   "cell_type": "code",
   "execution_count": null,
   "metadata": {},
   "outputs": [],
   "source": [
    "time_at_start = time.perf_counter()\n",
    "copy_of_imdb_games['best_fit'] = copy_of_imdb_games.apply(lambda row: best_fit(row), axis = 1)\n",
    "time_at_end = time.perf_counter()\n",
    "print(time_at_end - time_at_start)"
   ]
  },
  {
   "cell_type": "code",
   "execution_count": null,
   "metadata": {},
   "outputs": [],
   "source": [
    "copy_of_imdb_games[['best_fit_title', 'best_fit_ratio', 'best_fit_game_id']] = copy_of_imdb_games['best_fit'].apply(lambda x: pd.Series([i for i in x]))\n"
   ]
  },
  {
   "cell_type": "code",
   "execution_count": null,
   "metadata": {},
   "outputs": [],
   "source": [
    "copy_of_imdb_games = copy_of_imdb_games[copy_of_imdb_games['best_fit_ratio'] >= 90.5]"
   ]
  },
  {
   "cell_type": "code",
   "execution_count": null,
   "metadata": {
    "scrolled": false
   },
   "outputs": [],
   "source": [
    "copy_of_imdb_games =copy_of_imdb_games.sort_values([\"tconst\", \"best_fit_ratio\"])\n",
    "copy_of_imdb_games.head(50)"
   ]
  },
  {
   "cell_type": "code",
   "execution_count": null,
   "metadata": {},
   "outputs": [],
   "source": []
  },
  {
   "cell_type": "code",
   "execution_count": null,
   "metadata": {},
   "outputs": [],
   "source": [
    "small_imdb_exploded['best_fit'] = small_imdb_exploded.apply(lambda row: best_fit(row), axis = 1)\n"
   ]
  },
  {
   "cell_type": "code",
   "execution_count": null,
   "metadata": {},
   "outputs": [],
   "source": [
    "small_imdb_exploded[['best_fit_title', 'best_fit_ratio', 'best_fit_game_id']] = small_imdb_exploded['best_fit'].apply(lambda x: pd.Series([i for i in x]))\n",
    "\n",
    "    "
   ]
  },
  {
   "cell_type": "code",
   "execution_count": null,
   "metadata": {},
   "outputs": [],
   "source": [
    "frame = copy_of_imdb_games[copy_of_imdb_games[\"tconst\"]==\"tt7025920\"]\n",
    "frame"
   ]
  },
  {
   "cell_type": "code",
   "execution_count": null,
   "metadata": {},
   "outputs": [],
   "source": [
    "copy_of_giantbomb_games.game_id.count()"
   ]
  },
  {
   "cell_type": "code",
   "execution_count": null,
   "metadata": {},
   "outputs": [],
   "source": [
    "copy_of_imdb_games.to_csv(\"copy_of_imdb_games.csv\")"
   ]
  },
  {
   "cell_type": "code",
   "execution_count": null,
   "metadata": {},
   "outputs": [],
   "source": [
    "copy_of_imdb_games = pd.read_csv(\"copy_of_imdb_games.csv\")"
   ]
  },
  {
   "cell_type": "code",
   "execution_count": null,
   "metadata": {},
   "outputs": [],
   "source": [
    "copy_of_imdb_games['best_matches'] = copy_of_imdb_games[\"best_matches\"].apply(lambda row: ast.literal_eval(row))\n",
    "type(copy_of_imdb_games[\"best_matches\"].iloc[0])"
   ]
  },
  {
   "cell_type": "code",
   "execution_count": null,
   "metadata": {
    "scrolled": true
   },
   "outputs": [],
   "source": [
    "copy_of_imdb_games"
   ]
  },
  {
   "cell_type": "code",
   "execution_count": null,
   "metadata": {},
   "outputs": [],
   "source": [
    "copy_of_imdb_games['best_fit'] = copy_of_imdb_games.apply(lambda row: best_fit(row), axis = 1)\n",
    "copy_of_imdb_games[['best_fit_title', 'best_fit_ratio', 'best_fit_game_id']] = copy_of_imdb_games['best_fit'].apply(lambda x: pd.Series([i for i in x]))\n",
    "copy_of_imdb_games = copy_of_imdb_games.sort_values(\"best_fit_ratio\")\n",
    "copy_of_imdb_games"
   ]
  },
  {
   "cell_type": "code",
   "execution_count": null,
   "metadata": {},
   "outputs": [],
   "source": [
    "copy_of_imdb_games = copy_of_imdb_games.sort_values(\"best_fit_ratio\")"
   ]
  },
  {
   "cell_type": "code",
   "execution_count": null,
   "metadata": {},
   "outputs": [],
   "source": [
    "copy_of_imdb_games[copy_of_imdb_games[\"tconst\"] == \"tt11696274\"].iloc[1][\"best_matches\"]"
   ]
  },
  {
   "cell_type": "code",
   "execution_count": null,
   "metadata": {},
   "outputs": [],
   "source": [
    "copy_of_giantbomb_games[copy_of_giantbomb_games.index == 18179]"
   ]
  },
  {
   "cell_type": "code",
   "execution_count": null,
   "metadata": {},
   "outputs": [],
   "source": [
    "copy_of_imdb_games[copy_of_imdb_games[\"tconst\"] == \"tt11696274\"]"
   ]
  },
  {
   "cell_type": "code",
   "execution_count": null,
   "metadata": {},
   "outputs": [],
   "source": [
    "copy_of_giantbomb_games"
   ]
  },
  {
   "cell_type": "code",
   "execution_count": null,
   "metadata": {},
   "outputs": [],
   "source": [
    "mergedDF[mergedDF[\"game_id\"] == 48320]"
   ]
  },
  {
   "cell_type": "code",
   "execution_count": null,
   "metadata": {},
   "outputs": [],
   "source": [
    "copy_of_giantbomb_games[copy_of_giantbomb_games[\"game_id\"] == \"48320\"]"
   ]
  },
  {
   "cell_type": "code",
   "execution_count": null,
   "metadata": {
    "scrolled": false
   },
   "outputs": [],
   "source": [
    "copy_of_imdb_games[(copy_of_imdb_games[\"best_fit_ratio\"] >97) &  (copy_of_imdb_games[\"best_fit_ratio\"] <98)].head(50)"
   ]
  },
  {
   "cell_type": "code",
   "execution_count": null,
   "metadata": {},
   "outputs": [],
   "source": [
    "import numpy as np"
   ]
  },
  {
   "cell_type": "code",
   "execution_count": null,
   "metadata": {},
   "outputs": [],
   "source": [
    "small_imdb_exploded['best_matches'] = small_imdb_exploded.apply(lambda row: get_top_matches(row), axis = 1)\n"
   ]
  },
  {
   "cell_type": "code",
   "execution_count": null,
   "metadata": {
    "scrolled": true
   },
   "outputs": [],
   "source": [
    "small_imdb_exploded"
   ]
  },
  {
   "cell_type": "code",
   "execution_count": null,
   "metadata": {},
   "outputs": [],
   "source": [
    "small_imdb_exploded[\"best_matches\"].iloc[0]"
   ]
  },
  {
   "cell_type": "code",
   "execution_count": null,
   "metadata": {},
   "outputs": [],
   "source": [
    "def withlist(imdb_row):\n",
    "    results_list = process.extract(imdb_row.all_names, giantbomb_list, limit = 3)\n",
    "    return results_list"
   ]
  },
  {
   "cell_type": "code",
   "execution_count": null,
   "metadata": {},
   "outputs": [],
   "source": [
    "import time\n",
    "time_at_start = time.perf_counter()\n",
    "small_imdb_exploded['best_matches'] = small_imdb_exploded.apply(lambda row: withlist(row), axis=1)\n",
    "time_at_end = time.perf_counter()\n",
    "print(time_at_end - time_at_start)"
   ]
  },
  {
   "cell_type": "code",
   "execution_count": null,
   "metadata": {},
   "outputs": [],
   "source": [
    "small_imdb_exploded"
   ]
  },
  {
   "cell_type": "code",
   "execution_count": null,
   "metadata": {},
   "outputs": [],
   "source": [
    "giantbomb_exploded.iloc[22642]"
   ]
  },
  {
   "cell_type": "code",
   "execution_count": null,
   "metadata": {},
   "outputs": [],
   "source": [
    "small_imdb_exploded.best_matches.iloc[0]"
   ]
  },
  {
   "cell_type": "code",
   "execution_count": null,
   "metadata": {},
   "outputs": [],
   "source": [
    "def rapidfuzzymatch(imdb_row):\n",
    "    results_list = []\n",
    "    for index, row in giantbomb_games.iterrows():\n",
    "        distances  = process.cdist(row[\"all_names\"], imdb_row.all_names, score_cutoff = 87)\n",
    "        top_indices = np.argsort(distances, axis=1)\n",
    "        top_values = imdb_row[top_indices]\n",
    "        print(top_values)\n",
    "            \n",
    "            #for result in results:\n",
    "                #Get tuple value if above 95\n",
    "            #    if result[1]>87:\n",
    "            #        results_list.append(set([row[\"game_id\"], row[\"name\"], result[1]]))\n",
    "    return results_list"
   ]
  },
  {
   "cell_type": "code",
   "execution_count": null,
   "metadata": {},
   "outputs": [],
   "source": [
    "import time\n",
    "time_at_start = time.perf_counter()\n",
    "small_imdb['best_matches'] = small_imdb.apply(lambda row: rapidfuzzymatch(row), axis=1)\n",
    "time_at_end = time.perf_counter()\n",
    "print(time_at_end - time_at_start)"
   ]
  },
  {
   "cell_type": "code",
   "execution_count": null,
   "metadata": {
    "scrolled": true
   },
   "outputs": [],
   "source": [
    "small_imdb.best_matches.iloc[0]"
   ]
  },
  {
   "cell_type": "code",
   "execution_count": null,
   "metadata": {},
   "outputs": [],
   "source": []
  },
  {
   "cell_type": "markdown",
   "metadata": {},
   "source": [
    "## Attempting to use fuzzy matching"
   ]
  },
  {
   "cell_type": "markdown",
   "metadata": {},
   "source": [
    "The next step is to attempt to fuzzy match the titles and the original titles from the imdb dataset against the giantbomb database"
   ]
  },
  {
   "cell_type": "code",
   "execution_count": null,
   "metadata": {},
   "outputs": [],
   "source": [
    "from fuzzywuzzy import fuzz\n",
    "from fuzzywuzzy import process"
   ]
  },
  {
   "cell_type": "code",
   "execution_count": null,
   "metadata": {},
   "outputs": [],
   "source": []
  },
  {
   "cell_type": "markdown",
   "metadata": {},
   "source": [
    "Fuzzy match attempt"
   ]
  },
  {
   "cell_type": "code",
   "execution_count": null,
   "metadata": {},
   "outputs": [],
   "source": [
    "def fuzzymatch(imdb_row):\n",
    "    results_list = []\n",
    "    for index, row in giantbomb_games.iterrows():\n",
    "        for item in row[\"all_names\"]:\n",
    "            results = process.extract(item, imdb_row.all_names, limit = 3)\n",
    "            for result in results:\n",
    "                #Get tuple value if above 95\n",
    "                if result[1]>87:\n",
    "                    results_list.append(set([row[\"game_id\"], row[\"name\"], result[1]]))\n",
    "    return results_list\n"
   ]
  },
  {
   "cell_type": "markdown",
   "metadata": {},
   "source": [
    "Testing on single entry"
   ]
  },
  {
   "cell_type": "code",
   "execution_count": null,
   "metadata": {},
   "outputs": [],
   "source": [
    "small_imdb = imdb_games[imdb_games[\"tconst\"]== \"tt7990520\"]\n",
    "small_imdb"
   ]
  },
  {
   "cell_type": "code",
   "execution_count": null,
   "metadata": {},
   "outputs": [],
   "source": [
    "import time\n",
    "time_at_start = time.perf_counter()\n",
    "small_imdb['best_matches'] = small_imdb.apply(lambda row: fuzzymatch(row), axis=1)\n",
    "time_at_end = time.perf_counter()\n",
    "print(time_at_end - time_at_start)"
   ]
  },
  {
   "cell_type": "code",
   "execution_count": null,
   "metadata": {},
   "outputs": [],
   "source": [
    "small_imdb.best_matches.iloc[0]"
   ]
  },
  {
   "cell_type": "code",
   "execution_count": null,
   "metadata": {},
   "outputs": [],
   "source": [
    "small_imdb"
   ]
  },
  {
   "cell_type": "markdown",
   "metadata": {},
   "source": [
    "### Next attempt, explode the dataframes, then do fuzzymatch"
   ]
  },
  {
   "cell_type": "code",
   "execution_count": null,
   "metadata": {},
   "outputs": [],
   "source": [
    "small_imdb_exploded = small_imdb.explode(\"all_names\")"
   ]
  },
  {
   "cell_type": "code",
   "execution_count": null,
   "metadata": {
    "scrolled": true
   },
   "outputs": [],
   "source": [
    "small_imdb_exploded"
   ]
  },
  {
   "cell_type": "code",
   "execution_count": null,
   "metadata": {},
   "outputs": [],
   "source": [
    "def fuzzymatch_exploded(imdb_row):\n",
    "    results_list = []\n",
    "    for index, row in giantbomb_exploded.iterrows():\n",
    "        results = process.extract(row[\"all_names\"], imdb_row.all_names, limit = 3)\n",
    "        for result in results:\n",
    "            #Get tuple value if above 95\n",
    "            if result[1]>87:\n",
    "                results_list.append(set([row[\"game_id\"], row[\"name\"], result[1]]))\n",
    "    return results_list"
   ]
  },
  {
   "cell_type": "code",
   "execution_count": null,
   "metadata": {},
   "outputs": [],
   "source": [
    "imdb_exploded = imdb_games.explode(\"all_names\")\n",
    "imdb_exploded.count()"
   ]
  },
  {
   "cell_type": "code",
   "execution_count": null,
   "metadata": {},
   "outputs": [],
   "source": [
    "giantbomb_exploded = giantbomb_games.explode(\"all_names\")\n",
    "giantbomb_exploded.count()"
   ]
  },
  {
   "cell_type": "code",
   "execution_count": null,
   "metadata": {},
   "outputs": [],
   "source": [
    "import time\n",
    "time_at_start = time.perf_counter()\n",
    "small_imdb['exploded_best_matches'] = small_imdb.apply(lambda row: fuzzymatch_exploded(row), axis=1)\n",
    "time_at_end = time.perf_counter()\n",
    "print(time_at_end - time_at_start)"
   ]
  },
  {
   "cell_type": "markdown",
   "metadata": {},
   "source": [
    "## Attempting to use difflib"
   ]
  },
  {
   "cell_type": "code",
   "execution_count": null,
   "metadata": {},
   "outputs": [],
   "source": [
    "string =small_imdb_exploded.all_names.iloc[0]\n",
    "close_matches = difflib.get_close_matches(string, possibilities=giantbomb_exploded['all_names'].tolist(), n=10)\n"
   ]
  },
  {
   "cell_type": "code",
   "execution_count": null,
   "metadata": {},
   "outputs": [],
   "source": [
    "close_matches"
   ]
  },
  {
   "cell_type": "code",
   "execution_count": null,
   "metadata": {},
   "outputs": [],
   "source": [
    "# https://stackoverflow.com/questions/56521625/quicker-way-to-perform-fuzzy-string-match-in-pandas\n",
    "\n",
    "import difflib\n",
    "from functools import partial\n",
    "\n",
    "f = partial(difflib.get_close_matches, possibilities=giantbomb_exploded['all_names'].tolist(), n=1)\n",
    "\n",
    "matches = small_imdb_exploded['all_names'].map(f).str[0].fillna('')\n",
    "scores = [difflib.SequenceMatcher(None, x, y).ratio() \n",
    "    for x, y in zip(matches, small_imdb['all_names'])\n",
    "]\n",
    "\n",
    "small_imdb.assign(best=matches, score=scores)"
   ]
  },
  {
   "cell_type": "markdown",
   "metadata": {},
   "source": [
    "# Consider exploding the all_names, then combining back but keeping the one with the best ratio?"
   ]
  },
  {
   "cell_type": "markdown",
   "metadata": {},
   "source": [
    "## First attempt to merge, purely using dataframes"
   ]
  },
  {
   "cell_type": "code",
   "execution_count": null,
   "metadata": {},
   "outputs": [],
   "source": [
    "mergedDF = pd.merge(copy_of_imdb_games, copy_of_giantbomb_games, left_on=[\"primaryTitle\", \"startYear\"], right_on=[\"name\", \"release_year\"], how=\"inner\")\n",
    "#copy_of_imdb_games = copy_of_imdb_games[~copy_of_imdb_games['tconst'].isin(mergedDF['tconst'])]\n",
    "#copy_of_giantbomb_games = copy_of_giantbomb_games[~copy_of_giantbomb_games['game_id'].isin(mergedDF['game_id'])]\n",
    "print(\"Total imdb: {}, Total giantbomb: {}, Total in df: {}\".format(copy_of_imdb_games.tconst.count(), copy_of_giantbomb_games.name.count(), mergedDF.tconst.count()))"
   ]
  },
  {
   "cell_type": "code",
   "execution_count": null,
   "metadata": {},
   "outputs": [],
   "source": [
    "Now match any where the names directly match, and the release_year is 0"
   ]
  },
  {
   "cell_type": "code",
   "execution_count": null,
   "metadata": {
    "scrolled": true
   },
   "outputs": [],
   "source": [
    "mergedDF2 = pd.merge(copy_of_imdb_games, copy_of_giantbomb_games[copy_of_giantbomb_games['release_year'] == \"0\"], left_on=\"primaryTitle\", right_on=\"name\", how=\"inner\")\n",
    "copy_of_imdb_games = copy_of_imdb_games[~copy_of_imdb_games['tconst'].isin(mergedDF2['tconst'])]\n",
    "copy_of_giantbomb_games = copy_of_giantbomb_games[~copy_of_giantbomb_games['game_id'].isin(mergedDF2['game_id'])]\n",
    "print(\"Total imdb: {}, Total giantbomb: {}, Total in df2: {}\".format(copy_of_imdb_games.tconst.count(), copy_of_giantbomb_games.name.count(), mergedDF2.tconst.count()))"
   ]
  },
  {
   "cell_type": "code",
   "execution_count": null,
   "metadata": {},
   "outputs": [],
   "source": [
    "mergedDF2[mergedDF2[\"primaryTitle\"]==\"Alice in Wonderland\"]"
   ]
  },
  {
   "cell_type": "code",
   "execution_count": null,
   "metadata": {},
   "outputs": [],
   "source": [
    "mergedDF3 = pd.merge(copy_of_imdb_games, copy_of_giantbomb_games, left_on=\"originalTitle\", right_on=\"name\", how=\"inner\")\n",
    "copy_of_imdb_games = copy_of_imdb_games[~copy_of_imdb_games['tconst'].isin(mergedDF3['tconst'])]\n",
    "copy_of_giantbomb_games = copy_of_giantbomb_games[~copy_of_giantbomb_games['game_id'].isin(mergedDF3['game_id'])]\n",
    "print(\"Total imdb: {}, Total giantbomb: {}, Total in df3: {}\".format(copy_of_imdb_games.tconst.count(), copy_of_giantbomb_games.name.count(), mergedDF3.tconst.count()))"
   ]
  },
  {
   "cell_type": "code",
   "execution_count": null,
   "metadata": {},
   "outputs": [],
   "source": [
    "mergedDF4 = pd.concat([mergedDF, mergedDF2, mergedDF3], axis=0)\n",
    "mergedDF4"
   ]
  },
  {
   "cell_type": "code",
   "execution_count": null,
   "metadata": {},
   "outputs": [],
   "source": []
  },
  {
   "cell_type": "code",
   "execution_count": null,
   "metadata": {},
   "outputs": [],
   "source": [
    "temp = imdb_duplicates[~(imdb_duplicates[\"primaryTitle\"]== imdb_duplicates[\"originalTitle\"])]"
   ]
  },
  {
   "cell_type": "code",
   "execution_count": null,
   "metadata": {},
   "outputs": [],
   "source": [
    "temp = pd.merge(imdb_duplicates, giantbomb_games, left_on=['primaryTitle'], right_on=['name'], how='inner')\n",
    "temp"
   ]
  },
  {
   "cell_type": "code",
   "execution_count": null,
   "metadata": {},
   "outputs": [],
   "source": [
    "giantbomb_games.sort_values(\"game_id\").head()"
   ]
  },
  {
   "cell_type": "code",
   "execution_count": null,
   "metadata": {
    "scrolled": true
   },
   "outputs": [],
   "source": [
    "tempdb = pd.merge(imdb_duplicates, giantbomb_games, left_on=['primaryTitle'], right_on=['name'], how='inner')\n",
    "tempdb"
   ]
  },
  {
   "cell_type": "code",
   "execution_count": null,
   "metadata": {},
   "outputs": [],
   "source": [
    "for index1 in imdb_duplicates.primaryTitle:\n",
    "    #rint(index1)\n",
    "    value = fuzz.token_sort_ratio(\"bction 2\", index1)\n",
    "    if value > 80:\n",
    "        print(index1)\n",
    "        print(value)"
   ]
  },
  {
   "cell_type": "code",
   "execution_count": null,
   "metadata": {},
   "outputs": [],
   "source": [
    "imdb_duplicates.head(500)"
   ]
  },
  {
   "cell_type": "code",
   "execution_count": null,
   "metadata": {},
   "outputs": [],
   "source": [
    "for index1 in imdb_duplicates.primaryTitle:\n",
    "    #rint(index1)\n",
    "    value = fuzz.token_sort_ratio(\"bction 2\", index1)\n",
    "    if value > 80:\n",
    "        print(index1)\n",
    "        print(value)"
   ]
  },
  {
   "cell_type": "code",
   "execution_count": null,
   "metadata": {},
   "outputs": [],
   "source": [
    "imdb_duplicates"
   ]
  },
  {
   "cell_type": "code",
   "execution_count": null,
   "metadata": {
    "scrolled": true
   },
   "outputs": [],
   "source": [
    "imdb_duplicates = imdb_duplicates[imdb_duplicates['primaryTitle'].isin(giantbomb_games['name'])]\n",
    "imdb_duplicates"
   ]
  },
  {
   "cell_type": "markdown",
   "metadata": {},
   "source": [
    "Create dictionary with count for each duplicate"
   ]
  },
  {
   "cell_type": "code",
   "execution_count": null,
   "metadata": {},
   "outputs": [],
   "source": [
    "imdb_duplicate_counts"
   ]
  },
  {
   "cell_type": "code",
   "execution_count": null,
   "metadata": {},
   "outputs": [],
   "source": [
    "imdb_duplicate_counts = imdb_duplicates.groupby('primaryTitle').size()\n",
    "imdb_duplicate_dict = {k:v for k,v in imdb_duplicate_counts.items() if v > 1}\n",
    "imdb_duplicate_dict"
   ]
  },
  {
   "cell_type": "code",
   "execution_count": null,
   "metadata": {},
   "outputs": [],
   "source": [
    "giantbomb_games[giantbomb_games[\"name\"] == \"Worms\"]\n"
   ]
  },
  {
   "cell_type": "markdown",
   "metadata": {},
   "source": [
    "Note here, we are only going to consider direct matches of a name for brevity's sake. If giantbomb contains no records that match the name of an imdb duplicate, we will assume the duplicates are not part of a franchise."
   ]
  },
  {
   "cell_type": "code",
   "execution_count": null,
   "metadata": {},
   "outputs": [],
   "source": [
    "for key, value in imdb_duplicate_dict.items():\n",
    "    if giantbomb_games.name[giantbomb_games[\"name\"] == key].count() == 0:\n",
    "        # Game is not a franchise game, and can be kept in original imdb dataframe\n",
    "        print(key)\n",
    "        #imdb_duplicates = imdb_duplicates.drop(index=imdb_duplicates.index[imdb_duplicates['primaryTitle'] == key])\n",
    "imdb_duplicates.count()"
   ]
  },
  {
   "cell_type": "code",
   "execution_count": null,
   "metadata": {
    "scrolled": true
   },
   "outputs": [],
   "source": [
    "imdb_duplicates.count()"
   ]
  },
  {
   "cell_type": "code",
   "execution_count": null,
   "metadata": {},
   "outputs": [],
   "source": [
    "Action 52 is not in giantbomb games so we can keep in our original database as it's a unique game. Therefore we need to drop it from our dups dataframe"
   ]
  },
  {
   "cell_type": "markdown",
   "metadata": {},
   "source": [
    "This leaves us with 411 duplicates, which exist in the imdb database but we may not be able to accurately match them with the "
   ]
  },
  {
   "cell_type": "markdown",
   "metadata": {},
   "source": [
    "WE ARE CREATING A DUPS DATAFRAME WHICH WILL BE ALL THE DUPLICATES WE CAN'T DISTINGUISH BETWENN. IF WE CAN DISTINGUISH, WE DROP FROM THE DUPS DATABASE. IF IMDB GAMES NAME DOES NOT APPEAR IN GIANTBOMB GAMES NAME, DROP FROM DUPLICATES LIST"
   ]
  },
  {
   "cell_type": "markdown",
   "metadata": {},
   "source": [
    "sO FAR WE HAVE DONE ENOUGH. wE JUST NEED TO DO FUZZY MATCHING ON THE NAMES TO COMPARE.EG. ADAM'S VENTURE EXISTS IN BOTH BUT NEEDS FUZZY MATCHING AGAINST ORIGINAL TITLE"
   ]
  },
  {
   "cell_type": "code",
   "execution_count": null,
   "metadata": {},
   "outputs": [],
   "source": [
    "imdb_duplicates = imdb_duplicates[~imdb_duplicates['tconst'].isin(matching_imdb_dups['tconst'])]\n"
   ]
  },
  {
   "cell_type": "code",
   "execution_count": null,
   "metadata": {},
   "outputs": [],
   "source": [
    "for key, value in imdb_duplicate_dict.items():\n",
    "    if giantbomb_games.name[giantbomb_games[\"name\"] == key].count() == 0:\n",
    "        # Game is not a franchise game, and can be kept in original imdb dataframe\n",
    "        imdb_duplicates = imdb_duplicates.drop(index=imdb_duplicates.index[imdb_duplicates['primaryTitle'] == key])\n",
    "    elif giantbomb_games.name[giantbomb_games[\"name\"] == key].count() != value:\n",
    "        #matching_ids holds index values of duplicates\n",
    "        matching_imdb_ids=imdb_duplicates.index[imdb_duplicates['primaryTitle'] == key]\n",
    "        matching_gb_ids = giantbomb_games.index[giantbomb_games['name'] == key]\n",
    "        if \n",
    "        #for id in matching_imdb_ids:\n",
    "            #This extracts the year\n",
    "         #   year =imdb_duplicates.startYear[imdb_duplicates.index[imdb_duplicates.index == id]].item()\n",
    "          #  if giantbomb_games.name[giantbomb_games[\"name\"] == key] and giantbomb_games.release_year[giantbomb_games[\"release_year\"] == year]:\n",
    "           #     for \n",
    "            #    print(\"Great success!\", year)\n",
    "           # else:\n",
    "            #    print(\"poo\")\n",
    "        \n",
    "        print(key, value, giantbomb_games.name[giantbomb_games[\"name\"] == key].count())"
   ]
  },
  {
   "cell_type": "code",
   "execution_count": null,
   "metadata": {},
   "outputs": [],
   "source": [
    "giantbomb_games[giantbomb_games.duplicated([\"name\"], keep=False)].count()"
   ]
  },
  {
   "cell_type": "code",
   "execution_count": null,
   "metadata": {},
   "outputs": [],
   "source": [
    "import re\n",
    "temp = imdb_games[imdb_games[\"primaryTitle\"].str.contains(\"Batman\", na=False, flags=re.IGNORECASE, regex=True)]\n",
    "temp"
   ]
  },
  {
   "cell_type": "code",
   "execution_count": null,
   "metadata": {},
   "outputs": [],
   "source": [
    "import re\n",
    "temp2 = giantbomb_games[giantbomb_games[\"name\"].str.contains(\"Adam's\", na=False, flags=re.IGNORECASE, regex=True)]\n",
    "temp2"
   ]
  },
  {
   "cell_type": "code",
   "execution_count": null,
   "metadata": {},
   "outputs": [],
   "source": [
    "duplicate_giantbomb_names = giantbomb_games[giantbomb_games.duplicated([\"name\", \"release_year\"], keep=False)]\n",
    "duplicate_giantbomb_names = duplicate_giantbomb_names.sort_values(\"name\")\n",
    "duplicate_giantbomb_names"
   ]
  },
  {
   "cell_type": "markdown",
   "metadata": {},
   "source": [
    "Get list of all game_ids"
   ]
  },
  {
   "cell_type": "code",
   "execution_count": null,
   "metadata": {},
   "outputs": [],
   "source": [
    "game_id_list = duplicate_giantbomb_names.index.to_list()"
   ]
  },
  {
   "cell_type": "markdown",
   "metadata": {},
   "source": [
    "for each item in the list, get the corresponding json file. Clean to extract necessary data (esp. year)"
   ]
  },
  {
   "cell_type": "code",
   "execution_count": null,
   "metadata": {},
   "outputs": [],
   "source": [
    "for game_id, api_url in game_api_dict.items():\n",
    "    filename = \"{}.json\".format(game_id)\n",
    "    if not Path(game_dir, filename).is_file():\n",
    "\n",
    "        "
   ]
  },
  {
   "cell_type": "code",
   "execution_count": null,
   "metadata": {},
   "outputs": [],
   "source": [
    "print(len(release_years))"
   ]
  },
  {
   "cell_type": "code",
   "execution_count": null,
   "metadata": {},
   "outputs": [],
   "source": [
    "num_nans = id_year_df.isna().sum().sum()\n",
    "print(num_nans)"
   ]
  },
  {
   "cell_type": "code",
   "execution_count": null,
   "metadata": {},
   "outputs": [],
   "source": [
    "# group the data by name and count the number of occurrences\n",
    "grouped = giantbomb_games.groupby(['name']).size().reset_index(name='count')\n",
    "\n",
    "# select the rows where count > 1, indicating a duplicate name\n",
    "duplicates = grouped[grouped['count'] > 1]\n",
    "\n",
    "# select the rows with duplicate name and different game_id\n",
    "duplicates = giantbomb_games[giantbomb_games['name'].isin(duplicates['name'])].groupby('name').filter(lambda x: x['game_id'].nunique() > 1)\n",
    "\n",
    "# print the duplicate rows, sorted by name\n",
    "if len(duplicates) > 0:\n",
    "    print(\"Found {} rows with same name but different game_id:\".format(len(duplicates)))\n",
    "    print(duplicates.sort_values(by=['name', 'game_id']))\n",
    "else:\n",
    "    print(\"No rows with same name but different game_id found.\")\n"
   ]
  },
  {
   "cell_type": "code",
   "execution_count": null,
   "metadata": {},
   "outputs": [],
   "source": [
    "temp2 = temp[temp.duplicated([\"name\", \"index\"], keep=False)]\n",
    "temp2 = temp2.sort_values(\"name\")\n",
    "temp2"
   ]
  },
  {
   "cell_type": "code",
   "execution_count": null,
   "metadata": {},
   "outputs": [],
   "source": [
    "a = giantbomb_games[giantbomb_games[\"name\"].str.contains('Sqrxz', na=False, flags=re.IGNORECASE, regex=True)]\n",
    "a"
   ]
  },
  {
   "cell_type": "markdown",
   "metadata": {},
   "source": [
    "The first thing I am going to do is check for any titles that appear only once in both dataframes and that have matching titles. With this criteria, we can assume that the games are the same. "
   ]
  },
  {
   "cell_type": "code",
   "execution_count": null,
   "metadata": {},
   "outputs": [],
   "source": [
    "unmatching_rows = imdb_games[~imdb_games['primaryTitle'].isin(giantbomb_games['name'])]"
   ]
  },
  {
   "cell_type": "code",
   "execution_count": null,
   "metadata": {
    "scrolled": true
   },
   "outputs": [],
   "source": [
    "try_this = unmatching_rows[unmatching_rows['originalTitle'].isin(giantbomb_games['name'])]\n",
    "try_this.count()"
   ]
  },
  {
   "cell_type": "code",
   "execution_count": null,
   "metadata": {
    "scrolled": true
   },
   "outputs": [],
   "source": [
    "import re\n",
    "temp = giantbomb_games[giantbomb_games[\"name\"].str.contains('Infernal', na=False, flags=re.IGNORECASE, regex=True)]\n",
    "temp.head(50)"
   ]
  },
  {
   "cell_type": "markdown",
   "metadata": {},
   "source": [
    "My current plan for the most accurate way to approach this:"
   ]
  },
  {
   "cell_type": "markdown",
   "metadata": {},
   "source": [
    "First check for duplicate names in both datasets. If there is a duplicate name in either dataset, we need to check whether this is because there are 2 games with the same name. If this is the case, we need a way to distinguish between the 2. I would anticipate year of release could work."
   ]
  },
  {
   "cell_type": "markdown",
   "metadata": {},
   "source": [
    "The next step would be comparing names against alternate titles. After this, any that still have no matches, would be subject to fuzzy matching.I'd anticipate at least 75% of the games in the imdb dataset should be contained in giantbomb's database."
   ]
  },
  {
   "cell_type": "code",
   "execution_count": null,
   "metadata": {},
   "outputs": [],
   "source": [
    "imdb_dups = imdb_games[imdb_games.duplicated(['primaryTitle', 'startYear'], keep=False)]\n",
    "imdb_dups = imdb_dups.sort_values(\"primaryTitle\")\n",
    "print(imdb_dups)"
   ]
  }
 ],
 "metadata": {
  "kernelspec": {
   "display_name": "Python 3",
   "language": "python",
   "name": "python3"
  },
  "language_info": {
   "codemirror_mode": {
    "name": "ipython",
    "version": 3
   },
   "file_extension": ".py",
   "mimetype": "text/x-python",
   "name": "python",
   "nbconvert_exporter": "python",
   "pygments_lexer": "ipython3",
   "version": "3.8.5"
  }
 },
 "nbformat": 4,
 "nbformat_minor": 4
}
