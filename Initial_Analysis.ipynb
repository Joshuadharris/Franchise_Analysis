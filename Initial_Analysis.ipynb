{
 "cells": [
  {
   "cell_type": "code",
   "execution_count": 269,
   "metadata": {},
   "outputs": [],
   "source": [
    "import math\n",
    "import pandas as pd\n",
    "import numpy as np\n",
    "from scipy import stats\n",
    "from matplotlib.pylab import plt\n",
    "import seaborn as sns"
   ]
  },
  {
   "cell_type": "code",
   "execution_count": 270,
   "metadata": {},
   "outputs": [
    {
     "name": "stderr",
     "output_type": "stream",
     "text": [
      "D:\\Programs\\Anaconda3\\lib\\site-packages\\IPython\\core\\interactiveshell.py:3146: DtypeWarning: Columns (2,3,4) have mixed types.Specify dtype option on import or set low_memory=False.\n",
      "  has_raised = await self.run_ast_nodes(code_ast.body, cell_name,\n"
     ]
    }
   ],
   "source": [
    "movies_df = pd.read_csv(\"movies_with_franchises.csv\", index_col = 0)\n",
    "games_df = pd.read_csv(\"clean_games_with_franchises.csv\", index_col = 0)"
   ]
  },
  {
   "cell_type": "markdown",
   "metadata": {},
   "source": [
    "Naming convention to standardise the column names"
   ]
  },
  {
   "cell_type": "code",
   "execution_count": 271,
   "metadata": {},
   "outputs": [],
   "source": [
    "games_df = games_df.drop(\"titleType\", axis = 1)\n",
    "games_df = games_df.rename(columns = {\"rating\": \"age_rating\", \"startYear\": \"year\", \"primaryTitle\": \"title\", \"averageRating\": \"rating\", \"numVotes\": \"votes\", \"isAdult\" : \"is_adult\"})\n",
    "movies_df = movies_df.rename(columns={\"startYear\": \"year\", \"primaryTitle\": \"title\", \"isAdult\" : \"is_adult\", \"runtimeMinutes\": \"runtime\", \"averageRating\": \"rating\", \"numVotes\": \"votes\"})\n",
    "movies_df = movies_df[[\"franchise_name\", \"franchise_id\", \"tconst\", \"title\", \"year\", \"is_adult\", \"runtime\", \"genres\", \"rating\", \"votes\"]]"
   ]
  },
  {
   "cell_type": "code",
   "execution_count": 272,
   "metadata": {},
   "outputs": [
    {
     "data": {
      "text/html": [
       "<div>\n",
       "<style scoped>\n",
       "    .dataframe tbody tr th:only-of-type {\n",
       "        vertical-align: middle;\n",
       "    }\n",
       "\n",
       "    .dataframe tbody tr th {\n",
       "        vertical-align: top;\n",
       "    }\n",
       "\n",
       "    .dataframe thead th {\n",
       "        text-align: right;\n",
       "    }\n",
       "</style>\n",
       "<table border=\"1\" class=\"dataframe\">\n",
       "  <thead>\n",
       "    <tr style=\"text-align: right;\">\n",
       "      <th></th>\n",
       "      <th>franchise_name</th>\n",
       "      <th>franchise_id</th>\n",
       "      <th>tconst</th>\n",
       "      <th>title</th>\n",
       "      <th>year</th>\n",
       "      <th>is_adult</th>\n",
       "      <th>rating</th>\n",
       "      <th>votes</th>\n",
       "      <th>game_id</th>\n",
       "      <th>best_fit_ratio</th>\n",
       "      <th>genres</th>\n",
       "      <th>developers</th>\n",
       "      <th>platforms</th>\n",
       "      <th>publishers</th>\n",
       "      <th>age_rating</th>\n",
       "    </tr>\n",
       "  </thead>\n",
       "  <tbody>\n",
       "    <tr>\n",
       "      <th>14259</th>\n",
       "      <td>Dragon Ball Z</td>\n",
       "      <td>3025-159</td>\n",
       "      <td>tt5565974</td>\n",
       "      <td>Dragon Ball Z: Dokkan Battle</td>\n",
       "      <td>2015</td>\n",
       "      <td>0</td>\n",
       "      <td>7.2</td>\n",
       "      <td>60.0</td>\n",
       "      <td>5894.0</td>\n",
       "      <td>98.181818</td>\n",
       "      <td>['Fighting', 'Action']</td>\n",
       "      <td>NaN</td>\n",
       "      <td>['iPhone', 'iPad', 'Android']</td>\n",
       "      <td>['Bandai Namco Entertainment']</td>\n",
       "      <td>NaN</td>\n",
       "    </tr>\n",
       "  </tbody>\n",
       "</table>\n",
       "</div>"
      ],
      "text/plain": [
       "      franchise_name franchise_id     tconst                         title  \\\n",
       "14259  Dragon Ball Z     3025-159  tt5565974  Dragon Ball Z: Dokkan Battle   \n",
       "\n",
       "       year  is_adult  rating  votes  game_id  best_fit_ratio  \\\n",
       "14259  2015         0     7.2   60.0   5894.0       98.181818   \n",
       "\n",
       "                       genres developers                      platforms  \\\n",
       "14259  ['Fighting', 'Action']        NaN  ['iPhone', 'iPad', 'Android']   \n",
       "\n",
       "                           publishers age_rating  \n",
       "14259  ['Bandai Namco Entertainment']        NaN  "
      ]
     },
     "execution_count": 272,
     "metadata": {},
     "output_type": "execute_result"
    }
   ],
   "source": [
    "games_df.sample()"
   ]
  },
  {
   "cell_type": "code",
   "execution_count": 273,
   "metadata": {},
   "outputs": [
    {
     "data": {
      "text/html": [
       "<div>\n",
       "<style scoped>\n",
       "    .dataframe tbody tr th:only-of-type {\n",
       "        vertical-align: middle;\n",
       "    }\n",
       "\n",
       "    .dataframe tbody tr th {\n",
       "        vertical-align: top;\n",
       "    }\n",
       "\n",
       "    .dataframe thead th {\n",
       "        text-align: right;\n",
       "    }\n",
       "</style>\n",
       "<table border=\"1\" class=\"dataframe\">\n",
       "  <thead>\n",
       "    <tr style=\"text-align: right;\">\n",
       "      <th></th>\n",
       "      <th>franchise_name</th>\n",
       "      <th>franchise_id</th>\n",
       "      <th>tconst</th>\n",
       "      <th>title</th>\n",
       "      <th>year</th>\n",
       "      <th>is_adult</th>\n",
       "      <th>runtime</th>\n",
       "      <th>genres</th>\n",
       "      <th>rating</th>\n",
       "      <th>votes</th>\n",
       "    </tr>\n",
       "  </thead>\n",
       "  <tbody>\n",
       "    <tr>\n",
       "      <th>88290</th>\n",
       "      <td>NaN</td>\n",
       "      <td>NaN</td>\n",
       "      <td>tt0194506</td>\n",
       "      <td>virou bagunça</td>\n",
       "      <td>1960</td>\n",
       "      <td>0</td>\n",
       "      <td>90</td>\n",
       "      <td>Comedy,Musical</td>\n",
       "      <td>5.6</td>\n",
       "      <td>22.0</td>\n",
       "    </tr>\n",
       "  </tbody>\n",
       "</table>\n",
       "</div>"
      ],
      "text/plain": [
       "      franchise_name franchise_id     tconst          title  year  is_adult  \\\n",
       "88290            NaN          NaN  tt0194506  virou bagunça  1960         0   \n",
       "\n",
       "      runtime          genres  rating  votes  \n",
       "88290      90  Comedy,Musical     5.6   22.0  "
      ]
     },
     "execution_count": 273,
     "metadata": {},
     "output_type": "execute_result"
    }
   ],
   "source": [
    "movies_df.sample()"
   ]
  },
  {
   "cell_type": "markdown",
   "metadata": {},
   "source": [
    "- Normalize movies and games \n",
    "- Calculate z-scores\n",
    "- Add the following headings\\\n",
    "    &emsp;\"Time until next movie\"\\\n",
    "    &emsp;\"Difference in rating\"\n",
    "    \n",
    "    &emsp;\"Number in Franchise\""
   ]
  },
  {
   "cell_type": "markdown",
   "metadata": {},
   "source": [
    "Get number of movies/games in franchise"
   ]
  },
  {
   "cell_type": "code",
   "execution_count": 274,
   "metadata": {},
   "outputs": [
    {
     "data": {
      "text/html": [
       "<div>\n",
       "<style scoped>\n",
       "    .dataframe tbody tr th:only-of-type {\n",
       "        vertical-align: middle;\n",
       "    }\n",
       "\n",
       "    .dataframe tbody tr th {\n",
       "        vertical-align: top;\n",
       "    }\n",
       "\n",
       "    .dataframe thead th {\n",
       "        text-align: right;\n",
       "    }\n",
       "</style>\n",
       "<table border=\"1\" class=\"dataframe\">\n",
       "  <thead>\n",
       "    <tr style=\"text-align: right;\">\n",
       "      <th></th>\n",
       "      <th>franchise_name</th>\n",
       "      <th>franchise_id</th>\n",
       "      <th>tconst</th>\n",
       "      <th>title</th>\n",
       "      <th>year</th>\n",
       "      <th>is_adult</th>\n",
       "      <th>runtime</th>\n",
       "      <th>genres</th>\n",
       "      <th>rating</th>\n",
       "      <th>votes</th>\n",
       "      <th>franchise_count</th>\n",
       "    </tr>\n",
       "  </thead>\n",
       "  <tbody>\n",
       "    <tr>\n",
       "      <th>251756</th>\n",
       "      <td>NaN</td>\n",
       "      <td>NaN</td>\n",
       "      <td>tt4942328</td>\n",
       "      <td>veer baahubali</td>\n",
       "      <td>2005</td>\n",
       "      <td>0</td>\n",
       "      <td>\\N</td>\n",
       "      <td>Action</td>\n",
       "      <td>4.0</td>\n",
       "      <td>13.0</td>\n",
       "      <td>NaN</td>\n",
       "    </tr>\n",
       "  </tbody>\n",
       "</table>\n",
       "</div>"
      ],
      "text/plain": [
       "       franchise_name franchise_id     tconst           title  year  is_adult  \\\n",
       "251756            NaN          NaN  tt4942328  veer baahubali  2005         0   \n",
       "\n",
       "       runtime  genres  rating  votes  franchise_count  \n",
       "251756      \\N  Action     4.0   13.0              NaN  "
      ]
     },
     "execution_count": 274,
     "metadata": {},
     "output_type": "execute_result"
    }
   ],
   "source": [
    "movies_df['franchise_count'] = movies_df['franchise_id'].map(movies_df['franchise_id'].value_counts())\n",
    "games_df['franchise_count'] = games_df['franchise_id'].map(games_df['franchise_id'].value_counts())\n",
    "movies_df.sample()"
   ]
  },
  {
   "cell_type": "markdown",
   "metadata": {},
   "source": [
    "Get an overview of how many franchises have x amount of movies / games"
   ]
  },
  {
   "cell_type": "code",
   "execution_count": 275,
   "metadata": {},
   "outputs": [
    {
     "data": {
      "text/plain": [
       "1      158\n",
       "2      154\n",
       "3      399\n",
       "4      152\n",
       "5       69\n",
       "6       52\n",
       "7       36\n",
       "8       23\n",
       "9       16\n",
       "10      18\n",
       "11      10\n",
       "12      11\n",
       "13       9\n",
       "14       3\n",
       "15       8\n",
       "16       7\n",
       "17       2\n",
       "18       2\n",
       "19       4\n",
       "20       4\n",
       "21       3\n",
       "22       3\n",
       "23       1\n",
       "24       3\n",
       "25       2\n",
       "27       1\n",
       "28       3\n",
       "31       1\n",
       "33       1\n",
       "34       1\n",
       "35       1\n",
       "36       1\n",
       "38       1\n",
       "39       1\n",
       "42       1\n",
       "46       1\n",
       "48       1\n",
       "52       1\n",
       "62       1\n",
       "63       1\n",
       "73       1\n",
       "77       1\n",
       "145      1\n",
       "Name: franchise_id, dtype: int64"
      ]
     },
     "execution_count": 275,
     "metadata": {},
     "output_type": "execute_result"
    }
   ],
   "source": [
    "movies_df[\"franchise_id\"].value_counts().value_counts().sort_index()"
   ]
  },
  {
   "cell_type": "code",
   "execution_count": 276,
   "metadata": {},
   "outputs": [
    {
     "data": {
      "text/plain": [
       "1      489\n",
       "2      427\n",
       "3      328\n",
       "4      199\n",
       "5      129\n",
       "6      123\n",
       "7       63\n",
       "8       47\n",
       "9       35\n",
       "10      26\n",
       "11      23\n",
       "12      22\n",
       "13      11\n",
       "14      18\n",
       "15      14\n",
       "16      11\n",
       "17       6\n",
       "18       7\n",
       "19       9\n",
       "20      10\n",
       "21       8\n",
       "22       5\n",
       "23       7\n",
       "24       1\n",
       "25       2\n",
       "26       1\n",
       "27       3\n",
       "28       3\n",
       "29       2\n",
       "30       1\n",
       "31       3\n",
       "33       1\n",
       "34       3\n",
       "35       5\n",
       "36       2\n",
       "37       4\n",
       "38       1\n",
       "40       1\n",
       "41       1\n",
       "45       1\n",
       "46       1\n",
       "48       1\n",
       "49       2\n",
       "50       1\n",
       "56       2\n",
       "58       1\n",
       "60       1\n",
       "61       1\n",
       "79       2\n",
       "80       1\n",
       "82       1\n",
       "84       1\n",
       "88       1\n",
       "106      1\n",
       "121      1\n",
       "172      1\n",
       "195      1\n",
       "216      1\n",
       "Name: franchise_id, dtype: int64"
      ]
     },
     "execution_count": 276,
     "metadata": {},
     "output_type": "execute_result"
    }
   ],
   "source": [
    "games_df[\"franchise_id\"].value_counts().value_counts().sort_index()"
   ]
  },
  {
   "cell_type": "markdown",
   "metadata": {},
   "source": [
    "Get total number of franchises:"
   ]
  },
  {
   "cell_type": "code",
   "execution_count": 277,
   "metadata": {},
   "outputs": [
    {
     "data": {
      "text/plain": [
       "1169"
      ]
     },
     "execution_count": 277,
     "metadata": {},
     "output_type": "execute_result"
    }
   ],
   "source": [
    "movies_df.franchise_id.nunique()"
   ]
  },
  {
   "cell_type": "code",
   "execution_count": 278,
   "metadata": {},
   "outputs": [
    {
     "data": {
      "text/plain": [
       "2073"
      ]
     },
     "execution_count": 278,
     "metadata": {},
     "output_type": "execute_result"
    }
   ],
   "source": [
    "games_df.franchise_id.nunique()"
   ]
  },
  {
   "cell_type": "markdown",
   "metadata": {},
   "source": [
    "Remove any movies or games where the total franchise count after matching the series is less than 3"
   ]
  },
  {
   "cell_type": "code",
   "execution_count": 279,
   "metadata": {},
   "outputs": [],
   "source": [
    "movies_df[[\"franchise_id\", \"franchise_name\", \"franchise_count\"]] = movies_df[[\"franchise_id\", \"franchise_name\", \"franchise_count\"]].apply(lambda x: np.nan if x[\"franchise_count\"] < 3 else x, axis=1).sort_values(\"franchise_count\")\n",
    "games_df[[\"franchise_id\", \"franchise_name\", \"franchise_count\"]] = games_df[[\"franchise_id\", \"franchise_name\", \"franchise_count\"]].apply(lambda x: np.nan if x[\"franchise_count\"] < 3 else x, axis=1).sort_values(\"franchise_count\")"
   ]
  },
  {
   "cell_type": "markdown",
   "metadata": {},
   "source": [
    "Get total number of franchises with more than 3:"
   ]
  },
  {
   "cell_type": "code",
   "execution_count": 280,
   "metadata": {},
   "outputs": [
    {
     "data": {
      "text/plain": [
       "857"
      ]
     },
     "execution_count": 280,
     "metadata": {},
     "output_type": "execute_result"
    }
   ],
   "source": [
    "movies_df.franchise_id.nunique()"
   ]
  },
  {
   "cell_type": "code",
   "execution_count": 281,
   "metadata": {},
   "outputs": [
    {
     "data": {
      "text/plain": [
       "1157"
      ]
     },
     "execution_count": 281,
     "metadata": {},
     "output_type": "execute_result"
    }
   ],
   "source": [
    "games_df.franchise_id.nunique()"
   ]
  },
  {
   "cell_type": "markdown",
   "metadata": {},
   "source": [
    "Remove non-numerical years from data and convert to int"
   ]
  },
  {
   "cell_type": "code",
   "execution_count": 282,
   "metadata": {},
   "outputs": [],
   "source": [
    "movies_df = movies_df[~(movies_df[\"year\"] == \"\\\\N\")]\n",
    "games_df = games_df[~(games_df[\"year\"] == \"\\\\N\")]\n",
    "movies_df[\"year\"] = movies_df[\"year\"].apply(lambda x: int(x))\n",
    "games_df[\"year\"] = games_df[\"year\"].apply(lambda x: int(x))"
   ]
  },
  {
   "cell_type": "markdown",
   "metadata": {},
   "source": [
    "Create additional columns for the datasets containing average rating for the franchises"
   ]
  },
  {
   "cell_type": "code",
   "execution_count": 283,
   "metadata": {},
   "outputs": [],
   "source": [
    "#av_vote_year = movies_df.groupby(['franchise_id', 'year'])['rating'].mean().reset_index(drop=False)\n",
    "#movies_df = movies_df.merge(av_vote_year[['franchise_id', 'year', 'rating']], on=['franchise_id', 'year'], how = \"outer\", suffixes=(None, '_franchise_average'))\n",
    "#av_vote_year = games_df.groupby(['franchise_id', 'year'])['rating'].mean().reset_index(drop=False)\n",
    "#games_df = games_df.merge(av_vote_year[['franchise_id', 'year', 'rating']], on=['franchise_id', 'year'], how = \"outer\", suffixes=(None, '_franchise_average'))\n"
   ]
  },
  {
   "cell_type": "code",
   "execution_count": 313,
   "metadata": {},
   "outputs": [],
   "source": [
    "movies_df = movies_df.sort_values([\"franchise_id\", \"year\"])\n",
    "movies_df['year_difference'] = movies_df.groupby(['franchise_id'])['year'].diff()"
   ]
  },
  {
   "cell_type": "code",
   "execution_count": 314,
   "metadata": {},
   "outputs": [],
   "source": [
    "games_df.sort_values([\"franchise_id\", \"year\"])\n",
    "games_df['year_difference'] = games_df.groupby(['franchise_id'])['year'].diff()"
   ]
  },
  {
   "cell_type": "code",
   "execution_count": 309,
   "metadata": {},
   "outputs": [
    {
     "data": {
      "text/html": [
       "<div>\n",
       "<style scoped>\n",
       "    .dataframe tbody tr th:only-of-type {\n",
       "        vertical-align: middle;\n",
       "    }\n",
       "\n",
       "    .dataframe tbody tr th {\n",
       "        vertical-align: top;\n",
       "    }\n",
       "\n",
       "    .dataframe thead th {\n",
       "        text-align: right;\n",
       "    }\n",
       "</style>\n",
       "<table border=\"1\" class=\"dataframe\">\n",
       "  <thead>\n",
       "    <tr style=\"text-align: right;\">\n",
       "      <th></th>\n",
       "      <th>franchise_name</th>\n",
       "      <th>franchise_id</th>\n",
       "      <th>tconst</th>\n",
       "      <th>title</th>\n",
       "      <th>year</th>\n",
       "      <th>is_adult</th>\n",
       "      <th>runtime</th>\n",
       "      <th>genres</th>\n",
       "      <th>rating</th>\n",
       "      <th>votes</th>\n",
       "      <th>franchise_count</th>\n",
       "      <th>year_difference</th>\n",
       "    </tr>\n",
       "  </thead>\n",
       "  <tbody>\n",
       "    <tr>\n",
       "      <th>4813</th>\n",
       "      <td>The Aldrich Family</td>\n",
       "      <td>f0</td>\n",
       "      <td>tt0032123</td>\n",
       "      <td>what a life</td>\n",
       "      <td>1939</td>\n",
       "      <td>0</td>\n",
       "      <td>75</td>\n",
       "      <td>Comedy,Drama</td>\n",
       "      <td>6.9</td>\n",
       "      <td>93.0</td>\n",
       "      <td>11.0</td>\n",
       "      <td>NaN</td>\n",
       "    </tr>\n",
       "    <tr>\n",
       "      <th>4814</th>\n",
       "      <td>The Aldrich Family</td>\n",
       "      <td>f0</td>\n",
       "      <td>tt0033834</td>\n",
       "      <td>life with henry</td>\n",
       "      <td>1940</td>\n",
       "      <td>0</td>\n",
       "      <td>80</td>\n",
       "      <td>Comedy,Family,Music</td>\n",
       "      <td>6.0</td>\n",
       "      <td>49.0</td>\n",
       "      <td>11.0</td>\n",
       "      <td>1.0</td>\n",
       "    </tr>\n",
       "    <tr>\n",
       "      <th>4815</th>\n",
       "      <td>The Aldrich Family</td>\n",
       "      <td>f0</td>\n",
       "      <td>tt0033708</td>\n",
       "      <td>henry aldrich for president</td>\n",
       "      <td>1941</td>\n",
       "      <td>0</td>\n",
       "      <td>75</td>\n",
       "      <td>Comedy,Family</td>\n",
       "      <td>6.6</td>\n",
       "      <td>146.0</td>\n",
       "      <td>11.0</td>\n",
       "      <td>1.0</td>\n",
       "    </tr>\n",
       "    <tr>\n",
       "      <th>4816</th>\n",
       "      <td>The Aldrich Family</td>\n",
       "      <td>f0</td>\n",
       "      <td>tt0034842</td>\n",
       "      <td>henry aldrich, editor</td>\n",
       "      <td>1942</td>\n",
       "      <td>0</td>\n",
       "      <td>72</td>\n",
       "      <td>Comedy,Drama,Family</td>\n",
       "      <td>6.4</td>\n",
       "      <td>150.0</td>\n",
       "      <td>11.0</td>\n",
       "      <td>1.0</td>\n",
       "    </tr>\n",
       "    <tr>\n",
       "      <th>4817</th>\n",
       "      <td>The Aldrich Family</td>\n",
       "      <td>f0</td>\n",
       "      <td>tt0034844</td>\n",
       "      <td>henry and dizzy</td>\n",
       "      <td>1942</td>\n",
       "      <td>0</td>\n",
       "      <td>71</td>\n",
       "      <td>Comedy,Family</td>\n",
       "      <td>7.2</td>\n",
       "      <td>58.0</td>\n",
       "      <td>11.0</td>\n",
       "      <td>0.0</td>\n",
       "    </tr>\n",
       "    <tr>\n",
       "      <th>4818</th>\n",
       "      <td>The Aldrich Family</td>\n",
       "      <td>f0</td>\n",
       "      <td>tt0035985</td>\n",
       "      <td>henry aldrich swings it</td>\n",
       "      <td>1943</td>\n",
       "      <td>0</td>\n",
       "      <td>64</td>\n",
       "      <td>Comedy,Family</td>\n",
       "      <td>8.3</td>\n",
       "      <td>110.0</td>\n",
       "      <td>11.0</td>\n",
       "      <td>1.0</td>\n",
       "    </tr>\n",
       "    <tr>\n",
       "      <th>4819</th>\n",
       "      <td>The Aldrich Family</td>\n",
       "      <td>f0</td>\n",
       "      <td>tt0035983</td>\n",
       "      <td>henry aldrich gets glamour</td>\n",
       "      <td>1943</td>\n",
       "      <td>0</td>\n",
       "      <td>72</td>\n",
       "      <td>Adventure,Comedy,Family</td>\n",
       "      <td>6.4</td>\n",
       "      <td>130.0</td>\n",
       "      <td>11.0</td>\n",
       "      <td>0.0</td>\n",
       "    </tr>\n",
       "    <tr>\n",
       "      <th>4820</th>\n",
       "      <td>The Aldrich Family</td>\n",
       "      <td>f0</td>\n",
       "      <td>tt0035984</td>\n",
       "      <td>henry aldrich haunts a house</td>\n",
       "      <td>1943</td>\n",
       "      <td>0</td>\n",
       "      <td>73</td>\n",
       "      <td>Adventure,Comedy,Family</td>\n",
       "      <td>6.3</td>\n",
       "      <td>151.0</td>\n",
       "      <td>11.0</td>\n",
       "      <td>0.0</td>\n",
       "    </tr>\n",
       "    <tr>\n",
       "      <th>4821</th>\n",
       "      <td>The Aldrich Family</td>\n",
       "      <td>f0</td>\n",
       "      <td>tt0036909</td>\n",
       "      <td>henry aldrich, boy scout</td>\n",
       "      <td>1944</td>\n",
       "      <td>0</td>\n",
       "      <td>66</td>\n",
       "      <td>Comedy,Family</td>\n",
       "      <td>6.5</td>\n",
       "      <td>129.0</td>\n",
       "      <td>11.0</td>\n",
       "      <td>1.0</td>\n",
       "    </tr>\n",
       "    <tr>\n",
       "      <th>4822</th>\n",
       "      <td>The Aldrich Family</td>\n",
       "      <td>f0</td>\n",
       "      <td>tt0036907</td>\n",
       "      <td>henry aldrich plays cupid</td>\n",
       "      <td>1944</td>\n",
       "      <td>0</td>\n",
       "      <td>65</td>\n",
       "      <td>Comedy,Family</td>\n",
       "      <td>8.2</td>\n",
       "      <td>100.0</td>\n",
       "      <td>11.0</td>\n",
       "      <td>0.0</td>\n",
       "    </tr>\n",
       "  </tbody>\n",
       "</table>\n",
       "</div>"
      ],
      "text/plain": [
       "          franchise_name franchise_id     tconst  \\\n",
       "4813  The Aldrich Family           f0  tt0032123   \n",
       "4814  The Aldrich Family           f0  tt0033834   \n",
       "4815  The Aldrich Family           f0  tt0033708   \n",
       "4816  The Aldrich Family           f0  tt0034842   \n",
       "4817  The Aldrich Family           f0  tt0034844   \n",
       "4818  The Aldrich Family           f0  tt0035985   \n",
       "4819  The Aldrich Family           f0  tt0035983   \n",
       "4820  The Aldrich Family           f0  tt0035984   \n",
       "4821  The Aldrich Family           f0  tt0036909   \n",
       "4822  The Aldrich Family           f0  tt0036907   \n",
       "\n",
       "                             title  year  is_adult runtime  \\\n",
       "4813                   what a life  1939         0      75   \n",
       "4814               life with henry  1940         0      80   \n",
       "4815   henry aldrich for president  1941         0      75   \n",
       "4816         henry aldrich, editor  1942         0      72   \n",
       "4817               henry and dizzy  1942         0      71   \n",
       "4818       henry aldrich swings it  1943         0      64   \n",
       "4819    henry aldrich gets glamour  1943         0      72   \n",
       "4820  henry aldrich haunts a house  1943         0      73   \n",
       "4821      henry aldrich, boy scout  1944         0      66   \n",
       "4822     henry aldrich plays cupid  1944         0      65   \n",
       "\n",
       "                       genres  rating  votes  franchise_count  year_difference  \n",
       "4813             Comedy,Drama     6.9   93.0             11.0              NaN  \n",
       "4814      Comedy,Family,Music     6.0   49.0             11.0              1.0  \n",
       "4815            Comedy,Family     6.6  146.0             11.0              1.0  \n",
       "4816      Comedy,Drama,Family     6.4  150.0             11.0              1.0  \n",
       "4817            Comedy,Family     7.2   58.0             11.0              0.0  \n",
       "4818            Comedy,Family     8.3  110.0             11.0              1.0  \n",
       "4819  Adventure,Comedy,Family     6.4  130.0             11.0              0.0  \n",
       "4820  Adventure,Comedy,Family     6.3  151.0             11.0              0.0  \n",
       "4821            Comedy,Family     6.5  129.0             11.0              1.0  \n",
       "4822            Comedy,Family     8.2  100.0             11.0              0.0  "
      ]
     },
     "execution_count": 309,
     "metadata": {},
     "output_type": "execute_result"
    }
   ],
   "source": [
    "movies_df.sort_values([\"franchise_id\", \"year\"]).head(10)"
   ]
  },
  {
   "cell_type": "markdown",
   "metadata": {},
   "source": [
    "## Creating a modified dataset, containing merged years"
   ]
  },
  {
   "cell_type": "markdown",
   "metadata": {},
   "source": [
    "Create a copy"
   ]
  },
  {
   "cell_type": "code",
   "execution_count": 284,
   "metadata": {},
   "outputs": [],
   "source": [
    "grouped_movies_df = movies_df.copy(deep=True)"
   ]
  },
  {
   "cell_type": "markdown",
   "metadata": {},
   "source": [
    "Convert genres to list"
   ]
  },
  {
   "cell_type": "code",
   "execution_count": 285,
   "metadata": {},
   "outputs": [],
   "source": [
    "grouped_movies_df[\"genres\"] = grouped_movies_df.genres.apply(lambda x : x.split(','))"
   ]
  },
  {
   "cell_type": "markdown",
   "metadata": {},
   "source": [
    "Get total for each year, for each franchise"
   ]
  },
  {
   "cell_type": "code",
   "execution_count": 286,
   "metadata": {},
   "outputs": [],
   "source": [
    "grouped_movies_df['year_franchise_movies_total'] = grouped_movies_df.groupby([\"franchise_id\", \"year\"])[\"year\"].transform('count')"
   ]
  },
  {
   "cell_type": "code",
   "execution_count": null,
   "metadata": {},
   "outputs": [],
   "source": [
    "Create average votes and ratings for each franchise"
   ]
  },
  {
   "cell_type": "code",
   "execution_count": 287,
   "metadata": {},
   "outputs": [],
   "source": [
    "grouped_movies = grouped_movies_df.groupby([\"franchise_id\", \"year\"]).agg({\"votes\": \"mean\", \"rating\": \"mean\"}).reset_index()\n",
    "merged_df = pd.merge(grouped_movies_df, grouped_movies, on=[\"franchise_id\", \"year\"], suffixes=(None, '_average'))"
   ]
  },
  {
   "cell_type": "code",
   "execution_count": null,
   "metadata": {},
   "outputs": [],
   "source": []
  },
  {
   "cell_type": "code",
   "execution_count": 288,
   "metadata": {},
   "outputs": [],
   "source": [
    "# group by name and release year, aggregate the franchise_id lists\n",
    "merged_df = merged_df.groupby(['franchise_id', 'year'], as_index=False).agg(({\n",
    "    'franchise_name': 'first',\n",
    "    'franchise_id': 'first',\n",
    "    'tconst': \", \".join,\n",
    "    'title': \", \".join,\n",
    "    \"year\": 'first',\n",
    "    \"is_adult\": \"first\",\n",
    "    \"runtime\" : \"first\",\n",
    "    \"genres\": lambda x: list(set([i for l in x for i in l])),\n",
    "    \"votes_average\": \"first\", \n",
    "    \"rating_average\": \"first\", \n",
    "    \"franchise_count\" : \"first\",\n",
    "    \"year_franchise_movies_total\": \"first\", \n",
    "    }))"
   ]
  },
  {
   "cell_type": "code",
   "execution_count": 289,
   "metadata": {},
   "outputs": [],
   "source": [
    "merged_df['year_difference'] = merged_df.groupby(['franchise_id'])['year'].diff()"
   ]
  },
  {
   "cell_type": "code",
   "execution_count": 298,
   "metadata": {},
   "outputs": [
    {
     "data": {
      "text/html": [
       "<div>\n",
       "<style scoped>\n",
       "    .dataframe tbody tr th:only-of-type {\n",
       "        vertical-align: middle;\n",
       "    }\n",
       "\n",
       "    .dataframe tbody tr th {\n",
       "        vertical-align: top;\n",
       "    }\n",
       "\n",
       "    .dataframe thead th {\n",
       "        text-align: right;\n",
       "    }\n",
       "</style>\n",
       "<table border=\"1\" class=\"dataframe\">\n",
       "  <thead>\n",
       "    <tr style=\"text-align: right;\">\n",
       "      <th></th>\n",
       "      <th>franchise_name</th>\n",
       "      <th>franchise_id</th>\n",
       "      <th>tconst</th>\n",
       "      <th>title</th>\n",
       "      <th>year</th>\n",
       "      <th>is_adult</th>\n",
       "      <th>runtime</th>\n",
       "      <th>genres</th>\n",
       "      <th>votes_average</th>\n",
       "      <th>rating_average</th>\n",
       "      <th>franchise_count</th>\n",
       "      <th>year_franchise_movies_total</th>\n",
       "      <th>year_difference</th>\n",
       "    </tr>\n",
       "  </thead>\n",
       "  <tbody>\n",
       "    <tr>\n",
       "      <th>0</th>\n",
       "      <td>The Aldrich Family</td>\n",
       "      <td>f0</td>\n",
       "      <td>tt0032123</td>\n",
       "      <td>what a life</td>\n",
       "      <td>1939</td>\n",
       "      <td>0</td>\n",
       "      <td>75</td>\n",
       "      <td>[Comedy, Drama]</td>\n",
       "      <td>93.000000</td>\n",
       "      <td>6.90</td>\n",
       "      <td>11.0</td>\n",
       "      <td>1.0</td>\n",
       "      <td>NaN</td>\n",
       "    </tr>\n",
       "    <tr>\n",
       "      <th>1</th>\n",
       "      <td>The Aldrich Family</td>\n",
       "      <td>f0</td>\n",
       "      <td>tt0033834</td>\n",
       "      <td>life with henry</td>\n",
       "      <td>1940</td>\n",
       "      <td>0</td>\n",
       "      <td>80</td>\n",
       "      <td>[Comedy, Music, Family]</td>\n",
       "      <td>49.000000</td>\n",
       "      <td>6.00</td>\n",
       "      <td>11.0</td>\n",
       "      <td>1.0</td>\n",
       "      <td>1.0</td>\n",
       "    </tr>\n",
       "    <tr>\n",
       "      <th>2</th>\n",
       "      <td>The Aldrich Family</td>\n",
       "      <td>f0</td>\n",
       "      <td>tt0033708</td>\n",
       "      <td>henry aldrich for president</td>\n",
       "      <td>1941</td>\n",
       "      <td>0</td>\n",
       "      <td>75</td>\n",
       "      <td>[Comedy, Family]</td>\n",
       "      <td>146.000000</td>\n",
       "      <td>6.60</td>\n",
       "      <td>11.0</td>\n",
       "      <td>1.0</td>\n",
       "      <td>1.0</td>\n",
       "    </tr>\n",
       "    <tr>\n",
       "      <th>3</th>\n",
       "      <td>The Aldrich Family</td>\n",
       "      <td>f0</td>\n",
       "      <td>tt0034842, tt0034844</td>\n",
       "      <td>henry aldrich, editor, henry and dizzy</td>\n",
       "      <td>1942</td>\n",
       "      <td>0</td>\n",
       "      <td>72</td>\n",
       "      <td>[Family, Comedy, Drama]</td>\n",
       "      <td>104.000000</td>\n",
       "      <td>6.80</td>\n",
       "      <td>11.0</td>\n",
       "      <td>2.0</td>\n",
       "      <td>1.0</td>\n",
       "    </tr>\n",
       "    <tr>\n",
       "      <th>4</th>\n",
       "      <td>The Aldrich Family</td>\n",
       "      <td>f0</td>\n",
       "      <td>tt0035985, tt0035983, tt0035984</td>\n",
       "      <td>henry aldrich swings it, henry aldrich gets gl...</td>\n",
       "      <td>1943</td>\n",
       "      <td>0</td>\n",
       "      <td>64</td>\n",
       "      <td>[Comedy, Adventure, Family]</td>\n",
       "      <td>130.333333</td>\n",
       "      <td>7.00</td>\n",
       "      <td>11.0</td>\n",
       "      <td>3.0</td>\n",
       "      <td>1.0</td>\n",
       "    </tr>\n",
       "    <tr>\n",
       "      <th>...</th>\n",
       "      <td>...</td>\n",
       "      <td>...</td>\n",
       "      <td>...</td>\n",
       "      <td>...</td>\n",
       "      <td>...</td>\n",
       "      <td>...</td>\n",
       "      <td>...</td>\n",
       "      <td>...</td>\n",
       "      <td>...</td>\n",
       "      <td>...</td>\n",
       "      <td>...</td>\n",
       "      <td>...</td>\n",
       "      <td>...</td>\n",
       "    </tr>\n",
       "    <tr>\n",
       "      <th>4073</th>\n",
       "      <td>Renato Castellani's Italian neorealism trilogy</td>\n",
       "      <td>f993</td>\n",
       "      <td>tt0040018</td>\n",
       "      <td>it's forever springtime</td>\n",
       "      <td>1950</td>\n",
       "      <td>0</td>\n",
       "      <td>92</td>\n",
       "      <td>[Comedy, Drama]</td>\n",
       "      <td>99.000000</td>\n",
       "      <td>6.40</td>\n",
       "      <td>3.0</td>\n",
       "      <td>1.0</td>\n",
       "      <td>2.0</td>\n",
       "    </tr>\n",
       "    <tr>\n",
       "      <th>4074</th>\n",
       "      <td>Renato Castellani's Italian neorealism trilogy</td>\n",
       "      <td>f993</td>\n",
       "      <td>tt0044572</td>\n",
       "      <td>two cents worth of hope</td>\n",
       "      <td>1952</td>\n",
       "      <td>0</td>\n",
       "      <td>110</td>\n",
       "      <td>[Comedy, Romance]</td>\n",
       "      <td>658.000000</td>\n",
       "      <td>7.00</td>\n",
       "      <td>3.0</td>\n",
       "      <td>1.0</td>\n",
       "      <td>2.0</td>\n",
       "    </tr>\n",
       "    <tr>\n",
       "      <th>4075</th>\n",
       "      <td>It's Alive</td>\n",
       "      <td>f994</td>\n",
       "      <td>tt0071198, tt0071675</td>\n",
       "      <td>the bat people, it's alive</td>\n",
       "      <td>1974</td>\n",
       "      <td>0</td>\n",
       "      <td>93</td>\n",
       "      <td>[Sci-Fi, Romance, Horror]</td>\n",
       "      <td>5449.500000</td>\n",
       "      <td>4.25</td>\n",
       "      <td>4.0</td>\n",
       "      <td>2.0</td>\n",
       "      <td>NaN</td>\n",
       "    </tr>\n",
       "    <tr>\n",
       "      <th>4076</th>\n",
       "      <td>It's Alive</td>\n",
       "      <td>f994</td>\n",
       "      <td>tt0077756</td>\n",
       "      <td>it lives again</td>\n",
       "      <td>1978</td>\n",
       "      <td>0</td>\n",
       "      <td>91</td>\n",
       "      <td>[Sci-Fi, Horror]</td>\n",
       "      <td>2494.000000</td>\n",
       "      <td>5.20</td>\n",
       "      <td>4.0</td>\n",
       "      <td>1.0</td>\n",
       "      <td>4.0</td>\n",
       "    </tr>\n",
       "    <tr>\n",
       "      <th>4077</th>\n",
       "      <td>It's Alive</td>\n",
       "      <td>f994</td>\n",
       "      <td>tt0093286</td>\n",
       "      <td>it's alive iii: island of the alive</td>\n",
       "      <td>1987</td>\n",
       "      <td>0</td>\n",
       "      <td>95</td>\n",
       "      <td>[Sci-Fi, Horror]</td>\n",
       "      <td>2068.000000</td>\n",
       "      <td>4.80</td>\n",
       "      <td>4.0</td>\n",
       "      <td>1.0</td>\n",
       "      <td>9.0</td>\n",
       "    </tr>\n",
       "  </tbody>\n",
       "</table>\n",
       "<p>4078 rows × 13 columns</p>\n",
       "</div>"
      ],
      "text/plain": [
       "                                      franchise_name franchise_id  \\\n",
       "0                                 The Aldrich Family           f0   \n",
       "1                                 The Aldrich Family           f0   \n",
       "2                                 The Aldrich Family           f0   \n",
       "3                                 The Aldrich Family           f0   \n",
       "4                                 The Aldrich Family           f0   \n",
       "...                                              ...          ...   \n",
       "4073  Renato Castellani's Italian neorealism trilogy         f993   \n",
       "4074  Renato Castellani's Italian neorealism trilogy         f993   \n",
       "4075                                      It's Alive         f994   \n",
       "4076                                      It's Alive         f994   \n",
       "4077                                      It's Alive         f994   \n",
       "\n",
       "                               tconst  \\\n",
       "0                           tt0032123   \n",
       "1                           tt0033834   \n",
       "2                           tt0033708   \n",
       "3                tt0034842, tt0034844   \n",
       "4     tt0035985, tt0035983, tt0035984   \n",
       "...                               ...   \n",
       "4073                        tt0040018   \n",
       "4074                        tt0044572   \n",
       "4075             tt0071198, tt0071675   \n",
       "4076                        tt0077756   \n",
       "4077                        tt0093286   \n",
       "\n",
       "                                                  title  year  is_adult  \\\n",
       "0                                           what a life  1939         0   \n",
       "1                                       life with henry  1940         0   \n",
       "2                           henry aldrich for president  1941         0   \n",
       "3                henry aldrich, editor, henry and dizzy  1942         0   \n",
       "4     henry aldrich swings it, henry aldrich gets gl...  1943         0   \n",
       "...                                                 ...   ...       ...   \n",
       "4073                            it's forever springtime  1950         0   \n",
       "4074                            two cents worth of hope  1952         0   \n",
       "4075                         the bat people, it's alive  1974         0   \n",
       "4076                                     it lives again  1978         0   \n",
       "4077                it's alive iii: island of the alive  1987         0   \n",
       "\n",
       "     runtime                       genres  votes_average  rating_average  \\\n",
       "0         75              [Comedy, Drama]      93.000000            6.90   \n",
       "1         80      [Comedy, Music, Family]      49.000000            6.00   \n",
       "2         75             [Comedy, Family]     146.000000            6.60   \n",
       "3         72      [Family, Comedy, Drama]     104.000000            6.80   \n",
       "4         64  [Comedy, Adventure, Family]     130.333333            7.00   \n",
       "...      ...                          ...            ...             ...   \n",
       "4073      92              [Comedy, Drama]      99.000000            6.40   \n",
       "4074     110            [Comedy, Romance]     658.000000            7.00   \n",
       "4075      93    [Sci-Fi, Romance, Horror]    5449.500000            4.25   \n",
       "4076      91             [Sci-Fi, Horror]    2494.000000            5.20   \n",
       "4077      95             [Sci-Fi, Horror]    2068.000000            4.80   \n",
       "\n",
       "      franchise_count  year_franchise_movies_total  year_difference  \n",
       "0                11.0                          1.0              NaN  \n",
       "1                11.0                          1.0              1.0  \n",
       "2                11.0                          1.0              1.0  \n",
       "3                11.0                          2.0              1.0  \n",
       "4                11.0                          3.0              1.0  \n",
       "...               ...                          ...              ...  \n",
       "4073              3.0                          1.0              2.0  \n",
       "4074              3.0                          1.0              2.0  \n",
       "4075              4.0                          2.0              NaN  \n",
       "4076              4.0                          1.0              4.0  \n",
       "4077              4.0                          1.0              9.0  \n",
       "\n",
       "[4078 rows x 13 columns]"
      ]
     },
     "execution_count": 298,
     "metadata": {},
     "output_type": "execute_result"
    }
   ],
   "source": [
    "merged_df"
   ]
  },
  {
   "cell_type": "code",
   "execution_count": 322,
   "metadata": {},
   "outputs": [
    {
     "data": {
      "text/plain": [
       "<AxesSubplot:ylabel='Density'>"
      ]
     },
     "execution_count": 322,
     "metadata": {},
     "output_type": "execute_result"
    },
    {
     "data": {
      "image/png": "[encoded data removed]",
      "text/plain": [
       "<Figure size 432x288 with 1 Axes>"
      ]
     },
     "metadata": {
      "needs_background": "light"
     },
     "output_type": "display_data"
    }
   ],
   "source": [
    "movies_df[\"year_difference\"].describe().plot.kde()"
   ]
  },
  {
   "cell_type": "code",
   "execution_count": 316,
   "metadata": {},
   "outputs": [
    {
     "data": {
      "text/plain": [
       "count    8708.000000\n",
       "mean        0.834864\n",
       "std         8.618455\n",
       "min       -50.000000\n",
       "25%        -2.000000\n",
       "50%         1.000000\n",
       "75%         4.000000\n",
       "max        42.000000\n",
       "Name: year_difference, dtype: float64"
      ]
     },
     "execution_count": 316,
     "metadata": {},
     "output_type": "execute_result"
    }
   ],
   "source": [
    "games_df[\"year_difference\"].describe()"
   ]
  },
  {
   "cell_type": "code",
   "execution_count": 310,
   "metadata": {},
   "outputs": [
    {
     "data": {
      "text/plain": [
       "count    3221.000000\n",
       "mean        4.241540\n",
       "std         7.022946\n",
       "min         1.000000\n",
       "25%         1.000000\n",
       "50%         2.000000\n",
       "75%         4.000000\n",
       "max        83.000000\n",
       "Name: year_difference, dtype: float64"
      ]
     },
     "execution_count": 310,
     "metadata": {},
     "output_type": "execute_result"
    }
   ],
   "source": [
    "merged_df[\"year_difference\"].describe()"
   ]
  },
  {
   "cell_type": "code",
   "execution_count": null,
   "metadata": {},
   "outputs": [],
   "source": []
  },
  {
   "cell_type": "markdown",
   "metadata": {},
   "source": [
    "## More code"
   ]
  },
  {
   "cell_type": "code",
   "execution_count": 36,
   "metadata": {},
   "outputs": [],
   "source": [
    "movies_df = movies_df.sort_values(['franchise_id', 'year'])\n",
    "movies_df['Year Gap'] = movies_df.groupby('franchise_id')['year'].diff()\n",
    "movies_df['Rating_Difference'] = movies_df.groupby('franchise_id')['rating'].diff()\n",
    "movies_df['Votes_Difference'] = movies_df.groupby('franchise_id')['votes'].diff()"
   ]
  },
  {
   "cell_type": "code",
   "execution_count": 41,
   "metadata": {},
   "outputs": [],
   "source": [
    "#movies_df['AAAAHH'] = movies_df.groupby(['franchise_id','year'])['year'].diff()\n",
    "movies_df['year_diff'] = movies_df.groupby(['franchise_id', 'year'])['year'].diff().reset_index(drop=True)"
   ]
  },
  {
   "cell_type": "code",
   "execution_count": 43,
   "metadata": {},
   "outputs": [],
   "source": [
    "movies_df['year_difference'] = movies_df.groupby(['franchise_id', 'year'])['year'].diff()\n",
    "\n",
    "# exclude same year differences\n",
    "movies_df.loc[movies_df['year_difference'] == 0, 'year_difference'] = pd.NA"
   ]
  },
  {
   "cell_type": "code",
   "execution_count": null,
   "metadata": {},
   "outputs": [],
   "source": [
    "grouped_movies = "
   ]
  },
  {
   "cell_type": "code",
   "execution_count": 44,
   "metadata": {},
   "outputs": [
    {
     "data": {
      "text/html": [
       "<div>\n",
       "<style scoped>\n",
       "    .dataframe tbody tr th:only-of-type {\n",
       "        vertical-align: middle;\n",
       "    }\n",
       "\n",
       "    .dataframe tbody tr th {\n",
       "        vertical-align: top;\n",
       "    }\n",
       "\n",
       "    .dataframe thead th {\n",
       "        text-align: right;\n",
       "    }\n",
       "</style>\n",
       "<table border=\"1\" class=\"dataframe\">\n",
       "  <thead>\n",
       "    <tr style=\"text-align: right;\">\n",
       "      <th></th>\n",
       "      <th>franchise_name</th>\n",
       "      <th>franchise_id</th>\n",
       "      <th>tconst</th>\n",
       "      <th>title</th>\n",
       "      <th>year</th>\n",
       "      <th>is_adult</th>\n",
       "      <th>runtime</th>\n",
       "      <th>genres</th>\n",
       "      <th>rating</th>\n",
       "      <th>votes</th>\n",
       "      <th>franchise_count</th>\n",
       "      <th>rating_franchise_average</th>\n",
       "      <th>Year Gap</th>\n",
       "      <th>Rating_Difference</th>\n",
       "      <th>Votes_Difference</th>\n",
       "      <th>AAAAHH</th>\n",
       "      <th>year_diff</th>\n",
       "      <th>year_difference</th>\n",
       "    </tr>\n",
       "  </thead>\n",
       "  <tbody>\n",
       "    <tr>\n",
       "      <th>4822</th>\n",
       "      <td>The Aldrich Family</td>\n",
       "      <td>f0</td>\n",
       "      <td>tt0032123</td>\n",
       "      <td>what a life</td>\n",
       "      <td>1939</td>\n",
       "      <td>0</td>\n",
       "      <td>75</td>\n",
       "      <td>Comedy,Drama</td>\n",
       "      <td>6.9</td>\n",
       "      <td>93.0</td>\n",
       "      <td>11.0</td>\n",
       "      <td>6.9</td>\n",
       "      <td>NaN</td>\n",
       "      <td>NaN</td>\n",
       "      <td>NaN</td>\n",
       "      <td>NaN</td>\n",
       "      <td>NaN</td>\n",
       "      <td>NaN</td>\n",
       "    </tr>\n",
       "    <tr>\n",
       "      <th>4823</th>\n",
       "      <td>The Aldrich Family</td>\n",
       "      <td>f0</td>\n",
       "      <td>tt0033834</td>\n",
       "      <td>life with henry</td>\n",
       "      <td>1940</td>\n",
       "      <td>0</td>\n",
       "      <td>80</td>\n",
       "      <td>Comedy,Family,Music</td>\n",
       "      <td>6.0</td>\n",
       "      <td>49.0</td>\n",
       "      <td>11.0</td>\n",
       "      <td>6.0</td>\n",
       "      <td>1.0</td>\n",
       "      <td>-0.9</td>\n",
       "      <td>-44.0</td>\n",
       "      <td>NaN</td>\n",
       "      <td>NaN</td>\n",
       "      <td>NaN</td>\n",
       "    </tr>\n",
       "    <tr>\n",
       "      <th>4824</th>\n",
       "      <td>The Aldrich Family</td>\n",
       "      <td>f0</td>\n",
       "      <td>tt0033708</td>\n",
       "      <td>henry aldrich for president</td>\n",
       "      <td>1941</td>\n",
       "      <td>0</td>\n",
       "      <td>75</td>\n",
       "      <td>Comedy,Family</td>\n",
       "      <td>6.6</td>\n",
       "      <td>146.0</td>\n",
       "      <td>11.0</td>\n",
       "      <td>6.6</td>\n",
       "      <td>1.0</td>\n",
       "      <td>0.6</td>\n",
       "      <td>97.0</td>\n",
       "      <td>NaN</td>\n",
       "      <td>NaN</td>\n",
       "      <td>NaN</td>\n",
       "    </tr>\n",
       "    <tr>\n",
       "      <th>4825</th>\n",
       "      <td>The Aldrich Family</td>\n",
       "      <td>f0</td>\n",
       "      <td>tt0034842</td>\n",
       "      <td>henry aldrich, editor</td>\n",
       "      <td>1942</td>\n",
       "      <td>0</td>\n",
       "      <td>72</td>\n",
       "      <td>Comedy,Drama,Family</td>\n",
       "      <td>6.4</td>\n",
       "      <td>150.0</td>\n",
       "      <td>11.0</td>\n",
       "      <td>6.8</td>\n",
       "      <td>1.0</td>\n",
       "      <td>-0.2</td>\n",
       "      <td>4.0</td>\n",
       "      <td>NaN</td>\n",
       "      <td>NaN</td>\n",
       "      <td>NaN</td>\n",
       "    </tr>\n",
       "    <tr>\n",
       "      <th>4826</th>\n",
       "      <td>The Aldrich Family</td>\n",
       "      <td>f0</td>\n",
       "      <td>tt0034844</td>\n",
       "      <td>henry and dizzy</td>\n",
       "      <td>1942</td>\n",
       "      <td>0</td>\n",
       "      <td>71</td>\n",
       "      <td>Comedy,Family</td>\n",
       "      <td>7.2</td>\n",
       "      <td>58.0</td>\n",
       "      <td>11.0</td>\n",
       "      <td>6.8</td>\n",
       "      <td>0.0</td>\n",
       "      <td>0.8</td>\n",
       "      <td>-92.0</td>\n",
       "      <td>0.0</td>\n",
       "      <td>NaN</td>\n",
       "      <td>&lt;NA&gt;</td>\n",
       "    </tr>\n",
       "    <tr>\n",
       "      <th>4827</th>\n",
       "      <td>The Aldrich Family</td>\n",
       "      <td>f0</td>\n",
       "      <td>tt0035985</td>\n",
       "      <td>henry aldrich swings it</td>\n",
       "      <td>1943</td>\n",
       "      <td>0</td>\n",
       "      <td>64</td>\n",
       "      <td>Comedy,Family</td>\n",
       "      <td>8.3</td>\n",
       "      <td>110.0</td>\n",
       "      <td>11.0</td>\n",
       "      <td>7.0</td>\n",
       "      <td>1.0</td>\n",
       "      <td>1.1</td>\n",
       "      <td>52.0</td>\n",
       "      <td>NaN</td>\n",
       "      <td>NaN</td>\n",
       "      <td>NaN</td>\n",
       "    </tr>\n",
       "    <tr>\n",
       "      <th>4828</th>\n",
       "      <td>The Aldrich Family</td>\n",
       "      <td>f0</td>\n",
       "      <td>tt0035983</td>\n",
       "      <td>henry aldrich gets glamour</td>\n",
       "      <td>1943</td>\n",
       "      <td>0</td>\n",
       "      <td>72</td>\n",
       "      <td>Adventure,Comedy,Family</td>\n",
       "      <td>6.4</td>\n",
       "      <td>130.0</td>\n",
       "      <td>11.0</td>\n",
       "      <td>7.0</td>\n",
       "      <td>0.0</td>\n",
       "      <td>-1.9</td>\n",
       "      <td>20.0</td>\n",
       "      <td>0.0</td>\n",
       "      <td>NaN</td>\n",
       "      <td>&lt;NA&gt;</td>\n",
       "    </tr>\n",
       "    <tr>\n",
       "      <th>4829</th>\n",
       "      <td>The Aldrich Family</td>\n",
       "      <td>f0</td>\n",
       "      <td>tt0035984</td>\n",
       "      <td>henry aldrich haunts a house</td>\n",
       "      <td>1943</td>\n",
       "      <td>0</td>\n",
       "      <td>73</td>\n",
       "      <td>Adventure,Comedy,Family</td>\n",
       "      <td>6.3</td>\n",
       "      <td>151.0</td>\n",
       "      <td>11.0</td>\n",
       "      <td>7.0</td>\n",
       "      <td>0.0</td>\n",
       "      <td>-0.1</td>\n",
       "      <td>21.0</td>\n",
       "      <td>0.0</td>\n",
       "      <td>NaN</td>\n",
       "      <td>&lt;NA&gt;</td>\n",
       "    </tr>\n",
       "    <tr>\n",
       "      <th>4830</th>\n",
       "      <td>The Aldrich Family</td>\n",
       "      <td>f0</td>\n",
       "      <td>tt0036909</td>\n",
       "      <td>henry aldrich, boy scout</td>\n",
       "      <td>1944</td>\n",
       "      <td>0</td>\n",
       "      <td>66</td>\n",
       "      <td>Comedy,Family</td>\n",
       "      <td>6.5</td>\n",
       "      <td>129.0</td>\n",
       "      <td>11.0</td>\n",
       "      <td>7.7</td>\n",
       "      <td>1.0</td>\n",
       "      <td>0.2</td>\n",
       "      <td>-22.0</td>\n",
       "      <td>NaN</td>\n",
       "      <td>NaN</td>\n",
       "      <td>NaN</td>\n",
       "    </tr>\n",
       "    <tr>\n",
       "      <th>4831</th>\n",
       "      <td>The Aldrich Family</td>\n",
       "      <td>f0</td>\n",
       "      <td>tt0036907</td>\n",
       "      <td>henry aldrich plays cupid</td>\n",
       "      <td>1944</td>\n",
       "      <td>0</td>\n",
       "      <td>65</td>\n",
       "      <td>Comedy,Family</td>\n",
       "      <td>8.2</td>\n",
       "      <td>100.0</td>\n",
       "      <td>11.0</td>\n",
       "      <td>7.7</td>\n",
       "      <td>0.0</td>\n",
       "      <td>1.7</td>\n",
       "      <td>-29.0</td>\n",
       "      <td>0.0</td>\n",
       "      <td>NaN</td>\n",
       "      <td>&lt;NA&gt;</td>\n",
       "    </tr>\n",
       "    <tr>\n",
       "      <th>4832</th>\n",
       "      <td>The Aldrich Family</td>\n",
       "      <td>f0</td>\n",
       "      <td>tt0036908</td>\n",
       "      <td>henry aldrich's little secret</td>\n",
       "      <td>1944</td>\n",
       "      <td>0</td>\n",
       "      <td>75</td>\n",
       "      <td>Comedy,Family,Music</td>\n",
       "      <td>8.4</td>\n",
       "      <td>89.0</td>\n",
       "      <td>11.0</td>\n",
       "      <td>7.7</td>\n",
       "      <td>0.0</td>\n",
       "      <td>0.2</td>\n",
       "      <td>-11.0</td>\n",
       "      <td>0.0</td>\n",
       "      <td>0.0</td>\n",
       "      <td>&lt;NA&gt;</td>\n",
       "    </tr>\n",
       "    <tr>\n",
       "      <th>0</th>\n",
       "      <td>Coffin Joe</td>\n",
       "      <td>f1</td>\n",
       "      <td>tt0060380</td>\n",
       "      <td>esta noite encarnarei no teu cadáver</td>\n",
       "      <td>1967</td>\n",
       "      <td>0</td>\n",
       "      <td>108</td>\n",
       "      <td>Horror</td>\n",
       "      <td>7.0</td>\n",
       "      <td>1952.0</td>\n",
       "      <td>13.0</td>\n",
       "      <td>7.0</td>\n",
       "      <td>NaN</td>\n",
       "      <td>NaN</td>\n",
       "      <td>NaN</td>\n",
       "      <td>NaN</td>\n",
       "      <td>NaN</td>\n",
       "      <td>NaN</td>\n",
       "    </tr>\n",
       "    <tr>\n",
       "      <th>2</th>\n",
       "      <td>Coffin Joe</td>\n",
       "      <td>f1</td>\n",
       "      <td>tt0062943</td>\n",
       "      <td>the strange world of coffin joe</td>\n",
       "      <td>1968</td>\n",
       "      <td>0</td>\n",
       "      <td>80</td>\n",
       "      <td>Horror</td>\n",
       "      <td>6.3</td>\n",
       "      <td>653.0</td>\n",
       "      <td>13.0</td>\n",
       "      <td>6.3</td>\n",
       "      <td>1.0</td>\n",
       "      <td>-0.7</td>\n",
       "      <td>-1299.0</td>\n",
       "      <td>NaN</td>\n",
       "      <td>NaN</td>\n",
       "      <td>NaN</td>\n",
       "    </tr>\n",
       "    <tr>\n",
       "      <th>4834</th>\n",
       "      <td>Coffin Joe</td>\n",
       "      <td>f1</td>\n",
       "      <td>tt0165285</td>\n",
       "      <td>carnal circuit</td>\n",
       "      <td>1969</td>\n",
       "      <td>0</td>\n",
       "      <td>99</td>\n",
       "      <td>Crime,Mystery,Thriller</td>\n",
       "      <td>5.7</td>\n",
       "      <td>177.0</td>\n",
       "      <td>13.0</td>\n",
       "      <td>5.7</td>\n",
       "      <td>1.0</td>\n",
       "      <td>-0.6</td>\n",
       "      <td>-476.0</td>\n",
       "      <td>NaN</td>\n",
       "      <td>0.0</td>\n",
       "      <td>NaN</td>\n",
       "    </tr>\n",
       "    <tr>\n",
       "      <th>3</th>\n",
       "      <td>Coffin Joe</td>\n",
       "      <td>f1</td>\n",
       "      <td>tt0062690</td>\n",
       "      <td>awakening of the beast</td>\n",
       "      <td>1970</td>\n",
       "      <td>0</td>\n",
       "      <td>93</td>\n",
       "      <td>Drama,Horror</td>\n",
       "      <td>5.8</td>\n",
       "      <td>1208.0</td>\n",
       "      <td>13.0</td>\n",
       "      <td>5.8</td>\n",
       "      <td>1.0</td>\n",
       "      <td>0.1</td>\n",
       "      <td>1031.0</td>\n",
       "      <td>NaN</td>\n",
       "      <td>NaN</td>\n",
       "      <td>NaN</td>\n",
       "    </tr>\n",
       "    <tr>\n",
       "      <th>4833</th>\n",
       "      <td>Coffin Joe</td>\n",
       "      <td>f1</td>\n",
       "      <td>tt0067099</td>\n",
       "      <td>finis hominis</td>\n",
       "      <td>1971</td>\n",
       "      <td>0</td>\n",
       "      <td>79</td>\n",
       "      <td>Comedy,Drama,Mystery</td>\n",
       "      <td>5.7</td>\n",
       "      <td>373.0</td>\n",
       "      <td>13.0</td>\n",
       "      <td>5.7</td>\n",
       "      <td>1.0</td>\n",
       "      <td>-0.1</td>\n",
       "      <td>-835.0</td>\n",
       "      <td>NaN</td>\n",
       "      <td>NaN</td>\n",
       "      <td>NaN</td>\n",
       "    </tr>\n",
       "    <tr>\n",
       "      <th>4</th>\n",
       "      <td>Coffin Joe</td>\n",
       "      <td>f1</td>\n",
       "      <td>tt0071479</td>\n",
       "      <td>exorcismo negro</td>\n",
       "      <td>1974</td>\n",
       "      <td>0</td>\n",
       "      <td>100</td>\n",
       "      <td>Horror</td>\n",
       "      <td>6.0</td>\n",
       "      <td>274.0</td>\n",
       "      <td>13.0</td>\n",
       "      <td>6.0</td>\n",
       "      <td>3.0</td>\n",
       "      <td>0.3</td>\n",
       "      <td>-99.0</td>\n",
       "      <td>NaN</td>\n",
       "      <td>0.0</td>\n",
       "      <td>NaN</td>\n",
       "    </tr>\n",
       "    <tr>\n",
       "      <th>5</th>\n",
       "      <td>Coffin Joe</td>\n",
       "      <td>f1</td>\n",
       "      <td>tt0074499</td>\n",
       "      <td>the strange hostel of naked pleasures</td>\n",
       "      <td>1976</td>\n",
       "      <td>0</td>\n",
       "      <td>81</td>\n",
       "      <td>Horror</td>\n",
       "      <td>4.7</td>\n",
       "      <td>289.0</td>\n",
       "      <td>13.0</td>\n",
       "      <td>4.7</td>\n",
       "      <td>2.0</td>\n",
       "      <td>-1.3</td>\n",
       "      <td>15.0</td>\n",
       "      <td>NaN</td>\n",
       "      <td>NaN</td>\n",
       "      <td>NaN</td>\n",
       "    </tr>\n",
       "    <tr>\n",
       "      <th>6</th>\n",
       "      <td>Coffin Joe</td>\n",
       "      <td>f1</td>\n",
       "      <td>tt0074683</td>\n",
       "      <td>inferno carnal</td>\n",
       "      <td>1977</td>\n",
       "      <td>0</td>\n",
       "      <td>85</td>\n",
       "      <td>Horror</td>\n",
       "      <td>5.4</td>\n",
       "      <td>235.0</td>\n",
       "      <td>13.0</td>\n",
       "      <td>5.4</td>\n",
       "      <td>1.0</td>\n",
       "      <td>0.7</td>\n",
       "      <td>-54.0</td>\n",
       "      <td>NaN</td>\n",
       "      <td>0.0</td>\n",
       "      <td>NaN</td>\n",
       "    </tr>\n",
       "    <tr>\n",
       "      <th>7</th>\n",
       "      <td>Coffin Joe</td>\n",
       "      <td>f1</td>\n",
       "      <td>tt0077420</td>\n",
       "      <td>hallucinations of a deranged mind</td>\n",
       "      <td>1978</td>\n",
       "      <td>0</td>\n",
       "      <td>86</td>\n",
       "      <td>Horror</td>\n",
       "      <td>5.2</td>\n",
       "      <td>379.0</td>\n",
       "      <td>13.0</td>\n",
       "      <td>4.8</td>\n",
       "      <td>1.0</td>\n",
       "      <td>-0.2</td>\n",
       "      <td>144.0</td>\n",
       "      <td>NaN</td>\n",
       "      <td>0.0</td>\n",
       "      <td>NaN</td>\n",
       "    </tr>\n",
       "  </tbody>\n",
       "</table>\n",
       "</div>"
      ],
      "text/plain": [
       "          franchise_name franchise_id     tconst  \\\n",
       "4822  The Aldrich Family           f0  tt0032123   \n",
       "4823  The Aldrich Family           f0  tt0033834   \n",
       "4824  The Aldrich Family           f0  tt0033708   \n",
       "4825  The Aldrich Family           f0  tt0034842   \n",
       "4826  The Aldrich Family           f0  tt0034844   \n",
       "4827  The Aldrich Family           f0  tt0035985   \n",
       "4828  The Aldrich Family           f0  tt0035983   \n",
       "4829  The Aldrich Family           f0  tt0035984   \n",
       "4830  The Aldrich Family           f0  tt0036909   \n",
       "4831  The Aldrich Family           f0  tt0036907   \n",
       "4832  The Aldrich Family           f0  tt0036908   \n",
       "0             Coffin Joe           f1  tt0060380   \n",
       "2             Coffin Joe           f1  tt0062943   \n",
       "4834          Coffin Joe           f1  tt0165285   \n",
       "3             Coffin Joe           f1  tt0062690   \n",
       "4833          Coffin Joe           f1  tt0067099   \n",
       "4             Coffin Joe           f1  tt0071479   \n",
       "5             Coffin Joe           f1  tt0074499   \n",
       "6             Coffin Joe           f1  tt0074683   \n",
       "7             Coffin Joe           f1  tt0077420   \n",
       "\n",
       "                                      title  year  is_adult runtime  \\\n",
       "4822                            what a life  1939         0      75   \n",
       "4823                        life with henry  1940         0      80   \n",
       "4824            henry aldrich for president  1941         0      75   \n",
       "4825                  henry aldrich, editor  1942         0      72   \n",
       "4826                        henry and dizzy  1942         0      71   \n",
       "4827                henry aldrich swings it  1943         0      64   \n",
       "4828             henry aldrich gets glamour  1943         0      72   \n",
       "4829           henry aldrich haunts a house  1943         0      73   \n",
       "4830               henry aldrich, boy scout  1944         0      66   \n",
       "4831              henry aldrich plays cupid  1944         0      65   \n",
       "4832          henry aldrich's little secret  1944         0      75   \n",
       "0      esta noite encarnarei no teu cadáver  1967         0     108   \n",
       "2           the strange world of coffin joe  1968         0      80   \n",
       "4834                         carnal circuit  1969         0      99   \n",
       "3                    awakening of the beast  1970         0      93   \n",
       "4833                          finis hominis  1971         0      79   \n",
       "4                           exorcismo negro  1974         0     100   \n",
       "5     the strange hostel of naked pleasures  1976         0      81   \n",
       "6                            inferno carnal  1977         0      85   \n",
       "7         hallucinations of a deranged mind  1978         0      86   \n",
       "\n",
       "                       genres  rating   votes  franchise_count  \\\n",
       "4822             Comedy,Drama     6.9    93.0             11.0   \n",
       "4823      Comedy,Family,Music     6.0    49.0             11.0   \n",
       "4824            Comedy,Family     6.6   146.0             11.0   \n",
       "4825      Comedy,Drama,Family     6.4   150.0             11.0   \n",
       "4826            Comedy,Family     7.2    58.0             11.0   \n",
       "4827            Comedy,Family     8.3   110.0             11.0   \n",
       "4828  Adventure,Comedy,Family     6.4   130.0             11.0   \n",
       "4829  Adventure,Comedy,Family     6.3   151.0             11.0   \n",
       "4830            Comedy,Family     6.5   129.0             11.0   \n",
       "4831            Comedy,Family     8.2   100.0             11.0   \n",
       "4832      Comedy,Family,Music     8.4    89.0             11.0   \n",
       "0                      Horror     7.0  1952.0             13.0   \n",
       "2                      Horror     6.3   653.0             13.0   \n",
       "4834   Crime,Mystery,Thriller     5.7   177.0             13.0   \n",
       "3                Drama,Horror     5.8  1208.0             13.0   \n",
       "4833     Comedy,Drama,Mystery     5.7   373.0             13.0   \n",
       "4                      Horror     6.0   274.0             13.0   \n",
       "5                      Horror     4.7   289.0             13.0   \n",
       "6                      Horror     5.4   235.0             13.0   \n",
       "7                      Horror     5.2   379.0             13.0   \n",
       "\n",
       "      rating_franchise_average  Year Gap  Rating_Difference  Votes_Difference  \\\n",
       "4822                       6.9       NaN                NaN               NaN   \n",
       "4823                       6.0       1.0               -0.9             -44.0   \n",
       "4824                       6.6       1.0                0.6              97.0   \n",
       "4825                       6.8       1.0               -0.2               4.0   \n",
       "4826                       6.8       0.0                0.8             -92.0   \n",
       "4827                       7.0       1.0                1.1              52.0   \n",
       "4828                       7.0       0.0               -1.9              20.0   \n",
       "4829                       7.0       0.0               -0.1              21.0   \n",
       "4830                       7.7       1.0                0.2             -22.0   \n",
       "4831                       7.7       0.0                1.7             -29.0   \n",
       "4832                       7.7       0.0                0.2             -11.0   \n",
       "0                          7.0       NaN                NaN               NaN   \n",
       "2                          6.3       1.0               -0.7           -1299.0   \n",
       "4834                       5.7       1.0               -0.6            -476.0   \n",
       "3                          5.8       1.0                0.1            1031.0   \n",
       "4833                       5.7       1.0               -0.1            -835.0   \n",
       "4                          6.0       3.0                0.3             -99.0   \n",
       "5                          4.7       2.0               -1.3              15.0   \n",
       "6                          5.4       1.0                0.7             -54.0   \n",
       "7                          4.8       1.0               -0.2             144.0   \n",
       "\n",
       "      AAAAHH  year_diff year_difference  \n",
       "4822     NaN        NaN             NaN  \n",
       "4823     NaN        NaN             NaN  \n",
       "4824     NaN        NaN             NaN  \n",
       "4825     NaN        NaN             NaN  \n",
       "4826     0.0        NaN            <NA>  \n",
       "4827     NaN        NaN             NaN  \n",
       "4828     0.0        NaN            <NA>  \n",
       "4829     0.0        NaN            <NA>  \n",
       "4830     NaN        NaN             NaN  \n",
       "4831     0.0        NaN            <NA>  \n",
       "4832     0.0        0.0            <NA>  \n",
       "0        NaN        NaN             NaN  \n",
       "2        NaN        NaN             NaN  \n",
       "4834     NaN        0.0             NaN  \n",
       "3        NaN        NaN             NaN  \n",
       "4833     NaN        NaN             NaN  \n",
       "4        NaN        0.0             NaN  \n",
       "5        NaN        NaN             NaN  \n",
       "6        NaN        0.0             NaN  \n",
       "7        NaN        0.0             NaN  "
      ]
     },
     "execution_count": 44,
     "metadata": {},
     "output_type": "execute_result"
    }
   ],
   "source": [
    "movies_df.head(20)"
   ]
  },
  {
   "cell_type": "code",
   "execution_count": null,
   "metadata": {},
   "outputs": [],
   "source": [
    "movies_df = movies_df.sort_values(['franchise_id', 'startYear'])\n",
    "movies_df['Rating_Difference'] = movies_df.groupby('franchise_id')['averageRating'].diff()"
   ]
  },
  {
   "cell_type": "code",
   "execution_count": null,
   "metadata": {},
   "outputs": [],
   "source": [
    "movies_df = movies_df.sort_values(['franchise_id', 'startYear'])\n",
    "movies_df['Votes_Difference'] = movies_df.groupby('franchise_id')['numVotes'].diff()"
   ]
  },
  {
   "cell_type": "code",
   "execution_count": null,
   "metadata": {},
   "outputs": [],
   "source": [
    "movies_df['franchise_position'] = movies_df.groupby(\"franchise_id\")[\"startYear\"].rank(method=\"first\")"
   ]
  },
  {
   "cell_type": "code",
   "execution_count": null,
   "metadata": {},
   "outputs": [],
   "source": [
    "movies_df3"
   ]
  },
  {
   "cell_type": "code",
   "execution_count": null,
   "metadata": {},
   "outputs": [],
   "source": [
    "movies_df.groupby(['franchise_id', 'startYear']).size()"
   ]
  },
  {
   "cell_type": "code",
   "execution_count": null,
   "metadata": {},
   "outputs": [],
   "source": [
    "movies_df"
   ]
  },
  {
   "cell_type": "code",
   "execution_count": null,
   "metadata": {},
   "outputs": [],
   "source": [
    "movies_df.head(50)"
   ]
  },
  {
   "cell_type": "code",
   "execution_count": null,
   "metadata": {
    "scrolled": false
   },
   "outputs": [],
   "source": [
    "movies_df[\"Year Gap\"].value_counts().plot()"
   ]
  },
  {
   "cell_type": "markdown",
   "metadata": {},
   "source": [
    "# Notes\n",
    "Using value_counts we discover 25% of our movies for the franchises are released in the same year. So we have to either get an average per year (in this case, we are looking at fatique over years as opposed to number of movies)"
   ]
  },
  {
   "cell_type": "code",
   "execution_count": null,
   "metadata": {},
   "outputs": [],
   "source": [
    "movies_df[movies_df[\"franchise_id\"] == \"f1\"].sort_values(\"startYear\")"
   ]
  },
  {
   "cell_type": "code",
   "execution_count": null,
   "metadata": {},
   "outputs": [],
   "source": []
  },
  {
   "cell_type": "code",
   "execution_count": null,
   "metadata": {},
   "outputs": [],
   "source": []
  },
  {
   "cell_type": "code",
   "execution_count": null,
   "metadata": {},
   "outputs": [],
   "source": []
  },
  {
   "cell_type": "code",
   "execution_count": null,
   "metadata": {},
   "outputs": [],
   "source": []
  },
  {
   "cell_type": "code",
   "execution_count": null,
   "metadata": {},
   "outputs": [],
   "source": [
    "cols = [\"tconst\", \"averageRating\", \"numVotes\", \"startYear\"]\n",
    "#new_cols = [\"tconst\", \"rating\", \"votes\", \"year\"]\n",
    "\n",
    "games_scores = games_df[cols]\n",
    "\n",
    "movies_scores = movies_df[cols]"
   ]
  },
  {
   "cell_type": "code",
   "execution_count": null,
   "metadata": {},
   "outputs": [],
   "source": [
    "%matplotlib inline\n",
    "\n",
    "sns.set_context(\"talk\", font_scale=.9)   \n",
    "sns.set_context('talk')\n",
    "\n",
    "fig_width, fig_height = 4, 3"
   ]
  },
  {
   "cell_type": "code",
   "execution_count": null,
   "metadata": {},
   "outputs": [],
   "source": [
    "fig, ax = plt.subplots(figsize=(fig_width*3, fig_height*2))\n",
    "\n",
    "interval = 0.01\n",
    "((movies_scores['averageRating']/10)).hist(\n",
    "    bins=25, ax=ax, grid=False, color=\"red\", density=True, alpha=.4)\n",
    "((games_scores['averageRating']/10)).hist(\n",
    "    bins=25, ax=ax, grid=False, color=\"blue\", density=True, alpha=.4)\n",
    "\n",
    "\n",
    "ax.set_ylim(0, 5)\n",
    "ax.set_xlim(0, 1)\n",
    "\n",
    "ax.legend(['Movies', 'Games'], ncol=2, loc='upper left')\n",
    "\n",
    "mean_movie_rating = (movies_scores['averageRating']/10).mean()\n",
    "mean_game_rating = (games_scores['averageRating']/10).mean()\n",
    "\n",
    "ax.axvline(mean_movie_rating, color=\"red\")\n",
    "ax.axvline(mean_game_rating, color=\"blue\")\n",
    "\n",
    "ax.text(mean_movie_rating, 6, '[1]', ha='center',color=\"red\", backgroundcolor='w', fontsize=14)\n",
    "\n",
    "ax.text(mean_game_rating, 6, '[2]', ha='center',color=\"blue\", backgroundcolor='w', fontsize=14)\n",
    "\n",
    "\n",
    "ax.text(\n",
    "    0, 2,\n",
    "    '''\n",
    "    [1] Mean Movie Rating (All Movies, |)\n",
    "    \n",
    "    [2] Mean Game Rating (All Games, |)\n",
    "    ''',\n",
    "    fontsize=14\n",
    ")\n",
    "\n",
    "ax.set_xlabel('Movie/Game Rating (Normed)')\n",
    "ax.set_ylabel('Relative Number of Movies/Games')\n",
    "\n",
    "ax.set_title('{:,} Movies, {:,} Games'.format(len(movies_scores), len(games_scores)))\n",
    "\n",
    "fig.tight_layout()\n",
    "\n",
    "#fig.savefig('../../graphs/2400_fig_1_normed_rating_distributions.png', format='png', dpi=300)"
   ]
  },
  {
   "cell_type": "code",
   "execution_count": null,
   "metadata": {},
   "outputs": [],
   "source": [
    "movies_df['averageRating'].agg(['mean', 'std'])"
   ]
  },
  {
   "cell_type": "code",
   "execution_count": null,
   "metadata": {},
   "outputs": [],
   "source": [
    "movies_df['averageRating']"
   ]
  },
  {
   "cell_type": "code",
   "execution_count": null,
   "metadata": {},
   "outputs": [],
   "source": [
    "(movies_df['averageRating']-movies_df['averageRating'].mean())/movies_df['averageRating'].std()"
   ]
  },
  {
   "cell_type": "code",
   "execution_count": null,
   "metadata": {},
   "outputs": [],
   "source": [
    "stats.zscore(movies_df['averageRating'])"
   ]
  },
  {
   "cell_type": "code",
   "execution_count": null,
   "metadata": {},
   "outputs": [],
   "source": [
    "stats.zscore(movies_df['averageRating']).mean()"
   ]
  },
  {
   "cell_type": "code",
   "execution_count": null,
   "metadata": {},
   "outputs": [],
   "source": [
    "movies_df['z_rating_for_movie'] = stats.zscore(movies_df['averageRating'])\n",
    "\n",
    "games_df['z_rating_for_game'] = stats.zscore(games_df['averageRating'])\n",
    "\n",
    "fig, ax = plt.subplots(figsize=(fig_width*3, fig_height*2))\n",
    "\n",
    "\n",
    "((movies_df['z_rating_for_movie'])).hist(\n",
    "    bins=50, ax=ax, grid=False, color=\"red\", density=True, alpha=.4)\n",
    "((games_df['z_rating_for_game'])).hist(\n",
    "    bins=50, ax=ax, grid=False, color=\"blue\", density=True, alpha=.4)\n",
    "\n",
    "\n",
    "ax.set_xlim(-5, 5)\n",
    "\n",
    "ax.legend(['Movies', 'Games'], ncol=2, loc='upper left')\n",
    "\n",
    "ax.axvline((movies_df['z_rating_for_movie']).mean(), lw=2, c=\"red\")\n",
    "ax.axvline((games_df['z_rating_for_game']).mean(), lw=2, c=\"blue\")\n",
    "\n",
    "\n",
    "ax.set_xlabel('Movie/Games Rating (Z-Scores)')\n",
    "ax.set_ylabel('Relative Number of Movies/Games')\n",
    "ax.set_title('{:,} Movies, {:,} Games'.format(len(movies_df), len(games_df)))\n",
    "\n",
    "fig.tight_layout()\n",
    "\n",
    "#fig.savefig('../../graphs/2400_fig_2_z_rating_distributions.png', format='png', dpi=300)"
   ]
  },
  {
   "cell_type": "code",
   "execution_count": 52,
   "metadata": {},
   "outputs": [
    {
     "data": {
      "text/plain": [
       "franchise_name              7481\n",
       "franchise_id                7481\n",
       "tconst                      7481\n",
       "title                       7481\n",
       "year                        7481\n",
       "is_adult                    7481\n",
       "runtime                     7481\n",
       "genres                      7481\n",
       "rating                      7481\n",
       "votes                       7481\n",
       "franchise_count             7481\n",
       "rating_franchise_average    7481\n",
       "Year Gap                    6569\n",
       "Rating_Difference           6569\n",
       "Votes_Difference            6569\n",
       "AAAAHH                      1630\n",
       "year_diff                   1630\n",
       "year_difference                0\n",
       "dtype: int64"
      ]
     },
     "execution_count": 52,
     "metadata": {},
     "output_type": "execute_result"
    }
   ],
   "source": [
    "movies_df.count()"
   ]
  },
  {
   "cell_type": "code",
   "execution_count": 89,
   "metadata": {},
   "outputs": [],
   "source": [
    "sample_df = movies_df.sample(10000)\n",
    "grouped_df = sample_df.groupby('franchise_id').apply(sample_func)"
   ]
  },
  {
   "cell_type": "code",
   "execution_count": 91,
   "metadata": {},
   "outputs": [
    {
     "data": {
      "text/plain": [
       "franchise_id           \n",
       "f1            tt0071479    1\n",
       "              tt0077517    2\n",
       "f102          tt0040432    1\n",
       "f103          tt0121864    1\n",
       "f1041         tt0077737    1\n",
       "                          ..\n",
       "f97           tt0235005    1\n",
       "f970          tt9732250    1\n",
       "f977          tt2386490    1\n",
       "f98           tt0039210    1\n",
       "f987          tt0369060    1\n",
       "Length: 279, dtype: int64"
      ]
     },
     "execution_count": 91,
     "metadata": {},
     "output_type": "execute_result"
    }
   ],
   "source": [
    "grouped_df"
   ]
  },
  {
   "cell_type": "code",
   "execution_count": null,
   "metadata": {},
   "outputs": [],
   "source": [
    "franchise_df = grouped_df[grouped_df['franchise_id'] == 'f1334']"
   ]
  },
  {
   "cell_type": "code",
   "execution_count": 88,
   "metadata": {},
   "outputs": [],
   "source": [
    "def sample_func(sub_df):\n",
    "    \n",
    "    movies_in_order = sub_df.sort_values('year')['tconst']\n",
    "    return pd.Series({movie: k+1 for k, movie in enumerate(movies_in_order)})"
   ]
  },
  {
   "cell_type": "code",
   "execution_count": null,
   "metadata": {},
   "outputs": [],
   "source": [
    "sample_func(franchise_df)"
   ]
  },
  {
   "cell_type": "code",
   "execution_count": null,
   "metadata": {},
   "outputs": [],
   "source": [
    "l = ['a','b','c']\n",
    "for k,i in enumerate(l):\n",
    "    print(k,i)\n",
    "    print(i,  '-->',  k+1)"
   ]
  },
  {
   "cell_type": "code",
   "execution_count": null,
   "metadata": {},
   "outputs": [],
   "source": [
    "franchise_df.sort_values('startYear')['startYear']"
   ]
  },
  {
   "cell_type": "code",
   "execution_count": null,
   "metadata": {},
   "outputs": [],
   "source": [
    "franchise_df.set_index('tconst').sort_values('startYear')['startYear'].map(int).diff()"
   ]
  },
  {
   "cell_type": "code",
   "execution_count": null,
   "metadata": {},
   "outputs": [],
   "source": []
  }
 ],
 "metadata": {
  "kernelspec": {
   "display_name": "Python 3",
   "language": "python",
   "name": "python3"
  },
  "language_info": {
   "codemirror_mode": {
    "name": "ipython",
    "version": 3
   },
   "file_extension": ".py",
   "mimetype": "text/x-python",
   "name": "python",
   "nbconvert_exporter": "python",
   "pygments_lexer": "ipython3",
   "version": "3.8.5"
  }
 },
 "nbformat": 4,
 "nbformat_minor": 5
}
