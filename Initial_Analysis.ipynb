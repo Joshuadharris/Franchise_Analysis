{
 "cells": [
  {
   "cell_type": "code",
   "execution_count": 1,
   "metadata": {},
   "outputs": [],
   "source": [
    "import math\n",
    "import pandas as pd\n",
    "import numpy as np\n",
    "from scipy import stats\n",
    "from matplotlib.pylab import plt\n",
    "import seaborn as sns"
   ]
  },
  {
   "cell_type": "code",
   "execution_count": 24,
   "metadata": {},
   "outputs": [
    {
     "name": "stderr",
     "output_type": "stream",
     "text": [
      "D:\\Programs\\Anaconda3\\lib\\site-packages\\IPython\\core\\interactiveshell.py:3146: DtypeWarning: Columns (2,3,4) have mixed types.Specify dtype option on import or set low_memory=False.\n",
      "  has_raised = await self.run_ast_nodes(code_ast.body, cell_name,\n"
     ]
    }
   ],
   "source": [
    "movies_df = pd.read_csv(\"movies_with_franchises.csv\", index_col = 0)\n",
    "games_df = pd.read_csv(\"clean_games_with_franchises.csv\", index_col = 0)"
   ]
  },
  {
   "cell_type": "markdown",
   "metadata": {},
   "source": [
    "Naming convention to standardise the column names"
   ]
  },
  {
   "cell_type": "code",
   "execution_count": 25,
   "metadata": {},
   "outputs": [],
   "source": [
    "games_df = games_df.rename(columns = {\"titleType\": \"type\", \"rating\": \"age_rating\", \"startYear\": \"year\", \"primaryTitle\": \"title\", \"averageRating\": \"rating\", \"numVotes\": \"votes\", \"isAdult\" : \"is_adult\"})\n",
    "movies_df = movies_df.rename(columns={\"startYear\": \"year\", \"primaryTitle\": \"title\", \"isAdult\" : \"is_adult\", \"runtimeMinutes\": \"runtime\", \"averageRating\": \"rating\", \"numVotes\": \"votes\"})\n",
    "movies_df = movies_df[[\"franchise_name\", \"franchise_id\", \"tconst\", \"title\", \"year\", \"is_adult\", \"runtime\", \"genres\", \"rating\", \"votes\"]]"
   ]
  },
  {
   "cell_type": "code",
   "execution_count": 26,
   "metadata": {},
   "outputs": [],
   "source": [
    "movies_df[\"type\"] = \"movie\"\n",
    "games_df[\"type\"] = \"game\""
   ]
  },
  {
   "cell_type": "code",
   "execution_count": 13,
   "metadata": {},
   "outputs": [
    {
     "data": {
      "text/plain": [
       "franchise_name     16995\n",
       "franchise_id       16995\n",
       "tconst            307416\n",
       "title             307416\n",
       "year              307416\n",
       "is_adult          307416\n",
       "runtime           290426\n",
       "genres            307416\n",
       "rating            307416\n",
       "votes             307416\n",
       "type              307416\n",
       "game_id            11209\n",
       "best_fit_ratio     16990\n",
       "developers         11035\n",
       "platforms          11192\n",
       "publishers         11080\n",
       "age_rating          7470\n",
       "dtype: int64"
      ]
     },
     "execution_count": 13,
     "metadata": {},
     "output_type": "execute_result"
    }
   ],
   "source": [
    "complete_df = pd.concat([movies_df, games_df])"
   ]
  },
  {
   "cell_type": "markdown",
   "metadata": {},
   "source": [
    "- Normalize movies and games \n",
    "- Calculate z-scores\n",
    "- Add the following headings\\\n",
    "    &emsp;\"Time until next movie\"\\\n",
    "    &emsp;\"Difference in rating\"\n",
    "    \n",
    "    &emsp;\"Number in Franchise\""
   ]
  },
  {
   "cell_type": "markdown",
   "metadata": {},
   "source": [
    "Get number of movies/games in franchise"
   ]
  },
  {
   "cell_type": "code",
   "execution_count": 28,
   "metadata": {},
   "outputs": [],
   "source": [
    "complete_df['franchise_count'] = complete_df['franchise_id'].map(complete_df['franchise_id'].value_counts())"
   ]
  },
  {
   "cell_type": "code",
   "execution_count": 23,
   "metadata": {},
   "outputs": [
    {
     "data": {
      "text/html": [
       "<div>\n",
       "<style scoped>\n",
       "    .dataframe tbody tr th:only-of-type {\n",
       "        vertical-align: middle;\n",
       "    }\n",
       "\n",
       "    .dataframe tbody tr th {\n",
       "        vertical-align: top;\n",
       "    }\n",
       "\n",
       "    .dataframe thead th {\n",
       "        text-align: right;\n",
       "    }\n",
       "</style>\n",
       "<table border=\"1\" class=\"dataframe\">\n",
       "  <thead>\n",
       "    <tr style=\"text-align: right;\">\n",
       "      <th></th>\n",
       "      <th>franchise_name</th>\n",
       "      <th>franchise_id</th>\n",
       "      <th>tconst</th>\n",
       "      <th>title</th>\n",
       "      <th>year</th>\n",
       "      <th>is_adult</th>\n",
       "      <th>runtime</th>\n",
       "      <th>genres</th>\n",
       "      <th>rating</th>\n",
       "      <th>votes</th>\n",
       "      <th>type</th>\n",
       "      <th>franchise_count</th>\n",
       "    </tr>\n",
       "  </thead>\n",
       "  <tbody>\n",
       "    <tr>\n",
       "      <th>76544</th>\n",
       "      <td>NaN</td>\n",
       "      <td>NaN</td>\n",
       "      <td>tt0152098</td>\n",
       "      <td>psi factor</td>\n",
       "      <td>1980</td>\n",
       "      <td>0</td>\n",
       "      <td>91</td>\n",
       "      <td>Mystery,Sci-Fi</td>\n",
       "      <td>4.9</td>\n",
       "      <td>88.0</td>\n",
       "      <td>movie</td>\n",
       "      <td>NaN</td>\n",
       "    </tr>\n",
       "  </tbody>\n",
       "</table>\n",
       "</div>"
      ],
      "text/plain": [
       "      franchise_name franchise_id     tconst       title  year  is_adult  \\\n",
       "76544            NaN          NaN  tt0152098  psi factor  1980         0   \n",
       "\n",
       "      runtime          genres  rating  votes   type  franchise_count  \n",
       "76544      91  Mystery,Sci-Fi     4.9   88.0  movie              NaN  "
      ]
     },
     "execution_count": 23,
     "metadata": {},
     "output_type": "execute_result"
    }
   ],
   "source": [
    "movies_df['franchise_count'] = movies_df['franchise_id'].map(movies_df['franchise_id'].value_counts())\n",
    "games_df['franchise_count'] = games_df['franchise_id'].map(games_df['franchise_id'].value_counts())\n",
    "movies_df.sample()"
   ]
  },
  {
   "cell_type": "markdown",
   "metadata": {},
   "source": [
    "Get an overview of how many franchises have x amount of movies / games"
   ]
  },
  {
   "cell_type": "code",
   "execution_count": null,
   "metadata": {},
   "outputs": [],
   "source": [
    "movies_df[\"franchise_id\"].value_counts().value_counts().sort_index()"
   ]
  },
  {
   "cell_type": "code",
   "execution_count": null,
   "metadata": {},
   "outputs": [],
   "source": [
    "games_df[\"franchise_id\"].value_counts().value_counts().sort_index()"
   ]
  },
  {
   "cell_type": "markdown",
   "metadata": {},
   "source": [
    "Get total number of franchises:"
   ]
  },
  {
   "cell_type": "code",
   "execution_count": null,
   "metadata": {},
   "outputs": [],
   "source": [
    "movies_df.franchise_id.nunique()"
   ]
  },
  {
   "cell_type": "code",
   "execution_count": null,
   "metadata": {},
   "outputs": [],
   "source": [
    "games_df.franchise_id.nunique()"
   ]
  },
  {
   "cell_type": "markdown",
   "metadata": {},
   "source": [
    "Remove any movies or games where the total franchise count after matching the series is less than 3"
   ]
  },
  {
   "cell_type": "code",
   "execution_count": 31,
   "metadata": {},
   "outputs": [],
   "source": [
    "complete_df[[\"franchise_id\", \"franchise_name\", \"franchise_count\"]] = complete_df[[\"franchise_id\", \"franchise_name\", \"franchise_count\"]].apply(lambda x: np.nan if x[\"franchise_count\"] < 3 else x, axis=1)"
   ]
  },
  {
   "cell_type": "code",
   "execution_count": null,
   "metadata": {},
   "outputs": [],
   "source": [
    "movies_df[[\"franchise_id\", \"franchise_name\", \"franchise_count\"]] = movies_df[[\"franchise_id\", \"franchise_name\", \"franchise_count\"]].apply(lambda x: np.nan if x[\"franchise_count\"] < 3 else x, axis=1).sort_values(\"franchise_count\")\n",
    "games_df[[\"franchise_id\", \"franchise_name\", \"franchise_count\"]] = games_df[[\"franchise_id\", \"franchise_name\", \"franchise_count\"]].apply(lambda x: np.nan if x[\"franchise_count\"] < 3 else x, axis=1).sort_values(\"franchise_count\")"
   ]
  },
  {
   "cell_type": "markdown",
   "metadata": {},
   "source": [
    "Get total number of franchises with more than 3:"
   ]
  },
  {
   "cell_type": "code",
   "execution_count": 34,
   "metadata": {},
   "outputs": [
    {
     "data": {
      "text/plain": [
       "857"
      ]
     },
     "execution_count": 34,
     "metadata": {},
     "output_type": "execute_result"
    }
   ],
   "source": [
    "complete_df[complete_df[\"type\"] == \"movie\"].franchise_id.nunique()"
   ]
  },
  {
   "cell_type": "code",
   "execution_count": 35,
   "metadata": {},
   "outputs": [
    {
     "data": {
      "text/plain": [
       "1157"
      ]
     },
     "execution_count": 35,
     "metadata": {},
     "output_type": "execute_result"
    }
   ],
   "source": [
    "complete_df[complete_df[\"type\"] == \"game\"].franchise_id.nunique()"
   ]
  },
  {
   "cell_type": "code",
   "execution_count": null,
   "metadata": {},
   "outputs": [],
   "source": [
    "movies_df.franchise_id.nunique()"
   ]
  },
  {
   "cell_type": "code",
   "execution_count": null,
   "metadata": {},
   "outputs": [],
   "source": [
    "games_df.franchise_id.nunique()"
   ]
  },
  {
   "cell_type": "markdown",
   "metadata": {},
   "source": [
    "Remove non-numerical years from data and convert to int"
   ]
  },
  {
   "cell_type": "code",
   "execution_count": 36,
   "metadata": {
    "scrolled": true
   },
   "outputs": [
    {
     "name": "stderr",
     "output_type": "stream",
     "text": [
      "<ipython-input-36-a7b0c9624dc3>:2: SettingWithCopyWarning: \n",
      "A value is trying to be set on a copy of a slice from a DataFrame.\n",
      "Try using .loc[row_indexer,col_indexer] = value instead\n",
      "\n",
      "See the caveats in the documentation: https://pandas.pydata.org/pandas-docs/stable/user_guide/indexing.html#returning-a-view-versus-a-copy\n",
      "  complete_df[\"year\"] = complete_df[\"year\"].apply(lambda x: int(x))\n"
     ]
    }
   ],
   "source": [
    "complete_df = complete_df[~(complete_df[\"year\"] == \"\\\\N\")]\n",
    "complete_df[\"year\"] = complete_df[\"year\"].apply(lambda x: int(x))"
   ]
  },
  {
   "cell_type": "code",
   "execution_count": null,
   "metadata": {},
   "outputs": [],
   "source": [
    "movies_df = movies_df[~(movies_df[\"year\"] == \"\\\\N\")]\n",
    "games_df = games_df[~(games_df[\"year\"] == \"\\\\N\")]\n",
    "movies_df[\"year\"] = movies_df[\"year\"].apply(lambda x: int(x))\n",
    "games_df[\"year\"] = games_df[\"year\"].apply(lambda x: int(x))"
   ]
  },
  {
   "cell_type": "code",
   "execution_count": 38,
   "metadata": {},
   "outputs": [
    {
     "data": {
      "text/html": [
       "<div>\n",
       "<style scoped>\n",
       "    .dataframe tbody tr th:only-of-type {\n",
       "        vertical-align: middle;\n",
       "    }\n",
       "\n",
       "    .dataframe tbody tr th {\n",
       "        vertical-align: top;\n",
       "    }\n",
       "\n",
       "    .dataframe thead th {\n",
       "        text-align: right;\n",
       "    }\n",
       "</style>\n",
       "<table border=\"1\" class=\"dataframe\">\n",
       "  <thead>\n",
       "    <tr style=\"text-align: right;\">\n",
       "      <th></th>\n",
       "      <th>franchise_name</th>\n",
       "      <th>franchise_id</th>\n",
       "      <th>tconst</th>\n",
       "      <th>title</th>\n",
       "      <th>year</th>\n",
       "      <th>is_adult</th>\n",
       "      <th>runtime</th>\n",
       "      <th>genres</th>\n",
       "      <th>rating</th>\n",
       "      <th>votes</th>\n",
       "      <th>type</th>\n",
       "      <th>game_id</th>\n",
       "      <th>best_fit_ratio</th>\n",
       "      <th>developers</th>\n",
       "      <th>platforms</th>\n",
       "      <th>publishers</th>\n",
       "      <th>age_rating</th>\n",
       "      <th>franchise_count</th>\n",
       "    </tr>\n",
       "  </thead>\n",
       "  <tbody>\n",
       "    <tr>\n",
       "      <th>0</th>\n",
       "      <td>Coffin Joe</td>\n",
       "      <td>f1</td>\n",
       "      <td>tt0060380</td>\n",
       "      <td>esta noite encarnarei no teu cadáver</td>\n",
       "      <td>1967</td>\n",
       "      <td>0</td>\n",
       "      <td>108</td>\n",
       "      <td>Horror</td>\n",
       "      <td>7.0</td>\n",
       "      <td>1952.0</td>\n",
       "      <td>movie</td>\n",
       "      <td>NaN</td>\n",
       "      <td>NaN</td>\n",
       "      <td>NaN</td>\n",
       "      <td>NaN</td>\n",
       "      <td>NaN</td>\n",
       "      <td>NaN</td>\n",
       "      <td>10.0</td>\n",
       "    </tr>\n",
       "    <tr>\n",
       "      <th>1</th>\n",
       "      <td>Coffin' Joe</td>\n",
       "      <td>f822</td>\n",
       "      <td>tt0060380</td>\n",
       "      <td>esta noite encarnarei no teu cadáver</td>\n",
       "      <td>1967</td>\n",
       "      <td>0</td>\n",
       "      <td>108</td>\n",
       "      <td>Horror</td>\n",
       "      <td>7.0</td>\n",
       "      <td>1952.0</td>\n",
       "      <td>movie</td>\n",
       "      <td>NaN</td>\n",
       "      <td>NaN</td>\n",
       "      <td>NaN</td>\n",
       "      <td>NaN</td>\n",
       "      <td>NaN</td>\n",
       "      <td>NaN</td>\n",
       "      <td>3.0</td>\n",
       "    </tr>\n",
       "    <tr>\n",
       "      <th>2</th>\n",
       "      <td>Coffin Joe</td>\n",
       "      <td>f1</td>\n",
       "      <td>tt0062943</td>\n",
       "      <td>the strange world of coffin joe</td>\n",
       "      <td>1968</td>\n",
       "      <td>0</td>\n",
       "      <td>80</td>\n",
       "      <td>Horror</td>\n",
       "      <td>6.3</td>\n",
       "      <td>653.0</td>\n",
       "      <td>movie</td>\n",
       "      <td>NaN</td>\n",
       "      <td>NaN</td>\n",
       "      <td>NaN</td>\n",
       "      <td>NaN</td>\n",
       "      <td>NaN</td>\n",
       "      <td>NaN</td>\n",
       "      <td>10.0</td>\n",
       "    </tr>\n",
       "    <tr>\n",
       "      <th>3</th>\n",
       "      <td>Coffin Joe</td>\n",
       "      <td>f1</td>\n",
       "      <td>tt0062690</td>\n",
       "      <td>awakening of the beast</td>\n",
       "      <td>1970</td>\n",
       "      <td>0</td>\n",
       "      <td>93</td>\n",
       "      <td>Drama,Horror</td>\n",
       "      <td>5.8</td>\n",
       "      <td>1208.0</td>\n",
       "      <td>movie</td>\n",
       "      <td>NaN</td>\n",
       "      <td>NaN</td>\n",
       "      <td>NaN</td>\n",
       "      <td>NaN</td>\n",
       "      <td>NaN</td>\n",
       "      <td>NaN</td>\n",
       "      <td>10.0</td>\n",
       "    </tr>\n",
       "    <tr>\n",
       "      <th>4</th>\n",
       "      <td>Coffin Joe</td>\n",
       "      <td>f1</td>\n",
       "      <td>tt0071479</td>\n",
       "      <td>exorcismo negro</td>\n",
       "      <td>1974</td>\n",
       "      <td>0</td>\n",
       "      <td>100</td>\n",
       "      <td>Horror</td>\n",
       "      <td>6.0</td>\n",
       "      <td>274.0</td>\n",
       "      <td>movie</td>\n",
       "      <td>NaN</td>\n",
       "      <td>NaN</td>\n",
       "      <td>NaN</td>\n",
       "      <td>NaN</td>\n",
       "      <td>NaN</td>\n",
       "      <td>NaN</td>\n",
       "      <td>10.0</td>\n",
       "    </tr>\n",
       "    <tr>\n",
       "      <th>...</th>\n",
       "      <td>...</td>\n",
       "      <td>...</td>\n",
       "      <td>...</td>\n",
       "      <td>...</td>\n",
       "      <td>...</td>\n",
       "      <td>...</td>\n",
       "      <td>...</td>\n",
       "      <td>...</td>\n",
       "      <td>...</td>\n",
       "      <td>...</td>\n",
       "      <td>...</td>\n",
       "      <td>...</td>\n",
       "      <td>...</td>\n",
       "      <td>...</td>\n",
       "      <td>...</td>\n",
       "      <td>...</td>\n",
       "      <td>...</td>\n",
       "      <td>...</td>\n",
       "    </tr>\n",
       "    <tr>\n",
       "      <th>16985</th>\n",
       "      <td>NaN</td>\n",
       "      <td>NaN</td>\n",
       "      <td>tt9888864</td>\n",
       "      <td>Infernal</td>\n",
       "      <td>2007</td>\n",
       "      <td>0</td>\n",
       "      <td>NaN</td>\n",
       "      <td>['Action']</td>\n",
       "      <td>6.0</td>\n",
       "      <td>17.0</td>\n",
       "      <td>game</td>\n",
       "      <td>NaN</td>\n",
       "      <td>90.0</td>\n",
       "      <td>NaN</td>\n",
       "      <td>NaN</td>\n",
       "      <td>NaN</td>\n",
       "      <td>NaN</td>\n",
       "      <td>NaN</td>\n",
       "    </tr>\n",
       "    <tr>\n",
       "      <th>16986</th>\n",
       "      <td>NaN</td>\n",
       "      <td>NaN</td>\n",
       "      <td>tt9892552</td>\n",
       "      <td>Spiral Splatter</td>\n",
       "      <td>2017</td>\n",
       "      <td>0</td>\n",
       "      <td>NaN</td>\n",
       "      <td>['Action']</td>\n",
       "      <td>2.0</td>\n",
       "      <td>10.0</td>\n",
       "      <td>game</td>\n",
       "      <td>NaN</td>\n",
       "      <td>85.5</td>\n",
       "      <td>NaN</td>\n",
       "      <td>NaN</td>\n",
       "      <td>NaN</td>\n",
       "      <td>NaN</td>\n",
       "      <td>NaN</td>\n",
       "    </tr>\n",
       "    <tr>\n",
       "      <th>16987</th>\n",
       "      <td>NaN</td>\n",
       "      <td>NaN</td>\n",
       "      <td>tt9893348</td>\n",
       "      <td>Alien: Covenant In Utero VR Experience</td>\n",
       "      <td>2017</td>\n",
       "      <td>0</td>\n",
       "      <td>NaN</td>\n",
       "      <td>['Sci-Fi']</td>\n",
       "      <td>6.2</td>\n",
       "      <td>17.0</td>\n",
       "      <td>game</td>\n",
       "      <td>NaN</td>\n",
       "      <td>90.0</td>\n",
       "      <td>NaN</td>\n",
       "      <td>NaN</td>\n",
       "      <td>NaN</td>\n",
       "      <td>NaN</td>\n",
       "      <td>NaN</td>\n",
       "    </tr>\n",
       "    <tr>\n",
       "      <th>16988</th>\n",
       "      <td>LEGO</td>\n",
       "      <td>3025-448</td>\n",
       "      <td>tt9893804</td>\n",
       "      <td>The Lego Movie 2 Videogame</td>\n",
       "      <td>2019</td>\n",
       "      <td>0</td>\n",
       "      <td>NaN</td>\n",
       "      <td>['Animation', 'Adventure', 'Family', 'Action-A...</td>\n",
       "      <td>5.5</td>\n",
       "      <td>156.0</td>\n",
       "      <td>game</td>\n",
       "      <td>22035.0</td>\n",
       "      <td>100.0</td>\n",
       "      <td>['TT Games']</td>\n",
       "      <td>['PC', 'Xbox One', 'PlayStation 4', 'Nintendo ...</td>\n",
       "      <td>['WB Games']</td>\n",
       "      <td>NaN</td>\n",
       "      <td>56.0</td>\n",
       "    </tr>\n",
       "    <tr>\n",
       "      <th>16989</th>\n",
       "      <td>NaN</td>\n",
       "      <td>NaN</td>\n",
       "      <td>tt9910948</td>\n",
       "      <td>Pokémon Sword</td>\n",
       "      <td>2019</td>\n",
       "      <td>0</td>\n",
       "      <td>NaN</td>\n",
       "      <td>['Adventure', 'Action', 'Fantasy']</td>\n",
       "      <td>7.2</td>\n",
       "      <td>805.0</td>\n",
       "      <td>game</td>\n",
       "      <td>NaN</td>\n",
       "      <td>90.0</td>\n",
       "      <td>NaN</td>\n",
       "      <td>NaN</td>\n",
       "      <td>NaN</td>\n",
       "      <td>NaN</td>\n",
       "      <td>NaN</td>\n",
       "    </tr>\n",
       "  </tbody>\n",
       "</table>\n",
       "<p>307320 rows × 18 columns</p>\n",
       "</div>"
      ],
      "text/plain": [
       "      franchise_name franchise_id     tconst  \\\n",
       "0         Coffin Joe           f1  tt0060380   \n",
       "1        Coffin' Joe         f822  tt0060380   \n",
       "2         Coffin Joe           f1  tt0062943   \n",
       "3         Coffin Joe           f1  tt0062690   \n",
       "4         Coffin Joe           f1  tt0071479   \n",
       "...              ...          ...        ...   \n",
       "16985            NaN          NaN  tt9888864   \n",
       "16986            NaN          NaN  tt9892552   \n",
       "16987            NaN          NaN  tt9893348   \n",
       "16988           LEGO     3025-448  tt9893804   \n",
       "16989            NaN          NaN  tt9910948   \n",
       "\n",
       "                                        title  year  is_adult runtime  \\\n",
       "0        esta noite encarnarei no teu cadáver  1967         0     108   \n",
       "1        esta noite encarnarei no teu cadáver  1967         0     108   \n",
       "2             the strange world of coffin joe  1968         0      80   \n",
       "3                      awakening of the beast  1970         0      93   \n",
       "4                             exorcismo negro  1974         0     100   \n",
       "...                                       ...   ...       ...     ...   \n",
       "16985                                Infernal  2007         0     NaN   \n",
       "16986                         Spiral Splatter  2017         0     NaN   \n",
       "16987  Alien: Covenant In Utero VR Experience  2017         0     NaN   \n",
       "16988              The Lego Movie 2 Videogame  2019         0     NaN   \n",
       "16989                           Pokémon Sword  2019         0     NaN   \n",
       "\n",
       "                                                  genres  rating   votes  \\\n",
       "0                                                 Horror     7.0  1952.0   \n",
       "1                                                 Horror     7.0  1952.0   \n",
       "2                                                 Horror     6.3   653.0   \n",
       "3                                           Drama,Horror     5.8  1208.0   \n",
       "4                                                 Horror     6.0   274.0   \n",
       "...                                                  ...     ...     ...   \n",
       "16985                                         ['Action']     6.0    17.0   \n",
       "16986                                         ['Action']     2.0    10.0   \n",
       "16987                                         ['Sci-Fi']     6.2    17.0   \n",
       "16988  ['Animation', 'Adventure', 'Family', 'Action-A...     5.5   156.0   \n",
       "16989                 ['Adventure', 'Action', 'Fantasy']     7.2   805.0   \n",
       "\n",
       "        type  game_id  best_fit_ratio    developers  \\\n",
       "0      movie      NaN             NaN           NaN   \n",
       "1      movie      NaN             NaN           NaN   \n",
       "2      movie      NaN             NaN           NaN   \n",
       "3      movie      NaN             NaN           NaN   \n",
       "4      movie      NaN             NaN           NaN   \n",
       "...      ...      ...             ...           ...   \n",
       "16985   game      NaN            90.0           NaN   \n",
       "16986   game      NaN            85.5           NaN   \n",
       "16987   game      NaN            90.0           NaN   \n",
       "16988   game  22035.0           100.0  ['TT Games']   \n",
       "16989   game      NaN            90.0           NaN   \n",
       "\n",
       "                                               platforms    publishers  \\\n",
       "0                                                    NaN           NaN   \n",
       "1                                                    NaN           NaN   \n",
       "2                                                    NaN           NaN   \n",
       "3                                                    NaN           NaN   \n",
       "4                                                    NaN           NaN   \n",
       "...                                                  ...           ...   \n",
       "16985                                                NaN           NaN   \n",
       "16986                                                NaN           NaN   \n",
       "16987                                                NaN           NaN   \n",
       "16988  ['PC', 'Xbox One', 'PlayStation 4', 'Nintendo ...  ['WB Games']   \n",
       "16989                                                NaN           NaN   \n",
       "\n",
       "      age_rating  franchise_count  \n",
       "0            NaN             10.0  \n",
       "1            NaN              3.0  \n",
       "2            NaN             10.0  \n",
       "3            NaN             10.0  \n",
       "4            NaN             10.0  \n",
       "...          ...              ...  \n",
       "16985        NaN              NaN  \n",
       "16986        NaN              NaN  \n",
       "16987        NaN              NaN  \n",
       "16988        NaN             56.0  \n",
       "16989        NaN              NaN  \n",
       "\n",
       "[307320 rows x 18 columns]"
      ]
     },
     "execution_count": 38,
     "metadata": {},
     "output_type": "execute_result"
    }
   ],
   "source": [
    "complete_df"
   ]
  },
  {
   "cell_type": "markdown",
   "metadata": {},
   "source": [
    "## Splitting the data\n",
    "At this stage we are going to create 2 separate dataframes. The first will group all the franchises by year, and each year for each franchise will be a single entry. The second will keep all the individual entries for each year for each franchise. "
   ]
  },
  {
   "cell_type": "markdown",
   "metadata": {},
   "source": [
    "### Single Year Per Franchise"
   ]
  },
  {
   "cell_type": "markdown",
   "metadata": {},
   "source": [
    "Create a copy"
   ]
  },
  {
   "cell_type": "code",
   "execution_count": 109,
   "metadata": {},
   "outputs": [],
   "source": [
    "merged_years_df = complete_df.copy(deep=True)"
   ]
  },
  {
   "cell_type": "markdown",
   "metadata": {},
   "source": [
    "Convert genres to list"
   ]
  },
  {
   "cell_type": "code",
   "execution_count": 110,
   "metadata": {},
   "outputs": [],
   "source": [
    "merged_years_df[\"genres\"] = merged_years_df.genres.apply(lambda x : x.split(','))"
   ]
  },
  {
   "cell_type": "markdown",
   "metadata": {},
   "source": [
    "Get total for each year, for each franchise"
   ]
  },
  {
   "cell_type": "code",
   "execution_count": 111,
   "metadata": {},
   "outputs": [],
   "source": [
    "merged_years_df['content_per_year'] = merged_years_df.groupby([\"franchise_id\", \"year\"])[\"year\"].transform('count')"
   ]
  },
  {
   "cell_type": "markdown",
   "metadata": {},
   "source": [
    "Create average votes and ratings for each franchise"
   ]
  },
  {
   "cell_type": "code",
   "execution_count": 112,
   "metadata": {},
   "outputs": [],
   "source": [
    "grouped_movies = merged_years_df.groupby([\"franchise_id\", \"year\"]).agg({\"votes\": \"mean\", \"rating\": \"mean\"}).reset_index()\n",
    "merged_years_df = pd.merge(merged_years_df, grouped_movies, on=[\"franchise_id\", \"year\"], how=\"left\", suffixes=(None, '_average'))"
   ]
  },
  {
   "cell_type": "code",
   "execution_count": 113,
   "metadata": {},
   "outputs": [],
   "source": [
    "# group by name and release year, aggregate the franchise_id lists\n",
    "merged_years_df = merged_years_df.groupby(['franchise_id', 'year'], as_index=False).agg(({\n",
    "    'franchise_name': 'first',\n",
    "    'franchise_id': 'first',\n",
    "    \"type\": \"first\",\n",
    "    'tconst': \", \".join,\n",
    "    'title': \", \".join,\n",
    "    \"year\": 'first',\n",
    "    \"is_adult\": \"first\",\n",
    "    \"runtime\" : \"first\",\n",
    "    \"genres\": lambda x: list(set([i for l in x for i in l])),\n",
    "    \"votes_average\": \"first\", \n",
    "    \"rating_average\": \"first\", \n",
    "    \"franchise_count\" : \"first\",\n",
    "    \"content_per_year\": \"first\", \n",
    "    }))"
   ]
  },
  {
   "cell_type": "markdown",
   "metadata": {},
   "source": [
    "Create columns that have the difference in year between the previous entries in the franchise, the difference in average vote count and avaerage rating"
   ]
  },
  {
   "cell_type": "code",
   "execution_count": 118,
   "metadata": {},
   "outputs": [
    {
     "data": {
      "text/html": [
       "<div>\n",
       "<style scoped>\n",
       "    .dataframe tbody tr th:only-of-type {\n",
       "        vertical-align: middle;\n",
       "    }\n",
       "\n",
       "    .dataframe tbody tr th {\n",
       "        vertical-align: top;\n",
       "    }\n",
       "\n",
       "    .dataframe thead th {\n",
       "        text-align: right;\n",
       "    }\n",
       "</style>\n",
       "<table border=\"1\" class=\"dataframe\">\n",
       "  <thead>\n",
       "    <tr style=\"text-align: right;\">\n",
       "      <th></th>\n",
       "      <th>franchise_name</th>\n",
       "      <th>franchise_id</th>\n",
       "      <th>type</th>\n",
       "      <th>tconst</th>\n",
       "      <th>title</th>\n",
       "      <th>year</th>\n",
       "      <th>is_adult</th>\n",
       "      <th>runtime</th>\n",
       "      <th>genres</th>\n",
       "      <th>votes_average</th>\n",
       "      <th>rating_average</th>\n",
       "      <th>franchise_count</th>\n",
       "      <th>year_franchise_movies_total</th>\n",
       "      <th>year_difference</th>\n",
       "      <th>year_diff</th>\n",
       "    </tr>\n",
       "  </thead>\n",
       "  <tbody>\n",
       "    <tr>\n",
       "      <th>8541</th>\n",
       "      <td>The Three Mesquiteers</td>\n",
       "      <td>f1337</td>\n",
       "      <td>movie</td>\n",
       "      <td>tt0036437, tt0035683, tt0036332, tt0036312</td>\n",
       "      <td>thundering trails, the blocked trail, santa fe...</td>\n",
       "      <td>1943</td>\n",
       "      <td>0</td>\n",
       "      <td>60</td>\n",
       "      <td>[Western]</td>\n",
       "      <td>62.0</td>\n",
       "      <td>7.05</td>\n",
       "      <td>52.0</td>\n",
       "      <td>4.0</td>\n",
       "      <td>1.0</td>\n",
       "      <td>1.0</td>\n",
       "    </tr>\n",
       "  </tbody>\n",
       "</table>\n",
       "</div>"
      ],
      "text/plain": [
       "             franchise_name franchise_id   type  \\\n",
       "8541  The Three Mesquiteers        f1337  movie   \n",
       "\n",
       "                                          tconst  \\\n",
       "8541  tt0036437, tt0035683, tt0036332, tt0036312   \n",
       "\n",
       "                                                  title  year  is_adult  \\\n",
       "8541  thundering trails, the blocked trail, santa fe...  1943         0   \n",
       "\n",
       "     runtime     genres  votes_average  rating_average  franchise_count  \\\n",
       "8541      60  [Western]           62.0            7.05             52.0   \n",
       "\n",
       "      year_franchise_movies_total  year_difference  year_diff  \n",
       "8541                          4.0              1.0        1.0  "
      ]
     },
     "execution_count": 118,
     "metadata": {},
     "output_type": "execute_result"
    }
   ],
   "source": [
    "merged_years_df.sample()"
   ]
  },
  {
   "cell_type": "code",
   "execution_count": 119,
   "metadata": {},
   "outputs": [],
   "source": [
    "merged_years_df = merged_years_df.sort_values([\"franchise_id\", \"year\"])\n",
    "merged_years_df['year_diff'] = merged_years_df.groupby(['franchise_id'])['year'].diff()\n",
    "merged_years_df['vote_diff'] = merged_years_df.groupby(['franchise_id'])['votes_average'].diff()\n",
    "merged_years_df['rating_diff'] = merged_years_df.groupby(['franchise_id'])['rating_average'].diff()\n",
    "merged_years_df['num_of_releases_diff'] = merged_years_df.groupby(['franchise_id'])['content_per_year'].diff()"
   ]
  },
  {
   "cell_type": "code",
   "execution_count": 122,
   "metadata": {},
   "outputs": [
    {
     "data": {
      "text/html": [
       "<div>\n",
       "<style scoped>\n",
       "    .dataframe tbody tr th:only-of-type {\n",
       "        vertical-align: middle;\n",
       "    }\n",
       "\n",
       "    .dataframe tbody tr th {\n",
       "        vertical-align: top;\n",
       "    }\n",
       "\n",
       "    .dataframe thead th {\n",
       "        text-align: right;\n",
       "    }\n",
       "</style>\n",
       "<table border=\"1\" class=\"dataframe\">\n",
       "  <thead>\n",
       "    <tr style=\"text-align: right;\">\n",
       "      <th></th>\n",
       "      <th>franchise_name</th>\n",
       "      <th>franchise_id</th>\n",
       "      <th>type</th>\n",
       "      <th>tconst</th>\n",
       "      <th>title</th>\n",
       "      <th>year</th>\n",
       "      <th>is_adult</th>\n",
       "      <th>runtime</th>\n",
       "      <th>genres</th>\n",
       "      <th>votes_average</th>\n",
       "      <th>rating_average</th>\n",
       "      <th>franchise_count</th>\n",
       "      <th>year_franchise_movies_total</th>\n",
       "      <th>year_difference</th>\n",
       "      <th>year_diff</th>\n",
       "      <th>vote_diff</th>\n",
       "      <th>rating_diff</th>\n",
       "      <th>num_of_releases_diff</th>\n",
       "    </tr>\n",
       "  </thead>\n",
       "  <tbody>\n",
       "    <tr>\n",
       "      <th>0</th>\n",
       "      <td>Mario</td>\n",
       "      <td>3025-1</td>\n",
       "      <td>game</td>\n",
       "      <td>tt0315808</td>\n",
       "      <td>Baseball</td>\n",
       "      <td>1978</td>\n",
       "      <td>0</td>\n",
       "      <td>NaN</td>\n",
       "      <td>[ 'Baseball', ['Sport',  'Family',  'Sports']]</td>\n",
       "      <td>13.0</td>\n",
       "      <td>3.00</td>\n",
       "      <td>195.0</td>\n",
       "      <td>1.0</td>\n",
       "      <td>NaN</td>\n",
       "      <td>NaN</td>\n",
       "      <td>NaN</td>\n",
       "      <td>NaN</td>\n",
       "      <td>NaN</td>\n",
       "    </tr>\n",
       "    <tr>\n",
       "      <th>1</th>\n",
       "      <td>Mario</td>\n",
       "      <td>3025-1</td>\n",
       "      <td>game</td>\n",
       "      <td>tt0176664</td>\n",
       "      <td>Donkey Kong</td>\n",
       "      <td>1981</td>\n",
       "      <td>0</td>\n",
       "      <td>NaN</td>\n",
       "      <td>[['Action',  'Platformer']]</td>\n",
       "      <td>2011.0</td>\n",
       "      <td>7.40</td>\n",
       "      <td>195.0</td>\n",
       "      <td>1.0</td>\n",
       "      <td>3.0</td>\n",
       "      <td>3.0</td>\n",
       "      <td>1998.0</td>\n",
       "      <td>4.40</td>\n",
       "      <td>0.0</td>\n",
       "    </tr>\n",
       "    <tr>\n",
       "      <th>2</th>\n",
       "      <td>Mario</td>\n",
       "      <td>3025-1</td>\n",
       "      <td>game</td>\n",
       "      <td>tt0204287, tt3472820</td>\n",
       "      <td>Donkey Kong Junior, Donkey Kong</td>\n",
       "      <td>1982</td>\n",
       "      <td>0</td>\n",
       "      <td>NaN</td>\n",
       "      <td>[ 'Family'], ['Action',  'Platformer']</td>\n",
       "      <td>170.5</td>\n",
       "      <td>6.50</td>\n",
       "      <td>195.0</td>\n",
       "      <td>2.0</td>\n",
       "      <td>1.0</td>\n",
       "      <td>1.0</td>\n",
       "      <td>-1840.5</td>\n",
       "      <td>-0.90</td>\n",
       "      <td>1.0</td>\n",
       "    </tr>\n",
       "    <tr>\n",
       "      <th>3</th>\n",
       "      <td>Mario</td>\n",
       "      <td>3025-1</td>\n",
       "      <td>game</td>\n",
       "      <td>tt0176971, tt0185909, tt0302501, tt2318635, tt...</td>\n",
       "      <td>Mario Bros., Baseball, Donkey Kong, Pinball, M...</td>\n",
       "      <td>1983</td>\n",
       "      <td>0</td>\n",
       "      <td>NaN</td>\n",
       "      <td>[ 'Fantasy'],  'Platformer'], ['\\\\N'],  'Sport...</td>\n",
       "      <td>326.8</td>\n",
       "      <td>6.00</td>\n",
       "      <td>195.0</td>\n",
       "      <td>5.0</td>\n",
       "      <td>1.0</td>\n",
       "      <td>1.0</td>\n",
       "      <td>156.3</td>\n",
       "      <td>-0.50</td>\n",
       "      <td>3.0</td>\n",
       "    </tr>\n",
       "    <tr>\n",
       "      <th>4</th>\n",
       "      <td>Mario</td>\n",
       "      <td>3025-1</td>\n",
       "      <td>game</td>\n",
       "      <td>tt0185017, tt0186168, tt3404206, tt3410580</td>\n",
       "      <td>Wrecking Crew, Golf, Mario Bros. Special, Punc...</td>\n",
       "      <td>1984</td>\n",
       "      <td>0</td>\n",
       "      <td>NaN</td>\n",
       "      <td>[['Puzzle',  'Sports'],  'Platformer', ['Golf'...</td>\n",
       "      <td>49.5</td>\n",
       "      <td>5.85</td>\n",
       "      <td>195.0</td>\n",
       "      <td>4.0</td>\n",
       "      <td>1.0</td>\n",
       "      <td>1.0</td>\n",
       "      <td>-277.3</td>\n",
       "      <td>-0.15</td>\n",
       "      <td>-1.0</td>\n",
       "    </tr>\n",
       "    <tr>\n",
       "      <th>...</th>\n",
       "      <td>...</td>\n",
       "      <td>...</td>\n",
       "      <td>...</td>\n",
       "      <td>...</td>\n",
       "      <td>...</td>\n",
       "      <td>...</td>\n",
       "      <td>...</td>\n",
       "      <td>...</td>\n",
       "      <td>...</td>\n",
       "      <td>...</td>\n",
       "      <td>...</td>\n",
       "      <td>...</td>\n",
       "      <td>...</td>\n",
       "      <td>...</td>\n",
       "      <td>...</td>\n",
       "      <td>...</td>\n",
       "      <td>...</td>\n",
       "      <td>...</td>\n",
       "    </tr>\n",
       "    <tr>\n",
       "      <th>11378</th>\n",
       "      <td>Renato Castellani's Italian neorealism trilogy</td>\n",
       "      <td>f993</td>\n",
       "      <td>movie</td>\n",
       "      <td>tt0040018</td>\n",
       "      <td>it's forever springtime</td>\n",
       "      <td>1950</td>\n",
       "      <td>0</td>\n",
       "      <td>92</td>\n",
       "      <td>[Comedy, Drama]</td>\n",
       "      <td>99.0</td>\n",
       "      <td>6.40</td>\n",
       "      <td>3.0</td>\n",
       "      <td>1.0</td>\n",
       "      <td>2.0</td>\n",
       "      <td>2.0</td>\n",
       "      <td>-212.0</td>\n",
       "      <td>-0.50</td>\n",
       "      <td>0.0</td>\n",
       "    </tr>\n",
       "    <tr>\n",
       "      <th>11379</th>\n",
       "      <td>Renato Castellani's Italian neorealism trilogy</td>\n",
       "      <td>f993</td>\n",
       "      <td>movie</td>\n",
       "      <td>tt0044572</td>\n",
       "      <td>two cents worth of hope</td>\n",
       "      <td>1952</td>\n",
       "      <td>0</td>\n",
       "      <td>110</td>\n",
       "      <td>[Romance, Comedy]</td>\n",
       "      <td>658.0</td>\n",
       "      <td>7.00</td>\n",
       "      <td>3.0</td>\n",
       "      <td>1.0</td>\n",
       "      <td>2.0</td>\n",
       "      <td>2.0</td>\n",
       "      <td>559.0</td>\n",
       "      <td>0.60</td>\n",
       "      <td>0.0</td>\n",
       "    </tr>\n",
       "    <tr>\n",
       "      <th>11380</th>\n",
       "      <td>It's Alive</td>\n",
       "      <td>f994</td>\n",
       "      <td>movie</td>\n",
       "      <td>tt0071198, tt0071675</td>\n",
       "      <td>the bat people, it's alive</td>\n",
       "      <td>1974</td>\n",
       "      <td>0</td>\n",
       "      <td>93</td>\n",
       "      <td>[Sci-Fi, Romance, Horror]</td>\n",
       "      <td>5449.5</td>\n",
       "      <td>4.25</td>\n",
       "      <td>4.0</td>\n",
       "      <td>2.0</td>\n",
       "      <td>NaN</td>\n",
       "      <td>NaN</td>\n",
       "      <td>NaN</td>\n",
       "      <td>NaN</td>\n",
       "      <td>NaN</td>\n",
       "    </tr>\n",
       "    <tr>\n",
       "      <th>11381</th>\n",
       "      <td>It's Alive</td>\n",
       "      <td>f994</td>\n",
       "      <td>movie</td>\n",
       "      <td>tt0077756</td>\n",
       "      <td>it lives again</td>\n",
       "      <td>1978</td>\n",
       "      <td>0</td>\n",
       "      <td>91</td>\n",
       "      <td>[Sci-Fi, Horror]</td>\n",
       "      <td>2494.0</td>\n",
       "      <td>5.20</td>\n",
       "      <td>4.0</td>\n",
       "      <td>1.0</td>\n",
       "      <td>4.0</td>\n",
       "      <td>4.0</td>\n",
       "      <td>-2955.5</td>\n",
       "      <td>0.95</td>\n",
       "      <td>-1.0</td>\n",
       "    </tr>\n",
       "    <tr>\n",
       "      <th>11382</th>\n",
       "      <td>It's Alive</td>\n",
       "      <td>f994</td>\n",
       "      <td>movie</td>\n",
       "      <td>tt0093286</td>\n",
       "      <td>it's alive iii: island of the alive</td>\n",
       "      <td>1987</td>\n",
       "      <td>0</td>\n",
       "      <td>95</td>\n",
       "      <td>[Sci-Fi, Horror]</td>\n",
       "      <td>2068.0</td>\n",
       "      <td>4.80</td>\n",
       "      <td>4.0</td>\n",
       "      <td>1.0</td>\n",
       "      <td>9.0</td>\n",
       "      <td>9.0</td>\n",
       "      <td>-426.0</td>\n",
       "      <td>-0.40</td>\n",
       "      <td>0.0</td>\n",
       "    </tr>\n",
       "  </tbody>\n",
       "</table>\n",
       "<p>11383 rows × 18 columns</p>\n",
       "</div>"
      ],
      "text/plain": [
       "                                       franchise_name franchise_id   type  \\\n",
       "0                                               Mario       3025-1   game   \n",
       "1                                               Mario       3025-1   game   \n",
       "2                                               Mario       3025-1   game   \n",
       "3                                               Mario       3025-1   game   \n",
       "4                                               Mario       3025-1   game   \n",
       "...                                               ...          ...    ...   \n",
       "11378  Renato Castellani's Italian neorealism trilogy         f993  movie   \n",
       "11379  Renato Castellani's Italian neorealism trilogy         f993  movie   \n",
       "11380                                      It's Alive         f994  movie   \n",
       "11381                                      It's Alive         f994  movie   \n",
       "11382                                      It's Alive         f994  movie   \n",
       "\n",
       "                                                  tconst  \\\n",
       "0                                              tt0315808   \n",
       "1                                              tt0176664   \n",
       "2                                   tt0204287, tt3472820   \n",
       "3      tt0176971, tt0185909, tt0302501, tt2318635, tt...   \n",
       "4             tt0185017, tt0186168, tt3404206, tt3410580   \n",
       "...                                                  ...   \n",
       "11378                                          tt0040018   \n",
       "11379                                          tt0044572   \n",
       "11380                               tt0071198, tt0071675   \n",
       "11381                                          tt0077756   \n",
       "11382                                          tt0093286   \n",
       "\n",
       "                                                   title  year  is_adult  \\\n",
       "0                                               Baseball  1978         0   \n",
       "1                                            Donkey Kong  1981         0   \n",
       "2                        Donkey Kong Junior, Donkey Kong  1982         0   \n",
       "3      Mario Bros., Baseball, Donkey Kong, Pinball, M...  1983         0   \n",
       "4      Wrecking Crew, Golf, Mario Bros. Special, Punc...  1984         0   \n",
       "...                                                  ...   ...       ...   \n",
       "11378                            it's forever springtime  1950         0   \n",
       "11379                            two cents worth of hope  1952         0   \n",
       "11380                         the bat people, it's alive  1974         0   \n",
       "11381                                     it lives again  1978         0   \n",
       "11382                it's alive iii: island of the alive  1987         0   \n",
       "\n",
       "      runtime                                             genres  \\\n",
       "0         NaN     [ 'Baseball', ['Sport',  'Family',  'Sports']]   \n",
       "1         NaN                        [['Action',  'Platformer']]   \n",
       "2         NaN             [ 'Family'], ['Action',  'Platformer']   \n",
       "3         NaN  [ 'Fantasy'],  'Platformer'], ['\\\\N'],  'Sport...   \n",
       "4         NaN  [['Puzzle',  'Sports'],  'Platformer', ['Golf'...   \n",
       "...       ...                                                ...   \n",
       "11378      92                                    [Comedy, Drama]   \n",
       "11379     110                                  [Romance, Comedy]   \n",
       "11380      93                          [Sci-Fi, Romance, Horror]   \n",
       "11381      91                                   [Sci-Fi, Horror]   \n",
       "11382      95                                   [Sci-Fi, Horror]   \n",
       "\n",
       "       votes_average  rating_average  franchise_count  \\\n",
       "0               13.0            3.00            195.0   \n",
       "1             2011.0            7.40            195.0   \n",
       "2              170.5            6.50            195.0   \n",
       "3              326.8            6.00            195.0   \n",
       "4               49.5            5.85            195.0   \n",
       "...              ...             ...              ...   \n",
       "11378           99.0            6.40              3.0   \n",
       "11379          658.0            7.00              3.0   \n",
       "11380         5449.5            4.25              4.0   \n",
       "11381         2494.0            5.20              4.0   \n",
       "11382         2068.0            4.80              4.0   \n",
       "\n",
       "       year_franchise_movies_total  year_difference  year_diff  vote_diff  \\\n",
       "0                              1.0              NaN        NaN        NaN   \n",
       "1                              1.0              3.0        3.0     1998.0   \n",
       "2                              2.0              1.0        1.0    -1840.5   \n",
       "3                              5.0              1.0        1.0      156.3   \n",
       "4                              4.0              1.0        1.0     -277.3   \n",
       "...                            ...              ...        ...        ...   \n",
       "11378                          1.0              2.0        2.0     -212.0   \n",
       "11379                          1.0              2.0        2.0      559.0   \n",
       "11380                          2.0              NaN        NaN        NaN   \n",
       "11381                          1.0              4.0        4.0    -2955.5   \n",
       "11382                          1.0              9.0        9.0     -426.0   \n",
       "\n",
       "       rating_diff  num_of_releases_diff  \n",
       "0              NaN                   NaN  \n",
       "1             4.40                   0.0  \n",
       "2            -0.90                   1.0  \n",
       "3            -0.50                   3.0  \n",
       "4            -0.15                  -1.0  \n",
       "...            ...                   ...  \n",
       "11378        -0.50                   0.0  \n",
       "11379         0.60                   0.0  \n",
       "11380          NaN                   NaN  \n",
       "11381         0.95                  -1.0  \n",
       "11382        -0.40                   0.0  \n",
       "\n",
       "[11383 rows x 18 columns]"
      ]
     },
     "execution_count": 122,
     "metadata": {},
     "output_type": "execute_result"
    }
   ],
   "source": [
    "merged_years_df"
   ]
  },
  {
   "cell_type": "markdown",
   "metadata": {},
   "source": [
    "At this stage, the merged_year_df contains all the movies within a franchise, grouped by year of release for each franchise, with columns that show how the number of releases, rating and vote count changed from the previous release year, and the number of years between subsequent releases. We'll export this information as a csv"
   ]
  },
  {
   "cell_type": "code",
   "execution_count": 129,
   "metadata": {},
   "outputs": [],
   "source": [
    "merged_years_df.to_csv(\"franchises_combined_by_year.csv\")"
   ]
  },
  {
   "cell_type": "code",
   "execution_count": 127,
   "metadata": {
    "scrolled": false
   },
   "outputs": [
    {
     "data": {
      "text/plain": [
       "count    9369.000000\n",
       "mean        3.261714\n",
       "std         4.967059\n",
       "min         1.000000\n",
       "25%         1.000000\n",
       "50%         2.000000\n",
       "75%         3.000000\n",
       "max        83.000000\n",
       "Name: year_diff, dtype: float64"
      ]
     },
     "execution_count": 127,
     "metadata": {},
     "output_type": "execute_result"
    }
   ],
   "source": [
    "merged_years_df[\"year_diff\"].describe()"
   ]
  },
  {
   "cell_type": "markdown",
   "metadata": {},
   "source": [
    "### Returning to our original dataframe"
   ]
  },
  {
   "cell_type": "markdown",
   "metadata": {},
   "source": [
    "Create additional columns for the datasets containing average rating for the franchises"
   ]
  },
  {
   "cell_type": "code",
   "execution_count": null,
   "metadata": {},
   "outputs": [],
   "source": [
    "#av_vote_year = movies_df.groupby(['franchise_id', 'year'])['rating'].mean().reset_index(drop=False)\n",
    "#movies_df = movies_df.merge(av_vote_year[['franchise_id', 'year', 'rating']], on=['franchise_id', 'year'], how = \"outer\", suffixes=(None, '_franchise_average'))\n",
    "#av_vote_year = games_df.groupby(['franchise_id', 'year'])['rating'].mean().reset_index(drop=False)\n",
    "#games_df = games_df.merge(av_vote_year[['franchise_id', 'year', 'rating']], on=['franchise_id', 'year'], how = \"outer\", suffixes=(None, '_franchise_average'))\n"
   ]
  },
  {
   "cell_type": "code",
   "execution_count": null,
   "metadata": {},
   "outputs": [],
   "source": [
    "movies_df = movies_df.sort_values(['franchise_id', 'year'])\n",
    "movies_df['Year Gap'] = movies_df.groupby('franchise_id')['year'].diff()\n",
    "movies_df['Rating_Difference'] = movies_df.groupby('franchise_id')['rating'].diff()\n",
    "movies_df['Votes_Difference'] = movies_df.groupby('franchise_id')['votes'].diff()"
   ]
  },
  {
   "cell_type": "code",
   "execution_count": null,
   "metadata": {},
   "outputs": [],
   "source": [
    "#movies_df['AAAAHH'] = movies_df.groupby(['franchise_id','year'])['year'].diff()\n",
    "movies_df['year_diff'] = movies_df.groupby(['franchise_id', 'year'])['year'].diff().reset_index(drop=True)"
   ]
  },
  {
   "cell_type": "code",
   "execution_count": null,
   "metadata": {},
   "outputs": [],
   "source": [
    "movies_df['year_difference'] = movies_df.groupby(['franchise_id', 'year'])['year'].diff()\n",
    "\n",
    "# exclude same year differences\n",
    "movies_df.loc[movies_df['year_difference'] == 0, 'year_difference'] = pd.NA"
   ]
  },
  {
   "cell_type": "code",
   "execution_count": null,
   "metadata": {},
   "outputs": [],
   "source": [
    "movies_df = movies_df.sort_values(['franchise_id', 'startYear'])\n",
    "movies_df['Rating_Difference'] = movies_df.groupby('franchise_id')['averageRating'].diff()"
   ]
  },
  {
   "cell_type": "code",
   "execution_count": null,
   "metadata": {},
   "outputs": [],
   "source": [
    "movies_df = movies_df.sort_values(['franchise_id', 'startYear'])\n",
    "movies_df['Votes_Difference'] = movies_df.groupby('franchise_id')['numVotes'].diff()"
   ]
  },
  {
   "cell_type": "code",
   "execution_count": null,
   "metadata": {},
   "outputs": [],
   "source": [
    "movies_df['franchise_position'] = movies_df.groupby(\"franchise_id\")[\"startYear\"].rank(method=\"first\")"
   ]
  },
  {
   "cell_type": "code",
   "execution_count": null,
   "metadata": {},
   "outputs": [],
   "source": [
    "movies_df.groupby(['franchise_id', 'startYear']).size()"
   ]
  },
  {
   "cell_type": "code",
   "execution_count": null,
   "metadata": {
    "scrolled": false
   },
   "outputs": [],
   "source": [
    "movies_df[\"Year Gap\"].value_counts().plot()"
   ]
  },
  {
   "cell_type": "markdown",
   "metadata": {},
   "source": [
    "# Notes\n",
    "Using value_counts we discover 25% of our movies for the franchises are released in the same year. So we have to either get an average per year (in this case, we are looking at fatique over years as opposed to number of movies)"
   ]
  },
  {
   "cell_type": "code",
   "execution_count": 134,
   "metadata": {},
   "outputs": [
    {
     "data": {
      "text/html": [
       "<div>\n",
       "<style scoped>\n",
       "    .dataframe tbody tr th:only-of-type {\n",
       "        vertical-align: middle;\n",
       "    }\n",
       "\n",
       "    .dataframe tbody tr th {\n",
       "        vertical-align: top;\n",
       "    }\n",
       "\n",
       "    .dataframe thead th {\n",
       "        text-align: right;\n",
       "    }\n",
       "</style>\n",
       "<table border=\"1\" class=\"dataframe\">\n",
       "  <thead>\n",
       "    <tr style=\"text-align: right;\">\n",
       "      <th></th>\n",
       "      <th>franchise_name</th>\n",
       "      <th>franchise_id</th>\n",
       "      <th>tconst</th>\n",
       "      <th>title</th>\n",
       "      <th>year</th>\n",
       "      <th>is_adult</th>\n",
       "      <th>runtime</th>\n",
       "      <th>genres</th>\n",
       "      <th>rating</th>\n",
       "      <th>votes</th>\n",
       "      <th>type</th>\n",
       "      <th>game_id</th>\n",
       "      <th>best_fit_ratio</th>\n",
       "      <th>developers</th>\n",
       "      <th>platforms</th>\n",
       "      <th>publishers</th>\n",
       "      <th>age_rating</th>\n",
       "      <th>franchise_count</th>\n",
       "    </tr>\n",
       "  </thead>\n",
       "  <tbody>\n",
       "    <tr>\n",
       "      <th>219112</th>\n",
       "      <td>NaN</td>\n",
       "      <td>NaN</td>\n",
       "      <td>tt2375565</td>\n",
       "      <td>super awesome!</td>\n",
       "      <td>2015</td>\n",
       "      <td>0</td>\n",
       "      <td>89</td>\n",
       "      <td>Comedy,Musical</td>\n",
       "      <td>5.9</td>\n",
       "      <td>52.0</td>\n",
       "      <td>movie</td>\n",
       "      <td>NaN</td>\n",
       "      <td>NaN</td>\n",
       "      <td>NaN</td>\n",
       "      <td>NaN</td>\n",
       "      <td>NaN</td>\n",
       "      <td>NaN</td>\n",
       "      <td>NaN</td>\n",
       "    </tr>\n",
       "  </tbody>\n",
       "</table>\n",
       "</div>"
      ],
      "text/plain": [
       "       franchise_name franchise_id     tconst           title  year  is_adult  \\\n",
       "219112            NaN          NaN  tt2375565  super awesome!  2015         0   \n",
       "\n",
       "       runtime          genres  rating  votes   type  game_id  best_fit_ratio  \\\n",
       "219112      89  Comedy,Musical     5.9   52.0  movie      NaN             NaN   \n",
       "\n",
       "       developers platforms publishers age_rating  franchise_count  \n",
       "219112        NaN       NaN        NaN        NaN              NaN  "
      ]
     },
     "execution_count": 134,
     "metadata": {},
     "output_type": "execute_result"
    }
   ],
   "source": [
    "complete_df.sample()"
   ]
  },
  {
   "cell_type": "code",
   "execution_count": 135,
   "metadata": {},
   "outputs": [],
   "source": [
    "cols = [\"tconst\", \"rating\", \"votes\", \"year\"]\n",
    "\n",
    "games_scores = complete_df[complete_df[\"type\"] == \"game\"][cols]\n",
    "\n",
    "movies_scores = complete_df[complete_df[\"type\"] == \"movie\"][cols]"
   ]
  },
  {
   "cell_type": "code",
   "execution_count": 136,
   "metadata": {},
   "outputs": [],
   "source": [
    "%matplotlib inline\n",
    "\n",
    "sns.set_context(\"talk\", font_scale=.9)   \n",
    "sns.set_context('talk')\n",
    "\n",
    "fig_width, fig_height = 4, 3"
   ]
  },
  {
   "cell_type": "code",
   "execution_count": 138,
   "metadata": {},
   "outputs": [
    {
     "data": {
      "image/png": "[encoded data removed]",
      "text/plain": [
       "<Figure size 864x432 with 1 Axes>"
      ]
     },
     "metadata": {
      "needs_background": "light"
     },
     "output_type": "display_data"
    }
   ],
   "source": [
    "fig, ax = plt.subplots(figsize=(fig_width*3, fig_height*2))\n",
    "\n",
    "interval = 0.01\n",
    "((movies_scores['rating']/10)).hist(\n",
    "    bins=25, ax=ax, grid=False, color=\"red\", density=True, alpha=.4)\n",
    "((games_scores['rating']/10)).hist(\n",
    "    bins=25, ax=ax, grid=False, color=\"blue\", density=True, alpha=.4)\n",
    "\n",
    "\n",
    "ax.set_ylim(0, 5)\n",
    "ax.set_xlim(0, 1)\n",
    "\n",
    "ax.legend(['Movies', 'Games'], ncol=2, loc='upper left')\n",
    "\n",
    "mean_movie_rating = (movies_scores['rating']/10).mean()\n",
    "mean_game_rating = (games_scores['rating']/10).mean()\n",
    "\n",
    "ax.axvline(mean_movie_rating, color=\"red\")\n",
    "ax.axvline(mean_game_rating, color=\"blue\")\n",
    "\n",
    "ax.text(mean_movie_rating, 6, '[1]', ha='center',color=\"red\", backgroundcolor='w', fontsize=14)\n",
    "\n",
    "ax.text(mean_game_rating, 6, '[2]', ha='center',color=\"blue\", backgroundcolor='w', fontsize=14)\n",
    "\n",
    "\n",
    "ax.text(\n",
    "    0, 2,\n",
    "    '''\n",
    "    [1] Mean Movie Rating (All Movies, |)\n",
    "    \n",
    "    [2] Mean Game Rating (All Games, |)\n",
    "    ''',\n",
    "    fontsize=14\n",
    ")\n",
    "\n",
    "ax.set_xlabel('Movie/Game Rating (Normed)')\n",
    "ax.set_ylabel('Relative Number of Movies/Games')\n",
    "\n",
    "ax.set_title('{:,} Movies, {:,} Games'.format(len(movies_scores), len(games_scores)))\n",
    "\n",
    "fig.tight_layout()\n",
    "\n",
    "#fig.savefig('../../graphs/2400_fig_1_normed_rating_distributions.png', format='png', dpi=300)"
   ]
  },
  {
   "cell_type": "code",
   "execution_count": 140,
   "metadata": {},
   "outputs": [
    {
     "data": {
      "text/plain": [
       "mean    6.175676\n",
       "std     1.363040\n",
       "Name: rating, dtype: float64"
      ]
     },
     "execution_count": 140,
     "metadata": {},
     "output_type": "execute_result"
    }
   ],
   "source": [
    "complete_df[complete_df[\"type\"] == \"movie\"]['rating'].agg(['mean', 'std'])"
   ]
  },
  {
   "cell_type": "code",
   "execution_count": 143,
   "metadata": {},
   "outputs": [
    {
     "data": {
      "text/plain": [
       "0         0.604769\n",
       "1         0.604769\n",
       "2         0.091211\n",
       "3        -0.275616\n",
       "4        -0.128886\n",
       "            ...   \n",
       "290421   -0.275616\n",
       "290422    0.164576\n",
       "290423   -1.742925\n",
       "290424    1.778615\n",
       "290425    1.558519\n",
       "Name: rating, Length: 290333, dtype: float64"
      ]
     },
     "execution_count": 143,
     "metadata": {},
     "output_type": "execute_result"
    }
   ],
   "source": [
    "(complete_df[complete_df[\"type\"] == \"movie\"]['rating']-complete_df[complete_df[\"type\"] == \"movie\"]['rating'].mean())/complete_df[complete_df[\"type\"] == \"movie\"]['rating'].std()"
   ]
  },
  {
   "cell_type": "code",
   "execution_count": 144,
   "metadata": {},
   "outputs": [
    {
     "data": {
      "text/plain": [
       "array([ 0.60476958,  0.60476958,  0.09121082, ..., -1.7429276 ,\n",
       "        1.77861817,  1.55852155])"
      ]
     },
     "execution_count": 144,
     "metadata": {},
     "output_type": "execute_result"
    }
   ],
   "source": [
    "stats.zscore(complete_df[complete_df[\"type\"] == \"movie\"]['rating'])"
   ]
  },
  {
   "cell_type": "code",
   "execution_count": 145,
   "metadata": {},
   "outputs": [
    {
     "data": {
      "text/plain": [
       "-1.114664176753229e-15"
      ]
     },
     "execution_count": 145,
     "metadata": {},
     "output_type": "execute_result"
    }
   ],
   "source": [
    "stats.zscore(complete_df[complete_df[\"type\"] == \"movie\"]['rating']).mean()"
   ]
  },
  {
   "cell_type": "code",
   "execution_count": 150,
   "metadata": {
    "scrolled": true
   },
   "outputs": [
    {
     "name": "stderr",
     "output_type": "stream",
     "text": [
      "<ipython-input-150-191b59c0b11c>:1: SettingWithCopyWarning: \n",
      "A value is trying to be set on a copy of a slice from a DataFrame.\n",
      "Try using .loc[row_indexer,col_indexer] = value instead\n",
      "\n",
      "See the caveats in the documentation: https://pandas.pydata.org/pandas-docs/stable/user_guide/indexing.html#returning-a-view-versus-a-copy\n",
      "  complete_df[\"z_rating\"] = np.nan\n"
     ]
    }
   ],
   "source": [
    "complete_df[\"z_rating\"] = np.nan"
   ]
  },
  {
   "cell_type": "code",
   "execution_count": 154,
   "metadata": {
    "scrolled": true
   },
   "outputs": [
    {
     "name": "stderr",
     "output_type": "stream",
     "text": [
      "<ipython-input-154-147dd0fe079a>:1: SettingWithCopyWarning: \n",
      "A value is trying to be set on a copy of a slice from a DataFrame.\n",
      "Try using .loc[row_indexer,col_indexer] = value instead\n",
      "\n",
      "See the caveats in the documentation: https://pandas.pydata.org/pandas-docs/stable/user_guide/indexing.html#returning-a-view-versus-a-copy\n",
      "  complete_df[complete_df[\"type\"] == \"movie\"]['z_rating'] = stats.zscore(complete_df[complete_df[\"type\"] == \"movie\"]['rating'])\n"
     ]
    },
    {
     "data": {
      "text/html": [
       "<div>\n",
       "<style scoped>\n",
       "    .dataframe tbody tr th:only-of-type {\n",
       "        vertical-align: middle;\n",
       "    }\n",
       "\n",
       "    .dataframe tbody tr th {\n",
       "        vertical-align: top;\n",
       "    }\n",
       "\n",
       "    .dataframe thead th {\n",
       "        text-align: right;\n",
       "    }\n",
       "</style>\n",
       "<table border=\"1\" class=\"dataframe\">\n",
       "  <thead>\n",
       "    <tr style=\"text-align: right;\">\n",
       "      <th></th>\n",
       "      <th>franchise_name</th>\n",
       "      <th>franchise_id</th>\n",
       "      <th>tconst</th>\n",
       "      <th>title</th>\n",
       "      <th>year</th>\n",
       "      <th>is_adult</th>\n",
       "      <th>runtime</th>\n",
       "      <th>genres</th>\n",
       "      <th>rating</th>\n",
       "      <th>votes</th>\n",
       "      <th>type</th>\n",
       "      <th>game_id</th>\n",
       "      <th>best_fit_ratio</th>\n",
       "      <th>developers</th>\n",
       "      <th>platforms</th>\n",
       "      <th>publishers</th>\n",
       "      <th>age_rating</th>\n",
       "      <th>franchise_count</th>\n",
       "      <th>z_rating</th>\n",
       "    </tr>\n",
       "  </thead>\n",
       "  <tbody>\n",
       "    <tr>\n",
       "      <th>0</th>\n",
       "      <td>Coffin Joe</td>\n",
       "      <td>f1</td>\n",
       "      <td>tt0060380</td>\n",
       "      <td>esta noite encarnarei no teu cadáver</td>\n",
       "      <td>1967</td>\n",
       "      <td>0</td>\n",
       "      <td>108</td>\n",
       "      <td>Horror</td>\n",
       "      <td>7.0</td>\n",
       "      <td>1952.0</td>\n",
       "      <td>movie</td>\n",
       "      <td>NaN</td>\n",
       "      <td>NaN</td>\n",
       "      <td>NaN</td>\n",
       "      <td>NaN</td>\n",
       "      <td>NaN</td>\n",
       "      <td>NaN</td>\n",
       "      <td>10.0</td>\n",
       "      <td>NaN</td>\n",
       "    </tr>\n",
       "    <tr>\n",
       "      <th>1</th>\n",
       "      <td>Coffin' Joe</td>\n",
       "      <td>f822</td>\n",
       "      <td>tt0060380</td>\n",
       "      <td>esta noite encarnarei no teu cadáver</td>\n",
       "      <td>1967</td>\n",
       "      <td>0</td>\n",
       "      <td>108</td>\n",
       "      <td>Horror</td>\n",
       "      <td>7.0</td>\n",
       "      <td>1952.0</td>\n",
       "      <td>movie</td>\n",
       "      <td>NaN</td>\n",
       "      <td>NaN</td>\n",
       "      <td>NaN</td>\n",
       "      <td>NaN</td>\n",
       "      <td>NaN</td>\n",
       "      <td>NaN</td>\n",
       "      <td>3.0</td>\n",
       "      <td>NaN</td>\n",
       "    </tr>\n",
       "    <tr>\n",
       "      <th>2</th>\n",
       "      <td>Coffin Joe</td>\n",
       "      <td>f1</td>\n",
       "      <td>tt0062943</td>\n",
       "      <td>the strange world of coffin joe</td>\n",
       "      <td>1968</td>\n",
       "      <td>0</td>\n",
       "      <td>80</td>\n",
       "      <td>Horror</td>\n",
       "      <td>6.3</td>\n",
       "      <td>653.0</td>\n",
       "      <td>movie</td>\n",
       "      <td>NaN</td>\n",
       "      <td>NaN</td>\n",
       "      <td>NaN</td>\n",
       "      <td>NaN</td>\n",
       "      <td>NaN</td>\n",
       "      <td>NaN</td>\n",
       "      <td>10.0</td>\n",
       "      <td>NaN</td>\n",
       "    </tr>\n",
       "    <tr>\n",
       "      <th>3</th>\n",
       "      <td>Coffin Joe</td>\n",
       "      <td>f1</td>\n",
       "      <td>tt0062690</td>\n",
       "      <td>awakening of the beast</td>\n",
       "      <td>1970</td>\n",
       "      <td>0</td>\n",
       "      <td>93</td>\n",
       "      <td>Drama,Horror</td>\n",
       "      <td>5.8</td>\n",
       "      <td>1208.0</td>\n",
       "      <td>movie</td>\n",
       "      <td>NaN</td>\n",
       "      <td>NaN</td>\n",
       "      <td>NaN</td>\n",
       "      <td>NaN</td>\n",
       "      <td>NaN</td>\n",
       "      <td>NaN</td>\n",
       "      <td>10.0</td>\n",
       "      <td>NaN</td>\n",
       "    </tr>\n",
       "    <tr>\n",
       "      <th>4</th>\n",
       "      <td>Coffin Joe</td>\n",
       "      <td>f1</td>\n",
       "      <td>tt0071479</td>\n",
       "      <td>exorcismo negro</td>\n",
       "      <td>1974</td>\n",
       "      <td>0</td>\n",
       "      <td>100</td>\n",
       "      <td>Horror</td>\n",
       "      <td>6.0</td>\n",
       "      <td>274.0</td>\n",
       "      <td>movie</td>\n",
       "      <td>NaN</td>\n",
       "      <td>NaN</td>\n",
       "      <td>NaN</td>\n",
       "      <td>NaN</td>\n",
       "      <td>NaN</td>\n",
       "      <td>NaN</td>\n",
       "      <td>10.0</td>\n",
       "      <td>NaN</td>\n",
       "    </tr>\n",
       "    <tr>\n",
       "      <th>...</th>\n",
       "      <td>...</td>\n",
       "      <td>...</td>\n",
       "      <td>...</td>\n",
       "      <td>...</td>\n",
       "      <td>...</td>\n",
       "      <td>...</td>\n",
       "      <td>...</td>\n",
       "      <td>...</td>\n",
       "      <td>...</td>\n",
       "      <td>...</td>\n",
       "      <td>...</td>\n",
       "      <td>...</td>\n",
       "      <td>...</td>\n",
       "      <td>...</td>\n",
       "      <td>...</td>\n",
       "      <td>...</td>\n",
       "      <td>...</td>\n",
       "      <td>...</td>\n",
       "      <td>...</td>\n",
       "    </tr>\n",
       "    <tr>\n",
       "      <th>16985</th>\n",
       "      <td>NaN</td>\n",
       "      <td>NaN</td>\n",
       "      <td>tt9888864</td>\n",
       "      <td>Infernal</td>\n",
       "      <td>2007</td>\n",
       "      <td>0</td>\n",
       "      <td>NaN</td>\n",
       "      <td>['Action']</td>\n",
       "      <td>6.0</td>\n",
       "      <td>17.0</td>\n",
       "      <td>game</td>\n",
       "      <td>NaN</td>\n",
       "      <td>90.0</td>\n",
       "      <td>NaN</td>\n",
       "      <td>NaN</td>\n",
       "      <td>NaN</td>\n",
       "      <td>NaN</td>\n",
       "      <td>NaN</td>\n",
       "      <td>NaN</td>\n",
       "    </tr>\n",
       "    <tr>\n",
       "      <th>16986</th>\n",
       "      <td>NaN</td>\n",
       "      <td>NaN</td>\n",
       "      <td>tt9892552</td>\n",
       "      <td>Spiral Splatter</td>\n",
       "      <td>2017</td>\n",
       "      <td>0</td>\n",
       "      <td>NaN</td>\n",
       "      <td>['Action']</td>\n",
       "      <td>2.0</td>\n",
       "      <td>10.0</td>\n",
       "      <td>game</td>\n",
       "      <td>NaN</td>\n",
       "      <td>85.5</td>\n",
       "      <td>NaN</td>\n",
       "      <td>NaN</td>\n",
       "      <td>NaN</td>\n",
       "      <td>NaN</td>\n",
       "      <td>NaN</td>\n",
       "      <td>NaN</td>\n",
       "    </tr>\n",
       "    <tr>\n",
       "      <th>16987</th>\n",
       "      <td>NaN</td>\n",
       "      <td>NaN</td>\n",
       "      <td>tt9893348</td>\n",
       "      <td>Alien: Covenant In Utero VR Experience</td>\n",
       "      <td>2017</td>\n",
       "      <td>0</td>\n",
       "      <td>NaN</td>\n",
       "      <td>['Sci-Fi']</td>\n",
       "      <td>6.2</td>\n",
       "      <td>17.0</td>\n",
       "      <td>game</td>\n",
       "      <td>NaN</td>\n",
       "      <td>90.0</td>\n",
       "      <td>NaN</td>\n",
       "      <td>NaN</td>\n",
       "      <td>NaN</td>\n",
       "      <td>NaN</td>\n",
       "      <td>NaN</td>\n",
       "      <td>NaN</td>\n",
       "    </tr>\n",
       "    <tr>\n",
       "      <th>16988</th>\n",
       "      <td>LEGO</td>\n",
       "      <td>3025-448</td>\n",
       "      <td>tt9893804</td>\n",
       "      <td>The Lego Movie 2 Videogame</td>\n",
       "      <td>2019</td>\n",
       "      <td>0</td>\n",
       "      <td>NaN</td>\n",
       "      <td>['Animation', 'Adventure', 'Family', 'Action-A...</td>\n",
       "      <td>5.5</td>\n",
       "      <td>156.0</td>\n",
       "      <td>game</td>\n",
       "      <td>22035.0</td>\n",
       "      <td>100.0</td>\n",
       "      <td>['TT Games']</td>\n",
       "      <td>['PC', 'Xbox One', 'PlayStation 4', 'Nintendo ...</td>\n",
       "      <td>['WB Games']</td>\n",
       "      <td>NaN</td>\n",
       "      <td>56.0</td>\n",
       "      <td>NaN</td>\n",
       "    </tr>\n",
       "    <tr>\n",
       "      <th>16989</th>\n",
       "      <td>NaN</td>\n",
       "      <td>NaN</td>\n",
       "      <td>tt9910948</td>\n",
       "      <td>Pokémon Sword</td>\n",
       "      <td>2019</td>\n",
       "      <td>0</td>\n",
       "      <td>NaN</td>\n",
       "      <td>['Adventure', 'Action', 'Fantasy']</td>\n",
       "      <td>7.2</td>\n",
       "      <td>805.0</td>\n",
       "      <td>game</td>\n",
       "      <td>NaN</td>\n",
       "      <td>90.0</td>\n",
       "      <td>NaN</td>\n",
       "      <td>NaN</td>\n",
       "      <td>NaN</td>\n",
       "      <td>NaN</td>\n",
       "      <td>NaN</td>\n",
       "      <td>NaN</td>\n",
       "    </tr>\n",
       "  </tbody>\n",
       "</table>\n",
       "<p>307320 rows × 19 columns</p>\n",
       "</div>"
      ],
      "text/plain": [
       "      franchise_name franchise_id     tconst  \\\n",
       "0         Coffin Joe           f1  tt0060380   \n",
       "1        Coffin' Joe         f822  tt0060380   \n",
       "2         Coffin Joe           f1  tt0062943   \n",
       "3         Coffin Joe           f1  tt0062690   \n",
       "4         Coffin Joe           f1  tt0071479   \n",
       "...              ...          ...        ...   \n",
       "16985            NaN          NaN  tt9888864   \n",
       "16986            NaN          NaN  tt9892552   \n",
       "16987            NaN          NaN  tt9893348   \n",
       "16988           LEGO     3025-448  tt9893804   \n",
       "16989            NaN          NaN  tt9910948   \n",
       "\n",
       "                                        title  year  is_adult runtime  \\\n",
       "0        esta noite encarnarei no teu cadáver  1967         0     108   \n",
       "1        esta noite encarnarei no teu cadáver  1967         0     108   \n",
       "2             the strange world of coffin joe  1968         0      80   \n",
       "3                      awakening of the beast  1970         0      93   \n",
       "4                             exorcismo negro  1974         0     100   \n",
       "...                                       ...   ...       ...     ...   \n",
       "16985                                Infernal  2007         0     NaN   \n",
       "16986                         Spiral Splatter  2017         0     NaN   \n",
       "16987  Alien: Covenant In Utero VR Experience  2017         0     NaN   \n",
       "16988              The Lego Movie 2 Videogame  2019         0     NaN   \n",
       "16989                           Pokémon Sword  2019         0     NaN   \n",
       "\n",
       "                                                  genres  rating   votes  \\\n",
       "0                                                 Horror     7.0  1952.0   \n",
       "1                                                 Horror     7.0  1952.0   \n",
       "2                                                 Horror     6.3   653.0   \n",
       "3                                           Drama,Horror     5.8  1208.0   \n",
       "4                                                 Horror     6.0   274.0   \n",
       "...                                                  ...     ...     ...   \n",
       "16985                                         ['Action']     6.0    17.0   \n",
       "16986                                         ['Action']     2.0    10.0   \n",
       "16987                                         ['Sci-Fi']     6.2    17.0   \n",
       "16988  ['Animation', 'Adventure', 'Family', 'Action-A...     5.5   156.0   \n",
       "16989                 ['Adventure', 'Action', 'Fantasy']     7.2   805.0   \n",
       "\n",
       "        type  game_id  best_fit_ratio    developers  \\\n",
       "0      movie      NaN             NaN           NaN   \n",
       "1      movie      NaN             NaN           NaN   \n",
       "2      movie      NaN             NaN           NaN   \n",
       "3      movie      NaN             NaN           NaN   \n",
       "4      movie      NaN             NaN           NaN   \n",
       "...      ...      ...             ...           ...   \n",
       "16985   game      NaN            90.0           NaN   \n",
       "16986   game      NaN            85.5           NaN   \n",
       "16987   game      NaN            90.0           NaN   \n",
       "16988   game  22035.0           100.0  ['TT Games']   \n",
       "16989   game      NaN            90.0           NaN   \n",
       "\n",
       "                                               platforms    publishers  \\\n",
       "0                                                    NaN           NaN   \n",
       "1                                                    NaN           NaN   \n",
       "2                                                    NaN           NaN   \n",
       "3                                                    NaN           NaN   \n",
       "4                                                    NaN           NaN   \n",
       "...                                                  ...           ...   \n",
       "16985                                                NaN           NaN   \n",
       "16986                                                NaN           NaN   \n",
       "16987                                                NaN           NaN   \n",
       "16988  ['PC', 'Xbox One', 'PlayStation 4', 'Nintendo ...  ['WB Games']   \n",
       "16989                                                NaN           NaN   \n",
       "\n",
       "      age_rating  franchise_count  z_rating  \n",
       "0            NaN             10.0       NaN  \n",
       "1            NaN              3.0       NaN  \n",
       "2            NaN             10.0       NaN  \n",
       "3            NaN             10.0       NaN  \n",
       "4            NaN             10.0       NaN  \n",
       "...          ...              ...       ...  \n",
       "16985        NaN              NaN       NaN  \n",
       "16986        NaN              NaN       NaN  \n",
       "16987        NaN              NaN       NaN  \n",
       "16988        NaN             56.0       NaN  \n",
       "16989        NaN              NaN       NaN  \n",
       "\n",
       "[307320 rows x 19 columns]"
      ]
     },
     "execution_count": 154,
     "metadata": {},
     "output_type": "execute_result"
    }
   ],
   "source": [
    "complete_df[complete_df[\"type\"] == \"movie\"]['z_rating'] = stats.zscore(complete_df[complete_df[\"type\"] == \"movie\"]['rating'])\n",
    "complete_df.sort_values(\"z_rating\")"
   ]
  },
  {
   "cell_type": "code",
   "execution_count": 159,
   "metadata": {},
   "outputs": [
    {
     "data": {
      "image/png": "[encoded data removed]",
      "text/plain": [
       "<Figure size 864x432 with 1 Axes>"
      ]
     },
     "metadata": {
      "needs_background": "light"
     },
     "output_type": "display_data"
    }
   ],
   "source": [
    "complete_df.loc[complete_df[\"type\"] == \"movie\", 'z_rating'] = stats.zscore(complete_df.loc[complete_df[\"type\"] == \"movie\", 'rating'])\n",
    "\n",
    "complete_df.loc[complete_df[\"type\"] == \"game\", 'z_rating'] = stats.zscore(complete_df.loc[complete_df[\"type\"] == \"game\", 'rating'])\n",
    "\n",
    "fig, ax = plt.subplots(figsize=(fig_width*3, fig_height*2))\n",
    "\n",
    "\n",
    "((complete_df[complete_df[\"type\"] == \"movie\"]['z_rating'])).hist(\n",
    "    bins=50, ax=ax, grid=False, color=\"red\", density=True, alpha=.4)\n",
    "((complete_df[complete_df[\"type\"] == \"game\"]['z_rating'])).hist(\n",
    "    bins=50, ax=ax, grid=False, color=\"blue\", density=True, alpha=.4)\n",
    "\n",
    "\n",
    "ax.set_xlim(-5, 5)\n",
    "\n",
    "ax.legend(['Movies', 'Games'], ncol=2, loc='upper left')\n",
    "\n",
    "ax.axvline((complete_df[complete_df[\"type\"] == \"movie\"]['z_rating']).mean(), lw=2, c=\"red\")\n",
    "ax.axvline((complete_df[complete_df[\"type\"] == \"game\"]['z_rating']).mean(), lw=2, c=\"blue\")\n",
    "\n",
    "\n",
    "ax.set_xlabel('Movie/Games Rating (Z-Scores)')\n",
    "ax.set_ylabel('Relative Number of Movies/Games')\n",
    "ax.set_title('{:,} Movies, {:,} Games'.format(len(movies_df), len(games_df)))\n",
    "\n",
    "fig.tight_layout()\n",
    "\n",
    "#fig.savefig('../../graphs/2400_fig_2_z_rating_distributions.png', format='png', dpi=300)"
   ]
  },
  {
   "cell_type": "code",
   "execution_count": null,
   "metadata": {},
   "outputs": [],
   "source": []
  },
  {
   "cell_type": "markdown",
   "metadata": {},
   "source": [
    "## Additional Unused Code"
   ]
  },
  {
   "cell_type": "code",
   "execution_count": null,
   "metadata": {},
   "outputs": [],
   "source": [
    "def sample_func(sub_df):\n",
    "    \n",
    "    movies_in_order = sub_df.sort_values('year')['tconst']\n",
    "    return pd.Series({movie: k+1 for k, movie in enumerate(movies_in_order)})"
   ]
  },
  {
   "cell_type": "code",
   "execution_count": null,
   "metadata": {},
   "outputs": [],
   "source": [
    "sample_df = movies_df.sample(10000)\n",
    "grouped_df = sample_df.groupby('franchise_id').apply(sample_func)"
   ]
  },
  {
   "cell_type": "code",
   "execution_count": null,
   "metadata": {},
   "outputs": [],
   "source": [
    "franchise_df = grouped_df[grouped_df['franchise_id'] == 'f1334']"
   ]
  },
  {
   "cell_type": "code",
   "execution_count": null,
   "metadata": {},
   "outputs": [],
   "source": [
    "sample_func(franchise_df)"
   ]
  },
  {
   "cell_type": "code",
   "execution_count": null,
   "metadata": {},
   "outputs": [],
   "source": [
    "l = ['a','b','c']\n",
    "for k,i in enumerate(l):\n",
    "    print(k,i)\n",
    "    print(i,  '-->',  k+1)"
   ]
  },
  {
   "cell_type": "code",
   "execution_count": null,
   "metadata": {},
   "outputs": [],
   "source": [
    "franchise_df.sort_values('startYear')['startYear']"
   ]
  },
  {
   "cell_type": "code",
   "execution_count": null,
   "metadata": {},
   "outputs": [],
   "source": [
    "franchise_df.set_index('tconst').sort_values('startYear')['startYear'].map(int).diff()"
   ]
  },
  {
   "cell_type": "code",
   "execution_count": null,
   "metadata": {},
   "outputs": [],
   "source": []
  }
 ],
 "metadata": {
  "kernelspec": {
   "display_name": "Python 3",
   "language": "python",
   "name": "python3"
  },
  "language_info": {
   "codemirror_mode": {
    "name": "ipython",
    "version": 3
   },
   "file_extension": ".py",
   "mimetype": "text/x-python",
   "name": "python",
   "nbconvert_exporter": "python",
   "pygments_lexer": "ipython3",
   "version": "3.8.5"
  }
 },
 "nbformat": 4,
 "nbformat_minor": 5
}
