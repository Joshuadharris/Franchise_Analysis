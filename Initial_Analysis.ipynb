{
 "cells": [
  {
   "cell_type": "code",
   "execution_count": 121,
   "id": "c4385f4d",
   "metadata": {},
   "outputs": [],
   "source": [
    "import math\n",
    "import pandas as pd\n",
    "import numpy as np\n",
    "from scipy import stats\n",
    "from matplotlib.pylab import plt\n",
    "import seaborn as sns"
   ]
  },
  {
   "cell_type": "code",
   "execution_count": 122,
   "id": "9d3fba09",
   "metadata": {},
   "outputs": [
    {
     "name": "stderr",
     "output_type": "stream",
     "text": [
      "C:\\Users\\35387\\AppData\\Local\\Temp\\ipykernel_109712\\1545051576.py:1: DtypeWarning: Columns (2,3,4) have mixed types. Specify dtype option on import or set low_memory=False.\n",
      "  movies_df = pd.read_csv(\"movies_with_franchises.csv\", index_col = 0)\n"
     ]
    }
   ],
   "source": [
    "movies_df = pd.read_csv(\"movies_with_franchises.csv\", index_col = 0)\n",
    "games_df = pd.read_csv(\"clean_games_with_franchises.csv\", index_col = 0)"
   ]
  },
  {
   "cell_type": "markdown",
   "id": "c0e2bec3",
   "metadata": {},
   "source": [
    "Naming convention to standardise the column names"
   ]
  },
  {
   "cell_type": "code",
   "execution_count": 123,
   "id": "934704b8",
   "metadata": {},
   "outputs": [],
   "source": [
    "games_df = games_df.rename(columns = {\"titleType\": \"type\", \"rating\": \"age_rating\", \"startYear\": \"year\", \"primaryTitle\": \"title\", \"averageRating\": \"rating\", \"numVotes\": \"votes\", \"isAdult\" : \"is_adult\"})\n",
    "movies_df = movies_df.rename(columns={\"startYear\": \"year\", \"primaryTitle\": \"title\", \"isAdult\" : \"is_adult\", \"runtimeMinutes\": \"runtime\", \"averageRating\": \"rating\", \"numVotes\": \"votes\"})\n",
    "movies_df = movies_df[[\"franchise_name\", \"franchise_id\", \"tconst\", \"title\", \"year\", \"is_adult\", \"runtime\", \"genres\", \"rating\", \"votes\"]]"
   ]
  },
  {
   "cell_type": "code",
   "execution_count": 124,
   "id": "09179fa7",
   "metadata": {},
   "outputs": [],
   "source": [
    "games_df.genres = games_df.genres.apply(lambda x: x.strip(\"[]\").split(\",\"))\n",
    "games_df.genres = games_df.genres.apply(lambda x: [i.strip(\" '\") for i in x])\n",
    "games_df.genres = games_df.genres.apply(lambda x: ', '.join(x))"
   ]
  },
  {
   "cell_type": "code",
   "execution_count": 125,
   "id": "a1384651",
   "metadata": {},
   "outputs": [],
   "source": [
    "movies_df[\"type\"] = \"movie\"\n",
    "games_df[\"type\"] = \"game\""
   ]
  },
  {
   "cell_type": "code",
   "execution_count": 126,
   "id": "27d49550",
   "metadata": {},
   "outputs": [],
   "source": [
    "complete_df = pd.concat([movies_df, games_df])"
   ]
  },
  {
   "cell_type": "markdown",
   "id": "86235f69",
   "metadata": {},
   "source": [
    "Get number of movies/games in franchise"
   ]
  },
  {
   "cell_type": "code",
   "execution_count": 127,
   "id": "f765f2a0",
   "metadata": {},
   "outputs": [],
   "source": [
    "complete_df['franchise_count'] = complete_df['franchise_id'].map(complete_df['franchise_id'].value_counts())"
   ]
  },
  {
   "cell_type": "markdown",
   "id": "aec023c4",
   "metadata": {},
   "source": [
    "Get total number of franchises:"
   ]
  },
  {
   "cell_type": "code",
   "execution_count": 172,
   "id": "a2dc97e7",
   "metadata": {},
   "outputs": [
    {
     "data": {
      "text/plain": [
       "832"
      ]
     },
     "execution_count": 172,
     "metadata": {},
     "output_type": "execute_result"
    }
   ],
   "source": [
    "complete_df[complete_df[\"type\"] == \"movie\"].franchise_id.nunique()"
   ]
  },
  {
   "cell_type": "code",
   "execution_count": 129,
   "id": "9a1fd45d",
   "metadata": {
    "scrolled": false
   },
   "outputs": [
    {
     "data": {
      "text/plain": [
       "0"
      ]
     },
     "execution_count": 129,
     "metadata": {},
     "output_type": "execute_result"
    }
   ],
   "source": [
    "complete_df[complete_df[\"type\"] == \"games\"].franchise_id.nunique()"
   ]
  },
  {
   "cell_type": "markdown",
   "id": "c83037eb",
   "metadata": {},
   "source": [
    "Remove any movies or games where the total franchise count after matching the series is less than 3"
   ]
  },
  {
   "cell_type": "code",
   "execution_count": 130,
   "id": "9f5cf786",
   "metadata": {},
   "outputs": [],
   "source": [
    "complete_df[[\"franchise_id\", \"franchise_name\", \"franchise_count\"]] = complete_df[[\"franchise_id\", \"franchise_name\", \"franchise_count\"]].apply(lambda x: np.nan if x[\"franchise_count\"] < 3 else x, axis=1)"
   ]
  },
  {
   "cell_type": "markdown",
   "id": "88672d41",
   "metadata": {},
   "source": [
    "Get total number of franchises with more than 3:"
   ]
  },
  {
   "cell_type": "code",
   "execution_count": 131,
   "id": "aa888925",
   "metadata": {},
   "outputs": [
    {
     "data": {
      "text/plain": [
       "832"
      ]
     },
     "execution_count": 131,
     "metadata": {},
     "output_type": "execute_result"
    }
   ],
   "source": [
    "complete_df[complete_df[\"type\"] == \"movie\"].franchise_id.nunique()"
   ]
  },
  {
   "cell_type": "code",
   "execution_count": 132,
   "id": "c507b4e4",
   "metadata": {},
   "outputs": [
    {
     "data": {
      "text/plain": [
       "1157"
      ]
     },
     "execution_count": 132,
     "metadata": {},
     "output_type": "execute_result"
    }
   ],
   "source": [
    "complete_df[complete_df[\"type\"] == \"game\"].franchise_id.nunique()"
   ]
  },
  {
   "cell_type": "markdown",
   "id": "e209f354",
   "metadata": {},
   "source": [
    "Remove non-numerical years from data and convert to int"
   ]
  },
  {
   "cell_type": "code",
   "execution_count": 133,
   "id": "c153d3fd",
   "metadata": {},
   "outputs": [],
   "source": [
    "def remove_null_years(year):\n",
    "    if type(year) == str:\n",
    "        if year == \"\\\\N\":\n",
    "            return False\n",
    "        else:\n",
    "            return True\n",
    "    else: \n",
    "        if math.isnan(year):\n",
    "            return False\n",
    "        else:\n",
    "            return True"
   ]
  },
  {
   "cell_type": "code",
   "execution_count": 134,
   "id": "abab93cc",
   "metadata": {},
   "outputs": [],
   "source": [
    "def fix_years(year):\n",
    "    if type(year) == str:\n",
    "        year = float(year)\n",
    "        \n",
    "    return year"
   ]
  },
  {
   "cell_type": "code",
   "execution_count": 135,
   "id": "a864c991",
   "metadata": {},
   "outputs": [
    {
     "data": {
      "text/plain": [
       "array([1939, 1940, 1941, 1942, 1943, 1944, 1967, 1968, 1970, 1974, 1976,\n",
       "       1977, 1978, 1979, 2008, 1937, 1938, 2001, 2003, 2006, 2009, 2011,\n",
       "       2013, 2015, 2017, 2019, 2021, 2005, 2018, 1981, 1982, 1988, 1989,\n",
       "       1995, 1998, 2002, 2022, 1948, 1949, 1950, 1951, 1952, 1947, 1999,\n",
       "       2004, 2012, 2014, 1980, 1984, 1983, 2016, 2007, 2010, 1996, 1997,\n",
       "       1953, 1954, 1955, 1966, 1994, 2000, 1969, 1971, 1934, 1946, 1985,\n",
       "       1987, 1990, 1991, 1993, 1992, 1986, 1961, 1964, 1958, 1972, 1973,\n",
       "       1975, 1945, 1963, 1962, 2020, 2023, 1965, 1929, 1930, 1933, 1935,\n",
       "       1936, 1922, 1923, 1924, 1926, 1927, 1928, 1931, 1916, 1959, 1960,\n",
       "       1957, 1918, 1920, 1956, 1913, 1914, 1932, 1919, 1925, 1921, 1915,\n",
       "       1917, 1894, 1897, 1905, 1906, 1907, 1908, 1909, 1910, 1912, 1911,\n",
       "       1903, 1904, 1899, 1901, 1900, 1902, 1896], dtype=int64)"
      ]
     },
     "execution_count": 135,
     "metadata": {},
     "output_type": "execute_result"
    }
   ],
   "source": [
    "complete_df[\"year_type\"] = complete_df[\"year\"].apply(lambda x : remove_null_years(x))\n",
    "complete_df = complete_df[complete_df[\"year_type\"]]\n",
    "complete_df[\"year\"] = complete_df[\"year\"].apply(lambda x : int(x))\n",
    "complete_df[\"year\"].unique()"
   ]
  },
  {
   "cell_type": "markdown",
   "id": "e53df74a",
   "metadata": {},
   "source": [
    "## Splitting the data\n",
    "At this stage we are going to create 2 separate dataframes. The first will group all the franchises by year, and each year for each franchise will be a single entry. The second will keep all the individual entries for each year for each franchise. "
   ]
  },
  {
   "cell_type": "markdown",
   "id": "fce1ff62",
   "metadata": {},
   "source": [
    "### Single Year Per Franchise"
   ]
  },
  {
   "cell_type": "markdown",
   "id": "805b4e1c",
   "metadata": {},
   "source": [
    "Create a copy"
   ]
  },
  {
   "cell_type": "code",
   "execution_count": 136,
   "id": "093a153e",
   "metadata": {},
   "outputs": [],
   "source": [
    "merged_years_df = complete_df.copy(deep=True)"
   ]
  },
  {
   "cell_type": "markdown",
   "id": "614a13d5",
   "metadata": {},
   "source": [
    "Convert genres to list"
   ]
  },
  {
   "cell_type": "code",
   "execution_count": 137,
   "id": "1cd8509c",
   "metadata": {},
   "outputs": [],
   "source": [
    "merged_years_df[\"genres\"] = merged_years_df.genres.apply(lambda x : x.split(','))"
   ]
  },
  {
   "cell_type": "markdown",
   "id": "e0cf6b05",
   "metadata": {},
   "source": [
    "Get total for each year, for each franchise"
   ]
  },
  {
   "cell_type": "code",
   "execution_count": 138,
   "id": "ea490554",
   "metadata": {},
   "outputs": [],
   "source": [
    "merged_years_df['content_per_year'] = merged_years_df.groupby([\"franchise_id\", \"year\"])[\"year\"].transform('count')"
   ]
  },
  {
   "cell_type": "markdown",
   "id": "24aecf61",
   "metadata": {},
   "source": [
    "Create average votes and ratings for each franchise"
   ]
  },
  {
   "cell_type": "code",
   "execution_count": 139,
   "id": "bb075429",
   "metadata": {},
   "outputs": [],
   "source": [
    "grouped_movies = merged_years_df.groupby([\"franchise_id\", \"year\"]).agg({\"votes\": \"mean\", \"rating\": \"mean\"}).reset_index()\n",
    "merged_years_df = pd.merge(merged_years_df, grouped_movies, on=[\"franchise_id\", \"year\"], how=\"left\", suffixes=(None, '_average'))"
   ]
  },
  {
   "cell_type": "code",
   "execution_count": 140,
   "id": "8a83f65e",
   "metadata": {},
   "outputs": [],
   "source": [
    "# group by name and release year, aggregate the franchise_id lists\n",
    "merged_years_df = merged_years_df.groupby(['franchise_id', 'year'], as_index=False).agg(({\n",
    "    'franchise_name': 'first',\n",
    "    'franchise_id': 'first',\n",
    "    \"type\": \"first\",\n",
    "    'tconst': \", \".join,\n",
    "    'title': \", \".join,\n",
    "    \"year\": 'first',\n",
    "    \"is_adult\": \"first\",\n",
    "    \"runtime\" : \"first\",\n",
    "    \"genres\": lambda x: list(set([i for l in x for i in l])),\n",
    "    \"votes_average\": \"first\", \n",
    "    \"rating_average\": \"first\", \n",
    "    \"franchise_count\" : \"first\",\n",
    "    \"content_per_year\": \"first\", \n",
    "    }))"
   ]
  },
  {
   "cell_type": "markdown",
   "id": "065d77db",
   "metadata": {},
   "source": [
    "Create columns that have the difference in year between the previous entries in the franchise, the difference in average vote count and avaerage rating"
   ]
  },
  {
   "cell_type": "code",
   "execution_count": 141,
   "id": "61734da4",
   "metadata": {},
   "outputs": [
    {
     "data": {
      "text/html": [
       "<div>\n",
       "<style scoped>\n",
       "    .dataframe tbody tr th:only-of-type {\n",
       "        vertical-align: middle;\n",
       "    }\n",
       "\n",
       "    .dataframe tbody tr th {\n",
       "        vertical-align: top;\n",
       "    }\n",
       "\n",
       "    .dataframe thead th {\n",
       "        text-align: right;\n",
       "    }\n",
       "</style>\n",
       "<table border=\"1\" class=\"dataframe\">\n",
       "  <thead>\n",
       "    <tr style=\"text-align: right;\">\n",
       "      <th></th>\n",
       "      <th>franchise_name</th>\n",
       "      <th>franchise_id</th>\n",
       "      <th>type</th>\n",
       "      <th>tconst</th>\n",
       "      <th>title</th>\n",
       "      <th>year</th>\n",
       "      <th>is_adult</th>\n",
       "      <th>runtime</th>\n",
       "      <th>genres</th>\n",
       "      <th>votes_average</th>\n",
       "      <th>rating_average</th>\n",
       "      <th>franchise_count</th>\n",
       "      <th>content_per_year</th>\n",
       "    </tr>\n",
       "  </thead>\n",
       "  <tbody>\n",
       "    <tr>\n",
       "      <th>4795</th>\n",
       "      <td>Star Wars Prequel Trilogy</td>\n",
       "      <td>3025-4625</td>\n",
       "      <td>game</td>\n",
       "      <td>tt1149396</td>\n",
       "      <td>Lego Star Wars: The Complete Saga</td>\n",
       "      <td>2007</td>\n",
       "      <td>0</td>\n",
       "      <td>None</td>\n",
       "      <td>[ Action-Adventure, Adventure,  Action,  Comedy]</td>\n",
       "      <td>4495.0</td>\n",
       "      <td>8.7</td>\n",
       "      <td>12.0</td>\n",
       "      <td>1.0</td>\n",
       "    </tr>\n",
       "  </tbody>\n",
       "</table>\n",
       "</div>"
      ],
      "text/plain": [
       "                 franchise_name franchise_id  type     tconst  \\\n",
       "4795  Star Wars Prequel Trilogy    3025-4625  game  tt1149396   \n",
       "\n",
       "                                  title  year  is_adult runtime  \\\n",
       "4795  Lego Star Wars: The Complete Saga  2007         0    None   \n",
       "\n",
       "                                                genres  votes_average  \\\n",
       "4795  [ Action-Adventure, Adventure,  Action,  Comedy]         4495.0   \n",
       "\n",
       "      rating_average  franchise_count  content_per_year  \n",
       "4795             8.7             12.0               1.0  "
      ]
     },
     "execution_count": 141,
     "metadata": {},
     "output_type": "execute_result"
    }
   ],
   "source": [
    "merged_years_df.sample()"
   ]
  },
  {
   "cell_type": "code",
   "execution_count": 142,
   "id": "e684aff2",
   "metadata": {},
   "outputs": [],
   "source": [
    "merged_years_df = merged_years_df.sort_values([\"franchise_id\", \"year\"])\n",
    "merged_years_df['year_diff'] = merged_years_df.groupby(['franchise_id'])['year'].diff()\n",
    "merged_years_df['vote_diff'] = merged_years_df.groupby(['franchise_id'])['votes_average'].diff()\n",
    "merged_years_df['rating_diff'] = merged_years_df.groupby(['franchise_id'])['rating_average'].diff()\n",
    "merged_years_df['num_of_releases_diff'] = merged_years_df.groupby(['franchise_id'])['content_per_year'].diff()"
   ]
  },
  {
   "cell_type": "code",
   "execution_count": 143,
   "id": "f4f82996",
   "metadata": {},
   "outputs": [
    {
     "data": {
      "text/html": [
       "<div>\n",
       "<style scoped>\n",
       "    .dataframe tbody tr th:only-of-type {\n",
       "        vertical-align: middle;\n",
       "    }\n",
       "\n",
       "    .dataframe tbody tr th {\n",
       "        vertical-align: top;\n",
       "    }\n",
       "\n",
       "    .dataframe thead th {\n",
       "        text-align: right;\n",
       "    }\n",
       "</style>\n",
       "<table border=\"1\" class=\"dataframe\">\n",
       "  <thead>\n",
       "    <tr style=\"text-align: right;\">\n",
       "      <th></th>\n",
       "      <th>franchise_name</th>\n",
       "      <th>franchise_id</th>\n",
       "      <th>type</th>\n",
       "      <th>tconst</th>\n",
       "      <th>title</th>\n",
       "      <th>year</th>\n",
       "      <th>is_adult</th>\n",
       "      <th>runtime</th>\n",
       "      <th>genres</th>\n",
       "      <th>votes_average</th>\n",
       "      <th>rating_average</th>\n",
       "      <th>franchise_count</th>\n",
       "      <th>content_per_year</th>\n",
       "      <th>year_diff</th>\n",
       "      <th>vote_diff</th>\n",
       "      <th>rating_diff</th>\n",
       "      <th>num_of_releases_diff</th>\n",
       "    </tr>\n",
       "  </thead>\n",
       "  <tbody>\n",
       "    <tr>\n",
       "      <th>0</th>\n",
       "      <td>Mario</td>\n",
       "      <td>3025-1</td>\n",
       "      <td>game</td>\n",
       "      <td>tt0315808</td>\n",
       "      <td>Baseball</td>\n",
       "      <td>1978</td>\n",
       "      <td>0</td>\n",
       "      <td>None</td>\n",
       "      <td>[ Family,  Sports, Sport,  Baseball]</td>\n",
       "      <td>13.0</td>\n",
       "      <td>3.00</td>\n",
       "      <td>195.0</td>\n",
       "      <td>1.0</td>\n",
       "      <td>NaN</td>\n",
       "      <td>NaN</td>\n",
       "      <td>NaN</td>\n",
       "      <td>NaN</td>\n",
       "    </tr>\n",
       "    <tr>\n",
       "      <th>1</th>\n",
       "      <td>Mario</td>\n",
       "      <td>3025-1</td>\n",
       "      <td>game</td>\n",
       "      <td>tt0176664</td>\n",
       "      <td>Donkey Kong</td>\n",
       "      <td>1981</td>\n",
       "      <td>0</td>\n",
       "      <td>None</td>\n",
       "      <td>[ Platformer, Action]</td>\n",
       "      <td>2011.0</td>\n",
       "      <td>7.40</td>\n",
       "      <td>195.0</td>\n",
       "      <td>1.0</td>\n",
       "      <td>3.0</td>\n",
       "      <td>1998.0</td>\n",
       "      <td>4.40</td>\n",
       "      <td>0.0</td>\n",
       "    </tr>\n",
       "    <tr>\n",
       "      <th>2</th>\n",
       "      <td>Mario</td>\n",
       "      <td>3025-1</td>\n",
       "      <td>game</td>\n",
       "      <td>tt0204287, tt3472820</td>\n",
       "      <td>Donkey Kong Junior, Donkey Kong</td>\n",
       "      <td>1982</td>\n",
       "      <td>0</td>\n",
       "      <td>None</td>\n",
       "      <td>[ Platformer, Action,  Family]</td>\n",
       "      <td>170.5</td>\n",
       "      <td>6.50</td>\n",
       "      <td>195.0</td>\n",
       "      <td>2.0</td>\n",
       "      <td>1.0</td>\n",
       "      <td>-1840.5</td>\n",
       "      <td>-0.90</td>\n",
       "      <td>1.0</td>\n",
       "    </tr>\n",
       "    <tr>\n",
       "      <th>3</th>\n",
       "      <td>Mario</td>\n",
       "      <td>3025-1</td>\n",
       "      <td>game</td>\n",
       "      <td>tt0176971, tt0185909, tt0302501, tt2318635, tt...</td>\n",
       "      <td>Mario Bros., Baseball, Donkey Kong, Pinball, M...</td>\n",
       "      <td>1983</td>\n",
       "      <td>0</td>\n",
       "      <td>None</td>\n",
       "      <td>[ Pinball,  Fantasy,  Sports,  Baseball, \\\\N, ...</td>\n",
       "      <td>326.8</td>\n",
       "      <td>6.00</td>\n",
       "      <td>195.0</td>\n",
       "      <td>5.0</td>\n",
       "      <td>1.0</td>\n",
       "      <td>156.3</td>\n",
       "      <td>-0.50</td>\n",
       "      <td>3.0</td>\n",
       "    </tr>\n",
       "    <tr>\n",
       "      <th>4</th>\n",
       "      <td>Mario</td>\n",
       "      <td>3025-1</td>\n",
       "      <td>game</td>\n",
       "      <td>tt0185017, tt0186168, tt3404206, tt3410580</td>\n",
       "      <td>Wrecking Crew, Golf, Mario Bros. Special, Punc...</td>\n",
       "      <td>1984</td>\n",
       "      <td>0</td>\n",
       "      <td>None</td>\n",
       "      <td>[Golf,  Sports,  Sport, Puzzle,  Action,  Plat...</td>\n",
       "      <td>49.5</td>\n",
       "      <td>5.85</td>\n",
       "      <td>195.0</td>\n",
       "      <td>4.0</td>\n",
       "      <td>1.0</td>\n",
       "      <td>-277.3</td>\n",
       "      <td>-0.15</td>\n",
       "      <td>-1.0</td>\n",
       "    </tr>\n",
       "    <tr>\n",
       "      <th>...</th>\n",
       "      <td>...</td>\n",
       "      <td>...</td>\n",
       "      <td>...</td>\n",
       "      <td>...</td>\n",
       "      <td>...</td>\n",
       "      <td>...</td>\n",
       "      <td>...</td>\n",
       "      <td>...</td>\n",
       "      <td>...</td>\n",
       "      <td>...</td>\n",
       "      <td>...</td>\n",
       "      <td>...</td>\n",
       "      <td>...</td>\n",
       "      <td>...</td>\n",
       "      <td>...</td>\n",
       "      <td>...</td>\n",
       "      <td>...</td>\n",
       "    </tr>\n",
       "    <tr>\n",
       "      <th>10982</th>\n",
       "      <td>Renato Castellani's Italian neorealism trilogy</td>\n",
       "      <td>f994</td>\n",
       "      <td>movie</td>\n",
       "      <td>tt0040018</td>\n",
       "      <td>it's forever springtime</td>\n",
       "      <td>1950</td>\n",
       "      <td>0</td>\n",
       "      <td>92</td>\n",
       "      <td>[Drama, Comedy]</td>\n",
       "      <td>99.0</td>\n",
       "      <td>6.40</td>\n",
       "      <td>3.0</td>\n",
       "      <td>1.0</td>\n",
       "      <td>2.0</td>\n",
       "      <td>-212.0</td>\n",
       "      <td>-0.50</td>\n",
       "      <td>0.0</td>\n",
       "    </tr>\n",
       "    <tr>\n",
       "      <th>10983</th>\n",
       "      <td>Renato Castellani's Italian neorealism trilogy</td>\n",
       "      <td>f994</td>\n",
       "      <td>movie</td>\n",
       "      <td>tt0044572</td>\n",
       "      <td>two cents worth of hope</td>\n",
       "      <td>1952</td>\n",
       "      <td>0</td>\n",
       "      <td>110</td>\n",
       "      <td>[Romance, Comedy]</td>\n",
       "      <td>658.0</td>\n",
       "      <td>7.00</td>\n",
       "      <td>3.0</td>\n",
       "      <td>1.0</td>\n",
       "      <td>2.0</td>\n",
       "      <td>559.0</td>\n",
       "      <td>0.60</td>\n",
       "      <td>0.0</td>\n",
       "    </tr>\n",
       "    <tr>\n",
       "      <th>10984</th>\n",
       "      <td>It's Alive</td>\n",
       "      <td>f995</td>\n",
       "      <td>movie</td>\n",
       "      <td>tt0071198, tt0071675</td>\n",
       "      <td>the bat people, it's alive</td>\n",
       "      <td>1974</td>\n",
       "      <td>0</td>\n",
       "      <td>93</td>\n",
       "      <td>[Horror, Sci-Fi, Romance]</td>\n",
       "      <td>5449.5</td>\n",
       "      <td>4.25</td>\n",
       "      <td>4.0</td>\n",
       "      <td>2.0</td>\n",
       "      <td>NaN</td>\n",
       "      <td>NaN</td>\n",
       "      <td>NaN</td>\n",
       "      <td>NaN</td>\n",
       "    </tr>\n",
       "    <tr>\n",
       "      <th>10985</th>\n",
       "      <td>It's Alive</td>\n",
       "      <td>f995</td>\n",
       "      <td>movie</td>\n",
       "      <td>tt0077756</td>\n",
       "      <td>it lives again</td>\n",
       "      <td>1978</td>\n",
       "      <td>0</td>\n",
       "      <td>91</td>\n",
       "      <td>[Horror, Sci-Fi]</td>\n",
       "      <td>2494.0</td>\n",
       "      <td>5.20</td>\n",
       "      <td>4.0</td>\n",
       "      <td>1.0</td>\n",
       "      <td>4.0</td>\n",
       "      <td>-2955.5</td>\n",
       "      <td>0.95</td>\n",
       "      <td>-1.0</td>\n",
       "    </tr>\n",
       "    <tr>\n",
       "      <th>10986</th>\n",
       "      <td>It's Alive</td>\n",
       "      <td>f995</td>\n",
       "      <td>movie</td>\n",
       "      <td>tt0093286</td>\n",
       "      <td>it's alive iii: island of the alive</td>\n",
       "      <td>1987</td>\n",
       "      <td>0</td>\n",
       "      <td>95</td>\n",
       "      <td>[Horror, Sci-Fi]</td>\n",
       "      <td>2068.0</td>\n",
       "      <td>4.80</td>\n",
       "      <td>4.0</td>\n",
       "      <td>1.0</td>\n",
       "      <td>9.0</td>\n",
       "      <td>-426.0</td>\n",
       "      <td>-0.40</td>\n",
       "      <td>0.0</td>\n",
       "    </tr>\n",
       "  </tbody>\n",
       "</table>\n",
       "<p>10987 rows × 17 columns</p>\n",
       "</div>"
      ],
      "text/plain": [
       "                                       franchise_name franchise_id   type  \\\n",
       "0                                               Mario       3025-1   game   \n",
       "1                                               Mario       3025-1   game   \n",
       "2                                               Mario       3025-1   game   \n",
       "3                                               Mario       3025-1   game   \n",
       "4                                               Mario       3025-1   game   \n",
       "...                                               ...          ...    ...   \n",
       "10982  Renato Castellani's Italian neorealism trilogy         f994  movie   \n",
       "10983  Renato Castellani's Italian neorealism trilogy         f994  movie   \n",
       "10984                                      It's Alive         f995  movie   \n",
       "10985                                      It's Alive         f995  movie   \n",
       "10986                                      It's Alive         f995  movie   \n",
       "\n",
       "                                                  tconst  \\\n",
       "0                                              tt0315808   \n",
       "1                                              tt0176664   \n",
       "2                                   tt0204287, tt3472820   \n",
       "3      tt0176971, tt0185909, tt0302501, tt2318635, tt...   \n",
       "4             tt0185017, tt0186168, tt3404206, tt3410580   \n",
       "...                                                  ...   \n",
       "10982                                          tt0040018   \n",
       "10983                                          tt0044572   \n",
       "10984                               tt0071198, tt0071675   \n",
       "10985                                          tt0077756   \n",
       "10986                                          tt0093286   \n",
       "\n",
       "                                                   title  year  is_adult  \\\n",
       "0                                               Baseball  1978         0   \n",
       "1                                            Donkey Kong  1981         0   \n",
       "2                        Donkey Kong Junior, Donkey Kong  1982         0   \n",
       "3      Mario Bros., Baseball, Donkey Kong, Pinball, M...  1983         0   \n",
       "4      Wrecking Crew, Golf, Mario Bros. Special, Punc...  1984         0   \n",
       "...                                                  ...   ...       ...   \n",
       "10982                            it's forever springtime  1950         0   \n",
       "10983                            two cents worth of hope  1952         0   \n",
       "10984                         the bat people, it's alive  1974         0   \n",
       "10985                                     it lives again  1978         0   \n",
       "10986                it's alive iii: island of the alive  1987         0   \n",
       "\n",
       "      runtime                                             genres  \\\n",
       "0        None               [ Family,  Sports, Sport,  Baseball]   \n",
       "1        None                              [ Platformer, Action]   \n",
       "2        None                     [ Platformer, Action,  Family]   \n",
       "3        None  [ Pinball,  Fantasy,  Sports,  Baseball, \\\\N, ...   \n",
       "4        None  [Golf,  Sports,  Sport, Puzzle,  Action,  Plat...   \n",
       "...       ...                                                ...   \n",
       "10982      92                                    [Drama, Comedy]   \n",
       "10983     110                                  [Romance, Comedy]   \n",
       "10984      93                          [Horror, Sci-Fi, Romance]   \n",
       "10985      91                                   [Horror, Sci-Fi]   \n",
       "10986      95                                   [Horror, Sci-Fi]   \n",
       "\n",
       "       votes_average  rating_average  franchise_count  content_per_year  \\\n",
       "0               13.0            3.00            195.0               1.0   \n",
       "1             2011.0            7.40            195.0               1.0   \n",
       "2              170.5            6.50            195.0               2.0   \n",
       "3              326.8            6.00            195.0               5.0   \n",
       "4               49.5            5.85            195.0               4.0   \n",
       "...              ...             ...              ...               ...   \n",
       "10982           99.0            6.40              3.0               1.0   \n",
       "10983          658.0            7.00              3.0               1.0   \n",
       "10984         5449.5            4.25              4.0               2.0   \n",
       "10985         2494.0            5.20              4.0               1.0   \n",
       "10986         2068.0            4.80              4.0               1.0   \n",
       "\n",
       "       year_diff  vote_diff  rating_diff  num_of_releases_diff  \n",
       "0            NaN        NaN          NaN                   NaN  \n",
       "1            3.0     1998.0         4.40                   0.0  \n",
       "2            1.0    -1840.5        -0.90                   1.0  \n",
       "3            1.0      156.3        -0.50                   3.0  \n",
       "4            1.0     -277.3        -0.15                  -1.0  \n",
       "...          ...        ...          ...                   ...  \n",
       "10982        2.0     -212.0        -0.50                   0.0  \n",
       "10983        2.0      559.0         0.60                   0.0  \n",
       "10984        NaN        NaN          NaN                   NaN  \n",
       "10985        4.0    -2955.5         0.95                  -1.0  \n",
       "10986        9.0     -426.0        -0.40                   0.0  \n",
       "\n",
       "[10987 rows x 17 columns]"
      ]
     },
     "execution_count": 143,
     "metadata": {},
     "output_type": "execute_result"
    }
   ],
   "source": [
    "merged_years_df"
   ]
  },
  {
   "cell_type": "markdown",
   "id": "40fb8645",
   "metadata": {},
   "source": [
    "At this stage, the merged_year_df contains all the movies within a franchise, grouped by year of release for each franchise, with columns that show how the number of releases, rating and vote count changed from the previous release year, and the number of years between subsequent releases. We'll export this information as a csv"
   ]
  },
  {
   "cell_type": "code",
   "execution_count": null,
   "id": "9ae3e8a4",
   "metadata": {},
   "outputs": [],
   "source": []
  },
  {
   "cell_type": "code",
   "execution_count": 144,
   "id": "0e36a86c",
   "metadata": {
    "scrolled": false
   },
   "outputs": [
    {
     "data": {
      "text/plain": [
       "count    8998.000000\n",
       "mean        2.995555\n",
       "std         3.891119\n",
       "min         1.000000\n",
       "25%         1.000000\n",
       "50%         2.000000\n",
       "75%         3.000000\n",
       "max        47.000000\n",
       "Name: year_diff, dtype: float64"
      ]
     },
     "execution_count": 144,
     "metadata": {},
     "output_type": "execute_result"
    }
   ],
   "source": [
    "merged_years_df[\"year_diff\"].describe()"
   ]
  },
  {
   "cell_type": "markdown",
   "id": "99958227",
   "metadata": {},
   "source": [
    "### Returning to our original dataframe"
   ]
  },
  {
   "cell_type": "markdown",
   "id": "35c06015",
   "metadata": {},
   "source": [
    "Create additional columns for the datasets containing average rating for the franchises"
   ]
  },
  {
   "cell_type": "code",
   "execution_count": 145,
   "id": "c2fff1ff",
   "metadata": {},
   "outputs": [
    {
     "data": {
      "text/html": [
       "<div>\n",
       "<style scoped>\n",
       "    .dataframe tbody tr th:only-of-type {\n",
       "        vertical-align: middle;\n",
       "    }\n",
       "\n",
       "    .dataframe tbody tr th {\n",
       "        vertical-align: top;\n",
       "    }\n",
       "\n",
       "    .dataframe thead th {\n",
       "        text-align: right;\n",
       "    }\n",
       "</style>\n",
       "<table border=\"1\" class=\"dataframe\">\n",
       "  <thead>\n",
       "    <tr style=\"text-align: right;\">\n",
       "      <th></th>\n",
       "      <th>franchise_name</th>\n",
       "      <th>franchise_id</th>\n",
       "      <th>tconst</th>\n",
       "      <th>title</th>\n",
       "      <th>year</th>\n",
       "      <th>is_adult</th>\n",
       "      <th>runtime</th>\n",
       "      <th>genres</th>\n",
       "      <th>rating</th>\n",
       "      <th>votes</th>\n",
       "      <th>type</th>\n",
       "      <th>game_id</th>\n",
       "      <th>best_fit_ratio</th>\n",
       "      <th>developers</th>\n",
       "      <th>platforms</th>\n",
       "      <th>publishers</th>\n",
       "      <th>age_rating</th>\n",
       "      <th>franchise_count</th>\n",
       "      <th>year_type</th>\n",
       "    </tr>\n",
       "  </thead>\n",
       "  <tbody>\n",
       "    <tr>\n",
       "      <th>0</th>\n",
       "      <td>The Aldrich Family</td>\n",
       "      <td>f0</td>\n",
       "      <td>tt0032123</td>\n",
       "      <td>what a life</td>\n",
       "      <td>1939</td>\n",
       "      <td>0</td>\n",
       "      <td>75</td>\n",
       "      <td>Comedy,Drama</td>\n",
       "      <td>6.9</td>\n",
       "      <td>93.0</td>\n",
       "      <td>movie</td>\n",
       "      <td>NaN</td>\n",
       "      <td>NaN</td>\n",
       "      <td>NaN</td>\n",
       "      <td>NaN</td>\n",
       "      <td>NaN</td>\n",
       "      <td>NaN</td>\n",
       "      <td>11.0</td>\n",
       "      <td>True</td>\n",
       "    </tr>\n",
       "    <tr>\n",
       "      <th>1</th>\n",
       "      <td>The Aldrich Family</td>\n",
       "      <td>f0</td>\n",
       "      <td>tt0033834</td>\n",
       "      <td>life with henry</td>\n",
       "      <td>1940</td>\n",
       "      <td>0</td>\n",
       "      <td>80</td>\n",
       "      <td>Comedy,Family,Music</td>\n",
       "      <td>6.0</td>\n",
       "      <td>49.0</td>\n",
       "      <td>movie</td>\n",
       "      <td>NaN</td>\n",
       "      <td>NaN</td>\n",
       "      <td>NaN</td>\n",
       "      <td>NaN</td>\n",
       "      <td>NaN</td>\n",
       "      <td>NaN</td>\n",
       "      <td>11.0</td>\n",
       "      <td>True</td>\n",
       "    </tr>\n",
       "    <tr>\n",
       "      <th>2</th>\n",
       "      <td>The Aldrich Family</td>\n",
       "      <td>f0</td>\n",
       "      <td>tt0033708</td>\n",
       "      <td>henry aldrich for president</td>\n",
       "      <td>1941</td>\n",
       "      <td>0</td>\n",
       "      <td>75</td>\n",
       "      <td>Comedy,Family</td>\n",
       "      <td>6.6</td>\n",
       "      <td>146.0</td>\n",
       "      <td>movie</td>\n",
       "      <td>NaN</td>\n",
       "      <td>NaN</td>\n",
       "      <td>NaN</td>\n",
       "      <td>NaN</td>\n",
       "      <td>NaN</td>\n",
       "      <td>NaN</td>\n",
       "      <td>11.0</td>\n",
       "      <td>True</td>\n",
       "    </tr>\n",
       "    <tr>\n",
       "      <th>3</th>\n",
       "      <td>The Aldrich Family</td>\n",
       "      <td>f0</td>\n",
       "      <td>tt0034842</td>\n",
       "      <td>henry aldrich, editor</td>\n",
       "      <td>1942</td>\n",
       "      <td>0</td>\n",
       "      <td>72</td>\n",
       "      <td>Comedy,Drama,Family</td>\n",
       "      <td>6.4</td>\n",
       "      <td>150.0</td>\n",
       "      <td>movie</td>\n",
       "      <td>NaN</td>\n",
       "      <td>NaN</td>\n",
       "      <td>NaN</td>\n",
       "      <td>NaN</td>\n",
       "      <td>NaN</td>\n",
       "      <td>NaN</td>\n",
       "      <td>11.0</td>\n",
       "      <td>True</td>\n",
       "    </tr>\n",
       "    <tr>\n",
       "      <th>4</th>\n",
       "      <td>The Aldrich Family</td>\n",
       "      <td>f0</td>\n",
       "      <td>tt0034844</td>\n",
       "      <td>henry and dizzy</td>\n",
       "      <td>1942</td>\n",
       "      <td>0</td>\n",
       "      <td>71</td>\n",
       "      <td>Comedy,Family</td>\n",
       "      <td>7.2</td>\n",
       "      <td>58.0</td>\n",
       "      <td>movie</td>\n",
       "      <td>NaN</td>\n",
       "      <td>NaN</td>\n",
       "      <td>NaN</td>\n",
       "      <td>NaN</td>\n",
       "      <td>NaN</td>\n",
       "      <td>NaN</td>\n",
       "      <td>11.0</td>\n",
       "      <td>True</td>\n",
       "    </tr>\n",
       "    <tr>\n",
       "      <th>...</th>\n",
       "      <td>...</td>\n",
       "      <td>...</td>\n",
       "      <td>...</td>\n",
       "      <td>...</td>\n",
       "      <td>...</td>\n",
       "      <td>...</td>\n",
       "      <td>...</td>\n",
       "      <td>...</td>\n",
       "      <td>...</td>\n",
       "      <td>...</td>\n",
       "      <td>...</td>\n",
       "      <td>...</td>\n",
       "      <td>...</td>\n",
       "      <td>...</td>\n",
       "      <td>...</td>\n",
       "      <td>...</td>\n",
       "      <td>...</td>\n",
       "      <td>...</td>\n",
       "      <td>...</td>\n",
       "    </tr>\n",
       "    <tr>\n",
       "      <th>16985</th>\n",
       "      <td>NaN</td>\n",
       "      <td>NaN</td>\n",
       "      <td>tt9888864</td>\n",
       "      <td>Infernal</td>\n",
       "      <td>2007</td>\n",
       "      <td>0</td>\n",
       "      <td>NaN</td>\n",
       "      <td>Action</td>\n",
       "      <td>6.0</td>\n",
       "      <td>17.0</td>\n",
       "      <td>game</td>\n",
       "      <td>NaN</td>\n",
       "      <td>90.0</td>\n",
       "      <td>NaN</td>\n",
       "      <td>NaN</td>\n",
       "      <td>NaN</td>\n",
       "      <td>NaN</td>\n",
       "      <td>NaN</td>\n",
       "      <td>True</td>\n",
       "    </tr>\n",
       "    <tr>\n",
       "      <th>16986</th>\n",
       "      <td>NaN</td>\n",
       "      <td>NaN</td>\n",
       "      <td>tt9892552</td>\n",
       "      <td>Spiral Splatter</td>\n",
       "      <td>2017</td>\n",
       "      <td>0</td>\n",
       "      <td>NaN</td>\n",
       "      <td>Action</td>\n",
       "      <td>2.0</td>\n",
       "      <td>10.0</td>\n",
       "      <td>game</td>\n",
       "      <td>NaN</td>\n",
       "      <td>85.5</td>\n",
       "      <td>NaN</td>\n",
       "      <td>NaN</td>\n",
       "      <td>NaN</td>\n",
       "      <td>NaN</td>\n",
       "      <td>NaN</td>\n",
       "      <td>True</td>\n",
       "    </tr>\n",
       "    <tr>\n",
       "      <th>16987</th>\n",
       "      <td>NaN</td>\n",
       "      <td>NaN</td>\n",
       "      <td>tt9893348</td>\n",
       "      <td>Alien: Covenant In Utero VR Experience</td>\n",
       "      <td>2017</td>\n",
       "      <td>0</td>\n",
       "      <td>NaN</td>\n",
       "      <td>Sci-Fi</td>\n",
       "      <td>6.2</td>\n",
       "      <td>17.0</td>\n",
       "      <td>game</td>\n",
       "      <td>NaN</td>\n",
       "      <td>90.0</td>\n",
       "      <td>NaN</td>\n",
       "      <td>NaN</td>\n",
       "      <td>NaN</td>\n",
       "      <td>NaN</td>\n",
       "      <td>NaN</td>\n",
       "      <td>True</td>\n",
       "    </tr>\n",
       "    <tr>\n",
       "      <th>16988</th>\n",
       "      <td>LEGO</td>\n",
       "      <td>3025-448</td>\n",
       "      <td>tt9893804</td>\n",
       "      <td>The Lego Movie 2 Videogame</td>\n",
       "      <td>2019</td>\n",
       "      <td>0</td>\n",
       "      <td>NaN</td>\n",
       "      <td>Animation, Adventure, Family, Action-Adventure</td>\n",
       "      <td>5.5</td>\n",
       "      <td>156.0</td>\n",
       "      <td>game</td>\n",
       "      <td>22035.0</td>\n",
       "      <td>100.0</td>\n",
       "      <td>['TT Games']</td>\n",
       "      <td>['PC', 'Xbox One', 'PlayStation 4', 'Nintendo ...</td>\n",
       "      <td>['WB Games']</td>\n",
       "      <td>NaN</td>\n",
       "      <td>56.0</td>\n",
       "      <td>True</td>\n",
       "    </tr>\n",
       "    <tr>\n",
       "      <th>16989</th>\n",
       "      <td>NaN</td>\n",
       "      <td>NaN</td>\n",
       "      <td>tt9910948</td>\n",
       "      <td>Pokémon Sword</td>\n",
       "      <td>2019</td>\n",
       "      <td>0</td>\n",
       "      <td>NaN</td>\n",
       "      <td>Adventure, Action, Fantasy</td>\n",
       "      <td>7.2</td>\n",
       "      <td>805.0</td>\n",
       "      <td>game</td>\n",
       "      <td>NaN</td>\n",
       "      <td>90.0</td>\n",
       "      <td>NaN</td>\n",
       "      <td>NaN</td>\n",
       "      <td>NaN</td>\n",
       "      <td>NaN</td>\n",
       "      <td>NaN</td>\n",
       "      <td>True</td>\n",
       "    </tr>\n",
       "  </tbody>\n",
       "</table>\n",
       "<p>307282 rows × 19 columns</p>\n",
       "</div>"
      ],
      "text/plain": [
       "           franchise_name franchise_id     tconst  \\\n",
       "0      The Aldrich Family           f0  tt0032123   \n",
       "1      The Aldrich Family           f0  tt0033834   \n",
       "2      The Aldrich Family           f0  tt0033708   \n",
       "3      The Aldrich Family           f0  tt0034842   \n",
       "4      The Aldrich Family           f0  tt0034844   \n",
       "...                   ...          ...        ...   \n",
       "16985                 NaN          NaN  tt9888864   \n",
       "16986                 NaN          NaN  tt9892552   \n",
       "16987                 NaN          NaN  tt9893348   \n",
       "16988                LEGO     3025-448  tt9893804   \n",
       "16989                 NaN          NaN  tt9910948   \n",
       "\n",
       "                                        title  year  is_adult runtime  \\\n",
       "0                                 what a life  1939         0      75   \n",
       "1                             life with henry  1940         0      80   \n",
       "2                 henry aldrich for president  1941         0      75   \n",
       "3                       henry aldrich, editor  1942         0      72   \n",
       "4                             henry and dizzy  1942         0      71   \n",
       "...                                       ...   ...       ...     ...   \n",
       "16985                                Infernal  2007         0     NaN   \n",
       "16986                         Spiral Splatter  2017         0     NaN   \n",
       "16987  Alien: Covenant In Utero VR Experience  2017         0     NaN   \n",
       "16988              The Lego Movie 2 Videogame  2019         0     NaN   \n",
       "16989                           Pokémon Sword  2019         0     NaN   \n",
       "\n",
       "                                               genres  rating  votes   type  \\\n",
       "0                                        Comedy,Drama     6.9   93.0  movie   \n",
       "1                                 Comedy,Family,Music     6.0   49.0  movie   \n",
       "2                                       Comedy,Family     6.6  146.0  movie   \n",
       "3                                 Comedy,Drama,Family     6.4  150.0  movie   \n",
       "4                                       Comedy,Family     7.2   58.0  movie   \n",
       "...                                               ...     ...    ...    ...   \n",
       "16985                                          Action     6.0   17.0   game   \n",
       "16986                                          Action     2.0   10.0   game   \n",
       "16987                                          Sci-Fi     6.2   17.0   game   \n",
       "16988  Animation, Adventure, Family, Action-Adventure     5.5  156.0   game   \n",
       "16989                      Adventure, Action, Fantasy     7.2  805.0   game   \n",
       "\n",
       "       game_id  best_fit_ratio    developers  \\\n",
       "0          NaN             NaN           NaN   \n",
       "1          NaN             NaN           NaN   \n",
       "2          NaN             NaN           NaN   \n",
       "3          NaN             NaN           NaN   \n",
       "4          NaN             NaN           NaN   \n",
       "...        ...             ...           ...   \n",
       "16985      NaN            90.0           NaN   \n",
       "16986      NaN            85.5           NaN   \n",
       "16987      NaN            90.0           NaN   \n",
       "16988  22035.0           100.0  ['TT Games']   \n",
       "16989      NaN            90.0           NaN   \n",
       "\n",
       "                                               platforms    publishers  \\\n",
       "0                                                    NaN           NaN   \n",
       "1                                                    NaN           NaN   \n",
       "2                                                    NaN           NaN   \n",
       "3                                                    NaN           NaN   \n",
       "4                                                    NaN           NaN   \n",
       "...                                                  ...           ...   \n",
       "16985                                                NaN           NaN   \n",
       "16986                                                NaN           NaN   \n",
       "16987                                                NaN           NaN   \n",
       "16988  ['PC', 'Xbox One', 'PlayStation 4', 'Nintendo ...  ['WB Games']   \n",
       "16989                                                NaN           NaN   \n",
       "\n",
       "      age_rating  franchise_count  year_type  \n",
       "0            NaN             11.0       True  \n",
       "1            NaN             11.0       True  \n",
       "2            NaN             11.0       True  \n",
       "3            NaN             11.0       True  \n",
       "4            NaN             11.0       True  \n",
       "...          ...              ...        ...  \n",
       "16985        NaN              NaN       True  \n",
       "16986        NaN              NaN       True  \n",
       "16987        NaN              NaN       True  \n",
       "16988        NaN             56.0       True  \n",
       "16989        NaN              NaN       True  \n",
       "\n",
       "[307282 rows x 19 columns]"
      ]
     },
     "execution_count": 145,
     "metadata": {},
     "output_type": "execute_result"
    }
   ],
   "source": [
    "complete_df"
   ]
  },
  {
   "cell_type": "markdown",
   "id": "ca8a4f8f",
   "metadata": {},
   "source": [
    "## *Note*\n",
    "Using value_counts we discover 25% of our movies for the franchises are released in the same year. So we have to either get an average per year (in this case, we are looking at fatique over years as opposed to number of movies)"
   ]
  },
  {
   "cell_type": "code",
   "execution_count": 146,
   "id": "581f7922",
   "metadata": {},
   "outputs": [
    {
     "data": {
      "text/html": [
       "<div>\n",
       "<style scoped>\n",
       "    .dataframe tbody tr th:only-of-type {\n",
       "        vertical-align: middle;\n",
       "    }\n",
       "\n",
       "    .dataframe tbody tr th {\n",
       "        vertical-align: top;\n",
       "    }\n",
       "\n",
       "    .dataframe thead th {\n",
       "        text-align: right;\n",
       "    }\n",
       "</style>\n",
       "<table border=\"1\" class=\"dataframe\">\n",
       "  <thead>\n",
       "    <tr style=\"text-align: right;\">\n",
       "      <th></th>\n",
       "      <th>franchise_name</th>\n",
       "      <th>franchise_id</th>\n",
       "      <th>type</th>\n",
       "      <th>tconst</th>\n",
       "      <th>title</th>\n",
       "      <th>year</th>\n",
       "      <th>is_adult</th>\n",
       "      <th>runtime</th>\n",
       "      <th>genres</th>\n",
       "      <th>votes_average</th>\n",
       "      <th>rating_average</th>\n",
       "      <th>franchise_count</th>\n",
       "      <th>content_per_year</th>\n",
       "      <th>year_diff</th>\n",
       "      <th>vote_diff</th>\n",
       "      <th>rating_diff</th>\n",
       "      <th>num_of_releases_diff</th>\n",
       "    </tr>\n",
       "  </thead>\n",
       "  <tbody>\n",
       "    <tr>\n",
       "      <th>9156</th>\n",
       "      <td>Hate Story</td>\n",
       "      <td>f350</td>\n",
       "      <td>movie</td>\n",
       "      <td>tt2309987</td>\n",
       "      <td>hate story</td>\n",
       "      <td>2012</td>\n",
       "      <td>0</td>\n",
       "      <td>140</td>\n",
       "      <td>[Drama, Thriller]</td>\n",
       "      <td>3861.0</td>\n",
       "      <td>5.3</td>\n",
       "      <td>4.0</td>\n",
       "      <td>1.0</td>\n",
       "      <td>NaN</td>\n",
       "      <td>NaN</td>\n",
       "      <td>NaN</td>\n",
       "      <td>NaN</td>\n",
       "    </tr>\n",
       "  </tbody>\n",
       "</table>\n",
       "</div>"
      ],
      "text/plain": [
       "     franchise_name franchise_id   type     tconst       title  year  \\\n",
       "9156     Hate Story         f350  movie  tt2309987  hate story  2012   \n",
       "\n",
       "      is_adult runtime             genres  votes_average  rating_average  \\\n",
       "9156         0     140  [Drama, Thriller]         3861.0             5.3   \n",
       "\n",
       "      franchise_count  content_per_year  year_diff  vote_diff  rating_diff  \\\n",
       "9156              4.0               1.0        NaN        NaN          NaN   \n",
       "\n",
       "      num_of_releases_diff  \n",
       "9156                   NaN  "
      ]
     },
     "execution_count": 146,
     "metadata": {},
     "output_type": "execute_result"
    }
   ],
   "source": [
    "merged_years_df.sample()"
   ]
  },
  {
   "cell_type": "markdown",
   "id": "96ae76e9",
   "metadata": {},
   "source": [
    "# Normalize and z-scores"
   ]
  },
  {
   "cell_type": "code",
   "execution_count": 147,
   "id": "9033cce1",
   "metadata": {},
   "outputs": [],
   "source": [
    "merged_years_df.loc[merged_years_df[\"type\"] == \"movie\", 'z_rating'] = stats.zscore(merged_years_df.loc[merged_years_df[\"type\"] == \"movie\", 'rating_average'])\n",
    "merged_years_df.loc[merged_years_df[\"type\"] == \"game\", 'z_rating'] = stats.zscore(merged_years_df.loc[merged_years_df[\"type\"] == \"game\", 'rating_average'])\n"
   ]
  },
  {
   "cell_type": "code",
   "execution_count": 148,
   "id": "bd57421a",
   "metadata": {},
   "outputs": [],
   "source": [
    "cols = [\"tconst\", \"rating_average\", \"votes_average\", \"year\"]\n",
    "\n",
    "games_scores = merged_years_df[merged_years_df[\"type\"] == \"game\"][cols]\n",
    "\n",
    "movies_scores = merged_years_df[merged_years_df[\"type\"] == \"movie\"][cols]"
   ]
  },
  {
   "cell_type": "code",
   "execution_count": 149,
   "id": "f376514b",
   "metadata": {},
   "outputs": [],
   "source": [
    "%matplotlib inline\n",
    "\n",
    "sns.set_context(\"talk\", font_scale=.9)   \n",
    "sns.set_context('talk')\n",
    "\n",
    "fig_width, fig_height = 4, 3"
   ]
  },
  {
   "cell_type": "code",
   "execution_count": 150,
   "id": "9ceb5c70",
   "metadata": {},
   "outputs": [
    {
     "data": {
      "image/png": "[encoded data removed]",
      "text/plain": [
       "<Figure size 864x432 with 1 Axes>"
      ]
     },
     "metadata": {
      "needs_background": "light"
     },
     "output_type": "display_data"
    }
   ],
   "source": [
    "fig, ax = plt.subplots(figsize=(fig_width*3, fig_height*2))\n",
    "\n",
    "interval = 0.01\n",
    "((movies_scores['rating_average']/10)).hist(\n",
    "    bins=25, ax=ax, grid=False, color=\"red\", density=True, alpha=.4)\n",
    "((games_scores['rating_average']/10)).hist(\n",
    "    bins=25, ax=ax, grid=False, color=\"blue\", density=True, alpha=.4)\n",
    "\n",
    "\n",
    "ax.set_ylim(0, 7)\n",
    "ax.set_xlim(0, 1)\n",
    "\n",
    "ax.legend(['Movies', 'Games'], ncol=2, loc='upper left')\n",
    "\n",
    "mean_movie_rating = (movies_scores['rating_average']/10).mean()\n",
    "mean_game_rating = (games_scores['rating_average']/10).mean()\n",
    "\n",
    "ax.axvline(mean_movie_rating, color=\"red\")\n",
    "ax.axvline(mean_game_rating, color=\"blue\")\n",
    "\n",
    "ax.text(mean_movie_rating, 6, '[1]', ha='center',color=\"red\", backgroundcolor='w', fontsize=14)\n",
    "\n",
    "ax.text(mean_game_rating, 6, '[2]', ha='center',color=\"blue\", backgroundcolor='w', fontsize=14)\n",
    "\n",
    "\n",
    "ax.text(\n",
    "    0, 2,\n",
    "    '''\n",
    "    [1] Mean Movie Rating (All Movies, |)\n",
    "    \n",
    "    [2] Mean Game Rating (All Games, |)\n",
    "    ''',\n",
    "    fontsize=14\n",
    ")\n",
    "\n",
    "ax.set_xlabel('Movie/Game Rating (Normed)')\n",
    "ax.set_ylabel('Relative Number of Movies/Games')\n",
    "\n",
    "ax.set_title('{:,} Movies, {:,} Games'.format(len(movies_scores), len(games_scores)))\n",
    "\n",
    "fig.tight_layout()\n",
    "\n",
    "#fig.savefig('../../graphs/2400_fig_1_normed_rating_distributions.png', format='png', dpi=300)"
   ]
  },
  {
   "cell_type": "code",
   "execution_count": 151,
   "id": "24f44806",
   "metadata": {},
   "outputs": [
    {
     "data": {
      "text/plain": [
       "mean    6.019407\n",
       "std     1.143356\n",
       "Name: rating_average, dtype: float64"
      ]
     },
     "execution_count": 151,
     "metadata": {},
     "output_type": "execute_result"
    }
   ],
   "source": [
    "merged_years_df[merged_years_df[\"type\"] == \"movie\"]['rating_average'].agg(['mean', 'std'])"
   ]
  },
  {
   "cell_type": "code",
   "execution_count": 152,
   "id": "dde6d917",
   "metadata": {},
   "outputs": [
    {
     "data": {
      "text/plain": [
       "7305     0.646067\n",
       "7306    -0.014239\n",
       "7307     0.425965\n",
       "7308     0.572700\n",
       "7309     0.719435\n",
       "           ...   \n",
       "10982    0.279231\n",
       "10983    0.719435\n",
       "10984   -1.298167\n",
       "10985   -0.601177\n",
       "10986   -0.894647\n",
       "Name: rating_average, Length: 3682, dtype: float64"
      ]
     },
     "execution_count": 152,
     "metadata": {},
     "output_type": "execute_result"
    }
   ],
   "source": [
    "(merged_years_df[merged_years_df[\"type\"] == \"movie\"]['rating_average']-merged_years_df[merged_years_df[\"type\"] == \"movie\"]['rating_average'].mean())/complete_df[complete_df[\"type\"] == \"movie\"]['rating'].std()"
   ]
  },
  {
   "cell_type": "code",
   "execution_count": 153,
   "id": "12182577",
   "metadata": {},
   "outputs": [
    {
     "data": {
      "text/plain": [
       "7305     0.770287\n",
       "7306    -0.016976\n",
       "7307     0.507866\n",
       "7308     0.682813\n",
       "7309     0.857760\n",
       "           ...   \n",
       "10982    0.332918\n",
       "10983    0.857760\n",
       "10984   -1.547765\n",
       "10985   -0.716766\n",
       "10986   -1.066660\n",
       "Name: rating_average, Length: 3682, dtype: float64"
      ]
     },
     "execution_count": 153,
     "metadata": {},
     "output_type": "execute_result"
    }
   ],
   "source": [
    "stats.zscore(merged_years_df[merged_years_df[\"type\"] == \"movie\"]['rating_average'])"
   ]
  },
  {
   "cell_type": "code",
   "execution_count": 154,
   "id": "766a0010",
   "metadata": {},
   "outputs": [
    {
     "data": {
      "text/plain": [
       "6.061299087728109e-16"
      ]
     },
     "execution_count": 154,
     "metadata": {},
     "output_type": "execute_result"
    }
   ],
   "source": [
    "stats.zscore(merged_years_df[merged_years_df[\"type\"] == \"movie\"]['rating_average']).mean()"
   ]
  },
  {
   "cell_type": "code",
   "execution_count": 155,
   "id": "86f1d6ca",
   "metadata": {
    "scrolled": true
   },
   "outputs": [],
   "source": [
    "merged_years_df[\"z_rating\"] = np.nan"
   ]
  },
  {
   "cell_type": "code",
   "execution_count": 156,
   "id": "7031245c",
   "metadata": {
    "scrolled": true
   },
   "outputs": [
    {
     "name": "stderr",
     "output_type": "stream",
     "text": [
      "C:\\Users\\35387\\AppData\\Local\\Temp\\ipykernel_109712\\1374468612.py:1: SettingWithCopyWarning: \n",
      "A value is trying to be set on a copy of a slice from a DataFrame.\n",
      "Try using .loc[row_indexer,col_indexer] = value instead\n",
      "\n",
      "See the caveats in the documentation: https://pandas.pydata.org/pandas-docs/stable/user_guide/indexing.html#returning-a-view-versus-a-copy\n",
      "  merged_years_df[merged_years_df[\"type\"] == \"movie\"]['z_rating'] = stats.zscore(merged_years_df[merged_years_df[\"type\"] == \"movie\"]['rating_average'])\n"
     ]
    },
    {
     "data": {
      "text/html": [
       "<div>\n",
       "<style scoped>\n",
       "    .dataframe tbody tr th:only-of-type {\n",
       "        vertical-align: middle;\n",
       "    }\n",
       "\n",
       "    .dataframe tbody tr th {\n",
       "        vertical-align: top;\n",
       "    }\n",
       "\n",
       "    .dataframe thead th {\n",
       "        text-align: right;\n",
       "    }\n",
       "</style>\n",
       "<table border=\"1\" class=\"dataframe\">\n",
       "  <thead>\n",
       "    <tr style=\"text-align: right;\">\n",
       "      <th></th>\n",
       "      <th>franchise_name</th>\n",
       "      <th>franchise_id</th>\n",
       "      <th>type</th>\n",
       "      <th>tconst</th>\n",
       "      <th>title</th>\n",
       "      <th>year</th>\n",
       "      <th>is_adult</th>\n",
       "      <th>runtime</th>\n",
       "      <th>genres</th>\n",
       "      <th>votes_average</th>\n",
       "      <th>rating_average</th>\n",
       "      <th>franchise_count</th>\n",
       "      <th>content_per_year</th>\n",
       "      <th>year_diff</th>\n",
       "      <th>vote_diff</th>\n",
       "      <th>rating_diff</th>\n",
       "      <th>num_of_releases_diff</th>\n",
       "      <th>z_rating</th>\n",
       "    </tr>\n",
       "  </thead>\n",
       "  <tbody>\n",
       "    <tr>\n",
       "      <th>0</th>\n",
       "      <td>Mario</td>\n",
       "      <td>3025-1</td>\n",
       "      <td>game</td>\n",
       "      <td>tt0315808</td>\n",
       "      <td>Baseball</td>\n",
       "      <td>1978</td>\n",
       "      <td>0</td>\n",
       "      <td>None</td>\n",
       "      <td>[ Family,  Sports, Sport,  Baseball]</td>\n",
       "      <td>13.0</td>\n",
       "      <td>3.00</td>\n",
       "      <td>195.0</td>\n",
       "      <td>1.0</td>\n",
       "      <td>NaN</td>\n",
       "      <td>NaN</td>\n",
       "      <td>NaN</td>\n",
       "      <td>NaN</td>\n",
       "      <td>NaN</td>\n",
       "    </tr>\n",
       "    <tr>\n",
       "      <th>1</th>\n",
       "      <td>Mario</td>\n",
       "      <td>3025-1</td>\n",
       "      <td>game</td>\n",
       "      <td>tt0176664</td>\n",
       "      <td>Donkey Kong</td>\n",
       "      <td>1981</td>\n",
       "      <td>0</td>\n",
       "      <td>None</td>\n",
       "      <td>[ Platformer, Action]</td>\n",
       "      <td>2011.0</td>\n",
       "      <td>7.40</td>\n",
       "      <td>195.0</td>\n",
       "      <td>1.0</td>\n",
       "      <td>3.0</td>\n",
       "      <td>1998.0</td>\n",
       "      <td>4.40</td>\n",
       "      <td>0.0</td>\n",
       "      <td>NaN</td>\n",
       "    </tr>\n",
       "    <tr>\n",
       "      <th>2</th>\n",
       "      <td>Mario</td>\n",
       "      <td>3025-1</td>\n",
       "      <td>game</td>\n",
       "      <td>tt0204287, tt3472820</td>\n",
       "      <td>Donkey Kong Junior, Donkey Kong</td>\n",
       "      <td>1982</td>\n",
       "      <td>0</td>\n",
       "      <td>None</td>\n",
       "      <td>[ Platformer, Action,  Family]</td>\n",
       "      <td>170.5</td>\n",
       "      <td>6.50</td>\n",
       "      <td>195.0</td>\n",
       "      <td>2.0</td>\n",
       "      <td>1.0</td>\n",
       "      <td>-1840.5</td>\n",
       "      <td>-0.90</td>\n",
       "      <td>1.0</td>\n",
       "      <td>NaN</td>\n",
       "    </tr>\n",
       "    <tr>\n",
       "      <th>3</th>\n",
       "      <td>Mario</td>\n",
       "      <td>3025-1</td>\n",
       "      <td>game</td>\n",
       "      <td>tt0176971, tt0185909, tt0302501, tt2318635, tt...</td>\n",
       "      <td>Mario Bros., Baseball, Donkey Kong, Pinball, M...</td>\n",
       "      <td>1983</td>\n",
       "      <td>0</td>\n",
       "      <td>None</td>\n",
       "      <td>[ Pinball,  Fantasy,  Sports,  Baseball, \\\\N, ...</td>\n",
       "      <td>326.8</td>\n",
       "      <td>6.00</td>\n",
       "      <td>195.0</td>\n",
       "      <td>5.0</td>\n",
       "      <td>1.0</td>\n",
       "      <td>156.3</td>\n",
       "      <td>-0.50</td>\n",
       "      <td>3.0</td>\n",
       "      <td>NaN</td>\n",
       "    </tr>\n",
       "    <tr>\n",
       "      <th>4</th>\n",
       "      <td>Mario</td>\n",
       "      <td>3025-1</td>\n",
       "      <td>game</td>\n",
       "      <td>tt0185017, tt0186168, tt3404206, tt3410580</td>\n",
       "      <td>Wrecking Crew, Golf, Mario Bros. Special, Punc...</td>\n",
       "      <td>1984</td>\n",
       "      <td>0</td>\n",
       "      <td>None</td>\n",
       "      <td>[Golf,  Sports,  Sport, Puzzle,  Action,  Plat...</td>\n",
       "      <td>49.5</td>\n",
       "      <td>5.85</td>\n",
       "      <td>195.0</td>\n",
       "      <td>4.0</td>\n",
       "      <td>1.0</td>\n",
       "      <td>-277.3</td>\n",
       "      <td>-0.15</td>\n",
       "      <td>-1.0</td>\n",
       "      <td>NaN</td>\n",
       "    </tr>\n",
       "    <tr>\n",
       "      <th>...</th>\n",
       "      <td>...</td>\n",
       "      <td>...</td>\n",
       "      <td>...</td>\n",
       "      <td>...</td>\n",
       "      <td>...</td>\n",
       "      <td>...</td>\n",
       "      <td>...</td>\n",
       "      <td>...</td>\n",
       "      <td>...</td>\n",
       "      <td>...</td>\n",
       "      <td>...</td>\n",
       "      <td>...</td>\n",
       "      <td>...</td>\n",
       "      <td>...</td>\n",
       "      <td>...</td>\n",
       "      <td>...</td>\n",
       "      <td>...</td>\n",
       "      <td>...</td>\n",
       "    </tr>\n",
       "    <tr>\n",
       "      <th>10982</th>\n",
       "      <td>Renato Castellani's Italian neorealism trilogy</td>\n",
       "      <td>f994</td>\n",
       "      <td>movie</td>\n",
       "      <td>tt0040018</td>\n",
       "      <td>it's forever springtime</td>\n",
       "      <td>1950</td>\n",
       "      <td>0</td>\n",
       "      <td>92</td>\n",
       "      <td>[Drama, Comedy]</td>\n",
       "      <td>99.0</td>\n",
       "      <td>6.40</td>\n",
       "      <td>3.0</td>\n",
       "      <td>1.0</td>\n",
       "      <td>2.0</td>\n",
       "      <td>-212.0</td>\n",
       "      <td>-0.50</td>\n",
       "      <td>0.0</td>\n",
       "      <td>NaN</td>\n",
       "    </tr>\n",
       "    <tr>\n",
       "      <th>10983</th>\n",
       "      <td>Renato Castellani's Italian neorealism trilogy</td>\n",
       "      <td>f994</td>\n",
       "      <td>movie</td>\n",
       "      <td>tt0044572</td>\n",
       "      <td>two cents worth of hope</td>\n",
       "      <td>1952</td>\n",
       "      <td>0</td>\n",
       "      <td>110</td>\n",
       "      <td>[Romance, Comedy]</td>\n",
       "      <td>658.0</td>\n",
       "      <td>7.00</td>\n",
       "      <td>3.0</td>\n",
       "      <td>1.0</td>\n",
       "      <td>2.0</td>\n",
       "      <td>559.0</td>\n",
       "      <td>0.60</td>\n",
       "      <td>0.0</td>\n",
       "      <td>NaN</td>\n",
       "    </tr>\n",
       "    <tr>\n",
       "      <th>10984</th>\n",
       "      <td>It's Alive</td>\n",
       "      <td>f995</td>\n",
       "      <td>movie</td>\n",
       "      <td>tt0071198, tt0071675</td>\n",
       "      <td>the bat people, it's alive</td>\n",
       "      <td>1974</td>\n",
       "      <td>0</td>\n",
       "      <td>93</td>\n",
       "      <td>[Horror, Sci-Fi, Romance]</td>\n",
       "      <td>5449.5</td>\n",
       "      <td>4.25</td>\n",
       "      <td>4.0</td>\n",
       "      <td>2.0</td>\n",
       "      <td>NaN</td>\n",
       "      <td>NaN</td>\n",
       "      <td>NaN</td>\n",
       "      <td>NaN</td>\n",
       "      <td>NaN</td>\n",
       "    </tr>\n",
       "    <tr>\n",
       "      <th>10985</th>\n",
       "      <td>It's Alive</td>\n",
       "      <td>f995</td>\n",
       "      <td>movie</td>\n",
       "      <td>tt0077756</td>\n",
       "      <td>it lives again</td>\n",
       "      <td>1978</td>\n",
       "      <td>0</td>\n",
       "      <td>91</td>\n",
       "      <td>[Horror, Sci-Fi]</td>\n",
       "      <td>2494.0</td>\n",
       "      <td>5.20</td>\n",
       "      <td>4.0</td>\n",
       "      <td>1.0</td>\n",
       "      <td>4.0</td>\n",
       "      <td>-2955.5</td>\n",
       "      <td>0.95</td>\n",
       "      <td>-1.0</td>\n",
       "      <td>NaN</td>\n",
       "    </tr>\n",
       "    <tr>\n",
       "      <th>10986</th>\n",
       "      <td>It's Alive</td>\n",
       "      <td>f995</td>\n",
       "      <td>movie</td>\n",
       "      <td>tt0093286</td>\n",
       "      <td>it's alive iii: island of the alive</td>\n",
       "      <td>1987</td>\n",
       "      <td>0</td>\n",
       "      <td>95</td>\n",
       "      <td>[Horror, Sci-Fi]</td>\n",
       "      <td>2068.0</td>\n",
       "      <td>4.80</td>\n",
       "      <td>4.0</td>\n",
       "      <td>1.0</td>\n",
       "      <td>9.0</td>\n",
       "      <td>-426.0</td>\n",
       "      <td>-0.40</td>\n",
       "      <td>0.0</td>\n",
       "      <td>NaN</td>\n",
       "    </tr>\n",
       "  </tbody>\n",
       "</table>\n",
       "<p>10987 rows × 18 columns</p>\n",
       "</div>"
      ],
      "text/plain": [
       "                                       franchise_name franchise_id   type  \\\n",
       "0                                               Mario       3025-1   game   \n",
       "1                                               Mario       3025-1   game   \n",
       "2                                               Mario       3025-1   game   \n",
       "3                                               Mario       3025-1   game   \n",
       "4                                               Mario       3025-1   game   \n",
       "...                                               ...          ...    ...   \n",
       "10982  Renato Castellani's Italian neorealism trilogy         f994  movie   \n",
       "10983  Renato Castellani's Italian neorealism trilogy         f994  movie   \n",
       "10984                                      It's Alive         f995  movie   \n",
       "10985                                      It's Alive         f995  movie   \n",
       "10986                                      It's Alive         f995  movie   \n",
       "\n",
       "                                                  tconst  \\\n",
       "0                                              tt0315808   \n",
       "1                                              tt0176664   \n",
       "2                                   tt0204287, tt3472820   \n",
       "3      tt0176971, tt0185909, tt0302501, tt2318635, tt...   \n",
       "4             tt0185017, tt0186168, tt3404206, tt3410580   \n",
       "...                                                  ...   \n",
       "10982                                          tt0040018   \n",
       "10983                                          tt0044572   \n",
       "10984                               tt0071198, tt0071675   \n",
       "10985                                          tt0077756   \n",
       "10986                                          tt0093286   \n",
       "\n",
       "                                                   title  year  is_adult  \\\n",
       "0                                               Baseball  1978         0   \n",
       "1                                            Donkey Kong  1981         0   \n",
       "2                        Donkey Kong Junior, Donkey Kong  1982         0   \n",
       "3      Mario Bros., Baseball, Donkey Kong, Pinball, M...  1983         0   \n",
       "4      Wrecking Crew, Golf, Mario Bros. Special, Punc...  1984         0   \n",
       "...                                                  ...   ...       ...   \n",
       "10982                            it's forever springtime  1950         0   \n",
       "10983                            two cents worth of hope  1952         0   \n",
       "10984                         the bat people, it's alive  1974         0   \n",
       "10985                                     it lives again  1978         0   \n",
       "10986                it's alive iii: island of the alive  1987         0   \n",
       "\n",
       "      runtime                                             genres  \\\n",
       "0        None               [ Family,  Sports, Sport,  Baseball]   \n",
       "1        None                              [ Platformer, Action]   \n",
       "2        None                     [ Platformer, Action,  Family]   \n",
       "3        None  [ Pinball,  Fantasy,  Sports,  Baseball, \\\\N, ...   \n",
       "4        None  [Golf,  Sports,  Sport, Puzzle,  Action,  Plat...   \n",
       "...       ...                                                ...   \n",
       "10982      92                                    [Drama, Comedy]   \n",
       "10983     110                                  [Romance, Comedy]   \n",
       "10984      93                          [Horror, Sci-Fi, Romance]   \n",
       "10985      91                                   [Horror, Sci-Fi]   \n",
       "10986      95                                   [Horror, Sci-Fi]   \n",
       "\n",
       "       votes_average  rating_average  franchise_count  content_per_year  \\\n",
       "0               13.0            3.00            195.0               1.0   \n",
       "1             2011.0            7.40            195.0               1.0   \n",
       "2              170.5            6.50            195.0               2.0   \n",
       "3              326.8            6.00            195.0               5.0   \n",
       "4               49.5            5.85            195.0               4.0   \n",
       "...              ...             ...              ...               ...   \n",
       "10982           99.0            6.40              3.0               1.0   \n",
       "10983          658.0            7.00              3.0               1.0   \n",
       "10984         5449.5            4.25              4.0               2.0   \n",
       "10985         2494.0            5.20              4.0               1.0   \n",
       "10986         2068.0            4.80              4.0               1.0   \n",
       "\n",
       "       year_diff  vote_diff  rating_diff  num_of_releases_diff  z_rating  \n",
       "0            NaN        NaN          NaN                   NaN       NaN  \n",
       "1            3.0     1998.0         4.40                   0.0       NaN  \n",
       "2            1.0    -1840.5        -0.90                   1.0       NaN  \n",
       "3            1.0      156.3        -0.50                   3.0       NaN  \n",
       "4            1.0     -277.3        -0.15                  -1.0       NaN  \n",
       "...          ...        ...          ...                   ...       ...  \n",
       "10982        2.0     -212.0        -0.50                   0.0       NaN  \n",
       "10983        2.0      559.0         0.60                   0.0       NaN  \n",
       "10984        NaN        NaN          NaN                   NaN       NaN  \n",
       "10985        4.0    -2955.5         0.95                  -1.0       NaN  \n",
       "10986        9.0     -426.0        -0.40                   0.0       NaN  \n",
       "\n",
       "[10987 rows x 18 columns]"
      ]
     },
     "execution_count": 156,
     "metadata": {},
     "output_type": "execute_result"
    }
   ],
   "source": [
    "merged_years_df[merged_years_df[\"type\"] == \"movie\"]['z_rating'] = stats.zscore(merged_years_df[merged_years_df[\"type\"] == \"movie\"]['rating_average'])\n",
    "merged_years_df.sort_values(\"z_rating\")"
   ]
  },
  {
   "cell_type": "code",
   "execution_count": 157,
   "id": "a796f51c",
   "metadata": {},
   "outputs": [
    {
     "data": {
      "image/png": "[encoded data removed]",
      "text/plain": [
       "<Figure size 864x432 with 1 Axes>"
      ]
     },
     "metadata": {
      "needs_background": "light"
     },
     "output_type": "display_data"
    }
   ],
   "source": [
    "merged_years_df.loc[merged_years_df[\"type\"] == \"movie\", 'z_rating'] = stats.zscore(merged_years_df.loc[merged_years_df[\"type\"] == \"movie\", 'rating_average'])\n",
    "\n",
    "merged_years_df.loc[merged_years_df[\"type\"] == \"game\", 'z_rating'] = stats.zscore(merged_years_df.loc[merged_years_df[\"type\"] == \"game\", 'rating_average'])\n",
    "\n",
    "fig, ax = plt.subplots(figsize=(fig_width*3, fig_height*2))\n",
    "\n",
    "\n",
    "((merged_years_df[merged_years_df[\"type\"] == \"movie\"]['z_rating'])).hist(\n",
    "    bins=50, ax=ax, grid=False, color=\"red\", density=True, alpha=.4)\n",
    "((merged_years_df[merged_years_df[\"type\"] == \"game\"]['z_rating'])).hist(\n",
    "    bins=50, ax=ax, grid=False, color=\"blue\", density=True, alpha=.4)\n",
    "\n",
    "\n",
    "ax.set_xlim(-5, 5)\n",
    "\n",
    "ax.legend(['Movies', 'Games'], ncol=2, loc='upper left')\n",
    "\n",
    "ax.axvline((merged_years_df[merged_years_df[\"type\"] == \"movie\"]['z_rating']).mean(), lw=2, c=\"red\")\n",
    "ax.axvline((merged_years_df[merged_years_df[\"type\"] == \"game\"]['z_rating']).mean(), lw=2, c=\"blue\")\n",
    "\n",
    "\n",
    "ax.set_xlabel('Movie/Games Rating (Z-Scores)')\n",
    "ax.set_ylabel('Relative Number of Movies/Games')\n",
    "ax.set_title('{:,} Movies, {:,} Games'.format(len(movies_df), len(games_df)))\n",
    "\n",
    "fig.tight_layout()\n",
    "\n",
    "#fig.savefig('../../graphs/2400_fig_2_z_rating_distributions.png', format='png', dpi=300)"
   ]
  },
  {
   "cell_type": "code",
   "execution_count": 158,
   "id": "ffa98440",
   "metadata": {},
   "outputs": [],
   "source": [
    "merged_years_df.loc[merged_years_df[\"type\"] == \"movie\", 'z_votes'] = stats.zscore(merged_years_df.loc[merged_years_df[\"type\"] == \"movie\", 'votes_average'])\n",
    "merged_years_df.loc[merged_years_df[\"type\"] == \"game\", 'z_votes'] = stats.zscore(merged_years_df.loc[merged_years_df[\"type\"] == \"game\", 'votes_average'])"
   ]
  },
  {
   "cell_type": "code",
   "execution_count": 159,
   "id": "f300a3e8",
   "metadata": {},
   "outputs": [
    {
     "data": {
      "text/html": [
       "<div>\n",
       "<style scoped>\n",
       "    .dataframe tbody tr th:only-of-type {\n",
       "        vertical-align: middle;\n",
       "    }\n",
       "\n",
       "    .dataframe tbody tr th {\n",
       "        vertical-align: top;\n",
       "    }\n",
       "\n",
       "    .dataframe thead th {\n",
       "        text-align: right;\n",
       "    }\n",
       "</style>\n",
       "<table border=\"1\" class=\"dataframe\">\n",
       "  <thead>\n",
       "    <tr style=\"text-align: right;\">\n",
       "      <th></th>\n",
       "      <th>franchise_name</th>\n",
       "      <th>franchise_id</th>\n",
       "      <th>tconst</th>\n",
       "      <th>title</th>\n",
       "      <th>year</th>\n",
       "      <th>is_adult</th>\n",
       "      <th>runtime</th>\n",
       "      <th>genres</th>\n",
       "      <th>rating</th>\n",
       "      <th>votes</th>\n",
       "      <th>type</th>\n",
       "      <th>game_id</th>\n",
       "      <th>best_fit_ratio</th>\n",
       "      <th>developers</th>\n",
       "      <th>platforms</th>\n",
       "      <th>publishers</th>\n",
       "      <th>age_rating</th>\n",
       "      <th>franchise_count</th>\n",
       "      <th>year_type</th>\n",
       "    </tr>\n",
       "  </thead>\n",
       "  <tbody>\n",
       "    <tr>\n",
       "      <th>254059</th>\n",
       "      <td>NaN</td>\n",
       "      <td>NaN</td>\n",
       "      <td>tt5155486</td>\n",
       "      <td>filth city</td>\n",
       "      <td>2017</td>\n",
       "      <td>0</td>\n",
       "      <td>99</td>\n",
       "      <td>Action,Comedy,Crime</td>\n",
       "      <td>4.4</td>\n",
       "      <td>807.0</td>\n",
       "      <td>movie</td>\n",
       "      <td>NaN</td>\n",
       "      <td>NaN</td>\n",
       "      <td>NaN</td>\n",
       "      <td>NaN</td>\n",
       "      <td>NaN</td>\n",
       "      <td>NaN</td>\n",
       "      <td>NaN</td>\n",
       "      <td>True</td>\n",
       "    </tr>\n",
       "  </tbody>\n",
       "</table>\n",
       "</div>"
      ],
      "text/plain": [
       "       franchise_name franchise_id     tconst       title  year  is_adult  \\\n",
       "254059            NaN          NaN  tt5155486  filth city  2017         0   \n",
       "\n",
       "       runtime               genres  rating  votes   type  game_id  \\\n",
       "254059      99  Action,Comedy,Crime     4.4  807.0  movie      NaN   \n",
       "\n",
       "        best_fit_ratio developers platforms publishers age_rating  \\\n",
       "254059             NaN        NaN       NaN        NaN        NaN   \n",
       "\n",
       "        franchise_count  year_type  \n",
       "254059              NaN       True  "
      ]
     },
     "execution_count": 159,
     "metadata": {},
     "output_type": "execute_result"
    }
   ],
   "source": [
    "complete_df.sample()"
   ]
  },
  {
   "cell_type": "code",
   "execution_count": 160,
   "id": "97cc0439",
   "metadata": {},
   "outputs": [
    {
     "data": {
      "text/html": [
       "<div>\n",
       "<style scoped>\n",
       "    .dataframe tbody tr th:only-of-type {\n",
       "        vertical-align: middle;\n",
       "    }\n",
       "\n",
       "    .dataframe tbody tr th {\n",
       "        vertical-align: top;\n",
       "    }\n",
       "\n",
       "    .dataframe thead th {\n",
       "        text-align: right;\n",
       "    }\n",
       "</style>\n",
       "<table border=\"1\" class=\"dataframe\">\n",
       "  <thead>\n",
       "    <tr style=\"text-align: right;\">\n",
       "      <th></th>\n",
       "      <th>franchise_name</th>\n",
       "      <th>franchise_id</th>\n",
       "      <th>type</th>\n",
       "      <th>tconst</th>\n",
       "      <th>title</th>\n",
       "      <th>year</th>\n",
       "      <th>is_adult</th>\n",
       "      <th>runtime</th>\n",
       "      <th>genres</th>\n",
       "      <th>votes_average</th>\n",
       "      <th>rating_average</th>\n",
       "      <th>franchise_count</th>\n",
       "      <th>content_per_year</th>\n",
       "      <th>year_diff</th>\n",
       "      <th>vote_diff</th>\n",
       "      <th>rating_diff</th>\n",
       "      <th>num_of_releases_diff</th>\n",
       "      <th>z_rating</th>\n",
       "      <th>z_votes</th>\n",
       "    </tr>\n",
       "  </thead>\n",
       "  <tbody>\n",
       "    <tr>\n",
       "      <th>10285</th>\n",
       "      <td>Saw</td>\n",
       "      <td>f689</td>\n",
       "      <td>movie</td>\n",
       "      <td>tt1477076</td>\n",
       "      <td>saw 3d</td>\n",
       "      <td>2010</td>\n",
       "      <td>0</td>\n",
       "      <td>90</td>\n",
       "      <td>[Crime, Mystery, Horror]</td>\n",
       "      <td>101449.0</td>\n",
       "      <td>5.5</td>\n",
       "      <td>10.0</td>\n",
       "      <td>1.0</td>\n",
       "      <td>1.0</td>\n",
       "      <td>-14078.0</td>\n",
       "      <td>-0.5</td>\n",
       "      <td>0.0</td>\n",
       "      <td>-0.454345</td>\n",
       "      <td>0.18993</td>\n",
       "    </tr>\n",
       "  </tbody>\n",
       "</table>\n",
       "</div>"
      ],
      "text/plain": [
       "      franchise_name franchise_id   type     tconst   title  year  is_adult  \\\n",
       "10285            Saw         f689  movie  tt1477076  saw 3d  2010         0   \n",
       "\n",
       "      runtime                    genres  votes_average  rating_average  \\\n",
       "10285      90  [Crime, Mystery, Horror]       101449.0             5.5   \n",
       "\n",
       "       franchise_count  content_per_year  year_diff  vote_diff  rating_diff  \\\n",
       "10285             10.0               1.0        1.0   -14078.0         -0.5   \n",
       "\n",
       "       num_of_releases_diff  z_rating  z_votes  \n",
       "10285                   0.0 -0.454345  0.18993  "
      ]
     },
     "execution_count": 160,
     "metadata": {},
     "output_type": "execute_result"
    }
   ],
   "source": [
    "merged_years_df.sample()"
   ]
  },
  {
   "cell_type": "code",
   "execution_count": 161,
   "id": "b1258f2b",
   "metadata": {},
   "outputs": [
    {
     "data": {
      "text/plain": [
       "count    3.196000e+03\n",
       "mean     7.533188e+04\n",
       "std      2.019385e+05\n",
       "min      1.007500e+02\n",
       "25%      6.220000e+02\n",
       "50%      3.569000e+03\n",
       "75%      3.523400e+04\n",
       "max      2.700528e+06\n",
       "Name: votes_average, dtype: float64"
      ]
     },
     "execution_count": 161,
     "metadata": {},
     "output_type": "execute_result"
    }
   ],
   "source": [
    "test = merged_years_df[(merged_years_df[\"type\"] == \"movie\") & (merged_years_df[\"votes_average\"] > 100)]\n",
    "test[\"votes_average\"].describe()"
   ]
  },
  {
   "cell_type": "code",
   "execution_count": 162,
   "id": "c6832364",
   "metadata": {},
   "outputs": [
    {
     "data": {
      "image/png": "[encoded data removed]",
      "text/plain": [
       "<Figure size 432x288 with 1 Axes>"
      ]
     },
     "metadata": {
      "needs_background": "light"
     },
     "output_type": "display_data"
    }
   ],
   "source": [
    "x = test[\"rating_average\"]\n",
    "y = test[\"votes_average\"]\n",
    "\n",
    "sns.scatterplot(x =x, y = y)\n",
    "sns.regplot(x=x, y = y, scatter_kws = dict(color = \"green\"), line_kws = {\"color\": \"red\"})\n",
    "#plt.yscale(\"log\")\n",
    "plt.show()"
   ]
  },
  {
   "cell_type": "code",
   "execution_count": 163,
   "id": "8c77fc2a",
   "metadata": {},
   "outputs": [
    {
     "data": {
      "image/png": "[encoded data removed]",
      "text/plain": [
       "<Figure size 432x288 with 1 Axes>"
      ]
     },
     "metadata": {
      "needs_background": "light"
     },
     "output_type": "display_data"
    }
   ],
   "source": [
    "x = merged_years_df[merged_years_df[\"type\"] == \"movie\"][\"rating_average\"]\n",
    "y = merged_years_df[merged_years_df[\"type\"] == \"movie\"][\"votes_average\"]\n",
    "\n",
    "sns.scatterplot(x =x, y = y)\n",
    "sns.regplot(x=x, y = y, scatter_kws = dict(color = \"green\"), line_kws = {\"color\": \"red\"})\n",
    "plt.show()"
   ]
  },
  {
   "cell_type": "code",
   "execution_count": 164,
   "id": "b08b0a9a",
   "metadata": {},
   "outputs": [
    {
     "data": {
      "image/png": "[encoded data removed]",
      "text/plain": [
       "<Figure size 432x288 with 1 Axes>"
      ]
     },
     "metadata": {
      "needs_background": "light"
     },
     "output_type": "display_data"
    }
   ],
   "source": [
    "ax = merged_years_df[merged_years_df[\"type\"] == \"movie\"].plot.scatter(x = \"rating_average\", y = \"votes_average\")\n",
    "#ax.set_xlim(-6, 6)\n",
    "#ax.set_ylim(-6, 6)"
   ]
  },
  {
   "cell_type": "code",
   "execution_count": 165,
   "id": "637b2d50",
   "metadata": {},
   "outputs": [],
   "source": [
    "merged_years_df.to_csv(\"franchises_combined_by_year.csv\")"
   ]
  },
  {
   "cell_type": "markdown",
   "id": "94ebaae5",
   "metadata": {},
   "source": [
    "## Interesting information"
   ]
  },
  {
   "cell_type": "code",
   "execution_count": 105,
   "id": "85958cce",
   "metadata": {},
   "outputs": [
    {
     "data": {
      "text/html": [
       "<div>\n",
       "<style scoped>\n",
       "    .dataframe tbody tr th:only-of-type {\n",
       "        vertical-align: middle;\n",
       "    }\n",
       "\n",
       "    .dataframe tbody tr th {\n",
       "        vertical-align: top;\n",
       "    }\n",
       "\n",
       "    .dataframe thead th {\n",
       "        text-align: right;\n",
       "    }\n",
       "</style>\n",
       "<table border=\"1\" class=\"dataframe\">\n",
       "  <thead>\n",
       "    <tr style=\"text-align: right;\">\n",
       "      <th></th>\n",
       "      <th>franchise_name</th>\n",
       "      <th>franchise_id</th>\n",
       "      <th>type</th>\n",
       "      <th>tconst</th>\n",
       "      <th>title</th>\n",
       "      <th>year</th>\n",
       "      <th>is_adult</th>\n",
       "      <th>runtime</th>\n",
       "      <th>genres</th>\n",
       "      <th>votes_average</th>\n",
       "      <th>rating_average</th>\n",
       "      <th>franchise_count</th>\n",
       "      <th>content_per_year</th>\n",
       "      <th>year_diff</th>\n",
       "      <th>vote_diff</th>\n",
       "      <th>rating_diff</th>\n",
       "      <th>num_of_releases_diff</th>\n",
       "      <th>z_rating</th>\n",
       "      <th>z_votes</th>\n",
       "    </tr>\n",
       "  </thead>\n",
       "  <tbody>\n",
       "    <tr>\n",
       "      <th>9592</th>\n",
       "      <td>Philo Vance</td>\n",
       "      <td>f52</td>\n",
       "      <td>movie</td>\n",
       "      <td>tt0027656, tt0144592</td>\n",
       "      <td>the garden murder case, the scarab murder case</td>\n",
       "      <td>1936</td>\n",
       "      <td>0</td>\n",
       "      <td>61</td>\n",
       "      <td>[Crime, Adventure, Drama, Mystery]</td>\n",
       "      <td>279.0</td>\n",
       "      <td>5.6</td>\n",
       "      <td>15.0</td>\n",
       "      <td>2.0</td>\n",
       "      <td>1.0</td>\n",
       "      <td>-438.0</td>\n",
       "      <td>-0.5</td>\n",
       "      <td>1.0</td>\n",
       "      <td>-0.366871</td>\n",
       "      <td>-0.343024</td>\n",
       "    </tr>\n",
       "  </tbody>\n",
       "</table>\n",
       "</div>"
      ],
      "text/plain": [
       "     franchise_name franchise_id   type                tconst  \\\n",
       "9592    Philo Vance          f52  movie  tt0027656, tt0144592   \n",
       "\n",
       "                                               title  year  is_adult runtime  \\\n",
       "9592  the garden murder case, the scarab murder case  1936         0      61   \n",
       "\n",
       "                                  genres  votes_average  rating_average  \\\n",
       "9592  [Crime, Adventure, Drama, Mystery]          279.0             5.6   \n",
       "\n",
       "      franchise_count  content_per_year  year_diff  vote_diff  rating_diff  \\\n",
       "9592             15.0               2.0        1.0     -438.0         -0.5   \n",
       "\n",
       "      num_of_releases_diff  z_rating   z_votes  \n",
       "9592                   1.0 -0.366871 -0.343024  "
      ]
     },
     "execution_count": 105,
     "metadata": {},
     "output_type": "execute_result"
    }
   ],
   "source": [
    "merged_years_df.sample()"
   ]
  },
  {
   "cell_type": "code",
   "execution_count": 106,
   "id": "55933517",
   "metadata": {},
   "outputs": [
    {
     "data": {
      "text/plain": [
       "count    10987.000000\n",
       "mean        15.322199\n",
       "std         24.733459\n",
       "min          3.000000\n",
       "25%          4.000000\n",
       "50%          7.000000\n",
       "75%         16.000000\n",
       "max        216.000000\n",
       "Name: franchise_count, dtype: float64"
      ]
     },
     "execution_count": 106,
     "metadata": {},
     "output_type": "execute_result"
    }
   ],
   "source": [
    "merged_years_df[\"franchise_count\"].describe()"
   ]
  },
  {
   "cell_type": "code",
   "execution_count": 115,
   "id": "611d6ed4",
   "metadata": {},
   "outputs": [
    {
     "data": {
      "text/plain": [
       "3.0     1152\n",
       "4.0      524\n",
       "5.0      316\n",
       "6.0      247\n",
       "7.0      217\n",
       "10.0     107\n",
       "8.0      106\n",
       "12.0      98\n",
       "9.0       95\n",
       "13.0      83\n",
       "19.0      70\n",
       "11.0      66\n",
       "15.0      51\n",
       "21.0      45\n",
       "16.0      41\n",
       "25.0      40\n",
       "28.0      39\n",
       "18.0      35\n",
       "36.0      34\n",
       "14.0      33\n",
       "24.0      33\n",
       "33.0      32\n",
       "31.0      28\n",
       "22.0      27\n",
       "20.0      25\n",
       "46.0      20\n",
       "30.0      16\n",
       "32.0      14\n",
       "66.0      14\n",
       "48.0      13\n",
       "23.0      12\n",
       "47.0       9\n",
       "51.0       9\n",
       "63.0       9\n",
       "42.0       7\n",
       "39.0       7\n",
       "27.0       5\n",
       "17.0       3\n",
       "Name: franchise_count, dtype: int64"
      ]
     },
     "execution_count": 115,
     "metadata": {},
     "output_type": "execute_result"
    }
   ],
   "source": [
    "merged_years_df[merged_years_df[\"type\"] == \"movie\"][\"franchise_count\"].value_counts()"
   ]
  },
  {
   "cell_type": "code",
   "execution_count": 167,
   "id": "15d3d625",
   "metadata": {},
   "outputs": [
    {
     "data": {
      "text/plain": [
       "9.0"
      ]
     },
     "execution_count": 167,
     "metadata": {},
     "output_type": "execute_result"
    }
   ],
   "source": [
    "merged_years_df[merged_years_df[\"type\"] == \"game\"][\"franchise_count\"].median()"
   ]
  },
  {
   "cell_type": "code",
   "execution_count": null,
   "id": "67bf2896",
   "metadata": {},
   "outputs": [],
   "source": []
  },
  {
   "cell_type": "code",
   "execution_count": null,
   "id": "bad13b91",
   "metadata": {},
   "outputs": [],
   "source": []
  },
  {
   "cell_type": "code",
   "execution_count": null,
   "id": "513d0944",
   "metadata": {},
   "outputs": [],
   "source": []
  },
  {
   "cell_type": "markdown",
   "id": "4d6173e1",
   "metadata": {},
   "source": [
    "## Additional Unused Code"
   ]
  },
  {
   "cell_type": "code",
   "execution_count": null,
   "id": "a1f766b8",
   "metadata": {},
   "outputs": [],
   "source": [
    "def sample_func(sub_df):\n",
    "    \n",
    "    movies_in_order = sub_df.sort_values('year')['tconst']\n",
    "    return pd.Series({movie: k+1 for k, movie in enumerate(movies_in_order)})"
   ]
  },
  {
   "cell_type": "code",
   "execution_count": null,
   "id": "05ddc15b",
   "metadata": {},
   "outputs": [],
   "source": [
    "sample_df = movies_df.sample(10000)\n",
    "grouped_df = sample_df.groupby('franchise_id').apply(sample_func)"
   ]
  },
  {
   "cell_type": "code",
   "execution_count": null,
   "id": "3970487b",
   "metadata": {},
   "outputs": [],
   "source": [
    "franchise_df = grouped_df[grouped_df['franchise_id'] == 'f1334']"
   ]
  },
  {
   "cell_type": "code",
   "execution_count": null,
   "id": "36e6484e",
   "metadata": {},
   "outputs": [],
   "source": [
    "sample_func(franchise_df)"
   ]
  },
  {
   "cell_type": "code",
   "execution_count": null,
   "id": "4a17116c",
   "metadata": {},
   "outputs": [],
   "source": [
    "l = ['a','b','c']\n",
    "for k,i in enumerate(l):\n",
    "    print(k,i)\n",
    "    print(i,  '-->',  k+1)"
   ]
  },
  {
   "cell_type": "code",
   "execution_count": null,
   "id": "474aaa12",
   "metadata": {},
   "outputs": [],
   "source": [
    "franchise_df.sort_values('startYear')['startYear']"
   ]
  },
  {
   "cell_type": "code",
   "execution_count": null,
   "id": "6bc540a7",
   "metadata": {},
   "outputs": [],
   "source": [
    "franchise_df.set_index('tconst').sort_values('startYear')['startYear'].map(int).diff()"
   ]
  },
  {
   "cell_type": "code",
   "execution_count": null,
   "id": "8b4402a6",
   "metadata": {},
   "outputs": [],
   "source": []
  }
 ],
 "metadata": {
  "kernelspec": {
   "display_name": "Python 3 (ipykernel)",
   "language": "python",
   "name": "python3"
  },
  "language_info": {
   "codemirror_mode": {
    "name": "ipython",
    "version": 3
   },
   "file_extension": ".py",
   "mimetype": "text/x-python",
   "name": "python",
   "nbconvert_exporter": "python",
   "pygments_lexer": "ipython3",
   "version": "3.9.12"
  }
 },
 "nbformat": 4,
 "nbformat_minor": 5
}
