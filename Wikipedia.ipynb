{
 "cells": [
  {
   "cell_type": "markdown",
   "metadata": {},
   "source": [
    "# Data Gathering from Wikipedia "
   ]
  },
  {
   "cell_type": "markdown",
   "metadata": {},
   "source": [
    "Using Wikipedia API to create a list of movie franchises and the list of movies associated with them. "
   ]
  },
  {
   "cell_type": "code",
   "execution_count": null,
   "metadata": {},
   "outputs": [],
   "source": [
    "pip install wikipedia"
   ]
  },
  {
   "cell_type": "code",
   "execution_count": 1,
   "metadata": {},
   "outputs": [],
   "source": [
    "import requests\n",
    "import json\n",
    "from pathlib import Path\n",
    "import pandas as pd\n",
    "import wikipedia\n",
    "from bs4 import BeautifulSoup\n",
    "import re\n",
    "import string"
   ]
  },
  {
   "cell_type": "markdown",
   "metadata": {},
   "source": [
    "## Wikipedia API "
   ]
  },
  {
   "cell_type": "code",
   "execution_count": 2,
   "metadata": {
    "scrolled": true
   },
   "outputs": [],
   "source": [
    "wiki = \"https://en.wikipedia.org/wiki/\"\n",
    "page = wikipedia.page(\"Lists_of_feature_film_series\")\n",
    "raw_link_list = list(page.links)"
   ]
  },
  {
   "cell_type": "code",
   "execution_count": 3,
   "metadata": {},
   "outputs": [
    {
     "data": {
      "text/plain": [
       "['List_of_feature_film_series_with_11_to_20_entries',\n",
       " 'List_of_feature_film_series_with_eight_entries',\n",
       " 'List_of_feature_film_series_with_five_entries',\n",
       " 'List_of_feature_film_series_with_four_entries',\n",
       " 'List_of_feature_film_series_with_more_than_twenty_entries',\n",
       " 'List_of_feature_film_series_with_nine_entries',\n",
       " 'List_of_feature_film_series_with_seven_entries',\n",
       " 'List_of_feature_film_series_with_six_entries',\n",
       " 'List_of_feature_film_series_with_ten_entries',\n",
       " 'List_of_feature_film_series_with_three_entries']"
      ]
     },
     "execution_count": 3,
     "metadata": {},
     "output_type": "execute_result"
    }
   ],
   "source": [
    "link_list = []\n",
    "for link in raw_link_list:\n",
    "    if \"List of feature\" in link:\n",
    "        link = link.replace(\" \",\"_\")\n",
    "        link_list.append(link)\n",
    "        \n",
    "link_list"
   ]
  },
  {
   "cell_type": "markdown",
   "metadata": {},
   "source": [
    "This function extracts the links from the \"List of Feature Films\" wiki page api.\n",
    "These links are then used to find each franchise list on the corresponding pages using beautiful soup.\n",
    "\n",
    "*Note: Unfortunately at this point we must transfer to using requests instead of the API as beautiful soup only works with html data structures, which the API does not provide.*"
   ]
  },
  {
   "cell_type": "markdown",
   "metadata": {},
   "source": [
    "## Beautiful Soup"
   ]
  },
  {
   "cell_type": "code",
   "execution_count": 4,
   "metadata": {},
   "outputs": [],
   "source": [
    "pages = []\n",
    "for link in link_list:\n",
    "    url = wiki + link\n",
    "    html = requests.get(url).content\n",
    "    soup = BeautifulSoup(html, \"html.parser\")\n",
    "\n",
    "    with open(\"output.html\", \"w\", encoding = 'utf-8') as file:\n",
    "    \n",
    "        # prettify the soup object and convert it into a string  \n",
    "        file.write(str(soup.prettify()))\n",
    "        \n",
    "    pages.append(soup)"
   ]
  },
  {
   "cell_type": "code",
   "execution_count": 5,
   "metadata": {},
   "outputs": [
    {
     "name": "stdout",
     "output_type": "stream",
     "text": [
      "https://en.wikipedia.org/wiki/List_of_feature_film_series_with_three_entries\n"
     ]
    }
   ],
   "source": [
    "print(url)"
   ]
  },
  {
   "cell_type": "markdown",
   "metadata": {},
   "source": [
    "This initial use of beautiful soup extracts all the movie information from the pages in the list above.\\\n",
    "The data is parsed into a list of its sections based on the html format given."
   ]
  },
  {
   "cell_type": "code",
   "execution_count": 6,
   "metadata": {},
   "outputs": [],
   "source": [
    "# Parse html block using beautiful soup commands\n",
    "def parse_bs(tag, div, opt):\n",
    "    if opt:\n",
    "        parent = tag.findAll(div, attrs = opt)\n",
    "    else: \n",
    "        parent = tag.findAll(div)\n",
    "    \n",
    "    \n",
    "    parsed = []\n",
    "    for div in parent:\n",
    "        parsed.append(div)\n",
    "    \n",
    "    return parsed"
   ]
  },
  {
   "cell_type": "code",
   "execution_count": 7,
   "metadata": {},
   "outputs": [],
   "source": [
    "divisions = []\n",
    "for page in pages:\n",
    "    division = parse_bs(page, \"div\", {\"class\":\"div-col\"})\n",
    "    divisions.append(division)"
   ]
  },
  {
   "cell_type": "markdown",
   "metadata": {},
   "source": [
    "Breaks down html page into divisions.\\\n",
    "Each division contains all franchises of a particular count.\\\n",
    "ie division[0] contains all franchises of length 11."
   ]
  },
  {
   "cell_type": "code",
   "execution_count": 8,
   "metadata": {
    "scrolled": true
   },
   "outputs": [
    {
     "name": "stdout",
     "output_type": "stream",
     "text": [
      "154\n",
      "[<ul><li><i><a href=\"/wiki/DC_Extended_Universe#Zack_Snyder's_Justice_League_(2021)\" title=\"DC Extended Universe\">Zack Snyder's Justice League Trilogy</a></i>\n",
      "<ol><li><i><a href=\"/wiki/Man_of_Steel_(film)\" title=\"Man of Steel (film)\">Man of Steel</a></i> (2013)</li>\n",
      "<li><i><a href=\"/wiki/Batman_v_Superman:_Dawn_of_Justice\" title=\"Batman v Superman: Dawn of Justice\">Batman v Superman: Dawn of Justice – Ultimate Edition</a></i> (2016)</li>\n",
      "<li><i><a href=\"/wiki/Zack_Snyder%27s_Justice_League\" title=\"Zack Snyder's Justice League\">Zack Snyder's Justice League</a></i> (2021)</li></ol></li>\n",
      "<li><i><a href=\"/wiki/Zeitgeist_(film_series)\" title=\"Zeitgeist (film series)\">Zeitgeist</a></i>\n",
      "<ol><li><i>Zeitgeist: The Movie</i> (2007) (V)</li>\n",
      "<li><i>Zeitgeist: Addendum</i> (2008) (V)</li>\n",
      "<li><i>Zeitgeist: Moving Forward</i> (2011) (V)</li></ol></li>\n",
      "<li><i>Zenon</i>\n",
      "<ol><li><i><a href=\"/wiki/Zenon:_Girl_of_the_21st_Century_(film)\" title=\"Zenon: Girl of the 21st Century (film)\">Zenon: Girl of the 21st Century</a></i> (1999) (TV)</li>\n",
      "<li><i><a href=\"/wiki/Zenon:_The_Zequel\" title=\"Zenon: The Zequel\">Zenon: The Zequel</a></i> (2001) (TV)</li>\n",
      "<li><i><a href=\"/wiki/Zenon:_Z3\" title=\"Zenon: Z3\">Zenon: Z3</a></i> (2004) (TV)</li></ol></li>\n",
      "<li><i><a href=\"/wiki/Zorro\" title=\"Zorro\">Zorro</a></i> (1958-1962) <sup class=\"reference\" id=\"cite_ref-9\"><a href=\"#cite_note-9\">[e]</a></sup>\n",
      "<ol><li><i><a class=\"extiw\" href=\"https://fr.wikipedia.org/wiki/El_Zorro_escarlata_en_la_venganza_del_ahorcado\" title=\"fr:El Zorro escarlata en la venganza del ahorcado\">El Zorro escarlata en la venganza del ahorcado</a></i> (1958)</li>\n",
      "<li><i><a class=\"extiw\" href=\"https://fr.wikipedia.org/wiki/El_Zorro_escarlata_en_diligencia_fantasma\" title=\"fr:El Zorro escarlata en diligencia fantasma\">El zorro escarlata en diligencia fantasma</a></i> (1959)</li>\n",
      "<li><i><a class=\"extiw\" href=\"https://fr.wikipedia.org/wiki/El_Zorro_Vengador\" title=\"fr:El Zorro Vengador\">El Zorro Vengador</a></i> (1962)</li></ol></li>\n",
      "<li><i>Zorro</i> (1969-1971)<sup class=\"reference\" id=\"cite_ref-10\"><a href=\"#cite_note-10\">[f]</a></sup>\n",
      "<ol><li><i><a class=\"extiw\" href=\"https://it.wikipedia.org/wiki/Zorro_il_dominatore\" title=\"it:Zorro il dominatore\">Zorro's Latest Adventure</a></i> (1969)</li>\n",
      "<li><i><a class=\"extiw\" href=\"https://it.wikipedia.org/wiki/Zorro,_il_cavaliere_della_vendetta\" title=\"it:Zorro, il cavaliere della vendetta\">Zorro, Rider of Vengeance</a></i> (1971)</li>\n",
      "<li><i><a class=\"extiw\" href=\"https://it.wikipedia.org/wiki/Zorro,_la_maschera_della_vendetta\" title=\"it:Zorro, la maschera della vendetta\">Zorro the Invincible</a></i> (1971)</li></ol></li></ul>]\n"
     ]
    }
   ],
   "source": [
    "sections = []\n",
    "for div in divisions:\n",
    "    for d in div:\n",
    "        sections.append(parse_bs(d, \"ul\", None))\n",
    "\n",
    "print(len(sections))\n",
    "#for s in sections:\n",
    "#    print(s, \"\\n\")\n",
    "print(sections[-1])"
   ]
  },
  {
   "cell_type": "markdown",
   "metadata": {},
   "source": [
    "Breaks down division page into into sections.\\\n",
    "Each section contains all franchises that start with a particular letter,\\\n",
    "    ie. section[0] contains all franchises that begin with the letter \"A\"."
   ]
  },
  {
   "cell_type": "code",
   "execution_count": 9,
   "metadata": {},
   "outputs": [],
   "source": [
    "def extract_title_line(franchises, list_len, movie_count):\n",
    "    title_list = []\n",
    "    # Extract title from each franchise and store in title_list\n",
    "    step = 0\n",
    "    for i in range(list_len):\n",
    "        title_list.append(str(franchises).split(\"\\n\")[step])\n",
    "        step+=movie_count\n",
    "        \n",
    "    return title_list"
   ]
  },
  {
   "cell_type": "code",
   "execution_count": 10,
   "metadata": {},
   "outputs": [
    {
     "name": "stdout",
     "output_type": "stream",
     "text": [
      "1290\n",
      "1290\n"
     ]
    }
   ],
   "source": [
    "movie_list = []\n",
    "franchise_list = []\n",
    "for section in sections:\n",
    "    for s in section:\n",
    "        letter = parse_bs(s, \"ol\", None)\n",
    "        if letter:\n",
    "            movie_count = len(parse_bs(letter[0], \"li\", None))\n",
    "        \n",
    "            for f in letter:\n",
    "                movie_list.append(f)\n",
    "    \n",
    "            titles = extract_title_line(s, len(letter), (movie_count+1))\n",
    "            for t in titles:\n",
    "                franchise_list.append(t)\n",
    "    \n",
    "print(len(movie_list))  \n",
    "print(len(franchise_list))  \n",
    "    #for i in range(17):\n",
    "    #    \n",
    "    #    print(franchise_list[i], \"\\n\")\n",
    "    #    print(movie_list[i], \"\\n\\n\")"
   ]
  },
  {
   "cell_type": "code",
   "execution_count": 11,
   "metadata": {},
   "outputs": [
    {
     "data": {
      "text/html": [
       "<div>\n",
       "<style scoped>\n",
       "    .dataframe tbody tr th:only-of-type {\n",
       "        vertical-align: middle;\n",
       "    }\n",
       "\n",
       "    .dataframe tbody tr th {\n",
       "        vertical-align: top;\n",
       "    }\n",
       "\n",
       "    .dataframe thead th {\n",
       "        text-align: right;\n",
       "    }\n",
       "</style>\n",
       "<table border=\"1\" class=\"dataframe\">\n",
       "  <thead>\n",
       "    <tr style=\"text-align: right;\">\n",
       "      <th></th>\n",
       "      <th>franchise_name</th>\n",
       "      <th>movie_name</th>\n",
       "    </tr>\n",
       "  </thead>\n",
       "  <tbody>\n",
       "    <tr>\n",
       "      <th>0</th>\n",
       "      <td>&lt;ul&gt;&lt;li&gt;&lt;i&gt;&lt;a href=\"/wiki/The_Aldrich_Family#F...</td>\n",
       "      <td>[[[&lt;a href=\"/wiki/What_a_Life_(film)\" title=\"W...</td>\n",
       "    </tr>\n",
       "    <tr>\n",
       "      <th>1</th>\n",
       "      <td>&lt;ul&gt;&lt;li&gt;&lt;i&gt;&lt;a href=\"/wiki/Coffin_Joe\" title=\"C...</td>\n",
       "      <td>[[[&lt;a href=\"/wiki/At_Midnight_I%27ll_Take_Your...</td>\n",
       "    </tr>\n",
       "    <tr>\n",
       "      <th>2</th>\n",
       "      <td>&lt;li&gt;&lt;i&gt;&lt;a href=\"/wiki/The_Crime_Club#Film\" tit...</td>\n",
       "      <td>[[[&lt;a href=\"/wiki/The_Westland_Case\" title=\"Th...</td>\n",
       "    </tr>\n",
       "    <tr>\n",
       "      <th>3</th>\n",
       "      <td>&lt;ul&gt;&lt;li&gt;&lt;i&gt;&lt;a href=\"/wiki/Fast_%26_Furious\" ti...</td>\n",
       "      <td>[[[&lt;a href=\"/wiki/The_Fast_and_the_Furious_(20...</td>\n",
       "    </tr>\n",
       "    <tr>\n",
       "      <th>4</th>\n",
       "      <td>&lt;ul&gt;&lt;li&gt;&lt;i&gt;Gingerdead Man vs. Evil Bong&lt;/i&gt;</td>\n",
       "      <td>[[[&lt;a href=\"/wiki/The_Gingerdead_Man\" title=\"T...</td>\n",
       "    </tr>\n",
       "    <tr>\n",
       "      <th>...</th>\n",
       "      <td>...</td>\n",
       "      <td>...</td>\n",
       "    </tr>\n",
       "    <tr>\n",
       "      <th>1285</th>\n",
       "      <td>&lt;ul&gt;&lt;li&gt;&lt;i&gt;&lt;a href=\"/wiki/DC_Extended_Universe...</td>\n",
       "      <td>[[[&lt;a href=\"/wiki/Man_of_Steel_(film)\" title=\"...</td>\n",
       "    </tr>\n",
       "    <tr>\n",
       "      <th>1286</th>\n",
       "      <td>&lt;li&gt;&lt;i&gt;&lt;a href=\"/wiki/Zeitgeist_(film_series)\"...</td>\n",
       "      <td>[[[Zeitgeist: The Movie],  (2007) (V)], \\n, [[...</td>\n",
       "    </tr>\n",
       "    <tr>\n",
       "      <th>1287</th>\n",
       "      <td>&lt;li&gt;&lt;i&gt;Zenon&lt;/i&gt;</td>\n",
       "      <td>[[[&lt;a href=\"/wiki/Zenon:_Girl_of_the_21st_Cent...</td>\n",
       "    </tr>\n",
       "    <tr>\n",
       "      <th>1288</th>\n",
       "      <td>&lt;li&gt;&lt;i&gt;&lt;a href=\"/wiki/Zorro\" title=\"Zorro\"&gt;Zor...</td>\n",
       "      <td>[[[&lt;a class=\"extiw\" href=\"https://fr.wikipedia...</td>\n",
       "    </tr>\n",
       "    <tr>\n",
       "      <th>1289</th>\n",
       "      <td>&lt;li&gt;&lt;i&gt;Zorro&lt;/i&gt; (1969-1971)&lt;sup class=\"refere...</td>\n",
       "      <td>[[[&lt;a class=\"extiw\" href=\"https://it.wikipedia...</td>\n",
       "    </tr>\n",
       "  </tbody>\n",
       "</table>\n",
       "<p>1290 rows × 2 columns</p>\n",
       "</div>"
      ],
      "text/plain": [
       "                                         franchise_name  \\\n",
       "0     <ul><li><i><a href=\"/wiki/The_Aldrich_Family#F...   \n",
       "1     <ul><li><i><a href=\"/wiki/Coffin_Joe\" title=\"C...   \n",
       "2     <li><i><a href=\"/wiki/The_Crime_Club#Film\" tit...   \n",
       "3     <ul><li><i><a href=\"/wiki/Fast_%26_Furious\" ti...   \n",
       "4           <ul><li><i>Gingerdead Man vs. Evil Bong</i>   \n",
       "...                                                 ...   \n",
       "1285  <ul><li><i><a href=\"/wiki/DC_Extended_Universe...   \n",
       "1286  <li><i><a href=\"/wiki/Zeitgeist_(film_series)\"...   \n",
       "1287                                   <li><i>Zenon</i>   \n",
       "1288  <li><i><a href=\"/wiki/Zorro\" title=\"Zorro\">Zor...   \n",
       "1289  <li><i>Zorro</i> (1969-1971)<sup class=\"refere...   \n",
       "\n",
       "                                             movie_name  \n",
       "0     [[[<a href=\"/wiki/What_a_Life_(film)\" title=\"W...  \n",
       "1     [[[<a href=\"/wiki/At_Midnight_I%27ll_Take_Your...  \n",
       "2     [[[<a href=\"/wiki/The_Westland_Case\" title=\"Th...  \n",
       "3     [[[<a href=\"/wiki/The_Fast_and_the_Furious_(20...  \n",
       "4     [[[<a href=\"/wiki/The_Gingerdead_Man\" title=\"T...  \n",
       "...                                                 ...  \n",
       "1285  [[[<a href=\"/wiki/Man_of_Steel_(film)\" title=\"...  \n",
       "1286  [[[Zeitgeist: The Movie],  (2007) (V)], \\n, [[...  \n",
       "1287  [[[<a href=\"/wiki/Zenon:_Girl_of_the_21st_Cent...  \n",
       "1288  [[[<a class=\"extiw\" href=\"https://fr.wikipedia...  \n",
       "1289  [[[<a class=\"extiw\" href=\"https://it.wikipedia...  \n",
       "\n",
       "[1290 rows x 2 columns]"
      ]
     },
     "execution_count": 11,
     "metadata": {},
     "output_type": "execute_result"
    }
   ],
   "source": [
    "movie_franchises = pd.DataFrame()\n",
    "movie_franchises[\"franchise_name\"] = franchise_list\n",
    "movie_franchises[\"movie_name\"] = movie_list\n",
    "movie_franchises"
   ]
  },
  {
   "cell_type": "code",
   "execution_count": 12,
   "metadata": {},
   "outputs": [],
   "source": [
    "# break down movie_name into list of movies using .apply()\n",
    "# extract franchise_name (convert to string?)\n",
    "# explode() movie_name\n",
    "# extract date from movie_name\n",
    "\n",
    "# extract movie_name (str)"
   ]
  },
  {
   "cell_type": "code",
   "execution_count": 13,
   "metadata": {},
   "outputs": [],
   "source": [
    "movie_franchises[\"movie_name\"] = movie_franchises[\"movie_name\"].apply(lambda x : parse_bs(x, \"li\", None))"
   ]
  },
  {
   "cell_type": "markdown",
   "metadata": {},
   "source": [
    "This cell above breaks the section down to access each franchise movie list"
   ]
  },
  {
   "cell_type": "code",
   "execution_count": 14,
   "metadata": {},
   "outputs": [],
   "source": [
    "def extract_title(line):\n",
    "    regex = re.compile(r'<[^>]+>')\n",
    "    def remove_html(string):\n",
    "        return regex.sub('', string)\n",
    "    title=remove_html(line)\n",
    "    for char in \"*\":\n",
    "        title = title.replace(char, '')\n",
    "    return title"
   ]
  },
  {
   "cell_type": "code",
   "execution_count": 15,
   "metadata": {},
   "outputs": [],
   "source": [
    "def clean_title(title):\n",
    "    pattern = r'\\[.*?\\]'\n",
    "    re.sub(pattern, '', title)\n",
    "    return title"
   ]
  },
  {
   "cell_type": "code",
   "execution_count": 16,
   "metadata": {},
   "outputs": [
    {
     "data": {
      "text/html": [
       "<div>\n",
       "<style scoped>\n",
       "    .dataframe tbody tr th:only-of-type {\n",
       "        vertical-align: middle;\n",
       "    }\n",
       "\n",
       "    .dataframe tbody tr th {\n",
       "        vertical-align: top;\n",
       "    }\n",
       "\n",
       "    .dataframe thead th {\n",
       "        text-align: right;\n",
       "    }\n",
       "</style>\n",
       "<table border=\"1\" class=\"dataframe\">\n",
       "  <thead>\n",
       "    <tr style=\"text-align: right;\">\n",
       "      <th></th>\n",
       "      <th>franchise_name</th>\n",
       "      <th>movie_name</th>\n",
       "    </tr>\n",
       "  </thead>\n",
       "  <tbody>\n",
       "    <tr>\n",
       "      <th>0</th>\n",
       "      <td>The Aldrich Family</td>\n",
       "      <td>[[[&lt;a href=\"/wiki/What_a_Life_(film)\" title=\"W...</td>\n",
       "    </tr>\n",
       "    <tr>\n",
       "      <th>1</th>\n",
       "      <td>Coffin Joe</td>\n",
       "      <td>[[[&lt;a href=\"/wiki/At_Midnight_I%27ll_Take_Your...</td>\n",
       "    </tr>\n",
       "    <tr>\n",
       "      <th>2</th>\n",
       "      <td>The Crime Club</td>\n",
       "      <td>[[[&lt;a href=\"/wiki/The_Westland_Case\" title=\"Th...</td>\n",
       "    </tr>\n",
       "    <tr>\n",
       "      <th>3</th>\n",
       "      <td>Fast &amp;amp; Furious</td>\n",
       "      <td>[[[&lt;a href=\"/wiki/The_Fast_and_the_Furious_(20...</td>\n",
       "    </tr>\n",
       "    <tr>\n",
       "      <th>4</th>\n",
       "      <td>Gingerdead Man vs. Evil Bong</td>\n",
       "      <td>[[[&lt;a href=\"/wiki/The_Gingerdead_Man\" title=\"T...</td>\n",
       "    </tr>\n",
       "    <tr>\n",
       "      <th>...</th>\n",
       "      <td>...</td>\n",
       "      <td>...</td>\n",
       "    </tr>\n",
       "    <tr>\n",
       "      <th>1285</th>\n",
       "      <td>Zack Snyder's Justice League Trilogy</td>\n",
       "      <td>[[[&lt;a href=\"/wiki/Man_of_Steel_(film)\" title=\"...</td>\n",
       "    </tr>\n",
       "    <tr>\n",
       "      <th>1286</th>\n",
       "      <td>Zeitgeist</td>\n",
       "      <td>[[[Zeitgeist: The Movie],  (2007) (V)], [[Zeit...</td>\n",
       "    </tr>\n",
       "    <tr>\n",
       "      <th>1287</th>\n",
       "      <td>Zenon</td>\n",
       "      <td>[[[&lt;a href=\"/wiki/Zenon:_Girl_of_the_21st_Cent...</td>\n",
       "    </tr>\n",
       "    <tr>\n",
       "      <th>1288</th>\n",
       "      <td>Zorro (1958-1962) [e]</td>\n",
       "      <td>[[[&lt;a class=\"extiw\" href=\"https://fr.wikipedia...</td>\n",
       "    </tr>\n",
       "    <tr>\n",
       "      <th>1289</th>\n",
       "      <td>Zorro (1969-1971)[f]</td>\n",
       "      <td>[[[&lt;a class=\"extiw\" href=\"https://it.wikipedia...</td>\n",
       "    </tr>\n",
       "  </tbody>\n",
       "</table>\n",
       "<p>1290 rows × 2 columns</p>\n",
       "</div>"
      ],
      "text/plain": [
       "                            franchise_name  \\\n",
       "0                      The Aldrich Family    \n",
       "1                               Coffin Joe   \n",
       "2                           The Crime Club   \n",
       "3                      Fast &amp; Furious    \n",
       "4             Gingerdead Man vs. Evil Bong   \n",
       "...                                    ...   \n",
       "1285  Zack Snyder's Justice League Trilogy   \n",
       "1286                             Zeitgeist   \n",
       "1287                                 Zenon   \n",
       "1288                 Zorro (1958-1962) [e]   \n",
       "1289                  Zorro (1969-1971)[f]   \n",
       "\n",
       "                                             movie_name  \n",
       "0     [[[<a href=\"/wiki/What_a_Life_(film)\" title=\"W...  \n",
       "1     [[[<a href=\"/wiki/At_Midnight_I%27ll_Take_Your...  \n",
       "2     [[[<a href=\"/wiki/The_Westland_Case\" title=\"Th...  \n",
       "3     [[[<a href=\"/wiki/The_Fast_and_the_Furious_(20...  \n",
       "4     [[[<a href=\"/wiki/The_Gingerdead_Man\" title=\"T...  \n",
       "...                                                 ...  \n",
       "1285  [[[<a href=\"/wiki/Man_of_Steel_(film)\" title=\"...  \n",
       "1286  [[[Zeitgeist: The Movie],  (2007) (V)], [[Zeit...  \n",
       "1287  [[[<a href=\"/wiki/Zenon:_Girl_of_the_21st_Cent...  \n",
       "1288  [[[<a class=\"extiw\" href=\"https://fr.wikipedia...  \n",
       "1289  [[[<a class=\"extiw\" href=\"https://it.wikipedia...  \n",
       "\n",
       "[1290 rows x 2 columns]"
      ]
     },
     "execution_count": 16,
     "metadata": {},
     "output_type": "execute_result"
    }
   ],
   "source": [
    "movie_franchises[\"franchise_name\"] = movie_franchises[\"franchise_name\"].apply(lambda x : extract_title(x))\n",
    "movie_franchises"
   ]
  },
  {
   "cell_type": "code",
   "execution_count": 17,
   "metadata": {},
   "outputs": [
    {
     "data": {
      "text/html": [
       "<div>\n",
       "<style scoped>\n",
       "    .dataframe tbody tr th:only-of-type {\n",
       "        vertical-align: middle;\n",
       "    }\n",
       "\n",
       "    .dataframe tbody tr th {\n",
       "        vertical-align: top;\n",
       "    }\n",
       "\n",
       "    .dataframe thead th {\n",
       "        text-align: right;\n",
       "    }\n",
       "</style>\n",
       "<table border=\"1\" class=\"dataframe\">\n",
       "  <thead>\n",
       "    <tr style=\"text-align: right;\">\n",
       "      <th></th>\n",
       "      <th>franchise_name</th>\n",
       "      <th>movie_name</th>\n",
       "    </tr>\n",
       "  </thead>\n",
       "  <tbody>\n",
       "    <tr>\n",
       "      <th>0</th>\n",
       "      <td>The Aldrich Family</td>\n",
       "      <td>[[[What a Life]],  (1949)]</td>\n",
       "    </tr>\n",
       "    <tr>\n",
       "      <th>1</th>\n",
       "      <td>The Aldrich Family</td>\n",
       "      <td>[[[Life with Henry]],  (1952)]</td>\n",
       "    </tr>\n",
       "    <tr>\n",
       "      <th>2</th>\n",
       "      <td>The Aldrich Family</td>\n",
       "      <td>[[[Henry Aldrich for President]],  (1952)]</td>\n",
       "    </tr>\n",
       "    <tr>\n",
       "      <th>3</th>\n",
       "      <td>The Aldrich Family</td>\n",
       "      <td>[[[Henry Aldrich, Editor]],  (1952)]</td>\n",
       "    </tr>\n",
       "    <tr>\n",
       "      <th>4</th>\n",
       "      <td>The Aldrich Family</td>\n",
       "      <td>[[[Henry and Dizzy]],  (1952)]</td>\n",
       "    </tr>\n",
       "    <tr>\n",
       "      <th>...</th>\n",
       "      <td>...</td>\n",
       "      <td>...</td>\n",
       "    </tr>\n",
       "    <tr>\n",
       "      <th>6400</th>\n",
       "      <td>Zorro (1958-1962) [e]</td>\n",
       "      <td>[[[El zorro escarlata en diligencia fantasma]]...</td>\n",
       "    </tr>\n",
       "    <tr>\n",
       "      <th>6401</th>\n",
       "      <td>Zorro (1958-1962) [e]</td>\n",
       "      <td>[[[El Zorro Vengador]],  (1962)]</td>\n",
       "    </tr>\n",
       "    <tr>\n",
       "      <th>6402</th>\n",
       "      <td>Zorro (1969-1971)[f]</td>\n",
       "      <td>[[[Zorro's Latest Adventure]],  (1969)]</td>\n",
       "    </tr>\n",
       "    <tr>\n",
       "      <th>6403</th>\n",
       "      <td>Zorro (1969-1971)[f]</td>\n",
       "      <td>[[[Zorro, Rider of Vengeance]],  (1971)]</td>\n",
       "    </tr>\n",
       "    <tr>\n",
       "      <th>6404</th>\n",
       "      <td>Zorro (1969-1971)[f]</td>\n",
       "      <td>[[[Zorro the Invincible]],  (1971)]</td>\n",
       "    </tr>\n",
       "  </tbody>\n",
       "</table>\n",
       "<p>6405 rows × 2 columns</p>\n",
       "</div>"
      ],
      "text/plain": [
       "             franchise_name                                         movie_name\n",
       "0       The Aldrich Family                          [[[What a Life]],  (1949)]\n",
       "1       The Aldrich Family                      [[[Life with Henry]],  (1952)]\n",
       "2       The Aldrich Family          [[[Henry Aldrich for President]],  (1952)]\n",
       "3       The Aldrich Family                [[[Henry Aldrich, Editor]],  (1952)]\n",
       "4       The Aldrich Family                      [[[Henry and Dizzy]],  (1952)]\n",
       "...                     ...                                                ...\n",
       "6400  Zorro (1958-1962) [e]  [[[El zorro escarlata en diligencia fantasma]]...\n",
       "6401  Zorro (1958-1962) [e]                   [[[El Zorro Vengador]],  (1962)]\n",
       "6402   Zorro (1969-1971)[f]            [[[Zorro's Latest Adventure]],  (1969)]\n",
       "6403   Zorro (1969-1971)[f]           [[[Zorro, Rider of Vengeance]],  (1971)]\n",
       "6404   Zorro (1969-1971)[f]                [[[Zorro the Invincible]],  (1971)]\n",
       "\n",
       "[6405 rows x 2 columns]"
      ]
     },
     "execution_count": 17,
     "metadata": {},
     "output_type": "execute_result"
    }
   ],
   "source": [
    "movie_franchises = movie_franchises.explode(\"movie_name\")\n",
    "movie_franchises.reset_index(inplace = True, drop = True)\n",
    "movie_franchises"
   ]
  },
  {
   "cell_type": "code",
   "execution_count": 18,
   "metadata": {},
   "outputs": [],
   "source": [
    "def extract_release_date(movie):\n",
    "    \n",
    "    date = \"\"\n",
    "    extract = re.findall(r'\\((.*?)\\)',str(movie))\n",
    "    for e in extract:\n",
    "        if e.isdigit():\n",
    "            date = e\n",
    "    return date"
   ]
  },
  {
   "cell_type": "code",
   "execution_count": 19,
   "metadata": {},
   "outputs": [
    {
     "data": {
      "text/html": [
       "<div>\n",
       "<style scoped>\n",
       "    .dataframe tbody tr th:only-of-type {\n",
       "        vertical-align: middle;\n",
       "    }\n",
       "\n",
       "    .dataframe tbody tr th {\n",
       "        vertical-align: top;\n",
       "    }\n",
       "\n",
       "    .dataframe thead th {\n",
       "        text-align: right;\n",
       "    }\n",
       "</style>\n",
       "<table border=\"1\" class=\"dataframe\">\n",
       "  <thead>\n",
       "    <tr style=\"text-align: right;\">\n",
       "      <th></th>\n",
       "      <th>franchise_name</th>\n",
       "      <th>movie_name</th>\n",
       "      <th>release_year</th>\n",
       "    </tr>\n",
       "  </thead>\n",
       "  <tbody>\n",
       "    <tr>\n",
       "      <th>0</th>\n",
       "      <td>The Aldrich Family</td>\n",
       "      <td>[[[What a Life]],  (1949)]</td>\n",
       "      <td>1949</td>\n",
       "    </tr>\n",
       "    <tr>\n",
       "      <th>1</th>\n",
       "      <td>The Aldrich Family</td>\n",
       "      <td>[[[Life with Henry]],  (1952)]</td>\n",
       "      <td>1952</td>\n",
       "    </tr>\n",
       "    <tr>\n",
       "      <th>2</th>\n",
       "      <td>The Aldrich Family</td>\n",
       "      <td>[[[Henry Aldrich for President]],  (1952)]</td>\n",
       "      <td>1952</td>\n",
       "    </tr>\n",
       "    <tr>\n",
       "      <th>3</th>\n",
       "      <td>The Aldrich Family</td>\n",
       "      <td>[[[Henry Aldrich, Editor]],  (1952)]</td>\n",
       "      <td>1952</td>\n",
       "    </tr>\n",
       "    <tr>\n",
       "      <th>4</th>\n",
       "      <td>The Aldrich Family</td>\n",
       "      <td>[[[Henry and Dizzy]],  (1952)]</td>\n",
       "      <td>1952</td>\n",
       "    </tr>\n",
       "    <tr>\n",
       "      <th>...</th>\n",
       "      <td>...</td>\n",
       "      <td>...</td>\n",
       "      <td>...</td>\n",
       "    </tr>\n",
       "    <tr>\n",
       "      <th>6400</th>\n",
       "      <td>Zorro (1958-1962) [e]</td>\n",
       "      <td>[[[El zorro escarlata en diligencia fantasma]]...</td>\n",
       "      <td>1959</td>\n",
       "    </tr>\n",
       "    <tr>\n",
       "      <th>6401</th>\n",
       "      <td>Zorro (1958-1962) [e]</td>\n",
       "      <td>[[[El Zorro Vengador]],  (1962)]</td>\n",
       "      <td>1962</td>\n",
       "    </tr>\n",
       "    <tr>\n",
       "      <th>6402</th>\n",
       "      <td>Zorro (1969-1971)[f]</td>\n",
       "      <td>[[[Zorro's Latest Adventure]],  (1969)]</td>\n",
       "      <td>1969</td>\n",
       "    </tr>\n",
       "    <tr>\n",
       "      <th>6403</th>\n",
       "      <td>Zorro (1969-1971)[f]</td>\n",
       "      <td>[[[Zorro, Rider of Vengeance]],  (1971)]</td>\n",
       "      <td>1971</td>\n",
       "    </tr>\n",
       "    <tr>\n",
       "      <th>6404</th>\n",
       "      <td>Zorro (1969-1971)[f]</td>\n",
       "      <td>[[[Zorro the Invincible]],  (1971)]</td>\n",
       "      <td>1971</td>\n",
       "    </tr>\n",
       "  </tbody>\n",
       "</table>\n",
       "<p>6405 rows × 3 columns</p>\n",
       "</div>"
      ],
      "text/plain": [
       "             franchise_name  \\\n",
       "0       The Aldrich Family    \n",
       "1       The Aldrich Family    \n",
       "2       The Aldrich Family    \n",
       "3       The Aldrich Family    \n",
       "4       The Aldrich Family    \n",
       "...                     ...   \n",
       "6400  Zorro (1958-1962) [e]   \n",
       "6401  Zorro (1958-1962) [e]   \n",
       "6402   Zorro (1969-1971)[f]   \n",
       "6403   Zorro (1969-1971)[f]   \n",
       "6404   Zorro (1969-1971)[f]   \n",
       "\n",
       "                                             movie_name release_year  \n",
       "0                            [[[What a Life]],  (1949)]         1949  \n",
       "1                        [[[Life with Henry]],  (1952)]         1952  \n",
       "2            [[[Henry Aldrich for President]],  (1952)]         1952  \n",
       "3                  [[[Henry Aldrich, Editor]],  (1952)]         1952  \n",
       "4                        [[[Henry and Dizzy]],  (1952)]         1952  \n",
       "...                                                 ...          ...  \n",
       "6400  [[[El zorro escarlata en diligencia fantasma]]...         1959  \n",
       "6401                   [[[El Zorro Vengador]],  (1962)]         1962  \n",
       "6402            [[[Zorro's Latest Adventure]],  (1969)]         1969  \n",
       "6403           [[[Zorro, Rider of Vengeance]],  (1971)]         1971  \n",
       "6404                [[[Zorro the Invincible]],  (1971)]         1971  \n",
       "\n",
       "[6405 rows x 3 columns]"
      ]
     },
     "execution_count": 19,
     "metadata": {},
     "output_type": "execute_result"
    }
   ],
   "source": [
    "# Find all years for movies in movie list\n",
    "movie_franchises[\"release_year\"] = movie_franchises[\"movie_name\"].apply(lambda x : extract_release_date(x))\n",
    "movie_franchises"
   ]
  },
  {
   "cell_type": "code",
   "execution_count": 20,
   "metadata": {},
   "outputs": [],
   "source": [
    "for d in movie_franchises[\"release_year\"]:\n",
    "    if len(d) > 4:\n",
    "        print(d)"
   ]
  },
  {
   "cell_type": "code",
   "execution_count": 21,
   "metadata": {},
   "outputs": [],
   "source": [
    "def clean_movie(movie):\n",
    "    movie = re.sub(r'\\(.*?\\)', '', movie)\n",
    "    return movie"
   ]
  },
  {
   "cell_type": "code",
   "execution_count": 22,
   "metadata": {},
   "outputs": [
    {
     "data": {
      "text/html": [
       "<div>\n",
       "<style scoped>\n",
       "    .dataframe tbody tr th:only-of-type {\n",
       "        vertical-align: middle;\n",
       "    }\n",
       "\n",
       "    .dataframe tbody tr th {\n",
       "        vertical-align: top;\n",
       "    }\n",
       "\n",
       "    .dataframe thead th {\n",
       "        text-align: right;\n",
       "    }\n",
       "</style>\n",
       "<table border=\"1\" class=\"dataframe\">\n",
       "  <thead>\n",
       "    <tr style=\"text-align: right;\">\n",
       "      <th></th>\n",
       "      <th>franchise_name</th>\n",
       "      <th>movie_name</th>\n",
       "      <th>release_year</th>\n",
       "    </tr>\n",
       "  </thead>\n",
       "  <tbody>\n",
       "    <tr>\n",
       "      <th>0</th>\n",
       "      <td>The Aldrich Family</td>\n",
       "      <td>What a Life</td>\n",
       "      <td>1949</td>\n",
       "    </tr>\n",
       "    <tr>\n",
       "      <th>1</th>\n",
       "      <td>The Aldrich Family</td>\n",
       "      <td>Life with Henry</td>\n",
       "      <td>1952</td>\n",
       "    </tr>\n",
       "    <tr>\n",
       "      <th>2</th>\n",
       "      <td>The Aldrich Family</td>\n",
       "      <td>Henry Aldrich for President</td>\n",
       "      <td>1952</td>\n",
       "    </tr>\n",
       "    <tr>\n",
       "      <th>3</th>\n",
       "      <td>The Aldrich Family</td>\n",
       "      <td>Henry Aldrich, Editor</td>\n",
       "      <td>1952</td>\n",
       "    </tr>\n",
       "    <tr>\n",
       "      <th>4</th>\n",
       "      <td>The Aldrich Family</td>\n",
       "      <td>Henry and Dizzy</td>\n",
       "      <td>1952</td>\n",
       "    </tr>\n",
       "    <tr>\n",
       "      <th>...</th>\n",
       "      <td>...</td>\n",
       "      <td>...</td>\n",
       "      <td>...</td>\n",
       "    </tr>\n",
       "    <tr>\n",
       "      <th>6400</th>\n",
       "      <td>Zorro (1958-1962) [e]</td>\n",
       "      <td>El zorro escarlata en diligencia fantasma</td>\n",
       "      <td>1959</td>\n",
       "    </tr>\n",
       "    <tr>\n",
       "      <th>6401</th>\n",
       "      <td>Zorro (1958-1962) [e]</td>\n",
       "      <td>El Zorro Vengador</td>\n",
       "      <td>1962</td>\n",
       "    </tr>\n",
       "    <tr>\n",
       "      <th>6402</th>\n",
       "      <td>Zorro (1969-1971)[f]</td>\n",
       "      <td>Zorro's Latest Adventure</td>\n",
       "      <td>1969</td>\n",
       "    </tr>\n",
       "    <tr>\n",
       "      <th>6403</th>\n",
       "      <td>Zorro (1969-1971)[f]</td>\n",
       "      <td>Zorro, Rider of Vengeance</td>\n",
       "      <td>1971</td>\n",
       "    </tr>\n",
       "    <tr>\n",
       "      <th>6404</th>\n",
       "      <td>Zorro (1969-1971)[f]</td>\n",
       "      <td>Zorro the Invincible</td>\n",
       "      <td>1971</td>\n",
       "    </tr>\n",
       "  </tbody>\n",
       "</table>\n",
       "<p>6405 rows × 3 columns</p>\n",
       "</div>"
      ],
      "text/plain": [
       "             franchise_name                                  movie_name  \\\n",
       "0       The Aldrich Family                                 What a Life    \n",
       "1       The Aldrich Family                             Life with Henry    \n",
       "2       The Aldrich Family                 Henry Aldrich for President    \n",
       "3       The Aldrich Family                       Henry Aldrich, Editor    \n",
       "4       The Aldrich Family                             Henry and Dizzy    \n",
       "...                     ...                                         ...   \n",
       "6400  Zorro (1958-1962) [e]  El zorro escarlata en diligencia fantasma    \n",
       "6401  Zorro (1958-1962) [e]                          El Zorro Vengador    \n",
       "6402   Zorro (1969-1971)[f]                   Zorro's Latest Adventure    \n",
       "6403   Zorro (1969-1971)[f]                  Zorro, Rider of Vengeance    \n",
       "6404   Zorro (1969-1971)[f]                       Zorro the Invincible    \n",
       "\n",
       "     release_year  \n",
       "0            1949  \n",
       "1            1952  \n",
       "2            1952  \n",
       "3            1952  \n",
       "4            1952  \n",
       "...           ...  \n",
       "6400         1959  \n",
       "6401         1962  \n",
       "6402         1969  \n",
       "6403         1971  \n",
       "6404         1971  \n",
       "\n",
       "[6405 rows x 3 columns]"
      ]
     },
     "execution_count": 22,
     "metadata": {},
     "output_type": "execute_result"
    }
   ],
   "source": [
    "movie_franchises[\"movie_name\"] = movie_franchises[\"movie_name\"].apply(lambda x : extract_title(str(x))).apply(lambda x : clean_movie(x))\n",
    "movie_franchises"
   ]
  },
  {
   "cell_type": "code",
   "execution_count": null,
   "metadata": {},
   "outputs": [],
   "source": []
  },
  {
   "cell_type": "code",
   "execution_count": null,
   "metadata": {},
   "outputs": [],
   "source": []
  }
 ],
 "metadata": {
  "kernelspec": {
   "display_name": "Python 3 (ipykernel)",
   "language": "python",
   "name": "python3"
  },
  "language_info": {
   "codemirror_mode": {
    "name": "ipython",
    "version": 3
   },
   "file_extension": ".py",
   "mimetype": "text/x-python",
   "name": "python",
   "nbconvert_exporter": "python",
   "pygments_lexer": "ipython3",
   "version": "3.9.12"
  }
 },
 "nbformat": 4,
 "nbformat_minor": 4
}
