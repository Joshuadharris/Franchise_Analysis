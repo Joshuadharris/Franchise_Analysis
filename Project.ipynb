{
 "cells": [
  {
   "cell_type": "markdown",
   "metadata": {},
   "source": [
    "Data from: https://datasets.imdbws.com\n",
    "\n"
   ]
  },
  {
   "cell_type": "code",
   "execution_count": 2,
   "metadata": {},
   "outputs": [],
   "source": [
    "import pandas as pd\n",
    "import re"
   ]
  },
  {
   "cell_type": "markdown",
   "metadata": {},
   "source": [
    "Import datasets"
   ]
  },
  {
   "cell_type": "code",
   "execution_count": 3,
   "metadata": {},
   "outputs": [
    {
     "name": "stderr",
     "output_type": "stream",
     "text": [
      "D:\\Programs\\Anaconda3\\lib\\site-packages\\IPython\\core\\interactiveshell.py:3146: DtypeWarning: Columns (4) have mixed types.Specify dtype option on import or set low_memory=False.\n",
      "  has_raised = await self.run_ast_nodes(code_ast.body, cell_name,\n",
      "D:\\Programs\\Anaconda3\\lib\\site-packages\\IPython\\core\\interactiveshell.py:3146: DtypeWarning: Columns (7) have mixed types.Specify dtype option on import or set low_memory=False.\n",
      "  has_raised = await self.run_ast_nodes(code_ast.body, cell_name,\n"
     ]
    }
   ],
   "source": [
    "ratings = pd.read_csv(\"title_ratings.tsv\", sep=\"\\t\")\n",
    "titles = pd.read_csv(\"title_basics.tsv\", sep=\"\\t\")\n",
    "akas = pd.read_csv(\"title_akas.tsv\", sep = \"\\t\")"
   ]
  },
  {
   "cell_type": "markdown",
   "metadata": {},
   "source": [
    "Combine the data"
   ]
  },
  {
   "cell_type": "code",
   "execution_count": 4,
   "metadata": {},
   "outputs": [
    {
     "data": {
      "text/html": [
       "<div>\n",
       "<style scoped>\n",
       "    .dataframe tbody tr th:only-of-type {\n",
       "        vertical-align: middle;\n",
       "    }\n",
       "\n",
       "    .dataframe tbody tr th {\n",
       "        vertical-align: top;\n",
       "    }\n",
       "\n",
       "    .dataframe thead th {\n",
       "        text-align: right;\n",
       "    }\n",
       "</style>\n",
       "<table border=\"1\" class=\"dataframe\">\n",
       "  <thead>\n",
       "    <tr style=\"text-align: right;\">\n",
       "      <th></th>\n",
       "      <th>tconst</th>\n",
       "      <th>titleType</th>\n",
       "      <th>primaryTitle</th>\n",
       "      <th>originalTitle</th>\n",
       "      <th>isAdult</th>\n",
       "      <th>startYear</th>\n",
       "      <th>endYear</th>\n",
       "      <th>runtimeMinutes</th>\n",
       "      <th>genres</th>\n",
       "      <th>averageRating</th>\n",
       "      <th>numVotes</th>\n",
       "    </tr>\n",
       "  </thead>\n",
       "  <tbody>\n",
       "    <tr>\n",
       "      <th>0</th>\n",
       "      <td>tt0000001</td>\n",
       "      <td>short</td>\n",
       "      <td>Carmencita</td>\n",
       "      <td>Carmencita</td>\n",
       "      <td>0</td>\n",
       "      <td>1894</td>\n",
       "      <td>\\N</td>\n",
       "      <td>1</td>\n",
       "      <td>Documentary,Short</td>\n",
       "      <td>5.7</td>\n",
       "      <td>1967.0</td>\n",
       "    </tr>\n",
       "    <tr>\n",
       "      <th>1</th>\n",
       "      <td>tt0000002</td>\n",
       "      <td>short</td>\n",
       "      <td>Le clown et ses chiens</td>\n",
       "      <td>Le clown et ses chiens</td>\n",
       "      <td>0</td>\n",
       "      <td>1892</td>\n",
       "      <td>\\N</td>\n",
       "      <td>5</td>\n",
       "      <td>Animation,Short</td>\n",
       "      <td>5.8</td>\n",
       "      <td>263.0</td>\n",
       "    </tr>\n",
       "    <tr>\n",
       "      <th>2</th>\n",
       "      <td>tt0000003</td>\n",
       "      <td>short</td>\n",
       "      <td>Pauvre Pierrot</td>\n",
       "      <td>Pauvre Pierrot</td>\n",
       "      <td>0</td>\n",
       "      <td>1892</td>\n",
       "      <td>\\N</td>\n",
       "      <td>4</td>\n",
       "      <td>Animation,Comedy,Romance</td>\n",
       "      <td>6.5</td>\n",
       "      <td>1803.0</td>\n",
       "    </tr>\n",
       "    <tr>\n",
       "      <th>3</th>\n",
       "      <td>tt0000004</td>\n",
       "      <td>short</td>\n",
       "      <td>Un bon bock</td>\n",
       "      <td>Un bon bock</td>\n",
       "      <td>0</td>\n",
       "      <td>1892</td>\n",
       "      <td>\\N</td>\n",
       "      <td>12</td>\n",
       "      <td>Animation,Short</td>\n",
       "      <td>5.6</td>\n",
       "      <td>179.0</td>\n",
       "    </tr>\n",
       "    <tr>\n",
       "      <th>4</th>\n",
       "      <td>tt0000005</td>\n",
       "      <td>short</td>\n",
       "      <td>Blacksmith Scene</td>\n",
       "      <td>Blacksmith Scene</td>\n",
       "      <td>0</td>\n",
       "      <td>1893</td>\n",
       "      <td>\\N</td>\n",
       "      <td>1</td>\n",
       "      <td>Comedy,Short</td>\n",
       "      <td>6.2</td>\n",
       "      <td>2603.0</td>\n",
       "    </tr>\n",
       "  </tbody>\n",
       "</table>\n",
       "</div>"
      ],
      "text/plain": [
       "      tconst titleType            primaryTitle           originalTitle  \\\n",
       "0  tt0000001     short              Carmencita              Carmencita   \n",
       "1  tt0000002     short  Le clown et ses chiens  Le clown et ses chiens   \n",
       "2  tt0000003     short          Pauvre Pierrot          Pauvre Pierrot   \n",
       "3  tt0000004     short             Un bon bock             Un bon bock   \n",
       "4  tt0000005     short        Blacksmith Scene        Blacksmith Scene   \n",
       "\n",
       "  isAdult startYear endYear runtimeMinutes                    genres  \\\n",
       "0       0      1894      \\N              1         Documentary,Short   \n",
       "1       0      1892      \\N              5           Animation,Short   \n",
       "2       0      1892      \\N              4  Animation,Comedy,Romance   \n",
       "3       0      1892      \\N             12           Animation,Short   \n",
       "4       0      1893      \\N              1              Comedy,Short   \n",
       "\n",
       "   averageRating  numVotes  \n",
       "0            5.7    1967.0  \n",
       "1            5.8     263.0  \n",
       "2            6.5    1803.0  \n",
       "3            5.6     179.0  \n",
       "4            6.2    2603.0  "
      ]
     },
     "execution_count": 4,
     "metadata": {},
     "output_type": "execute_result"
    }
   ],
   "source": [
    "df = titles.join(ratings.set_index('tconst'), on='tconst')\n",
    "df.head()"
   ]
  },
  {
   "cell_type": "markdown",
   "metadata": {},
   "source": [
    "Get number of types of data"
   ]
  },
  {
   "cell_type": "code",
   "execution_count": 5,
   "metadata": {
    "scrolled": true
   },
   "outputs": [
    {
     "data": {
      "text/plain": [
       "tvEpisode       7376874\n",
       "short            921241\n",
       "movie            640226\n",
       "video            272536\n",
       "tvSeries         240799\n",
       "tvMovie          140846\n",
       "tvMiniSeries      47853\n",
       "tvSpecial         40956\n",
       "videoGame         33816\n",
       "tvShort           10001\n",
       "tvPilot               1\n",
       "Name: titleType, dtype: int64"
      ]
     },
     "execution_count": 5,
     "metadata": {},
     "output_type": "execute_result"
    }
   ],
   "source": [
    "df[\"titleType\"].value_counts()"
   ]
  },
  {
   "cell_type": "markdown",
   "metadata": {},
   "source": [
    "Drop entries that have no votes, or no average rating"
   ]
  },
  {
   "cell_type": "code",
   "execution_count": 6,
   "metadata": {
    "scrolled": true
   },
   "outputs": [],
   "source": [
    "df = df.dropna(subset=['averageRating', 'numVotes'])"
   ]
  },
  {
   "cell_type": "code",
   "execution_count": 7,
   "metadata": {},
   "outputs": [
    {
     "data": {
      "text/plain": [
       "tvEpisode       631394\n",
       "movie           289368\n",
       "short           145973\n",
       "tvSeries         86276\n",
       "tvMovie          50240\n",
       "video            49066\n",
       "tvMiniSeries     14695\n",
       "videoGame        14435\n",
       "tvSpecial        11008\n",
       "tvShort           2138\n",
       "Name: titleType, dtype: int64"
      ]
     },
     "execution_count": 7,
     "metadata": {},
     "output_type": "execute_result"
    }
   ],
   "source": [
    "df[\"titleType\"].value_counts()"
   ]
  },
  {
   "cell_type": "markdown",
   "metadata": {},
   "source": [
    "We only want the alternate titles from the akas dataframe. We can remove the other columns, drop the duplicates and group all the alternate titles in a single list for each id."
   ]
  },
  {
   "cell_type": "code",
   "execution_count": 8,
   "metadata": {},
   "outputs": [
    {
     "data": {
      "text/html": [
       "<div>\n",
       "<style scoped>\n",
       "    .dataframe tbody tr th:only-of-type {\n",
       "        vertical-align: middle;\n",
       "    }\n",
       "\n",
       "    .dataframe tbody tr th {\n",
       "        vertical-align: top;\n",
       "    }\n",
       "\n",
       "    .dataframe thead th {\n",
       "        text-align: right;\n",
       "    }\n",
       "</style>\n",
       "<table border=\"1\" class=\"dataframe\">\n",
       "  <thead>\n",
       "    <tr style=\"text-align: right;\">\n",
       "      <th></th>\n",
       "      <th>title</th>\n",
       "    </tr>\n",
       "    <tr>\n",
       "      <th>titleId</th>\n",
       "      <th></th>\n",
       "    </tr>\n",
       "  </thead>\n",
       "  <tbody>\n",
       "    <tr>\n",
       "      <th>tt0000001</th>\n",
       "      <td>[Карменсіта, Carmencita, Carmencita - spanyol ...</td>\n",
       "    </tr>\n",
       "    <tr>\n",
       "      <th>tt0000002</th>\n",
       "      <td>[Le clown et ses chiens, A bohóc és kutyái, De...</td>\n",
       "    </tr>\n",
       "    <tr>\n",
       "      <th>tt0000003</th>\n",
       "      <td>[Sarmanul Pierrot, Szegény Pierrot, 哀れなピエロ, Бі...</td>\n",
       "    </tr>\n",
       "    <tr>\n",
       "      <th>tt0000004</th>\n",
       "      <td>[Un bon bock, Ein gutes Glas Bier, Un ţap de b...</td>\n",
       "    </tr>\n",
       "    <tr>\n",
       "      <th>tt0000005</th>\n",
       "      <td>[Blacksmith Scene, The Blacksmith's Forge, Bla...</td>\n",
       "    </tr>\n",
       "    <tr>\n",
       "      <th>...</th>\n",
       "      <td>...</td>\n",
       "    </tr>\n",
       "    <tr>\n",
       "      <th>tt9916846</th>\n",
       "      <td>[Épisode #3.18, Folge #3.18, エピソード #3.18, Epis...</td>\n",
       "    </tr>\n",
       "    <tr>\n",
       "      <th>tt9916848</th>\n",
       "      <td>[Épisode #3.17, Folge #3.17, エピソード #3.17, Epis...</td>\n",
       "    </tr>\n",
       "    <tr>\n",
       "      <th>tt9916850</th>\n",
       "      <td>[Episódio #3.19, एपिसोड #3.19, Épisode #3.19, ...</td>\n",
       "    </tr>\n",
       "    <tr>\n",
       "      <th>tt9916852</th>\n",
       "      <td>[Episodio #3.20, Épisode #3.20, Folge #3.20, エ...</td>\n",
       "    </tr>\n",
       "    <tr>\n",
       "      <th>tt9916856</th>\n",
       "      <td>[The Wind]</td>\n",
       "    </tr>\n",
       "  </tbody>\n",
       "</table>\n",
       "<p>6967427 rows × 1 columns</p>\n",
       "</div>"
      ],
      "text/plain": [
       "                                                       title\n",
       "titleId                                                     \n",
       "tt0000001  [Карменсіта, Carmencita, Carmencita - spanyol ...\n",
       "tt0000002  [Le clown et ses chiens, A bohóc és kutyái, De...\n",
       "tt0000003  [Sarmanul Pierrot, Szegény Pierrot, 哀れなピエロ, Бі...\n",
       "tt0000004  [Un bon bock, Ein gutes Glas Bier, Un ţap de b...\n",
       "tt0000005  [Blacksmith Scene, The Blacksmith's Forge, Bla...\n",
       "...                                                      ...\n",
       "tt9916846  [Épisode #3.18, Folge #3.18, エピソード #3.18, Epis...\n",
       "tt9916848  [Épisode #3.17, Folge #3.17, エピソード #3.17, Epis...\n",
       "tt9916850  [Episódio #3.19, एपिसोड #3.19, Épisode #3.19, ...\n",
       "tt9916852  [Episodio #3.20, Épisode #3.20, Folge #3.20, エ...\n",
       "tt9916856                                         [The Wind]\n",
       "\n",
       "[6967427 rows x 1 columns]"
      ]
     },
     "execution_count": 8,
     "metadata": {},
     "output_type": "execute_result"
    }
   ],
   "source": [
    "akas = akas.drop([\"ordering\", \"region\", \"language\", \"types\", \"attributes\", \"isOriginalTitle\"], axis = 1)\n",
    "akas = akas.drop_duplicates()\n",
    "akas = akas.groupby('titleId').agg({'title': lambda x: list(x)})\n",
    "akas"
   ]
  },
  {
   "cell_type": "markdown",
   "metadata": {},
   "source": [
    "Isolate the video games and combine with the akas dataframe"
   ]
  },
  {
   "cell_type": "code",
   "execution_count": 9,
   "metadata": {},
   "outputs": [
    {
     "data": {
      "text/html": [
       "<div>\n",
       "<style scoped>\n",
       "    .dataframe tbody tr th:only-of-type {\n",
       "        vertical-align: middle;\n",
       "    }\n",
       "\n",
       "    .dataframe tbody tr th {\n",
       "        vertical-align: top;\n",
       "    }\n",
       "\n",
       "    .dataframe thead th {\n",
       "        text-align: right;\n",
       "    }\n",
       "</style>\n",
       "<table border=\"1\" class=\"dataframe\">\n",
       "  <thead>\n",
       "    <tr style=\"text-align: right;\">\n",
       "      <th></th>\n",
       "      <th>tconst</th>\n",
       "      <th>titleType</th>\n",
       "      <th>primaryTitle</th>\n",
       "      <th>originalTitle</th>\n",
       "      <th>isAdult</th>\n",
       "      <th>startYear</th>\n",
       "      <th>endYear</th>\n",
       "      <th>runtimeMinutes</th>\n",
       "      <th>genres</th>\n",
       "      <th>averageRating</th>\n",
       "      <th>numVotes</th>\n",
       "      <th>akas</th>\n",
       "    </tr>\n",
       "  </thead>\n",
       "  <tbody>\n",
       "    <tr>\n",
       "      <th>82552</th>\n",
       "      <td>tt0084376</td>\n",
       "      <td>videoGame</td>\n",
       "      <td>MysteryDisc: Murder, Anyone?</td>\n",
       "      <td>MysteryDisc: Murder, Anyone?</td>\n",
       "      <td>0</td>\n",
       "      <td>1982</td>\n",
       "      <td>\\N</td>\n",
       "      <td>\\N</td>\n",
       "      <td>Adventure,Crime,Mystery</td>\n",
       "      <td>6.1</td>\n",
       "      <td>37.0</td>\n",
       "      <td>[MysteryDisc: Murder, Anyone?]</td>\n",
       "    </tr>\n",
       "    <tr>\n",
       "      <th>102667</th>\n",
       "      <td>tt0105000</td>\n",
       "      <td>videoGame</td>\n",
       "      <td>Night Trap</td>\n",
       "      <td>Night Trap</td>\n",
       "      <td>0</td>\n",
       "      <td>1992</td>\n",
       "      <td>\\N</td>\n",
       "      <td>\\N</td>\n",
       "      <td>Adventure,Horror,Mystery</td>\n",
       "      <td>6.2</td>\n",
       "      <td>376.0</td>\n",
       "      <td>[Scene of the Crime, Night Trap, ナイト トラップ]</td>\n",
       "    </tr>\n",
       "    <tr>\n",
       "      <th>107391</th>\n",
       "      <td>tt0109865</td>\n",
       "      <td>videoGame</td>\n",
       "      <td>Gabriel Knight: Sins of the Fathers</td>\n",
       "      <td>Gabriel Knight: Sins of the Fathers</td>\n",
       "      <td>0</td>\n",
       "      <td>1993</td>\n",
       "      <td>\\N</td>\n",
       "      <td>\\N</td>\n",
       "      <td>Adventure,Drama,Horror</td>\n",
       "      <td>9.1</td>\n",
       "      <td>706.0</td>\n",
       "      <td>[Gabriel Knight: Sins of the Fathers]</td>\n",
       "    </tr>\n",
       "    <tr>\n",
       "      <th>107783</th>\n",
       "      <td>tt0110267</td>\n",
       "      <td>videoGame</td>\n",
       "      <td>King's Quest VII: The Princeless Bride</td>\n",
       "      <td>King's Quest VII: The Princeless Bride</td>\n",
       "      <td>0</td>\n",
       "      <td>1994</td>\n",
       "      <td>\\N</td>\n",
       "      <td>\\N</td>\n",
       "      <td>Adventure,Fantasy</td>\n",
       "      <td>7.6</td>\n",
       "      <td>206.0</td>\n",
       "      <td>[King's Quest VII: The Princeless Bride, King'...</td>\n",
       "    </tr>\n",
       "    <tr>\n",
       "      <th>108416</th>\n",
       "      <td>tt0110909</td>\n",
       "      <td>videoGame</td>\n",
       "      <td>Psychic Detective</td>\n",
       "      <td>Psychic Detective</td>\n",
       "      <td>0</td>\n",
       "      <td>1995</td>\n",
       "      <td>\\N</td>\n",
       "      <td>\\N</td>\n",
       "      <td>Adventure,Fantasy,Mystery</td>\n",
       "      <td>8.5</td>\n",
       "      <td>50.0</td>\n",
       "      <td>[Psychic Detective]</td>\n",
       "    </tr>\n",
       "    <tr>\n",
       "      <th>...</th>\n",
       "      <td>...</td>\n",
       "      <td>...</td>\n",
       "      <td>...</td>\n",
       "      <td>...</td>\n",
       "      <td>...</td>\n",
       "      <td>...</td>\n",
       "      <td>...</td>\n",
       "      <td>...</td>\n",
       "      <td>...</td>\n",
       "      <td>...</td>\n",
       "      <td>...</td>\n",
       "      <td>...</td>\n",
       "    </tr>\n",
       "    <tr>\n",
       "      <th>9712195</th>\n",
       "      <td>tt9888864</td>\n",
       "      <td>videoGame</td>\n",
       "      <td>Infernal</td>\n",
       "      <td>Infernal</td>\n",
       "      <td>0</td>\n",
       "      <td>2007</td>\n",
       "      <td>\\N</td>\n",
       "      <td>\\N</td>\n",
       "      <td>Action</td>\n",
       "      <td>6.0</td>\n",
       "      <td>17.0</td>\n",
       "      <td>[Infernal, Infernal: Hell's Vengeance, Diaboli...</td>\n",
       "    </tr>\n",
       "    <tr>\n",
       "      <th>9713877</th>\n",
       "      <td>tt9892552</td>\n",
       "      <td>videoGame</td>\n",
       "      <td>Spiral Splatter</td>\n",
       "      <td>Spiral Splatter</td>\n",
       "      <td>0</td>\n",
       "      <td>2017</td>\n",
       "      <td>\\N</td>\n",
       "      <td>\\N</td>\n",
       "      <td>Action</td>\n",
       "      <td>2.0</td>\n",
       "      <td>10.0</td>\n",
       "      <td>[Spiral Splatter]</td>\n",
       "    </tr>\n",
       "    <tr>\n",
       "      <th>9714234</th>\n",
       "      <td>tt9893348</td>\n",
       "      <td>videoGame</td>\n",
       "      <td>Alien: Covenant In Utero VR Experience</td>\n",
       "      <td>Alien: Covenant In Utero VR Experience</td>\n",
       "      <td>0</td>\n",
       "      <td>2017</td>\n",
       "      <td>\\N</td>\n",
       "      <td>\\N</td>\n",
       "      <td>Sci-Fi</td>\n",
       "      <td>6.2</td>\n",
       "      <td>17.0</td>\n",
       "      <td>[Alien: Covenant In Utero VR Experience]</td>\n",
       "    </tr>\n",
       "    <tr>\n",
       "      <th>9714437</th>\n",
       "      <td>tt9893804</td>\n",
       "      <td>videoGame</td>\n",
       "      <td>The Lego Movie 2 Videogame</td>\n",
       "      <td>The Lego Movie 2 Videogame</td>\n",
       "      <td>0</td>\n",
       "      <td>2019</td>\n",
       "      <td>\\N</td>\n",
       "      <td>\\N</td>\n",
       "      <td>Adventure,Animation,Family</td>\n",
       "      <td>5.5</td>\n",
       "      <td>156.0</td>\n",
       "      <td>[The Lego Movie 2 Videogame, The Lego Movie 2,...</td>\n",
       "    </tr>\n",
       "    <tr>\n",
       "      <th>9722390</th>\n",
       "      <td>tt9910948</td>\n",
       "      <td>videoGame</td>\n",
       "      <td>Pokémon Sword</td>\n",
       "      <td>Poketto monsutâ sôdo</td>\n",
       "      <td>0</td>\n",
       "      <td>2019</td>\n",
       "      <td>\\N</td>\n",
       "      <td>\\N</td>\n",
       "      <td>Action,Adventure,Fantasy</td>\n",
       "      <td>7.2</td>\n",
       "      <td>805.0</td>\n",
       "      <td>[Poketto monsutâ sôdo, Pokémon Épée, Pokémon E...</td>\n",
       "    </tr>\n",
       "  </tbody>\n",
       "</table>\n",
       "<p>14435 rows × 12 columns</p>\n",
       "</div>"
      ],
      "text/plain": [
       "            tconst  titleType                            primaryTitle  \\\n",
       "82552    tt0084376  videoGame            MysteryDisc: Murder, Anyone?   \n",
       "102667   tt0105000  videoGame                              Night Trap   \n",
       "107391   tt0109865  videoGame     Gabriel Knight: Sins of the Fathers   \n",
       "107783   tt0110267  videoGame  King's Quest VII: The Princeless Bride   \n",
       "108416   tt0110909  videoGame                       Psychic Detective   \n",
       "...            ...        ...                                     ...   \n",
       "9712195  tt9888864  videoGame                                Infernal   \n",
       "9713877  tt9892552  videoGame                         Spiral Splatter   \n",
       "9714234  tt9893348  videoGame  Alien: Covenant In Utero VR Experience   \n",
       "9714437  tt9893804  videoGame              The Lego Movie 2 Videogame   \n",
       "9722390  tt9910948  videoGame                           Pokémon Sword   \n",
       "\n",
       "                                  originalTitle isAdult startYear endYear  \\\n",
       "82552              MysteryDisc: Murder, Anyone?       0      1982      \\N   \n",
       "102667                               Night Trap       0      1992      \\N   \n",
       "107391      Gabriel Knight: Sins of the Fathers       0      1993      \\N   \n",
       "107783   King's Quest VII: The Princeless Bride       0      1994      \\N   \n",
       "108416                        Psychic Detective       0      1995      \\N   \n",
       "...                                         ...     ...       ...     ...   \n",
       "9712195                                Infernal       0      2007      \\N   \n",
       "9713877                         Spiral Splatter       0      2017      \\N   \n",
       "9714234  Alien: Covenant In Utero VR Experience       0      2017      \\N   \n",
       "9714437              The Lego Movie 2 Videogame       0      2019      \\N   \n",
       "9722390                    Poketto monsutâ sôdo       0      2019      \\N   \n",
       "\n",
       "        runtimeMinutes                      genres  averageRating  numVotes  \\\n",
       "82552               \\N     Adventure,Crime,Mystery            6.1      37.0   \n",
       "102667              \\N    Adventure,Horror,Mystery            6.2     376.0   \n",
       "107391              \\N      Adventure,Drama,Horror            9.1     706.0   \n",
       "107783              \\N           Adventure,Fantasy            7.6     206.0   \n",
       "108416              \\N   Adventure,Fantasy,Mystery            8.5      50.0   \n",
       "...                ...                         ...            ...       ...   \n",
       "9712195             \\N                      Action            6.0      17.0   \n",
       "9713877             \\N                      Action            2.0      10.0   \n",
       "9714234             \\N                      Sci-Fi            6.2      17.0   \n",
       "9714437             \\N  Adventure,Animation,Family            5.5     156.0   \n",
       "9722390             \\N    Action,Adventure,Fantasy            7.2     805.0   \n",
       "\n",
       "                                                      akas  \n",
       "82552                       [MysteryDisc: Murder, Anyone?]  \n",
       "102667          [Scene of the Crime, Night Trap, ナイト トラップ]  \n",
       "107391               [Gabriel Knight: Sins of the Fathers]  \n",
       "107783   [King's Quest VII: The Princeless Bride, King'...  \n",
       "108416                                 [Psychic Detective]  \n",
       "...                                                    ...  \n",
       "9712195  [Infernal, Infernal: Hell's Vengeance, Diaboli...  \n",
       "9713877                                  [Spiral Splatter]  \n",
       "9714234           [Alien: Covenant In Utero VR Experience]  \n",
       "9714437  [The Lego Movie 2 Videogame, The Lego Movie 2,...  \n",
       "9722390  [Poketto monsutâ sôdo, Pokémon Épée, Pokémon E...  \n",
       "\n",
       "[14435 rows x 12 columns]"
      ]
     },
     "execution_count": 9,
     "metadata": {},
     "output_type": "execute_result"
    }
   ],
   "source": [
    "video_games = df[df[\"titleType\"]==\"videoGame\"]\n",
    "video_games = video_games.join(akas, on='tconst').rename(columns = {\"title\": \"akas\"})\n",
    "video_games"
   ]
  },
  {
   "cell_type": "markdown",
   "metadata": {},
   "source": [
    "Save the video games file to a csv"
   ]
  },
  {
   "cell_type": "code",
   "execution_count": 29,
   "metadata": {},
   "outputs": [],
   "source": [
    "video_games.to_csv(\"imdb_games_db.csv\")"
   ]
  },
  {
   "cell_type": "markdown",
   "metadata": {},
   "source": [
    "# UNUSED/TEST CODE FROM BELOW"
   ]
  },
  {
   "cell_type": "code",
   "execution_count": 16,
   "metadata": {},
   "outputs": [],
   "source": [
    "principals = pd.read_csv(\"name_basics.tsv\", sep=\"\\t\")"
   ]
  },
  {
   "cell_type": "code",
   "execution_count": 17,
   "metadata": {},
   "outputs": [
    {
     "data": {
      "text/html": [
       "<div>\n",
       "<style scoped>\n",
       "    .dataframe tbody tr th:only-of-type {\n",
       "        vertical-align: middle;\n",
       "    }\n",
       "\n",
       "    .dataframe tbody tr th {\n",
       "        vertical-align: top;\n",
       "    }\n",
       "\n",
       "    .dataframe thead th {\n",
       "        text-align: right;\n",
       "    }\n",
       "</style>\n",
       "<table border=\"1\" class=\"dataframe\">\n",
       "  <thead>\n",
       "    <tr style=\"text-align: right;\">\n",
       "      <th></th>\n",
       "      <th>nconst</th>\n",
       "      <th>primaryName</th>\n",
       "      <th>birthYear</th>\n",
       "      <th>deathYear</th>\n",
       "      <th>primaryProfession</th>\n",
       "      <th>knownForTitles</th>\n",
       "    </tr>\n",
       "  </thead>\n",
       "  <tbody>\n",
       "    <tr>\n",
       "      <th>9278014</th>\n",
       "      <td>nm6026807</td>\n",
       "      <td>László Kiss</td>\n",
       "      <td>\\N</td>\n",
       "      <td>\\N</td>\n",
       "      <td>actor</td>\n",
       "      <td>tt3132658,tt2981532</td>\n",
       "    </tr>\n",
       "  </tbody>\n",
       "</table>\n",
       "</div>"
      ],
      "text/plain": [
       "            nconst  primaryName birthYear deathYear primaryProfession  \\\n",
       "9278014  nm6026807  László Kiss        \\N        \\N             actor   \n",
       "\n",
       "              knownForTitles  \n",
       "9278014  tt3132658,tt2981532  "
      ]
     },
     "execution_count": 17,
     "metadata": {},
     "output_type": "execute_result"
    }
   ],
   "source": [
    "principals.sample()"
   ]
  },
  {
   "cell_type": "code",
   "execution_count": 15,
   "metadata": {},
   "outputs": [
    {
     "data": {
      "text/html": [
       "<div>\n",
       "<style scoped>\n",
       "    .dataframe tbody tr th:only-of-type {\n",
       "        vertical-align: middle;\n",
       "    }\n",
       "\n",
       "    .dataframe tbody tr th {\n",
       "        vertical-align: top;\n",
       "    }\n",
       "\n",
       "    .dataframe thead th {\n",
       "        text-align: right;\n",
       "    }\n",
       "</style>\n",
       "<table border=\"1\" class=\"dataframe\">\n",
       "  <thead>\n",
       "    <tr style=\"text-align: right;\">\n",
       "      <th></th>\n",
       "      <th>tconst</th>\n",
       "      <th>directors</th>\n",
       "      <th>writers</th>\n",
       "    </tr>\n",
       "  </thead>\n",
       "  <tbody>\n",
       "    <tr>\n",
       "      <th>198298</th>\n",
       "      <td>tt0206583</td>\n",
       "      <td>nm10566918</td>\n",
       "      <td>nm0277730,nm0004170</td>\n",
       "    </tr>\n",
       "  </tbody>\n",
       "</table>\n",
       "</div>"
      ],
      "text/plain": [
       "           tconst   directors              writers\n",
       "198298  tt0206583  nm10566918  nm0277730,nm0004170"
      ]
     },
     "execution_count": 15,
     "metadata": {},
     "output_type": "execute_result"
    }
   ],
   "source": [
    "principals[principals[\"tconst\"]==\"tt0206583\"]"
   ]
  },
  {
   "cell_type": "code",
   "execution_count": null,
   "metadata": {
    "scrolled": false
   },
   "outputs": [],
   "source": [
    "titles[titles[\"primaryTitle\"]==\"LEGO Star Wars\"]"
   ]
  },
  {
   "cell_type": "code",
   "execution_count": null,
   "metadata": {},
   "outputs": [],
   "source": [
    "with_winnie = titles['primaryTitle'].str.contains('[^a-z]lego[^a-z]|$lego[^a-z]', na=False, flags=re.IGNORECASE, regex=True)\n",
    "with_movie_type = titles['titleType']=='movie'\n",
    "\n",
    "titles[with_winnie & with_movie_type]"
   ]
  },
  {
   "cell_type": "code",
   "execution_count": null,
   "metadata": {},
   "outputs": [],
   "source": [
    "temp = titles[titles[\"primaryTitle\"].str.contains('Winnie', na=False, flags=re.IGNORECASE, regex=True)]\n",
    "temp[temp[\"titleType\"]==\"movie\"].head(65)"
   ]
  },
  {
   "cell_type": "code",
   "execution_count": null,
   "metadata": {
    "scrolled": false
   },
   "outputs": [],
   "source": [
    "titles[titles[\"primaryTitle\"].str.contains('Stranger Things', na=False, flags=re.IGNORECASE, regex=True)]"
   ]
  }
 ],
 "metadata": {
  "kernelspec": {
   "display_name": "Python 3",
   "language": "python",
   "name": "python3"
  },
  "language_info": {
   "codemirror_mode": {
    "name": "ipython",
    "version": 3
   },
   "file_extension": ".py",
   "mimetype": "text/x-python",
   "name": "python",
   "nbconvert_exporter": "python",
   "pygments_lexer": "ipython3",
   "version": "3.8.5"
  }
 },
 "nbformat": 4,
 "nbformat_minor": 4
}
