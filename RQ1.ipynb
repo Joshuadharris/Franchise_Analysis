{
 "cells": [
  {
   "cell_type": "markdown",
   "metadata": {},
   "source": [
    "Import libraries"
   ]
  },
  {
   "cell_type": "code",
   "execution_count": 1,
   "metadata": {},
   "outputs": [],
   "source": [
    "import pandas as pd\n",
    "from scipy import stats\n",
    "import matplotlib.pyplot as plt\n",
    "import ast\n",
    "import seaborn as sns"
   ]
  },
  {
   "cell_type": "code",
   "execution_count": 2,
   "metadata": {},
   "outputs": [],
   "source": [
    "pd.set_option(\"display.max_columns\", None)"
   ]
  },
  {
   "cell_type": "markdown",
   "metadata": {},
   "source": [
    "Read in dataframe"
   ]
  },
  {
   "cell_type": "code",
   "execution_count": 3,
   "metadata": {},
   "outputs": [],
   "source": [
    "df = pd.read_csv(\"franchises_combined_by_year.csv\", index_col = 0)"
   ]
  },
  {
   "cell_type": "code",
   "execution_count": 4,
   "metadata": {
    "scrolled": true
   },
   "outputs": [
    {
     "data": {
      "text/html": [
       "<div>\n",
       "<style scoped>\n",
       "    .dataframe tbody tr th:only-of-type {\n",
       "        vertical-align: middle;\n",
       "    }\n",
       "\n",
       "    .dataframe tbody tr th {\n",
       "        vertical-align: top;\n",
       "    }\n",
       "\n",
       "    .dataframe thead th {\n",
       "        text-align: right;\n",
       "    }\n",
       "</style>\n",
       "<table border=\"1\" class=\"dataframe\">\n",
       "  <thead>\n",
       "    <tr style=\"text-align: right;\">\n",
       "      <th></th>\n",
       "      <th>franchise_name</th>\n",
       "      <th>franchise_id</th>\n",
       "      <th>type</th>\n",
       "      <th>tconst</th>\n",
       "      <th>title</th>\n",
       "      <th>year</th>\n",
       "      <th>is_adult</th>\n",
       "      <th>runtime</th>\n",
       "      <th>genres</th>\n",
       "      <th>votes_average</th>\n",
       "      <th>rating_average</th>\n",
       "      <th>franchise_count</th>\n",
       "      <th>content_per_year</th>\n",
       "      <th>year_diff</th>\n",
       "      <th>vote_diff</th>\n",
       "      <th>rating_diff</th>\n",
       "      <th>num_of_releases_diff</th>\n",
       "      <th>z_rating</th>\n",
       "      <th>z_votes</th>\n",
       "    </tr>\n",
       "  </thead>\n",
       "  <tbody>\n",
       "    <tr>\n",
       "      <th>5846</th>\n",
       "      <td>Contra</td>\n",
       "      <td>3025-605</td>\n",
       "      <td>game</td>\n",
       "      <td>tt10284164</td>\n",
       "      <td>Operation C</td>\n",
       "      <td>1991</td>\n",
       "      <td>0</td>\n",
       "      <td>NaN</td>\n",
       "      <td>[\" 'Action'\", \" 'Sci-Fi']\", \" 'Shooter'\", \"['A...</td>\n",
       "      <td>25.0</td>\n",
       "      <td>7.0</td>\n",
       "      <td>15.0</td>\n",
       "      <td>1.0</td>\n",
       "      <td>3.0</td>\n",
       "      <td>18.0</td>\n",
       "      <td>0.1</td>\n",
       "      <td>0.0</td>\n",
       "      <td>-0.093317</td>\n",
       "      <td>-0.248558</td>\n",
       "    </tr>\n",
       "  </tbody>\n",
       "</table>\n",
       "</div>"
      ],
      "text/plain": [
       "     franchise_name franchise_id  type      tconst        title  year  \\\n",
       "5846         Contra     3025-605  game  tt10284164  Operation C  1991   \n",
       "\n",
       "      is_adult runtime                                             genres  \\\n",
       "5846         0     NaN  [\" 'Action'\", \" 'Sci-Fi']\", \" 'Shooter'\", \"['A...   \n",
       "\n",
       "      votes_average  rating_average  franchise_count  content_per_year  \\\n",
       "5846           25.0             7.0             15.0               1.0   \n",
       "\n",
       "      year_diff  vote_diff  rating_diff  num_of_releases_diff  z_rating  \\\n",
       "5846        3.0       18.0          0.1                   0.0 -0.093317   \n",
       "\n",
       "       z_votes  \n",
       "5846 -0.248558  "
      ]
     },
     "execution_count": 4,
     "metadata": {},
     "output_type": "execute_result"
    }
   ],
   "source": [
    "df.sample()"
   ]
  },
  {
   "cell_type": "markdown",
   "metadata": {},
   "source": [
    "This gets the first and last year of the franchise, creates columns and then gives the relative position of each release in the franchise as a percentage"
   ]
  },
  {
   "cell_type": "code",
   "execution_count": 5,
   "metadata": {},
   "outputs": [],
   "source": [
    "df = df.groupby('franchise_id').agg(min_year=('year', 'min'), max_year=('year', 'max')) \\\n",
    "       .reset_index() \\\n",
    "       .merge(df, on='franchise_id', how='right') \\\n",
    "       .assign(position_in_franchise=lambda x: (x['year'] - x['min_year']) / (x['max_year'] - x['min_year']) * 100)\n"
   ]
  },
  {
   "cell_type": "markdown",
   "metadata": {},
   "source": [
    "This gets the highest and lowest vote of the franchise and creates columns"
   ]
  },
  {
   "cell_type": "code",
   "execution_count": 6,
   "metadata": {},
   "outputs": [],
   "source": [
    "df = df.groupby('franchise_id').agg(min_vote=('votes_average', 'min'), max_vote=('votes_average', 'max')) \\\n",
    "       .reset_index() \\\n",
    "       .merge(df, on='franchise_id', how='right')\n"
   ]
  },
  {
   "cell_type": "markdown",
   "metadata": {},
   "source": [
    "This gets the highest and lowest rating of the franchise and creates columns"
   ]
  },
  {
   "cell_type": "code",
   "execution_count": 7,
   "metadata": {},
   "outputs": [],
   "source": [
    "df = df.groupby('franchise_id').agg(min_rating=('rating_average', 'min'), max_rating=('rating_average', 'max')) \\\n",
    "       .reset_index() \\\n",
    "       .merge(df, on='franchise_id', how='right')\n"
   ]
  },
  {
   "cell_type": "markdown",
   "metadata": {},
   "source": [
    "Find the biggest gap in releases for each franchise"
   ]
  },
  {
   "cell_type": "code",
   "execution_count": 8,
   "metadata": {},
   "outputs": [],
   "source": [
    "df = df.groupby('franchise_id').agg(biggest_gap_in_releases=('year_diff', 'max')) \\\n",
    "       .reset_index() \\\n",
    "       .merge(df, on='franchise_id', how='left')"
   ]
  },
  {
   "cell_type": "code",
   "execution_count": 9,
   "metadata": {},
   "outputs": [
    {
     "data": {
      "text/html": [
       "<div>\n",
       "<style scoped>\n",
       "    .dataframe tbody tr th:only-of-type {\n",
       "        vertical-align: middle;\n",
       "    }\n",
       "\n",
       "    .dataframe tbody tr th {\n",
       "        vertical-align: top;\n",
       "    }\n",
       "\n",
       "    .dataframe thead th {\n",
       "        text-align: right;\n",
       "    }\n",
       "</style>\n",
       "<table border=\"1\" class=\"dataframe\">\n",
       "  <thead>\n",
       "    <tr style=\"text-align: right;\">\n",
       "      <th></th>\n",
       "      <th>franchise_id</th>\n",
       "      <th>biggest_gap_in_releases</th>\n",
       "      <th>min_rating</th>\n",
       "      <th>max_rating</th>\n",
       "      <th>min_vote</th>\n",
       "      <th>max_vote</th>\n",
       "      <th>min_year</th>\n",
       "      <th>max_year</th>\n",
       "      <th>franchise_name</th>\n",
       "      <th>type</th>\n",
       "      <th>tconst</th>\n",
       "      <th>title</th>\n",
       "      <th>year</th>\n",
       "      <th>is_adult</th>\n",
       "      <th>runtime</th>\n",
       "      <th>genres</th>\n",
       "      <th>votes_average</th>\n",
       "      <th>rating_average</th>\n",
       "      <th>franchise_count</th>\n",
       "      <th>content_per_year</th>\n",
       "      <th>year_diff</th>\n",
       "      <th>vote_diff</th>\n",
       "      <th>rating_diff</th>\n",
       "      <th>num_of_releases_diff</th>\n",
       "      <th>z_rating</th>\n",
       "      <th>z_votes</th>\n",
       "      <th>position_in_franchise</th>\n",
       "    </tr>\n",
       "  </thead>\n",
       "  <tbody>\n",
       "    <tr>\n",
       "      <th>9984</th>\n",
       "      <td>f557</td>\n",
       "      <td>25.0</td>\n",
       "      <td>4.2</td>\n",
       "      <td>6.8</td>\n",
       "      <td>20.0</td>\n",
       "      <td>1697.0</td>\n",
       "      <td>1946</td>\n",
       "      <td>2009</td>\n",
       "      <td>Dr. Orloff</td>\n",
       "      <td>movie</td>\n",
       "      <td>tt0060373</td>\n",
       "      <td>only a coffin</td>\n",
       "      <td>1967</td>\n",
       "      <td>0</td>\n",
       "      <td>89</td>\n",
       "      <td>['Horror', 'Crime']</td>\n",
       "      <td>72.0</td>\n",
       "      <td>4.6</td>\n",
       "      <td>10.0</td>\n",
       "      <td>1.0</td>\n",
       "      <td>1.0</td>\n",
       "      <td>-1050.0</td>\n",
       "      <td>-2.0</td>\n",
       "      <td>0.0</td>\n",
       "      <td>-1.22793</td>\n",
       "      <td>-0.330989</td>\n",
       "      <td>33.333333</td>\n",
       "    </tr>\n",
       "  </tbody>\n",
       "</table>\n",
       "</div>"
      ],
      "text/plain": [
       "     franchise_id  biggest_gap_in_releases  min_rating  max_rating  min_vote  \\\n",
       "9984         f557                     25.0         4.2         6.8      20.0   \n",
       "\n",
       "      max_vote  min_year  max_year franchise_name   type     tconst  \\\n",
       "9984    1697.0      1946      2009     Dr. Orloff  movie  tt0060373   \n",
       "\n",
       "              title  year  is_adult runtime               genres  \\\n",
       "9984  only a coffin  1967         0      89  ['Horror', 'Crime']   \n",
       "\n",
       "      votes_average  rating_average  franchise_count  content_per_year  \\\n",
       "9984           72.0             4.6             10.0               1.0   \n",
       "\n",
       "      year_diff  vote_diff  rating_diff  num_of_releases_diff  z_rating  \\\n",
       "9984        1.0    -1050.0         -2.0                   0.0  -1.22793   \n",
       "\n",
       "       z_votes  position_in_franchise  \n",
       "9984 -0.330989              33.333333  "
      ]
     },
     "execution_count": 9,
     "metadata": {},
     "output_type": "execute_result"
    }
   ],
   "source": [
    "df.sample()"
   ]
  },
  {
   "cell_type": "markdown",
   "metadata": {},
   "source": [
    "We can see how long the average franchise runs for:"
   ]
  },
  {
   "cell_type": "code",
   "execution_count": 10,
   "metadata": {
    "scrolled": false
   },
   "outputs": [
    {
     "data": {
      "text/plain": [
       "[Text(0.5, 1.0, 'Total franchise distribution'),\n",
       " Text(0.5, 0, 'Number of releases in the franchise'),\n",
       " Text(0, 0.5, 'Total franchises')]"
      ]
     },
     "execution_count": 10,
     "metadata": {},
     "output_type": "execute_result"
    },
    {
     "data": {
      "image/png": "[encoded data removed]",
      "text/plain": [
       "<Figure size 1080x360 with 1 Axes>"
      ]
     },
     "metadata": {
      "needs_background": "light"
     },
     "output_type": "display_data"
    }
   ],
   "source": [
    "plt.figure(figsize=(15, 5))\n",
    "sns.histplot(data = df.groupby('franchise_id')['franchise_count'].first().reset_index(), \\\n",
    "             x='franchise_count').set(title = 'Total franchise distribution', xlabel = 'Number of releases in the franchise', ylabel = \"Total franchises\")"
   ]
  },
  {
   "cell_type": "markdown",
   "metadata": {},
   "source": [
    "That's pretty unclear so we can divide the data to make it clearer."
   ]
  },
  {
   "cell_type": "code",
   "execution_count": 11,
   "metadata": {},
   "outputs": [
    {
     "data": {
      "text/plain": [
       "[Text(0.5, 1.0, 'Total franchise distribution'),\n",
       " Text(0.5, 0, 'Number of releases in the franchise'),\n",
       " Text(0, 0.5, 'Total franchises')]"
      ]
     },
     "execution_count": 11,
     "metadata": {},
     "output_type": "execute_result"
    },
    {
     "data": {
      "image/png": "[encoded data removed]",
      "text/plain": [
       "<Figure size 1080x504 with 1 Axes>"
      ]
     },
     "metadata": {
      "needs_background": "light"
     },
     "output_type": "display_data"
    }
   ],
   "source": [
    "plt.figure(figsize=(15, 7))\n",
    "sns.histplot(data = df[df['franchise_count'] <= 30].groupby('franchise_id')['franchise_count'].first().reset_index(), \\\n",
    "             x='franchise_count').set(title = 'Total franchise distribution', xlabel = 'Number of releases in the franchise', ylabel = \"Total franchises\")"
   ]
  },
  {
   "cell_type": "markdown",
   "metadata": {},
   "source": [
    "We can get a count for the number of franchises in our dataset, and how many of these are games vs movies"
   ]
  },
  {
   "cell_type": "code",
   "execution_count": null,
   "metadata": {
    "scrolled": true
   },
   "outputs": [],
   "source": [
    "print(\"Unique franchise ids: \", df.franchise_id.nunique(),\n",
    "      \"\\nMovie franchises: \", df[df[\"type\"]==\"movie\"].franchise_id.nunique(), \n",
    "      \"\\nGame franchises: \", df[df[\"type\"]==\"game\"].franchise_id.nunique())"
   ]
  },
  {
   "cell_type": "code",
   "execution_count": null,
   "metadata": {},
   "outputs": [],
   "source": []
  },
  {
   "cell_type": "code",
   "execution_count": null,
   "metadata": {
    "scrolled": true
   },
   "outputs": [],
   "source": [
    "df[df['franchise_id'] == '3025-1403'].plot(\"year\", \"rating_average\")"
   ]
  },
  {
   "cell_type": "code",
   "execution_count": null,
   "metadata": {},
   "outputs": [],
   "source": [
    "plt.figure(figsize=(15,10))\n",
    "df[df['franchise_count'] < 6].groupby('year')['rating_diff'].mean().plot(label='Franchise Count = 6')\n",
    "df[(df['franchise_count'] >= 6) & (df['franchise_count'] < 9)].groupby('year')['rating_diff'].mean().plot(label='Franchise Count = 22')\n",
    "df[(df['franchise_count'] >= 9) & (df['franchise_count'] < 12)].groupby('year')['rating_diff'].mean().plot(label='Franchise Count = 22')\n",
    "df[df['franchise_count'] >= 12].groupby('year')['rating_diff'].mean().plot(label='Franchise Count = 22')\n",
    "sns.regplot(data=df, x='year', y='rating_diff', order=1, scatter=False)\n",
    "\n",
    "#df[df['franchise_count'] == 8].groupby('year')['rating_diff'].mean().plot(label='Franchise Count = 8')\n",
    "#df[df['franchise_count'] == 7].groupby('year')['rating_diff'].mean().plot(label='Franchise Count = 7')\n",
    "#df[df['franchise_count'] == 6].groupby('year')['rating_diff'].mean().plot(label='Franchise Count = 6')\n",
    "#df[df['franchise_count'] == 5].groupby('year')['rating_diff'].mean().plot(label='Franchise Count = 8')\n",
    "#df[df['franchise_count'] == 4].groupby('year')['rating_diff'].mean().plot(label='Franchise Count = 7')\n"
   ]
  },
  {
   "cell_type": "code",
   "execution_count": null,
   "metadata": {},
   "outputs": [],
   "source": [
    "plt.figure(figsize=(15,10))\n",
    "df[df['franchise_count'] < 6].groupby('year')['rating_average'].mean().plot(label='Franchise Count = 6')\n",
    "df[(df['franchise_count'] >= 6) & (df['franchise_count'] < 9)].groupby('year')['rating_average'].mean().plot(label='Franchise Count = 22')\n",
    "df[(df['franchise_count'] >= 9) & (df['franchise_count'] < 12)].groupby('year')['rating_average'].mean().plot(label='Franchise Count = 22')\n",
    "df[df['franchise_count'] >= 12].groupby('year')['rating_average'].mean().plot(label='Franchise Count = 22')\n",
    "sns.regplot(data=df, x='year', y='rating_average', order=1, scatter=False)\n"
   ]
  },
  {
   "cell_type": "code",
   "execution_count": null,
   "metadata": {},
   "outputs": [],
   "source": [
    "df[(df['type'] == \"movie\")&(df['franchise_count'] >= 12)].groupby('year')['rating_average'].mean().plot(label='Franchise Count = 22')"
   ]
  },
  {
   "cell_type": "code",
   "execution_count": null,
   "metadata": {},
   "outputs": [],
   "source": [
    "plt.figure(figsize=(15,10))\n",
    "df[(df['type'] == \"movie\")&(df['franchise_count'] < 6)].groupby('year')['rating_average'].mean().plot(label='Franchise Count = 6')\n",
    "df[(df['type'] == \"movie\")&(df['franchise_count'] >= 6) & (df['franchise_count'] < 9)].groupby('year')['rating_average'].mean().plot(label='Franchise Count = 22')\n",
    "df[(df['type'] == \"movie\")&(df['franchise_count'] >= 9) & (df['franchise_count'] < 12)].groupby('year')['rating_average'].mean().plot(label='Franchise Count = 22')\n",
    "df[(df['type'] == \"movie\")&(df['franchise_count'] >= 12)].groupby('year')['rating_average'].mean().plot(label='Franchise Count = 22')\n",
    "sns.regplot(data=df, x='year', y='rating_average', order=1, scatter=False)\n"
   ]
  },
  {
   "cell_type": "code",
   "execution_count": null,
   "metadata": {},
   "outputs": [],
   "source": [
    "plt.figure(figsize=(15,10))\n",
    "df[(df['type'] == \"game\")&(df['franchise_count'] < 6)].groupby('year')['rating_average'].mean().plot(label='Franchise Count < 6')\n",
    "df[(df['type'] == \"game\")&(df['franchise_count'] >= 6) & (df['franchise_count'] < 9)].groupby('year')['rating_average'].mean().plot(label='Franchise Count < 9')\n",
    "df[(df['type'] == \"game\")&(df['franchise_count'] >= 9) & (df['franchise_count'] < 12)].groupby('year')['rating_average'].mean().plot(label='Franchise Count < 12')\n",
    "df[(df['type'] == \"game\")&(df['franchise_count'] >= 12)].groupby('year')['rating_average'].mean().plot(label='Franchise Count > 12')\n",
    "sns.regplot(data=(df[df['type'] == \"game\"]), x='year', y='rating_average', order=1, scatter=False)\n",
    "plt.legend()"
   ]
  },
  {
   "cell_type": "code",
   "execution_count": null,
   "metadata": {},
   "outputs": [],
   "source": [
    "plt.figure(figsize=(15,10))\n",
    "df[df['franchise_count'] < 6].groupby('year')['votes_average'].mean().plot(label='Franchise Count = 6')\n",
    "df[(df['franchise_count'] >= 6) & (df['franchise_count'] < 9)].groupby('year')['votes_average'].mean().plot(label='Franchise Count = 7')\n",
    "df[(df['franchise_count'] >= 9) & (df['franchise_count'] < 12)].groupby('year')['votes_average'].mean().plot(label='Franchise Count = 9')\n",
    "df[df['franchise_count'] >= 12].groupby('year')['votes_average'].mean().plot(label='Franchise Count = 22')\n",
    "sns.regplot(data=df, x='year', y='votes_average', order=1, scatter=False)\n",
    "plt.legend()"
   ]
  },
  {
   "cell_type": "code",
   "execution_count": null,
   "metadata": {},
   "outputs": [],
   "source": [
    "df.plot.scatter(\"biggest_gap_in_releases\", \"rating_average\", figsize = (15,10))"
   ]
  },
  {
   "cell_type": "code",
   "execution_count": null,
   "metadata": {},
   "outputs": [],
   "source": [
    "df.sample()"
   ]
  },
  {
   "cell_type": "code",
   "execution_count": null,
   "metadata": {
    "scrolled": false
   },
   "outputs": [],
   "source": [
    "df.plot.scatter(\"position_in_franchise\", \"votes_average\", c=df['type'].map({'movie': 'green', 'game': 'red'}), alpha = 0.5, figsize = (15,10))\n",
    "plt.yscale('log', base=10)"
   ]
  },
  {
   "cell_type": "code",
   "execution_count": null,
   "metadata": {},
   "outputs": [],
   "source": [
    "df.plot.scatter(\"position_in_franchise\", \"rating_average\", figsize = (15,10))"
   ]
  },
  {
   "cell_type": "code",
   "execution_count": null,
   "metadata": {},
   "outputs": [],
   "source": [
    "df.sample()"
   ]
  },
  {
   "cell_type": "code",
   "execution_count": null,
   "metadata": {},
   "outputs": [],
   "source": [
    "fig, ax = plt.subplots()\n",
    "ax.boxplot([df[df['type'] == 'movie']['rating_average'], df[df['type'] == \"game\"]['rating_average']])\n",
    "ax.set_xticklabels(['Movie', 'Game'])\n",
    "ax.set_ylabel('Average Rating')\n",
    "ax.set_title('Standard Deviation of Average Rating')\n",
    "plt.show()"
   ]
  },
  {
   "cell_type": "code",
   "execution_count": null,
   "metadata": {},
   "outputs": [],
   "source": [
    "fig, ax = plt.subplots()\n",
    "ax.boxplot([df[df['type'] == 'movie']['votes_average'], df[df['type'] == \"game\"]['votes_average']])\n",
    "ax.set_xticklabels(['Movie', 'Game'])\n",
    "ax.set_ylabel('Number of Votes')\n",
    "ax.set_title('Standard Deviation of Number of Votes')\n",
    "plt.show()"
   ]
  },
  {
   "cell_type": "code",
   "execution_count": null,
   "metadata": {},
   "outputs": [],
   "source": [
    "df[df['type'] == \"game\"]['votes_average'].describe()"
   ]
  },
  {
   "cell_type": "code",
   "execution_count": null,
   "metadata": {},
   "outputs": [],
   "source": [
    "df[df['type'] == \"movie\"]['votes_average'].describe()"
   ]
  },
  {
   "cell_type": "markdown",
   "metadata": {},
   "source": [
    "We can look at the number of releases each franchise has"
   ]
  },
  {
   "cell_type": "code",
   "execution_count": null,
   "metadata": {},
   "outputs": [],
   "source": [
    "bins =[2.5, 3.5, 4.5, 5.5, 6.5, 7.5, 8.5, 9.5, 12.5, 15.5, 20.5, 250]\n",
    "df['franchise_count_bin'] = pd.cut(df['franchise_count'], bins=bins, labels=[\"3\", \"4\", \"5\", \"6\", \"7\", \"8\", \"9\", \"10-12\", \"13-15\", \"16-20\", \"20+\"])"
   ]
  },
  {
   "cell_type": "code",
   "execution_count": null,
   "metadata": {},
   "outputs": [],
   "source": [
    "df.groupby('franchise_id')['franchise_count_bin'].first().value_counts().reset_index().plot(\n",
    "    kind='bar', x='index', y='franchise_count_bin', xlabel = \"Number of releases\", ylabel = \"Number of franchises\", legend=False)"
   ]
  },
  {
   "cell_type": "markdown",
   "metadata": {},
   "source": [
    "## Note:\n",
    "\n",
    "This is taking me too long. All I want to do is sort the bins so they go in order but it's taking too long to try to figure out so I'll come back to it"
   ]
  },
  {
   "cell_type": "markdown",
   "metadata": {},
   "source": [
    "Now I want to see whether the average rating for a franchise as a whole is affected by the number of elements in the franchise. I was going to just get an average based on the grouped years, but have realised that this will result in skewed data. Because we have already got an average for the year, we potentially have changed the weighting of certain movies, so if we try to get an average when we have already averaged some of them, it's going to create problems. Therefore I need to instead use the dataframe where the years were not merged."
   ]
  },
  {
   "cell_type": "code",
   "execution_count": null,
   "metadata": {},
   "outputs": [],
   "source": [
    "df_unmerged = pd.read_csv(\"franchises_complete_dataframe.csv\", index_col = 0)\n",
    "df_unmerged.tconst.count()"
   ]
  },
  {
   "cell_type": "code",
   "execution_count": null,
   "metadata": {
    "scrolled": true
   },
   "outputs": [],
   "source": [
    "df_unmerged.sample()"
   ]
  },
  {
   "cell_type": "code",
   "execution_count": null,
   "metadata": {},
   "outputs": [],
   "source": [
    "df_unmerged = df_unmerged.groupby('franchise_id').agg(average_vote_franchise=('votes', 'mean'), average_rating_franchise=('rating', 'mean')) \\\n",
    "       .reset_index() \\\n",
    "       .merge(df_unmerged, on='franchise_id', how='right')"
   ]
  },
  {
   "cell_type": "code",
   "execution_count": null,
   "metadata": {},
   "outputs": [],
   "source": [
    "df_unmerged = df_unmerged.groupby('franchise_id').agg(min_year=('year', 'min'), max_year=('year', 'max')) \\\n",
    "       .reset_index() \\\n",
    "       .merge(df_unmerged, on='franchise_id', how='right') \\\n",
    "       .assign(position_in_franchise=lambda x: (x['year'] - x['min_year']) / (x['max_year'] - x['min_year']) * 100)\n"
   ]
  },
  {
   "cell_type": "code",
   "execution_count": null,
   "metadata": {},
   "outputs": [],
   "source": [
    "df_unmerged[\"Vote_relative_to_franchise_average\"] = df_unmerged.apply(lambda row: (row[\"votes\"] / row[\"average_vote_franchise\"]) * 100, axis=1)"
   ]
  },
  {
   "cell_type": "code",
   "execution_count": null,
   "metadata": {},
   "outputs": [],
   "source": []
  },
  {
   "cell_type": "code",
   "execution_count": null,
   "metadata": {},
   "outputs": [],
   "source": [
    "df_unmerged.groupby('position_in_franchise')['Vote_relative_to_franchise_average'].mean().plot(kind='line', figsize=(15,10))\n",
    "plt.xlabel('Position in Franchise')\n",
    "plt.ylabel('Average Vote Relative to Franchise')\n",
    "plt.title('Comparison of Average Vote Relative to Franchise by Position in Franchise')\n",
    "plt.show()"
   ]
  },
  {
   "cell_type": "code",
   "execution_count": null,
   "metadata": {},
   "outputs": [],
   "source": [
    "df_unmerged.plot.scatter(\"position_in_franchise\", \"Vote_relative_to_franchise_average\")"
   ]
  },
  {
   "cell_type": "markdown",
   "metadata": {},
   "source": [
    "## NEW DATAFRAME\n",
    "Create a new dataframe with 1 entry per franchise. "
   ]
  },
  {
   "cell_type": "code",
   "execution_count": null,
   "metadata": {},
   "outputs": [],
   "source": [
    "new_df = df_unmerged.sort_values('year').groupby('franchise_id').agg({\n",
    "    'franchise_name' : 'first',\n",
    "    'type': 'first',\n",
    "    'rating': 'mean',\n",
    "    'votes': 'mean',\n",
    "    'franchise_count': 'first',\n",
    "    'year': ['first', 'last']\n",
    "})"
   ]
  },
  {
   "cell_type": "code",
   "execution_count": null,
   "metadata": {},
   "outputs": [],
   "source": [
    "new_df.sample()"
   ]
  },
  {
   "cell_type": "code",
   "execution_count": null,
   "metadata": {},
   "outputs": [],
   "source": [
    "new_df[new_df['franchise_count'] == 25]"
   ]
  },
  {
   "cell_type": "code",
   "execution_count": null,
   "metadata": {},
   "outputs": [],
   "source": [
    "def split_year(row):\n",
    "    row['first_year'] = int(row['year']['first'])\n",
    "    row['last_year'] = int(row['year']['last'])\n",
    "    return row\n",
    "\n",
    "new_df = new_df.apply(split_year, axis=1)\n",
    "new_df = new_df[['franchise_name', 'type', 'rating', 'votes', 'franchise_count', 'first_year', 'last_year']]\n"
   ]
  },
  {
   "cell_type": "code",
   "execution_count": null,
   "metadata": {
    "scrolled": true
   },
   "outputs": [],
   "source": [
    "new_df[\"franchise_length\"] = new_df.apply(lambda row: row[\"last_year\"] - row[\"first_year\"] +1, axis = 1)"
   ]
  },
  {
   "cell_type": "code",
   "execution_count": null,
   "metadata": {},
   "outputs": [],
   "source": [
    "new_df.columns = new_df.columns.get_level_values(0)"
   ]
  },
  {
   "cell_type": "code",
   "execution_count": null,
   "metadata": {},
   "outputs": [],
   "source": [
    "new_df[\"franchise_length\"].describe()\n"
   ]
  },
  {
   "cell_type": "code",
   "execution_count": null,
   "metadata": {},
   "outputs": [],
   "source": [
    "new_df[\"frequency_of_releases\"] = new_df.apply(lambda row: row[\"franchise_count\"] / row[\"franchise_length\"], axis = 1)"
   ]
  },
  {
   "cell_type": "code",
   "execution_count": null,
   "metadata": {},
   "outputs": [],
   "source": [
    "new_df[new_df['type']== 'game'].frequency_of_releases.describe()"
   ]
  },
  {
   "cell_type": "code",
   "execution_count": null,
   "metadata": {},
   "outputs": [],
   "source": [
    "new_df[new_df['type']== 'movie'].frequency_of_releases.describe()"
   ]
  },
  {
   "cell_type": "code",
   "execution_count": null,
   "metadata": {},
   "outputs": [],
   "source": [
    "new_df[new_df['type']== 'game'].plot.scatter(\"last_year\", \"frequency_of_releases\")"
   ]
  },
  {
   "cell_type": "code",
   "execution_count": null,
   "metadata": {},
   "outputs": [],
   "source": [
    "new_df[new_df['type']== 'movie'].plot.scatter(\"first_year\", \"frequency_of_releases\")"
   ]
  },
  {
   "cell_type": "code",
   "execution_count": null,
   "metadata": {},
   "outputs": [],
   "source": [
    "new_df[new_df['type']== 'game'].plot.scatter(\"franchise_count\", \"average_year_gap_per_release\")"
   ]
  },
  {
   "cell_type": "code",
   "execution_count": null,
   "metadata": {},
   "outputs": [],
   "source": [
    "new_df[\"average_year_gap_per_release\"] = new_df.apply(lambda row: row[\"franchise_length\"] / row[\"franchise_count\"], axis = 1)"
   ]
  },
  {
   "cell_type": "code",
   "execution_count": null,
   "metadata": {},
   "outputs": [],
   "source": [
    "new_df[\"average_year_gap_per_release\"].describe()"
   ]
  },
  {
   "cell_type": "code",
   "execution_count": null,
   "metadata": {},
   "outputs": [],
   "source": [
    "new_df.frequency_of_releases.describe()"
   ]
  },
  {
   "cell_type": "code",
   "execution_count": null,
   "metadata": {},
   "outputs": [],
   "source": [
    "new_df[(new_df['frequency_of_releases']> 0.1) & (new_df[\"type\"] == \"movie\")].plot.scatter(\"frequency_of_releases\", 'rating')"
   ]
  },
  {
   "cell_type": "code",
   "execution_count": null,
   "metadata": {},
   "outputs": [],
   "source": [
    "new_df.sort_values('franchise_length')"
   ]
  },
  {
   "cell_type": "code",
   "execution_count": null,
   "metadata": {},
   "outputs": [],
   "source": [
    "fig, ax = plt.subplots(figsize=(10, 8))\n",
    "scatter = ax.scatter(\n",
    "    x=new_df[\"franchise_length\"],\n",
    "    y=new_df[\"frequency\"],\n",
    "    c=new_df[\"rating\"],\n",
    "    cmap=\"coolwarm\",\n",
    "    alpha=0.7\n",
    ")\n",
    "\n",
    "# Add axis labels and a colorbar\n",
    "ax.set_xlabel(\"Franchise Length (Years)\")\n",
    "ax.set_ylabel(\"Frequency\")\n",
    "cbar = fig.colorbar(scatter)\n",
    "cbar.set_label(\"Rating\")\n",
    "\n",
    "plt.show()"
   ]
  },
  {
   "cell_type": "code",
   "execution_count": null,
   "metadata": {},
   "outputs": [],
   "source": [
    "new_df[new_df['frequency_of_releases']>= 1].sort_values('frequency_of_releases', ascending = False).head(20)"
   ]
  },
  {
   "cell_type": "code",
   "execution_count": null,
   "metadata": {},
   "outputs": [],
   "source": [
    "df"
   ]
  },
  {
   "cell_type": "markdown",
   "metadata": {},
   "source": [
    "Now I have this, I can get the average rating and number of votes for each franchise, based on the number of elements in that franchise."
   ]
  },
  {
   "cell_type": "code",
   "execution_count": null,
   "metadata": {},
   "outputs": [],
   "source": [
    "bins =[2.5, 3.5, 4.5, 5.5, 6.5, 7.5, 8.5, 9.5, 10.5, 12.5, 15.5, 20.5, 250]\n",
    "new_df['franchise_count_bin'] = pd.cut(new_df['franchise_count'],bins=bins, labels=[\"3\", \"4\", \"5\", \"6\", \"7\", \"8\", \"9\", \"10\", \"11-12\", \"13-15\", \"16-20\", \"21+\"])"
   ]
  },
  {
   "cell_type": "code",
   "execution_count": null,
   "metadata": {},
   "outputs": [],
   "source": [
    "fig, ax = plt.subplots(figsize=(10,10))\n",
    "new_df['franchise_count'].value_counts().sort_index().plot(title = \"Number of elements in each franchise\", xlabel = \"Number of elements in franchise\",ylabel = \"Franchise count\")\n",
    "ax.set_xscale(\"log\")"
   ]
  },
  {
   "cell_type": "code",
   "execution_count": null,
   "metadata": {},
   "outputs": [],
   "source": [
    "new_df['franchise_count_bin'].value_counts().sort_index().plot(title = \"Number of elements in each franchise\", xlabel = \"Number of elements in franchise\",ylabel = \"Number of franchises\")"
   ]
  },
  {
   "cell_type": "code",
   "execution_count": null,
   "metadata": {},
   "outputs": [],
   "source": [
    "bins =[2.5, 3.5, 4.5, 5.5, 6.5, 7.5, 8.5, 9.5, 10.5, 12.5, 15.5, 20.5, 250]\n",
    "new_df['min_franchise_count'] = pd.cut(new_df['franchise_count'],bins=bins, labels=[\"3\", \"4\", \"5\", \"6\", \"7\", \"8\", \"9\", \"10\", \"11\", \"13\", \"16\", \"21\"])"
   ]
  },
  {
   "cell_type": "code",
   "execution_count": null,
   "metadata": {},
   "outputs": [],
   "source": [
    "new_df['min_franchise_count'] = new_df['min_franchise_count'].apply(lambda x: int(x))"
   ]
  },
  {
   "cell_type": "code",
   "execution_count": null,
   "metadata": {},
   "outputs": [],
   "source": [
    "new_df.sort_values('min_franchise_count')"
   ]
  },
  {
   "cell_type": "code",
   "execution_count": null,
   "metadata": {},
   "outputs": [],
   "source": [
    "fig, ax = plt.subplots(figsize=(10,10))\n",
    "sns.boxplot(x=\"min_franchise_count\", y=\"votes\", data=new_df, ax=ax)\n",
    "sns.regplot(x=\"min_franchise_count\", y=\"votes\", data=new_df, ax=ax)\n",
    "#new_df.boxplot(by = \"franchise_count_bin\", column = [\"rating\"], ax = ax)\n",
    "ax.set_yscale('log')\n",
    "ax.set_title(\"Franchise length vs Average Rating\")\n",
    "ax.set_xlabel(\"Releases in Franchise\")\n",
    "\n",
    "ax.set_ylabel(\"Average Votes\")\n",
    "plt.show()"
   ]
  },
  {
   "cell_type": "code",
   "execution_count": null,
   "metadata": {},
   "outputs": [],
   "source": [
    "new_df.sample()"
   ]
  },
  {
   "cell_type": "code",
   "execution_count": null,
   "metadata": {},
   "outputs": [],
   "source": [
    "fig, ax = plt.subplots(figsize=(15,10))\n",
    "sns.regplot(x=\"min_franchise_count\", y=\"rating\", data=new_df, ax=ax)\n",
    "sns.boxplot(x=\"min_franchise_count\", y=\"rating\", data=new_df, ax=ax)\n",
    "\n",
    "#new_df.boxplot(by = \"franchise_count_bin\", column = [\"rating\"], ax = ax)\n",
    "#ax.set_yscale('log')\n",
    "ax.set_title(\"Franchise length vs Average Rating\")\n",
    "ax.set_xlabel(\"Releases in Franchise\")\n",
    "ax.set_ylabel(\"Average Rating\")\n",
    "plt.show()"
   ]
  },
  {
   "cell_type": "code",
   "execution_count": null,
   "metadata": {},
   "outputs": [],
   "source": [
    "fig, ax = plt.subplots(figsize=(10,10))\n",
    "new_df[new_df[\"type\"]==\"game\"].boxplot(by = \"franchise_count_bin\", column = [\"rating\"], ax = ax)\n",
    "#ax.set_yscale('log')\n",
    "ax.set_title(\"Game Franchise length vs Average Rating\")\n",
    "ax.set_xlabel(\"Releases in Franchise\")\n",
    "ax.set_ylabel(\"Average Rating\")\n",
    "plt.show()"
   ]
  },
  {
   "cell_type": "code",
   "execution_count": null,
   "metadata": {},
   "outputs": [],
   "source": [
    "fig, ax = plt.subplots(figsize=(10,10))\n",
    "new_df[new_df[\"type\"]==\"movie\"].boxplot(by = \"franchise_count_bin\", column = [\"rating\"], ax = ax)\n",
    "#ax.set_yscale('log')\n",
    "ax.set_title(\"Movie Franchise length vs Average Rating\")\n",
    "ax.set_xlabel(\"Releases in Franchise\")\n",
    "ax.set_ylabel(\"Average Rating\")\n",
    "plt.show()"
   ]
  },
  {
   "cell_type": "code",
   "execution_count": null,
   "metadata": {},
   "outputs": [],
   "source": [
    "fig, ax = plt.subplots(figsize=(10,10))\n",
    "new_df.boxplot(by = \"franchise_count_bin\", column = [\"votes\"], ax = ax)\n",
    "ax.set_yscale('log')\n",
    "ax.set_title(\"Franchise length vs Average Number of Votes\")\n",
    "ax.set_xlabel(\"Releases in Franchise\")\n",
    "ax.set_ylabel(\"Average Number of Votes\")\n",
    "plt.show()"
   ]
  },
  {
   "cell_type": "code",
   "execution_count": null,
   "metadata": {},
   "outputs": [],
   "source": [
    "fig, ax = plt.subplots(figsize=(10,10))\n",
    "new_df[new_df[\"type\"]==\"game\"].boxplot(by = \"franchise_count_bin\", column = [\"votes\"], ax = ax)\n",
    "ax.set_yscale('log')\n",
    "ax.set_title(\"Game franchise length vs Average Number of Votes\")\n",
    "ax.set_xlabel(\"Releases in Franchise\")\n",
    "ax.set_ylabel(\"Average Number of Votes\")\n",
    "plt.show()"
   ]
  },
  {
   "cell_type": "code",
   "execution_count": null,
   "metadata": {},
   "outputs": [],
   "source": [
    "fig, ax = plt.subplots(figsize=(10,10))\n",
    "new_df[new_df[\"type\"]==\"movie\"].boxplot(by = \"franchise_count_bin\", column = [\"votes\"], ax = ax)\n",
    "ax.set_yscale('log')\n",
    "ax.set_title(\"Movie Franchise length vs Average Number of Votes\")\n",
    "ax.set_xlabel(\"Releases in Franchise\")\n",
    "ax.set_ylabel(\"Average Number of Votes\")\n",
    "plt.show()"
   ]
  },
  {
   "cell_type": "code",
   "execution_count": null,
   "metadata": {},
   "outputs": [],
   "source": [
    "new_df.boxplot(by = \"franchise_count_bin\", column = [\"votes\"], rot = 90, figsize=(10,10))"
   ]
  },
  {
   "cell_type": "code",
   "execution_count": null,
   "metadata": {},
   "outputs": [],
   "source": [
    "df.sample()"
   ]
  },
  {
   "cell_type": "code",
   "execution_count": null,
   "metadata": {},
   "outputs": [],
   "source": [
    "# Merge the mean ratings back into the original DataFrame\n",
    "df_unmerged = pd.merge(df_unmerged, df_unmerged.groupby(\"franchise_id\")[\"rating\"].mean().reset_index(), on=\"franchise_id\", suffixes=(\"\", \"_franchise_overall\"))\n",
    "\n",
    "# Rename the new column to \"franchise_overall_rating\"\n",
    "#df_unmerged = df_unmerged.rename(columns={\"rating_mean\": \"franchise_overall_rating\"})\n",
    "\n",
    "\n",
    "#df_unmerged[\"franchise_overall_rating\"] = df_unmerged.groupby(\"franchise_id\")[\"rating\"].mean()"
   ]
  },
  {
   "cell_type": "code",
   "execution_count": null,
   "metadata": {},
   "outputs": [],
   "source": [
    "df_unmerged.groupby('franchise_id')['rating_franchise_overall'].first().value_counts().sort_index()"
   ]
  },
  {
   "cell_type": "code",
   "execution_count": null,
   "metadata": {},
   "outputs": [],
   "source": []
  },
  {
   "cell_type": "code",
   "execution_count": null,
   "metadata": {},
   "outputs": [],
   "source": [
    "#bins =[1, 2.01, 3.01, 4.5, 5.5, 6.5, 7.5, 8.5, 9.5, 12.5, 15.5, 20.5, 250]\n",
    "df_unmerged['overall_franchise_rating_bins'] = pd.cut(df_unmerged['rating_franchise_overall'], bins=10)"
   ]
  },
  {
   "cell_type": "code",
   "execution_count": null,
   "metadata": {
    "scrolled": true
   },
   "outputs": [],
   "source": [
    "df_unmerged.groupby('franchise_id')['overall_franchise_rating_bins'].first().value_counts().sort_index().plot(\n",
    "    kind='bar', x='index', y='rating_franchise_overall', xlabel = \"Number of releases\", ylabel = \"Number of franchises\", legend=False)"
   ]
  },
  {
   "cell_type": "code",
   "execution_count": null,
   "metadata": {},
   "outputs": [],
   "source": [
    "df[df[\"type\"]==\"game\"].franchise_id.nunique()"
   ]
  },
  {
   "cell_type": "code",
   "execution_count": null,
   "metadata": {
    "scrolled": true
   },
   "outputs": [],
   "source": [
    "df[df[\"type\"]==\"game\"].franchise_count_bins.value_counts()"
   ]
  },
  {
   "cell_type": "code",
   "execution_count": null,
   "metadata": {},
   "outputs": [],
   "source": []
  },
  {
   "cell_type": "code",
   "execution_count": null,
   "metadata": {
    "scrolled": false
   },
   "outputs": [],
   "source": [
    "df[df[\"type\"]==\"game\"].boxplot(by = \"franchise_count_bins\", column = [\"rating_average\"], rot = 90, figsize=(10,10))"
   ]
  },
  {
   "cell_type": "code",
   "execution_count": null,
   "metadata": {
    "scrolled": true
   },
   "outputs": [],
   "source": [
    "df.plot.bar(x = df.rating_average)"
   ]
  },
  {
   "cell_type": "code",
   "execution_count": null,
   "metadata": {},
   "outputs": [],
   "source": [
    "df.loc[df[\"type\"] == \"movie\", 'z_rating'] = stats.zscore(df.loc[df[\"type\"] == \"movie\", 'rating_average'])\n",
    "df.loc[df[\"type\"] == \"game\", 'z_rating'] = stats.zscore(df.loc[df[\"type\"] == \"game\", 'rating_average'])\n",
    "df.loc[df[\"type\"] == \"movie\", 'z_votes'] = stats.zscore(df.loc[df[\"type\"] == \"movie\", 'votes_average'])\n",
    "df.loc[df[\"type\"] == \"game\", 'z_votes'] = stats.zscore(df.loc[df[\"type\"] == \"game\", 'votes_average'])"
   ]
  },
  {
   "cell_type": "code",
   "execution_count": null,
   "metadata": {
    "scrolled": true
   },
   "outputs": [],
   "source": [
    "df"
   ]
  },
  {
   "cell_type": "markdown",
   "metadata": {},
   "source": [
    "Getting an overall picture of our data:"
   ]
  },
  {
   "cell_type": "code",
   "execution_count": null,
   "metadata": {},
   "outputs": [],
   "source": [
    "df[df[\"type\"] == \"game\"].votes_average.describe()"
   ]
  },
  {
   "cell_type": "code",
   "execution_count": null,
   "metadata": {},
   "outputs": [],
   "source": [
    "df[df[\"type\"] == \"movie\"].votes_average.describe()"
   ]
  },
  {
   "cell_type": "code",
   "execution_count": null,
   "metadata": {},
   "outputs": [],
   "source": [
    "df.rating_average.describe()"
   ]
  },
  {
   "cell_type": "code",
   "execution_count": null,
   "metadata": {},
   "outputs": [],
   "source": [
    "#df.groupby(\"type\").year_diff.boxplot(rot = 90)\n",
    "#df.groupby(\"type\")[[\"year_diff\"]].boxplot(rot=90)\n",
    "df.groupby(\"type\").plot(kind=\"box\", rot=90)\n"
   ]
  },
  {
   "cell_type": "code",
   "execution_count": null,
   "metadata": {},
   "outputs": [],
   "source": []
  },
  {
   "cell_type": "code",
   "execution_count": null,
   "metadata": {},
   "outputs": [],
   "source": []
  }
 ],
 "metadata": {
  "kernelspec": {
   "display_name": "Python 3",
   "language": "python",
   "name": "python3"
  },
  "language_info": {
   "codemirror_mode": {
    "name": "ipython",
    "version": 3
   },
   "file_extension": ".py",
   "mimetype": "text/x-python",
   "name": "python",
   "nbconvert_exporter": "python",
   "pygments_lexer": "ipython3",
   "version": "3.8.5"
  }
 },
 "nbformat": 4,
 "nbformat_minor": 4
}
