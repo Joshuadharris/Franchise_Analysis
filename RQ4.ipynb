{
 "cells": [
  {
   "cell_type": "code",
   "execution_count": 1,
   "metadata": {},
   "outputs": [],
   "source": [
    "import pandas as pd\n",
    "from scipy import stats\n",
    "import matplotlib.pyplot as plt\n",
    "import ast\n",
    "import seaborn as sns"
   ]
  },
  {
   "cell_type": "code",
   "execution_count": 2,
   "metadata": {},
   "outputs": [
    {
     "name": "stderr",
     "output_type": "stream",
     "text": [
      "D:\\Programs\\Anaconda3\\lib\\site-packages\\IPython\\core\\interactiveshell.py:3146: DtypeWarning: Columns (1,2,7,14,15,16,17) have mixed types.Specify dtype option on import or set low_memory=False.\n",
      "  has_raised = await self.run_ast_nodes(code_ast.body, cell_name,\n"
     ]
    }
   ],
   "source": [
    "df = pd.read_csv(\"franchises_complete_dataframe.csv\", index_col = 0)"
   ]
  },
  {
   "cell_type": "markdown",
   "metadata": {},
   "source": [
    "When considering comparisons of franchise vs non-franchise, it makes sense to get a clear picture of th data first:"
   ]
  },
  {
   "cell_type": "code",
   "execution_count": 3,
   "metadata": {
    "scrolled": true
   },
   "outputs": [
    {
     "data": {
      "text/html": [
       "<div>\n",
       "<style scoped>\n",
       "    .dataframe tbody tr th:only-of-type {\n",
       "        vertical-align: middle;\n",
       "    }\n",
       "\n",
       "    .dataframe tbody tr th {\n",
       "        vertical-align: top;\n",
       "    }\n",
       "\n",
       "    .dataframe thead th {\n",
       "        text-align: right;\n",
       "    }\n",
       "</style>\n",
       "<table border=\"1\" class=\"dataframe\">\n",
       "  <thead>\n",
       "    <tr style=\"text-align: right;\">\n",
       "      <th></th>\n",
       "      <th>franchise_name</th>\n",
       "      <th>franchise_id</th>\n",
       "      <th>tconst</th>\n",
       "      <th>title</th>\n",
       "      <th>year</th>\n",
       "      <th>is_adult</th>\n",
       "      <th>runtime</th>\n",
       "      <th>genres</th>\n",
       "      <th>rating</th>\n",
       "      <th>votes</th>\n",
       "      <th>type</th>\n",
       "      <th>game_id</th>\n",
       "      <th>best_fit_ratio</th>\n",
       "      <th>developers</th>\n",
       "      <th>platforms</th>\n",
       "      <th>publishers</th>\n",
       "      <th>age_rating</th>\n",
       "      <th>franchise_count</th>\n",
       "    </tr>\n",
       "  </thead>\n",
       "  <tbody>\n",
       "    <tr>\n",
       "      <th>0</th>\n",
       "      <td>Coffin Joe</td>\n",
       "      <td>f1</td>\n",
       "      <td>tt0060380</td>\n",
       "      <td>esta noite encarnarei no teu cadáver</td>\n",
       "      <td>1967</td>\n",
       "      <td>0</td>\n",
       "      <td>108</td>\n",
       "      <td>['Horror']</td>\n",
       "      <td>7.0</td>\n",
       "      <td>1952.0</td>\n",
       "      <td>movie</td>\n",
       "      <td>NaN</td>\n",
       "      <td>NaN</td>\n",
       "      <td>NaN</td>\n",
       "      <td>NaN</td>\n",
       "      <td>NaN</td>\n",
       "      <td>NaN</td>\n",
       "      <td>10.0</td>\n",
       "    </tr>\n",
       "    <tr>\n",
       "      <th>1</th>\n",
       "      <td>Coffin' Joe</td>\n",
       "      <td>f822</td>\n",
       "      <td>tt0060380</td>\n",
       "      <td>esta noite encarnarei no teu cadáver</td>\n",
       "      <td>1967</td>\n",
       "      <td>0</td>\n",
       "      <td>108</td>\n",
       "      <td>['Horror']</td>\n",
       "      <td>7.0</td>\n",
       "      <td>1952.0</td>\n",
       "      <td>movie</td>\n",
       "      <td>NaN</td>\n",
       "      <td>NaN</td>\n",
       "      <td>NaN</td>\n",
       "      <td>NaN</td>\n",
       "      <td>NaN</td>\n",
       "      <td>NaN</td>\n",
       "      <td>3.0</td>\n",
       "    </tr>\n",
       "    <tr>\n",
       "      <th>2</th>\n",
       "      <td>Coffin Joe</td>\n",
       "      <td>f1</td>\n",
       "      <td>tt0062943</td>\n",
       "      <td>the strange world of coffin joe</td>\n",
       "      <td>1968</td>\n",
       "      <td>0</td>\n",
       "      <td>80</td>\n",
       "      <td>['Horror']</td>\n",
       "      <td>6.3</td>\n",
       "      <td>653.0</td>\n",
       "      <td>movie</td>\n",
       "      <td>NaN</td>\n",
       "      <td>NaN</td>\n",
       "      <td>NaN</td>\n",
       "      <td>NaN</td>\n",
       "      <td>NaN</td>\n",
       "      <td>NaN</td>\n",
       "      <td>10.0</td>\n",
       "    </tr>\n",
       "    <tr>\n",
       "      <th>3</th>\n",
       "      <td>Coffin Joe</td>\n",
       "      <td>f1</td>\n",
       "      <td>tt0062690</td>\n",
       "      <td>awakening of the beast</td>\n",
       "      <td>1970</td>\n",
       "      <td>0</td>\n",
       "      <td>93</td>\n",
       "      <td>['Drama,Horror']</td>\n",
       "      <td>5.8</td>\n",
       "      <td>1208.0</td>\n",
       "      <td>movie</td>\n",
       "      <td>NaN</td>\n",
       "      <td>NaN</td>\n",
       "      <td>NaN</td>\n",
       "      <td>NaN</td>\n",
       "      <td>NaN</td>\n",
       "      <td>NaN</td>\n",
       "      <td>10.0</td>\n",
       "    </tr>\n",
       "    <tr>\n",
       "      <th>4</th>\n",
       "      <td>Coffin Joe</td>\n",
       "      <td>f1</td>\n",
       "      <td>tt0071479</td>\n",
       "      <td>exorcismo negro</td>\n",
       "      <td>1974</td>\n",
       "      <td>0</td>\n",
       "      <td>100</td>\n",
       "      <td>['Horror']</td>\n",
       "      <td>6.0</td>\n",
       "      <td>274.0</td>\n",
       "      <td>movie</td>\n",
       "      <td>NaN</td>\n",
       "      <td>NaN</td>\n",
       "      <td>NaN</td>\n",
       "      <td>NaN</td>\n",
       "      <td>NaN</td>\n",
       "      <td>NaN</td>\n",
       "      <td>10.0</td>\n",
       "    </tr>\n",
       "    <tr>\n",
       "      <th>...</th>\n",
       "      <td>...</td>\n",
       "      <td>...</td>\n",
       "      <td>...</td>\n",
       "      <td>...</td>\n",
       "      <td>...</td>\n",
       "      <td>...</td>\n",
       "      <td>...</td>\n",
       "      <td>...</td>\n",
       "      <td>...</td>\n",
       "      <td>...</td>\n",
       "      <td>...</td>\n",
       "      <td>...</td>\n",
       "      <td>...</td>\n",
       "      <td>...</td>\n",
       "      <td>...</td>\n",
       "      <td>...</td>\n",
       "      <td>...</td>\n",
       "      <td>...</td>\n",
       "    </tr>\n",
       "    <tr>\n",
       "      <th>16985</th>\n",
       "      <td>NaN</td>\n",
       "      <td>NaN</td>\n",
       "      <td>tt9888864</td>\n",
       "      <td>Infernal</td>\n",
       "      <td>2007</td>\n",
       "      <td>0</td>\n",
       "      <td>NaN</td>\n",
       "      <td>['Action']</td>\n",
       "      <td>6.0</td>\n",
       "      <td>17.0</td>\n",
       "      <td>game</td>\n",
       "      <td>NaN</td>\n",
       "      <td>90.0</td>\n",
       "      <td>NaN</td>\n",
       "      <td>NaN</td>\n",
       "      <td>NaN</td>\n",
       "      <td>NaN</td>\n",
       "      <td>NaN</td>\n",
       "    </tr>\n",
       "    <tr>\n",
       "      <th>16986</th>\n",
       "      <td>NaN</td>\n",
       "      <td>NaN</td>\n",
       "      <td>tt9892552</td>\n",
       "      <td>Spiral Splatter</td>\n",
       "      <td>2017</td>\n",
       "      <td>0</td>\n",
       "      <td>NaN</td>\n",
       "      <td>['Action']</td>\n",
       "      <td>2.0</td>\n",
       "      <td>10.0</td>\n",
       "      <td>game</td>\n",
       "      <td>NaN</td>\n",
       "      <td>85.5</td>\n",
       "      <td>NaN</td>\n",
       "      <td>NaN</td>\n",
       "      <td>NaN</td>\n",
       "      <td>NaN</td>\n",
       "      <td>NaN</td>\n",
       "    </tr>\n",
       "    <tr>\n",
       "      <th>16987</th>\n",
       "      <td>NaN</td>\n",
       "      <td>NaN</td>\n",
       "      <td>tt9893348</td>\n",
       "      <td>Alien: Covenant In Utero VR Experience</td>\n",
       "      <td>2017</td>\n",
       "      <td>0</td>\n",
       "      <td>NaN</td>\n",
       "      <td>['Sci-Fi']</td>\n",
       "      <td>6.2</td>\n",
       "      <td>17.0</td>\n",
       "      <td>game</td>\n",
       "      <td>NaN</td>\n",
       "      <td>90.0</td>\n",
       "      <td>NaN</td>\n",
       "      <td>NaN</td>\n",
       "      <td>NaN</td>\n",
       "      <td>NaN</td>\n",
       "      <td>NaN</td>\n",
       "    </tr>\n",
       "    <tr>\n",
       "      <th>16988</th>\n",
       "      <td>LEGO</td>\n",
       "      <td>3025-448</td>\n",
       "      <td>tt9893804</td>\n",
       "      <td>The Lego Movie 2 Videogame</td>\n",
       "      <td>2019</td>\n",
       "      <td>0</td>\n",
       "      <td>NaN</td>\n",
       "      <td>['Animation', 'Adventure', 'Family', 'Action-A...</td>\n",
       "      <td>5.5</td>\n",
       "      <td>156.0</td>\n",
       "      <td>game</td>\n",
       "      <td>22035.0</td>\n",
       "      <td>100.0</td>\n",
       "      <td>['TT Games']</td>\n",
       "      <td>['PC', 'Xbox One', 'PlayStation 4', 'Nintendo ...</td>\n",
       "      <td>['WB Games']</td>\n",
       "      <td>NaN</td>\n",
       "      <td>56.0</td>\n",
       "    </tr>\n",
       "    <tr>\n",
       "      <th>16989</th>\n",
       "      <td>NaN</td>\n",
       "      <td>NaN</td>\n",
       "      <td>tt9910948</td>\n",
       "      <td>Pokémon Sword</td>\n",
       "      <td>2019</td>\n",
       "      <td>0</td>\n",
       "      <td>NaN</td>\n",
       "      <td>['Adventure', 'Action', 'Fantasy']</td>\n",
       "      <td>7.2</td>\n",
       "      <td>805.0</td>\n",
       "      <td>game</td>\n",
       "      <td>NaN</td>\n",
       "      <td>90.0</td>\n",
       "      <td>NaN</td>\n",
       "      <td>NaN</td>\n",
       "      <td>NaN</td>\n",
       "      <td>NaN</td>\n",
       "      <td>NaN</td>\n",
       "    </tr>\n",
       "  </tbody>\n",
       "</table>\n",
       "<p>307320 rows × 18 columns</p>\n",
       "</div>"
      ],
      "text/plain": [
       "      franchise_name franchise_id     tconst  \\\n",
       "0         Coffin Joe           f1  tt0060380   \n",
       "1        Coffin' Joe         f822  tt0060380   \n",
       "2         Coffin Joe           f1  tt0062943   \n",
       "3         Coffin Joe           f1  tt0062690   \n",
       "4         Coffin Joe           f1  tt0071479   \n",
       "...              ...          ...        ...   \n",
       "16985            NaN          NaN  tt9888864   \n",
       "16986            NaN          NaN  tt9892552   \n",
       "16987            NaN          NaN  tt9893348   \n",
       "16988           LEGO     3025-448  tt9893804   \n",
       "16989            NaN          NaN  tt9910948   \n",
       "\n",
       "                                        title  year  is_adult runtime  \\\n",
       "0        esta noite encarnarei no teu cadáver  1967         0     108   \n",
       "1        esta noite encarnarei no teu cadáver  1967         0     108   \n",
       "2             the strange world of coffin joe  1968         0      80   \n",
       "3                      awakening of the beast  1970         0      93   \n",
       "4                             exorcismo negro  1974         0     100   \n",
       "...                                       ...   ...       ...     ...   \n",
       "16985                                Infernal  2007         0     NaN   \n",
       "16986                         Spiral Splatter  2017         0     NaN   \n",
       "16987  Alien: Covenant In Utero VR Experience  2017         0     NaN   \n",
       "16988              The Lego Movie 2 Videogame  2019         0     NaN   \n",
       "16989                           Pokémon Sword  2019         0     NaN   \n",
       "\n",
       "                                                  genres  rating   votes  \\\n",
       "0                                             ['Horror']     7.0  1952.0   \n",
       "1                                             ['Horror']     7.0  1952.0   \n",
       "2                                             ['Horror']     6.3   653.0   \n",
       "3                                       ['Drama,Horror']     5.8  1208.0   \n",
       "4                                             ['Horror']     6.0   274.0   \n",
       "...                                                  ...     ...     ...   \n",
       "16985                                         ['Action']     6.0    17.0   \n",
       "16986                                         ['Action']     2.0    10.0   \n",
       "16987                                         ['Sci-Fi']     6.2    17.0   \n",
       "16988  ['Animation', 'Adventure', 'Family', 'Action-A...     5.5   156.0   \n",
       "16989                 ['Adventure', 'Action', 'Fantasy']     7.2   805.0   \n",
       "\n",
       "        type  game_id  best_fit_ratio    developers  \\\n",
       "0      movie      NaN             NaN           NaN   \n",
       "1      movie      NaN             NaN           NaN   \n",
       "2      movie      NaN             NaN           NaN   \n",
       "3      movie      NaN             NaN           NaN   \n",
       "4      movie      NaN             NaN           NaN   \n",
       "...      ...      ...             ...           ...   \n",
       "16985   game      NaN            90.0           NaN   \n",
       "16986   game      NaN            85.5           NaN   \n",
       "16987   game      NaN            90.0           NaN   \n",
       "16988   game  22035.0           100.0  ['TT Games']   \n",
       "16989   game      NaN            90.0           NaN   \n",
       "\n",
       "                                               platforms    publishers  \\\n",
       "0                                                    NaN           NaN   \n",
       "1                                                    NaN           NaN   \n",
       "2                                                    NaN           NaN   \n",
       "3                                                    NaN           NaN   \n",
       "4                                                    NaN           NaN   \n",
       "...                                                  ...           ...   \n",
       "16985                                                NaN           NaN   \n",
       "16986                                                NaN           NaN   \n",
       "16987                                                NaN           NaN   \n",
       "16988  ['PC', 'Xbox One', 'PlayStation 4', 'Nintendo ...  ['WB Games']   \n",
       "16989                                                NaN           NaN   \n",
       "\n",
       "      age_rating  franchise_count  \n",
       "0            NaN             10.0  \n",
       "1            NaN              3.0  \n",
       "2            NaN             10.0  \n",
       "3            NaN             10.0  \n",
       "4            NaN             10.0  \n",
       "...          ...              ...  \n",
       "16985        NaN              NaN  \n",
       "16986        NaN              NaN  \n",
       "16987        NaN              NaN  \n",
       "16988        NaN             56.0  \n",
       "16989        NaN              NaN  \n",
       "\n",
       "[307320 rows x 18 columns]"
      ]
     },
     "execution_count": 3,
     "metadata": {},
     "output_type": "execute_result"
    }
   ],
   "source": [
    "df"
   ]
  },
  {
   "cell_type": "markdown",
   "metadata": {},
   "source": [
    "We want the number of unique tconsts as this ensures we're not counting the same release twice"
   ]
  },
  {
   "cell_type": "code",
   "execution_count": 4,
   "metadata": {},
   "outputs": [
    {
     "data": {
      "text/plain": [
       "304527"
      ]
     },
     "execution_count": 4,
     "metadata": {},
     "output_type": "execute_result"
    }
   ],
   "source": [
    "df.tconst.nunique()"
   ]
  },
  {
   "cell_type": "code",
   "execution_count": 5,
   "metadata": {
    "scrolled": true
   },
   "outputs": [
    {
     "data": {
      "image/png": "[encoded data removed]",
      "text/plain": [
       "<Figure size 432x288 with 1 Axes>"
      ]
     },
     "metadata": {},
     "output_type": "display_data"
    }
   ],
   "source": [
    "pie = plt.pie([df[~df[\"franchise_id\"].isna()].tconst.nunique(), df[df[\"franchise_id\"].isna()].tconst.nunique()])\n",
    "plt.legend(pie[0], [\"Releases in a franchise\", \"Releases not in franchises\"], bbox_to_anchor=(1,0.9))\n",
    "plt.title(\"Division of the dataset\")\n",
    "plt.show()"
   ]
  },
  {
   "cell_type": "markdown",
   "metadata": {},
   "source": [
    "Another way to look at this would be considering movies and games as well"
   ]
  },
  {
   "cell_type": "code",
   "execution_count": 6,
   "metadata": {},
   "outputs": [
    {
     "data": {
      "image/png": "[encoded data removed]",
      "text/plain": [
       "<Figure size 432x288 with 1 Axes>"
      ]
     },
     "metadata": {},
     "output_type": "display_data"
    }
   ],
   "source": [
    "pie = plt.pie([df[(df[\"franchise_id\"].isna()) & (df[\"type\"]==\"movie\")].tconst.nunique(),\n",
    "               df[(df[\"franchise_id\"].isna()) & (df[\"type\"]==\"game\")].tconst.nunique(),\n",
    "               df[(~df[\"franchise_id\"].isna()) & (df[\"type\"]==\"movie\")].tconst.nunique(),\n",
    "               df[(~df[\"franchise_id\"].isna()) & (df[\"type\"]==\"game\")].tconst.nunique()\n",
    "              ])\n",
    "plt.legend(pie[0], [\"Movies not in a franchise\", \"Games not in a franchise\", \"Movies in franchises\", \"Games in franchises\"], bbox_to_anchor=(1,0.9))\n",
    "plt.title(\"Division of the dataset\")\n",
    "plt.show()"
   ]
  },
  {
   "cell_type": "code",
   "execution_count": 7,
   "metadata": {},
   "outputs": [
    {
     "name": "stdout",
     "output_type": "stream",
     "text": [
      "Average non-franchised movie votes: 285010\n",
      "Average franchised movie votes: 5144\n",
      "Average non-franchised game votes: 7102\n",
      "Average franchised game votes: 7566\n",
      "\n"
     ]
    }
   ],
   "source": [
    "print(\"Average non-franchised movie votes: {}\\nAverage franchised movie votes: {}\\nAverage non-franchised game votes: {}\\nAverage franchised game votes: {}\\n\".format(   \n",
    "df[(df[\"franchise_id\"].isna()) & (df[\"type\"]==\"movie\")].tconst.nunique(),\n",
    "df[(~df[\"franchise_id\"].isna()) & (df[\"type\"]==\"movie\")].tconst.nunique(),\n",
    "df[(df[\"franchise_id\"].isna()) & (df[\"type\"]==\"game\")].tconst.nunique(),\n",
    "df[(~df[\"franchise_id\"].isna()) & (df[\"type\"]==\"game\")].tconst.nunique()))"
   ]
  },
  {
   "cell_type": "markdown",
   "metadata": {},
   "source": [
    "We can get the average vote and rating for each subsection of our data:"
   ]
  },
  {
   "cell_type": "code",
   "execution_count": 8,
   "metadata": {},
   "outputs": [
    {
     "name": "stdout",
     "output_type": "stream",
     "text": [
      "       Movies (No Franchise)  Movies (Franchise)  Games (No Franchise)  \\\n",
      "count           2.850130e+05        5.320000e+03           7122.000000   \n",
      "mean            2.826620e+03        5.028693e+04            141.077506   \n",
      "std             2.821814e+04        1.679721e+05            726.286436   \n",
      "min             5.000000e+00        5.000000e+00              5.000000   \n",
      "25%             1.800000e+01        1.270000e+02             11.000000   \n",
      "50%             5.800000e+01        7.920000e+02             21.000000   \n",
      "75%             2.920000e+02        8.711250e+03             55.750000   \n",
      "max             2.727553e+06        2.700528e+06          24108.000000   \n",
      "\n",
      "       Games (Franchise)  \n",
      "count        9865.000000  \n",
      "mean          587.798784  \n",
      "std          2364.846129  \n",
      "min             5.000000  \n",
      "25%            23.000000  \n",
      "50%            68.000000  \n",
      "75%           271.000000  \n",
      "max         69750.000000  \n"
     ]
    }
   ],
   "source": [
    "table_dict = {\"Movies (No Franchise)\": df[(df[\"franchise_id\"].isna()) & (df[\"type\"]==\"movie\")].votes.describe(), \\\n",
    "              \"Movies (Franchise)\": df[(~df[\"franchise_id\"].isna()) & (df[\"type\"]==\"movie\")].votes.describe(), \\\n",
    "              \"Games (No Franchise)\": df[(df[\"franchise_id\"].isna()) & (df[\"type\"]==\"game\")].votes.describe(), \\\n",
    "              \"Games (Franchise)\": df[(~df[\"franchise_id\"].isna()) & (df[\"type\"]==\"game\")].votes.describe()}\n",
    "\n",
    "table = pd.concat(table_dict, axis=1)\n",
    "\n",
    "print(table)"
   ]
  },
  {
   "cell_type": "markdown",
   "metadata": {},
   "source": [
    "## Are more new small franchises appearing?"
   ]
  },
  {
   "cell_type": "code",
   "execution_count": null,
   "metadata": {},
   "outputs": [],
   "source": [
    "df2 = df.sort_values('year').groupby('franchise_id').agg({\n",
    "    'franchise_name' : 'first',\n",
    "    'type': 'first',\n",
    "    'rating': 'mean',\n",
    "    'votes': 'mean',\n",
    "    'franchise_count': 'first',\n",
    "    'year': ['first', 'last']\n",
    "})"
   ]
  },
  {
   "cell_type": "code",
   "execution_count": null,
   "metadata": {},
   "outputs": [],
   "source": [
    "plot timeline. each franchise gets line from start year to end year."
   ]
  },
  {
   "cell_type": "code",
   "execution_count": null,
   "metadata": {},
   "outputs": [],
   "source": [
    "Create dictionary with total for each year, grouped by type"
   ]
  },
  {
   "cell_type": "code",
   "execution_count": 25,
   "metadata": {},
   "outputs": [
    {
     "name": "stderr",
     "output_type": "stream",
     "text": [
      "D:\\Programs\\Anaconda3\\lib\\site-packages\\numpy\\core\\_asarray.py:136: VisibleDeprecationWarning: Creating an ndarray from ragged nested sequences (which is a list-or-tuple of lists-or-tuples-or ndarrays with different lengths or shapes) is deprecated. If you meant to do this, you must specify 'dtype=object' when creating the ndarray\n",
      "  return array(a, dtype, copy=False, order=order, subok=True)\n"
     ]
    },
    {
     "ename": "TypeError",
     "evalue": "ufunc 'isfinite' not supported for the input types, and the inputs could not be safely coerced to any supported types according to the casting rule ''safe''",
     "output_type": "error",
     "traceback": [
      "\u001b[1;31m---------------------------------------------------------------------------\u001b[0m",
      "\u001b[1;31mTypeError\u001b[0m                                 Traceback (most recent call last)",
      "\u001b[1;32m<ipython-input-25-6cb2cc6ec89b>\u001b[0m in \u001b[0;36m<module>\u001b[1;34m\u001b[0m\n\u001b[0;32m      1\u001b[0m \u001b[0mfig\u001b[0m\u001b[1;33m,\u001b[0m \u001b[0max\u001b[0m \u001b[1;33m=\u001b[0m \u001b[0mplt\u001b[0m\u001b[1;33m.\u001b[0m\u001b[0msubplots\u001b[0m\u001b[1;33m(\u001b[0m\u001b[1;33m)\u001b[0m\u001b[1;33m\u001b[0m\u001b[1;33m\u001b[0m\u001b[0m\n\u001b[1;32m----> 2\u001b[1;33m ax.stackplot(df.year, df.groupby('year')['type'],\n\u001b[0m\u001b[0;32m      3\u001b[0m              alpha=0.)\n\u001b[0;32m      4\u001b[0m \u001b[0mplt\u001b[0m\u001b[1;33m.\u001b[0m\u001b[0mshow\u001b[0m\u001b[1;33m(\u001b[0m\u001b[1;33m)\u001b[0m\u001b[1;33m\u001b[0m\u001b[1;33m\u001b[0m\u001b[0m\n",
      "\u001b[1;32mD:\\Programs\\Anaconda3\\lib\\site-packages\\matplotlib\\__init__.py\u001b[0m in \u001b[0;36minner\u001b[1;34m(ax, data, *args, **kwargs)\u001b[0m\n\u001b[0;32m   1436\u001b[0m     \u001b[1;32mdef\u001b[0m \u001b[0minner\u001b[0m\u001b[1;33m(\u001b[0m\u001b[0max\u001b[0m\u001b[1;33m,\u001b[0m \u001b[1;33m*\u001b[0m\u001b[0margs\u001b[0m\u001b[1;33m,\u001b[0m \u001b[0mdata\u001b[0m\u001b[1;33m=\u001b[0m\u001b[1;32mNone\u001b[0m\u001b[1;33m,\u001b[0m \u001b[1;33m**\u001b[0m\u001b[0mkwargs\u001b[0m\u001b[1;33m)\u001b[0m\u001b[1;33m:\u001b[0m\u001b[1;33m\u001b[0m\u001b[1;33m\u001b[0m\u001b[0m\n\u001b[0;32m   1437\u001b[0m         \u001b[1;32mif\u001b[0m \u001b[0mdata\u001b[0m \u001b[1;32mis\u001b[0m \u001b[1;32mNone\u001b[0m\u001b[1;33m:\u001b[0m\u001b[1;33m\u001b[0m\u001b[1;33m\u001b[0m\u001b[0m\n\u001b[1;32m-> 1438\u001b[1;33m             \u001b[1;32mreturn\u001b[0m \u001b[0mfunc\u001b[0m\u001b[1;33m(\u001b[0m\u001b[0max\u001b[0m\u001b[1;33m,\u001b[0m \u001b[1;33m*\u001b[0m\u001b[0mmap\u001b[0m\u001b[1;33m(\u001b[0m\u001b[0msanitize_sequence\u001b[0m\u001b[1;33m,\u001b[0m \u001b[0margs\u001b[0m\u001b[1;33m)\u001b[0m\u001b[1;33m,\u001b[0m \u001b[1;33m**\u001b[0m\u001b[0mkwargs\u001b[0m\u001b[1;33m)\u001b[0m\u001b[1;33m\u001b[0m\u001b[1;33m\u001b[0m\u001b[0m\n\u001b[0m\u001b[0;32m   1439\u001b[0m \u001b[1;33m\u001b[0m\u001b[0m\n\u001b[0;32m   1440\u001b[0m         \u001b[0mbound\u001b[0m \u001b[1;33m=\u001b[0m \u001b[0mnew_sig\u001b[0m\u001b[1;33m.\u001b[0m\u001b[0mbind\u001b[0m\u001b[1;33m(\u001b[0m\u001b[0max\u001b[0m\u001b[1;33m,\u001b[0m \u001b[1;33m*\u001b[0m\u001b[0margs\u001b[0m\u001b[1;33m,\u001b[0m \u001b[1;33m**\u001b[0m\u001b[0mkwargs\u001b[0m\u001b[1;33m)\u001b[0m\u001b[1;33m\u001b[0m\u001b[1;33m\u001b[0m\u001b[0m\n",
      "\u001b[1;32mD:\\Programs\\Anaconda3\\lib\\site-packages\\matplotlib\\stackplot.py\u001b[0m in \u001b[0;36mstackplot\u001b[1;34m(axes, x, labels, colors, baseline, *args, **kwargs)\u001b[0m\n\u001b[0;32m    103\u001b[0m     \u001b[1;31m# Color between x = 0 and the first array.\u001b[0m\u001b[1;33m\u001b[0m\u001b[1;33m\u001b[0m\u001b[1;33m\u001b[0m\u001b[0m\n\u001b[0;32m    104\u001b[0m     \u001b[0mcolor\u001b[0m \u001b[1;33m=\u001b[0m \u001b[0maxes\u001b[0m\u001b[1;33m.\u001b[0m\u001b[0m_get_lines\u001b[0m\u001b[1;33m.\u001b[0m\u001b[0mget_next_color\u001b[0m\u001b[1;33m(\u001b[0m\u001b[1;33m)\u001b[0m\u001b[1;33m\u001b[0m\u001b[1;33m\u001b[0m\u001b[0m\n\u001b[1;32m--> 105\u001b[1;33m     coll = axes.fill_between(x, first_line, stack[0, :],\n\u001b[0m\u001b[0;32m    106\u001b[0m                              \u001b[0mfacecolor\u001b[0m\u001b[1;33m=\u001b[0m\u001b[0mcolor\u001b[0m\u001b[1;33m,\u001b[0m \u001b[0mlabel\u001b[0m\u001b[1;33m=\u001b[0m\u001b[0mnext\u001b[0m\u001b[1;33m(\u001b[0m\u001b[0mlabels\u001b[0m\u001b[1;33m,\u001b[0m \u001b[1;32mNone\u001b[0m\u001b[1;33m)\u001b[0m\u001b[1;33m,\u001b[0m\u001b[1;33m\u001b[0m\u001b[1;33m\u001b[0m\u001b[0m\n\u001b[0;32m    107\u001b[0m                              **kwargs)\n",
      "\u001b[1;32mD:\\Programs\\Anaconda3\\lib\\site-packages\\matplotlib\\__init__.py\u001b[0m in \u001b[0;36minner\u001b[1;34m(ax, data, *args, **kwargs)\u001b[0m\n\u001b[0;32m   1436\u001b[0m     \u001b[1;32mdef\u001b[0m \u001b[0minner\u001b[0m\u001b[1;33m(\u001b[0m\u001b[0max\u001b[0m\u001b[1;33m,\u001b[0m \u001b[1;33m*\u001b[0m\u001b[0margs\u001b[0m\u001b[1;33m,\u001b[0m \u001b[0mdata\u001b[0m\u001b[1;33m=\u001b[0m\u001b[1;32mNone\u001b[0m\u001b[1;33m,\u001b[0m \u001b[1;33m**\u001b[0m\u001b[0mkwargs\u001b[0m\u001b[1;33m)\u001b[0m\u001b[1;33m:\u001b[0m\u001b[1;33m\u001b[0m\u001b[1;33m\u001b[0m\u001b[0m\n\u001b[0;32m   1437\u001b[0m         \u001b[1;32mif\u001b[0m \u001b[0mdata\u001b[0m \u001b[1;32mis\u001b[0m \u001b[1;32mNone\u001b[0m\u001b[1;33m:\u001b[0m\u001b[1;33m\u001b[0m\u001b[1;33m\u001b[0m\u001b[0m\n\u001b[1;32m-> 1438\u001b[1;33m             \u001b[1;32mreturn\u001b[0m \u001b[0mfunc\u001b[0m\u001b[1;33m(\u001b[0m\u001b[0max\u001b[0m\u001b[1;33m,\u001b[0m \u001b[1;33m*\u001b[0m\u001b[0mmap\u001b[0m\u001b[1;33m(\u001b[0m\u001b[0msanitize_sequence\u001b[0m\u001b[1;33m,\u001b[0m \u001b[0margs\u001b[0m\u001b[1;33m)\u001b[0m\u001b[1;33m,\u001b[0m \u001b[1;33m**\u001b[0m\u001b[0mkwargs\u001b[0m\u001b[1;33m)\u001b[0m\u001b[1;33m\u001b[0m\u001b[1;33m\u001b[0m\u001b[0m\n\u001b[0m\u001b[0;32m   1439\u001b[0m \u001b[1;33m\u001b[0m\u001b[0m\n\u001b[0;32m   1440\u001b[0m         \u001b[0mbound\u001b[0m \u001b[1;33m=\u001b[0m \u001b[0mnew_sig\u001b[0m\u001b[1;33m.\u001b[0m\u001b[0mbind\u001b[0m\u001b[1;33m(\u001b[0m\u001b[0max\u001b[0m\u001b[1;33m,\u001b[0m \u001b[1;33m*\u001b[0m\u001b[0margs\u001b[0m\u001b[1;33m,\u001b[0m \u001b[1;33m**\u001b[0m\u001b[0mkwargs\u001b[0m\u001b[1;33m)\u001b[0m\u001b[1;33m\u001b[0m\u001b[1;33m\u001b[0m\u001b[0m\n",
      "\u001b[1;32mD:\\Programs\\Anaconda3\\lib\\site-packages\\matplotlib\\axes\\_axes.py\u001b[0m in \u001b[0;36mfill_between\u001b[1;34m(self, x, y1, y2, where, interpolate, step, **kwargs)\u001b[0m\n\u001b[0;32m   5299\u001b[0m     def fill_between(self, x, y1, y2=0, where=None, interpolate=False,\n\u001b[0;32m   5300\u001b[0m                      step=None, **kwargs):\n\u001b[1;32m-> 5301\u001b[1;33m         return self._fill_between_x_or_y(\n\u001b[0m\u001b[0;32m   5302\u001b[0m             \u001b[1;34m\"x\"\u001b[0m\u001b[1;33m,\u001b[0m \u001b[0mx\u001b[0m\u001b[1;33m,\u001b[0m \u001b[0my1\u001b[0m\u001b[1;33m,\u001b[0m \u001b[0my2\u001b[0m\u001b[1;33m,\u001b[0m\u001b[1;33m\u001b[0m\u001b[1;33m\u001b[0m\u001b[0m\n\u001b[0;32m   5303\u001b[0m             where=where, interpolate=interpolate, step=step, **kwargs)\n",
      "\u001b[1;32mD:\\Programs\\Anaconda3\\lib\\site-packages\\matplotlib\\axes\\_axes.py\u001b[0m in \u001b[0;36m_fill_between_x_or_y\u001b[1;34m(self, ind_dir, ind, dep1, dep2, where, interpolate, step, **kwargs)\u001b[0m\n\u001b[0;32m   5204\u001b[0m         dep1 = ma.masked_invalid(\n\u001b[0;32m   5205\u001b[0m             getattr(self, f\"convert_{dep_dir}units\")(dep1))\n\u001b[1;32m-> 5206\u001b[1;33m         dep2 = ma.masked_invalid(\n\u001b[0m\u001b[0;32m   5207\u001b[0m             getattr(self, f\"convert_{dep_dir}units\")(dep2))\n\u001b[0;32m   5208\u001b[0m \u001b[1;33m\u001b[0m\u001b[0m\n",
      "\u001b[1;32mD:\\Programs\\Anaconda3\\lib\\site-packages\\numpy\\ma\\core.py\u001b[0m in \u001b[0;36mmasked_invalid\u001b[1;34m(a, copy)\u001b[0m\n\u001b[0;32m   2369\u001b[0m         \u001b[0mcls\u001b[0m \u001b[1;33m=\u001b[0m \u001b[0mtype\u001b[0m\u001b[1;33m(\u001b[0m\u001b[0ma\u001b[0m\u001b[1;33m)\u001b[0m\u001b[1;33m\u001b[0m\u001b[1;33m\u001b[0m\u001b[0m\n\u001b[0;32m   2370\u001b[0m     \u001b[1;32melse\u001b[0m\u001b[1;33m:\u001b[0m\u001b[1;33m\u001b[0m\u001b[1;33m\u001b[0m\u001b[0m\n\u001b[1;32m-> 2371\u001b[1;33m         \u001b[0mcondition\u001b[0m \u001b[1;33m=\u001b[0m \u001b[1;33m~\u001b[0m\u001b[1;33m(\u001b[0m\u001b[0mnp\u001b[0m\u001b[1;33m.\u001b[0m\u001b[0misfinite\u001b[0m\u001b[1;33m(\u001b[0m\u001b[0ma\u001b[0m\u001b[1;33m)\u001b[0m\u001b[1;33m)\u001b[0m\u001b[1;33m\u001b[0m\u001b[1;33m\u001b[0m\u001b[0m\n\u001b[0m\u001b[0;32m   2372\u001b[0m         \u001b[0mcls\u001b[0m \u001b[1;33m=\u001b[0m \u001b[0mMaskedArray\u001b[0m\u001b[1;33m\u001b[0m\u001b[1;33m\u001b[0m\u001b[0m\n\u001b[0;32m   2373\u001b[0m     \u001b[0mresult\u001b[0m \u001b[1;33m=\u001b[0m \u001b[0ma\u001b[0m\u001b[1;33m.\u001b[0m\u001b[0mview\u001b[0m\u001b[1;33m(\u001b[0m\u001b[0mcls\u001b[0m\u001b[1;33m)\u001b[0m\u001b[1;33m\u001b[0m\u001b[1;33m\u001b[0m\u001b[0m\n",
      "\u001b[1;31mTypeError\u001b[0m: ufunc 'isfinite' not supported for the input types, and the inputs could not be safely coerced to any supported types according to the casting rule ''safe''"
     ]
    },
    {
     "data": {
      "image/png": "[encoded data removed]",
      "text/plain": [
       "<Figure size 432x288 with 1 Axes>"
      ]
     },
     "metadata": {
      "needs_background": "light"
     },
     "output_type": "display_data"
    }
   ],
   "source": [
    "fig, ax = plt.subplots()\n",
    "ax.stackplot(df.year, df.groupby('year')['type']value_counts(),\n",
    "             alpha=0.)\n",
    "plt.show()"
   ]
  },
  {
   "cell_type": "markdown",
   "metadata": {},
   "source": [
    "We have 5320 franchised movies, so let's get a sample of that number of non-franchised movies to compare them:"
   ]
  },
  {
   "cell_type": "code",
   "execution_count": 17,
   "metadata": {},
   "outputs": [],
   "source": [
    "df_movie_sample = df[df['type'] == 'movie'].sample(n=5320)"
   ]
  },
  {
   "cell_type": "markdown",
   "metadata": {},
   "source": [
    "We can have a look at the stats for our sample and confirm that the sample is a fair representation of our original data"
   ]
  },
  {
   "cell_type": "code",
   "execution_count": 19,
   "metadata": {},
   "outputs": [
    {
     "data": {
      "text/plain": [
       "count    5.320000e+03\n",
       "mean     3.922228e+03\n",
       "std      3.921499e+04\n",
       "min      5.000000e+00\n",
       "25%      1.800000e+01\n",
       "50%      5.900000e+01\n",
       "75%      2.832500e+02\n",
       "max      1.337698e+06\n",
       "Name: votes, dtype: float64"
      ]
     },
     "execution_count": 19,
     "metadata": {},
     "output_type": "execute_result"
    }
   ],
   "source": [
    "df_movie_sample.votes.describe()"
   ]
  },
  {
   "cell_type": "code",
   "execution_count": null,
   "metadata": {},
   "outputs": [],
   "source": []
  }
 ],
 "metadata": {
  "kernelspec": {
   "display_name": "Python 3",
   "language": "python",
   "name": "python3"
  },
  "language_info": {
   "codemirror_mode": {
    "name": "ipython",
    "version": 3
   },
   "file_extension": ".py",
   "mimetype": "text/x-python",
   "name": "python",
   "nbconvert_exporter": "python",
   "pygments_lexer": "ipython3",
   "version": "3.8.5"
  }
 },
 "nbformat": 4,
 "nbformat_minor": 4
}
