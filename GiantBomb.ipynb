{
 "cells": [
  {
   "cell_type": "markdown",
   "metadata": {},
   "source": [
    "We can get the data for game franchises from Giantbomb. My api key is f2577eac7f52b72170fc1e8c5f0cebb778f38155"
   ]
  },
  {
   "cell_type": "code",
   "execution_count": null,
   "metadata": {},
   "outputs": [],
   "source": [
    "import requests\n",
    "import json\n",
    "import pandas as pd\n",
    "import re\n",
    "from pathlib import Path\n",
    "import time"
   ]
  },
  {
   "cell_type": "markdown",
   "metadata": {},
   "source": [
    "## Acquiring and cleaning franchise IDs"
   ]
  },
  {
   "cell_type": "markdown",
   "metadata": {},
   "source": [
    "Create the directory to store the raw info"
   ]
  },
  {
   "cell_type": "code",
   "execution_count": null,
   "metadata": {},
   "outputs": [],
   "source": [
    "franchises_dir = Path('raw_json\\\\game_franchises\\\\franchises')\n",
    "franchises_dir.mkdir(parents=True, exist_ok=True)"
   ]
  },
  {
   "cell_type": "markdown",
   "metadata": {},
   "source": [
    "Get all the data from the franchise ids and save as json files"
   ]
  },
  {
   "cell_type": "code",
   "execution_count": null,
   "metadata": {},
   "outputs": [],
   "source": [
    "user_agent = \"Joshdharris\"\n",
    "headers = {'User-Agent': user_agent}\n",
    "\n",
    "for x in range(0, 5550, 100):\n",
    "    filename = \"page{}-{}.json\".format(x, x+99)\n",
    "    if not Path(franchises_dir, filename).is_file():\n",
    "        url = \"https://www.giantbomb.com/api/franchises/?api_key=f2577eac7f52b72170fc1e8c5f0cebb778f38155&format=json&field_list=guid,name,description&offset={}\".format(x)\n",
    "        response = json.loads((requests.get(url, headers=headers)).content)\n",
    "        with open(Path(franchises_dir, filename), \"w\") as fileOut:\n",
    "            json.dump(response, fileOut)"
   ]
  },
  {
   "cell_type": "markdown",
   "metadata": {},
   "source": [
    "This function will be used multiple times for the raw json files. Here we create an empty dataframe, then open all the json files in a specified directory and add them to the dataframe, before returning the dataframe"
   ]
  },
  {
   "cell_type": "code",
   "execution_count": 202,
   "metadata": {},
   "outputs": [],
   "source": [
    "def create_dataframe(desired_name, raw_directory):\n",
    "    #Create empty dataframe\n",
    "    desired_name = pd.DataFrame(data=[], columns=None)\n",
    "\n",
    "    #This line creates a list of all the json files in the directory\n",
    "    files = list(Path(raw_directory).glob('*.json'))\n",
    "    \n",
    "    #Iterate through all json files in directory and add to dataframe\n",
    "    for file in files:\n",
    "        with open(file) as filein:\n",
    "            desired_name = pd.concat([desired_name, pd.read_json(filein)])\n",
    "    return desired_name"
   ]
  },
  {
   "cell_type": "markdown",
   "metadata": {},
   "source": [
    "Collate all the downloaded files into a single dataframe"
   ]
  },
  {
   "cell_type": "code",
   "execution_count": 222,
   "metadata": {
    "scrolled": true
   },
   "outputs": [
    {
     "data": {
      "text/html": [
       "<div>\n",
       "<style scoped>\n",
       "    .dataframe tbody tr th:only-of-type {\n",
       "        vertical-align: middle;\n",
       "    }\n",
       "\n",
       "    .dataframe tbody tr th {\n",
       "        vertical-align: top;\n",
       "    }\n",
       "\n",
       "    .dataframe thead th {\n",
       "        text-align: right;\n",
       "    }\n",
       "</style>\n",
       "<table border=\"1\" class=\"dataframe\">\n",
       "  <thead>\n",
       "    <tr style=\"text-align: right;\">\n",
       "      <th></th>\n",
       "      <th>error</th>\n",
       "      <th>limit</th>\n",
       "      <th>offset</th>\n",
       "      <th>number_of_page_results</th>\n",
       "      <th>number_of_total_results</th>\n",
       "      <th>status_code</th>\n",
       "      <th>results</th>\n",
       "      <th>version</th>\n",
       "    </tr>\n",
       "  </thead>\n",
       "  <tbody>\n",
       "    <tr>\n",
       "      <th>0</th>\n",
       "      <td>OK</td>\n",
       "      <td>100</td>\n",
       "      <td>0</td>\n",
       "      <td>100</td>\n",
       "      <td>5524</td>\n",
       "      <td>1</td>\n",
       "      <td>{'description': '&lt;h2&gt;Navigation&lt;/h2&gt;&lt;h3&gt;Sub-Fr...</td>\n",
       "      <td>1</td>\n",
       "    </tr>\n",
       "    <tr>\n",
       "      <th>1</th>\n",
       "      <td>OK</td>\n",
       "      <td>100</td>\n",
       "      <td>0</td>\n",
       "      <td>100</td>\n",
       "      <td>5524</td>\n",
       "      <td>1</td>\n",
       "      <td>{'description': '&lt;h2&gt;Overview&lt;/h2&gt;&lt;figure data...</td>\n",
       "      <td>1</td>\n",
       "    </tr>\n",
       "    <tr>\n",
       "      <th>2</th>\n",
       "      <td>OK</td>\n",
       "      <td>100</td>\n",
       "      <td>0</td>\n",
       "      <td>100</td>\n",
       "      <td>5524</td>\n",
       "      <td>1</td>\n",
       "      <td>{'description': '&lt;h2&gt;Overview&lt;/h2&gt;&lt;p&gt;Metroid i...</td>\n",
       "      <td>1</td>\n",
       "    </tr>\n",
       "    <tr>\n",
       "      <th>3</th>\n",
       "      <td>OK</td>\n",
       "      <td>100</td>\n",
       "      <td>0</td>\n",
       "      <td>100</td>\n",
       "      <td>5524</td>\n",
       "      <td>1</td>\n",
       "      <td>{'description': '&lt;h2&gt;Overview&lt;/h2&gt;&lt;p&gt;Developed...</td>\n",
       "      <td>1</td>\n",
       "    </tr>\n",
       "    <tr>\n",
       "      <th>4</th>\n",
       "      <td>OK</td>\n",
       "      <td>100</td>\n",
       "      <td>0</td>\n",
       "      <td>100</td>\n",
       "      <td>5524</td>\n",
       "      <td>1</td>\n",
       "      <td>{'description': '&lt;h2&gt;Overview&lt;/h2&gt;&lt;p&gt;The Metal...</td>\n",
       "      <td>1</td>\n",
       "    </tr>\n",
       "    <tr>\n",
       "      <th>...</th>\n",
       "      <td>...</td>\n",
       "      <td>...</td>\n",
       "      <td>...</td>\n",
       "      <td>...</td>\n",
       "      <td>...</td>\n",
       "      <td>...</td>\n",
       "      <td>...</td>\n",
       "      <td>...</td>\n",
       "    </tr>\n",
       "    <tr>\n",
       "      <th>95</th>\n",
       "      <td>OK</td>\n",
       "      <td>100</td>\n",
       "      <td>900</td>\n",
       "      <td>100</td>\n",
       "      <td>5524</td>\n",
       "      <td>1</td>\n",
       "      <td>{'description': '&lt;p&gt;Imperium Galactica is semi...</td>\n",
       "      <td>1</td>\n",
       "    </tr>\n",
       "    <tr>\n",
       "      <th>96</th>\n",
       "      <td>OK</td>\n",
       "      <td>100</td>\n",
       "      <td>900</td>\n",
       "      <td>100</td>\n",
       "      <td>5524</td>\n",
       "      <td>1</td>\n",
       "      <td>{'description': None, 'guid': '3025-1030', 'na...</td>\n",
       "      <td>1</td>\n",
       "    </tr>\n",
       "    <tr>\n",
       "      <th>97</th>\n",
       "      <td>OK</td>\n",
       "      <td>100</td>\n",
       "      <td>900</td>\n",
       "      <td>100</td>\n",
       "      <td>5524</td>\n",
       "      <td>1</td>\n",
       "      <td>{'description': None, 'guid': '3025-1031', 'na...</td>\n",
       "      <td>1</td>\n",
       "    </tr>\n",
       "    <tr>\n",
       "      <th>98</th>\n",
       "      <td>OK</td>\n",
       "      <td>100</td>\n",
       "      <td>900</td>\n",
       "      <td>100</td>\n",
       "      <td>5524</td>\n",
       "      <td>1</td>\n",
       "      <td>{'description': None, 'guid': '3025-1032', 'na...</td>\n",
       "      <td>1</td>\n",
       "    </tr>\n",
       "    <tr>\n",
       "      <th>99</th>\n",
       "      <td>OK</td>\n",
       "      <td>100</td>\n",
       "      <td>900</td>\n",
       "      <td>100</td>\n",
       "      <td>5524</td>\n",
       "      <td>1</td>\n",
       "      <td>{'description': None, 'guid': '3025-1033', 'na...</td>\n",
       "      <td>1</td>\n",
       "    </tr>\n",
       "  </tbody>\n",
       "</table>\n",
       "<p>5524 rows × 8 columns</p>\n",
       "</div>"
      ],
      "text/plain": [
       "   error  limit  offset  number_of_page_results  number_of_total_results  \\\n",
       "0     OK    100       0                     100                     5524   \n",
       "1     OK    100       0                     100                     5524   \n",
       "2     OK    100       0                     100                     5524   \n",
       "3     OK    100       0                     100                     5524   \n",
       "4     OK    100       0                     100                     5524   \n",
       "..   ...    ...     ...                     ...                      ...   \n",
       "95    OK    100     900                     100                     5524   \n",
       "96    OK    100     900                     100                     5524   \n",
       "97    OK    100     900                     100                     5524   \n",
       "98    OK    100     900                     100                     5524   \n",
       "99    OK    100     900                     100                     5524   \n",
       "\n",
       "    status_code                                            results  version  \n",
       "0             1  {'description': '<h2>Navigation</h2><h3>Sub-Fr...        1  \n",
       "1             1  {'description': '<h2>Overview</h2><figure data...        1  \n",
       "2             1  {'description': '<h2>Overview</h2><p>Metroid i...        1  \n",
       "3             1  {'description': '<h2>Overview</h2><p>Developed...        1  \n",
       "4             1  {'description': '<h2>Overview</h2><p>The Metal...        1  \n",
       "..          ...                                                ...      ...  \n",
       "95            1  {'description': '<p>Imperium Galactica is semi...        1  \n",
       "96            1  {'description': None, 'guid': '3025-1030', 'na...        1  \n",
       "97            1  {'description': None, 'guid': '3025-1031', 'na...        1  \n",
       "98            1  {'description': None, 'guid': '3025-1032', 'na...        1  \n",
       "99            1  {'description': None, 'guid': '3025-1033', 'na...        1  \n",
       "\n",
       "[5524 rows x 8 columns]"
      ]
     },
     "execution_count": 222,
     "metadata": {},
     "output_type": "execute_result"
    }
   ],
   "source": [
    "franchise_ids = create_dataframe(\"franchise_ids\", franchises_dir)\n",
    "franchise_ids"
   ]
  },
  {
   "cell_type": "markdown",
   "metadata": {},
   "source": [
    "Remove unnecessary rows"
   ]
  },
  {
   "cell_type": "markdown",
   "metadata": {},
   "source": [
    "Again, create function as it's used multiple times"
   ]
  },
  {
   "cell_type": "code",
   "execution_count": 220,
   "metadata": {
    "scrolled": true
   },
   "outputs": [],
   "source": [
    "def drop_unnecessary_columns(dataframe):\n",
    "    dataframe = dataframe.drop([\"error\",\"limit\", \"offset\", \"number_of_page_results\", \"number_of_total_results\", \"status_code\", \"version\"], axis = 1)\n",
    "    return dataframe"
   ]
  },
  {
   "cell_type": "code",
   "execution_count": 224,
   "metadata": {},
   "outputs": [
    {
     "data": {
      "text/html": [
       "<div>\n",
       "<style scoped>\n",
       "    .dataframe tbody tr th:only-of-type {\n",
       "        vertical-align: middle;\n",
       "    }\n",
       "\n",
       "    .dataframe tbody tr th {\n",
       "        vertical-align: top;\n",
       "    }\n",
       "\n",
       "    .dataframe thead th {\n",
       "        text-align: right;\n",
       "    }\n",
       "</style>\n",
       "<table border=\"1\" class=\"dataframe\">\n",
       "  <thead>\n",
       "    <tr style=\"text-align: right;\">\n",
       "      <th></th>\n",
       "      <th>results</th>\n",
       "    </tr>\n",
       "  </thead>\n",
       "  <tbody>\n",
       "    <tr>\n",
       "      <th>0</th>\n",
       "      <td>{'description': '&lt;h2&gt;Navigation&lt;/h2&gt;&lt;h3&gt;Sub-Fr...</td>\n",
       "    </tr>\n",
       "    <tr>\n",
       "      <th>1</th>\n",
       "      <td>{'description': '&lt;h2&gt;Overview&lt;/h2&gt;&lt;figure data...</td>\n",
       "    </tr>\n",
       "    <tr>\n",
       "      <th>2</th>\n",
       "      <td>{'description': '&lt;h2&gt;Overview&lt;/h2&gt;&lt;p&gt;Metroid i...</td>\n",
       "    </tr>\n",
       "    <tr>\n",
       "      <th>3</th>\n",
       "      <td>{'description': '&lt;h2&gt;Overview&lt;/h2&gt;&lt;p&gt;Developed...</td>\n",
       "    </tr>\n",
       "    <tr>\n",
       "      <th>4</th>\n",
       "      <td>{'description': '&lt;h2&gt;Overview&lt;/h2&gt;&lt;p&gt;The Metal...</td>\n",
       "    </tr>\n",
       "    <tr>\n",
       "      <th>...</th>\n",
       "      <td>...</td>\n",
       "    </tr>\n",
       "    <tr>\n",
       "      <th>95</th>\n",
       "      <td>{'description': '&lt;p&gt;Imperium Galactica is semi...</td>\n",
       "    </tr>\n",
       "    <tr>\n",
       "      <th>96</th>\n",
       "      <td>{'description': None, 'guid': '3025-1030', 'na...</td>\n",
       "    </tr>\n",
       "    <tr>\n",
       "      <th>97</th>\n",
       "      <td>{'description': None, 'guid': '3025-1031', 'na...</td>\n",
       "    </tr>\n",
       "    <tr>\n",
       "      <th>98</th>\n",
       "      <td>{'description': None, 'guid': '3025-1032', 'na...</td>\n",
       "    </tr>\n",
       "    <tr>\n",
       "      <th>99</th>\n",
       "      <td>{'description': None, 'guid': '3025-1033', 'na...</td>\n",
       "    </tr>\n",
       "  </tbody>\n",
       "</table>\n",
       "<p>5524 rows × 1 columns</p>\n",
       "</div>"
      ],
      "text/plain": [
       "                                              results\n",
       "0   {'description': '<h2>Navigation</h2><h3>Sub-Fr...\n",
       "1   {'description': '<h2>Overview</h2><figure data...\n",
       "2   {'description': '<h2>Overview</h2><p>Metroid i...\n",
       "3   {'description': '<h2>Overview</h2><p>Developed...\n",
       "4   {'description': '<h2>Overview</h2><p>The Metal...\n",
       "..                                                ...\n",
       "95  {'description': '<p>Imperium Galactica is semi...\n",
       "96  {'description': None, 'guid': '3025-1030', 'na...\n",
       "97  {'description': None, 'guid': '3025-1031', 'na...\n",
       "98  {'description': None, 'guid': '3025-1032', 'na...\n",
       "99  {'description': None, 'guid': '3025-1033', 'na...\n",
       "\n",
       "[5524 rows x 1 columns]"
      ]
     },
     "execution_count": 224,
     "metadata": {},
     "output_type": "execute_result"
    }
   ],
   "source": [
    "franchise_ids = drop_unnecessary_columns(franchise_ids)\n",
    "franchise_ids"
   ]
  },
  {
   "cell_type": "markdown",
   "metadata": {},
   "source": [
    "Extract information from results"
   ]
  },
  {
   "cell_type": "code",
   "execution_count": 225,
   "metadata": {},
   "outputs": [],
   "source": [
    "franchise_ids[\"guid\"] = [d.get('guid') for d in franchise_ids.results]\n",
    "franchise_ids[\"name\"] = [d.get('name') for d in franchise_ids.results]\n",
    "franchise_ids[\"description\"] = [d.get('description') for d in franchise_ids.results]"
   ]
  },
  {
   "cell_type": "markdown",
   "metadata": {},
   "source": [
    "Find missing nubers in franchise series"
   ]
  },
  {
   "cell_type": "code",
   "execution_count": null,
   "metadata": {
    "scrolled": false
   },
   "outputs": [],
   "source": [
    "expected_numbers = set('3025-{}'.format(i) for i in range(1, 5699))\n",
    "\n",
    "# create a set of actual numbers in the column\n",
    "actual_numbers = set(franchise_ids['guid'])\n",
    "\n",
    "# find the missing numbers by subtracting the actual set from the expected set\n",
    "missing_numbers = expected_numbers - actual_numbers\n",
    "missing_numbers"
   ]
  },
  {
   "cell_type": "markdown",
   "metadata": {},
   "source": [
    "Get list of all franchise ids."
   ]
  },
  {
   "cell_type": "code",
   "execution_count": null,
   "metadata": {},
   "outputs": [],
   "source": [
    "franchise_id_list = franchise_ids[\"guid\"].tolist()"
   ]
  },
  {
   "cell_type": "markdown",
   "metadata": {},
   "source": [
    "## Acquiring game information for each franchise"
   ]
  },
  {
   "cell_type": "markdown",
   "metadata": {},
   "source": [
    "Create directory for game franchises"
   ]
  },
  {
   "cell_type": "code",
   "execution_count": null,
   "metadata": {},
   "outputs": [],
   "source": [
    "games_dir = Path('raw_json\\\\game_franchises\\\\games')\n",
    "games_dir.mkdir(parents=True, exist_ok=True)"
   ]
  },
  {
   "cell_type": "markdown",
   "metadata": {},
   "source": [
    "Download json files for each franchise"
   ]
  },
  {
   "cell_type": "code",
   "execution_count": 214,
   "metadata": {},
   "outputs": [],
   "source": [
    "for id in franchise_id_list:\n",
    "    filename = \"{}.json\".format(id)\n",
    "    if not Path(games_dir, filename).is_file():\n",
    "        url = \"https://www.giantbomb.com/api/franchise/{}/?api_key=f2577eac7f52b72170fc1e8c5f0cebb778f38155&format=json&field_list=games\".format(id)\n",
    "        response = json.loads((requests.get(url, headers=headers)).content)\n",
    "        with open(Path(games_dir, filename), \"w\") as fileOut:\n",
    "            json.dump(response, fileOut)\n",
    "        time.sleep(18)"
   ]
  },
  {
   "cell_type": "markdown",
   "metadata": {},
   "source": [
    "Create a games dataframe from all the games in the directory"
   ]
  },
  {
   "cell_type": "code",
   "execution_count": 215,
   "metadata": {},
   "outputs": [
    {
     "data": {
      "text/html": [
       "<div>\n",
       "<style scoped>\n",
       "    .dataframe tbody tr th:only-of-type {\n",
       "        vertical-align: middle;\n",
       "    }\n",
       "\n",
       "    .dataframe tbody tr th {\n",
       "        vertical-align: top;\n",
       "    }\n",
       "\n",
       "    .dataframe thead th {\n",
       "        text-align: right;\n",
       "    }\n",
       "</style>\n",
       "<table border=\"1\" class=\"dataframe\">\n",
       "  <thead>\n",
       "    <tr style=\"text-align: right;\">\n",
       "      <th></th>\n",
       "      <th>error</th>\n",
       "      <th>limit</th>\n",
       "      <th>offset</th>\n",
       "      <th>number_of_page_results</th>\n",
       "      <th>number_of_total_results</th>\n",
       "      <th>status_code</th>\n",
       "      <th>results</th>\n",
       "      <th>version</th>\n",
       "    </tr>\n",
       "  </thead>\n",
       "  <tbody>\n",
       "    <tr>\n",
       "      <th>games</th>\n",
       "      <td>OK</td>\n",
       "      <td>1</td>\n",
       "      <td>0</td>\n",
       "      <td>1</td>\n",
       "      <td>1</td>\n",
       "      <td>1</td>\n",
       "      <td>[{'api_detail_url': 'https://www.giantbomb.com...</td>\n",
       "      <td>1</td>\n",
       "    </tr>\n",
       "    <tr>\n",
       "      <th>games</th>\n",
       "      <td>OK</td>\n",
       "      <td>1</td>\n",
       "      <td>0</td>\n",
       "      <td>1</td>\n",
       "      <td>1</td>\n",
       "      <td>1</td>\n",
       "      <td>[{'api_detail_url': 'https://www.giantbomb.com...</td>\n",
       "      <td>1</td>\n",
       "    </tr>\n",
       "    <tr>\n",
       "      <th>games</th>\n",
       "      <td>OK</td>\n",
       "      <td>1</td>\n",
       "      <td>0</td>\n",
       "      <td>1</td>\n",
       "      <td>1</td>\n",
       "      <td>1</td>\n",
       "      <td>[{'api_detail_url': 'https://www.giantbomb.com...</td>\n",
       "      <td>1</td>\n",
       "    </tr>\n",
       "    <tr>\n",
       "      <th>games</th>\n",
       "      <td>OK</td>\n",
       "      <td>1</td>\n",
       "      <td>0</td>\n",
       "      <td>1</td>\n",
       "      <td>1</td>\n",
       "      <td>1</td>\n",
       "      <td>[{'api_detail_url': 'https://www.giantbomb.com...</td>\n",
       "      <td>1</td>\n",
       "    </tr>\n",
       "    <tr>\n",
       "      <th>games</th>\n",
       "      <td>OK</td>\n",
       "      <td>1</td>\n",
       "      <td>0</td>\n",
       "      <td>1</td>\n",
       "      <td>1</td>\n",
       "      <td>1</td>\n",
       "      <td>[{'api_detail_url': 'https://www.giantbomb.com...</td>\n",
       "      <td>1</td>\n",
       "    </tr>\n",
       "  </tbody>\n",
       "</table>\n",
       "</div>"
      ],
      "text/plain": [
       "      error  limit  offset  number_of_page_results  number_of_total_results  \\\n",
       "games    OK      1       0                       1                        1   \n",
       "games    OK      1       0                       1                        1   \n",
       "games    OK      1       0                       1                        1   \n",
       "games    OK      1       0                       1                        1   \n",
       "games    OK      1       0                       1                        1   \n",
       "\n",
       "       status_code                                            results  version  \n",
       "games            1  [{'api_detail_url': 'https://www.giantbomb.com...        1  \n",
       "games            1  [{'api_detail_url': 'https://www.giantbomb.com...        1  \n",
       "games            1  [{'api_detail_url': 'https://www.giantbomb.com...        1  \n",
       "games            1  [{'api_detail_url': 'https://www.giantbomb.com...        1  \n",
       "games            1  [{'api_detail_url': 'https://www.giantbomb.com...        1  "
      ]
     },
     "execution_count": 215,
     "metadata": {},
     "output_type": "execute_result"
    }
   ],
   "source": [
    "games_ids = create_dataframe(\"games_ids\", games_dir)\n",
    "games_ids"
   ]
  },
  {
   "cell_type": "code",
   "execution_count": 221,
   "metadata": {},
   "outputs": [
    {
     "data": {
      "text/html": [
       "<div>\n",
       "<style scoped>\n",
       "    .dataframe tbody tr th:only-of-type {\n",
       "        vertical-align: middle;\n",
       "    }\n",
       "\n",
       "    .dataframe tbody tr th {\n",
       "        vertical-align: top;\n",
       "    }\n",
       "\n",
       "    .dataframe thead th {\n",
       "        text-align: right;\n",
       "    }\n",
       "</style>\n",
       "<table border=\"1\" class=\"dataframe\">\n",
       "  <thead>\n",
       "    <tr style=\"text-align: right;\">\n",
       "      <th></th>\n",
       "      <th>results</th>\n",
       "    </tr>\n",
       "  </thead>\n",
       "  <tbody>\n",
       "    <tr>\n",
       "      <th>games</th>\n",
       "      <td>[{'api_detail_url': 'https://www.giantbomb.com...</td>\n",
       "    </tr>\n",
       "    <tr>\n",
       "      <th>games</th>\n",
       "      <td>[{'api_detail_url': 'https://www.giantbomb.com...</td>\n",
       "    </tr>\n",
       "    <tr>\n",
       "      <th>games</th>\n",
       "      <td>[{'api_detail_url': 'https://www.giantbomb.com...</td>\n",
       "    </tr>\n",
       "    <tr>\n",
       "      <th>games</th>\n",
       "      <td>[{'api_detail_url': 'https://www.giantbomb.com...</td>\n",
       "    </tr>\n",
       "    <tr>\n",
       "      <th>games</th>\n",
       "      <td>[{'api_detail_url': 'https://www.giantbomb.com...</td>\n",
       "    </tr>\n",
       "  </tbody>\n",
       "</table>\n",
       "</div>"
      ],
      "text/plain": [
       "                                                 results\n",
       "games  [{'api_detail_url': 'https://www.giantbomb.com...\n",
       "games  [{'api_detail_url': 'https://www.giantbomb.com...\n",
       "games  [{'api_detail_url': 'https://www.giantbomb.com...\n",
       "games  [{'api_detail_url': 'https://www.giantbomb.com...\n",
       "games  [{'api_detail_url': 'https://www.giantbomb.com..."
      ]
     },
     "execution_count": 221,
     "metadata": {},
     "output_type": "execute_result"
    }
   ],
   "source": [
    "games_ids = drop_unnecessary_columns(games_ids)\n",
    "games_ids"
   ]
  },
  {
   "cell_type": "markdown",
   "metadata": {},
   "source": [
    "# UNTESTED CODE FROM THIS POINT ON - WORK IN PROGRESS"
   ]
  },
  {
   "cell_type": "code",
   "execution_count": null,
   "metadata": {},
   "outputs": [],
   "source": [
    "game_database = pd.DataFrame(data=[], columns=None)\n",
    "\n",
    "tempDF = pd.DataFrame({'guid': x, 'games': pd.read_json(r.text)[\"results\"]})\n",
    "game_database = pd.concat([game_database, tempDF])"
   ]
  },
  {
   "cell_type": "code",
   "execution_count": null,
   "metadata": {},
   "outputs": [],
   "source": [
    "merged_df = pd.merge(noidea, game_database, on='guid', how='left')\n"
   ]
  },
  {
   "cell_type": "code",
   "execution_count": null,
   "metadata": {},
   "outputs": [],
   "source": [
    "merged_df[\"games\"].iloc[0]"
   ]
  },
  {
   "cell_type": "code",
   "execution_count": null,
   "metadata": {},
   "outputs": [],
   "source": [
    "game_database"
   ]
  },
  {
   "cell_type": "code",
   "execution_count": null,
   "metadata": {},
   "outputs": [],
   "source": []
  },
  {
   "cell_type": "code",
   "execution_count": null,
   "metadata": {},
   "outputs": [],
   "source": []
  },
  {
   "cell_type": "code",
   "execution_count": null,
   "metadata": {},
   "outputs": [],
   "source": []
  },
  {
   "cell_type": "code",
   "execution_count": null,
   "metadata": {},
   "outputs": [],
   "source": []
  },
  {
   "cell_type": "code",
   "execution_count": null,
   "metadata": {},
   "outputs": [],
   "source": []
  },
  {
   "cell_type": "code",
   "execution_count": null,
   "metadata": {},
   "outputs": [],
   "source": []
  },
  {
   "cell_type": "markdown",
   "metadata": {},
   "source": [
    "We have 23 franchises which contain sub-franchises. Let's extract the sub-franchises. First, look at an example of the description"
   ]
  },
  {
   "cell_type": "code",
   "execution_count": null,
   "metadata": {},
   "outputs": [],
   "source": [
    "subfranchises = franchise_ids[franchise_ids[\"description\"].str.contains('Sub-Franchises', flags=re.IGNORECASE, na=False, regex=True)]"
   ]
  },
  {
   "cell_type": "code",
   "execution_count": null,
   "metadata": {
    "scrolled": true
   },
   "outputs": [],
   "source": [
    "subfranchises[\"description\"].iloc[3]"
   ]
  },
  {
   "cell_type": "code",
   "execution_count": null,
   "metadata": {},
   "outputs": [],
   "source": [
    "temp = subfranchises[\"description\"].iloc[0]\n",
    "pattern = r'<a[^>]*data-ref-id=\"3025-[^\"]*\"[^>]*>[^<]*</a>'\n",
    "matches = re.findall(pattern, temp)\n",
    "print(matches)"
   ]
  }
 ],
 "metadata": {
  "kernelspec": {
   "display_name": "Python 3",
   "language": "python",
   "name": "python3"
  },
  "language_info": {
   "codemirror_mode": {
    "name": "ipython",
    "version": 3
   },
   "file_extension": ".py",
   "mimetype": "text/x-python",
   "name": "python",
   "nbconvert_exporter": "python",
   "pygments_lexer": "ipython3",
   "version": "3.8.5"
  }
 },
 "nbformat": 4,
 "nbformat_minor": 4
}
