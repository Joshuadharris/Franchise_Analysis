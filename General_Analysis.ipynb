{
 "cells": [
  {
   "cell_type": "code",
   "execution_count": 102,
   "metadata": {},
   "outputs": [],
   "source": [
    "import pandas as pd\n",
    "import matplotlib.pyplot as plt\n",
    "import numpy as np"
   ]
  },
  {
   "cell_type": "code",
   "execution_count": 69,
   "metadata": {},
   "outputs": [
    {
     "name": "stderr",
     "output_type": "stream",
     "text": [
      "D:\\Programs\\Anaconda3\\lib\\site-packages\\IPython\\core\\interactiveshell.py:3146: DtypeWarning: Columns (2,3,4) have mixed types.Specify dtype option on import or set low_memory=False.\n",
      "  has_raised = await self.run_ast_nodes(code_ast.body, cell_name,\n"
     ]
    }
   ],
   "source": [
    "games = pd.read_csv(\"clean_games_with_franchises.csv\", index_col = 0)\n",
    "movies = pd.read_csv(\"movies_with_franchises.csv\", index_col = 0)"
   ]
  },
  {
   "cell_type": "code",
   "execution_count": null,
   "metadata": {},
   "outputs": [],
   "source": [
    "Get the number of movies/games in a franchise, vs the number not in a franchise."
   ]
  },
  {
   "cell_type": "markdown",
   "metadata": {},
   "source": [
    "## Initial analysis"
   ]
  },
  {
   "cell_type": "code",
   "execution_count": null,
   "metadata": {},
   "outputs": [],
   "source": [
    "Check how mnay of our games and movies are in a franchise and how many are not. "
   ]
  },
  {
   "cell_type": "code",
   "execution_count": 109,
   "metadata": {},
   "outputs": [
    {
     "data": {
      "text/plain": [
       "16990"
      ]
     },
     "execution_count": 109,
     "metadata": {},
     "output_type": "execute_result"
    }
   ],
   "source": [
    "games.tconst.count()"
   ]
  },
  {
   "cell_type": "code",
   "execution_count": 110,
   "metadata": {},
   "outputs": [
    {
     "data": {
      "text/plain": [
       "14384"
      ]
     },
     "execution_count": 110,
     "metadata": {},
     "output_type": "execute_result"
    }
   ],
   "source": [
    "games.tconst.nunique()"
   ]
  },
  {
   "cell_type": "code",
   "execution_count": 114,
   "metadata": {},
   "outputs": [
    {
     "data": {
      "text/plain": [
       "8603"
      ]
     },
     "execution_count": 114,
     "metadata": {},
     "output_type": "execute_result"
    }
   ],
   "source": [
    "games[~games[\"franchise_id\"].isna()].tconst.nunique()"
   ]
  },
  {
   "cell_type": "code",
   "execution_count": 112,
   "metadata": {},
   "outputs": [
    {
     "data": {
      "text/plain": [
       "5781"
      ]
     },
     "execution_count": 112,
     "metadata": {},
     "output_type": "execute_result"
    }
   ],
   "source": [
    "games[games[\"franchise_id\"].isna()].tconst.count()"
   ]
  },
  {
   "cell_type": "code",
   "execution_count": 122,
   "metadata": {},
   "outputs": [
    {
     "data": {
      "text/plain": [
       "<BarContainer object of 2 artists>"
      ]
     },
     "execution_count": 122,
     "metadata": {},
     "output_type": "execute_result"
    },
    {
     "data": {
      "image/png": "[encoded data removed]",
      "text/plain": [
       "<Figure size 432x288 with 1 Axes>"
      ]
     },
     "metadata": {
      "needs_background": "light"
     },
     "output_type": "display_data"
    }
   ],
   "source": [
    "plt.bar([\"Games in franchises\", \"Games not in franchises\"], [games[~games[\"franchise_id\"].isna()].tconst.nunique(), games[games[\"franchise_id\"].isna()].tconst.count()])"
   ]
  },
  {
   "cell_type": "code",
   "execution_count": 115,
   "metadata": {},
   "outputs": [
    {
     "data": {
      "text/plain": [
       "290738"
      ]
     },
     "execution_count": 115,
     "metadata": {},
     "output_type": "execute_result"
    }
   ],
   "source": [
    "movies.tconst.count()"
   ]
  },
  {
   "cell_type": "code",
   "execution_count": 116,
   "metadata": {},
   "outputs": [
    {
     "data": {
      "text/plain": [
       "290239"
      ]
     },
     "execution_count": 116,
     "metadata": {},
     "output_type": "execute_result"
    }
   ],
   "source": [
    "movies.tconst.nunique()"
   ]
  },
  {
   "cell_type": "code",
   "execution_count": 117,
   "metadata": {},
   "outputs": [
    {
     "data": {
      "text/plain": [
       "7375"
      ]
     },
     "execution_count": 117,
     "metadata": {},
     "output_type": "execute_result"
    }
   ],
   "source": [
    "movies[~movies[\"franchise_id\"].isna()].tconst.nunique()"
   ]
  },
  {
   "cell_type": "code",
   "execution_count": 118,
   "metadata": {},
   "outputs": [
    {
     "data": {
      "text/plain": [
       "282864"
      ]
     },
     "execution_count": 118,
     "metadata": {},
     "output_type": "execute_result"
    }
   ],
   "source": [
    "movies[movies[\"franchise_id\"].isna()].tconst.count()"
   ]
  },
  {
   "cell_type": "code",
   "execution_count": 123,
   "metadata": {},
   "outputs": [
    {
     "data": {
      "text/plain": [
       "<BarContainer object of 2 artists>"
      ]
     },
     "execution_count": 123,
     "metadata": {},
     "output_type": "execute_result"
    },
    {
     "data": {
      "image/png": "[encoded data removed]",
      "text/plain": [
       "<Figure size 432x288 with 1 Axes>"
      ]
     },
     "metadata": {
      "needs_background": "light"
     },
     "output_type": "display_data"
    }
   ],
   "source": [
    "plt.bar([\"Movies in franchises\", \"Movies not in franchises\"], [movies[~movies[\"franchise_id\"].isna()].tconst.nunique(), movies[movies[\"franchise_id\"].isna()].tconst.count()])"
   ]
  },
  {
   "cell_type": "code",
   "execution_count": 95,
   "metadata": {},
   "outputs": [
    {
     "data": {
      "text/html": [
       "<div>\n",
       "<style scoped>\n",
       "    .dataframe tbody tr th:only-of-type {\n",
       "        vertical-align: middle;\n",
       "    }\n",
       "\n",
       "    .dataframe tbody tr th {\n",
       "        vertical-align: top;\n",
       "    }\n",
       "\n",
       "    .dataframe thead th {\n",
       "        text-align: right;\n",
       "    }\n",
       "</style>\n",
       "<table border=\"1\" class=\"dataframe\">\n",
       "  <thead>\n",
       "    <tr style=\"text-align: right;\">\n",
       "      <th></th>\n",
       "      <th>franchise_name</th>\n",
       "      <th>tconst</th>\n",
       "      <th>titleType</th>\n",
       "      <th>primaryTitle</th>\n",
       "      <th>startYear</th>\n",
       "      <th>isAdult</th>\n",
       "      <th>averageRating</th>\n",
       "      <th>numVotes</th>\n",
       "      <th>game_id</th>\n",
       "      <th>best_fit_ratio</th>\n",
       "      <th>genres</th>\n",
       "      <th>developers</th>\n",
       "      <th>platforms</th>\n",
       "      <th>publishers</th>\n",
       "      <th>rating</th>\n",
       "    </tr>\n",
       "    <tr>\n",
       "      <th>franchise_id</th>\n",
       "      <th></th>\n",
       "      <th></th>\n",
       "      <th></th>\n",
       "      <th></th>\n",
       "      <th></th>\n",
       "      <th></th>\n",
       "      <th></th>\n",
       "      <th></th>\n",
       "      <th></th>\n",
       "      <th></th>\n",
       "      <th></th>\n",
       "      <th></th>\n",
       "      <th></th>\n",
       "      <th></th>\n",
       "      <th></th>\n",
       "    </tr>\n",
       "  </thead>\n",
       "  <tbody>\n",
       "    <tr>\n",
       "      <th>3025-1</th>\n",
       "      <td>195</td>\n",
       "      <td>195</td>\n",
       "      <td>195</td>\n",
       "      <td>195</td>\n",
       "      <td>195</td>\n",
       "      <td>195</td>\n",
       "      <td>195</td>\n",
       "      <td>195</td>\n",
       "      <td>195</td>\n",
       "      <td>195</td>\n",
       "      <td>195</td>\n",
       "      <td>195</td>\n",
       "      <td>195</td>\n",
       "      <td>195</td>\n",
       "      <td>153</td>\n",
       "    </tr>\n",
       "    <tr>\n",
       "      <th>3025-10</th>\n",
       "      <td>15</td>\n",
       "      <td>15</td>\n",
       "      <td>15</td>\n",
       "      <td>15</td>\n",
       "      <td>15</td>\n",
       "      <td>15</td>\n",
       "      <td>15</td>\n",
       "      <td>15</td>\n",
       "      <td>15</td>\n",
       "      <td>15</td>\n",
       "      <td>15</td>\n",
       "      <td>15</td>\n",
       "      <td>15</td>\n",
       "      <td>15</td>\n",
       "      <td>15</td>\n",
       "    </tr>\n",
       "    <tr>\n",
       "      <th>3025-100</th>\n",
       "      <td>8</td>\n",
       "      <td>8</td>\n",
       "      <td>8</td>\n",
       "      <td>8</td>\n",
       "      <td>8</td>\n",
       "      <td>8</td>\n",
       "      <td>8</td>\n",
       "      <td>8</td>\n",
       "      <td>8</td>\n",
       "      <td>8</td>\n",
       "      <td>8</td>\n",
       "      <td>8</td>\n",
       "      <td>8</td>\n",
       "      <td>8</td>\n",
       "      <td>1</td>\n",
       "    </tr>\n",
       "    <tr>\n",
       "      <th>3025-1000</th>\n",
       "      <td>10</td>\n",
       "      <td>10</td>\n",
       "      <td>10</td>\n",
       "      <td>10</td>\n",
       "      <td>10</td>\n",
       "      <td>10</td>\n",
       "      <td>10</td>\n",
       "      <td>10</td>\n",
       "      <td>10</td>\n",
       "      <td>10</td>\n",
       "      <td>10</td>\n",
       "      <td>10</td>\n",
       "      <td>10</td>\n",
       "      <td>10</td>\n",
       "      <td>7</td>\n",
       "    </tr>\n",
       "    <tr>\n",
       "      <th>3025-1007</th>\n",
       "      <td>2</td>\n",
       "      <td>2</td>\n",
       "      <td>2</td>\n",
       "      <td>2</td>\n",
       "      <td>2</td>\n",
       "      <td>2</td>\n",
       "      <td>2</td>\n",
       "      <td>2</td>\n",
       "      <td>2</td>\n",
       "      <td>2</td>\n",
       "      <td>2</td>\n",
       "      <td>2</td>\n",
       "      <td>2</td>\n",
       "      <td>2</td>\n",
       "      <td>2</td>\n",
       "    </tr>\n",
       "    <tr>\n",
       "      <th>...</th>\n",
       "      <td>...</td>\n",
       "      <td>...</td>\n",
       "      <td>...</td>\n",
       "      <td>...</td>\n",
       "      <td>...</td>\n",
       "      <td>...</td>\n",
       "      <td>...</td>\n",
       "      <td>...</td>\n",
       "      <td>...</td>\n",
       "      <td>...</td>\n",
       "      <td>...</td>\n",
       "      <td>...</td>\n",
       "      <td>...</td>\n",
       "      <td>...</td>\n",
       "      <td>...</td>\n",
       "    </tr>\n",
       "    <tr>\n",
       "      <th>3025-99</th>\n",
       "      <td>10</td>\n",
       "      <td>10</td>\n",
       "      <td>10</td>\n",
       "      <td>10</td>\n",
       "      <td>10</td>\n",
       "      <td>10</td>\n",
       "      <td>10</td>\n",
       "      <td>10</td>\n",
       "      <td>10</td>\n",
       "      <td>10</td>\n",
       "      <td>10</td>\n",
       "      <td>10</td>\n",
       "      <td>10</td>\n",
       "      <td>10</td>\n",
       "      <td>9</td>\n",
       "    </tr>\n",
       "    <tr>\n",
       "      <th>3025-993</th>\n",
       "      <td>4</td>\n",
       "      <td>4</td>\n",
       "      <td>4</td>\n",
       "      <td>4</td>\n",
       "      <td>4</td>\n",
       "      <td>4</td>\n",
       "      <td>4</td>\n",
       "      <td>4</td>\n",
       "      <td>4</td>\n",
       "      <td>4</td>\n",
       "      <td>4</td>\n",
       "      <td>4</td>\n",
       "      <td>4</td>\n",
       "      <td>4</td>\n",
       "      <td>4</td>\n",
       "    </tr>\n",
       "    <tr>\n",
       "      <th>3025-994</th>\n",
       "      <td>3</td>\n",
       "      <td>3</td>\n",
       "      <td>3</td>\n",
       "      <td>3</td>\n",
       "      <td>3</td>\n",
       "      <td>3</td>\n",
       "      <td>3</td>\n",
       "      <td>3</td>\n",
       "      <td>3</td>\n",
       "      <td>3</td>\n",
       "      <td>3</td>\n",
       "      <td>3</td>\n",
       "      <td>3</td>\n",
       "      <td>3</td>\n",
       "      <td>3</td>\n",
       "    </tr>\n",
       "    <tr>\n",
       "      <th>3025-996</th>\n",
       "      <td>7</td>\n",
       "      <td>7</td>\n",
       "      <td>7</td>\n",
       "      <td>7</td>\n",
       "      <td>7</td>\n",
       "      <td>7</td>\n",
       "      <td>7</td>\n",
       "      <td>7</td>\n",
       "      <td>7</td>\n",
       "      <td>7</td>\n",
       "      <td>7</td>\n",
       "      <td>7</td>\n",
       "      <td>7</td>\n",
       "      <td>7</td>\n",
       "      <td>7</td>\n",
       "    </tr>\n",
       "    <tr>\n",
       "      <th>3025-997</th>\n",
       "      <td>5</td>\n",
       "      <td>5</td>\n",
       "      <td>5</td>\n",
       "      <td>5</td>\n",
       "      <td>5</td>\n",
       "      <td>5</td>\n",
       "      <td>5</td>\n",
       "      <td>5</td>\n",
       "      <td>5</td>\n",
       "      <td>5</td>\n",
       "      <td>5</td>\n",
       "      <td>5</td>\n",
       "      <td>5</td>\n",
       "      <td>5</td>\n",
       "      <td>4</td>\n",
       "    </tr>\n",
       "  </tbody>\n",
       "</table>\n",
       "<p>2073 rows × 15 columns</p>\n",
       "</div>"
      ],
      "text/plain": [
       "              franchise_name  tconst  titleType  primaryTitle  startYear  \\\n",
       "franchise_id                                                               \n",
       "3025-1                   195     195        195           195        195   \n",
       "3025-10                   15      15         15            15         15   \n",
       "3025-100                   8       8          8             8          8   \n",
       "3025-1000                 10      10         10            10         10   \n",
       "3025-1007                  2       2          2             2          2   \n",
       "...                      ...     ...        ...           ...        ...   \n",
       "3025-99                   10      10         10            10         10   \n",
       "3025-993                   4       4          4             4          4   \n",
       "3025-994                   3       3          3             3          3   \n",
       "3025-996                   7       7          7             7          7   \n",
       "3025-997                   5       5          5             5          5   \n",
       "\n",
       "              isAdult  averageRating  numVotes  game_id  best_fit_ratio  \\\n",
       "franchise_id                                                              \n",
       "3025-1            195            195       195      195             195   \n",
       "3025-10            15             15        15       15              15   \n",
       "3025-100            8              8         8        8               8   \n",
       "3025-1000          10             10        10       10              10   \n",
       "3025-1007           2              2         2        2               2   \n",
       "...               ...            ...       ...      ...             ...   \n",
       "3025-99            10             10        10       10              10   \n",
       "3025-993            4              4         4        4               4   \n",
       "3025-994            3              3         3        3               3   \n",
       "3025-996            7              7         7        7               7   \n",
       "3025-997            5              5         5        5               5   \n",
       "\n",
       "              genres  developers  platforms  publishers  rating  \n",
       "franchise_id                                                     \n",
       "3025-1           195         195        195         195     153  \n",
       "3025-10           15          15         15          15      15  \n",
       "3025-100           8           8          8           8       1  \n",
       "3025-1000         10          10         10          10       7  \n",
       "3025-1007          2           2          2           2       2  \n",
       "...              ...         ...        ...         ...     ...  \n",
       "3025-99           10          10         10          10       9  \n",
       "3025-993           4           4          4           4       4  \n",
       "3025-994           3           3          3           3       3  \n",
       "3025-996           7           7          7           7       7  \n",
       "3025-997           5           5          5           5       4  \n",
       "\n",
       "[2073 rows x 15 columns]"
      ]
     },
     "execution_count": 95,
     "metadata": {},
     "output_type": "execute_result"
    }
   ],
   "source": [
    "games.groupby(\"franchise_id\").count()"
   ]
  },
  {
   "cell_type": "code",
   "execution_count": 90,
   "metadata": {},
   "outputs": [
    {
     "data": {
      "text/html": [
       "<div>\n",
       "<style scoped>\n",
       "    .dataframe tbody tr th:only-of-type {\n",
       "        vertical-align: middle;\n",
       "    }\n",
       "\n",
       "    .dataframe tbody tr th {\n",
       "        vertical-align: top;\n",
       "    }\n",
       "\n",
       "    .dataframe thead th {\n",
       "        text-align: right;\n",
       "    }\n",
       "</style>\n",
       "<table border=\"1\" class=\"dataframe\">\n",
       "  <thead>\n",
       "    <tr style=\"text-align: right;\">\n",
       "      <th></th>\n",
       "      <th>franchise_name</th>\n",
       "      <th>franchise_id</th>\n",
       "      <th>tconst</th>\n",
       "      <th>titleType</th>\n",
       "      <th>primaryTitle</th>\n",
       "      <th>startYear</th>\n",
       "      <th>isAdult</th>\n",
       "      <th>averageRating</th>\n",
       "      <th>numVotes</th>\n",
       "      <th>game_id</th>\n",
       "      <th>best_fit_ratio</th>\n",
       "      <th>genres</th>\n",
       "      <th>developers</th>\n",
       "      <th>platforms</th>\n",
       "      <th>publishers</th>\n",
       "      <th>rating</th>\n",
       "    </tr>\n",
       "  </thead>\n",
       "  <tbody>\n",
       "    <tr>\n",
       "      <th>0</th>\n",
       "      <td>NaN</td>\n",
       "      <td>NaN</td>\n",
       "      <td>tt0084376</td>\n",
       "      <td>videoGame</td>\n",
       "      <td>MysteryDisc: Murder, Anyone?</td>\n",
       "      <td>1982</td>\n",
       "      <td>0</td>\n",
       "      <td>6.1</td>\n",
       "      <td>37.0</td>\n",
       "      <td>NaN</td>\n",
       "      <td>90.0</td>\n",
       "      <td>['Adventure', 'Crime', 'Mystery']</td>\n",
       "      <td>NaN</td>\n",
       "      <td>NaN</td>\n",
       "      <td>NaN</td>\n",
       "      <td>NaN</td>\n",
       "    </tr>\n",
       "    <tr>\n",
       "      <th>1</th>\n",
       "      <td>NaN</td>\n",
       "      <td>NaN</td>\n",
       "      <td>tt0105000</td>\n",
       "      <td>videoGame</td>\n",
       "      <td>Night Trap</td>\n",
       "      <td>1992</td>\n",
       "      <td>0</td>\n",
       "      <td>6.2</td>\n",
       "      <td>376.0</td>\n",
       "      <td>NaN</td>\n",
       "      <td>85.5</td>\n",
       "      <td>['Adventure', 'Horror', 'Mystery']</td>\n",
       "      <td>NaN</td>\n",
       "      <td>NaN</td>\n",
       "      <td>NaN</td>\n",
       "      <td>NaN</td>\n",
       "    </tr>\n",
       "    <tr>\n",
       "      <th>2</th>\n",
       "      <td>Gabriel Knight</td>\n",
       "      <td>3025-638</td>\n",
       "      <td>tt0109865</td>\n",
       "      <td>videoGame</td>\n",
       "      <td>Gabriel Knight: Sins of the Fathers</td>\n",
       "      <td>1993</td>\n",
       "      <td>0</td>\n",
       "      <td>9.1</td>\n",
       "      <td>706.0</td>\n",
       "      <td>7821.0</td>\n",
       "      <td>100.0</td>\n",
       "      <td>['Adventure', 'Horror', 'Drama']</td>\n",
       "      <td>['Sierra', 'Phoenix Online Studios', 'Pinkerto...</td>\n",
       "      <td>['Mac', 'PC', 'iPhone', 'iPad', 'Android']</td>\n",
       "      <td>['Sierra', 'Pinkerton Road Studio']</td>\n",
       "      <td>['ESRB: T']</td>\n",
       "    </tr>\n",
       "    <tr>\n",
       "      <th>3</th>\n",
       "      <td>King's Quest</td>\n",
       "      <td>3025-413</td>\n",
       "      <td>tt0110267</td>\n",
       "      <td>videoGame</td>\n",
       "      <td>King's Quest VII: The Princeless Bride</td>\n",
       "      <td>1994</td>\n",
       "      <td>0</td>\n",
       "      <td>7.6</td>\n",
       "      <td>206.0</td>\n",
       "      <td>10917.0</td>\n",
       "      <td>100.0</td>\n",
       "      <td>['Adventure', 'Fantasy']</td>\n",
       "      <td>['Sierra']</td>\n",
       "      <td>['Mac', 'PC']</td>\n",
       "      <td>['Sierra']</td>\n",
       "      <td>['ESRB: E', 'ESRB: K-A', 'ESRB: T']</td>\n",
       "    </tr>\n",
       "    <tr>\n",
       "      <th>4</th>\n",
       "      <td>NaN</td>\n",
       "      <td>NaN</td>\n",
       "      <td>tt0110909</td>\n",
       "      <td>videoGame</td>\n",
       "      <td>Psychic Detective</td>\n",
       "      <td>1995</td>\n",
       "      <td>0</td>\n",
       "      <td>8.5</td>\n",
       "      <td>50.0</td>\n",
       "      <td>NaN</td>\n",
       "      <td>90.0</td>\n",
       "      <td>['Adventure', 'Mystery', 'Fantasy']</td>\n",
       "      <td>NaN</td>\n",
       "      <td>NaN</td>\n",
       "      <td>NaN</td>\n",
       "      <td>NaN</td>\n",
       "    </tr>\n",
       "    <tr>\n",
       "      <th>...</th>\n",
       "      <td>...</td>\n",
       "      <td>...</td>\n",
       "      <td>...</td>\n",
       "      <td>...</td>\n",
       "      <td>...</td>\n",
       "      <td>...</td>\n",
       "      <td>...</td>\n",
       "      <td>...</td>\n",
       "      <td>...</td>\n",
       "      <td>...</td>\n",
       "      <td>...</td>\n",
       "      <td>...</td>\n",
       "      <td>...</td>\n",
       "      <td>...</td>\n",
       "      <td>...</td>\n",
       "      <td>...</td>\n",
       "    </tr>\n",
       "    <tr>\n",
       "      <th>16985</th>\n",
       "      <td>NaN</td>\n",
       "      <td>NaN</td>\n",
       "      <td>tt9888864</td>\n",
       "      <td>videoGame</td>\n",
       "      <td>Infernal</td>\n",
       "      <td>2007</td>\n",
       "      <td>0</td>\n",
       "      <td>6.0</td>\n",
       "      <td>17.0</td>\n",
       "      <td>NaN</td>\n",
       "      <td>90.0</td>\n",
       "      <td>['Action']</td>\n",
       "      <td>NaN</td>\n",
       "      <td>NaN</td>\n",
       "      <td>NaN</td>\n",
       "      <td>NaN</td>\n",
       "    </tr>\n",
       "    <tr>\n",
       "      <th>16986</th>\n",
       "      <td>NaN</td>\n",
       "      <td>NaN</td>\n",
       "      <td>tt9892552</td>\n",
       "      <td>videoGame</td>\n",
       "      <td>Spiral Splatter</td>\n",
       "      <td>2017</td>\n",
       "      <td>0</td>\n",
       "      <td>2.0</td>\n",
       "      <td>10.0</td>\n",
       "      <td>NaN</td>\n",
       "      <td>85.5</td>\n",
       "      <td>['Action']</td>\n",
       "      <td>NaN</td>\n",
       "      <td>NaN</td>\n",
       "      <td>NaN</td>\n",
       "      <td>NaN</td>\n",
       "    </tr>\n",
       "    <tr>\n",
       "      <th>16987</th>\n",
       "      <td>NaN</td>\n",
       "      <td>NaN</td>\n",
       "      <td>tt9893348</td>\n",
       "      <td>videoGame</td>\n",
       "      <td>Alien: Covenant In Utero VR Experience</td>\n",
       "      <td>2017</td>\n",
       "      <td>0</td>\n",
       "      <td>6.2</td>\n",
       "      <td>17.0</td>\n",
       "      <td>NaN</td>\n",
       "      <td>90.0</td>\n",
       "      <td>['Sci-Fi']</td>\n",
       "      <td>NaN</td>\n",
       "      <td>NaN</td>\n",
       "      <td>NaN</td>\n",
       "      <td>NaN</td>\n",
       "    </tr>\n",
       "    <tr>\n",
       "      <th>16988</th>\n",
       "      <td>LEGO</td>\n",
       "      <td>3025-448</td>\n",
       "      <td>tt9893804</td>\n",
       "      <td>videoGame</td>\n",
       "      <td>The Lego Movie 2 Videogame</td>\n",
       "      <td>2019</td>\n",
       "      <td>0</td>\n",
       "      <td>5.5</td>\n",
       "      <td>156.0</td>\n",
       "      <td>22035.0</td>\n",
       "      <td>100.0</td>\n",
       "      <td>['Animation', 'Adventure', 'Family', 'Action-A...</td>\n",
       "      <td>['TT Games']</td>\n",
       "      <td>['PC', 'Xbox One', 'PlayStation 4', 'Nintendo ...</td>\n",
       "      <td>['WB Games']</td>\n",
       "      <td>NaN</td>\n",
       "    </tr>\n",
       "    <tr>\n",
       "      <th>16989</th>\n",
       "      <td>NaN</td>\n",
       "      <td>NaN</td>\n",
       "      <td>tt9910948</td>\n",
       "      <td>videoGame</td>\n",
       "      <td>Pokémon Sword</td>\n",
       "      <td>2019</td>\n",
       "      <td>0</td>\n",
       "      <td>7.2</td>\n",
       "      <td>805.0</td>\n",
       "      <td>NaN</td>\n",
       "      <td>90.0</td>\n",
       "      <td>['Adventure', 'Action', 'Fantasy']</td>\n",
       "      <td>NaN</td>\n",
       "      <td>NaN</td>\n",
       "      <td>NaN</td>\n",
       "      <td>NaN</td>\n",
       "    </tr>\n",
       "  </tbody>\n",
       "</table>\n",
       "<p>16990 rows × 16 columns</p>\n",
       "</div>"
      ],
      "text/plain": [
       "       franchise_name franchise_id     tconst  titleType  \\\n",
       "0                 NaN          NaN  tt0084376  videoGame   \n",
       "1                 NaN          NaN  tt0105000  videoGame   \n",
       "2      Gabriel Knight     3025-638  tt0109865  videoGame   \n",
       "3        King's Quest     3025-413  tt0110267  videoGame   \n",
       "4                 NaN          NaN  tt0110909  videoGame   \n",
       "...               ...          ...        ...        ...   \n",
       "16985             NaN          NaN  tt9888864  videoGame   \n",
       "16986             NaN          NaN  tt9892552  videoGame   \n",
       "16987             NaN          NaN  tt9893348  videoGame   \n",
       "16988            LEGO     3025-448  tt9893804  videoGame   \n",
       "16989             NaN          NaN  tt9910948  videoGame   \n",
       "\n",
       "                                 primaryTitle startYear  isAdult  \\\n",
       "0                MysteryDisc: Murder, Anyone?      1982        0   \n",
       "1                                  Night Trap      1992        0   \n",
       "2         Gabriel Knight: Sins of the Fathers      1993        0   \n",
       "3      King's Quest VII: The Princeless Bride      1994        0   \n",
       "4                           Psychic Detective      1995        0   \n",
       "...                                       ...       ...      ...   \n",
       "16985                                Infernal      2007        0   \n",
       "16986                         Spiral Splatter      2017        0   \n",
       "16987  Alien: Covenant In Utero VR Experience      2017        0   \n",
       "16988              The Lego Movie 2 Videogame      2019        0   \n",
       "16989                           Pokémon Sword      2019        0   \n",
       "\n",
       "       averageRating  numVotes  game_id  best_fit_ratio  \\\n",
       "0                6.1      37.0      NaN            90.0   \n",
       "1                6.2     376.0      NaN            85.5   \n",
       "2                9.1     706.0   7821.0           100.0   \n",
       "3                7.6     206.0  10917.0           100.0   \n",
       "4                8.5      50.0      NaN            90.0   \n",
       "...              ...       ...      ...             ...   \n",
       "16985            6.0      17.0      NaN            90.0   \n",
       "16986            2.0      10.0      NaN            85.5   \n",
       "16987            6.2      17.0      NaN            90.0   \n",
       "16988            5.5     156.0  22035.0           100.0   \n",
       "16989            7.2     805.0      NaN            90.0   \n",
       "\n",
       "                                                  genres  \\\n",
       "0                      ['Adventure', 'Crime', 'Mystery']   \n",
       "1                     ['Adventure', 'Horror', 'Mystery']   \n",
       "2                       ['Adventure', 'Horror', 'Drama']   \n",
       "3                               ['Adventure', 'Fantasy']   \n",
       "4                    ['Adventure', 'Mystery', 'Fantasy']   \n",
       "...                                                  ...   \n",
       "16985                                         ['Action']   \n",
       "16986                                         ['Action']   \n",
       "16987                                         ['Sci-Fi']   \n",
       "16988  ['Animation', 'Adventure', 'Family', 'Action-A...   \n",
       "16989                 ['Adventure', 'Action', 'Fantasy']   \n",
       "\n",
       "                                              developers  \\\n",
       "0                                                    NaN   \n",
       "1                                                    NaN   \n",
       "2      ['Sierra', 'Phoenix Online Studios', 'Pinkerto...   \n",
       "3                                             ['Sierra']   \n",
       "4                                                    NaN   \n",
       "...                                                  ...   \n",
       "16985                                                NaN   \n",
       "16986                                                NaN   \n",
       "16987                                                NaN   \n",
       "16988                                       ['TT Games']   \n",
       "16989                                                NaN   \n",
       "\n",
       "                                               platforms  \\\n",
       "0                                                    NaN   \n",
       "1                                                    NaN   \n",
       "2             ['Mac', 'PC', 'iPhone', 'iPad', 'Android']   \n",
       "3                                          ['Mac', 'PC']   \n",
       "4                                                    NaN   \n",
       "...                                                  ...   \n",
       "16985                                                NaN   \n",
       "16986                                                NaN   \n",
       "16987                                                NaN   \n",
       "16988  ['PC', 'Xbox One', 'PlayStation 4', 'Nintendo ...   \n",
       "16989                                                NaN   \n",
       "\n",
       "                                publishers  \\\n",
       "0                                      NaN   \n",
       "1                                      NaN   \n",
       "2      ['Sierra', 'Pinkerton Road Studio']   \n",
       "3                               ['Sierra']   \n",
       "4                                      NaN   \n",
       "...                                    ...   \n",
       "16985                                  NaN   \n",
       "16986                                  NaN   \n",
       "16987                                  NaN   \n",
       "16988                         ['WB Games']   \n",
       "16989                                  NaN   \n",
       "\n",
       "                                    rating  \n",
       "0                                      NaN  \n",
       "1                                      NaN  \n",
       "2                              ['ESRB: T']  \n",
       "3      ['ESRB: E', 'ESRB: K-A', 'ESRB: T']  \n",
       "4                                      NaN  \n",
       "...                                    ...  \n",
       "16985                                  NaN  \n",
       "16986                                  NaN  \n",
       "16987                                  NaN  \n",
       "16988                                  NaN  \n",
       "16989                                  NaN  \n",
       "\n",
       "[16990 rows x 16 columns]"
      ]
     },
     "execution_count": 90,
     "metadata": {},
     "output_type": "execute_result"
    }
   ],
   "source": [
    "games"
   ]
  },
  {
   "cell_type": "code",
   "execution_count": 3,
   "metadata": {},
   "outputs": [
    {
     "data": {
      "text/html": [
       "<div>\n",
       "<style scoped>\n",
       "    .dataframe tbody tr th:only-of-type {\n",
       "        vertical-align: middle;\n",
       "    }\n",
       "\n",
       "    .dataframe tbody tr th {\n",
       "        vertical-align: top;\n",
       "    }\n",
       "\n",
       "    .dataframe thead th {\n",
       "        text-align: right;\n",
       "    }\n",
       "</style>\n",
       "<table border=\"1\" class=\"dataframe\">\n",
       "  <thead>\n",
       "    <tr style=\"text-align: right;\">\n",
       "      <th></th>\n",
       "      <th>franchise_name</th>\n",
       "      <th>franchise_id</th>\n",
       "      <th>tconst</th>\n",
       "      <th>titleType</th>\n",
       "      <th>primaryTitle</th>\n",
       "      <th>startYear</th>\n",
       "      <th>isAdult</th>\n",
       "      <th>averageRating</th>\n",
       "      <th>numVotes</th>\n",
       "      <th>game_id</th>\n",
       "      <th>best_fit_ratio</th>\n",
       "      <th>genres</th>\n",
       "      <th>developers</th>\n",
       "      <th>platforms</th>\n",
       "      <th>publishers</th>\n",
       "      <th>rating</th>\n",
       "    </tr>\n",
       "  </thead>\n",
       "  <tbody>\n",
       "    <tr>\n",
       "      <th>0</th>\n",
       "      <td>NaN</td>\n",
       "      <td>NaN</td>\n",
       "      <td>tt0084376</td>\n",
       "      <td>videoGame</td>\n",
       "      <td>MysteryDisc: Murder, Anyone?</td>\n",
       "      <td>1982</td>\n",
       "      <td>0</td>\n",
       "      <td>6.1</td>\n",
       "      <td>37.0</td>\n",
       "      <td>NaN</td>\n",
       "      <td>90.0</td>\n",
       "      <td>['Adventure', 'Crime', 'Mystery']</td>\n",
       "      <td>NaN</td>\n",
       "      <td>NaN</td>\n",
       "      <td>NaN</td>\n",
       "      <td>NaN</td>\n",
       "    </tr>\n",
       "    <tr>\n",
       "      <th>1</th>\n",
       "      <td>NaN</td>\n",
       "      <td>NaN</td>\n",
       "      <td>tt0105000</td>\n",
       "      <td>videoGame</td>\n",
       "      <td>Night Trap</td>\n",
       "      <td>1992</td>\n",
       "      <td>0</td>\n",
       "      <td>6.2</td>\n",
       "      <td>376.0</td>\n",
       "      <td>NaN</td>\n",
       "      <td>85.5</td>\n",
       "      <td>['Adventure', 'Horror', 'Mystery']</td>\n",
       "      <td>NaN</td>\n",
       "      <td>NaN</td>\n",
       "      <td>NaN</td>\n",
       "      <td>NaN</td>\n",
       "    </tr>\n",
       "    <tr>\n",
       "      <th>2</th>\n",
       "      <td>Gabriel Knight</td>\n",
       "      <td>3025-638</td>\n",
       "      <td>tt0109865</td>\n",
       "      <td>videoGame</td>\n",
       "      <td>Gabriel Knight: Sins of the Fathers</td>\n",
       "      <td>1993</td>\n",
       "      <td>0</td>\n",
       "      <td>9.1</td>\n",
       "      <td>706.0</td>\n",
       "      <td>7821.0</td>\n",
       "      <td>100.0</td>\n",
       "      <td>['Adventure', 'Horror', 'Drama']</td>\n",
       "      <td>['Sierra', 'Phoenix Online Studios', 'Pinkerto...</td>\n",
       "      <td>['Mac', 'PC', 'iPhone', 'iPad', 'Android']</td>\n",
       "      <td>['Sierra', 'Pinkerton Road Studio']</td>\n",
       "      <td>['ESRB: T']</td>\n",
       "    </tr>\n",
       "    <tr>\n",
       "      <th>3</th>\n",
       "      <td>King's Quest</td>\n",
       "      <td>3025-413</td>\n",
       "      <td>tt0110267</td>\n",
       "      <td>videoGame</td>\n",
       "      <td>King's Quest VII: The Princeless Bride</td>\n",
       "      <td>1994</td>\n",
       "      <td>0</td>\n",
       "      <td>7.6</td>\n",
       "      <td>206.0</td>\n",
       "      <td>10917.0</td>\n",
       "      <td>100.0</td>\n",
       "      <td>['Adventure', 'Fantasy']</td>\n",
       "      <td>['Sierra']</td>\n",
       "      <td>['Mac', 'PC']</td>\n",
       "      <td>['Sierra']</td>\n",
       "      <td>['ESRB: E', 'ESRB: K-A', 'ESRB: T']</td>\n",
       "    </tr>\n",
       "    <tr>\n",
       "      <th>4</th>\n",
       "      <td>NaN</td>\n",
       "      <td>NaN</td>\n",
       "      <td>tt0110909</td>\n",
       "      <td>videoGame</td>\n",
       "      <td>Psychic Detective</td>\n",
       "      <td>1995</td>\n",
       "      <td>0</td>\n",
       "      <td>8.5</td>\n",
       "      <td>50.0</td>\n",
       "      <td>NaN</td>\n",
       "      <td>90.0</td>\n",
       "      <td>['Adventure', 'Mystery', 'Fantasy']</td>\n",
       "      <td>NaN</td>\n",
       "      <td>NaN</td>\n",
       "      <td>NaN</td>\n",
       "      <td>NaN</td>\n",
       "    </tr>\n",
       "    <tr>\n",
       "      <th>...</th>\n",
       "      <td>...</td>\n",
       "      <td>...</td>\n",
       "      <td>...</td>\n",
       "      <td>...</td>\n",
       "      <td>...</td>\n",
       "      <td>...</td>\n",
       "      <td>...</td>\n",
       "      <td>...</td>\n",
       "      <td>...</td>\n",
       "      <td>...</td>\n",
       "      <td>...</td>\n",
       "      <td>...</td>\n",
       "      <td>...</td>\n",
       "      <td>...</td>\n",
       "      <td>...</td>\n",
       "      <td>...</td>\n",
       "    </tr>\n",
       "    <tr>\n",
       "      <th>16985</th>\n",
       "      <td>NaN</td>\n",
       "      <td>NaN</td>\n",
       "      <td>tt9888864</td>\n",
       "      <td>videoGame</td>\n",
       "      <td>Infernal</td>\n",
       "      <td>2007</td>\n",
       "      <td>0</td>\n",
       "      <td>6.0</td>\n",
       "      <td>17.0</td>\n",
       "      <td>NaN</td>\n",
       "      <td>90.0</td>\n",
       "      <td>['Action']</td>\n",
       "      <td>NaN</td>\n",
       "      <td>NaN</td>\n",
       "      <td>NaN</td>\n",
       "      <td>NaN</td>\n",
       "    </tr>\n",
       "    <tr>\n",
       "      <th>16986</th>\n",
       "      <td>NaN</td>\n",
       "      <td>NaN</td>\n",
       "      <td>tt9892552</td>\n",
       "      <td>videoGame</td>\n",
       "      <td>Spiral Splatter</td>\n",
       "      <td>2017</td>\n",
       "      <td>0</td>\n",
       "      <td>2.0</td>\n",
       "      <td>10.0</td>\n",
       "      <td>NaN</td>\n",
       "      <td>85.5</td>\n",
       "      <td>['Action']</td>\n",
       "      <td>NaN</td>\n",
       "      <td>NaN</td>\n",
       "      <td>NaN</td>\n",
       "      <td>NaN</td>\n",
       "    </tr>\n",
       "    <tr>\n",
       "      <th>16987</th>\n",
       "      <td>NaN</td>\n",
       "      <td>NaN</td>\n",
       "      <td>tt9893348</td>\n",
       "      <td>videoGame</td>\n",
       "      <td>Alien: Covenant In Utero VR Experience</td>\n",
       "      <td>2017</td>\n",
       "      <td>0</td>\n",
       "      <td>6.2</td>\n",
       "      <td>17.0</td>\n",
       "      <td>NaN</td>\n",
       "      <td>90.0</td>\n",
       "      <td>['Sci-Fi']</td>\n",
       "      <td>NaN</td>\n",
       "      <td>NaN</td>\n",
       "      <td>NaN</td>\n",
       "      <td>NaN</td>\n",
       "    </tr>\n",
       "    <tr>\n",
       "      <th>16988</th>\n",
       "      <td>LEGO</td>\n",
       "      <td>3025-448</td>\n",
       "      <td>tt9893804</td>\n",
       "      <td>videoGame</td>\n",
       "      <td>The Lego Movie 2 Videogame</td>\n",
       "      <td>2019</td>\n",
       "      <td>0</td>\n",
       "      <td>5.5</td>\n",
       "      <td>156.0</td>\n",
       "      <td>22035.0</td>\n",
       "      <td>100.0</td>\n",
       "      <td>['Animation', 'Adventure', 'Family', 'Action-A...</td>\n",
       "      <td>['TT Games']</td>\n",
       "      <td>['PC', 'Xbox One', 'PlayStation 4', 'Nintendo ...</td>\n",
       "      <td>['WB Games']</td>\n",
       "      <td>NaN</td>\n",
       "    </tr>\n",
       "    <tr>\n",
       "      <th>16989</th>\n",
       "      <td>NaN</td>\n",
       "      <td>NaN</td>\n",
       "      <td>tt9910948</td>\n",
       "      <td>videoGame</td>\n",
       "      <td>Pokémon Sword</td>\n",
       "      <td>2019</td>\n",
       "      <td>0</td>\n",
       "      <td>7.2</td>\n",
       "      <td>805.0</td>\n",
       "      <td>NaN</td>\n",
       "      <td>90.0</td>\n",
       "      <td>['Adventure', 'Action', 'Fantasy']</td>\n",
       "      <td>NaN</td>\n",
       "      <td>NaN</td>\n",
       "      <td>NaN</td>\n",
       "      <td>NaN</td>\n",
       "    </tr>\n",
       "  </tbody>\n",
       "</table>\n",
       "<p>16990 rows × 16 columns</p>\n",
       "</div>"
      ],
      "text/plain": [
       "       franchise_name franchise_id     tconst  titleType  \\\n",
       "0                 NaN          NaN  tt0084376  videoGame   \n",
       "1                 NaN          NaN  tt0105000  videoGame   \n",
       "2      Gabriel Knight     3025-638  tt0109865  videoGame   \n",
       "3        King's Quest     3025-413  tt0110267  videoGame   \n",
       "4                 NaN          NaN  tt0110909  videoGame   \n",
       "...               ...          ...        ...        ...   \n",
       "16985             NaN          NaN  tt9888864  videoGame   \n",
       "16986             NaN          NaN  tt9892552  videoGame   \n",
       "16987             NaN          NaN  tt9893348  videoGame   \n",
       "16988            LEGO     3025-448  tt9893804  videoGame   \n",
       "16989             NaN          NaN  tt9910948  videoGame   \n",
       "\n",
       "                                 primaryTitle startYear  isAdult  \\\n",
       "0                MysteryDisc: Murder, Anyone?      1982        0   \n",
       "1                                  Night Trap      1992        0   \n",
       "2         Gabriel Knight: Sins of the Fathers      1993        0   \n",
       "3      King's Quest VII: The Princeless Bride      1994        0   \n",
       "4                           Psychic Detective      1995        0   \n",
       "...                                       ...       ...      ...   \n",
       "16985                                Infernal      2007        0   \n",
       "16986                         Spiral Splatter      2017        0   \n",
       "16987  Alien: Covenant In Utero VR Experience      2017        0   \n",
       "16988              The Lego Movie 2 Videogame      2019        0   \n",
       "16989                           Pokémon Sword      2019        0   \n",
       "\n",
       "       averageRating  numVotes  game_id  best_fit_ratio  \\\n",
       "0                6.1      37.0      NaN            90.0   \n",
       "1                6.2     376.0      NaN            85.5   \n",
       "2                9.1     706.0   7821.0           100.0   \n",
       "3                7.6     206.0  10917.0           100.0   \n",
       "4                8.5      50.0      NaN            90.0   \n",
       "...              ...       ...      ...             ...   \n",
       "16985            6.0      17.0      NaN            90.0   \n",
       "16986            2.0      10.0      NaN            85.5   \n",
       "16987            6.2      17.0      NaN            90.0   \n",
       "16988            5.5     156.0  22035.0           100.0   \n",
       "16989            7.2     805.0      NaN            90.0   \n",
       "\n",
       "                                                  genres  \\\n",
       "0                      ['Adventure', 'Crime', 'Mystery']   \n",
       "1                     ['Adventure', 'Horror', 'Mystery']   \n",
       "2                       ['Adventure', 'Horror', 'Drama']   \n",
       "3                               ['Adventure', 'Fantasy']   \n",
       "4                    ['Adventure', 'Mystery', 'Fantasy']   \n",
       "...                                                  ...   \n",
       "16985                                         ['Action']   \n",
       "16986                                         ['Action']   \n",
       "16987                                         ['Sci-Fi']   \n",
       "16988  ['Animation', 'Adventure', 'Family', 'Action-A...   \n",
       "16989                 ['Adventure', 'Action', 'Fantasy']   \n",
       "\n",
       "                                              developers  \\\n",
       "0                                                    NaN   \n",
       "1                                                    NaN   \n",
       "2      ['Sierra', 'Phoenix Online Studios', 'Pinkerto...   \n",
       "3                                             ['Sierra']   \n",
       "4                                                    NaN   \n",
       "...                                                  ...   \n",
       "16985                                                NaN   \n",
       "16986                                                NaN   \n",
       "16987                                                NaN   \n",
       "16988                                       ['TT Games']   \n",
       "16989                                                NaN   \n",
       "\n",
       "                                               platforms  \\\n",
       "0                                                    NaN   \n",
       "1                                                    NaN   \n",
       "2             ['Mac', 'PC', 'iPhone', 'iPad', 'Android']   \n",
       "3                                          ['Mac', 'PC']   \n",
       "4                                                    NaN   \n",
       "...                                                  ...   \n",
       "16985                                                NaN   \n",
       "16986                                                NaN   \n",
       "16987                                                NaN   \n",
       "16988  ['PC', 'Xbox One', 'PlayStation 4', 'Nintendo ...   \n",
       "16989                                                NaN   \n",
       "\n",
       "                                publishers  \\\n",
       "0                                      NaN   \n",
       "1                                      NaN   \n",
       "2      ['Sierra', 'Pinkerton Road Studio']   \n",
       "3                               ['Sierra']   \n",
       "4                                      NaN   \n",
       "...                                    ...   \n",
       "16985                                  NaN   \n",
       "16986                                  NaN   \n",
       "16987                                  NaN   \n",
       "16988                         ['WB Games']   \n",
       "16989                                  NaN   \n",
       "\n",
       "                                    rating  \n",
       "0                                      NaN  \n",
       "1                                      NaN  \n",
       "2                              ['ESRB: T']  \n",
       "3      ['ESRB: E', 'ESRB: K-A', 'ESRB: T']  \n",
       "4                                      NaN  \n",
       "...                                    ...  \n",
       "16985                                  NaN  \n",
       "16986                                  NaN  \n",
       "16987                                  NaN  \n",
       "16988                                  NaN  \n",
       "16989                                  NaN  \n",
       "\n",
       "[16990 rows x 16 columns]"
      ]
     },
     "execution_count": 3,
     "metadata": {},
     "output_type": "execute_result"
    }
   ],
   "source": [
    "games"
   ]
  },
  {
   "cell_type": "code",
   "execution_count": null,
   "metadata": {},
   "outputs": [],
   "source": [
    "Get total number of franchises and how many games in each franchise"
   ]
  },
  {
   "cell_type": "code",
   "execution_count": null,
   "metadata": {},
   "outputs": [],
   "source": [
    "plt.plot(x, y1, label='Line 1')\n",
    "plt.plot(x, y2, label='Line 2')"
   ]
  },
  {
   "cell_type": "code",
   "execution_count": 49,
   "metadata": {},
   "outputs": [
    {
     "data": {
      "text/plain": [
       "<AxesSubplot:>"
      ]
     },
     "execution_count": 49,
     "metadata": {},
     "output_type": "execute_result"
    },
    {
     "data": {
      "image/png": "[encoded data removed]",
      "text/plain": [
       "<Figure size 432x288 with 1 Axes>"
      ]
     },
     "metadata": {
      "needs_background": "light"
     },
     "output_type": "display_data"
    }
   ],
   "source": [
    "games.groupby(\"franchise_id\")[\"game_id\"].count().value_counts().hist(bins = 100)"
   ]
  },
  {
   "cell_type": "code",
   "execution_count": 28,
   "metadata": {
    "scrolled": true
   },
   "outputs": [
    {
     "data": {
      "text/plain": [
       "2073"
      ]
     },
     "execution_count": 28,
     "metadata": {},
     "output_type": "execute_result"
    }
   ],
   "source": [
    "games.franchise_id.nunique()"
   ]
  },
  {
   "cell_type": "code",
   "execution_count": 50,
   "metadata": {},
   "outputs": [],
   "source": [
    "franchise_counts = games.groupby('franchise_id')['game_id'].count()\n",
    "single_game_franchises = franchise_counts[franchise_counts <= 2].index\n",
    "result = games.loc[~games['franchise_id'].isin(single_game_franchises)]\n"
   ]
  },
  {
   "cell_type": "code",
   "execution_count": 88,
   "metadata": {},
   "outputs": [
    {
     "name": "stdout",
     "output_type": "stream",
     "text": [
      "7874\n"
     ]
    }
   ],
   "source": [
    "total = 0\n",
    "for x in movies_counts:\n",
    "    total += x\n",
    "print(total)"
   ]
  },
  {
   "cell_type": "code",
   "execution_count": 89,
   "metadata": {},
   "outputs": [
    {
     "name": "stdout",
     "output_type": "stream",
     "text": [
      "11209\n"
     ]
    }
   ],
   "source": [
    "total = 0\n",
    "for x in games_counts:\n",
    "    total += x\n",
    "print(total)"
   ]
  },
  {
   "cell_type": "code",
   "execution_count": 86,
   "metadata": {},
   "outputs": [
    {
     "name": "stdout",
     "output_type": "stream",
     "text": [
      "[0, 0, 0, 0, 0, 4, 5, 2, 3, 6, 3, 5, 7, 2, 10, 4, 12, 19, 15, 20, 15, 25, 21, 26, 25, 42, 39, 67, 41, 54, 56, 62, 81, 93, 90, 104, 117, 92, 117, 112, 123, 138, 187, 199, 200, 200, 256, 249, 292, 258, 294, 296, 353, 317, 306, 319, 290, 232, 255, 203, 212, 168, 207, 159, 128, 109, 94, 72, 69, 61, 38, 46, 29, 17, 22, 11, 17, 12, 13, 6, 5, 4, 6, 2, 1, 1, 2, 0, 0, 0, 0]\n"
     ]
    }
   ],
   "source": [
    "print(list(movies_counts))"
   ]
  },
  {
   "cell_type": "code",
   "execution_count": 85,
   "metadata": {
    "scrolled": true
   },
   "outputs": [
    {
     "name": "stdout",
     "output_type": "stream",
     "text": [
      "[0, 0, 2, 1, 2, 1, 2, 5, 3, 2, 1, 8, 4, 4, 4, 3, 8, 2, 9, 11, 13, 10, 14, 12, 19, 15, 10, 24, 16, 24, 27, 40, 21, 44, 39, 50, 33, 46, 25, 64, 61, 115, 107, 108, 135, 123, 150, 179, 137, 192, 212, 267, 271, 302, 279, 331, 298, 384, 343, 420, 448, 439, 444, 496, 451, 462, 420, 453, 381, 342, 302, 307, 265, 186, 193, 143, 74, 89, 57, 66, 48, 42, 16, 25, 19, 4, 4, 1]\n"
     ]
    }
   ],
   "source": [
    "print(list(games_counts))"
   ]
  },
  {
   "cell_type": "code",
   "execution_count": 79,
   "metadata": {},
   "outputs": [
    {
     "data": {
      "image/png": "[encoded data removed]",
      "text/plain": [
       "<Figure size 432x288 with 1 Axes>"
      ]
     },
     "metadata": {
      "needs_background": "light"
     },
     "output_type": "display_data"
    }
   ],
   "source": [
    "\n",
    "# group by averageRating and count the number of franchise_ids for games and movies\n",
    "games_counts = games.groupby(\"averageRating\")[\"franchise_id\"].count()\n",
    "movies_counts = movies.groupby(\"averageRating\")[\"franchise_id\"].count()\n",
    "\n",
    "# plot the counts for games and movies on the same graph\n",
    "plt.plot(games_counts.index, games_counts.values, label='Games')\n",
    "plt.plot(movies_counts.index, movies_counts.values, label='Movies')\n",
    "\n",
    "# add a legend, title, and axis labels\n",
    "plt.legend()\n",
    "plt.title('Franchise Counts by Average Rating')\n",
    "plt.xlabel('Average Rating')\n",
    "plt.ylabel('Franchise Count')\n",
    "\n",
    "# show the plot\n",
    "plt.show()\n"
   ]
  },
  {
   "cell_type": "code",
   "execution_count": 77,
   "metadata": {},
   "outputs": [
    {
     "data": {
      "image/png": "[encoded data removed]",
      "text/plain": [
       "<Figure size 432x288 with 1 Axes>"
      ]
     },
     "metadata": {
      "needs_background": "light"
     },
     "output_type": "display_data"
    }
   ],
   "source": [
    "\n",
    "# group by number of votes and count the number of franchise_ids for games and movies\n",
    "games_counts = games.groupby(\"numVotes\")[\"franchise_id\"].count()\n",
    "movies_counts = movies.groupby(\"numVotes\")[\"franchise_id\"].count()\n",
    "\n",
    "# plot the counts for games and movies on the same graph\n",
    "plt.plot(games_counts.index, games_counts.values, label='Games')\n",
    "plt.plot(movies_counts.index, movies_counts.values, label='Movies')\n",
    "\n",
    "# add a legend, title, and axis labels\n",
    "plt.legend()\n",
    "plt.title('Franchise Counts by Number of Votes')\n",
    "plt.xlabel('Number of Votes')\n",
    "plt.ylabel('Franchise Count')\n",
    "\n",
    "# show the plot\n",
    "plt.show()"
   ]
  },
  {
   "cell_type": "code",
   "execution_count": 66,
   "metadata": {
    "scrolled": true
   },
   "outputs": [
    {
     "data": {
      "text/plain": [
       "<AxesSubplot:xlabel='averageRating'>"
      ]
     },
     "execution_count": 66,
     "metadata": {},
     "output_type": "execute_result"
    },
    {
     "data": {
      "image/png": "[encoded data removed]",
      "text/plain": [
       "<Figure size 432x288 with 1 Axes>"
      ]
     },
     "metadata": {
      "needs_background": "light"
     },
     "output_type": "display_data"
    }
   ],
   "source": [
    "games.groupby(\"averageRating\")[\"franchise_id\"].count().plot()"
   ]
  },
  {
   "cell_type": "code",
   "execution_count": 72,
   "metadata": {},
   "outputs": [
    {
     "data": {
      "text/plain": [
       "<AxesSubplot:xlabel='averageRating'>"
      ]
     },
     "execution_count": 72,
     "metadata": {},
     "output_type": "execute_result"
    },
    {
     "data": {
      "image/png": "[encoded data removed]",
      "text/plain": [
       "<Figure size 432x288 with 1 Axes>"
      ]
     },
     "metadata": {
      "needs_background": "light"
     },
     "output_type": "display_data"
    }
   ],
   "source": [
    "movies.groupby(\"averageRating\")[\"franchise_id\"].count().plot()"
   ]
  },
  {
   "cell_type": "code",
   "execution_count": 58,
   "metadata": {
    "scrolled": true
   },
   "outputs": [
    {
     "data": {
      "text/plain": [
       "<AxesSubplot:>"
      ]
     },
     "execution_count": 58,
     "metadata": {},
     "output_type": "execute_result"
    },
    {
     "data": {
      "image/png": "[encoded data removed]",
      "text/plain": [
       "<Figure size 432x288 with 1 Axes>"
      ]
     },
     "metadata": {
      "needs_background": "light"
     },
     "output_type": "display_data"
    }
   ],
   "source": [
    "result.groupby(\"averageRating\")[\"game_id\"].count().value_counts().plot()"
   ]
  },
  {
   "cell_type": "code",
   "execution_count": 53,
   "metadata": {
    "scrolled": false
   },
   "outputs": [
    {
     "data": {
      "text/plain": [
       "<AxesSubplot:>"
      ]
     },
     "execution_count": 53,
     "metadata": {},
     "output_type": "execute_result"
    },
    {
     "data": {
      "image/png": "[encoded data removed]",
      "text/plain": [
       "<Figure size 432x288 with 1 Axes>"
      ]
     },
     "metadata": {
      "needs_background": "light"
     },
     "output_type": "display_data"
    }
   ],
   "source": [
    "result.groupby(\"franchise_id\")[\"franchise_id\"].count().value_counts().hist(bins = 100)"
   ]
  }
 ],
 "metadata": {
  "kernelspec": {
   "display_name": "Python 3",
   "language": "python",
   "name": "python3"
  },
  "language_info": {
   "codemirror_mode": {
    "name": "ipython",
    "version": 3
   },
   "file_extension": ".py",
   "mimetype": "text/x-python",
   "name": "python",
   "nbconvert_exporter": "python",
   "pygments_lexer": "ipython3",
   "version": "3.8.5"
  }
 },
 "nbformat": 4,
 "nbformat_minor": 4
}
